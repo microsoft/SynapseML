{
 "cells": [
  {
   "cell_type": "code",
   "execution_count": null,
   "id": "db8317ae",
   "metadata": {},
   "outputs": [],
   "source": [
    "import importlib\n",
    "from importlib import reload\n",
    "import ado_commits\n",
    "import github_commits\n",
    "import gen_note\n",
    "reload(ado_commits)\n",
    "reload(github_commits)\n",
    "reload(gen_note)"
   ]
  },
  {
   "cell_type": "code",
   "execution_count": null,
   "id": "06339a71",
   "metadata": {},
   "outputs": [],
   "source": [
    "import argparse\n",
    "import json\n",
    "from concurrent.futures import ThreadPoolExecutor\n",
    "from datetime import date, datetime\n",
    "from typing import Any\n",
    "\n",
    "from ado_commits import get_commits_info_for_ids as get_commits_info_for_ids\n",
    "from github_commits import get_commit_info as get_github_commit_info\n",
    "from gen_note import generate_release_note\n",
    "\n",
    "def _sanitize_for_json(obj: Any) -> Any:\n",
    "\tif isinstance(obj, (datetime, date)):\n",
    "\t\treturn obj.isoformat()\n",
    "\tif isinstance(obj, dict):\n",
    "\t\treturn {key: _sanitize_for_json(value) for key, value in obj.items()}\n",
    "\tif isinstance(obj, (list, tuple, set)):\n",
    "\t\treturn [_sanitize_for_json(item) for item in obj]\n",
    "\tif hasattr(obj, \"__dict__\"):\n",
    "\t\tpublic_attrs = {\n",
    "\t\t\tkey: value\n",
    "\t\t\tfor key, value in obj.__dict__.items()\n",
    "\t\t\tif not key.startswith(\"_\")\n",
    "\t\t}\n",
    "\t\tif public_attrs:\n",
    "\t\t\treturn _sanitize_for_json(public_attrs)\n",
    "\treturn obj\n",
    "\n",
    "parser = argparse.ArgumentParser(\n",
    "    description=\"Fetch Azure DevOps commit + PR data between two commits (inclusive).\",\n",
    ")\n",
    "\n"
   ]
  },
  {
   "cell_type": "code",
   "execution_count": null,
   "id": "e813b622",
   "metadata": {},
   "outputs": [],
   "source": [
    "ado_commits = []\n",
    "github_commits = []\n",
    "\n",
    "# generate ado.txt & githubt.txt from e.g. `git v1.0.0..master --format=\"%H\" > github.txt`\n",
    "with open('in/ado.txt') as ado_commit_file:\n",
    "    ado_commits += ado_commit_file.read().splitlines()\n",
    "\n",
    "with open('in/github.txt') as github_commit_file:\n",
    "    github_commits += github_commit_file.read().splitlines()\n",
    "\n",
    "print(len(ado_commits))\n",
    "print(len(github_commits))"
   ]
  },
  {
   "cell_type": "code",
   "execution_count": null,
   "id": "903968de",
   "metadata": {},
   "outputs": [],
   "source": [
    "ado_commit_infos = get_commits_info_for_ids(ado_commits[:2], max_parallel=12)\n",
    "github_commit_infos = get_github_commit_info(github_commits[:2], max_parallel=12)\n",
    "commit_infos = ado_commit_infos + github_commit_infos\n",
    "payloads = [json.dumps(_sanitize_for_json(info), ensure_ascii=False, indent=2) for info in commit_infos]\n",
    "with open(\"out/release_notes_1.1_payloads.json\", \"w\", encoding=\"utf-8\") as f:\n",
    "\tf.write(\"[\\n\")\n",
    "\tf.write(\",\\n\".join(payloads))\n",
    "\tf.write(\"\\n]\\n\")"
   ]
  },
  {
   "cell_type": "code",
   "execution_count": null,
   "id": "a452a9cf",
   "metadata": {},
   "outputs": [],
   "source": [
    "notes = []\n",
    "with ThreadPoolExecutor(max_workers=12 or len(payloads) or 1) as pool:\n",
    "    release_notes = list(pool.map(generate_release_note, payloads))\n",
    "for release_note in release_notes:\n",
    "    notes.append(json.dumps(release_note, ensure_ascii=False))\n",
    "notes\n"
   ]
  },
  {
   "cell_type": "code",
   "execution_count": null,
   "id": "6fcd61b2",
   "metadata": {},
   "outputs": [],
   "source": [
    "dict_notes = [json.loads(note) for note in notes]\n",
    "sorted_notes = sorted(dict_notes, key=lambda x: datetime.fromisoformat(x['merged_at']), reverse=True)"
   ]
  },
  {
   "cell_type": "code",
   "execution_count": null,
   "id": "78da1587",
   "metadata": {},
   "outputs": [],
   "source": [
    "sorted_notes"
   ]
  },
  {
   "cell_type": "code",
   "execution_count": null,
   "id": "a075cf38",
   "metadata": {},
   "outputs": [],
   "source": [
    "\n",
    "working_notes = sorted_notes.copy()\n",
    "for note in working_notes:\n",
    "    PR_LINK = \"\"\n",
    "    if note['pr_number'] is not None:\n",
    "        if \"Internal\" in note['repo_name']:\n",
    "            PR_LINK = f\"https://msdata.visualstudio.com/A365/_git/SynapseML-Internal/pullrequest/{note['pr_number']}\"\n",
    "        else:\n",
    "            PR_LINK = f\"https://github.com/microsoft/SynapseML/pull/{note['pr_number']}\"\n",
    "    print(note['ONELINE'])\n",
    "    if len(note['ONELINE'].split(' - ')) > 1:\n",
    "        ONELINE = f\"${note['ONELINE'].split(' - ')[1]}\"\n",
    "    ONELINE = ONELINE.split(\"[#\")[0].strip()\n",
    "    ONELINE = f\"{ONELINE} [#{note['pr_number']}]({PR_LINK})\"\n",
    "    note['ONELINE'] = ONELINE\n",
    "    print(note['ONELINE'])\n",
    "    print(note['pr_title'])\n",
    "    print()\n",
    "\n",
    "with open(\"out/release_notes_1.1_commits.json\", \"w\", encoding=\"utf-8\") as f:\n",
    "    f.write(json.dumps(sorted_notes, ensure_ascii=False, indent=2))\n",
    "\n",
    "with open(\"out/release_notes_1.1_one_liners.txt\", \"w\", encoding=\"utf-8\") as f:\n",
    "    f.writelines([note['ONELINE'] for note in working_notes])"
   ]
  }
 ],
 "metadata": {
  "kernelspec": {
   "display_name": "Python 3",
   "language": "python",
   "name": "python3"
  },
  "language_info": {
   "codemirror_mode": {
    "name": "ipython",
    "version": 3
   },
   "file_extension": ".py",
   "mimetype": "text/x-python",
   "name": "python",
   "nbconvert_exporter": "python",
   "pygments_lexer": "ipython3",
   "version": "3.10.18"
  }
 },
 "nbformat": 4,
 "nbformat_minor": 5
}
