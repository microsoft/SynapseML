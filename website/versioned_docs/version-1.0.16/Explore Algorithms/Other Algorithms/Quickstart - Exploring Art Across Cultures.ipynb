{
 "cells": [
  {
   "attachments": {},
   "cell_type": "markdown",
   "metadata": {},
   "source": [
    "# Exploring Art across Culture and Medium with Fast, Conditional, k-Nearest Neighbors\n",
    "\n",
    "This article serves as a guideline for match-finding via k-nearest-neighbors. You set up code that allows queries involving cultures and mediums of art amassed from the Metropolitan Museum of Art in NYC and the Rijksmuseum in Amsterdam."
   ]
  },
  {
   "attachments": {},
   "cell_type": "markdown",
   "metadata": {
    "tags": [
     "hide-synapse-internal"
    ]
   },
   "source": [
    "<img src=\"https://mmlspark.blob.core.windows.net/graphics/art/cross_cultural_matches.jpg\"  width=\"600\"/>"
   ]
  },
  {
   "cell_type": "markdown",
   "source": [
    "## Overview of the BallTree\n",
    "The structure functioning behind the KNN model is a BallTree, which is a recursive binary tree where each node (or \"ball\") contains a partition of the points of data to be queried. Building a BallTree involves assigning data points to the \"ball\" whose center they're closest to (with respect to a certain specified feature), resulting in a structure that allows binary-tree-like traversal and lends itself to finding k-nearest neighbors at a BallTree leaf."
   ],
   "metadata": {
    "collapsed": false
   }
  },
  {
   "attachments": {},
   "cell_type": "markdown",
   "metadata": {},
   "source": [
    "## Setup\n",
    "Import necessary Python libraries and prepare dataset."
   ]
  },
  {
   "cell_type": "code",
   "execution_count": 4,
   "metadata": {},
   "outputs": [],
   "source": [
    "from pyspark.sql.types import BooleanType\n",
    "from pyspark.sql.types import *\n",
    "from pyspark.sql.functions import lit, array, array_contains, udf, col, struct\n",
    "from synapse.ml.nn import ConditionalKNN, ConditionalKNNModel\n",
    "from PIL import Image\n",
    "from io import BytesIO\n",
    "import requests\n",
    "import numpy as np\n",
    "import matplotlib.pyplot as plt"
   ]
  },
  {
   "attachments": {},
   "cell_type": "markdown",
   "metadata": {},
   "source": [
    "Our dataset comes from a table containing artwork information from both the Met and Rijks museums. The schema is as follows:\n",
    "\n",
    "- **id**: A unique identifier for a piece of art\n",
    "  - Sample Met id: *388395* \n",
    "  - Sample Rijks id: *SK-A-2344* \n",
    "- **Title**: Art piece title, as written in the museum's database\n",
    "- **Artist**: Art piece artist, as written in the museum's database\n",
    "- **Thumbnail_Url**: Location of a JPEG thumbnail of the art piece\n",
    "- **Image_Url** Location of an image of the art piece hosted on the Met/Rijks website\n",
    "- **Culture**: Category of culture that the art piece falls under\n",
    "  - Sample culture categories: *latin american*, *egyptian*, etc.\n",
    "- **Classification**: Category of medium that the art piece falls under\n",
    "  - Sample medium categories: *woodwork*, *paintings*, etc.\n",
    "- **Museum_Page**: Link to the work of art on the Met/Rijks website\n",
    "- **Norm_Features**: Embedding of the art piece image\n",
    "- **Museum**: Specifies which museum the piece originated from"
   ]
  },
  {
   "cell_type": "code",
   "execution_count": 6,
   "metadata": {},
   "outputs": [],
   "source": [
    "# loads the dataset and the two trained CKNN models for querying by medium and culture\n",
    "df = spark.read.parquet(\n",
    "    \"wasbs://publicwasb@mmlspark.blob.core.windows.net/met_and_rijks.parquet\"\n",
    ")\n",
    "display(df.drop(\"Norm_Features\"))"
   ]
  },
  {
   "attachments": {},
   "cell_type": "markdown",
   "metadata": {},
   "source": [
    "## Define categories to be queried on\n",
    "Two KNN models are used: one for culture, and one for medium."
   ]
  },
  {
   "cell_type": "code",
   "execution_count": 8,
   "metadata": {},
   "outputs": [],
   "source": [
    "# mediums = ['prints', 'drawings', 'ceramics', 'textiles', 'paintings', \"musical instruments\",\"glass\", 'accessories', 'photographs',  \"metalwork\",\n",
    "#           \"sculptures\", \"weapons\", \"stone\", \"precious\", \"paper\", \"woodwork\", \"leatherwork\", \"uncategorized\"]\n",
    "\n",
    "mediums = [\"paintings\", \"glass\", \"ceramics\"]\n",
    "\n",
    "# cultures = ['african (general)', 'american', 'ancient american', 'ancient asian', 'ancient european', 'ancient middle-eastern', 'asian (general)',\n",
    "#            'austrian', 'belgian', 'british', 'chinese', 'czech', 'dutch', 'egyptian']#, 'european (general)', 'french', 'german', 'greek',\n",
    "#            'iranian', 'italian', 'japanese', 'latin american', 'middle eastern', 'roman', 'russian', 'south asian', 'southeast asian',\n",
    "#            'spanish', 'swiss', 'various']\n",
    "\n",
    "cultures = [\"japanese\", \"american\", \"african (general)\"]\n",
    "\n",
    "# Uncomment the above for more robust and large scale searches!\n",
    "\n",
    "classes = cultures + mediums\n",
    "\n",
    "medium_set = set(mediums)\n",
    "culture_set = set(cultures)\n",
    "selected_ids = {\"AK-RBK-17525-2\", \"AK-MAK-1204\", \"AK-RAK-2015-2-9\"}\n",
    "\n",
    "small_df = df.where(\n",
    "    udf(\n",
    "        lambda medium, culture, id_val: (medium in medium_set)\n",
    "        or (culture in culture_set)\n",
    "        or (id_val in selected_ids),\n",
    "        BooleanType(),\n",
    "    )(\"Classification\", \"Culture\", \"id\")\n",
    ")\n",
    "\n",
    "small_df.count()"
   ]
  },
  {
   "attachments": {},
   "cell_type": "markdown",
   "metadata": {},
   "source": [
    "## Define and fit ConditionalKNN models\n",
    "Create ConditionalKNN models for both the medium and culture columns; each model takes in an output column, features column (feature vector), values column (cell values under the output column), and label column (the quality that the respective KNN is conditioned on)."
   ]
  },
  {
   "cell_type": "code",
   "execution_count": 10,
   "metadata": {},
   "outputs": [],
   "source": [
    "medium_cknn = (\n",
    "    ConditionalKNN()\n",
    "    .setOutputCol(\"Matches\")\n",
    "    .setFeaturesCol(\"Norm_Features\")\n",
    "    .setValuesCol(\"Thumbnail_Url\")\n",
    "    .setLabelCol(\"Classification\")\n",
    "    .fit(small_df)\n",
    ")"
   ]
  },
  {
   "cell_type": "code",
   "execution_count": 11,
   "metadata": {},
   "outputs": [],
   "source": [
    "culture_cknn = (\n",
    "    ConditionalKNN()\n",
    "    .setOutputCol(\"Matches\")\n",
    "    .setFeaturesCol(\"Norm_Features\")\n",
    "    .setValuesCol(\"Thumbnail_Url\")\n",
    "    .setLabelCol(\"Culture\")\n",
    "    .fit(small_df)\n",
    ")"
   ]
  },
  {
   "attachments": {},
   "cell_type": "markdown",
   "metadata": {},
   "source": [
    "## Define matching and visualizing methods\n",
    "\n",
    "After the initial dataset and category setup, prepare methods that will query and visualize the conditional KNN's results.\n",
    "\n",
    "`addMatches()` creates a Dataframe with a handful of matches per category."
   ]
  },
  {
   "cell_type": "code",
   "execution_count": 13,
   "metadata": {},
   "outputs": [],
   "source": [
    "def add_matches(classes, cknn, df):\n",
    "    results = df\n",
    "    for label in classes:\n",
    "        results = cknn.transform(\n",
    "            results.withColumn(\"conditioner\", array(lit(label)))\n",
    "        ).withColumnRenamed(\"Matches\", \"Matches_{}\".format(label))\n",
    "    return results"
   ]
  },
  {
   "attachments": {},
   "cell_type": "markdown",
   "metadata": {},
   "source": [
    "`plot_urls()` calls `plot_img` to visualize top matches for each category into a grid."
   ]
  },
  {
   "cell_type": "code",
   "execution_count": 15,
   "metadata": {},
   "outputs": [],
   "source": [
    "def plot_img(axis, url, title):\n",
    "    try:\n",
    "        response = requests.get(url)\n",
    "        img = Image.open(BytesIO(response.content)).convert(\"RGB\")\n",
    "        axis.imshow(img, aspect=\"equal\")\n",
    "    except:\n",
    "        pass\n",
    "    if title is not None:\n",
    "        axis.set_title(title, fontsize=4)\n",
    "    axis.axis(\"off\")\n",
    "\n",
    "\n",
    "def plot_urls(url_arr, titles, filename):\n",
    "    nx, ny = url_arr.shape\n",
    "\n",
    "    plt.figure(figsize=(nx * 5, ny * 5), dpi=1600)\n",
    "    fig, axes = plt.subplots(ny, nx)\n",
    "\n",
    "    # reshape required in the case of 1 image query\n",
    "    if len(axes.shape) == 1:\n",
    "        axes = axes.reshape(1, -1)\n",
    "\n",
    "    for i in range(nx):\n",
    "        for j in range(ny):\n",
    "            if j == 0:\n",
    "                plot_img(axes[j, i], url_arr[i, j], titles[i])\n",
    "            else:\n",
    "                plot_img(axes[j, i], url_arr[i, j], None)\n",
    "\n",
    "    plt.savefig(filename, dpi=1600)  # saves the results as a PNG\n",
    "\n",
    "    display(plt.show())"
   ]
  },
  {
   "attachments": {},
   "cell_type": "markdown",
   "metadata": {},
   "source": [
    "## Putting it all together\n",
    "Define `test_all()` to take in the data, CKNN models, the art id values to query on, and the file path to save the output visualization to. The medium and culture models were previously trained and loaded."
   ]
  },
  {
   "cell_type": "code",
   "execution_count": 17,
   "metadata": {},
   "outputs": [],
   "source": [
    "# main method to test a particular dataset with two CKNN models and a set of art IDs, saving the result to filename.png\n",
    "\n",
    "\n",
    "def test_all(data, cknn_medium, cknn_culture, test_ids, root):\n",
    "    is_nice_obj = udf(lambda obj: obj in test_ids, BooleanType())\n",
    "    test_df = data.where(is_nice_obj(\"id\"))\n",
    "\n",
    "    results_df_medium = add_matches(mediums, cknn_medium, test_df)\n",
    "    results_df_culture = add_matches(cultures, cknn_culture, results_df_medium)\n",
    "\n",
    "    results = results_df_culture.collect()\n",
    "\n",
    "    original_urls = [row[\"Thumbnail_Url\"] for row in results]\n",
    "\n",
    "    culture_urls = [\n",
    "        [row[\"Matches_{}\".format(label)][0][\"value\"] for row in results]\n",
    "        for label in cultures\n",
    "    ]\n",
    "    culture_url_arr = np.array([original_urls] + culture_urls)[:, :]\n",
    "    plot_urls(culture_url_arr, [\"Original\"] + cultures, root + \"matches_by_culture.png\")\n",
    "\n",
    "    medium_urls = [\n",
    "        [row[\"Matches_{}\".format(label)][0][\"value\"] for row in results]\n",
    "        for label in mediums\n",
    "    ]\n",
    "    medium_url_arr = np.array([original_urls] + medium_urls)[:, :]\n",
    "    plot_urls(medium_url_arr, [\"Original\"] + mediums, root + \"matches_by_medium.png\")\n",
    "\n",
    "    return results_df_culture"
   ]
  },
  {
   "attachments": {},
   "cell_type": "markdown",
   "metadata": {},
   "source": [
    "## Demo\n",
    "The following cell performs batched queries given desired image IDs and a filename to save the visualization."
   ]
  },
  {
   "attachments": {},
   "cell_type": "markdown",
   "metadata": {
    "tags": [
     "hide-synapse-internal"
    ]
   },
   "source": [
    "<img src=\"https://mmlspark.blob.core.windows.net/graphics/art/cross_cultural_matches.jpg\"  width=\"600\"/>"
   ]
  },
  {
   "cell_type": "code",
   "execution_count": 19,
   "metadata": {},
   "outputs": [],
   "source": [
    "# sample query\n",
    "result_df = test_all(small_df, medium_cknn, culture_cknn, selected_ids, root=\".\")"
   ]
  }
 ],
 "metadata": {
  "anaconda-cloud": {},
  "kernelspec": {
   "display_name": "Python [default]",
   "language": "python",
   "name": "python3"
  },
  "language_info": {
   "codemirror_mode": {
    "name": "ipython",
    "version": 3
   },
   "file_extension": ".py",
   "mimetype": "text/x-python",
   "name": "python",
   "nbconvert_exporter": "python",
   "pygments_lexer": "ipython3",
   "version": "3.6.3"
  }
 },
 "nbformat": 4,
 "nbformat_minor": 2
}
