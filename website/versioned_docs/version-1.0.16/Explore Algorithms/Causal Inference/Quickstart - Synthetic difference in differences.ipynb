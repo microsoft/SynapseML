{
  "cells": [
    {
      "cell_type": "markdown",
      "metadata": {},
      "source": [
        "# Scalable Synthetic Difference in Differences"
      ]
    },
    {
      "cell_type": "markdown",
      "metadata": {},
      "source": [
        "This sample notebook aims to show readers how to use SynapseML's `DiffInDiffEstimator`, `SyntheticControlEstimator` and `SyntheticDiffInDiffEstimator` to estimate the causal effect of a treatment on a particular outcome."
      ]
    },
    {
      "cell_type": "markdown",
      "metadata": {},
      "source": [
        "In this sample notebook, we will use the California smoking cessation program example to demonstrate usage of the SyntheticDiffInDiff Estimator. The goal of the analysis is to estimate the effect of increased cigarette taxes on smoking in California."
      ]
    },
    {
      "cell_type": "code",
      "execution_count": null,
      "metadata": {
        "jupyter": {
          "outputs_hidden": false,
          "source_hidden": false
        },
        "nteract": {
          "transient": {
            "deleting": false
          }
        }
      },
      "outputs": [],
      "source": [
        "from pyspark.sql.types import *\n",
        "from synapse.ml.causal import (\n",
        "    DiffInDiffEstimator,\n",
        "    SyntheticControlEstimator,\n",
        "    SyntheticDiffInDiffEstimator,\n",
        ")\n",
        "from matplotlib import pyplot as plt\n",
        "from matplotlib import style\n",
        "import pandas as pd\n",
        "import numpy as np\n",
        "\n",
        "spark.sparkContext.setLogLevel(\"INFO\")\n",
        "style.use(\"ggplot\")"
      ]
    },
    {
      "cell_type": "markdown",
      "metadata": {},
      "source": [
        "We will select 5 columns from the dataset: state, year, cigsale, california, after_treatment."
      ]
    },
    {
      "cell_type": "code",
      "execution_count": null,
      "metadata": {
        "collapsed": false,
        "jupyter": {
          "outputs_hidden": false,
          "source_hidden": false
        },
        "nteract": {
          "transient": {
            "deleting": false
          }
        }
      },
      "outputs": [],
      "source": [
        "df = (\n",
        "    spark.read.option(\"header\", True)\n",
        "    .option(\"inferSchema\", True)\n",
        "    .csv(\"wasbs://publicwasb@mmlspark.blob.core.windows.net/smoking.csv\")\n",
        "    .select(\"state\", \"year\", \"cigsale\", \"california\", \"after_treatment\")\n",
        ")\n",
        "display(df)"
      ]
    },
    {
      "cell_type": "markdown",
      "metadata": {},
      "source": [
        "First, we use the `DiffInDiffEstimator` to estimate the causal effect with regular difference in differences method. We set the treatment indicator column to \"california\", set post-treatment indicator column to \"after_treatment\", and set the outcome column to \"cigsale\"."
      ]
    },
    {
      "cell_type": "code",
      "execution_count": null,
      "metadata": {
        "jupyter": {
          "outputs_hidden": false,
          "source_hidden": false
        },
        "nteract": {
          "transient": {
            "deleting": false
          }
        }
      },
      "outputs": [],
      "source": [
        "estimator1 = DiffInDiffEstimator(\n",
        "    treatmentCol=\"california\", postTreatmentCol=\"after_treatment\", outcomeCol=\"cigsale\"\n",
        ")\n",
        "\n",
        "model1 = estimator1.fit(df)\n",
        "\n",
        "print(\"[Diff in Diff] treatment effect: {}\".format(model1.treatmentEffect))\n",
        "print(\"[Diff in Diff] standard error: {}\".format(model1.standardError))"
      ]
    },
    {
      "cell_type": "markdown",
      "metadata": {},
      "source": [
        "The treatment effect estimated by difference in differences should be -27.349."
      ]
    },
    {
      "cell_type": "markdown",
      "metadata": {},
      "source": [
        "Next, we use `SyntheticControlEstimator` to synthesize a control unit and use the synthetic control to estimate the causal effect. To create the synthetic control unit, we need to set the column which indicates the time when each outcome is measured, and the column which indicates the unit for which the outcome is measured."
      ]
    },
    {
      "cell_type": "code",
      "execution_count": null,
      "metadata": {
        "jupyter": {
          "outputs_hidden": false,
          "source_hidden": false
        },
        "nteract": {
          "transient": {
            "deleting": false
          }
        }
      },
      "outputs": [],
      "source": [
        "estimator2 = SyntheticControlEstimator(\n",
        "    timeCol=\"year\",\n",
        "    unitCol=\"state\",\n",
        "    treatmentCol=\"california\",\n",
        "    postTreatmentCol=\"after_treatment\",\n",
        "    outcomeCol=\"cigsale\",\n",
        "    maxIter=5000,\n",
        "    numIterNoChange=50,\n",
        "    tol=1e-4,\n",
        "    stepSize=1.0,\n",
        ")\n",
        "\n",
        "model2 = estimator2.fit(df)\n",
        "\n",
        "print(\"[Synthetic Control] treatment effect: {}\".format(model2.treatmentEffect))\n",
        "print(\"[Synthetic Control] standard error: {}\".format(model2.standardError))"
      ]
    },
    {
      "cell_type": "markdown",
      "metadata": {},
      "source": [
        "The treatment effect estimated by synthetic control should be about -19.354."
      ]
    },
    {
      "cell_type": "markdown",
      "metadata": {},
      "source": [
        "Internally, a constrained least square regression is used to solve the unit weights for the synthetic control, and we can plot the loss history."
      ]
    },
    {
      "cell_type": "code",
      "execution_count": null,
      "metadata": {
        "jupyter": {
          "outputs_hidden": false,
          "source_hidden": false
        },
        "nteract": {
          "transient": {
            "deleting": false
          }
        }
      },
      "outputs": [],
      "source": [
        "lossHistory = pd.Series(np.array(model2.lossHistoryUnitWeights))\n",
        "\n",
        "plt.plot(lossHistory[2000:])\n",
        "plt.title(\"loss history - unit weights\")\n",
        "plt.xlabel(\"Iteration\")\n",
        "plt.ylabel(\"Loss\")\n",
        "plt.show()\n",
        "\n",
        "print(\"Mimimal loss: {}\".format(lossHistory.min()))"
      ]
    },
    {
      "cell_type": "markdown",
      "metadata": {},
      "source": [
        "We can also visualize the synthetic control and compare it with the treated unit."
      ]
    },
    {
      "cell_type": "code",
      "execution_count": null,
      "metadata": {
        "jupyter": {
          "outputs_hidden": false,
          "source_hidden": false
        },
        "nteract": {
          "transient": {
            "deleting": false
          }
        }
      },
      "outputs": [],
      "source": [
        "sc_weights = model2.unitWeights.toPandas().set_index(\"state\")\n",
        "pdf = df.toPandas()\n",
        "sc = (\n",
        "    pdf.query(\"~california\")\n",
        "    .pivot(index=\"year\", columns=\"state\", values=\"cigsale\")\n",
        "    .dot(sc_weights)\n",
        ")\n",
        "plt.plot(sc, label=\"Synthetic Control\")\n",
        "plt.plot(sc.index, pdf.query(\"california\")[\"cigsale\"], label=\"California\", color=\"C1\")\n",
        "\n",
        "plt.title(\"Synthetic Control Estimation\")\n",
        "plt.ylabel(\"Cigarette Sales\")\n",
        "plt.vlines(\n",
        "    x=1988,\n",
        "    ymin=40,\n",
        "    ymax=140,\n",
        "    linestyle=\":\",\n",
        "    lw=2,\n",
        "    label=\"Proposition 99\",\n",
        "    color=\"black\",\n",
        ")\n",
        "plt.legend()"
      ]
    },
    {
      "cell_type": "markdown",
      "metadata": {},
      "source": [
        "Lastly, we use `SyntheticDiffInDiffEstimator` to estimate the causal effect."
      ]
    },
    {
      "cell_type": "code",
      "execution_count": null,
      "metadata": {
        "jupyter": {
          "outputs_hidden": false,
          "source_hidden": false
        },
        "nteract": {
          "transient": {
            "deleting": false
          }
        }
      },
      "outputs": [],
      "source": [
        "estimator3 = SyntheticDiffInDiffEstimator(\n",
        "    timeCol=\"year\",\n",
        "    unitCol=\"state\",\n",
        "    treatmentCol=\"california\",\n",
        "    postTreatmentCol=\"after_treatment\",\n",
        "    outcomeCol=\"cigsale\",\n",
        "    maxIter=5000,\n",
        "    numIterNoChange=50,\n",
        "    tol=1e-4,\n",
        "    stepSize=1.0,\n",
        ")\n",
        "\n",
        "model3 = estimator3.fit(df)\n",
        "\n",
        "print(\"[Synthetic Diff in Diff] treatment effect: {}\".format(model3.treatmentEffect))\n",
        "print(\"[Synthetic Diff in Diff] standard error: {}\".format(model3.standardError))"
      ]
    },
    {
      "cell_type": "markdown",
      "metadata": {},
      "source": [
        "The treatment effect estimated by synthetic control should be about -15.554."
      ]
    },
    {
      "cell_type": "markdown",
      "metadata": {},
      "source": [
        "Again, we can plot the loss history from the optimizer used to solve the unit weights and the time weights."
      ]
    },
    {
      "cell_type": "code",
      "execution_count": null,
      "metadata": {
        "jupyter": {
          "outputs_hidden": false,
          "source_hidden": false
        },
        "nteract": {
          "transient": {
            "deleting": false
          }
        }
      },
      "outputs": [],
      "source": [
        "lossHistory = pd.Series(np.array(model3.lossHistoryUnitWeights))\n",
        "\n",
        "plt.plot(lossHistory[1000:])\n",
        "plt.title(\"loss history - unit weights\")\n",
        "plt.xlabel(\"Iteration\")\n",
        "plt.ylabel(\"Loss\")\n",
        "plt.show()\n",
        "\n",
        "print(\"Mimimal loss: {}\".format(lossHistory.min()))"
      ]
    },
    {
      "cell_type": "code",
      "execution_count": null,
      "metadata": {
        "jupyter": {
          "outputs_hidden": false,
          "source_hidden": false
        },
        "nteract": {
          "transient": {
            "deleting": false
          }
        }
      },
      "outputs": [],
      "source": [
        "lossHistory = pd.Series(np.array(model3.lossHistoryTimeWeights))\n",
        "\n",
        "plt.plot(lossHistory[1000:])\n",
        "plt.title(\"loss history - time weights\")\n",
        "plt.xlabel(\"Iteration\")\n",
        "plt.ylabel(\"Loss\")\n",
        "plt.show()\n",
        "\n",
        "print(\"Mimimal loss: {}\".format(lossHistory.min()))"
      ]
    },
    {
      "cell_type": "markdown",
      "metadata": {},
      "source": [
        "Here we plot the synthetic diff in diff estimate together with the time weights."
      ]
    },
    {
      "cell_type": "code",
      "execution_count": null,
      "metadata": {
        "jupyter": {
          "outputs_hidden": false,
          "source_hidden": false
        },
        "nteract": {
          "transient": {
            "deleting": false
          }
        }
      },
      "outputs": [],
      "source": [
        "unit_weights = model3.unitWeights.toPandas().set_index(\"state\")\n",
        "unit_intercept = model3.unitIntercept\n",
        "\n",
        "time_weights = model3.timeWeights.toPandas().set_index(\"year\")\n",
        "time_intercept = model3.timeIntercept\n",
        "\n",
        "pdf = df.toPandas()\n",
        "pivot_df_control = pdf.query(\"~california\").pivot(\n",
        "    index=\"year\", columns=\"state\", values=\"cigsale\"\n",
        ")\n",
        "pivot_df_treat = pdf.query(\"california\").pivot(\n",
        "    index=\"year\", columns=\"state\", values=\"cigsale\"\n",
        ")\n",
        "sc_did = pivot_df_control.values @ unit_weights.values\n",
        "treated_mean = pivot_df_treat.mean(axis=1)"
      ]
    },
    {
      "cell_type": "code",
      "execution_count": null,
      "metadata": {
        "jupyter": {
          "outputs_hidden": false,
          "source_hidden": false
        },
        "nteract": {
          "transient": {
            "deleting": false
          }
        }
      },
      "outputs": [],
      "source": [
        "fig, (ax1, ax2) = plt.subplots(\n",
        "    2, 1, figsize=(15, 8), sharex=True, gridspec_kw={\"height_ratios\": [3, 1]}\n",
        ")\n",
        "fig.suptitle(\"Synthetic Diff in Diff Estimation\")\n",
        "\n",
        "ax1.plot(\n",
        "    pivot_df_control.mean(axis=1), lw=3, color=\"C1\", ls=\"dashed\", label=\"Control Avg.\"\n",
        ")\n",
        "ax1.plot(treated_mean, lw=3, color=\"C0\", label=\"California\")\n",
        "ax1.plot(\n",
        "    pivot_df_control.index,\n",
        "    sc_did,\n",
        "    label=\"Synthetic Control (SDID)\",\n",
        "    color=\"C1\",\n",
        "    alpha=0.8,\n",
        ")\n",
        "ax1.set_ylabel(\"Cigarette Sales\")\n",
        "ax1.vlines(\n",
        "    1989,\n",
        "    treated_mean.min(),\n",
        "    treated_mean.max(),\n",
        "    color=\"black\",\n",
        "    ls=\"dotted\",\n",
        "    label=\"Prop. 99\",\n",
        ")\n",
        "ax1.legend()\n",
        "\n",
        "ax2.bar(time_weights.index, time_weights[\"value\"], color=\"skyblue\")\n",
        "ax2.set_ylabel(\"Time Weights\")\n",
        "ax2.set_xlabel(\"Time\")\n",
        "ax2.vlines(1989, 0, 1, color=\"black\", ls=\"dotted\")"
      ]
    }
  ],
  "metadata": {
    "kernel_info": {
      "name": "synapse_pyspark"
    },
    "kernelspec": {
      "display_name": "Synapse PySpark",
      "language": "Python",
      "name": "synapse_pyspark"
    },
    "language_info": {
      "name": "python"
    },
    "save_output": true,
    "synapse_widget": {
      "state": {},
      "version": "0.1"
    }
  },
  "nbformat": 4,
  "nbformat_minor": 2
}
