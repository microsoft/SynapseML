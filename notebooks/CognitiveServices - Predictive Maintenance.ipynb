{
 "cells": [
  {
   "cell_type": "markdown",
   "source": [
    "# Recipe: Predictive maintenance with the Cognitive Services for Big Data\n",
    "\n",
    "This recipe shows how you can use Azure Synapse Analytics and Cognitive Services on Apache Spark for predictive maintenance of IoT devices. We'll follow along with the [CosmosDB and Synapse Link](https://github.com/Azure-Samples/cosmosdb-synapse-link-samples) sample. To keep things simple, in this recipe we'll read the data straight from a CSV file rather than getting streamed data through CosmosDB and Synapse Link. We strongly encourage you to look over the Synapse Link sample.\n",
    "\n",
    "## Hypothetical scenario\n",
    "\n",
    "The hypothetical scenario is a Power Plant, where IoT devices are monitoring [steam turbines](https://en.wikipedia.org/wiki/Steam_turbine). The IoTSignals collection has Revolutions per minute (RPM) and Megawatts (MW) data for each turbine. Signals from steam turbines are being analyzed and anomalous signals are detected.\n",
    "\n",
    "There could be outliers in the data in random frequency. In those situations, RPM values will go up and MW output will go down, for circuit protection. The idea is to see the data varying at the same time, but with different signals.\n",
    "\n",
    "## Prerequisites\n",
    "\n",
    "* An Azure subscription - [Create one for free](https://azure.microsoft.com/free/cognitive-services)\n",
    "* [Azure Synapse workspace](../../../synapse-analytics/quickstart-create-workspace.md) configured with a [serverless Apache Spark pool](../../../synapse-analytics/quickstart-create-apache-spark-pool-portal.md)\n",
    "\n",
    "## Setup\n",
    "\n",
    "### Create an Anomaly Detector resource\n",
    "\n",
    "Azure Cognitive Services are represented by Azure resources that you subscribe to. Create a resource for Translator using the [Azure portal](../../cognitive-services-apis-create-account.md) or [Azure CLI](../../cognitive-services-apis-create-account-cli.md). You can also:\n",
    "\n",
    "- View an existing resource in the  [Azure portal](https://portal.azure.com/).\n",
    "\n",
    "Make note of the endpoint and the key for this resource, you'll need it in this guide."
   ],
   "metadata": {
    "application/vnd.databricks.v1+cell": {
     "title": "",
     "showTitle": false,
     "inputWidgets": {},
     "nuid": "912ab522-ac44-4301-802d-9fc01dc33112"
    }
   }
  },
  {
   "cell_type": "markdown",
   "source": [
    "## Enter your service keys\n",
    "\n",
    "Let's start by adding your key and location."
   ],
   "metadata": {
    "application/vnd.databricks.v1+cell": {
     "title": "",
     "showTitle": false,
     "inputWidgets": {},
     "nuid": "df7b3b14-9abb-459d-91f2-7265f1c5969a"
    }
   }
  },
  {
   "cell_type": "code",
   "execution_count": null,
   "source": [
    "import os\r\n",
    "\r\n",
    "service_key =  os.environ[\"ANOMALY_API_KEY\"] # Paste your anomaly detector key here\r\n",
    "location = \"westus2\" # Paste your anomaly detector location here\r\n",
    "\r\n",
    "assert (service_key is not None)"
   ],
   "outputs": [
    {
     "output_type": "display_data",
     "data": {
      "text/html": [
       "<style scoped>\n",
       "  .ansiout {\n",
       "    display: block;\n",
       "    unicode-bidi: embed;\n",
       "    white-space: pre-wrap;\n",
       "    word-wrap: break-word;\n",
       "    word-break: break-all;\n",
       "    font-family: \"Source Code Pro\", \"Menlo\", monospace;;\n",
       "    font-size: 13px;\n",
       "    color: #555;\n",
       "    margin-left: 4px;\n",
       "    line-height: 19px;\n",
       "  }\n",
       "</style>"
      ]
     },
     "metadata": {
      "application/vnd.databricks.v1+output": {
       "data": "",
       "errorSummary": "",
       "metadata": {},
       "errorTraceType": null,
       "type": "ipynbError",
       "arguments": {}
      }
     }
    }
   ],
   "metadata": {
    "application/vnd.databricks.v1+cell": {
     "title": "",
     "showTitle": false,
     "inputWidgets": {},
     "nuid": "84a76c12-a8da-4c9f-8eaf-f675ef1fab7e"
    }
   }
  },
  {
   "cell_type": "markdown",
   "source": [
    "## Read data into a DataFrame\n",
    "\n",
    "Next, let's read the IoTSignals file into a DataFrame. Open a new notebook in your Synapse workspace and create a DataFrame from the file."
   ],
   "metadata": {
    "application/vnd.databricks.v1+cell": {
     "title": "",
     "showTitle": false,
     "inputWidgets": {},
     "nuid": "f341d984-88bf-4c17-a4c5-b9473db630bb"
    }
   }
  },
  {
   "cell_type": "code",
   "execution_count": null,
   "source": [
    "df_signals = spark.read.csv(\"wasbs://publicwasb@mmlspark.blob.core.windows.net/iot/IoTSignals.csv\", header=True, inferSchema=True)"
   ],
   "outputs": [
    {
     "output_type": "display_data",
     "data": {
      "text/html": [
       "<style scoped>\n",
       "  .ansiout {\n",
       "    display: block;\n",
       "    unicode-bidi: embed;\n",
       "    white-space: pre-wrap;\n",
       "    word-wrap: break-word;\n",
       "    word-break: break-all;\n",
       "    font-family: \"Source Code Pro\", \"Menlo\", monospace;;\n",
       "    font-size: 13px;\n",
       "    color: #555;\n",
       "    margin-left: 4px;\n",
       "    line-height: 19px;\n",
       "  }\n",
       "</style>"
      ]
     },
     "metadata": {
      "application/vnd.databricks.v1+output": {
       "data": "",
       "errorSummary": "",
       "metadata": {},
       "errorTraceType": null,
       "type": "ipynbError",
       "arguments": {}
      }
     }
    }
   ],
   "metadata": {
    "application/vnd.databricks.v1+cell": {
     "title": "",
     "showTitle": false,
     "inputWidgets": {},
     "nuid": "2a0632b8-69b0-4446-b0b2-5e507d4d2fb4"
    }
   }
  },
  {
   "cell_type": "markdown",
   "source": [
    "### Run anomaly detection using Cognitive Services on Spark\r\n",
    "\r\n",
    "The goal is to find instances where the signals from the IoT devices were outputting anomalous values so that we can see when something is going wrong and do predictive maintenance. To do that, let's use Anomaly Detector on Spark:"
   ],
   "metadata": {
    "application/vnd.databricks.v1+cell": {
     "title": "",
     "showTitle": false,
     "inputWidgets": {},
     "nuid": "65b25fe2-2cb7-454b-85d8-355a42e2023b"
    }
   }
  },
  {
   "cell_type": "code",
   "execution_count": null,
   "source": [
    "from pyspark.sql.functions import col, struct\r\n",
    "from mmlspark.cognitive import SimpleDetectAnomalies\r\n",
    "from mmlspark.core.spark import FluentAPI\r\n",
    "\r\n",
    "detector = (SimpleDetectAnomalies()\r\n",
    "    .setSubscriptionKey(service_key)\r\n",
    "    .setLocation(location)\r\n",
    "    .setOutputCol(\"anomalies\")\r\n",
    "    .setGroupbyCol(\"grouping\")\r\n",
    "    .setSensitivity(95)\r\n",
    "    .setGranularity(\"secondly\"))\r\n",
    "\r\n",
    "df_anomaly = (df_signals\r\n",
    "    .where(col(\"unitSymbol\") == 'RPM')\r\n",
    "    .withColumn(\"timestamp\", col(\"dateTime\").cast(\"string\"))\r\n",
    "    .withColumn(\"value\", col(\"measureValue\").cast(\"double\"))\r\n",
    "    .withColumn(\"grouping\", struct(\"deviceId\"))\r\n",
    "    .mlTransform(detector)).cache()\r\n",
    "\r\n",
    "df_anomaly.createOrReplaceTempView('df_anomaly')"
   ],
   "outputs": [
    {
     "output_type": "display_data",
     "data": {
      "text/html": [
       "<style scoped>\n",
       "  .ansiout {\n",
       "    display: block;\n",
       "    unicode-bidi: embed;\n",
       "    white-space: pre-wrap;\n",
       "    word-wrap: break-word;\n",
       "    word-break: break-all;\n",
       "    font-family: \"Source Code Pro\", \"Menlo\", monospace;;\n",
       "    font-size: 13px;\n",
       "    color: #555;\n",
       "    margin-left: 4px;\n",
       "    line-height: 19px;\n",
       "  }\n",
       "</style>"
      ]
     },
     "metadata": {
      "application/vnd.databricks.v1+output": {
       "data": "",
       "errorSummary": "",
       "metadata": {},
       "errorTraceType": null,
       "type": "ipynbError",
       "arguments": {}
      }
     }
    }
   ],
   "metadata": {
    "application/vnd.databricks.v1+cell": {
     "title": "",
     "showTitle": false,
     "inputWidgets": {},
     "nuid": "c3155f67-5c30-4de8-b503-3a7451712945"
    }
   }
  },
  {
   "cell_type": "markdown",
   "source": [
    "Let's take a look at the data:"
   ],
   "metadata": {
    "application/vnd.databricks.v1+cell": {
     "title": "",
     "showTitle": false,
     "inputWidgets": {},
     "nuid": "694c601e-fd19-4de1-a358-9759123fe1c0"
    }
   }
  },
  {
   "cell_type": "code",
   "execution_count": null,
   "source": [
    "df_anomaly.select(\"timestamp\",\"value\",\"deviceId\",\"anomalies.isAnomaly\").show(3)\r\n"
   ],
   "outputs": [
    {
     "output_type": "display_data",
     "data": {
      "text/html": [
       "<style scoped>\n",
       "  .ansiout {\n",
       "    display: block;\n",
       "    unicode-bidi: embed;\n",
       "    white-space: pre-wrap;\n",
       "    word-wrap: break-word;\n",
       "    word-break: break-all;\n",
       "    font-family: \"Source Code Pro\", \"Menlo\", monospace;;\n",
       "    font-size: 13px;\n",
       "    color: #555;\n",
       "    margin-left: 4px;\n",
       "    line-height: 19px;\n",
       "  }\n",
       "</style>"
      ]
     },
     "metadata": {
      "application/vnd.databricks.v1+output": {
       "data": "",
       "errorSummary": "",
       "metadata": {},
       "errorTraceType": null,
       "type": "ipynbError",
       "arguments": {}
      }
     }
    }
   ],
   "metadata": {
    "application/vnd.databricks.v1+cell": {
     "title": "",
     "showTitle": false,
     "inputWidgets": {},
     "nuid": "2d4feed9-e879-4a7b-93d6-6007077c3544"
    }
   }
  },
  {
   "cell_type": "markdown",
   "source": [
    "This cell should yield a result that looks like:\n",
    "\n",
    "| timestamp           |   value | deviceId   | isAnomaly   |\n",
    "|:--------------------|--------:|:-----------|:------------|\n",
    "| 2020-05-01 18:33:51 |    3174 | dev-7      | False       |\n",
    "| 2020-05-01 18:33:52 |    2976 | dev-7      | False       |\n",
    "| 2020-05-01 18:33:53 |    2714 | dev-7      | False       |"
   ],
   "metadata": {
    "application/vnd.databricks.v1+cell": {
     "title": "",
     "showTitle": false,
     "inputWidgets": {},
     "nuid": "eef1bc9c-c57a-4e8f-81aa-d791e4eb3d80"
    }
   }
  },
  {
   "cell_type": "markdown",
   "source": [
    "## Visualize anomalies for one of the devices\n",
    "\n",
    "IoTSignals.csv has signals from multiple IoT devices. We'll focus on a specific device and visualize anomalous outputs from the device."
   ],
   "metadata": {
    "application/vnd.databricks.v1+cell": {
     "title": "",
     "showTitle": false,
     "inputWidgets": {},
     "nuid": "b5285c35-06ab-4601-af88-ce60168fd6c7"
    }
   }
  },
  {
   "cell_type": "code",
   "execution_count": null,
   "source": [
    "df_anomaly_single_device = spark.sql(\"\"\"\r\n",
    "select\r\n",
    "  timestamp,\r\n",
    "  measureValue,\r\n",
    "  anomalies.expectedValue,\r\n",
    "  anomalies.expectedValue + anomalies.upperMargin as expectedUpperValue,\r\n",
    "  anomalies.expectedValue - anomalies.lowerMargin as expectedLowerValue,\r\n",
    "  case when anomalies.isAnomaly=true then 1 else 0 end as isAnomaly\r\n",
    "from\r\n",
    "  df_anomaly\r\n",
    "where deviceid = 'dev-1' and timestamp < '2020-04-29'\r\n",
    "order by timestamp\r\n",
    "limit 200\"\"\")"
   ],
   "outputs": [
    {
     "output_type": "display_data",
     "data": {
      "text/html": [
       "<style scoped>\n",
       "  .ansiout {\n",
       "    display: block;\n",
       "    unicode-bidi: embed;\n",
       "    white-space: pre-wrap;\n",
       "    word-wrap: break-word;\n",
       "    word-break: break-all;\n",
       "    font-family: \"Source Code Pro\", \"Menlo\", monospace;;\n",
       "    font-size: 13px;\n",
       "    color: #555;\n",
       "    margin-left: 4px;\n",
       "    line-height: 19px;\n",
       "  }\n",
       "</style>"
      ]
     },
     "metadata": {
      "application/vnd.databricks.v1+output": {
       "data": "",
       "errorSummary": "",
       "metadata": {},
       "errorTraceType": null,
       "type": "ipynbError",
       "arguments": {}
      }
     }
    }
   ],
   "metadata": {
    "application/vnd.databricks.v1+cell": {
     "title": "",
     "showTitle": false,
     "inputWidgets": {},
     "nuid": "b83b1a05-40ef-4262-9291-38b099a3e14f"
    }
   }
  },
  {
   "cell_type": "markdown",
   "source": [
    "Now that we have created a dataframe that represents the anomalies for a particular device, we can visualize these anomalies:"
   ],
   "metadata": {
    "application/vnd.databricks.v1+cell": {
     "title": "",
     "showTitle": false,
     "inputWidgets": {},
     "nuid": "4f8c004b-fa72-4690-b1df-f90a27b9e33e"
    }
   }
  },
  {
   "cell_type": "code",
   "execution_count": null,
   "source": [
    "import matplotlib.pyplot as plt\r\n",
    "from pyspark.sql.functions import col\r\n",
    "\r\n",
    "adf = df_anomaly_single_device.toPandas()\r\n",
    "adf_subset = df_anomaly_single_device.where(col(\"isAnomaly\") == 1).toPandas()\r\n",
    "\r\n",
    "plt.figure(figsize=(23,8))\r\n",
    "plt.plot(adf['timestamp'],adf['expectedUpperValue'], color='darkred', linestyle='solid', linewidth=0.25, label='UpperMargin')\r\n",
    "plt.plot(adf['timestamp'],adf['expectedValue'], color='darkgreen', linestyle='solid', linewidth=2, label='Expected Value')\r\n",
    "plt.plot(adf['timestamp'],adf['measureValue'], 'b', color='royalblue', linestyle='dotted', linewidth=2, label='Actual')\r\n",
    "plt.plot(adf['timestamp'],adf['expectedLowerValue'],  color='black', linestyle='solid', linewidth=0.25, label='Lower Margin')\r\n",
    "plt.plot(adf_subset['timestamp'],adf_subset['measureValue'], 'ro', label = 'Anomaly')\r\n",
    "plt.legend()\r\n",
    "plt.title('RPM Anomalies with Confidence Intervals')\r\n",
    "plt.show()"
   ],
   "outputs": [
    {
     "output_type": "display_data",
     "data": {
      "text/html": [
       "<style scoped>\n",
       "  .ansiout {\n",
       "    display: block;\n",
       "    unicode-bidi: embed;\n",
       "    white-space: pre-wrap;\n",
       "    word-wrap: break-word;\n",
       "    word-break: break-all;\n",
       "    font-family: \"Source Code Pro\", \"Menlo\", monospace;;\n",
       "    font-size: 13px;\n",
       "    color: #555;\n",
       "    margin-left: 4px;\n",
       "    line-height: 19px;\n",
       "  }\n",
       "</style>"
      ]
     },
     "metadata": {
      "application/vnd.databricks.v1+output": {
       "data": "",
       "errorSummary": "",
       "metadata": {},
       "errorTraceType": null,
       "type": "ipynbError",
       "arguments": {}
      }
     }
    }
   ],
   "metadata": {
    "application/vnd.databricks.v1+cell": {
     "title": "",
     "showTitle": false,
     "inputWidgets": {},
     "nuid": "adc8243e-47c3-4957-ae24-9ce34ef64407"
    }
   }
  },
  {
   "cell_type": "markdown",
   "source": [
    "If successful, your output will look like this:\n",
    "\n",
    "![Anomaly Detector Plot](https://github.com/MicrosoftDocs/azure-docs/raw/master/articles/cognitive-services/big-data/media/anomaly-output.png)\n",
    "\n",
    "## Next steps\n",
    "\n",
    "Learn how to do predictive maintenance at scale with Azure Cognitive Services, Azure Synapse Analytics, and Azure CosmosDB. For more information, see the full sample on [GitHub](https://github.com/Azure-Samples/cosmosdb-synapse-link-samples)."
   ],
   "metadata": {
    "application/vnd.databricks.v1+cell": {
     "title": "",
     "showTitle": false,
     "inputWidgets": {},
     "nuid": "1d53317c-f5e9-415e-b43f-6625b6760ea6"
    }
   }
  }
 ],
 "metadata": {
  "application/vnd.databricks.v1+notebook": {
   "notebookName": "Cognitive Services: Predictive Maintenance",
   "dashboards": [],
   "notebookMetadata": {
    "pythonIndentUnit": 2
   },
   "language": "python",
   "widgets": {},
   "notebookOrigID": 862073629653459
  },
  "language_info": {
   "name": "python"
  }
 },
 "nbformat": 4,
 "nbformat_minor": 2
}