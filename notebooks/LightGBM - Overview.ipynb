{
 "metadata": {
  "language_info": {
   "codemirror_mode": {
    "name": "ipython",
    "version": 3
   },
   "file_extension": ".py",
   "mimetype": "text/x-python",
   "name": "python",
   "nbconvert_exporter": "python",
   "pygments_lexer": "ipython3",
   "version": "3.8.5"
  },
  "orig_nbformat": 2,
  "kernelspec": {
   "name": "python385jvsc74a57bd072be13fef265c65d19cf428fd1b09dd31615eed186d1dccdebb6e555960506ee",
   "display_name": "Python 3.8.5 64-bit (conda)"
  }
 },
 "nbformat": 4,
 "nbformat_minor": 2,
 "cells": [
  {
   "source": [
    "# LightGBM"
   ],
   "cell_type": "markdown",
   "metadata": {}
  },
  {
   "source": [
    "[LightGBM](https://github.com/Microsoft/LightGBM) is an open-source,\n",
    "distributed, high-performance gradient boosting (GBDT, GBRT, GBM, or\n",
    "MART) framework. This framework specializes in creating high-quality and\n",
    "GPU enabled decision tree algorithms for ranking, classification, and\n",
    "many other machine learning tasks. LightGBM is part of Microsoft's\n",
    "[DMTK](http://github.com/microsoft/dmtk) project.\n",
    "\n",
    "### Advantages of LightGBM\n",
    "\n",
    "-   **Composability**: LightGBM models can be incorporated into existing\n",
    "    SparkML Pipelines, and used for batch, streaming, and serving\n",
    "    workloads.\n",
    "-   **Performance**: LightGBM on Spark is 10-30% faster than SparkML on\n",
    "    the Higgs dataset, and achieves a 15% increase in AUC.  [Parallel\n",
    "    experiments](https://github.com/Microsoft/LightGBM/blob/master/docs/Experiments.rst#parallel-experiment)\n",
    "    have verified that LightGBM can achieve a linear speed-up by using\n",
    "    multiple machines for training in specific settings.\n",
    "-   **Functionality**: LightGBM offers a wide array of [tunable\n",
    "    parameters](https://github.com/Microsoft/LightGBM/blob/master/docs/Parameters.rst),\n",
    "    that one can use to customize their decision tree system. LightGBM on\n",
    "    Spark also supports new types of problems such as quantile regression.\n",
    "-   **Cross platform** LightGBM on Spark is available on Spark, PySpark, and SparklyR\n",
    "\n",
    "### LightGBM Usage:\n",
    "\n",
    "- LightGBMClassifier: used for building classification models. For example, to predict whether a company will bankrupt or not, we could build a binary classification model with LightGBMClassifier.\n",
    "- LightGBMRegressor: used for building regression models. For example, to predict the house price, we could build a regression model with LightGBMRegressor.\n",
    "- LightGBMRanker: used for building ranking models. For example, to predict website searching result relevance, we could build a ranking model with LightGBMRanker."
   ],
   "cell_type": "markdown",
   "metadata": {}
  },
  {
   "source": [
    "## Bankruptcy Prediction with LightGBM Classifier\n",
    "\n",
    "<img src=\"https://mmlspark.blob.core.windows.net/graphics/Documentation/bankruptcy image.png\" width=\"800\" style=\"float: center;\"/>\n",
    "\n",
    "In this example, we use LightGBM to build a classification model in order to predict bankruptcy."
   ],
   "cell_type": "markdown",
   "metadata": {}
  },
  {
   "source": [
    "#### Read dataset"
   ],
   "cell_type": "markdown",
   "metadata": {}
  },
  {
   "cell_type": "code",
   "execution_count": null,
   "metadata": {},
   "outputs": [],
   "source": [
    "import os\n",
    "\n",
    "if os.environ.get(\"AZURE_SERVICE\", None) == \"Microsoft.ProjectArcadia\":\n",
    "    from pyspark.sql import SparkSession\n",
    "    spark = SparkSession.builder.getOrCreate()"
   ]
  },
  {
   "cell_type": "code",
   "execution_count": null,
   "metadata": {},
   "outputs": [],
   "source": [
    "df = spark.read.format(\"csv\")\\\n",
    "  .option(\"header\", True)\\\n",
    "  .option(\"inferSchema\", True)\\\n",
    "  .load(\"wasbs://publicwasb@mmlspark.blob.core.windows.net/company_bankruptcy_prediction_data.csv\")\n",
    "# print dataset size\n",
    "print(\"records read: \" + str(df.count()))\n",
    "print(\"Schema: \")\n",
    "df.printSchema()"
   ]
  },
  {
   "cell_type": "code",
   "execution_count": null,
   "metadata": {},
   "outputs": [],
   "source": [
    "display(df)"
   ]
  },
  {
   "source": [
    "#### Split the dataset into train and test"
   ],
   "cell_type": "markdown",
   "metadata": {}
  },
  {
   "cell_type": "code",
   "execution_count": null,
   "metadata": {},
   "outputs": [],
   "source": [
    "train, test = df.randomSplit([0.85, 0.15], seed=1)"
   ]
  },
  {
   "source": [
    "#### Add featurizer to convert features to vector"
   ],
   "cell_type": "markdown",
   "metadata": {}
  },
  {
   "cell_type": "code",
   "execution_count": null,
   "metadata": {},
   "outputs": [],
   "source": [
    "from pyspark.ml.feature import VectorAssembler\n",
    "feature_cols = df.columns[1:]\n",
    "featurizer = VectorAssembler(\n",
    "    inputCols=feature_cols,\n",
    "    outputCol='features'\n",
    ")\n",
    "train_data = featurizer.transform(train)['Bankrupt?', 'features']\n",
    "test_data = featurizer.transform(test)['Bankrupt?', 'features']"
   ]
  },
  {
   "source": [
    "#### Check if the data is unbalanced"
   ],
   "cell_type": "markdown",
   "metadata": {}
  },
  {
   "cell_type": "code",
   "execution_count": null,
   "metadata": {},
   "outputs": [],
   "source": [
    "display(train_data.groupBy(\"Bankrupt?\").count())"
   ]
  },
  {
   "source": [
    "#### Model Training"
   ],
   "cell_type": "markdown",
   "metadata": {}
  },
  {
   "cell_type": "code",
   "execution_count": null,
   "metadata": {},
   "outputs": [],
   "source": [
    "from mmlspark.lightgbm import LightGBMClassifier\n",
    "model = LightGBMClassifier(objective=\"binary\", featuresCol=\"features\", labelCol=\"Bankrupt?\", isUnbalance=True)"
   ]
  },
  {
   "cell_type": "code",
   "execution_count": null,
   "metadata": {},
   "outputs": [],
   "source": [
    "model = model.fit(train_data)"
   ]
  },
  {
   "source": [
    "By calling \"saveNativeModel\", it allows you to extract the underlying lightGBM model for fast deployment after you train on Spark."
   ],
   "cell_type": "markdown",
   "metadata": {}
  },
  {
   "cell_type": "code",
   "execution_count": null,
   "metadata": {},
   "outputs": [],
   "source": [
    "from mmlspark.lightgbm import \n",
    "\n",
    "if os.environ.get(\"AZURE_SERVICE\", None) == \"Microsoft.ProjectArcadia\":\n",
    "    model.saveNativeModel(\"/models/lgbmclassifier.model\")\n",
    "    model = LightGBMClassificationModel.loadNativeModelFromFile(\"/models/lgbmclassifier.model\")\n",
    "else:\n",
    "    model.saveNativeModel(\"/lgbmclassifier.model\")\n",
    "    model = LightGBMClassificationModel.loadNativeModelFromFile(\"/lgbmclassifier.model\")\n"
   ]
  },
  {
   "source": [
    "#### Feature Importances Visualization"
   ],
   "cell_type": "markdown",
   "metadata": {}
  },
  {
   "cell_type": "code",
   "execution_count": null,
   "metadata": {},
   "outputs": [],
   "source": [
    "import pandas as pd\n",
    "import matplotlib.pyplot as plt\n",
    "\n",
    "feature_importances = model.getFeatureImportances()\n",
    "fi = pd.Series(feature_importances,index = feature_cols)\n",
    "fi = fi.sort_values(ascending = True)\n",
    "f_index = fi.index\n",
    "f_values = fi.values\n",
    " \n",
    "# print feature importances \n",
    "print ('f_index:',f_index)\n",
    "print ('f_values:',f_values)\n",
    "\n",
    "# plot\n",
    "x_index = list(range(len(fi)))\n",
    "x_index = [x/len(fi) for x in x_index]\n",
    "plt.rcParams['figure.figsize'] = (20,20)\n",
    "plt.barh(x_index,f_values,height = 0.028 ,align=\"center\",color = 'tan',tick_label=f_index)\n",
    "plt.xlabel('importances')\n",
    "plt.ylabel('features')\n",
    "plt.show()"
   ]
  },
  {
   "source": [
    "#### Model Prediction"
   ],
   "cell_type": "markdown",
   "metadata": {}
  },
  {
   "cell_type": "code",
   "execution_count": null,
   "metadata": {},
   "outputs": [],
   "source": [
    "predictions = model.transform(test_data)\n",
    "predictions.limit(10).toPandas()"
   ]
  },
  {
   "cell_type": "code",
   "execution_count": null,
   "metadata": {},
   "outputs": [],
   "source": [
    "from mmlspark.train import ComputeModelStatistics\n",
    "metrics = ComputeModelStatistics(evaluationMetric=\"classification\", labelCol='Bankrupt?', scoredLabelsCol='prediction').transform(predictions)\n",
    "display(metrics)"
   ]
  },
  {
   "source": [
    "## Quantile Regression for Drug Discovery with LightGBMRegressor\n",
    "\n",
    "<img src=\"https://mmlspark.blob.core.windows.net/graphics/Documentation/drug.png\" width=\"800\" style=\"float: center;\"/>\n",
    "\n",
    "In this example, we show how to use LightGBM to build a simple regression model."
   ],
   "cell_type": "markdown",
   "metadata": {}
  },
  {
   "source": [
    "#### Read dataset"
   ],
   "cell_type": "markdown",
   "metadata": {}
  },
  {
   "cell_type": "code",
   "execution_count": null,
   "metadata": {},
   "outputs": [],
   "source": [
    "triazines = spark.read.format(\"libsvm\")\\\n",
    "    .load(\"wasbs://publicwasb@mmlspark.blob.core.windows.net/triazines.scale.svmlight\")"
   ]
  },
  {
   "cell_type": "code",
   "execution_count": null,
   "metadata": {},
   "outputs": [],
   "source": [
    "# print some basic info\n",
    "print(\"records read: \" + str(triazines.count()))\n",
    "print(\"Schema: \")\n",
    "triazines.printSchema()\n",
    "display(triazines.limit(10))"
   ]
  },
  {
   "source": [
    "#### Split dataset into train and test"
   ],
   "cell_type": "markdown",
   "metadata": {}
  },
  {
   "cell_type": "code",
   "execution_count": null,
   "metadata": {},
   "outputs": [],
   "source": [
    "train, test = triazines.randomSplit([0.85, 0.15], seed=1)"
   ]
  },
  {
   "source": [
    "#### Model Training"
   ],
   "cell_type": "markdown",
   "metadata": {}
  },
  {
   "cell_type": "code",
   "execution_count": null,
   "metadata": {},
   "outputs": [],
   "source": [
    "from mmlspark.lightgbm import LightGBMRegressor\n",
    "model = LightGBMRegressor(objective='quantile',\n",
    "                          alpha=0.2,\n",
    "                          learningRate=0.3,\n",
    "                          numLeaves=31).fit(train)"
   ]
  },
  {
   "cell_type": "code",
   "execution_count": null,
   "metadata": {},
   "outputs": [],
   "source": [
    "print(model.getFeatureImportances())"
   ]
  },
  {
   "source": [
    "#### Model Prediction"
   ],
   "cell_type": "markdown",
   "metadata": {}
  },
  {
   "cell_type": "code",
   "execution_count": null,
   "metadata": {},
   "outputs": [],
   "source": [
    "scoredData = model.transform(test)\n",
    "display(scoredData)"
   ]
  },
  {
   "cell_type": "code",
   "execution_count": null,
   "metadata": {},
   "outputs": [],
   "source": [
    "from mmlspark.train import ComputeModelStatistics\n",
    "metrics = ComputeModelStatistics(evaluationMetric='regression',\n",
    "                                 labelCol='label',\n",
    "                                 scoresCol='prediction') \\\n",
    "            .transform(scoredData)\n",
    "display(metrics)"
   ]
  },
  {
   "source": [
    "## LightGBM Ranker"
   ],
   "cell_type": "markdown",
   "metadata": {}
  },
  {
   "source": [
    "#### Read dataset"
   ],
   "cell_type": "markdown",
   "metadata": {}
  },
  {
   "cell_type": "code",
   "execution_count": null,
   "metadata": {},
   "outputs": [],
   "source": [
    "df = spark.read.format(\"parquet\").load(\"wasbs://publicwasb@mmlspark.blob.core.windows.net/lightGBMRanker_train.parquet\")\n",
    "# print some basic info\n",
    "print(\"records read: \" + str(df.count()))\n",
    "print(\"Schema: \")\n",
    "df.printSchema()\n",
    "display(df.limit(10))"
   ]
  },
  {
   "source": [
    "#### Model Training"
   ],
   "cell_type": "markdown",
   "metadata": {}
  },
  {
   "cell_type": "code",
   "execution_count": null,
   "metadata": {},
   "outputs": [],
   "source": [
    "from mmlspark.lightgbm import LightGBMRanker\n",
    "\n",
    "features_col = 'features'\n",
    "query_col = 'query'\n",
    "label_col = 'labels'\n",
    "lgbm_ranker = LightGBMRanker(labelCol=label_col,\n",
    "                             featuresCol=features_col,\n",
    "                             groupCol=query_col,\n",
    "                             predictionCol='preds',\n",
    "                             leafPredictionCol='leafPreds',\n",
    "                             featuresShapCol='importances',\n",
    "                             repartitionByGroupingColumn=True,\n",
    "                             numLeaves=32,\n",
    "                             numIterations=200,\n",
    "                             evalAt=[1,3,5],\n",
    "                             metric='ndcg')"
   ]
  },
  {
   "cell_type": "code",
   "execution_count": null,
   "metadata": {},
   "outputs": [],
   "source": [
    "lgbm_ranker_model = lgbm_ranker.fit(df)"
   ]
  },
  {
   "source": [
    "#### Model Prediction"
   ],
   "cell_type": "markdown",
   "metadata": {}
  },
  {
   "cell_type": "code",
   "execution_count": null,
   "metadata": {},
   "outputs": [],
   "source": [
    "dt = spark.read.format(\"parquet\").load(\"wasbs://publicwasb@mmlspark.blob.core.windows.net/lightGBMRanker_test.parquet\")\n",
    "predictions = lgbm_ranker_model.transform(dt)\n",
    "predictions.limit(10).toPandas()"
   ]
  }
 ]
}