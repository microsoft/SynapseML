{
    "cells": [
        {
            "cell_type": "markdown",
            "metadata": {
                "application/vnd.databricks.v1+cell": {
                    "inputWidgets": {},
                    "nuid": "f4e01a16-20fa-446a-9e3d-b560907b9ab2",
                    "showTitle": false,
                    "title": ""
                }
            },
            "source": [
                "## Data Balance Analysis using the Adult Census Income dataset\n",
                "\n",
                "In this example, we will conduct Data Balance Analysis (which consists on running three groups of measures) on the Adult Census Income dataset to determine how well features and feature values are represented in the dataset.\n",
                "\n",
                "This dataset can be used to predict whether annual income exceeds $50,000/year or not based on demographic data from the 1994 U.S. Census. The dataset we're reading contains 32,561 rows and 14 columns/features.\n",
                "\n",
                "[More info on the dataset here](https://archive.ics.uci.edu/ml/datasets/Adult)\n",
                "\n",
                "---\n",
                "\n",
                "Data Balance Analysis is relevant for overall understanding of datasets, but it becomes essential when thinking about building Machine Learning services out of such datasets. Having a well balanced data representation is critical when developing models in a responsible way, specially in terms of fairness. \n",
                "It is unfortunately all too easy to build an ML model that produces biased results for subsets of an overall population, by training or testing the model on biased ground truth data. There are multiple case studies of biased models assisting in granting loans, healthcare, recruitment opportunities and many other decision making tasks. In most of these examples, the data from which these models are trained was the common issue. These findings emphasize how important it is for model creators and auditors to analyze data balance: to measure training data across sub-populations and ensure the data has good coverage and a balanced representation of labels across sensitive categories and category combinations, and to check that test data is representative of the target population.\n",
                "\n",
                "In summary, Data Balance Analysis, used as a step for building ML models has the following benefits:\n",
                "* **Reduces risks for unbalanced models (facilitate service fairness) and reduces costs of ML building** by identifying early on data representation gaps that prompt data scientists to seek mitigation steps (collect more data, follow a specific sampling mechanism, create synthetic data, etc.) before proceeding to train their models. \n",
                "* **Enables easy e2e debugging of ML systems** in combination with [Fairlearn](https://fairlearn.org/) by providing a clear view if for an unbalanced model the issue is tied to the data or the model. \n",
                "\n",
                "---\n",
                "\n",
                "Note: If you are running this notebook in a Spark environment such as Azure Synapse or Databricks, then you can easily visualize the imbalance measures using the built-in plotting features.\n",
                "\n",
                "Python dependencies:\n",
                "* matplotlib==3.2.2\n",
                "* numpy==1.19.2"
            ]
        },
        {
            "cell_type": "code",
            "execution_count": null,
            "metadata": {
                "application/vnd.databricks.v1+cell": {
                    "inputWidgets": {},
                    "nuid": "a51d55f3-8f47-47e6-8698-4b78e65f034d",
                    "showTitle": false,
                    "title": ""
                }
            },
            "outputs": [],
            "source": [
                "import matplotlib\n",
                "import matplotlib.pyplot as plt\n",
                "import numpy as np\n",
                "import pyspark.sql.functions as F"
            ]
        },
        {
            "cell_type": "code",
            "execution_count": null,
            "metadata": {
                "application/vnd.databricks.v1+cell": {
                    "inputWidgets": {},
                    "nuid": "5c7332a8-b256-4c57-a593-ab338f7ca623",
                    "showTitle": false,
                    "title": ""
                }
            },
            "outputs": [],
            "source": [
                "df = spark.read.parquet(\"wasbs://publicwasb@mmlspark.blob.core.windows.net/AdultCensusIncome.parquet\")\n",
                "display(df)"
            ]
        },
        {
            "cell_type": "code",
            "execution_count": null,
            "metadata": {
                "application/vnd.databricks.v1+cell": {
                    "inputWidgets": {},
                    "nuid": "267c342b-2770-4dff-aae3-aa75af24adef",
                    "showTitle": false,
                    "title": ""
                }
            },
            "outputs": [],
            "source": [
                "# Convert the \"income\" column from {<=50K, >50K} to {0, 1} to represent our binary classification label column\n",
                "label_col = \"income\"\n",
                "df = df.withColumn(label_col, F.when(F.col(label_col).contains(\"<=50K\"), F.lit(0)).otherwise(F.lit(1)))"
            ]
        },
        {
            "cell_type": "markdown",
            "metadata": {
                "application/vnd.databricks.v1+cell": {
                    "inputWidgets": {},
                    "nuid": "5af3f65c-5f1b-4e11-9bc9-ffa2b00116ae",
                    "showTitle": false,
                    "title": ""
                }
            },
            "source": [
                "### Perform preliminary analysis on columns of interest"
            ]
        },
        {
            "cell_type": "code",
            "execution_count": null,
            "metadata": {
                "application/vnd.databricks.v1+cell": {
                    "inputWidgets": {},
                    "nuid": "819cb707-a3fd-45c0-a3d9-96e54d4a7e6f",
                    "showTitle": false,
                    "title": ""
                }
            },
            "outputs": [],
            "source": [
                "display(df.groupBy(\"race\").count())"
            ]
        },
        {
            "cell_type": "code",
            "execution_count": null,
            "metadata": {
                "application/vnd.databricks.v1+cell": {
                    "inputWidgets": {},
                    "nuid": "dd78d2b8-fefa-458b-bc23-629f7e763414",
                    "showTitle": false,
                    "title": ""
                }
            },
            "outputs": [],
            "source": [
                "display(df.groupBy(\"sex\").count())"
            ]
        },
        {
            "cell_type": "code",
            "execution_count": null,
            "metadata": {
                "application/vnd.databricks.v1+cell": {
                    "inputWidgets": {},
                    "nuid": "0d14030f-1fd8-4c1e-8742-7ad7d2dea4d2",
                    "showTitle": false,
                    "title": ""
                }
            },
            "outputs": [],
            "source": [
                "# Choose columns/features to do data balance analysis on\n",
                "cols_of_interest = [\"race\", \"sex\"]\n",
                "display(df.select(cols_of_interest + [label_col]))"
            ]
        },
        {
            "cell_type": "markdown",
            "metadata": {
                "application/vnd.databricks.v1+cell": {
                    "inputWidgets": {},
                    "nuid": "ae54d20f-f04a-4ffd-a442-e995955d922e",
                    "showTitle": false,
                    "title": ""
                }
            },
            "source": [
                "### Calculate Feature Balance Measures\n",
                "\n",
                "Feature Balance Measures allow us to see whether each combination of sensitive feature is receiving the positive outcome (true prediction) at equal rates.\n",
                "\n",
                "In this context, we define a feature balance measure, also referred to as the parity, for label y as the absolute difference between the association metrics of two different sensitive classes \\\\([x_A, x_B]\\\\), with respect to the association metric \\\\(A(x_i, y)\\\\). That is:\n",
                "\n",
                "$$parity(y \\vert x_A, x_B, A(\\cdot)) \\coloneqq A(x_A, y) - A(x_B, y) $$\n",
                "\n",
                "Using the dataset, we can see if the various sexes and races are receiving >50k income at equal or unequal rates.\n",
                "\n",
                "Note: Many of these metrics were influenced by this paper [Measuring Model Biases in the Absence of Ground Truth](https://arxiv.org/abs/2103.03417).\n",
                "\n",
                "Measure | Family | Description | Interpretation/Formula | Reference\n",
                "- | - | - | - | -\n",
                "Demographic Parity | Fairness | Proportion of each segment of a protected class (e.g. gender) should receive the positive outcome at equal rates. | As close to 0 means better parity. \\\\(DP = P(Y \\vert A = \"Male\") - P(Y \\vert A = \"Female\")\\\\). Y = Positive label rate. | [Link](https://en.wikipedia.org/wiki/Fairness_%28machine_learning%29)\n",
                "Pointwise Mutual Information (PMI), normalized PMI | Entropy | The PMI of a pair of feature values (ex: Gender=Male and Gender=Female) quantifies the discrepancy between the probability of their coincidence given their joint distribution and their individual distributions (assuming independence). | Range (normalized) [-1, 1]. -1 for no co-occurences. 0 for co-occurences at random. 1 for complete co-occurences. | [Link](https://en.wikipedia.org/wiki/Pointwise_mutual_information)\n",
                "Sorensen-Dice Coefficient (SDC) | Intersection-over-Union | Used to gauge the similarity of two samples. Related to F1 score. | Equals twice the number of elements common to both sets divided by the sum of the number of elements in each set. | [Link](https://en.wikipedia.org/wiki/S%C3%B8rensen%E2%80%93Dice_coefficient)\n",
                "Jaccard Index | Intersection-over-Union | Similar to SDC, guages the similarity and diversity of sample sets. | Equals the size of the intersection divided by the size of the union of the sample sets. | [Link](https://en.wikipedia.org/wiki/Jaccard_index)\n",
                "Kendall Rank Correlation | Correlation and Statistical Tests | Used to measure the ordinal association between two measured quantities. | High when observations have a similar rank and low when observations have a dissimilar rank between the two variables. | [Link](https://en.wikipedia.org/wiki/Kendall_rank_correlation_coefficient)\n",
                "Log-Likelihood Ratio | Correlation and Statistical Tests | Calculates the degree to which data supports one variable versus another. Log of the likelihood ratio, which gives the probability of correctly predicting the label in ratio to probability of incorrectly predicting label. | If likelihoods are similar, it should be close to 0. | [Link](https://en.wikipedia.org/wiki/Likelihood_function#Likelihood_ratio)\n",
                "t-test | Correlation and Statistical Tests | Used to compare the means of two groups (pairwise). | Value looked up in t-Distribution tell if statistically significant or not. | [Link](https://en.wikipedia.org/wiki/Student's_t-test)"
            ]
        },
        {
            "cell_type": "code",
            "execution_count": null,
            "metadata": {
                "application/vnd.databricks.v1+cell": {
                    "inputWidgets": {},
                    "nuid": "5dd892b3-b2e6-4fcb-8829-9c058fa4fd5e",
                    "showTitle": false,
                    "title": ""
                }
            },
            "outputs": [],
            "source": [
                "from synapse.ml.exploratory import FeatureBalanceMeasure\n",
                "\n",
                "feature_balance_measures = (\n",
                "    FeatureBalanceMeasure()\n",
                "    .setSensitiveCols(cols_of_interest)\n",
                "    .setLabelCol(label_col)\n",
                "    .setVerbose(True)\n",
                "    .transform(df)\n",
                ")\n",
                "\n",
                "# Sort by Demographic Parity descending for all features\n",
                "display(feature_balance_measures.sort(F.abs(\"FeatureBalanceMeasure.dp\").desc()))"
            ]
        },
        {
            "cell_type": "code",
            "execution_count": null,
            "metadata": {
                "application/vnd.databricks.v1+cell": {
                    "inputWidgets": {},
                    "nuid": "46e1a9a7-97c7-437e-bead-eaf4c3b9e0d6",
                    "showTitle": false,
                    "title": ""
                }
            },
            "outputs": [],
            "source": [
                "# Drill down to feature == \"sex\"\n",
                "display(feature_balance_measures.filter(F.col(\"FeatureName\") == \"sex\").sort(F.abs(\"FeatureBalanceMeasure.dp\").desc()))"
            ]
        },
        {
            "cell_type": "code",
            "execution_count": null,
            "metadata": {
                "application/vnd.databricks.v1+cell": {
                    "inputWidgets": {},
                    "nuid": "d4bd77a1-3c10-4e16-9892-4ac920fb4432",
                    "showTitle": false,
                    "title": ""
                }
            },
            "outputs": [],
            "source": [
                "# Drill down to feature == \"race\"\n",
                "display(feature_balance_measures.filter(F.col(\"FeatureName\") == \"race\").sort(F.abs(\"FeatureBalanceMeasure.dp\").desc()))"
            ]
        },
        {
            "cell_type": "markdown",
            "metadata": {
                "application/vnd.databricks.v1+cell": {
                    "inputWidgets": {},
                    "nuid": "aaec9b6a-06c6-4afb-86c8-a7fbc3df92d7",
                    "showTitle": false,
                    "title": ""
                }
            },
            "source": [
                "#### Visualize Feature Balance Measures"
            ]
        },
        {
            "cell_type": "code",
            "execution_count": null,
            "metadata": {
                "application/vnd.databricks.v1+cell": {
                    "inputWidgets": {},
                    "nuid": "969e62cd-bb6c-4417-9046-dd8aa6d0fa9e",
                    "showTitle": false,
                    "title": ""
                }
            },
            "outputs": [
                {
                    "data": {
                        "image/png": "[encoded data removed]"
                    },
                    "metadata": {
                        "application/vnd.databricks.v1+output": {
                            "addedWidgets": {},
                            "arguments": {},
                            "data": "/plots/20a813a2-9400-4146-8101-3af317e3089d.png",
                            "datasetInfos": [],
                            "metadata": {},
                            "removedWidgets": [],
                            "type": "image"
                        }
                    },
                    "output_type": "display_data"
                }
            ],
            "source": [
                "races = [row[\"race\"] for row in df.groupBy(\"race\").count().select(\"race\").collect()]\n",
                "dp_rows = feature_balance_measures.filter(F.col(\"FeatureName\") == \"race\").select(\"ClassA\", \"ClassB\", \"FeatureBalanceMeasure.dp\").collect()\n",
                "race_dp_values = [(row[\"ClassA\"], row[\"ClassB\"], row[\"dp\"]) for row in dp_rows]\n",
                "\n",
                "race_dp_array = np.zeros((len(races), len(races)))\n",
                "for class_a, class_b, dp_value in race_dp_values:\n",
                "  i, j = races.index(class_a), races.index(class_b)\n",
                "  dp_value = round(dp_value, 2)\n",
                "  race_dp_array[i, j] = dp_value\n",
                "  race_dp_array[j, i] = -1 * dp_value\n",
                "\n",
                "colormap = \"RdBu\"\n",
                "dp_min, dp_max = -1.0, 1.0\n",
                "\n",
                "fig, ax = plt.subplots()\n",
                "im = ax.imshow(race_dp_array, vmin=dp_min, vmax=dp_max, cmap=colormap)\n",
                "\n",
                "cbar = ax.figure.colorbar(im, ax=ax)\n",
                "cbar.ax.set_ylabel(\"Demographic Parity\", rotation=-90, va=\"bottom\")\n",
                "\n",
                "ax.set_xticks(np.arange(len(races)))\n",
                "ax.set_yticks(np.arange(len(races)))\n",
                "ax.set_xticklabels(races)\n",
                "ax.set_yticklabels(races)\n",
                "\n",
                "plt.setp(ax.get_xticklabels(), rotation=45, ha=\"right\", rotation_mode=\"anchor\")\n",
                "\n",
                "for i in range(len(races)):\n",
                "  for j in range(len(races)):\n",
                "    text = ax.text(j, i, race_dp_array[i, j], ha=\"center\", va=\"center\", color=\"k\")\n",
                "    \n",
                "ax.set_title(\"Demographic Parity of Races in Adult Dataset\")\n",
                "fig.tight_layout()\n",
                "plt.show()"
            ]
        },
        {
            "cell_type": "markdown",
            "metadata": {
                "application/vnd.databricks.v1+cell": {
                    "inputWidgets": {},
                    "nuid": "63884ff1-6fcf-491d-9c2a-46f0fa4bbc58",
                    "showTitle": false,
                    "title": ""
                }
            },
            "source": [
                "#### Interpret Feature Balance Measures\n",
                "\n",
                "Demographic Parity:\n",
                "* When it is positive, it means that ClassA sees the positive outcome more than ClassB.\n",
                "* When it is negative, it means that ClassB sees the positive outcome more than ClassA.\n",
                "\n",
                "---\n",
                "\n",
                "From the results, we can tell the following:\n",
                "\n",
                "For Sex:\n",
                "* DP(Male, Female) = 0.1963 shows \"Male\" observations are associated with \">50k\" income label more often than \"Female\" observations.\n",
                "\n",
                "For Race:\n",
                "* DP(Other, Asian-Pac-Islander) = -0.1734 shows \"Other\" observations are associated with \">50k\" income label less than \"Asian-Pac-Islander\" observations.\n",
                "* DP(White, Other) = 0.1636 shows \"White\" observations are associated with \">50k\" income label more often than \"Other\" observations.\n",
                "* DP(Asian-Pac-Islander, Amer-Indian-Eskimo) = 0.1494 shows \"Asian-Pac-Islander\" observations are associated with \">50k\" income label more often than \"Amer-Indian-Eskimo\" observations.\n",
                "\n",
                "Again, you can take mitigation steps to upsample/downsample your data to be less biased towards certain features and feature values.\n",
                "\n",
                "Built-in mitigation steps are coming soon."
            ]
        },
        {
            "cell_type": "markdown",
            "metadata": {
                "application/vnd.databricks.v1+cell": {
                    "inputWidgets": {},
                    "nuid": "471830e4-f77d-4567-8475-8dd398f3fae4",
                    "showTitle": false,
                    "title": ""
                }
            },
            "source": [
                "### Calculate Distribution Balance Measures\n",
                "\n",
                "Distribution Balance Measures allow us to compare our data with a reference distribution (i.e. uniform distribution). They are calculated per sensitive column and don't use the label column.\n",
                "\n",
                "For example, let's assume we have a dataset with 9 rows and a Gender column, and we observe that:\n",
                "* \"Male\" appears 4 times\n",
                "* \"Female\" appears 3 times\n",
                "* \"Other\" appears 2 times\n",
                "\n",
                "Assuming the uniform distribution:\n",
                "$$ReferenceCount \\coloneqq  \\frac{numRows}{numFeatureValues}$$\n",
                "$$ReferenceProbability \\coloneqq  \\frac{1}{numFeatureValues}$$\n",
                "\n",
                "Feature Value | Observed Count | Reference Count | Observed Probability | Reference Probabiliy\n",
                "- | - | - | - | -\n",
                "Male | 4 | 9/3 = 3 | 4/9 = 0.44 | 3/9 = 0.33\n",
                "Female | 3 | 9/3 = 3 | 3/9 = 0.33 | 3/9 = 0.33\n",
                "Other | 2 | 9/3 = 3 | 2/9 = 0.22 | 3/9 = 0.33\n",
                "\n",
                "We can use distance measures to find out how far our observed and reference distributions of these feature values are. Some of these distance measures include:\n",
                "\n",
                "Measure | Description | Interpretation | Reference\n",
                "- | - | - | -\n",
                "KL Divergence | Measure of how one probability distribution is different from a second, reference probability distribution. Measure of the information gained when one revises one's beliefs from the prior probability distribution Q to the posterior probability distribution P. In other words, it is the amount of information lost when Q is used to approximate P. | Non-negative. 0 means P = Q. | [Link](https://en.wikipedia.org/wiki/Kullback%E2%80%93Leibler_divergence)\n",
                "JS Distance | Measuring the similarity between two probability distributions. Symmetrized and smoothed version of the Kullback–Leibler (KL) divergence. Square root of JS Divergence. | Range [0, 1]. 0 means perfectly same to balanced distribution. | [Link](https://en.wikipedia.org/wiki/Jensen%E2%80%93Shannon_divergence)\n",
                "Wasserstein Distance | This distance is also known as the earth mover’s distance, since it can be seen as the minimum amount of “work” required to transform u into v, where “work” is measured as the amount of distribution weight that must be moved, multiplied by the distance it has to be moved. | Non-negative. 0 means P = Q. | [Link](https://en.wikipedia.org/wiki/Wasserstein_metric)\n",
                "Infinity Norm Distance | Distance between two vectors is the greatest of their differences along any coordinate dimension. Also called Chebyshev distance or chessboard distance. | Non-negative. 0 means same distribution. | [Link](https://en.wikipedia.org/wiki/Chebyshev_distance)\n",
                "Total Variation Distance | It is equal to half the L1 (Manhattan) distance between the two distributions. Take the difference between the two proportions in each category, add up the absolute values of all the differences, and then divide the sum by 2. | Non-negative. 0 means same distribution. | [Link](https://en.wikipedia.org/wiki/Total_variation_distance_of_probability_measures)\n",
                "Chi-Squared Test | The chi-square test tests the null hypothesis that the categorical data has the given frequencies given expected frequencies in each category. | p-value gives evidence against null-hypothesis that difference in observed and expected frequencies is by random chance. | [Link](https://en.wikipedia.org/wiki/Chi-squared_test)"
            ]
        },
        {
            "cell_type": "code",
            "execution_count": null,
            "metadata": {
                "application/vnd.databricks.v1+cell": {
                    "inputWidgets": {},
                    "nuid": "61a36af1-9b38-45a9-89b5-39b2d14093c4",
                    "showTitle": false,
                    "title": ""
                }
            },
            "outputs": [],
            "source": [
                "from synapse.ml.exploratory import DistributionBalanceMeasure\n",
                "\n",
                "distribution_balance_measures = (\n",
                "    DistributionBalanceMeasure()\n",
                "   .setSensitiveCols(cols_of_interest)\n",
                "   .transform(df)\n",
                ")\n",
                "\n",
                "# Sort by JS Distance descending\n",
                "display(distribution_balance_measures.sort(F.abs(\"DistributionBalanceMeasure.js_dist\").desc()))"
            ]
        },
        {
            "cell_type": "markdown",
            "metadata": {
                "application/vnd.databricks.v1+cell": {
                    "inputWidgets": {},
                    "nuid": "ad2c4353-664d-4117-a629-45f66e92a4bd",
                    "showTitle": false,
                    "title": ""
                }
            },
            "source": [
                "#### Visualize Distribution Balance Measures"
            ]
        },
        {
            "cell_type": "code",
            "execution_count": null,
            "metadata": {
                "application/vnd.databricks.v1+cell": {
                    "inputWidgets": {},
                    "nuid": "32a10ac1-4d12-496c-97ea-3b52e5f61d15",
                    "showTitle": false,
                    "title": ""
                }
            },
            "outputs": [
                {
                    "data": {
                        "image/png": "[encoded data removed]"
                    },
                    "metadata": {
                        "application/vnd.databricks.v1+output": {
                            "addedWidgets": {},
                            "arguments": {},
                            "data": "/plots/290402f0-7a7d-4689-865d-2fd43896e913.png",
                            "datasetInfos": [],
                            "metadata": {},
                            "removedWidgets": [],
                            "type": "image"
                        }
                    },
                    "output_type": "display_data"
                }
            ],
            "source": [
                "distribution_rows = distribution_balance_measures.collect()\n",
                "race_row = [row for row in distribution_rows if row[\"FeatureName\"] == \"race\"][0][\"DistributionBalanceMeasure\"]\n",
                "sex_row = [row for row in distribution_rows if row[\"FeatureName\"] == \"sex\"][0][\"DistributionBalanceMeasure\"]\n",
                "\n",
                "measures_of_interest = [\"kl_divergence\", \"js_dist\", \"inf_norm_dist\", \"total_variation_dist\", \"wasserstein_dist\"]\n",
                "race_measures = [round(race_row[measure], 4) for measure in measures_of_interest]\n",
                "sex_measures = [round(sex_row[measure], 4) for measure in measures_of_interest]\n",
                "\n",
                "x = np.arange(len(measures_of_interest))\n",
                "width = 0.35\n",
                "\n",
                "fig, ax = plt.subplots()\n",
                "rects1 = ax.bar(x - width/2, race_measures, width, label=\"Race\")\n",
                "rects2 = ax.bar(x + width/2, sex_measures, width, label=\"Sex\")\n",
                "\n",
                "ax.set_xlabel(\"Measure\")\n",
                "ax.set_ylabel(\"Value\")\n",
                "ax.set_title(\"Distribution Balance Measures of Sex and Race in Adult Dataset\")\n",
                "ax.set_xticks(x)\n",
                "ax.set_xticklabels(measures_of_interest)\n",
                "ax.legend()\n",
                "\n",
                "plt.setp(ax.get_xticklabels(), rotation=20, ha=\"right\", rotation_mode=\"default\")\n",
                "\n",
                "def autolabel(rects):\n",
                "  for rect in rects:\n",
                "    height = rect.get_height()\n",
                "    ax.annotate('{}'.format(height),\n",
                "                xy=(rect.get_x() + rect.get_width() / 2, height),\n",
                "                xytext=(0, 1),  # 1 point vertical offset\n",
                "                textcoords=\"offset points\",\n",
                "                ha='center', va='bottom')\n",
                "\n",
                "autolabel(rects1)\n",
                "autolabel(rects2)\n",
                "\n",
                "fig.tight_layout()\n",
                "\n",
                "plt.show()"
            ]
        },
        {
            "cell_type": "markdown",
            "metadata": {
                "application/vnd.databricks.v1+cell": {
                    "inputWidgets": {},
                    "nuid": "2498f850-584c-4e7f-a55e-a79fd27bda2e",
                    "showTitle": false,
                    "title": ""
                }
            },
            "source": [
                "#### Interpret Distribution Balance Measures\n",
                "\n",
                "Race has a JS Distance of 0.5104 while Sex has a JS Distance of 0.1217.\n",
                "\n",
                "Knowing that JS Distance is between [0, 1] where 0 means perfectly balanced distribution, we can tell that:\n",
                "* There is a larger disparity between various races than various sexes in our dataset.\n",
                "* Race is nowhere close to a perfectly balanced distribution (i.e. some races are seen ALOT more than others in our dataset).\n",
                "* Sex is fairly close to a perfectly balanced distribution."
            ]
        },
        {
            "cell_type": "markdown",
            "metadata": {
                "application/vnd.databricks.v1+cell": {
                    "inputWidgets": {},
                    "nuid": "2d848302-5693-4329-b4a4-da428ae431ed",
                    "showTitle": false,
                    "title": ""
                }
            },
            "source": [
                "### Calculate Aggregate Balance Measures\n",
                "\n",
                "Aggregate Balance Measures allow us to obtain a higher notion of inequality. They are calculated on the global set of sensitive columns and don't use the label column.\n",
                "\n",
                "These measures look at distribution of records across all combinations of sensitive columns. For example, if Sex and Race are sensitive columns, it shall try to quantify imbalance across all combinations - (Male, Black), (Female, White), (Male, Asian-Pac-Islander), etc.\n",
                "\n",
                "Measure | Description | Interpretation | Reference\n",
                "- | - | - | -\n",
                "Atkinson Index | It presents the percentage of total income that a given society would have to forego in order to have more equal shares of income between its citizens. This measure depends on the degree of society aversion to inequality (a theoretical parameter decided by the researcher), where a higher value entails greater social utility or willingness by individuals to accept smaller incomes in exchange for a more equal distribution. An important feature of the Atkinson index is that it can be decomposed into within-group and between-group inequality. | Range [0, 1]. 0 if perfect equality. 1 means maximum inequality. In our case, it is the proportion of records for a sensitive columns’ combination. | [Link](https://en.wikipedia.org/wiki/Atkinson_index)\n",
                "Theil T Index | GE(1) = Theil's T and is more sensitive to differences at the top of the distribution. The Theil index is a statistic used to measure economic inequality. The Theil index measures an entropic \"distance\" the population is away from the \"ideal\" egalitarian state of everyone having the same income. | If everyone has the same income, then T_T equals 0. If one person has all the income, then T_T gives the result (ln N). 0 means equal income and larger values mean higher level of disproportion. | [Link](https://en.wikipedia.org/wiki/Theil_index)\n",
                "Theil L Index | GE(0) = Theil's L and is more sensitive to differences at the lower end of the distribution. Logarithm of (mean income)/(income i), over all the incomes included in the summation. It is also referred to as the mean log deviation measure. Because a transfer from a larger income to a smaller one will change the smaller income's ratio more than it changes the larger income's ratio, the transfer-principle is satisfied by this index. | Same interpretation as Theil T Index. | [Link](https://en.wikipedia.org/wiki/Theil_index)"
            ]
        },
        {
            "cell_type": "code",
            "execution_count": null,
            "metadata": {
                "application/vnd.databricks.v1+cell": {
                    "inputWidgets": {},
                    "nuid": "d08ea1fd-8a70-407e-a9ad-9b6cac5c65bf",
                    "showTitle": false,
                    "title": ""
                }
            },
            "outputs": [],
            "source": [
                "from synapse.ml.exploratory import AggregateBalanceMeasure\n",
                "\n",
                "aggregate_balance_measures = (\n",
                "    AggregateBalanceMeasure()\n",
                "    .setSensitiveCols(cols_of_interest)\n",
                "    .transform(df)\n",
                ")\n",
                "\n",
                "display(aggregate_balance_measures)"
            ]
        },
        {
            "cell_type": "markdown",
            "metadata": {
                "application/vnd.databricks.v1+cell": {
                    "inputWidgets": {},
                    "nuid": "0666d394-be89-470c-bc31-a9cd28f86264",
                    "showTitle": false,
                    "title": ""
                }
            },
            "source": [
                "#### Interpret Aggregate Balance Measures\n",
                "\n",
                "An Atkinson Index of 0.7779 lets us know that 77.79% of data points need to be foregone to have a more equal share among our features.\n",
                "\n",
                "It lets us know that our dataset is leaning towards maximum inequality, and we should take actionable steps to:\n",
                "* Upsample data points where the feature value is barely observed.\n",
                "* Downsample data points where the feature value is observed much more than others."
            ]
        },
        {
            "cell_type": "markdown",
            "metadata": {
                "application/vnd.databricks.v1+cell": {
                    "inputWidgets": {},
                    "nuid": "1a1fb46f-8c88-44fe-9177-76f09e07202e",
                    "showTitle": false,
                    "title": ""
                }
            },
            "source": [
                "### Summary\n",
                "\n",
                "Throughout the course of this sample notebook, we have:\n",
                "1. Chosen \"Race\" and \"Sex\" as columns of interest in the Adult Census Income dataset.\n",
                "2. Done preliminary analysis on our dataset. \n",
                "3. Ran the 3 groups of measures that compose our **Data Balance Analysis**:\n",
                "  * **Feature Balance Measures**\n",
                "    * Calculated Feature Balance Measures to see that the highest Demographic Parity is in \"Sex\": Males see >50k income much more than Females.\n",
                "    * Visualized Demographic Parity of Races to see that Asian-Pac-Islander sees >50k income much more than Other, in addition to other race combinations.\n",
                "  * **Distribution Balance Measures** \n",
                "    * Calculated Distribution Balance Measures to see that \"Sex\" is much closer to a perfectly balanced distribution than \"Race\".\n",
                "    * Visualized various distribution balance measures to compare their values for \"Race\" and \"Sex\".\n",
                "  * **Aggregate Balance Measures**\n",
                "    * Calculated Aggregate Balance Measures to see that we need to forego 77.79% of data points to have a perfectly balanced dataset. We identified that our dataset is leaning towards maximum inequality, and we should take actionable steps to:\n",
                "    * Upsample data points where the feature value is barely observed.\n",
                "    * Downsample data points where the feature value is observed much more than others.\n",
                "    \n",
                "**In conclusion:**\n",
                "* These measures provide an indicator of disparity on the data, allowing for users to explore potential mitigations before proceeding to train. \n",
                "* Users can use these measures to set thresholds on their level of \"tolerance\" for data representation.\n",
                "* Production pipelines can use these measures as baseline for models that require frequent retraining on new data. \n",
                "* These measures can also be saved as key metadata for the model/service built and added as part of model cards or transparency notes helping drive overall accountability for the ML service built and its performance across different demographics or sensitive attributes."
            ]
        }
    ],
    "metadata": {
        "application/vnd.databricks.v1+notebook": {
            "dashboards": [],
            "language": "python",
            "notebookMetadata": {
                "pythonIndentUnit": 2
            },
            "notebookName": "AdultCensusIncome Tutorial",
            "notebookOrigID": 4073163981188018,
            "widgets": {}
        },
        "language_info": {
            "name": "python"
        }
    },
    "nbformat": 4,
    "nbformat_minor": 0
}
