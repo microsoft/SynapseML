{
 "metadata": {
  "language_info": {
   "codemirror_mode": {
    "name": "ipython",
    "version": 3
   },
   "file_extension": ".py",
   "mimetype": "text/x-python",
   "name": "python",
   "nbconvert_exporter": "python",
   "pygments_lexer": "ipython3",
   "version": 3
  },
  "orig_nbformat": 2
 },
 "nbformat": 4,
 "nbformat_minor": 2,
 "cells": [
  {
   "cell_type": "markdown",
   "source": [
    "<img width=\"200\"  src=\"https://mmlspark.blob.core.windows.net/graphics/Readme/cog_services_on_spark_2.svg\" />\n",
    "\n",
    "# Cognitive Services\n",
    "\n",
    "[Azure Cognitive Services](https://azure.microsoft.com/en-us/services/cognitive-services/) are a suite of APIs, SDKs, and services available to help developers build intelligent applications without having direct AI or data science skills or knowledge by enabling developers to easily add cognitive features into their applications. The goal of Azure Cognitive Services is to help developers create applications that can see, hear, speak, understand, and even begin to reason. The catalog of services within Azure Cognitive Services can be categorized into five main pillars - Vision, Speech, Language, Web Search, and Decision.\n",
    "\n",
    "## Usage\n",
    "\n",
    "### Vision\n",
    "[**Computer Vision**](https://azure.microsoft.com/en-us/services/cognitive-services/computer-vision/)\n",
    "- Describe: provides description of an image in human readable language ([Scala](https://mmlspark.blob.core.windows.net/docs/0.9.1/scala/com/microsoft/azure/synapse/ml/cognitive/DescribeImage.html), [Python](https://mmlspark.blob.core.windows.net/docs/0.9.1/pyspark/synapse.ml.cognitive.html#module-synapse.ml.cognitive.DescribeImage))\n",
    "- Analyze (color, image type, face, adult/racy content): analyzes visual features of an image ([Scala](https://mmlspark.blob.core.windows.net/docs/0.9.1/scala/com/microsoft/azure/synapse/ml/cognitive/AnalyzeImage.html), [Python](https://mmlspark.blob.core.windows.net/docs/0.9.1/pyspark/synapse.ml.cognitive.html#module-synapse.ml.cognitive.AnalyzeImage))\n",
    "- OCR: reads text from an image ([Scala](https://mmlspark.blob.core.windows.net/docs/0.9.1/scala/com/microsoft/azure/synapse/ml/cognitive/OCR.html), [Python](https://mmlspark.blob.core.windows.net/docs/0.9.1/pyspark/synapse.ml.cognitive.html#module-synapse.ml.cognitive.OCR))\n",
    "- Recognize Text: reads text from an image ([Scala](https://mmlspark.blob.core.windows.net/docs/0.9.1/scala/com/microsoft/azure/synapse/ml/cognitive/RecognizeText.html), [Python](https://mmlspark.blob.core.windows.net/docs/0.9.1/pyspark/synapse.ml.cognitive.html#module-synapse.ml.cognitive.RecognizeText))\n",
    "- Thumbnail: generates a thumbnail of user-specified size from the image ([Scala](https://mmlspark.blob.core.windows.net/docs/0.9.1/scala/com/microsoft/azure/synapse/ml/cognitive/GenerateThumbnails.html), [Python](https://mmlspark.blob.core.windows.net/docs/0.9.1/pyspark/synapse.ml.cognitive.html#module-synapse.ml.cognitive.GenerateThumbnails))\n",
    "- Recognize domain-specific content: recognizes domain-specific content (celebrity, landmark) ([Scala](https://mmlspark.blob.core.windows.net/docs/0.9.1/scala/com/microsoft/azure/synapse/ml/cognitive/RecognizeDomainSpecificContent.html), [Python](https://mmlspark.blob.core.windows.net/docs/0.9.1/pyspark/synapse.ml.cognitive.html#module-synapse.ml.cognitive.RecognizeDomainSpecificContent))\n",
    "- Tag: identifies list of words that are relevant to the in0put image ([Scala](https://mmlspark.blob.core.windows.net/docs/0.9.1/scala/com/microsoft/azure/synapse/ml/cognitive/TagImage.html), [Python](https://mmlspark.blob.core.windows.net/docs/0.9.1/pyspark/synapse.ml.cognitive.html#module-synapse.ml.cognitive.TagImage))\n",
    "\n",
    "[**Face**](https://azure.microsoft.com/en-us/services/cognitive-services/face/)\n",
    "- Detect: detects human faces in an image ([Scala](https://mmlspark.blob.core.windows.net/docs/0.9.1/scala/com/microsoft/azure/synapse/ml/cognitive/DetectFace.html), [Python](https://mmlspark.blob.core.windows.net/docs/0.9.1/pyspark/synapse.ml.cognitive.html#module-synapse.ml.cognitive.DetectFace))\n",
    "- Verify: verifies whether two faces belong to a same person, or a face belongs to a person ([Scala](https://mmlspark.blob.core.windows.net/docs/0.9.1/scala/com/microsoft/azure/synapse/ml/cognitive/VerifyFaces.html), [Python](https://mmlspark.blob.core.windows.net/docs/0.9.1/pyspark/synapse.ml.cognitive.html#module-synapse.ml.cognitive.VerifyFaces))\n",
    "- Identify: finds the closest matches of the specific query person face from a person group ([Scala](https://mmlspark.blob.core.windows.net/docs/0.9.1/scala/com/microsoft/azure/synapse/ml/cognitive/IdentifyFaces.html), [Python](https://mmlspark.blob.core.windows.net/docs/0.9.1/pyspark/synapse.ml.cognitive.html#module-synapse.ml.cognitive.IdentifyFaces))\n",
    "- Find similar: finds similar faces to the query face in a face list ([Scala](https://mmlspark.blob.core.windows.net/docs/0.9.1/scala/com/microsoft/azure/synapse/ml/cognitive/FindSimilarFace.html), [Python](https://mmlspark.blob.core.windows.net/docs/0.9.1/pyspark/synapse.ml.cognitive.html#module-synapse.ml.cognitive.FindSimilarFace))\n",
    "- Group: divides a group of faces into disjoint groups based on similarity ([Scala](https://mmlspark.blob.core.windows.net/docs/0.9.1/scala/com/microsoft/azure/synapse/ml/cognitive/GroupFaces.html), [Python](https://mmlspark.blob.core.windows.net/docs/0.9.1/pyspark/synapse.ml.cognitive.html#module-synapse.ml.cognitive.GroupFaces))\n",
    "\n",
    "### Speech\n",
    "[**Speech Services**](https://azure.microsoft.com/en-us/services/cognitive-services/speech-services/)\n",
    "- Speech-to-text: transcribes audio streams ([Scala](https://mmlspark.blob.core.windows.net/docs/0.9.1/scala/com/microsoft/azure/synapse/ml/cognitive/SpeechToText.html), [Python](https://mmlspark.blob.core.windows.net/docs/0.9.1/pyspark/synapse.ml.cognitive.html#module-synapse.ml.cognitive.SpeechToText))\n",
    "\n",
    "### Language\n",
    "[**Text Analytics**](https://azure.microsoft.com/en-us/services/cognitive-services/text-analytics/)\n",
    "- Language detection: detects language of the input text ([Scala](https://mmlspark.blob.core.windows.net/docs/0.9.1/scala/com/microsoft/azure/synapse/ml/cognitive/LanguageDetector.html), [Python](https://mmlspark.blob.core.windows.net/docs/0.9.1/pyspark/synapse.ml.cognitive.html#module-synapse.ml.cognitive.LanguageDetector))\n",
    "- Key phrase extraction: identifies the key talking points in the input text ([Scala](https://mmlspark.blob.core.windows.net/docs/0.9.1/scala/com/microsoft/azure/synapse/ml/cognitive/KeyPhraseExtractor.html), [Python](https://mmlspark.blob.core.windows.net/docs/0.9.1/pyspark/synapse.ml.cognitive.html#module-synapse.ml.cognitive.KeyPhraseExtractor))\n",
    "- Named entity recognition: identifies known entities and general named entities in the input text ([Scala](https://mmlspark.blob.core.windows.net/docs/0.9.1/scala/com/microsoft/azure/synapse/ml/cognitive/NER.html), [Python](https://mmlspark.blob.core.windows.net/docs/0.9.1/pyspark/synapse.ml.cognitive.html#module-synapse.ml.cognitive.NER))\n",
    "- Sentiment analysis: returns a score betwee 0 and 1 indicating the sentiment in the input text ([Scala](https://mmlspark.blob.core.windows.net/docs/0.9.1/scala/com/microsoft/azure/synapse/ml/cognitive/TextSentiment.html), [Python](https://mmlspark.blob.core.windows.net/docs/0.9.1/pyspark/synapse.ml.cognitive.html#module-synapse.ml.cognitive.TextSentiment))\n",
    "\n",
    "[**Translator**](https://azure.microsoft.com/en-us/services/cognitive-services/translator/)\n",
    "- Translate: Translates text. ([Scala](https://mmlspark.blob.core.windows.net/docs/0.9.1/scala/com/microsoft/azure/synapse/ml/cognitive/Translate.html), [Python](https://mmlspark.blob.core.windows.net/docs/0.9.1/pyspark/synapse.ml.cognitive.html#module-synapse.ml.cognitive.Translate))\n",
    "- Transliterate: Converts text in one language from one script to another script. ([Scala](https://mmlspark.blob.core.windows.net/docs/0.9.1/scala/com/microsoft/azure/synapse/ml/cognitive/Transliterate.html), [Python](https://mmlspark.blob.core.windows.net/docs/0.9.1/pyspark/synapse.ml.cognitive.html#module-synapse.ml.cognitive.Transliterate))\n",
    "- Detect: Identifies the language of a piece of text. ([Scala](https://mmlspark.blob.core.windows.net/docs/0.9.1/scala/com/microsoft/azure/synapse/ml/cognitive/Detect.html), [Python](https://mmlspark.blob.core.windows.net/docs/0.9.1/pyspark/synapse.ml.cognitive.html#module-synapse.ml.cognitive.Detect))\n",
    "- BreakSentence: Identifies the positioning of sentence boundaries in a piece of text. ([Scala](https://mmlspark.blob.core.windows.net/docs/0.9.1/scala/com/microsoft/azure/synapse/ml/cognitive/BreakSentence.html), [Python](https://mmlspark.blob.core.windows.net/docs/0.9.1/pyspark/synapse.ml.cognitive.html#module-synapse.ml.cognitive.BreakSentence))\n",
    "- Dictionary Lookup: Provides alternative translations for a word and a small number of idiomatic phrases. ([Scala](https://mmlspark.blob.core.windows.net/docs/0.9.1/scala/com/microsoft/azure/synapse/ml/cognitive/DictionaryLookup.html), [Python](https://mmlspark.blob.core.windows.net/docs/0.9.1/pyspark/synapse.ml.cognitive.html#module-synapse.ml.cognitive.DictionaryLookup))\n",
    "- Dictionary Examples: Provides examples that show how terms in the dictionary are used in context. ([Scala](https://mmlspark.blob.core.windows.net/docs/0.9.1/scala/com/microsoft/azure/synapse/ml/cognitive/DictionaryExamples.html), [Python](https://mmlspark.blob.core.windows.net/docs/0.9.1/pyspark/synapse.ml.cognitive.html#module-synapse.ml.cognitive.DictionaryExamples))\n",
    "- Document Translation: Translates documents across all supported languages and dialects while preserving document structure and data format. ([Scala](https://mmlspark.blob.core.windows.net/docs/0.9.1/scala/com/microsoft/azure/synapse/ml/cognitive/DocumentTranslator.html), [Python](https://mmlspark.blob.core.windows.net/docs/0.9.1/pyspark/synapse.ml.cognitive.html#module-synapse.ml.cognitive.DocumentTranslator))\n",
    "\n",
    "### Azure Form Recognizer\n",
    "[**Form Recognizer**](https://azure.microsoft.com/en-us/services/form-recognizer/)\n",
    "- Analyze Layout: Extract text and layout information from a given document. ([Scala](https://mmlspark.blob.core.windows.net/docs/0.9.1/scala/com/microsoft/azure/synapse/ml/cognitive/AnalyzeLayout.html), [Python](https://mmlspark.blob.core.windows.net/docs/0.9.1/pyspark/synapse.ml.cognitive.html#module-synapse.ml.cognitive.AnalyzeLayout))\n",
    "- Analyze Receipts: Detects and extracts data from receipts using optical character recognition (OCR) and our receipt model, enabling you to easily extract structured data from receipts such as merchant name, merchant phone number, transaction date, transaction total, and more. ([Scala](https://mmlspark.blob.core.windows.net/docs/0.9.1/scala/com/microsoft/azure/synapse/ml/cognitive/AnalyzeReceipts.html), [Python](https://mmlspark.blob.core.windows.net/docs/0.9.1/pyspark/synapse.ml.cognitive.html#module-synapse.ml.cognitive.AnalyzeReceipts))\n",
    "- Analyze Business Cards: Detects and extracts data from business cards using optical character recognition (OCR) and our business card model, enabling you to easily extract structured data from business cards such as contact names, company names, phone numbers, emails, and more. ([Scala](https://mmlspark.blob.core.windows.net/docs/0.9.1/scala/com/microsoft/azure/synapse/ml/cognitive/AnalyzeBusinessCards.html), [Python](https://mmlspark.blob.core.windows.net/docs/0.9.1/pyspark/synapse.ml.cognitive.html#module-synapse.ml.cognitive.AnalyzeBusinessCards))\n",
    "- Analyze Invoices: Detects and extracts data from invoices using optical character recognition (OCR) and our invoice understanding deep learning models, enabling you to easily extract structured data from invoices such as customer, vendor, invoice ID, invoice due date, total, invoice amount due, tax amount, ship to, bill to, line items and more. ([Scala](https://mmlspark.blob.core.windows.net/docs/0.9.1/scala/com/microsoft/azure/synapse/ml/cognitive/AnalyzeInvoices.html), [Python](https://mmlspark.blob.core.windows.net/docs/0.9.1/pyspark/synapse.ml.cognitive.html#module-synapse.ml.cognitive.AnalyzeInvoices))\n",
    "- Analyze ID Documents: Detects and extracts data from identification documents using optical character recognition (OCR) and our ID document model, enabling you to easily extract structured data from ID documents such as first name, last name, date of birth, document number, and more. ([Scala](https://mmlspark.blob.core.windows.net/docs/0.9.1/scala/com/microsoft/azure/synapse/ml/cognitive/AnalyzeIDDocuments.html), [Python](https://mmlspark.blob.core.windows.net/docs/0.9.1/pyspark/synapse.ml.cognitive.html#module-synapse.ml.cognitive.AnalyzeIDDocuments))\n",
    "- Analyze Custom Form: Extracts information from forms (PDFs and images) into structured data based on a model created from a set of representative training forms. ([Scala](https://mmlspark.blob.core.windows.net/docs/0.9.1/scala/com/microsoft/azure/synapse/ml/cognitive/AnalyzeCustomModel.html), [Python](https://mmlspark.blob.core.windows.net/docs/0.9.1/pyspark/synapse.ml.cognitive.html#module-synapse.ml.cognitive.AnalyzeCustomModel))\n",
    "- Get Custom Model: Get detailed information about a custom model. ([Scala](https://mmlspark.blob.core.windows.net/docs/0.9.1/scala/com/microsoft/azure/synapse/ml/cognitive/GetCustomModel.html), [Python](https://mmlspark.blob.core.windows.net/docs/0.9.1/scala/com/microsoft/azure/synapse/ml/cognitive/ListCustomModels.html))\n",
    "- List Custom Models: Get information about all custom models. ([Scala](https://mmlspark.blob.core.windows.net/docs/0.9.1/scala/com/microsoft/azure/synapse/ml/cognitive/ListCustomModels.html), [Python](https://mmlspark.blob.core.windows.net/docs/0.9.1/pyspark/synapse.ml.cognitive.html#module-synapse.ml.cognitive.ListCustomModels))\n",
    "\n",
    "### Decision\n",
    "[**Anomaly Detector**](https://azure.microsoft.com/en-us/services/cognitive-services/anomaly-detector/)\n",
    "- Anomaly status of latest point: generates a model using preceding points and determines whether the latest point is anomalous ([Scala](https://mmlspark.blob.core.windows.net/docs/0.9.1/scala/com/microsoft/azure/synapse/ml/cognitive/DetectLastAnomaly.html), [Python](https://mmlspark.blob.core.windows.net/docs/0.9.1/pyspark/synapse.ml.cognitive.html#module-synapse.ml.cognitive.DetectLastAnomaly))\n",
    "- Find anomalies: generates a model using an entire series and finds anomalies in the series ([Scala](https://mmlspark.blob.core.windows.net/docs/0.9.1/scala/com/microsoft/azure/synapse/ml/cognitive/DetectAnomalies.html), [Python](https://mmlspark.blob.core.windows.net/docs/0.9.1/pyspark/synapse.ml.cognitive.html#module-synapse.ml.cognitive.DetectAnomalies))\n",
    "\n",
    "### Search\n",
    "- [Bing Image search](https://azure.microsoft.com/en-us/services/cognitive-services/bing-image-search-api/) ([Scala](https://mmlspark.blob.core.windows.net/docs/0.9.1/scala/com/microsoft/azure/synapse/ml/cognitive/BingImageSearch.html), [Python](https://mmlspark.blob.core.windows.net/docs/0.9.1/pyspark/synapse.ml.cognitive.html#module-synapse.ml.cognitive.BingImageSearch))\n",
    "- [Azure Cognitive search](https://docs.microsoft.com/en-us/azure/search/search-what-is-azure-search) ([Scala](https://mmlspark.blob.core.windows.net/docs/0.9.1/scala/index.html#com.microsoft.azure.synapse.ml.cognitive.AzureSearchWriter$), [Python](https://mmlspark.blob.core.windows.net/docs/0.9.1/pyspark/synapse.ml.cognitive.html#module-synapse.ml.cognitive.AzureSearchWriter))\n"
   ],
   "metadata": {}
  },
  {
   "cell_type": "markdown",
   "source": [
    "## Prerequisites\n",
    "\n",
    "1. Follow the steps in [Getting started](https://docs.microsoft.com/en-us/azure/cognitive-services/big-data/getting-started) to set up your Azure Databricks and Cognitive Services environment. This tutorial shows you how to install SynapseML and how to create your Spark cluster in Databricks.\n",
    "1. After you create a new notebook in Azure Databricks, copy the **Shared code** below and paste into a new cell in your notebook.\n",
    "1. Choose a service sample, below, and copy paste it into a second new cell in your notebook.\n",
    "1. Replace any of the service subscription key placeholders with your own key.\n",
    "1. Choose the run button (triangle icon) in the upper right corner of the cell, then select **Run Cell**.\n",
    "1. View results in a table below the cell."
   ],
   "metadata": {}
  },
  {
   "cell_type": "markdown",
   "source": [
    "## Shared code\n",
    "\n",
    "To get started, we'll need to add this code to the project:"
   ],
   "metadata": {}
  },
  {
   "cell_type": "code",
   "execution_count": null,
   "source": [
    "from pyspark.sql.functions import udf, col\r\n",
    "from synapse.ml.io.http import HTTPTransformer, http_udf\r\n",
    "from requests import Request\r\n",
    "from pyspark.sql.functions import lit\r\n",
    "from pyspark.ml import PipelineModel\r\n",
    "from pyspark.sql.functions import col\r\n",
    "import os\r\n"
   ],
   "outputs": [],
   "metadata": {}
  },
  {
   "cell_type": "code",
   "execution_count": null,
   "source": [
    "if os.environ.get(\"AZURE_SERVICE\", None) == \"Microsoft.ProjectArcadia\":\n",
    "    from pyspark.sql import SparkSession\n",
    "    spark = SparkSession.builder.getOrCreate()\n",
    "    from notebookutils.mssparkutils.credentials import getSecret\n",
    "    os.environ['ANOMALY_API_KEY'] = getSecret(\n",
    "        \"mmlspark-keys\", \"anomaly-api-key\")\n",
    "    os.environ['TEXT_API_KEY'] = getSecret(\"mmlspark-keys\", \"mmlspark-cs-key\")\n",
    "    os.environ['BING_IMAGE_SEARCH_KEY'] = getSecret(\n",
    "        \"mmlspark-keys\", \"mmlspark-bing-search-key\")\n",
    "    os.environ['VISION_API_KEY'] = getSecret(\n",
    "        \"mmlspark-keys\", \"mmlspark-cs-key\")\n",
    "    os.environ['AZURE_SEARCH_KEY'] = getSecret(\n",
    "        \"mmlspark-keys\", \"azure-search-key\")"
   ],
   "outputs": [],
   "metadata": {}
  },
  {
   "cell_type": "code",
   "execution_count": null,
   "source": [
    "from synapse.ml.cognitive import *\r\n",
    "\r\n",
    "# A general Cognitive Services key for Text Analytics, Computer Vision and Form Recognizer (or use separate keys that belong to each service)\r\n",
    "service_key = os.environ[\"COGNITIVE_SERVICE_KEY\"]\r\n",
    "# A Bing Search v7 subscription key\r\n",
    "bing_search_key = os.environ[\"BING_IMAGE_SEARCH_KEY\"]\r\n",
    "# An Anomaly Dectector subscription key\r\n",
    "anomaly_key = os.environ[\"ANOMALY_API_KEY\"]\r\n",
    "# A Translator subscription key\r\n",
    "translator_key = os.environ[\"TRANSLATOR_KEY\"]"
   ],
   "outputs": [],
   "metadata": {}
  },
  {
   "cell_type": "markdown",
   "source": [
    "## Text Analytics sample\n",
    "\n",
    "The [Text Analytics](https://azure.microsoft.com/en-us/services/cognitive-services/text-analytics/) service provides several algorithms for extracting intelligent insights from text. For example, we can find the sentiment of given input text. The service will return a score between 0.0 and 1.0 where low scores indicate negative sentiment and high score indicates positive sentiment.  This sample uses three simple sentences and returns the sentiment for each."
   ],
   "metadata": {}
  },
  {
   "cell_type": "code",
   "execution_count": null,
   "source": [
    "# Create a dataframe that's tied to it's column names\n",
    "df = spark.createDataFrame([\n",
    "    (\"I am so happy today, its sunny!\", \"en-US\"),\n",
    "    (\"I am frustrated by this rush hour traffic\", \"en-US\"),\n",
    "    (\"The cognitive services on spark aint bad\", \"en-US\"),\n",
    "], [\"text\", \"language\"])\n",
    "\n",
    "# Run the Text Analytics service with options\n",
    "sentiment = (TextSentiment()\n",
    "             .setTextCol(\"text\")\n",
    "             .setLocation(\"eastus\")\n",
    "             .setSubscriptionKey(service_key)\n",
    "             .setOutputCol(\"sentiment\")\n",
    "             .setErrorCol(\"error\")\n",
    "             .setLanguageCol(\"language\"))\n",
    "\n",
    "# Show the results of your text query in a table format\n",
    "display(sentiment.transform(df).select(\"text\", col(\n",
    "    \"sentiment\")[0].getItem(\"sentiment\").alias(\"sentiment\")))"
   ],
   "outputs": [],
   "metadata": {}
  },
  {
   "cell_type": "markdown",
   "source": [
    "## Translator sample\n",
    "[Translator](https://azure.microsoft.com/en-us/services/cognitive-services/translator/) is a cloud-based machine translation service and is part of the Azure Cognitive Services family of cognitive APIs used to build intelligent apps. Translator is easy to integrate in your applications, websites, tools, and solutions. It allows you to add multi-language user experiences in 90 languages and dialects and can be used for text translation with any operating system. In this sample, we do a simple text translation by providing the sentences you want to translate and target languages you want to translate to."
   ],
   "metadata": {}
  },
  {
   "cell_type": "code",
   "execution_count": null,
   "source": [
    "from pyspark.sql.functions import col, flatten\n",
    "\n",
    "# Create a dataframe including sentences you want to translate\n",
    "df = spark.createDataFrame([\n",
    "  ([\"Hello, what is your name?\", \"Bye\"],)\n",
    "], [\"text\",])\n",
    "\n",
    "# Run the Translator service with options\n",
    "translate = (Translate()\n",
    "    .setSubscriptionKey(translator_key)\n",
    "    .setLocation(\"eastus\")\n",
    "    .setTextCol(\"text\")\n",
    "    .setToLanguage([\"zh-Hans\"])\n",
    "    .setOutputCol(\"translation\"))\n",
    "\n",
    "# Show the results of the translation.\n",
    "display(translate\n",
    "      .transform(df)\n",
    "      .withColumn(\"translation\", flatten(col(\"translation.translations\")))\n",
    "      .withColumn(\"translation\", col(\"translation.text\"))\n",
    "      .select(\"translation\"))"
   ],
   "outputs": [],
   "metadata": {}
  },
  {
   "cell_type": "markdown",
   "source": [
    "## Form Recognizer sample\n",
    "[Form Recognizer](https://azure.microsoft.com/en-us/services/form-recognizer/) is a part of Azure Applied AI Services that lets you build automated data processing software using machine learning technology. Identify and extract text, key/value pairs, selection marks, tables, and structure from your documents—the service outputs structured data that includes the relationships in the original file, bounding boxes, confidence and more. In this sample, we analyze a business card image and extract its information into structured data."
   ],
   "metadata": {}
  },
  {
   "cell_type": "code",
   "execution_count": null,
   "source": [
    "from pyspark.sql.functions import col, explode\n",
    "\n",
    "# Create a dataframe containing the source files\n",
    "imageDf = spark.createDataFrame([\n",
    "  (\"https://mmlspark.blob.core.windows.net/datasets/FormRecognizer/business_card.jpg\",)\n",
    "], [\"source\",])\n",
    "\n",
    "# Run the Form Recognizer service\n",
    "analyzeBusinessCards = (AnalyzeBusinessCards()\n",
    "                 .setSubscriptionKey(service_key)\n",
    "                 .setLocation(\"eastus\")\n",
    "                 .setImageUrlCol(\"source\")\n",
    "                 .setOutputCol(\"businessCards\"))\n",
    "\n",
    "# Show the results of recognition.\n",
    "display(analyzeBusinessCards\n",
    "        .transform(imageDf)\n",
    "        .withColumn(\"documents\", explode(col(\"businessCards.analyzeResult.documentResults.fields\")))\n",
    "        .select(\"source\", \"documents\"))"
   ],
   "outputs": [],
   "metadata": {}
  },
  {
   "cell_type": "markdown",
   "source": [
    "## Computer Vision sample\n",
    "\n",
    "[Computer Vision](https://azure.microsoft.com/en-us/services/cognitive-services/computer-vision/) analyzes images to identify structure such as faces, objects, and natural-language descriptions. In this sample, we tag a list of images. Tags are one-word descriptions of things in the image like recognizable objects, people, scenery, and actions."
   ],
   "metadata": {}
  },
  {
   "cell_type": "code",
   "execution_count": null,
   "source": [
    "# Create a dataframe with the image URLs\n",
    "df = spark.createDataFrame([\n",
    "    (\"https://raw.githubusercontent.com/Azure-Samples/cognitive-services-sample-data-files/master/ComputerVision/Images/objects.jpg\", ),\n",
    "    (\"https://raw.githubusercontent.com/Azure-Samples/cognitive-services-sample-data-files/master/ComputerVision/Images/dog.jpg\", ),\n",
    "    (\"https://raw.githubusercontent.com/Azure-Samples/cognitive-services-sample-data-files/master/ComputerVision/Images/house.jpg\", )\n",
    "], [\"image\", ])\n",
    "\n",
    "# Run the Computer Vision service. Analyze Image extracts infortmation from/about the images.\n",
    "analysis = (AnalyzeImage()\n",
    "            .setLocation(\"eastus\")\n",
    "            .setSubscriptionKey(service_key)\n",
    "            .setVisualFeatures([\"Categories\", \"Color\", \"Description\", \"Faces\", \"Objects\", \"Tags\"])\n",
    "            .setOutputCol(\"analysis_results\")\n",
    "            .setImageUrlCol(\"image\")\n",
    "            .setErrorCol(\"error\"))\n",
    "\n",
    "# Show the results of what you wanted to pull out of the images.\n",
    "display(analysis.transform(df).select(\n",
    "    \"image\", \"analysis_results.description.tags\"))\n"
   ],
   "outputs": [],
   "metadata": {}
  },
  {
   "cell_type": "markdown",
   "source": [
    "## Bing Image Search sample\n",
    "\n",
    "[Bing Image Search](https://azure.microsoft.com/en-us/services/cognitive-services/bing-image-search-api/) searches the web to retrieve images related to a user's natural language query. In this sample, we use a text query that looks for images with quotes. It returns a list of image URLs that contain photos related to our query."
   ],
   "metadata": {}
  },
  {
   "cell_type": "code",
   "execution_count": null,
   "source": [
    "# Number of images Bing will return per query\n",
    "imgsPerBatch = 10\n",
    "# A list of offsets, used to page into the search results\n",
    "offsets = [(i*imgsPerBatch,) for i in range(100)]\n",
    "# Since web content is our data, we create a dataframe with options on that data: offsets\n",
    "bingParameters = spark.createDataFrame(offsets, [\"offset\"])\n",
    "\n",
    "# Run the Bing Image Search service with our text query\n",
    "bingSearch = (BingImageSearch()\n",
    "              .setSubscriptionKey(bing_search_key)\n",
    "              .setOffsetCol(\"offset\")\n",
    "              .setQuery(\"Martin Luther King Jr. quotes\")\n",
    "              .setCount(imgsPerBatch)\n",
    "              .setOutputCol(\"images\"))\n",
    "\n",
    "# Transformer that extracts and flattens the richly structured output of Bing Image Search into a simple URL column\n",
    "getUrls = BingImageSearch.getUrlTransformer(\"images\", \"url\")\n",
    "\n",
    "# This displays the full results returned, uncomment to use\n",
    "# display(bingSearch.transform(bingParameters))\n",
    "\n",
    "# Since we have two services, they are put into a pipeline\n",
    "pipeline = PipelineModel(stages=[bingSearch, getUrls])\n",
    "\n",
    "# Show the results of your search: image URLs\n",
    "display(pipeline.transform(bingParameters))\n"
   ],
   "outputs": [],
   "metadata": {}
  },
  {
   "cell_type": "markdown",
   "source": [
    "## Speech-to-Text sample\n",
    "The [Speech-to-text](https://azure.microsoft.com/en-us/services/cognitive-services/speech-services/) service converts streams or files of spoken audio to text. In this sample, we transcribe one audio file."
   ],
   "metadata": {}
  },
  {
   "cell_type": "code",
   "execution_count": null,
   "source": [
    "# Create a dataframe with our audio URLs, tied to the column called \"url\"\n",
    "df = spark.createDataFrame([(\"https://mmlspark.blob.core.windows.net/datasets/Speech/audio2.wav\",)\n",
    "                            ], [\"url\"])\n",
    "\n",
    "# Run the Speech-to-text service to translate the audio into text\n",
    "speech_to_text = (SpeechToTextSDK()\n",
    "                  .setSubscriptionKey(service_key)\n",
    "                  .setLocation(\"eastus\")\n",
    "                  .setOutputCol(\"text\")\n",
    "                  .setAudioDataCol(\"url\")\n",
    "                  .setLanguage(\"en-US\")\n",
    "                  .setProfanity(\"Masked\"))\n",
    "\n",
    "# Show the results of the translation\n",
    "display(speech_to_text.transform(df).select(\"url\", \"text.DisplayText\"))\n"
   ],
   "outputs": [],
   "metadata": {}
  },
  {
   "cell_type": "markdown",
   "source": [
    "## Anomaly Detector sample\n",
    "\n",
    "[Anomaly Detector](https://azure.microsoft.com/en-us/services/cognitive-services/anomaly-detector/) is great for detecting irregularities in your time series data. In this sample, we use the service to find anomalies in the entire time series."
   ],
   "metadata": {}
  },
  {
   "cell_type": "code",
   "execution_count": null,
   "source": [
    "# Create a dataframe with the point data that Anomaly Detector requires\n",
    "df = spark.createDataFrame([\n",
    "    (\"1972-01-01T00:00:00Z\", 826.0),\n",
    "    (\"1972-02-01T00:00:00Z\", 799.0),\n",
    "    (\"1972-03-01T00:00:00Z\", 890.0),\n",
    "    (\"1972-04-01T00:00:00Z\", 900.0),\n",
    "    (\"1972-05-01T00:00:00Z\", 766.0),\n",
    "    (\"1972-06-01T00:00:00Z\", 805.0),\n",
    "    (\"1972-07-01T00:00:00Z\", 821.0),\n",
    "    (\"1972-08-01T00:00:00Z\", 20000.0),\n",
    "    (\"1972-09-01T00:00:00Z\", 883.0),\n",
    "    (\"1972-10-01T00:00:00Z\", 898.0),\n",
    "    (\"1972-11-01T00:00:00Z\", 957.0),\n",
    "    (\"1972-12-01T00:00:00Z\", 924.0),\n",
    "    (\"1973-01-01T00:00:00Z\", 881.0),\n",
    "    (\"1973-02-01T00:00:00Z\", 837.0),\n",
    "    (\"1973-03-01T00:00:00Z\", 9000.0)\n",
    "], [\"timestamp\", \"value\"]).withColumn(\"group\", lit(\"series1\"))\n",
    "\n",
    "# Run the Anomaly Detector service to look for irregular data\n",
    "anamoly_detector = (SimpleDetectAnomalies()\n",
    "                    .setSubscriptionKey(anomaly_key)\n",
    "                    .setLocation(\"eastus\")\n",
    "                    .setTimestampCol(\"timestamp\")\n",
    "                    .setValueCol(\"value\")\n",
    "                    .setOutputCol(\"anomalies\")\n",
    "                    .setGroupbyCol(\"group\")\n",
    "                    .setGranularity(\"monthly\"))\n",
    "\n",
    "# Show the full results of the analysis with the anomalies marked as \"True\"\n",
    "display(anamoly_detector.transform(df).select(\n",
    "    \"timestamp\", \"value\", \"anomalies.isAnomaly\"))"
   ],
   "outputs": [],
   "metadata": {}
  },
  {
   "cell_type": "markdown",
   "source": [
    "## Arbitrary web APIs\n",
    "\n",
    "With HTTP on Spark, any web service can be used in your big data pipeline. In this example, we use the [World Bank API](http://api.worldbank.org/v2/country/) to get information about various countries around the world."
   ],
   "metadata": {}
  },
  {
   "cell_type": "code",
   "execution_count": null,
   "source": [
    "# Use any requests from the python requests library\n",
    "\n",
    "def world_bank_request(country):\n",
    "    return Request(\"GET\", \"http://api.worldbank.org/v2/country/{}?format=json\".format(country))\n",
    "\n",
    "\n",
    "# Create a dataframe with spcificies which countries we want data on\n",
    "df = (spark.createDataFrame([(\"br\",), (\"usa\",)], [\"country\"])\n",
    "      .withColumn(\"request\", http_udf(world_bank_request)(col(\"country\"))))\n",
    "\n",
    "# Much faster for big data because of the concurrency :)\n",
    "client = (HTTPTransformer()\n",
    "          .setConcurrency(3)\n",
    "          .setInputCol(\"request\")\n",
    "          .setOutputCol(\"response\"))\n",
    "\n",
    "# Get the body of the response\n",
    "\n",
    "\n",
    "def get_response_body(resp):\n",
    "    return resp.entity.content.decode()\n",
    "\n",
    "\n",
    "# Show the details of the country data returned\n",
    "display(client.transform(df)\n",
    "        .select(\"country\", udf(get_response_body)(col(\"response\"))\n",
    "        .alias(\"response\")))\n"
   ],
   "outputs": [],
   "metadata": {}
  },
  {
   "cell_type": "markdown",
   "source": [
    "## Azure Cognitive search sample\n",
    "\n",
    "In this example, we show how you can enrich data using Cognitive Skills and write to an Azure Search Index using SynapseML."
   ],
   "metadata": {}
  },
  {
   "cell_type": "code",
   "execution_count": null,
   "source": [
    "VISION_API_KEY = os.environ['VISION_API_KEY']\n",
    "AZURE_SEARCH_KEY = os.environ['AZURE_SEARCH_KEY']\n",
    "search_service = \"mmlspark-azure-search\"\n",
    "search_index = \"test-33467690\"\n",
    "\n",
    "df = spark.createDataFrame([(\"upload\", \"0\", \"https://mmlspark.blob.core.windows.net/datasets/DSIR/test1.jpg\"),\n",
    "                            (\"upload\", \"1\", \"https://mmlspark.blob.core.windows.net/datasets/DSIR/test2.jpg\")],\n",
    "                           [\"searchAction\", \"id\", \"url\"])\n",
    "\n",
    "tdf = AnalyzeImage()\\\n",
    "    .setSubscriptionKey(VISION_API_KEY)\\\n",
    "    .setLocation(\"eastus\")\\\n",
    "    .setImageUrlCol(\"url\")\\\n",
    "    .setOutputCol(\"analyzed\")\\\n",
    "    .setErrorCol(\"errors\")\\\n",
    "    .setVisualFeatures([\"Categories\", \"Tags\", \"Description\", \"Faces\", \"ImageType\", \"Color\", \"Adult\"])\\\n",
    "    .transform(df).select(\"*\", \"analyzed.*\")\\\n",
    "    .drop(\"errors\", \"analyzed\")\n",
    "\n",
    "tdf.writeToAzureSearch(subscriptionKey=AZURE_SEARCH_KEY,\n",
    "                       actionCol=\"searchAction\",\n",
    "                       serviceName=search_service,\n",
    "                       indexName=search_index,\n",
    "                       keyCol=\"id\")\n"
   ],
   "outputs": [],
   "metadata": {}
  }
 ]
}