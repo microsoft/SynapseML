{
 "cells": [
  {
   "cell_type": "markdown",
   "metadata": {},
   "source": [
    "# Cognitive Services - Analyze Text\n",
    "\n"
   ]
  },
  {
   "cell_type": "code",
   "execution_count": null,
   "metadata": {},
   "outputs": [],
   "source": [
    "import os\n",
    "\n",
    "if os.environ.get(\"AZURE_SERVICE\", None) == \"Microsoft.ProjectArcadia\":\n",
    "    from pyspark.sql import SparkSession\n",
    "\n",
    "    spark = SparkSession.builder.getOrCreate()\n",
    "    from notebookutils.mssparkutils.credentials import getSecret\n",
    "\n",
    "    os.environ[\"TEXT_API_KEY\"] = getSecret(\"mmlspark-build-keys\", \"cognitive-api-key\")\n",
    "    from notebookutils.visualization import display\n",
    "\n",
    "# put your service keys here\n",
    "key = os.environ[\"TEXT_API_KEY\"]\n",
    "location = \"eastus\""
   ]
  },
  {
   "cell_type": "code",
   "execution_count": null,
   "metadata": {},
   "outputs": [],
   "source": [
    "df = spark.createDataFrame(\n",
    "    data=[\n",
    "        [\"en\", \"Hello Seattle\"],\n",
    "        [\"en\", \"There once was a dog who lived in London and thought she was a human\"],\n",
    "    ],\n",
    "    schema=[\"language\", \"text\"],\n",
    ")"
   ]
  },
  {
   "cell_type": "code",
   "execution_count": null,
   "metadata": {},
   "outputs": [],
   "source": [
    "display(df)"
   ]
  },
  {
   "cell_type": "code",
   "execution_count": null,
   "metadata": {},
   "outputs": [],
   "source": [
    "from synapse.ml.cognitive import *\n",
    "\n",
    "text_analyze = (\n",
    "    TextAnalyze()\n",
    "    .setLocation(location)\n",
    "    .setSubscriptionKey(key)\n",
    "    .setTextCol(\"text\")\n",
    "    .setOutputCol(\"textAnalysis\")\n",
    "    .setErrorCol(\"error\")\n",
    "    .setLanguageCol(\"language\")\n",
    "    # set the tasks to perform\n",
    "    .setEntityRecognitionTasks([{\"parameters\": {\"model-version\": \"latest\"}}])\n",
    "    .setKeyPhraseExtractionTasks([{\"parameters\": {\"model-version\": \"latest\"}}])\n",
    "    # Uncomment these lines to add more tasks\n",
    "    # .setEntityRecognitionPiiTasks([{\"parameters\": { \"model-version\": \"latest\"}}])\n",
    "    # .setEntityLinkingTasks([{\"parameters\": { \"model-version\": \"latest\"}}])\n",
    "    # .setSentimentAnalysisTasks([{\"parameters\": { \"model-version\": \"latest\"}}])\n",
    ")\n",
    "\n",
    "df_results = text_analyze.transform(df)"
   ]
  },
  {
   "cell_type": "code",
   "execution_count": null,
   "metadata": {},
   "outputs": [],
   "source": [
    "display(df_results)"
   ]
  },
  {
   "cell_type": "code",
   "execution_count": null,
   "metadata": {},
   "outputs": [],
   "source": [
    "from pyspark.sql.functions import col\n",
    "\n",
    "# reformat and display for easier viewing\n",
    "display(\n",
    "    df_results.select(\n",
    "        \"language\", \"text\", \"error\", col(\"textAnalysis\").getItem(0)\n",
    "    ).select(  # we are not batching so only have a single result\n",
    "        \"language\", \"text\", \"error\", \"textAnalysis[0].*\"\n",
    "    )  # explode the Text Analytics tasks into columns\n",
    ")"
   ]
  }
 ],
 "metadata": {
  "description": null,
  "kernelspec": {
   "display_name": "Synapse PySpark",
   "name": "synapse_pyspark"
  },
  "language_info": {
   "name": "python"
  },
  "save_output": true
 },
 "nbformat": 4,
 "nbformat_minor": 0
}