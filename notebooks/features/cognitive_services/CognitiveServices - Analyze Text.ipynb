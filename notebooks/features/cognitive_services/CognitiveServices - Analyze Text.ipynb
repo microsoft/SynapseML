{
 "cells": [
  {
   "cell_type": "markdown",
   "metadata": {},
   "source": [
    "# Cognitive Services - Analyze Text\n",
    "\n"
   ]
  },
  {
   "cell_type": "code",
   "execution_count": null,
   "metadata": {},
   "outputs": [],
   "source": [
    "import os\n",
    "\n",
    "if os.environ.get(\"AZURE_SERVICE\", None) == \"Microsoft.ProjectArcadia\":\n",
    "    from pyspark.sql import SparkSession\n",
    "    spark = SparkSession.builder.getOrCreate()\n",
    "    from notebookutils.mssparkutils.credentials import getSecret\n",
    "    os.environ['TEXT_API_KEY'] = getSecret(\"mmlspark-keys\", \"mmlspark-cs-key\")\n",
    "\n",
    "#put your service keys here\n",
    "key = os.environ['TEXT_API_KEY']\n",
    "location = 'eastus'"
   ]
  },
  {
   "cell_type": "code",
   "execution_count": null,
   "metadata": {},
   "outputs": [],
   "source": [
    "\n",
    "df = spark.createDataFrame(data=[\n",
    "        [\"en\", \"Hello Seattle\"],\n",
    "        [\"en\", \"There once was a dog who lived in London and thought she was a human\"]\n",
    "    ], \n",
    "    schema=[\"language\",\"text\"])"
   ]
  },
  {
   "cell_type": "code",
   "execution_count": null,
   "metadata": {},
   "outputs": [],
   "source": [
    "display(df)"
   ]
  },
  {
   "cell_type": "code",
   "execution_count": null,
   "metadata": {},
   "outputs": [],
   "source": [
    "from synapse.ml.cognitive import *\n",
    "\n",
    "text_analyze = (TextAnalyze()\n",
    "    .setLocation(location)\n",
    "    .setSubscriptionKey(key)\n",
    "    .setTextCol(\"text\")\n",
    "    .setOutputCol(\"textAnalysis\")\n",
    "    .setErrorCol(\"error\")\n",
    "    .setLanguageCol(\"language\")\n",
    "    # set the tasks to perform\n",
    "    .setEntityRecognitionTasks([{\"parameters\": { \"model-version\": \"latest\"}}])\n",
    "    .setKeyPhraseExtractionTasks([{\"parameters\": { \"model-version\": \"latest\"}}])\n",
    "    # Uncomment these lines to add more tasks\n",
    "    # .setEntityRecognitionPiiTasks([{\"parameters\": { \"model-version\": \"latest\"}}])\n",
    "    # .setEntityLinkingTasks([{\"parameters\": { \"model-version\": \"latest\"}}])\n",
    "    # .setSentimentAnalysisTasks([{\"parameters\": { \"model-version\": \"latest\"}}])\n",
    "    )\n",
    "\n",
    "df_results = text_analyze.transform(df)\n"
   ]
  },
  {
   "cell_type": "code",
   "execution_count": null,
   "metadata": {},
   "outputs": [],
   "source": [
    "display(df_results)"
   ]
  },
  {
   "cell_type": "code",
   "execution_count": null,
   "metadata": {},
   "outputs": [],
   "source": [
    "from pyspark.sql.functions import col\n",
    "\n",
    "# reformat and display for easier viewing\n",
    "display(\n",
    "    df_results.select(\"language\", \"text\", \"error\", col(\"textAnalysis\").getItem(0)) # we are not batching so only have a single result\n",
    "        .select(\"language\", \"text\", \"error\", \"textAnalysis[0].*\") # explode the Text Analytics tasks into columns\n",
    ")"
   ]
  }
 ],
 "metadata": {
  "description": null,
  "kernelspec": {
   "display_name": "Synapse PySpark",
   "name": "synapse_pyspark"
  },
  "language_info": {
   "name": "python"
  },
  "save_output": true
 },
 "nbformat": 4,
 "nbformat_minor": 0
}