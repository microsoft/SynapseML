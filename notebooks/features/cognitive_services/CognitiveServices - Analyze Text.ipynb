{
 "cells": [
  {
   "cell_type": "markdown",
   "metadata": {},
   "source": [
    "# Cognitive Services - Analyze Text\n",
    "\n"
   ]
  },
  {
   "cell_type": "code",
   "execution_count": null,
   "metadata": {},
   "outputs": [],
   "source": [
    "import os\n",
    "\n",
    "if os.environ.get(\"AZURE_SERVICE\", None) == \"Microsoft.ProjectArcadia\":\n",
    "    from pyspark.sql import SparkSession\n",
    "\n",
    "    spark = SparkSession.builder.getOrCreate()\n",
    "    from notebookutils.mssparkutils.credentials import getSecret\n",
    "\n",
    "    os.environ[\"TEXT_API_KEY\"] = getSecret(\"mmlspark-keys\", \"mmlspark-cs-key\")\n",
    "\n",
    "# put your service keys here\n",
    "cognitive_key = os.environ[\"TEXT_API_KEY\"]\n",
    "cognitive_location = \"eastus\""
   ]
  },
  {
   "cell_type": "code",
   "execution_count": null,
   "metadata": {},
   "outputs": [],
   "source": [
    "df = spark.createDataFrame(\n",
    "    data=[\n",
    "        [\"en\", \"Hello Seattle\"],\n",
    "        [\"en\", \"There once was a dog who lived in London and thought she was a human\"],\n",
    "    ],\n",
    "    schema=[\"language\", \"text\"],\n",
    ")"
   ]
  },
  {
   "cell_type": "code",
   "execution_count": null,
   "metadata": {},
   "outputs": [],
   "source": [
    "display(df)"
   ]
  },
  {
   "cell_type": "code",
   "execution_count": null,
   "metadata": {},
   "outputs": [],
   "source": [
    "from synapse.ml.cognitive import *\n",
    "\n",
    "text_analyze = (\n",
    "    TextAnalyze()\n",
    "    .setLocation(cognitive_location)\n",
    "    .setSubscriptionKey(cognitive_key)\n",
    "    .setTextCol(\"text\")\n",
    "    .setOutputCol(\"textAnalysis\")\n",
    "    .setErrorCol(\"error\")\n",
    "    .setLanguageCol(\"language\")\n",
    "    .setEntityRecognitionParams(\n",
    "        {\"model-version\": \"latest\"}\n",
    "    )  # Can pass parameters to each model individually\n",
    "    .setIncludePii(False)  # Users can manually exclude tasks to speed up analysis\n",
    "    .setIncludeEntityLinking(False)\n",
    "    .setIncludeSentimentAnalysis(False)\n",
    ")\n",
    "\n",
    "df_results = text_analyze.transform(df)"
   ]
  },
  {
   "cell_type": "code",
   "execution_count": null,
   "metadata": {
    "pycharm": {
     "name": "#%%\n"
    }
   },
   "outputs": [],
   "source": [
    "display(df_results)"
   ]
  }
 ],
 "metadata": {
  "description": null,
  "kernelspec": {
   "display_name": "Python 3.8.5 ('base')",
   "language": "python",
   "name": "python3"
  },
  "language_info": {
   "name": "python",
   "version": "3.8.5"
  },
  "save_output": true,
  "vscode": {
   "interpreter": {
    "hash": "601a75c4c141f401603984f1538447337114e368c54c4d5b589ea94315afdca2"
   }
  }
 },
 "nbformat": 4,
 "nbformat_minor": 0
}
