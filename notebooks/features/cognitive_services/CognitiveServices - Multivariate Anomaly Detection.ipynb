{
 "cells": [
  {
   "cell_type": "markdown",
   "metadata": {},
   "source": [
    "# Recipe: Cognitive Services - Multivariate Anomaly Detection \n",
    "This recipe shows how you can use SynapseML and Azure Cognitive Services on Apache Spark for multivariate anomaly detection. Multivariate anomaly detection allows for the detection of anomalies among many variables or timeseries, taking into account all the inter-correlations and dependencies between the different variables. In this scenario, we use SynapseML to train a model for multivariate anomaly detection using the Azure Cognitive Services, and we then use to the model to infer multivariate anomalies within a dataset containing synthetic measurements from three IoT sensors. \n",
    "\n",
    "To learn more about the Anomaly Detector Cognitive Service please refer to [ this documentation page](https://docs.microsoft.com/en-us/azure/cognitive-services/anomaly-detector/). \n",
    "\n",
    "### Prerequisites\n",
    "- An Azure subscription - [Create one for free](https://azure.microsoft.com/en-us/free/)\n",
    "\n",
    "### Setup\n",
    "#### Create an Anomaly Detector resource\n",
    "Follow the instructions below to create an `Anomaly Detector` resource using the Azure portal or alternatively, you can also use the Azure CLI to create this resource.\n",
    "\n",
    "- In the Azure Portal, click `Create` in your resource group, and then type `Anomaly Detector`. Click on the Anomaly Detector resource.\n",
    "- Give the resource a name, and ideally use the same region as the rest of your resource group. Use the default options for the rest, and then click `Review + Create` and then `Create`.\n",
    "- Once the Anomaly Detector resource is created, open it and click on the `Keys and Endpoints` panel on the left. Copy the key for the Anomaly Detector resource into the `ANOMALY_API_KEY` environment variable, or store it in the `anomalyKey` variable in the cell below.\n",
    "\n",
    "#### Create a Storage Account resource\n",
    "In order to save intermediate data, you will need to create an Azure Blob Storage Account. Within that storage account, create a container for storing the intermediate data. Make note of the container name, and copy the connection string to that container. You will need this later to populate the `containerName` variable and the `BLOB_CONNECTION_STRING` environment variable."
   ]
  },
  {
   "cell_type": "markdown",
   "metadata": {},
   "source": [
    "#### Enter your service keys\n",
    "Let's start by setting up the environment variables for our service keys. The next cell sets the `ANOMALY_API_KEY` and the `BLOB_CONNECTION_STRING` environment variables based on the values stored in our Azure Key Vault. If you are running this in your own environment, make sure you set these environment variables before you proceed."
   ]
  },
  {
   "cell_type": "code",
   "execution_count": null,
   "metadata": {},
   "outputs": [
    {
     "data": {
      "text/html": [
       "<style scoped>\n",
       "  .ansiout {\n",
       "    display: block;\n",
       "    unicode-bidi: embed;\n",
       "    white-space: pre-wrap;\n",
       "    word-wrap: break-word;\n",
       "    word-break: break-all;\n",
       "    font-family: \"Source Code Pro\", \"Menlo\", monospace;;\n",
       "    font-size: 13px;\n",
       "    color: #555;\n",
       "    margin-left: 4px;\n",
       "    line-height: 19px;\n",
       "  }\n",
       "</style>\n",
       "<div class=\"ansiout\"></div>"
      ]
     },
     "metadata": {
      "application/vnd.databricks.v1+output": {
       "addedWidgets": {},
       "arguments": {},
       "data": "<div class=\"ansiout\"></div>",
       "datasetInfos": [],
       "metadata": {},
       "removedWidgets": [],
       "type": "html"
      }
     },
     "output_type": "display_data"
    }
   ],
   "source": [
    "import os\n",
    "\n",
    "if os.environ.get(\"AZURE_SERVICE\", None) == \"Microsoft.ProjectArcadia\":\n",
    "    from pyspark.sql import SparkSession\n",
    "    spark = SparkSession.builder.getOrCreate()\n",
    "    from notebookutils.mssparkutils.credentials import getSecret\n",
    "    os.environ['ANOMALY_API_KEY'] = getSecret(\n",
    "        \"mmlspark-keys\", \"anomaly-api-key\")\n",
    "    os.environ['BLOB_CONNECTION_STRING'] = getSecret(\n",
    "        \"mmlspark-keys\", \"madtest-connection-string\")"
   ]
  },
  {
   "cell_type": "markdown",
   "metadata": {},
   "source": [
    "Now, lets read the `ANOMALY_API_KEY` and `BLOB_CONNECTION_STRING` environment variables and set the `containerName` and `location` variables."
   ]
  },
  {
   "cell_type": "code",
   "execution_count": null,
   "metadata": {},
   "outputs": [
    {
     "data": {
      "text/html": [
       "<style scoped>\n",
       "  .ansiout {\n",
       "    display: block;\n",
       "    unicode-bidi: embed;\n",
       "    white-space: pre-wrap;\n",
       "    word-wrap: break-word;\n",
       "    word-break: break-all;\n",
       "    font-family: \"Source Code Pro\", \"Menlo\", monospace;;\n",
       "    font-size: 13px;\n",
       "    color: #555;\n",
       "    margin-left: 4px;\n",
       "    line-height: 19px;\n",
       "  }\n",
       "</style>\n",
       "<div class=\"ansiout\"></div>"
      ]
     },
     "metadata": {
      "application/vnd.databricks.v1+output": {
       "addedWidgets": {},
       "arguments": {},
       "data": "<div class=\"ansiout\"></div>",
       "datasetInfos": [],
       "metadata": {},
       "removedWidgets": [],
       "type": "html"
      }
     },
     "output_type": "display_data"
    }
   ],
   "source": [
    "# An Anomaly Dectector subscription key\n",
    "anomalyKey = os.environ[\"ANOMALY_API_KEY\"]\n",
    "# A connection string to your blob storage account\n",
    "connectionString = os.environ[\"BLOB_CONNECTION_STRING\"]\n",
    "# The name of the container where you will store intermediate data\n",
    "containerName = \"intermediate-data-container-name\"\n",
    "# The location of the anomaly detector resource that you created\n",
    "location = \"westus2\""
   ]
  },
  {
   "cell_type": "markdown",
   "metadata": {},
   "source": [
    "Let's import all the necessary modules."
   ]
  },
  {
   "cell_type": "code",
   "execution_count": null,
   "metadata": {
    "application/vnd.databricks.v1+cell": {
     "inputWidgets": {},
     "nuid": "201891b5-7ec3-4350-bdfa-306a265d2b44",
     "showTitle": false,
     "title": ""
    }
   },
   "outputs": [
    {
     "data": {
      "text/html": [
       "<style scoped>\n",
       "  .ansiout {\n",
       "    display: block;\n",
       "    unicode-bidi: embed;\n",
       "    white-space: pre-wrap;\n",
       "    word-wrap: break-word;\n",
       "    word-break: break-all;\n",
       "    font-family: \"Source Code Pro\", \"Menlo\", monospace;;\n",
       "    font-size: 13px;\n",
       "    color: #555;\n",
       "    margin-left: 4px;\n",
       "    line-height: 19px;\n",
       "  }\n",
       "</style>\n",
       "<div class=\"ansiout\"></div>"
      ]
     },
     "metadata": {
      "application/vnd.databricks.v1+output": {
       "addedWidgets": {},
       "arguments": {},
       "data": "<div class=\"ansiout\"></div>",
       "datasetInfos": [],
       "metadata": {},
       "removedWidgets": [],
       "type": "html"
      }
     },
     "output_type": "display_data"
    }
   ],
   "source": [
    "import numpy as np\n",
    "import pandas as pd\n",
    "\n",
    "import pyspark\n",
    "from pyspark.sql.functions import col\n",
    "from pyspark.sql.functions import lit\n",
    "from pyspark.sql.types import DoubleType\n",
    "import matplotlib.pyplot as plt\n",
    "\n",
    "import synapse.ml\n",
    "from synapse.ml.cognitive import *"
   ]
  },
  {
   "cell_type": "markdown",
   "metadata": {},
   "source": [
    "Now, let's read our sample data into a Spark DataFrame."
   ]
  },
  {
   "cell_type": "code",
   "execution_count": null,
   "metadata": {
    "application/vnd.databricks.v1+cell": {
     "inputWidgets": {},
     "nuid": "58080b22-fff1-463b-ad80-0639d475ec89",
     "showTitle": false,
     "title": ""
    }
   },
   "outputs": [],
   "source": [
    "df = spark.read.format(\"csv\").option(\"header\", \"true\").load(\"wasbs://publicwasb@mmlspark.blob.core.windows.net/MVAD/sample.csv\")\n",
    "\n",
    "df = df.withColumn(\"sensor_1\", col(\"sensor_1\").cast(DoubleType())) \\\n",
    "    .withColumn(\"sensor_2\", col(\"sensor_2\").cast(DoubleType())) \\\n",
    "    .withColumn(\"sensor_3\", col(\"sensor_3\").cast(DoubleType()))\n",
    "\n",
    "# Let's inspect the dataframe:\n",
    "df.show(5)"
   ]
  },
  {
   "cell_type": "markdown",
   "metadata": {
    "application/vnd.databricks.v1+cell": {
     "inputWidgets": {},
     "nuid": "e9bd6780-dcd1-4ee6-8116-eb2b4c6950c9",
     "showTitle": false,
     "title": ""
    }
   },
   "source": [
    "We can now create an `estimator` object, which will be used to train our model. In the cell below, we specify the start and end times for the training data. We also specify the input columns to use, and the name of the column that contains the timestamps. Finally, we specify the number of data points to use in the anomaly detection sliding window, and we set the connection string to the Azure Blob Storage Account. "
   ]
  },
  {
   "cell_type": "code",
   "execution_count": null,
   "metadata": {
    "application/vnd.databricks.v1+cell": {
     "inputWidgets": {},
     "nuid": "38beb5f0-8a46-439e-886f-3ffd06066e8c",
     "showTitle": false,
     "title": ""
    }
   },
   "outputs": [
    {
     "data": {
      "text/html": [
       "<style scoped>\n",
       "  .ansiout {\n",
       "    display: block;\n",
       "    unicode-bidi: embed;\n",
       "    white-space: pre-wrap;\n",
       "    word-wrap: break-word;\n",
       "    word-break: break-all;\n",
       "    font-family: \"Source Code Pro\", \"Menlo\", monospace;;\n",
       "    font-size: 13px;\n",
       "    color: #555;\n",
       "    margin-left: 4px;\n",
       "    line-height: 19px;\n",
       "  }\n",
       "</style>\n",
       "<div class=\"ansiout\"></div>"
      ]
     },
     "metadata": {
      "application/vnd.databricks.v1+output": {
       "addedWidgets": {},
       "arguments": {},
       "data": "<div class=\"ansiout\"></div>",
       "datasetInfos": [],
       "metadata": {},
       "removedWidgets": [],
       "type": "html"
      }
     },
     "output_type": "display_data"
    }
   ],
   "source": [
    "trainingStartTime = \"2020-06-01T12:00:00Z\"\n",
    "trainingEndTime = \"2020-07-02T17:55:00Z\"\n",
    "intermediateSaveDir = \"intermediateData\" \n",
    "timestampColumn = \"timestamp\"\n",
    "inputColumns = [\"sensor_1\", \"sensor_2\", \"sensor_3\"]\n",
    "\n",
    "estimator = (FitMultivariateAnomaly()\n",
    "    .setSubscriptionKey(anomalyKey)\n",
    "    .setLocation(location)\n",
    "    .setStartTime(trainingStartTime)\n",
    "    .setEndTime(trainingEndTime)\n",
    "    .setContainerName(containerName)\n",
    "    .setIntermediateSaveDir(intermediateSaveDir)\n",
    "    .setTimestampCol(timestampColumn)\n",
    "    .setInputCols(inputColumns)\n",
    "    .setSlidingWindow(200)\n",
    "    .setConnectionString(connectionString)\n",
    "     )"
   ]
  },
  {
   "cell_type": "markdown",
   "metadata": {},
   "source": [
    "Now that we have created the `estimator`, let's fit it to the data:"
   ]
  },
  {
   "cell_type": "code",
   "execution_count": null,
   "metadata": {
    "application/vnd.databricks.v1+cell": {
     "inputWidgets": {},
     "nuid": "820249ea-8520-458e-9365-ad15e8d3583e",
     "showTitle": false,
     "title": ""
    }
   },
   "outputs": [
    {
     "data": {
      "text/html": [
       "<style scoped>\n",
       "  .ansiout {\n",
       "    display: block;\n",
       "    unicode-bidi: embed;\n",
       "    white-space: pre-wrap;\n",
       "    word-wrap: break-word;\n",
       "    word-break: break-all;\n",
       "    font-family: \"Source Code Pro\", \"Menlo\", monospace;;\n",
       "    font-size: 13px;\n",
       "    color: #555;\n",
       "    margin-left: 4px;\n",
       "    line-height: 19px;\n",
       "  }\n",
       "</style>\n",
       "<div class=\"ansiout\"></div>"
      ]
     },
     "metadata": {
      "application/vnd.databricks.v1+output": {
       "addedWidgets": {},
       "arguments": {},
       "data": "<div class=\"ansiout\"></div>",
       "datasetInfos": [],
       "metadata": {},
       "removedWidgets": [],
       "type": "html"
      }
     },
     "output_type": "display_data"
    }
   ],
   "source": [
    "model = estimator.fit(df)"
   ]
  },
  {
   "cell_type": "markdown",
   "metadata": {},
   "source": [
    "Once the training is done, we can now use the model for inference. The code in the next cell specifies the start and end times for the data we would like to detect the anomlies in. It will then show the results."
   ]
  },
  {
   "cell_type": "code",
   "execution_count": null,
   "metadata": {
    "application/vnd.databricks.v1+cell": {
     "inputWidgets": {},
     "nuid": "89b54ad2-3474-4e1e-a9c7-829e703831d0",
     "showTitle": false,
     "title": ""
    }
   },
   "outputs": [],
   "source": [
    "inferenceStartTime = \"2020-07-02T18:00:00Z\"\n",
    "inferenceEndTime = \"2020-07-06T05:15:00Z\"\n",
    "\n",
    "result = (model\n",
    "    .setStartTime(inferenceStartTime)\n",
    "    .setEndTime(inferenceEndTime)\n",
    "    .setOutputCol(\"results\")\n",
    "    .setErrorCol(\"errors\")\n",
    "    .setInputCols(inputColumns)\n",
    "    .setTimestampCol(timestampColumn)\n",
    "    .transform(df)\n",
    "     )\n",
    "\n",
    "result.show(5)"
   ]
  },
  {
   "cell_type": "markdown",
   "metadata": {},
   "source": [
    "When we called `.show(5)` in the previous cell, it showed us the first five rows in the dataframe. The results were all `null` because they were not inside the inferrence window.\n",
    "\n",
    "To show the results only for the inferred data, lets select the columns we need. We can then order the rows in the dataframe by ascending order, and filter the result to only show the rows that are in the range of the inference window. In our case `inferenceEndTime` is the same as the last row in the dataframe, so can ignore that. \n",
    "\n",
    "Finally, to be able to better plot the results, lets convert the Spark dataframe to a Pandas dataframe.\n",
    "\n",
    "This is what the next cell does:"
   ]
  },
  {
   "cell_type": "code",
   "execution_count": null,
   "metadata": {
    "application/vnd.databricks.v1+cell": {
     "inputWidgets": {},
     "nuid": "18c9be87-c4e7-4221-9135-b80b3788c43e",
     "showTitle": false,
     "title": ""
    }
   },
   "outputs": [
    {
     "data": {
      "text/html": [
       "<style scoped>\n",
       "  .ansiout {\n",
       "    display: block;\n",
       "    unicode-bidi: embed;\n",
       "    white-space: pre-wrap;\n",
       "    word-wrap: break-word;\n",
       "    word-break: break-all;\n",
       "    font-family: \"Source Code Pro\", \"Menlo\", monospace;;\n",
       "    font-size: 13px;\n",
       "    color: #555;\n",
       "    margin-left: 4px;\n",
       "    line-height: 19px;\n",
       "  }\n",
       "</style>\n",
       "<div class=\"ansiout\">/databricks/spark/python/pyspark/sql/pandas/conversion.py:92: UserWarning: toPandas attempted Arrow optimization because &#39;spark.sql.execution.arrow.pyspark.enabled&#39; is set to true; however, failed by the reason below:\n",
       "  Unable to convert the field contributors. If this column is not necessary, you may consider dropping it or converting to primitive type before the conversion.\n",
       "Direct cause: Unsupported type in conversion to Arrow: ArrayType(StructType(List(StructField(contributionScore,DoubleType,true),StructField(variable,StringType,true))),true)\n",
       "Attempting non-optimization as &#39;spark.sql.execution.arrow.pyspark.fallback.enabled&#39; is set to true.\n",
       "  warnings.warn(msg)\n",
       "Out[8]: </div>"
      ]
     },
     "metadata": {
      "application/vnd.databricks.v1+output": {
       "addedWidgets": {},
       "arguments": {},
       "data": "<div class=\"ansiout\">/databricks/spark/python/pyspark/sql/pandas/conversion.py:92: UserWarning: toPandas attempted Arrow optimization because &#39;spark.sql.execution.arrow.pyspark.enabled&#39; is set to true; however, failed by the reason below:\n  Unable to convert the field contributors. If this column is not necessary, you may consider dropping it or converting to primitive type before the conversion.\nDirect cause: Unsupported type in conversion to Arrow: ArrayType(StructType(List(StructField(contributionScore,DoubleType,true),StructField(variable,StringType,true))),true)\nAttempting non-optimization as &#39;spark.sql.execution.arrow.pyspark.fallback.enabled&#39; is set to true.\n  warnings.warn(msg)\nOut[8]: </div>",
       "datasetInfos": [],
       "metadata": {},
       "removedWidgets": [],
       "type": "html"
      }
     },
     "output_type": "display_data"
    },
    {
     "data": {
      "text/html": [
       "<div>\n",
       "<style scoped>\n",
       "    .dataframe tbody tr th:only-of-type {\n",
       "        vertical-align: middle;\n",
       "    }\n",
       "\n",
       "    .dataframe tbody tr th {\n",
       "        vertical-align: top;\n",
       "    }\n",
       "\n",
       "    .dataframe thead th {\n",
       "        text-align: right;\n",
       "    }\n",
       "</style>\n",
       "<table border=\"1\" class=\"dataframe\">\n",
       "  <thead>\n",
       "    <tr style=\"text-align: right;\">\n",
       "      <th></th>\n",
       "      <th>timestamp</th>\n",
       "      <th>sensor_1</th>\n",
       "      <th>sensor_2</th>\n",
       "      <th>sensor_3</th>\n",
       "      <th>contributors</th>\n",
       "      <th>isAnomaly</th>\n",
       "      <th>severity</th>\n",
       "    </tr>\n",
       "  </thead>\n",
       "  <tbody>\n",
       "    <tr>\n",
       "      <th>0</th>\n",
       "      <td>2020-07-02T18:00:00Z</td>\n",
       "      <td>1.069680</td>\n",
       "      <td>0.393173</td>\n",
       "      <td>3.129125</td>\n",
       "      <td>None</td>\n",
       "      <td>False</td>\n",
       "      <td>0.00000</td>\n",
       "    </tr>\n",
       "    <tr>\n",
       "      <th>1</th>\n",
       "      <td>2020-07-02T18:05:00Z</td>\n",
       "      <td>0.932784</td>\n",
       "      <td>0.214959</td>\n",
       "      <td>3.077339</td>\n",
       "      <td>[(0.5516611337661743, series_1), (0.3133429884...</td>\n",
       "      <td>True</td>\n",
       "      <td>0.06478</td>\n",
       "    </tr>\n",
       "    <tr>\n",
       "      <th>2</th>\n",
       "      <td>2020-07-02T18:10:00Z</td>\n",
       "      <td>1.012214</td>\n",
       "      <td>0.466037</td>\n",
       "      <td>2.909561</td>\n",
       "      <td>None</td>\n",
       "      <td>False</td>\n",
       "      <td>0.00000</td>\n",
       "    </tr>\n",
       "    <tr>\n",
       "      <th>3</th>\n",
       "      <td>2020-07-02T18:15:00Z</td>\n",
       "      <td>1.122182</td>\n",
       "      <td>0.398438</td>\n",
       "      <td>3.029489</td>\n",
       "      <td>None</td>\n",
       "      <td>False</td>\n",
       "      <td>0.00000</td>\n",
       "    </tr>\n",
       "    <tr>\n",
       "      <th>4</th>\n",
       "      <td>2020-07-02T18:20:00Z</td>\n",
       "      <td>1.091310</td>\n",
       "      <td>0.282137</td>\n",
       "      <td>2.948016</td>\n",
       "      <td>None</td>\n",
       "      <td>False</td>\n",
       "      <td>0.00000</td>\n",
       "    </tr>\n",
       "    <tr>\n",
       "      <th>...</th>\n",
       "      <td>...</td>\n",
       "      <td>...</td>\n",
       "      <td>...</td>\n",
       "      <td>...</td>\n",
       "      <td>...</td>\n",
       "      <td>...</td>\n",
       "      <td>...</td>\n",
       "    </tr>\n",
       "    <tr>\n",
       "      <th>995</th>\n",
       "      <td>2020-07-06T04:55:00Z</td>\n",
       "      <td>-0.443438</td>\n",
       "      <td>0.768980</td>\n",
       "      <td>-0.710800</td>\n",
       "      <td>None</td>\n",
       "      <td>False</td>\n",
       "      <td>0.00000</td>\n",
       "    </tr>\n",
       "    <tr>\n",
       "      <th>996</th>\n",
       "      <td>2020-07-06T05:00:00Z</td>\n",
       "      <td>-0.529400</td>\n",
       "      <td>0.822140</td>\n",
       "      <td>-0.944681</td>\n",
       "      <td>None</td>\n",
       "      <td>False</td>\n",
       "      <td>0.00000</td>\n",
       "    </tr>\n",
       "    <tr>\n",
       "      <th>997</th>\n",
       "      <td>2020-07-06T05:05:00Z</td>\n",
       "      <td>-0.377911</td>\n",
       "      <td>0.738591</td>\n",
       "      <td>-0.871468</td>\n",
       "      <td>None</td>\n",
       "      <td>False</td>\n",
       "      <td>0.00000</td>\n",
       "    </tr>\n",
       "    <tr>\n",
       "      <th>998</th>\n",
       "      <td>2020-07-06T05:10:00Z</td>\n",
       "      <td>-0.501993</td>\n",
       "      <td>0.727775</td>\n",
       "      <td>-0.786263</td>\n",
       "      <td>None</td>\n",
       "      <td>False</td>\n",
       "      <td>0.00000</td>\n",
       "    </tr>\n",
       "    <tr>\n",
       "      <th>999</th>\n",
       "      <td>2020-07-06T05:15:00Z</td>\n",
       "      <td>-0.404138</td>\n",
       "      <td>0.806980</td>\n",
       "      <td>-0.883521</td>\n",
       "      <td>None</td>\n",
       "      <td>False</td>\n",
       "      <td>0.00000</td>\n",
       "    </tr>\n",
       "  </tbody>\n",
       "</table>\n",
       "<p>1000 rows × 7 columns</p>\n",
       "</div>"
      ]
     },
     "metadata": {
      "application/vnd.databricks.v1+output": {
       "addedWidgets": {},
       "arguments": {},
       "data": "<div>\n<style scoped>\n    .dataframe tbody tr th:only-of-type {\n        vertical-align: middle;\n    }\n\n    .dataframe tbody tr th {\n        vertical-align: top;\n    }\n\n    .dataframe thead th {\n        text-align: right;\n    }\n</style>\n<table border=\"1\" class=\"dataframe\">\n  <thead>\n    <tr style=\"text-align: right;\">\n      <th></th>\n      <th>timestamp</th>\n      <th>sensor_1</th>\n      <th>sensor_2</th>\n      <th>sensor_3</th>\n      <th>contributors</th>\n      <th>isAnomaly</th>\n      <th>severity</th>\n    </tr>\n  </thead>\n  <tbody>\n    <tr>\n      <th>0</th>\n      <td>2020-07-02T18:00:00Z</td>\n      <td>1.069680</td>\n      <td>0.393173</td>\n      <td>3.129125</td>\n      <td>None</td>\n      <td>False</td>\n      <td>0.00000</td>\n    </tr>\n    <tr>\n      <th>1</th>\n      <td>2020-07-02T18:05:00Z</td>\n      <td>0.932784</td>\n      <td>0.214959</td>\n      <td>3.077339</td>\n      <td>[(0.5516611337661743, series_1), (0.3133429884...</td>\n      <td>True</td>\n      <td>0.06478</td>\n    </tr>\n    <tr>\n      <th>2</th>\n      <td>2020-07-02T18:10:00Z</td>\n      <td>1.012214</td>\n      <td>0.466037</td>\n      <td>2.909561</td>\n      <td>None</td>\n      <td>False</td>\n      <td>0.00000</td>\n    </tr>\n    <tr>\n      <th>3</th>\n      <td>2020-07-02T18:15:00Z</td>\n      <td>1.122182</td>\n      <td>0.398438</td>\n      <td>3.029489</td>\n      <td>None</td>\n      <td>False</td>\n      <td>0.00000</td>\n    </tr>\n    <tr>\n      <th>4</th>\n      <td>2020-07-02T18:20:00Z</td>\n      <td>1.091310</td>\n      <td>0.282137</td>\n      <td>2.948016</td>\n      <td>None</td>\n      <td>False</td>\n      <td>0.00000</td>\n    </tr>\n    <tr>\n      <th>...</th>\n      <td>...</td>\n      <td>...</td>\n      <td>...</td>\n      <td>...</td>\n      <td>...</td>\n      <td>...</td>\n      <td>...</td>\n    </tr>\n    <tr>\n      <th>995</th>\n      <td>2020-07-06T04:55:00Z</td>\n      <td>-0.443438</td>\n      <td>0.768980</td>\n      <td>-0.710800</td>\n      <td>None</td>\n      <td>False</td>\n      <td>0.00000</td>\n    </tr>\n    <tr>\n      <th>996</th>\n      <td>2020-07-06T05:00:00Z</td>\n      <td>-0.529400</td>\n      <td>0.822140</td>\n      <td>-0.944681</td>\n      <td>None</td>\n      <td>False</td>\n      <td>0.00000</td>\n    </tr>\n    <tr>\n      <th>997</th>\n      <td>2020-07-06T05:05:00Z</td>\n      <td>-0.377911</td>\n      <td>0.738591</td>\n      <td>-0.871468</td>\n      <td>None</td>\n      <td>False</td>\n      <td>0.00000</td>\n    </tr>\n    <tr>\n      <th>998</th>\n      <td>2020-07-06T05:10:00Z</td>\n      <td>-0.501993</td>\n      <td>0.727775</td>\n      <td>-0.786263</td>\n      <td>None</td>\n      <td>False</td>\n      <td>0.00000</td>\n    </tr>\n    <tr>\n      <th>999</th>\n      <td>2020-07-06T05:15:00Z</td>\n      <td>-0.404138</td>\n      <td>0.806980</td>\n      <td>-0.883521</td>\n      <td>None</td>\n      <td>False</td>\n      <td>0.00000</td>\n    </tr>\n  </tbody>\n</table>\n<p>1000 rows × 7 columns</p>\n</div>",
       "datasetInfos": [],
       "metadata": {},
       "removedWidgets": [],
       "textData": null,
       "type": "htmlSandbox"
      }
     },
     "output_type": "display_data"
    }
   ],
   "source": [
    "rdf = (result.select(\"timestamp\",*inputColumns, \"results.contributors\", \"results.isAnomaly\", \"results.severity\")\n",
    "    .orderBy('timestamp', ascending=True)\n",
    "    .filter(col('timestamp') >= lit(inferenceStartTime))\n",
    "    .toPandas())\n",
    "\n",
    "rdf"
   ]
  },
  {
   "cell_type": "markdown",
   "metadata": {},
   "source": [
    "Let's now format the `contributors` column that stores the contribution score from each sensor to the detected anomalies. The next cell formats this data, and splits the contribution score of each sensor into its own column."
   ]
  },
  {
   "cell_type": "code",
   "execution_count": null,
   "metadata": {
    "application/vnd.databricks.v1+cell": {
     "inputWidgets": {},
     "nuid": "5b4e072f-e0e6-4362-a321-bbfae41dea0c",
     "showTitle": false,
     "title": ""
    }
   },
   "outputs": [
    {
     "data": {
      "text/html": [
       "<style scoped>\n",
       "  .ansiout {\n",
       "    display: block;\n",
       "    unicode-bidi: embed;\n",
       "    white-space: pre-wrap;\n",
       "    word-wrap: break-word;\n",
       "    word-break: break-all;\n",
       "    font-family: \"Source Code Pro\", \"Menlo\", monospace;;\n",
       "    font-size: 13px;\n",
       "    color: #555;\n",
       "    margin-left: 4px;\n",
       "    line-height: 19px;\n",
       "  }\n",
       "</style>\n",
       "<div class=\"ansiout\">Out[9]: </div>"
      ]
     },
     "metadata": {
      "application/vnd.databricks.v1+output": {
       "addedWidgets": {},
       "arguments": {},
       "data": "<div class=\"ansiout\">Out[9]: </div>",
       "datasetInfos": [],
       "metadata": {},
       "removedWidgets": [],
       "type": "html"
      }
     },
     "output_type": "display_data"
    },
    {
     "data": {
      "text/html": [
       "<div>\n",
       "<style scoped>\n",
       "    .dataframe tbody tr th:only-of-type {\n",
       "        vertical-align: middle;\n",
       "    }\n",
       "\n",
       "    .dataframe tbody tr th {\n",
       "        vertical-align: top;\n",
       "    }\n",
       "\n",
       "    .dataframe thead th {\n",
       "        text-align: right;\n",
       "    }\n",
       "</style>\n",
       "<table border=\"1\" class=\"dataframe\">\n",
       "  <thead>\n",
       "    <tr style=\"text-align: right;\">\n",
       "      <th></th>\n",
       "      <th>timestamp</th>\n",
       "      <th>sensor_1</th>\n",
       "      <th>sensor_2</th>\n",
       "      <th>sensor_3</th>\n",
       "      <th>isAnomaly</th>\n",
       "      <th>severity</th>\n",
       "      <th>series_0</th>\n",
       "      <th>series_1</th>\n",
       "      <th>series_2</th>\n",
       "    </tr>\n",
       "  </thead>\n",
       "  <tbody>\n",
       "    <tr>\n",
       "      <th>0</th>\n",
       "      <td>2020-07-02T18:00:00Z</td>\n",
       "      <td>1.069680</td>\n",
       "      <td>0.393173</td>\n",
       "      <td>3.129125</td>\n",
       "      <td>False</td>\n",
       "      <td>0.00000</td>\n",
       "      <td>0.000000</td>\n",
       "      <td>0.000000</td>\n",
       "      <td>0.000000</td>\n",
       "    </tr>\n",
       "    <tr>\n",
       "      <th>1</th>\n",
       "      <td>2020-07-02T18:05:00Z</td>\n",
       "      <td>0.932784</td>\n",
       "      <td>0.214959</td>\n",
       "      <td>3.077339</td>\n",
       "      <td>True</td>\n",
       "      <td>0.06478</td>\n",
       "      <td>0.313343</td>\n",
       "      <td>0.551661</td>\n",
       "      <td>0.134996</td>\n",
       "    </tr>\n",
       "    <tr>\n",
       "      <th>2</th>\n",
       "      <td>2020-07-02T18:10:00Z</td>\n",
       "      <td>1.012214</td>\n",
       "      <td>0.466037</td>\n",
       "      <td>2.909561</td>\n",
       "      <td>False</td>\n",
       "      <td>0.00000</td>\n",
       "      <td>0.000000</td>\n",
       "      <td>0.000000</td>\n",
       "      <td>0.000000</td>\n",
       "    </tr>\n",
       "    <tr>\n",
       "      <th>3</th>\n",
       "      <td>2020-07-02T18:15:00Z</td>\n",
       "      <td>1.122182</td>\n",
       "      <td>0.398438</td>\n",
       "      <td>3.029489</td>\n",
       "      <td>False</td>\n",
       "      <td>0.00000</td>\n",
       "      <td>0.000000</td>\n",
       "      <td>0.000000</td>\n",
       "      <td>0.000000</td>\n",
       "    </tr>\n",
       "    <tr>\n",
       "      <th>4</th>\n",
       "      <td>2020-07-02T18:20:00Z</td>\n",
       "      <td>1.091310</td>\n",
       "      <td>0.282137</td>\n",
       "      <td>2.948016</td>\n",
       "      <td>False</td>\n",
       "      <td>0.00000</td>\n",
       "      <td>0.000000</td>\n",
       "      <td>0.000000</td>\n",
       "      <td>0.000000</td>\n",
       "    </tr>\n",
       "    <tr>\n",
       "      <th>...</th>\n",
       "      <td>...</td>\n",
       "      <td>...</td>\n",
       "      <td>...</td>\n",
       "      <td>...</td>\n",
       "      <td>...</td>\n",
       "      <td>...</td>\n",
       "      <td>...</td>\n",
       "      <td>...</td>\n",
       "      <td>...</td>\n",
       "    </tr>\n",
       "    <tr>\n",
       "      <th>995</th>\n",
       "      <td>2020-07-06T04:55:00Z</td>\n",
       "      <td>-0.443438</td>\n",
       "      <td>0.768980</td>\n",
       "      <td>-0.710800</td>\n",
       "      <td>False</td>\n",
       "      <td>0.00000</td>\n",
       "      <td>0.000000</td>\n",
       "      <td>0.000000</td>\n",
       "      <td>0.000000</td>\n",
       "    </tr>\n",
       "    <tr>\n",
       "      <th>996</th>\n",
       "      <td>2020-07-06T05:00:00Z</td>\n",
       "      <td>-0.529400</td>\n",
       "      <td>0.822140</td>\n",
       "      <td>-0.944681</td>\n",
       "      <td>False</td>\n",
       "      <td>0.00000</td>\n",
       "      <td>0.000000</td>\n",
       "      <td>0.000000</td>\n",
       "      <td>0.000000</td>\n",
       "    </tr>\n",
       "    <tr>\n",
       "      <th>997</th>\n",
       "      <td>2020-07-06T05:05:00Z</td>\n",
       "      <td>-0.377911</td>\n",
       "      <td>0.738591</td>\n",
       "      <td>-0.871468</td>\n",
       "      <td>False</td>\n",
       "      <td>0.00000</td>\n",
       "      <td>0.000000</td>\n",
       "      <td>0.000000</td>\n",
       "      <td>0.000000</td>\n",
       "    </tr>\n",
       "    <tr>\n",
       "      <th>998</th>\n",
       "      <td>2020-07-06T05:10:00Z</td>\n",
       "      <td>-0.501993</td>\n",
       "      <td>0.727775</td>\n",
       "      <td>-0.786263</td>\n",
       "      <td>False</td>\n",
       "      <td>0.00000</td>\n",
       "      <td>0.000000</td>\n",
       "      <td>0.000000</td>\n",
       "      <td>0.000000</td>\n",
       "    </tr>\n",
       "    <tr>\n",
       "      <th>999</th>\n",
       "      <td>2020-07-06T05:15:00Z</td>\n",
       "      <td>-0.404138</td>\n",
       "      <td>0.806980</td>\n",
       "      <td>-0.883521</td>\n",
       "      <td>False</td>\n",
       "      <td>0.00000</td>\n",
       "      <td>0.000000</td>\n",
       "      <td>0.000000</td>\n",
       "      <td>0.000000</td>\n",
       "    </tr>\n",
       "  </tbody>\n",
       "</table>\n",
       "<p>1000 rows × 9 columns</p>\n",
       "</div>"
      ]
     },
     "metadata": {
      "application/vnd.databricks.v1+output": {
       "addedWidgets": {},
       "arguments": {},
       "data": "<div>\n<style scoped>\n    .dataframe tbody tr th:only-of-type {\n        vertical-align: middle;\n    }\n\n    .dataframe tbody tr th {\n        vertical-align: top;\n    }\n\n    .dataframe thead th {\n        text-align: right;\n    }\n</style>\n<table border=\"1\" class=\"dataframe\">\n  <thead>\n    <tr style=\"text-align: right;\">\n      <th></th>\n      <th>timestamp</th>\n      <th>sensor_1</th>\n      <th>sensor_2</th>\n      <th>sensor_3</th>\n      <th>isAnomaly</th>\n      <th>severity</th>\n      <th>series_0</th>\n      <th>series_1</th>\n      <th>series_2</th>\n    </tr>\n  </thead>\n  <tbody>\n    <tr>\n      <th>0</th>\n      <td>2020-07-02T18:00:00Z</td>\n      <td>1.069680</td>\n      <td>0.393173</td>\n      <td>3.129125</td>\n      <td>False</td>\n      <td>0.00000</td>\n      <td>0.000000</td>\n      <td>0.000000</td>\n      <td>0.000000</td>\n    </tr>\n    <tr>\n      <th>1</th>\n      <td>2020-07-02T18:05:00Z</td>\n      <td>0.932784</td>\n      <td>0.214959</td>\n      <td>3.077339</td>\n      <td>True</td>\n      <td>0.06478</td>\n      <td>0.313343</td>\n      <td>0.551661</td>\n      <td>0.134996</td>\n    </tr>\n    <tr>\n      <th>2</th>\n      <td>2020-07-02T18:10:00Z</td>\n      <td>1.012214</td>\n      <td>0.466037</td>\n      <td>2.909561</td>\n      <td>False</td>\n      <td>0.00000</td>\n      <td>0.000000</td>\n      <td>0.000000</td>\n      <td>0.000000</td>\n    </tr>\n    <tr>\n      <th>3</th>\n      <td>2020-07-02T18:15:00Z</td>\n      <td>1.122182</td>\n      <td>0.398438</td>\n      <td>3.029489</td>\n      <td>False</td>\n      <td>0.00000</td>\n      <td>0.000000</td>\n      <td>0.000000</td>\n      <td>0.000000</td>\n    </tr>\n    <tr>\n      <th>4</th>\n      <td>2020-07-02T18:20:00Z</td>\n      <td>1.091310</td>\n      <td>0.282137</td>\n      <td>2.948016</td>\n      <td>False</td>\n      <td>0.00000</td>\n      <td>0.000000</td>\n      <td>0.000000</td>\n      <td>0.000000</td>\n    </tr>\n    <tr>\n      <th>...</th>\n      <td>...</td>\n      <td>...</td>\n      <td>...</td>\n      <td>...</td>\n      <td>...</td>\n      <td>...</td>\n      <td>...</td>\n      <td>...</td>\n      <td>...</td>\n    </tr>\n    <tr>\n      <th>995</th>\n      <td>2020-07-06T04:55:00Z</td>\n      <td>-0.443438</td>\n      <td>0.768980</td>\n      <td>-0.710800</td>\n      <td>False</td>\n      <td>0.00000</td>\n      <td>0.000000</td>\n      <td>0.000000</td>\n      <td>0.000000</td>\n    </tr>\n    <tr>\n      <th>996</th>\n      <td>2020-07-06T05:00:00Z</td>\n      <td>-0.529400</td>\n      <td>0.822140</td>\n      <td>-0.944681</td>\n      <td>False</td>\n      <td>0.00000</td>\n      <td>0.000000</td>\n      <td>0.000000</td>\n      <td>0.000000</td>\n    </tr>\n    <tr>\n      <th>997</th>\n      <td>2020-07-06T05:05:00Z</td>\n      <td>-0.377911</td>\n      <td>0.738591</td>\n      <td>-0.871468</td>\n      <td>False</td>\n      <td>0.00000</td>\n      <td>0.000000</td>\n      <td>0.000000</td>\n      <td>0.000000</td>\n    </tr>\n    <tr>\n      <th>998</th>\n      <td>2020-07-06T05:10:00Z</td>\n      <td>-0.501993</td>\n      <td>0.727775</td>\n      <td>-0.786263</td>\n      <td>False</td>\n      <td>0.00000</td>\n      <td>0.000000</td>\n      <td>0.000000</td>\n      <td>0.000000</td>\n    </tr>\n    <tr>\n      <th>999</th>\n      <td>2020-07-06T05:15:00Z</td>\n      <td>-0.404138</td>\n      <td>0.806980</td>\n      <td>-0.883521</td>\n      <td>False</td>\n      <td>0.00000</td>\n      <td>0.000000</td>\n      <td>0.000000</td>\n      <td>0.000000</td>\n    </tr>\n  </tbody>\n</table>\n<p>1000 rows × 9 columns</p>\n</div>",
       "datasetInfos": [],
       "metadata": {},
       "removedWidgets": [],
       "textData": null,
       "type": "htmlSandbox"
      }
     },
     "output_type": "display_data"
    }
   ],
   "source": [
    "def parse(x):\n",
    "    if type(x) is list:\n",
    "        return dict([item[::-1] for item in x])\n",
    "    else:\n",
    "        return {'series_0': 0, 'series_1': 0, 'series_2': 0}\n",
    "\n",
    "rdf['contributors'] = rdf['contributors'].apply(parse)\n",
    "rdf = pd.concat([rdf.drop(['contributors'], axis=1), pd.json_normalize(rdf['contributors'])], axis=1)\n",
    "rdf"
   ]
  },
  {
   "cell_type": "markdown",
   "metadata": {
    "application/vnd.databricks.v1+cell": {
     "inputWidgets": {},
     "nuid": "67943277-ef55-4a84-a478-0e89dbf33d6a",
     "showTitle": false,
     "title": ""
    }
   },
   "source": [
    "Great! We now have the contribution scores of sensors 1, 2, and 3 in the `series_0`, `series_1`, and `series_2` columns respectively. \n",
    "\n",
    "Let's run the next cell to plot the results. The `minSeverity` parameter in the first line specifies the minimum severity of the anomalies to be plotted. "
   ]
  },
  {
   "cell_type": "code",
   "execution_count": null,
   "metadata": {
    "application/vnd.databricks.v1+cell": {
     "inputWidgets": {},
     "nuid": "5b259f82-9e91-4034-b5f9-4a2bc49a59ef",
     "showTitle": false,
     "title": ""
    }
   },
   "outputs": [],
   "source": [
    "minSeverity = 0.1\n",
    "\n",
    "\n",
    "####### Main Figure #######\n",
    "plt.figure(figsize=(23,8))\n",
    "plt.plot(rdf['timestamp'],rdf['sensor_1'], color='tab:orange', linestyle='solid', linewidth=2, label='sensor_1')\n",
    "plt.plot(rdf['timestamp'],rdf['sensor_2'], color='tab:green', linestyle='solid', linewidth=2, label='sensor_2')\n",
    "plt.plot(rdf['timestamp'],rdf['sensor_3'], color='tab:blue', linestyle='solid', linewidth=2, label='sensor_3')\n",
    "plt.grid(axis='y')\n",
    "plt.tick_params(axis='x',which='both',bottom=False,labelbottom=False)\n",
    "plt.legend()\n",
    "\n",
    "anoms = list(rdf[\"severity\"] >= minSeverity)\n",
    "_, _, ymin, ymax = plt.axis()\n",
    "plt.vlines(np.where(anoms), ymin=ymin , ymax=ymax , color='r', alpha=0.8)\n",
    "\n",
    "plt.legend()\n",
    "plt.title('A plot of the values from the three sensors with the detected anomalies highlighted in red.')\n",
    "plt.show()\n",
    "\n",
    "####### Severity Figure #######\n",
    "plt.figure(figsize=(23,1))\n",
    "plt.tick_params(axis='x',which='both',bottom=False,labelbottom=False)\n",
    "plt.plot(rdf['timestamp'],rdf['severity'], color='black', linestyle='solid', linewidth=2, label='Severity score')\n",
    "plt.plot(rdf['timestamp'],[minSeverity]*len(rdf['severity']), color='red', linestyle='dotted', linewidth=1, label='minSeverity')\n",
    "plt.grid(axis='y')\n",
    "plt.legend()\n",
    "plt.ylim([0,1])\n",
    "plt.title(\"Severity of the detected anomalies\")\n",
    "plt.show()\n",
    "\n",
    "####### Contributors Figure #######\n",
    "plt.figure(figsize=(23,1))\n",
    "plt.tick_params(axis='x',which='both',bottom=False,labelbottom=False)\n",
    "plt.bar(rdf['timestamp'],rdf['series_0'], width=2, color='tab:orange', label='sensor_1')\n",
    "plt.bar(rdf['timestamp'],rdf['series_1'], width=2, color='tab:green', label='sensor_2', bottom=rdf['series_0'])\n",
    "plt.bar(rdf['timestamp'],rdf['series_2'], width=2, color='tab:blue', label='sensor_3', bottom=rdf['series_0']+rdf['series_1'])\n",
    "plt.grid(axis='y')\n",
    "plt.legend()\n",
    "plt.ylim([0,1])\n",
    "plt.title(\"The contribution of each sensor to the detected anomaly\")\n",
    "plt.show()"
   ]
  },
  {
   "cell_type": "markdown",
   "metadata": {},
   "source": [
    "<img width=\"1300\" src=\"https://mmlspark.blob.core.windows.net/graphics/mvad_plot.png\"/>"
   ]
  },
  {
   "cell_type": "markdown",
   "metadata": {
    "application/vnd.databricks.v1+cell": {
     "inputWidgets": {},
     "nuid": "d999ebc4-320b-45ab-9196-f3067e06ccd5",
     "showTitle": false,
     "title": ""
    }
   },
   "source": [
    "The plots above show the raw data from the sensors (inside the inference window) in orange, green, and blue. The red vertical lines in the first figure show the detected anomalies that have a severity greater than or equal to `minSeverity`. \n",
    "\n",
    "The second plot shows the severity score of all the detected anomalies, with the `minSeverity` threshold shown in the dotted red line.\n",
    "\n",
    "Finally, the last plot shows the contribution of the data from each sensor to the detected anomalies. This helps us diagnose and understand the most likely cause of each anomaly."
   ]
  }
 ],
 "metadata": {
  "application/vnd.databricks.v1+notebook": {
   "dashboards": [],
   "language": "python",
   "notebookMetadata": {
    "pythonIndentUnit": 4
   },
   "notebookName": "sample_mvad_notebook",
   "notebookOrigID": 595270988434496,
   "widgets": {}
  },
  "kernelspec": {
   "display_name": "dev",
   "language": "python",
   "name": "dev"
  },
  "language_info": {
   "codemirror_mode": {
    "name": "ipython",
    "version": 3
   },
   "file_extension": ".py",
   "mimetype": "text/x-python",
   "name": "python",
   "nbconvert_exporter": "python",
   "pygments_lexer": "ipython3",
   "version": "3.7.12"
  }
 },
 "nbformat": 4,
 "nbformat_minor": 4
}