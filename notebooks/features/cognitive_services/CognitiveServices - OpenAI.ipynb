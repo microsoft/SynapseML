{
 "cells": [
  {
   "cell_type": "markdown",
   "source": [
    "# Cognitive Services - OpenAI"
   ],
   "metadata": {}
  },
  {
   "cell_type": "markdown",
   "source": [
    "Large language models are capable of successfully completing multiple downstream tasks with little training data required from users. This is because these models are already trained using enormous amounts of text. The 175 billion-parameter GPT-3 model for example, can generate text and even code given a short prompt containing instructions. \n\nWhile large models are becoming more powerful, more multimodal, and relatively cheaper to train, inferencing also needs to scale to handle larger volume of requests from customers. Using SynapseML, customers can now leverage enterprise grade models from Azure OpenAI Service to apply advanced language models on data stored in Azure Synapse Analytics. \n\nSynapseML is an open source library with a set of consistent APIs that integrate with a number of deep learning and data science tools, including Azure OpenAI. The OpenAI project itself maintains a [great tool](https://github.com/openai/openai-quickstart-node) for experimenting with GPT-3 to get an idea of how it works. SynapseML's integration with Azure OpenAI provides a simple and intuitive coding interface that can be called from Scala, Python or R. It is intended for use in industrial-grade applications, but it is also flexible enough to nimbly handle the demands of consumer website.\n\nThis tutorial walks you through a couple steps you need to perform to integrate Azure OpenAI Services to Azure SynapseML and how to apply the large language models available in Azure OpenAI at a distributed scale."
   ],
   "metadata": {}
  },
  {
   "cell_type": "markdown",
   "source": [
    "First, set up some administrative details."
   ],
   "metadata": {}
  },
  {
   "cell_type": "code",
   "source": [
    "import os\n",
    "\n",
    "service_name = \"M3Test11\"\n",
    "deployment_name = \"text-davinci-001\"\n",
    "if os.environ.get(\"AZURE_SERVICE\", None) == \"Microsoft.ProjectArcadia\":\n",
    "    from pyspark.sql import SparkSession\n",
    "\n",
    "    spark = SparkSession.builder.getOrCreate()\n",
    "    from notebookutils.mssparkutils.credentials import getSecret\n",
    "\n",
    "    os.environ[\"OPENAI_API_KEY\"] = getSecret(\"mmlspark-build-keys\", \"openai-api-key\")\n",
    "    from notebookutils.visualization import display\n",
    "\n",
    "# put your service keys here\n",
    "key = os.environ[\"OPENAI_API_KEY\"]\n",
    "location = \"eastus\"\n",
    "assert key is not None and service_name is not None"
   ],
   "metadata": {},
   "outputs": [],
   "execution_count": 0
  },
  {
   "cell_type": "markdown",
   "source": [
    "Next, create a dataframe consisting of a series of rows, with one prompt per row. Each prompt is followed by a comma and then ensconsed in a set of parentheses. This format forms a tuple. Then add a string to identify the column containing the prompts."
   ],
   "metadata": {}
  },
  {
   "cell_type": "code",
   "source": [
    "# Create or load a dataframe of text, can load directly from adls or other databases\n",
    "\n",
    "df = spark.createDataFrame(\n",
    "    [\n",
    "        (\"Once upon a time\",),\n",
    "        (\"Hello my name is\",),\n",
    "        (\"The best code is code thats\",),\n",
    "        (\"The meaning of life is\",),\n",
    "    ]\n",
    ").toDF(\"prompt\")"
   ],
   "metadata": {},
   "outputs": [],
   "execution_count": 0
  },
  {
   "cell_type": "markdown",
   "source": [
    "To set up the completion interaction with the OpenAI service, create an `OpenAICompletion` object. Set `MaxTokens` to 200. A token is around 4 characters, and this limit applies to the some of the prompt and the result. Set the prompt column with the same name used to identify the prompt column in the dataframe."
   ],
   "metadata": {}
  },
  {
   "cell_type": "code",
   "source": [
    "from synapse.ml.cognitive import OpenAICompletion\n",
    "\n",
    "completion = (\n",
    "    OpenAICompletion()\n",
    "    .setSubscriptionKey(key)\n",
    "    .setDeploymentName(deployment_name)\n",
    "    .setUrl(\"https://{}.openai.azure.com/\".format(service_name))\n",
    "    .setMaxTokens(200)\n",
    "    .setPromptCol(\"prompt\")\n",
    "    .setOutputCol(\"completions\")\n",
    ")"
   ],
   "metadata": {},
   "outputs": [],
   "execution_count": 0
  },
  {
   "cell_type": "markdown",
   "source": [
    "Now that you have the dataframe and the completion object, you can obtain the prompt completions."
   ],
   "metadata": {}
  },
  {
   "cell_type": "code",
   "source": [
    "# Map the dataframe through OpenAI\ncompleted_df = completion.transform(df).cache()"
   ],
   "metadata": {},
   "outputs": [],
   "execution_count": 0
  },
  {
   "cell_type": "markdown",
   "source": [
    "And display them."
   ],
   "metadata": {}
  },
  {
   "cell_type": "code",
   "source": [
    "from pyspark.sql.functions import col\n\ndisplay(completed_df.select(col(\"prompt\"), col(\"completions.choices.text\")))"
   ],
   "metadata": {},
   "outputs": [],
   "execution_count": 0
  },
  {
   "cell_type": "markdown",
   "source": [
    "The method above makes several requests to the service, one for each prompt. To complete multiple prompts in a single request, use batch mode. First, in the OpenAICompletion object, instead of setting the Prompt column to \"Prompt\", specify \"batchPrompt\" for the BatchPrompt column."
   ],
   "metadata": {}
  },
  {
   "cell_type": "markdown",
   "source": [
    "The method used above makes several requests to the service, one for each prompt. To complete multiple prompts in a single request, use batch mode. \n\nTo do so, create a dataframe with a list of prompts per row.\n\nIn the `OpenAICompletion` object, rather than setting the `prompt` column, set the `batchPrompt` column instead.\n\nIn the call to `transform` a request will then be made per row. Since there are multiple prompts in a single row, each request will be sent with all prompts in that row. The results will contain a row for each row in the request.\n\nNote that as of this writing there is currently a limit of 20 prompts in a single request, as well as a hard limit of 2048 \"tokens\", or approximately 1500 words."
   ],
   "metadata": {}
  },
  {
   "cell_type": "code",
   "source": [
    "df = spark.createDataFrame(\n",
    "    [\n",
    "        ([\"The time has come\", \"Pleased to\", \"Today stocks\", \"Here's to\"],),\n",
    "        ([\"The only thing\", \"Ask not what\", \"Every litter\", \"I am\"],),\n",
    "    ]\n",
    ").toDF(\"batchPrompt\")\n",
    "\n",
    "batchCompletion = (\n",
    "    OpenAICompletion()\n",
    "    .setSubscriptionKey(key)\n",
    "    .setDeploymentName(deployment_name)\n",
    "    .setUrl(\"https://{}.openai.azure.com/\".format(service_name))\n",
    "    .setMaxTokens(200)\n",
    "    .setBatchPromptCol(\"batchPrompt\")\n",
    "    .setOutputCol(\"completions\")\n",
    ")\n",
    "\n",
    "completed_df = batchCompletion.transform(df).cache()\n",
    "display(completed_df.select(col(\"batchPrompt\"), col(\"completions.choices.text\")))"
   ],
   "metadata": {},
   "outputs": [],
   "execution_count": 0
  },
  {
   "cell_type": "markdown",
   "source": [
    "If your data is in column format, you can transpose it to row format using SynapseML's `FixedMiniBatcherTransformer`, along with help from Spark's `coalesce` method."
   ],
   "metadata": {}
  },
  {
   "cell_type": "code",
   "source": [
    "from pyspark.sql.types import StringType\n",
    "from synapse.ml.stages import FixedMiniBatchTransformer\n",
    "\n",
    "df = spark.createDataFrame(\n",
    "    [\"This land is\", \"If I had a\", \"How many roads\", \"You can get anything\"],\n",
    "    StringType(),\n",
    ").toDF(\"batchPrompt\")\n",
    "\n",
    "# Force a single partition\n",
    "df = df.coalesce(1)\n",
    "\n",
    "df = FixedMiniBatchTransformer(batchSize=4, buffered=False).transform(df)\n",
    "\n",
    "completed_df = batchCompletion.transform(df).cache()\n",
    "display(completed_df.select(col(\"batchPrompt\"), col(\"completions.choices.text\")))"
   ],
   "metadata": {},
   "outputs": [],
   "execution_count": 0
  },
  {
   "cell_type": "markdown",
   "source": [
    "You can try your hand at translation."
   ],
   "metadata": {}
  },
  {
   "cell_type": "code",
   "source": [
    "df = spark.createDataFrame(\n",
    "    [\n",
    "        (\"Japanese: Ookina hako\\nEnglish: Big box\\nJapanese: Midori tako\\nEnglish:\",),\n",
    "        (\n",
    "            \"French: Quel heure et il au Montreal?\\nEnglish: What time is it in Montreal?\\nFrench: Ou est le poulet?\\nEnglish:\",\n",
    "        ),\n",
    "    ]\n",
    ").toDF(\"prompt\")\n",
    "\n",
    "completed_df = completion.transform(df).cache()\n",
    "display(completed_df.select(col(\"prompt\"), col(\"completions.choices.text\")))"
   ],
   "metadata": {},
   "outputs": [],
   "execution_count": 0
  },
  {
   "cell_type": "markdown",
   "source": [
    "You can prompt for general knowledge."
   ],
   "metadata": {}
  },
  {
   "cell_type": "code",
   "source": [
    "df = spark.createDataFrame(\n",
    "    [\n",
    "        (\n",
    "            \"Q: Where is the Grand Canyon?\\nA: The Grand Canyon is in Arizona.\\n\\nQ: What is the weight of the Burj Khalifa in kilograms?\\nA:\",\n",
    "        )\n",
    "    ]\n",
    ").toDF(\"prompt\")\n",
    "\n",
    "completed_df = completion.transform(df).cache()\n",
    "display(completed_df.select(col(\"prompt\"), col(\"completions.choices.text\")))"
   ],
   "metadata": {},
   "outputs": [],
   "execution_count": 0
  },
  {
   "cell_type": "code",
   "source": [
    ""
   ],
   "metadata": {},
   "outputs": [],
   "execution_count": 0
  }
 ],
 "metadata": {},
 "nbformat": 4,
 "nbformat_minor": 0
}
