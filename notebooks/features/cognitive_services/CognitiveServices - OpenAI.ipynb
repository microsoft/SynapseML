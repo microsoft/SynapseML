{
 "cells": [
  {
   "cell_type": "markdown",
   "source": [
    "# Cognitive Services - OpenAI"
   ],
   "metadata": {
    "application/vnd.databricks.v1+cell": {
     "title": "",
     "showTitle": false,
     "inputWidgets": null,
     "nuid": "443f201a-bde9-4b71-80c2-ca05dfa6f36b"
    }
   }
  },
  {
   "cell_type": "markdown",
   "source": [
    "Large language models are capable of successfully completing multiple downstream tasks with little training data required from users. This is because these models are already trained using enormous amounts of text. The 175 billion-parameter GPT-3 model for example, can generate text and even code given a short prompt containing instructions. \n\nWhile large models are becoming more powerful, more multimodal, and relatively cheaper to train, inferencing also needs to scale to handle larger volume of requests from customers. Using SynapseML, customers can now leverage enterprise grade models from Azure OpenAI Service to apply advanced language models on data stored in Azure Synapse Analytics. \n\nSynapseML is an open source library with a set of consistent APIs that integrate with a number of deep learning and data science tools, including Azure OpenAI. The OpenAI project itself maintains a [great tool](https://github.com/openai/openai-quickstart-node) for experimenting with GPT-3 to get an idea of how it works. SynapseML's integration with Azure OpenAI provides a simple and intuitive coding interface that can be called from Scala, Python or R. It is intended for use in industrial-grade applications, but it is also flexible enough to nimbly handle the demands of consumer website.\n\nThis tutorial walks you through a couple steps you need to perform to integrate Azure OpenAI Services to Azure SynapseML and how to apply the large language models available in Azure OpenAI at a distributed scale."
   ],
   "metadata": {
    "application/vnd.databricks.v1+cell": {
     "title": "",
     "showTitle": false,
     "inputWidgets": null,
     "nuid": "8de6878a-1936-431c-ba2a-0e84f0ebe100"
    }
   }
  },
  {
   "cell_type": "markdown",
   "source": [
    "First, set up some administrative details."
   ],
   "metadata": {
    "application/vnd.databricks.v1+cell": {
     "title": "",
     "showTitle": false,
     "inputWidgets": null,
     "nuid": "660fcc39-93f1-43d9-9d33-e2fb5b91c52e"
    }
   }
  },
  {
   "cell_type": "code",
   "source": [
    "import os\n",
    "\n",
    "if os.environ.get(\"AZURE_SERVICE\", None) == \"Microsoft.ProjectArcadia\":\n",
    "    from pyspark.sql import SparkSession\n",
    "\n",
    "    spark = SparkSession.builder.getOrCreate()\n",
    "    from notebookutils.mssparkutils.credentials import getSecret\n",
    "\n",
    "    os.environ[\"OPENAI_API_KEY\"] = getSecret(\"mmlspark-build-keys\", \"openai-api-key\")\n",
    "    from notebookutils.visualization import display\n",
    "\n",
    "# put your service keys here\n",
    "key = os.environ[\"OPENAI_API_KEY\"]\n",
    "location = \"eastus\""
   ],
   "metadata": {
    "application/vnd.databricks.v1+cell": {
     "title": "",
     "showTitle": false,
     "inputWidgets": null,
     "nuid": "d5735be9-49a5-4b4f-8f4e-dd4390f5545d"
    }
   },
   "outputs": [
    {
     "output_type": "display_data",
     "metadata": {
      "application/vnd.databricks.v1+output": {
       "datasetInfos": [],
       "data": "<div class=\"ansiout\"></div>",
       "removedWidgets": [],
       "addedWidgets": null,
       "metadata": null,
       "type": "html",
       "arguments": null
      }
     },
     "data": {
      "text/html": [
       "<style scoped>\n  .ansiout {\n    display: block;\n    unicode-bidi: embed;\n    white-space: pre-wrap;\n    word-wrap: break-word;\n    word-break: break-all;\n    font-family: \"Source Code Pro\", \"Menlo\", monospace;;\n    font-size: 13px;\n    color: #555;\n    margin-left: 4px;\n    line-height: 19px;\n  }\n</style>\n<div class=\"ansiout\"></div>"
      ]
     }
    }
   ],
   "execution_count": 0
  },
  {
   "cell_type": "markdown",
   "source": [
    "Next, create a dataframe consisting of a series of rows, with one prompt per row. Each prompt is followed by a comma and then ensconsed in a set of parentheses. This format forms a tuple. Then add a string to identify the column containing the prompts."
   ],
   "metadata": {
    "application/vnd.databricks.v1+cell": {
     "title": "",
     "showTitle": false,
     "inputWidgets": null,
     "nuid": "2acb1e60-e43c-4ff9-90f9-98786824c0a5"
    }
   }
  },
  {
   "cell_type": "code",
   "source": [
    "# Create or load a dataframe of text, can load directly from adls or other databases\n",
    "\n",
    "df = spark.createDataFrame(\n",
    "    [\n",
    "        (\"Once upon a time\",),\n",
    "        (\"Hello my name is\",),\n",
    "        (\"The best code is code thats\",),\n",
    "        (\"The meaning of life is\",),\n",
    "    ]\n",
    ").toDF(\"prompt\")"
   ],
   "metadata": {
    "application/vnd.databricks.v1+cell": {
     "title": "",
     "showTitle": false,
     "inputWidgets": null,
     "nuid": "7a371dee-35c2-4640-995f-87f8e0bc5021"
    }
   },
   "outputs": [
    {
     "output_type": "display_data",
     "metadata": {
      "application/vnd.databricks.v1+output": {
       "datasetInfos": [],
       "data": "<div class=\"ansiout\"></div>",
       "removedWidgets": [],
       "addedWidgets": null,
       "metadata": null,
       "type": "html",
       "arguments": null
      }
     },
     "data": {
      "text/html": [
       "<style scoped>\n  .ansiout {\n    display: block;\n    unicode-bidi: embed;\n    white-space: pre-wrap;\n    word-wrap: break-word;\n    word-break: break-all;\n    font-family: \"Source Code Pro\", \"Menlo\", monospace;;\n    font-size: 13px;\n    color: #555;\n    margin-left: 4px;\n    line-height: 19px;\n  }\n</style>\n<div class=\"ansiout\"></div>"
      ]
     }
    }
   ],
   "execution_count": 0
  },
  {
   "cell_type": "markdown",
   "source": [
    "To set up the completion interaction with the OpenAI service, create an `OpenAICompletion` object. Set `MaxTokens` to 200. A token is around 4 characters, and this limit applies to the some of the prompt and the result. Set the prompt column with the same name used to identify the prompt column in the dataframe."
   ],
   "metadata": {
    "application/vnd.databricks.v1+cell": {
     "title": "",
     "showTitle": false,
     "inputWidgets": null,
     "nuid": "e257bb89-bc87-499b-85f7-825e8f1a1325"
    }
   }
  },
  {
   "cell_type": "code",
   "source": [
    "from synapse.ml.cognitive import OpenAICompletion\n",
    "\n",
    "completion = (\n",
    "    OpenAICompletion()\n",
    "    .setSubscriptionKey(key)\n",
    "    .setDeploymentName(deployment_name)\n",
    "    .setUrl(\"https://{}.openai.azure.com/\".format(service_name))\n",
    "    .setMaxTokens(200)\n",
    "    .setPromptCol(\"prompt\")\n",
    "    .setOutputCol(\"completions\")\n",
    ")"
   ],
   "metadata": {
    "application/vnd.databricks.v1+cell": {
     "title": "",
     "showTitle": false,
     "inputWidgets": null,
     "nuid": "45c95461-89c0-499e-999f-4200d1dac3e7"
    }
   },
   "outputs": [
    {
     "output_type": "display_data",
     "metadata": {
      "application/vnd.databricks.v1+output": {
       "datasetInfos": [],
       "data": "<div class=\"ansiout\"></div>",
       "removedWidgets": [],
       "addedWidgets": null,
       "metadata": null,
       "type": "html",
       "arguments": null
      }
     },
     "data": {
      "text/html": [
       "<style scoped>\n  .ansiout {\n    display: block;\n    unicode-bidi: embed;\n    white-space: pre-wrap;\n    word-wrap: break-word;\n    word-break: break-all;\n    font-family: \"Source Code Pro\", \"Menlo\", monospace;;\n    font-size: 13px;\n    color: #555;\n    margin-left: 4px;\n    line-height: 19px;\n  }\n</style>\n<div class=\"ansiout\"></div>"
      ]
     }
    }
   ],
   "execution_count": 0
  },
  {
   "cell_type": "markdown",
   "source": [
    "Now that you have the dataframe and the completion object, you can obtain the prompt completions."
   ],
   "metadata": {
    "application/vnd.databricks.v1+cell": {
     "title": "",
     "showTitle": false,
     "inputWidgets": null,
     "nuid": "775520b3-66ad-4fdb-be66-314901317b99"
    }
   }
  },
  {
   "cell_type": "code",
   "source": [
    "# Map the dataframe through OpenAI\ncompleted_df = completion.transform(df).cache()"
   ],
   "metadata": {
    "application/vnd.databricks.v1+cell": {
     "title": "",
     "showTitle": false,
     "inputWidgets": null,
     "nuid": "f38161aa-38bb-4e71-a4e3-98efff370a0b"
    }
   },
   "outputs": [
    {
     "output_type": "display_data",
     "metadata": {
      "application/vnd.databricks.v1+output": {
       "datasetInfos": [],
       "data": "<div class=\"ansiout\"></div>",
       "removedWidgets": [],
       "addedWidgets": null,
       "metadata": null,
       "type": "html",
       "arguments": null
      }
     },
     "data": {
      "text/html": [
       "<style scoped>\n  .ansiout {\n    display: block;\n    unicode-bidi: embed;\n    white-space: pre-wrap;\n    word-wrap: break-word;\n    word-break: break-all;\n    font-family: \"Source Code Pro\", \"Menlo\", monospace;;\n    font-size: 13px;\n    color: #555;\n    margin-left: 4px;\n    line-height: 19px;\n  }\n</style>\n<div class=\"ansiout\"></div>"
      ]
     }
    }
   ],
   "execution_count": 0
  },
  {
   "cell_type": "markdown",
   "source": [
    "And display them."
   ],
   "metadata": {
    "application/vnd.databricks.v1+cell": {
     "title": "",
     "showTitle": false,
     "inputWidgets": null,
     "nuid": "11b51886-cf52-4718-a390-477f15c3a7d1"
    }
   }
  },
  {
   "cell_type": "code",
   "source": [
    "from pyspark.sql.functions import col\n\ndisplay(completed_df.select(col(\"prompt\"), col(\"completions.choices.text\")))"
   ],
   "metadata": {
    "application/vnd.databricks.v1+cell": {
     "title": "",
     "showTitle": false,
     "inputWidgets": null,
     "nuid": "7bc03aa1-8415-44f2-838c-7631af8fdc2f"
    }
   },
   "outputs": [
    {
     "output_type": "display_data",
     "metadata": {
      "application/vnd.databricks.v1+output": {
       "overflow": false,
       "datasetInfos": [],
       "data": [
        [
         "Once upon a time",
         [
          ", there was a logging company in the Pacific Northwest that clear-cut vast swaths of forest.\n\nThe logger's practices caused massive erosion, which in turn led to the silting-up of the river that ran through the forest.\n\nThis made it difficult, if not impossible, for the local fishermen to make a living.\n\nThe logger's practices also destroyed the salmon spawning grounds, which led to the decline of the salmon population."
         ]
        ],
        [
         "Hello my name is",
         [
          " Mohammad.\n\nHello Mohammad, nice to meet you."
         ]
        ],
        [
         "The best code is code thats",
         [
          " both efficient and easy to read.\n\nThere is no definitive answer to this question as it depends on personal preferences. Some people may prefer code that is easy to read but not as efficient, while others may prefer code that is more efficient but harder to read. Ultimately, the best code is the code that best meets the needs of the individual programmer."
         ]
        ],
        [
         "The meaning of life is",
         null
        ]
       ],
       "plotOptions": {
        "displayType": "table",
        "customPlotOptions": null,
        "pivotColumns": null,
        "pivotAggregation": null,
        "xColumns": null,
        "yColumns": null
       },
       "columnCustomDisplayInfos": null,
       "aggType": "",
       "isJsonSchema": true,
       "removedWidgets": [],
       "aggSchema": [],
       "schema": [
        {
         "name": "prompt",
         "type": "\"string\"",
         "metadata": "{}"
        },
        {
         "name": "text",
         "type": "{\"type\":\"array\",\"elementType\":\"string\",\"containsNull\":true}",
         "metadata": "{}"
        }
       ],
       "aggError": "",
       "aggData": [],
       "addedWidgets": null,
       "metadata": null,
       "dbfsResultPath": null,
       "type": "table",
       "aggOverflow": false,
       "aggSeriesLimitReached": false,
       "arguments": null
      }
     },
     "data": {
      "text/html": [
       "<style scoped>\n  .table-result-container {\n    max-height: 300px;\n    overflow: auto;\n  }\n  table, th, td {\n    border: 1px solid black;\n    border-collapse: collapse;\n  }\n  th, td {\n    padding: 5px;\n  }\n  th {\n    text-align: left;\n  }\n</style><div class='table-result-container'><table class='table-result'><thead style='background-color: white'><tr><th>prompt</th><th>text</th></tr></thead><tbody><tr><td>Once upon a time</td><td>List(, there was a logging company in the Pacific Northwest that clear-cut vast swaths of forest.\n\nThe logger's practices caused massive erosion, which in turn led to the silting-up of the river that ran through the forest.\n\nThis made it difficult, if not impossible, for the local fishermen to make a living.\n\nThe logger's practices also destroyed the salmon spawning grounds, which led to the decline of the salmon population.)</td></tr><tr><td>Hello my name is</td><td>List( Mohammad.\n\nHello Mohammad, nice to meet you.)</td></tr><tr><td>The best code is code thats</td><td>List( both efficient and easy to read.\n\nThere is no definitive answer to this question as it depends on personal preferences. Some people may prefer code that is easy to read but not as efficient, while others may prefer code that is more efficient but harder to read. Ultimately, the best code is the code that best meets the needs of the individual programmer.)</td></tr><tr><td>The meaning of life is</td><td>null</td></tr></tbody></table></div>"
      ]
     }
    }
   ],
   "execution_count": 0
  },
  {
   "cell_type": "markdown",
   "source": [
    "The method above makes several requests to the service, one for each prompt. To complete multiple prompts in a single request, use batch mode. First, in the OpenAICompletion object, instead of setting the Prompt column to \"Prompt\", specify \"batchPrompt\" for the BatchPrompt column."
   ],
   "metadata": {
    "application/vnd.databricks.v1+cell": {
     "title": "",
     "showTitle": false,
     "inputWidgets": null,
     "nuid": "22eac9fc-3dbb-4ea7-9b63-b4fb8d163050"
    }
   }
  },
  {
   "cell_type": "markdown",
   "source": [
    "The method used above makes several requests to the service, one for each prompt. To complete multiple prompts in a single request, use batch mode. \n\nTo do so, create a dataframe with a list of prompts per row.\n\nIn the `OpenAICompletion` object, rather than setting the `prompt` column, set the `batchPrompt` column instead.\n\nIn the call to `transform` a request will then be made per row. Since there are multiple prompts in a single row, each request will be sent with all prompts in that row. The results will contain a row for each row in the request.\n\nNote that as of this writing there is currently a limit of 20 prompts in a single request, as well as a hard limit of 2048 \"tokens\", or approximately 1500 words."
   ],
   "metadata": {
    "application/vnd.databricks.v1+cell": {
     "title": "",
     "showTitle": false,
     "inputWidgets": null,
     "nuid": "14571ff1-5672-4262-9622-a357abde4f01"
    }
   }
  },
  {
   "cell_type": "code",
   "source": [
    "df = spark.createDataFrame(\n",
    "    [\n",
    "        ([\"The time has come\", \"Pleased to\", \"Today stocks\", \"Here's to\"],),\n",
    "        ([\"The only thing\", \"Ask not what\", \"Every litter\", \"I am\"],),\n",
    "    ]\n",
    ").toDF(\"batchPrompt\")\n",
    "\n",
    "batchCompletion = (\n",
    "    OpenAICompletion()\n",
    "    .setSubscriptionKey(key)\n",
    "    .setDeploymentName(deployment_name)\n",
    "    .setUrl(\"https://{}.openai.azure.com/\".format(service_name))\n",
    "    .setMaxTokens(200)\n",
    "    .setBatchPromptCol(\"batchPrompt\")\n",
    "    .setOutputCol(\"completions\")\n",
    ")\n",
    "\n",
    "completed_df = batchCompletion.transform(df).cache()\n",
    "display(completed_df.select(col(\"batchPrompt\"), col(\"completions.choices.text\")))"
   ],
   "metadata": {
    "application/vnd.databricks.v1+cell": {
     "title": "",
     "showTitle": false,
     "inputWidgets": null,
     "nuid": "c3bc2226-8116-4984-b305-8efe96fd0168"
    }
   },
   "outputs": [
    {
     "output_type": "display_data",
     "metadata": {
      "application/vnd.databricks.v1+output": {
       "overflow": false,
       "datasetInfos": [],
       "data": [
        [
         [
          "The time has come",
          "Pleased to",
          "Today stocks",
          "Here's to"
         ],
         [
          "",
          " report that the custom action bar I put together for the app I am working on is now live in the app store!\n\nThe action bar consists of a custom tab bar and toolbar. The tab bar has 5 tabs, each containing a different type of action (e.g. search, add new contact, etc.). The toolbar has a text field and a button. The text field allows the user to enter text to be searched, and the button allows the user to submit the search.\n\nI’ve uploaded a video of the action bar in action, which you can view below.\n\nI hope this video is helpful. If you have any questions, please let me know.",
          " have finally caught up with today's Fed policy\n\nEditor's Note:\n\nThe Federal Reserve announced Wednesday it will continue its bond-buying program to keep interest rates low and support the economy.\n\nThe Dow Jones industrial average jumped 175 points after the Fed's statement.\n\nThe Standard & Poor's 500 index rose 20 points and the Nasdaq composite index gained 47 points.\n\nThe Fed's announcement was expected, but it reassured investors that the central bank will continue to support the economy.\n\n---------------------------------\n\nThe Federal Reserve’s decision to continue its bond-buying program eased concerns among investors and sent stocks higher on Wednesday.\n\nThe Dow Jones industrial average jumped 175 points after the Fed’s statement. The Standard & Poor’s 500 index rose 20 points and the Nasdaq composite index gained 47 points.\n\nThe Fed’s announcement was expected, but it reassured investors that the central bank will continue to support the economy",
          " you\n\nAnd here's to me\n\nAnd here's to love\n\nAnd laughter\n\nAnd happily ever after\n\nCheers!"
         ]
        ],
        [
         [
          "The only thing",
          "Ask not what",
          "Every litter",
          "I am"
         ],
         [
          " that is 'off' about me is that I have a high pain tolerance.\n\nI'm not sure what you mean.",
          " you can do for your country, ask what your country can do for you\n\n- John F. Kennedy",
          " will have a color, pattern, and gender.\n\nLitters can have different colors, patterns, and genders.",
          ""
         ]
        ]
       ],
       "plotOptions": {
        "displayType": "table",
        "customPlotOptions": null,
        "pivotColumns": null,
        "pivotAggregation": null,
        "xColumns": null,
        "yColumns": null
       },
       "columnCustomDisplayInfos": null,
       "aggType": "",
       "isJsonSchema": true,
       "removedWidgets": [],
       "aggSchema": [],
       "schema": [
        {
         "name": "batchPrompt",
         "type": "{\"type\":\"array\",\"elementType\":\"string\",\"containsNull\":true}",
         "metadata": "{}"
        },
        {
         "name": "text",
         "type": "{\"type\":\"array\",\"elementType\":\"string\",\"containsNull\":true}",
         "metadata": "{}"
        }
       ],
       "aggError": "",
       "aggData": [],
       "addedWidgets": null,
       "metadata": null,
       "dbfsResultPath": null,
       "type": "table",
       "aggOverflow": false,
       "aggSeriesLimitReached": false,
       "arguments": null
      }
     },
     "data": {
      "text/html": [
       "<style scoped>\n  .table-result-container {\n    max-height: 300px;\n    overflow: auto;\n  }\n  table, th, td {\n    border: 1px solid black;\n    border-collapse: collapse;\n  }\n  th, td {\n    padding: 5px;\n  }\n  th {\n    text-align: left;\n  }\n</style><div class='table-result-container'><table class='table-result'><thead style='background-color: white'><tr><th>batchPrompt</th><th>text</th></tr></thead><tbody><tr><td>List(The time has come, Pleased to, Today stocks, Here's to)</td><td>List(,  report that the custom action bar I put together for the app I am working on is now live in the app store!\n\nThe action bar consists of a custom tab bar and toolbar. The tab bar has 5 tabs, each containing a different type of action (e.g. search, add new contact, etc.). The toolbar has a text field and a button. The text field allows the user to enter text to be searched, and the button allows the user to submit the search.\n\nI’ve uploaded a video of the action bar in action, which you can view below.\n\nI hope this video is helpful. If you have any questions, please let me know.,  have finally caught up with today's Fed policy\n\nEditor's Note:\n\nThe Federal Reserve announced Wednesday it will continue its bond-buying program to keep interest rates low and support the economy.\n\nThe Dow Jones industrial average jumped 175 points after the Fed's statement.\n\nThe Standard & Poor's 500 index rose 20 points and the Nasdaq composite index gained 47 points.\n\nThe Fed's announcement was expected, but it reassured investors that the central bank will continue to support the economy.\n\n---------------------------------\n\nThe Federal Reserve’s decision to continue its bond-buying program eased concerns among investors and sent stocks higher on Wednesday.\n\nThe Dow Jones industrial average jumped 175 points after the Fed’s statement. The Standard & Poor’s 500 index rose 20 points and the Nasdaq composite index gained 47 points.\n\nThe Fed’s announcement was expected, but it reassured investors that the central bank will continue to support the economy,  you\n\nAnd here's to me\n\nAnd here's to love\n\nAnd laughter\n\nAnd happily ever after\n\nCheers!)</td></tr><tr><td>List(The only thing, Ask not what, Every litter, I am)</td><td>List( that is 'off' about me is that I have a high pain tolerance.\n\nI'm not sure what you mean.,  you can do for your country, ask what your country can do for you\n\n- John F. Kennedy,  will have a color, pattern, and gender.\n\nLitters can have different colors, patterns, and genders., )</td></tr></tbody></table></div>"
      ]
     }
    }
   ],
   "execution_count": 0
  },
  {
   "cell_type": "markdown",
   "source": [
    "If your data is in column format, you can transpose it to row format using SynapseML's `FixedMiniBatcherTransformer`, along with help from Spark's `coalesce` method."
   ],
   "metadata": {
    "application/vnd.databricks.v1+cell": {
     "title": "",
     "showTitle": false,
     "inputWidgets": null,
     "nuid": "b3f1c29a-0625-4d46-bb1a-04d3648b8310"
    }
   }
  },
  {
   "cell_type": "code",
   "source": [
    "from pyspark.sql.types import StringType\n",
    "from synapse.ml.stages import FixedMiniBatchTransformer\n",
    "\n",
    "df = spark.createDataFrame(\n",
    "    [\"This land is\", \"If I had a\", \"How many roads\", \"You can get anything\"],\n",
    "    StringType(),\n",
    ").toDF(\"batchPrompt\")\n",
    "\n",
    "# Force a single partition\n",
    "df = df.coalesce(1)\n",
    "\n",
    "df = FixedMiniBatchTransformer(batchSize=4, buffered=False).transform(df)\n",
    "\n",
    "completed_df = batchCompletion.transform(df).cache()\n",
    "display(completed_df.select(col(\"batchPrompt\"), col(\"completions.choices.text\")))"
   ],
   "metadata": {
    "application/vnd.databricks.v1+cell": {
     "title": "",
     "showTitle": false,
     "inputWidgets": null,
     "nuid": "6ca2bc44-9170-469e-80a8-7057efb0caf4"
    }
   },
   "outputs": [
    {
     "output_type": "display_data",
     "metadata": {
      "application/vnd.databricks.v1+output": {
       "overflow": false,
       "datasetInfos": [],
       "data": [
        [
         [
          "This land is",
          "If I had a",
          "How many roads",
          "You can get anything"
         ],
         [
          " your land\n\nThis land is my land\n\nFrom California to the New York island\n\nFrom the Redwood Forest to the Gulf Stream waters\n\nThis land was made for you and me",
          " nickel for every time someone has said that to me\n\nI would be a rich woman.",
          "",
          ""
         ]
        ]
       ],
       "plotOptions": {
        "displayType": "table",
        "customPlotOptions": null,
        "pivotColumns": null,
        "pivotAggregation": null,
        "xColumns": null,
        "yColumns": null
       },
       "columnCustomDisplayInfos": null,
       "aggType": "",
       "isJsonSchema": true,
       "removedWidgets": [],
       "aggSchema": [],
       "schema": [
        {
         "name": "batchPrompt",
         "type": "{\"type\":\"array\",\"elementType\":\"string\",\"containsNull\":true}",
         "metadata": "{}"
        },
        {
         "name": "text",
         "type": "{\"type\":\"array\",\"elementType\":\"string\",\"containsNull\":true}",
         "metadata": "{}"
        }
       ],
       "aggError": "",
       "aggData": [],
       "addedWidgets": null,
       "metadata": null,
       "dbfsResultPath": null,
       "type": "table",
       "aggOverflow": false,
       "aggSeriesLimitReached": false,
       "arguments": null
      }
     },
     "data": {
      "text/html": [
       "<style scoped>\n  .table-result-container {\n    max-height: 300px;\n    overflow: auto;\n  }\n  table, th, td {\n    border: 1px solid black;\n    border-collapse: collapse;\n  }\n  th, td {\n    padding: 5px;\n  }\n  th {\n    text-align: left;\n  }\n</style><div class='table-result-container'><table class='table-result'><thead style='background-color: white'><tr><th>batchPrompt</th><th>text</th></tr></thead><tbody><tr><td>List(This land is, If I had a, How many roads, You can get anything)</td><td>List( your land\n\nThis land is my land\n\nFrom California to the New York island\n\nFrom the Redwood Forest to the Gulf Stream waters\n\nThis land was made for you and me,  nickel for every time someone has said that to me\n\nI would be a rich woman., , )</td></tr></tbody></table></div>"
      ]
     }
    }
   ],
   "execution_count": 0
  },
  {
   "cell_type": "markdown",
   "source": [
    "You can try your hand at translation."
   ],
   "metadata": {
    "application/vnd.databricks.v1+cell": {
     "title": "",
     "showTitle": false,
     "inputWidgets": null,
     "nuid": "858193bb-4247-4733-bdd1-42310e36aff6"
    }
   }
  },
  {
   "cell_type": "code",
   "source": [
    "df = spark.createDataFrame(\n",
    "    [\n",
    "        (\"Japanese: Ookina hako\\nEnglish: Big box\\nJapanese: Midori tako\\nEnglish:\",),\n",
    "        (\n",
    "            \"French: Quel heure et il au Montreal?\\nEnglish: What time is it in Montreal?\\nFrench: Ou est le poulet?\\nEnglish:\",\n",
    "        ),\n",
    "    ]\n",
    ").toDF(\"prompt\")\n",
    "\n",
    "completed_df = completion.transform(df).cache()\n",
    "display(completed_df.select(col(\"prompt\"), col(\"completions.choices.text\")))"
   ],
   "metadata": {
    "application/vnd.databricks.v1+cell": {
     "title": "",
     "showTitle": false,
     "inputWidgets": null,
     "nuid": "45b98dc1-d955-491d-a583-96675682cf8d"
    }
   },
   "outputs": [
    {
     "output_type": "display_data",
     "metadata": {
      "application/vnd.databricks.v1+output": {
       "overflow": false,
       "datasetInfos": [],
       "data": [
        [
         "Japanese: Ookina hako\nEnglish: Big box\nJapanese: Midori tako\nEnglish:",
         [
          " Green octopus\n"
         ]
        ],
        [
         "French: Quel heure et il au Montreal?\nEnglish: What time is it in Montreal?\nFrench:Ou est le poulet?\nEnglish:",
         [
          " Where is the chicken?"
         ]
        ]
       ],
       "plotOptions": {
        "displayType": "table",
        "customPlotOptions": null,
        "pivotColumns": null,
        "pivotAggregation": null,
        "xColumns": null,
        "yColumns": null
       },
       "columnCustomDisplayInfos": null,
       "aggType": "",
       "isJsonSchema": true,
       "removedWidgets": [],
       "aggSchema": [],
       "schema": [
        {
         "name": "prompt",
         "type": "\"string\"",
         "metadata": "{}"
        },
        {
         "name": "text",
         "type": "{\"type\":\"array\",\"elementType\":\"string\",\"containsNull\":true}",
         "metadata": "{}"
        }
       ],
       "aggError": "",
       "aggData": [],
       "addedWidgets": null,
       "metadata": null,
       "dbfsResultPath": null,
       "type": "table",
       "aggOverflow": false,
       "aggSeriesLimitReached": false,
       "arguments": null
      }
     },
     "data": {
      "text/html": [
       "<style scoped>\n  .table-result-container {\n    max-height: 300px;\n    overflow: auto;\n  }\n  table, th, td {\n    border: 1px solid black;\n    border-collapse: collapse;\n  }\n  th, td {\n    padding: 5px;\n  }\n  th {\n    text-align: left;\n  }\n</style><div class='table-result-container'><table class='table-result'><thead style='background-color: white'><tr><th>prompt</th><th>text</th></tr></thead><tbody><tr><td>Japanese: Ookina hako\nEnglish: Big box\nJapanese: Midori tako\nEnglish:</td><td>List( Green octopus\n)</td></tr><tr><td>French: Quel heure et il au Montreal?\nEnglish: What time is it in Montreal?\nFrench:Ou est le poulet?\nEnglish:</td><td>List( Where is the chicken?)</td></tr></tbody></table></div>"
      ]
     }
    }
   ],
   "execution_count": 0
  },
  {
   "cell_type": "markdown",
   "source": [
    "You can prompt for general knowledge."
   ],
   "metadata": {
    "application/vnd.databricks.v1+cell": {
     "title": "",
     "showTitle": false,
     "inputWidgets": null,
     "nuid": "3e8d62df-160f-449a-bcc8-f68c198e1172"
    }
   }
  },
  {
   "cell_type": "code",
   "source": [
    "df = spark.createDataFrame(\n",
    "    [\n",
    "        (\n",
    "            \"Q: Where is the Grand Canyon?\\nA: The Grand Canyon is in Arizona.\\n\\nQ: What is the weight of the Burj Khalifa in kilograms?\\nA:\",\n",
    "        )\n",
    "    ]\n",
    ").toDF(\"prompt\")\n",
    "\n",
    "completed_df = completion.transform(df).cache()\n",
    "display(completed_df.select(col(\"prompt\"), col(\"completions.choices.text\")))"
   ],
   "metadata": {
    "application/vnd.databricks.v1+cell": {
     "title": "",
     "showTitle": false,
     "inputWidgets": null,
     "nuid": "2d39ccf1-f820-4789-b616-ca0ff5a406e8"
    }
   },
   "outputs": [
    {
     "output_type": "display_data",
     "metadata": {
      "application/vnd.databricks.v1+output": {
       "overflow": false,
       "datasetInfos": [],
       "data": [
        [
         "Q: Where is the Grand Canyon?\nA: The Grand Canyon is in Arizona.\n\nQ: What is the weight of the Burj Khalifa in kilograms?\nA:",
         [
          " The weight of the Burj Khalifa is estimated at around 330,000 kilograms."
         ]
        ]
       ],
       "plotOptions": {
        "displayType": "table",
        "customPlotOptions": null,
        "pivotColumns": null,
        "pivotAggregation": null,
        "xColumns": null,
        "yColumns": null
       },
       "columnCustomDisplayInfos": null,
       "aggType": "",
       "isJsonSchema": true,
       "removedWidgets": [],
       "aggSchema": [],
       "schema": [
        {
         "name": "prompt",
         "type": "\"string\"",
         "metadata": "{}"
        },
        {
         "name": "text",
         "type": "{\"type\":\"array\",\"elementType\":\"string\",\"containsNull\":true}",
         "metadata": "{}"
        }
       ],
       "aggError": "",
       "aggData": [],
       "addedWidgets": null,
       "metadata": null,
       "dbfsResultPath": null,
       "type": "table",
       "aggOverflow": false,
       "aggSeriesLimitReached": false,
       "arguments": null
      }
     },
     "data": {
      "text/html": [
       "<style scoped>\n  .table-result-container {\n    max-height: 300px;\n    overflow: auto;\n  }\n  table, th, td {\n    border: 1px solid black;\n    border-collapse: collapse;\n  }\n  th, td {\n    padding: 5px;\n  }\n  th {\n    text-align: left;\n  }\n</style><div class='table-result-container'><table class='table-result'><thead style='background-color: white'><tr><th>prompt</th><th>text</th></tr></thead><tbody><tr><td>Q: Where is the Grand Canyon?\nA: The Grand Canyon is in Arizona.\n\nQ: What is the weight of the Burj Khalifa in kilograms?\nA:</td><td>List( The weight of the Burj Khalifa is estimated at around 330,000 kilograms.)</td></tr></tbody></table></div>"
      ]
     }
    }
   ],
   "execution_count": 0
  },
  {
   "cell_type": "code",
   "source": [
    ""
   ],
   "metadata": {
    "application/vnd.databricks.v1+cell": {
     "title": "",
     "showTitle": false,
     "inputWidgets": null,
     "nuid": "1a130de7-adc7-4b71-bf0a-f72db40f1d8b"
    }
   },
   "outputs": [],
   "execution_count": 0
  }
 ],
 "metadata": {
  "application/vnd.databricks.v1+notebook": {
   "notebookName": "Cognitive Services - OpenAI",
   "dashboards": [],
   "notebookMetadata": {
    "pythonIndentUnit": 4
   },
   "language": "python",
   "widgets": null,
   "notebookOrigID": 4062197193288104.0
  }
 },
 "nbformat": 4,
 "nbformat_minor": 0
}
