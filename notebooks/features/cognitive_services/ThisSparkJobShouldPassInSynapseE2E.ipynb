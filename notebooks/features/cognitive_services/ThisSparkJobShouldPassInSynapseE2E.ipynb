{
 "cells": [
  {
   "cell_type": "code",
   "execution_count": null,
   "metadata": {},
   "outputs": [],
   "source": [
    "from pyspark.sql.functions import udf, col\n",
    "from synapse.ml.io.http import HTTPTransformer, http_udf\n",
    "from requests import Request\n",
    "from pyspark.sql.functions import lit\n",
    "from pyspark.ml import PipelineModel\n",
    "from pyspark.sql.functions import col\n",
    "import os"
   ]
  },
  {
   "cell_type": "code",
   "execution_count": null,
   "metadata": {},
   "outputs": [],
   "source": [
    "from pyspark.sql import SparkSession\n",
    "from synapse.ml.core.platform import running_on_synapse, find_secret\n",
    "\n",
    "# Bootstrap Spark Session\n",
    "spark = SparkSession.builder.getOrCreate()\n",
    "\n",
    "if running_on_synapse:\n",
    "    from synapse.ml.core.platform import display_for_synapse_batch_mode as display"
   ]
  },
  {
   "cell_type": "code",
   "execution_count": null,
   "metadata": {},
   "outputs": [],
   "source": [
    "from synapse.ml.cognitive import *\n",
    "\n",
    "# A general Cognitive Services key for Text Analytics, Computer Vision and Form Recognizer (or use separate keys that belong to each service)\n",
    "service_key = find_secret(\"cognitive-api-key\")\n",
    "service_loc = \"eastus\"\n",
    "\n",
    "# A Bing Search v7 subscription key\n",
    "bing_search_key = find_secret(\"bing-search-key\")\n",
    "\n",
    "# An Anomaly Dectector subscription key\n",
    "anomaly_key = find_secret(\"anomaly-api-key\")\n",
    "anomaly_loc = \"westus2\"\n",
    "\n",
    "# A Translator subscription key\n",
    "translator_key = find_secret(\"translator-key\")\n",
    "translator_loc = \"eastus\"\n",
    "\n",
    "# An Azure search key\n",
    "search_key = find_secret(\"azure-search-key\")"
   ]
  },
  {
   "cell_type": "markdown",
   "metadata": {},
   "source": [
    "## Text-to-Speech sample\n",
    "[Text to speech](https://azure.microsoft.com/en-us/services/cognitive-services/text-to-speech/#overview) is a service that allows one to build apps and services that speak naturally, choosing from more than 270 neural voices across 119 languages and variants."
   ]
  },
  {
   "cell_type": "code",
   "execution_count": null,
   "metadata": {},
   "outputs": [],
   "source": [
    "from synapse.ml.cognitive import TextToSpeech\n",
    "\n",
    "# Create a dataframe with text and an output file location\n",
    "df = spark.createDataFrame(\n",
    "    [\n",
    "        (\n",
    "            \"Reading out lod is fun! Check out aka.ms/spark for more information\",\n",
    "            \"invalidfs:/output.mp3\",\n",
    "        )\n",
    "    ],\n",
    "    [\"text\", \"output_file\"],\n",
    ")\n",
    "\n",
    "tts = (\n",
    "    TextToSpeech()\n",
    "    .setSubscriptionKey(service_key)\n",
    "    .setTextCol(\"text\")\n",
    "    .setLocation(service_loc)\n",
    "    .setVoiceName(\"en-US-JennyNeural\")\n",
    "    .setOutputFileCol(\"output_file\")\n",
    ")\n",
    "\n",
    "# Check to make sure there were no errors during audio creation\n",
    "display(tts.transform(df))"
   ]
  }
 ],
 "metadata": {
  "application/vnd.databricks.v1+notebook": {
   "dashboards": [],
   "language": "python",
   "notebookMetadata": {
    "pythonIndentUnit": 2
   },
   "notebookName": "CognitiveServices - Overview.ipynb",
   "notebookOrigID": 3559341777151035,
   "widgets": {}
  },
  "kernelspec": {
   "display_name": "Python 3.10.7 64-bit (microsoft store)",
   "language": "python",
   "name": "python3"
  },
  "language_info": {
   "codemirror_mode": {
    "name": "ipython",
    "version": 3
   },
   "file_extension": ".py",
   "mimetype": "text/x-python",
   "name": "python",
   "nbconvert_exporter": "python",
   "pygments_lexer": "ipython3",
   "version": "3.10.7"
  },
  "vscode": {
   "interpreter": {
    "hash": "60634d6c2faf7fee829b94ccc42e59aa9a4407446da17754cce58e2b89f66a26"
   }
  }
 },
 "nbformat": 4,
 "nbformat_minor": 0
}
