{
 "cells": [
  {
   "attachments": {},
   "cell_type": "markdown",
   "metadata": {
    "nteract": {
     "transient": {
      "deleting": false
     }
    }
   },
   "source": [
    "# A 5-minute tour of SynapseML"
   ]
  },
  {
   "cell_type": "code",
   "execution_count": null,
   "metadata": {
    "jupyter": {
     "outputs_hidden": false,
     "source_hidden": false
    },
    "nteract": {
     "transient": {
      "deleting": false
     }
    }
   },
   "outputs": [],
   "source": [
    "from pyspark.sql import SparkSession\n",
    "from synapse.ml.core.platform import *\n",
    "\n",
    "spark = SparkSession.builder.getOrCreate()\n",
    "\n",
    "from synapse.ml.core.platform import materializing_display as display"
   ]
  },
  {
   "cell_type": "markdown",
   "metadata": {
    "nteract": {
     "transient": {
      "deleting": false
     }
    }
   },
   "source": [
    "# Step 1: Load our Dataset"
   ]
  },
  {
   "cell_type": "code",
   "execution_count": null,
   "metadata": {
    "application/vnd.databricks.v1+cell": {
     "inputWidgets": {},
     "nuid": "396e4834-0140-418b-8867-4a0e20c547d6",
     "showTitle": false,
     "title": ""
    }
   },
   "outputs": [],
   "source": [
    "train, test = (\n",
    "    spark.read.parquet(\n",
    "        \"wasbs://publicwasb@mmlspark.blob.core.windows.net/BookReviewsFromAmazon10K.parquet\"\n",
    "    )\n",
    "    .limit(1000)\n",
    "    .cache()\n",
    "    .randomSplit([0.8, 0.2])\n",
    ")\n",
    "\n",
    "display(train)"
   ]
  },
  {
   "cell_type": "markdown",
   "metadata": {
    "application/vnd.databricks.v1+cell": {
     "inputWidgets": {},
     "nuid": "51b3c66a-3582-429a-a969-c2fb66e77c49",
     "showTitle": false,
     "title": ""
    }
   },
   "source": [
    "# Step 2: Make our Model"
   ]
  },
  {
   "cell_type": "code",
   "execution_count": null,
   "metadata": {
    "application/vnd.databricks.v1+cell": {
     "inputWidgets": {},
     "nuid": "df76cfec-a945-469c-a9df-47e9144e37eb",
     "showTitle": false,
     "title": ""
    }
   },
   "outputs": [],
   "source": [
    "from pyspark.ml import Pipeline\n",
    "from synapse.ml.featurize.text import TextFeaturizer\n",
    "from synapse.ml.lightgbm import LightGBMRegressor\n",
    "\n",
    "model = Pipeline(\n",
    "    stages=[\n",
    "        TextFeaturizer(inputCol=\"text\", outputCol=\"features\"),\n",
    "        LightGBMRegressor(featuresCol=\"features\", labelCol=\"rating\"),\n",
    "    ]\n",
    ").fit(train)"
   ]
  },
  {
   "cell_type": "markdown",
   "metadata": {
    "application/vnd.databricks.v1+cell": {
     "inputWidgets": {},
     "nuid": "e0d23e7d-14c7-4a38-9983-fac290e97def",
     "showTitle": false,
     "title": ""
    }
   },
   "source": [
    "# Step 3: Predict!"
   ]
  },
  {
   "cell_type": "code",
   "execution_count": null,
   "metadata": {
    "application/vnd.databricks.v1+cell": {
     "inputWidgets": {},
     "nuid": "70845164-e6df-4948-aa68-d8f4c5537eaa",
     "showTitle": false,
     "title": ""
    }
   },
   "outputs": [],
   "source": [
    "display(model.transform(test))"
   ]
  },
  {
   "cell_type": "markdown",
   "metadata": {
    "application/vnd.databricks.v1+cell": {
     "inputWidgets": {},
     "nuid": "cbc5ddec-2984-4fea-b164-d1127f46f919",
     "showTitle": false,
     "title": ""
    }
   },
   "source": [
    "# Alternate route: Let the Cognitive Services handle it"
   ]
  },
  {
   "cell_type": "code",
   "execution_count": null,
   "metadata": {
    "application/vnd.databricks.v1+cell": {
     "inputWidgets": {},
     "nuid": "f22b1c1a-b0c9-43e9-bcb0-b29624b4a76a",
     "showTitle": false,
     "title": ""
    },
    "pycharm": {
     "name": "#%%\n"
    }
   },
   "outputs": [],
   "source": [
    "from synapse.ml.cognitive import TextSentiment\n",
    "from synapse.ml.core.platform import find_secret\n",
    "\n",
    "model = TextSentiment(\n",
    "    textCol=\"text\",\n",
    "    outputCol=\"sentiment\",\n",
    "    subscriptionKey=find_secret(\"cognitive-api-key\"),\n",
    ").setLocation(\"eastus\")\n",
    "\n",
    "display(model.transform(test))"
   ]
  }
 ],
 "metadata": {
  "description": null,
  "kernelspec": {
   "display_name": "Synapse PySpark",
   "name": "synapse_pyspark"
  },
  "language_info": {
   "name": "python"
  },
  "save_output": true,
  "synapse_widget": {
   "state": {},
   "version": "0.1"
  }
 },
 "nbformat": 4,
 "nbformat_minor": 2
}
