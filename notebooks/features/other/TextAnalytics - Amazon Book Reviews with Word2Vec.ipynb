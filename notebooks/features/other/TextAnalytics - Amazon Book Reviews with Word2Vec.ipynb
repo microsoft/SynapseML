{
 "cells": [
  {
   "cell_type": "markdown",
   "source": [
    "## TextAnalytics - Amazon Book Reviews with Word2Vec\n",
    "\n",
    "Yet again, now using the `Word2Vec` Estimator from Spark.  We can use the tree-based\n",
    "learners from spark in this scenario due to the lower dimensionality representation of\n",
    "features."
   ],
   "metadata": {}
  },
  {
   "cell_type": "code",
   "execution_count": null,
   "source": [
    "import os\n",
    "\n",
    "if os.environ.get(\"AZURE_SERVICE\", None) == \"Microsoft.ProjectArcadia\":\n",
    "    from pyspark.sql import SparkSession\n",
    "\n",
    "    spark = SparkSession.builder.getOrCreate()"
   ],
   "outputs": [],
   "metadata": {}
  },
  {
   "cell_type": "code",
   "execution_count": null,
   "source": [
    "import pandas as pd"
   ],
   "outputs": [],
   "metadata": {}
  },
  {
   "cell_type": "code",
   "execution_count": null,
   "source": [
    "data = spark.read.parquet(\n",
    "    \"wasbs://publicwasb@mmlspark.blob.core.windows.net/BookReviewsFromAmazon10K.parquet\"\n",
    ")\n",
    "data.limit(10).toPandas()"
   ],
   "outputs": [],
   "metadata": {}
  },
  {
   "cell_type": "markdown",
   "source": [
    "Modify the label column to predict a rating greater than 3."
   ],
   "metadata": {}
  },
  {
   "cell_type": "code",
   "execution_count": null,
   "source": [
    "processedData = data.withColumn(\"label\", data[\"rating\"] > 3).select([\"text\", \"label\"])\n",
    "processedData.limit(5).toPandas()"
   ],
   "outputs": [],
   "metadata": {}
  },
  {
   "cell_type": "markdown",
   "source": [
    "Split the dataset into train, test and validation sets."
   ],
   "metadata": {}
  },
  {
   "cell_type": "code",
   "execution_count": null,
   "source": [
    "train, test, validation = processedData.randomSplit([0.60, 0.20, 0.20])"
   ],
   "outputs": [],
   "metadata": {}
  },
  {
   "cell_type": "markdown",
   "source": [
    "Use `Tokenizer` and `Word2Vec` to generate the features."
   ],
   "metadata": {}
  },
  {
   "cell_type": "code",
   "execution_count": null,
   "source": [
    "from pyspark.ml import Pipeline\n",
    "from pyspark.ml.feature import Tokenizer, Word2Vec\n",
    "\n",
    "tokenizer = Tokenizer(inputCol=\"text\", outputCol=\"words\")\n",
    "partitions = train.rdd.getNumPartitions()\n",
    "word2vec = Word2Vec(\n",
    "    maxIter=4, seed=42, inputCol=\"words\", outputCol=\"features\", numPartitions=partitions\n",
    ")\n",
    "textFeaturizer = Pipeline(stages=[tokenizer, word2vec]).fit(train)"
   ],
   "outputs": [],
   "metadata": {}
  },
  {
   "cell_type": "markdown",
   "source": [
    "Transform each of the train, test and validation datasets."
   ],
   "metadata": {}
  },
  {
   "cell_type": "code",
   "execution_count": null,
   "source": [
    "ptrain = textFeaturizer.transform(train).select([\"label\", \"features\"])\n",
    "ptest = textFeaturizer.transform(test).select([\"label\", \"features\"])\n",
    "pvalidation = textFeaturizer.transform(validation).select([\"label\", \"features\"])\n",
    "ptrain.limit(5).toPandas()"
   ],
   "outputs": [],
   "metadata": {}
  },
  {
   "cell_type": "markdown",
   "source": [
    "Generate several models with different parameters from the training data."
   ],
   "metadata": {}
  },
  {
   "cell_type": "code",
   "execution_count": null,
   "source": [
    "from pyspark.ml.classification import (\n",
    "    LogisticRegression,\n",
    "    RandomForestClassifier,\n",
    "    GBTClassifier,\n",
    ")\n",
    "from synapse.ml.train import TrainClassifier\n",
    "import itertools\n",
    "\n",
    "lrHyperParams = [0.05, 0.2]\n",
    "logisticRegressions = [\n",
    "    LogisticRegression(regParam=hyperParam) for hyperParam in lrHyperParams\n",
    "]\n",
    "lrmodels = [\n",
    "    TrainClassifier(model=lrm, labelCol=\"label\").fit(ptrain)\n",
    "    for lrm in logisticRegressions\n",
    "]\n",
    "\n",
    "rfHyperParams = itertools.product([5, 10], [2, 3])\n",
    "randomForests = [\n",
    "    RandomForestClassifier(numTrees=hyperParam[0], maxDepth=hyperParam[1])\n",
    "    for hyperParam in rfHyperParams\n",
    "]\n",
    "rfmodels = [\n",
    "    TrainClassifier(model=rfm, labelCol=\"label\").fit(ptrain) for rfm in randomForests\n",
    "]\n",
    "\n",
    "gbtHyperParams = itertools.product([8, 16], [2, 3])\n",
    "gbtclassifiers = [\n",
    "    GBTClassifier(maxBins=hyperParam[0], maxDepth=hyperParam[1])\n",
    "    for hyperParam in gbtHyperParams\n",
    "]\n",
    "gbtmodels = [\n",
    "    TrainClassifier(model=gbt, labelCol=\"label\").fit(ptrain) for gbt in gbtclassifiers\n",
    "]\n",
    "\n",
    "trainedModels = lrmodels + rfmodels + gbtmodels"
   ],
   "outputs": [],
   "metadata": {}
  },
  {
   "cell_type": "markdown",
   "source": [
    "Find the best model for the given test dataset."
   ],
   "metadata": {}
  },
  {
   "cell_type": "code",
   "execution_count": null,
   "source": [
    "from synapse.ml.automl import FindBestModel\n",
    "\n",
    "bestModel = FindBestModel(evaluationMetric=\"AUC\", models=trainedModels).fit(ptest)\n",
    "bestModel.getRocCurve().show()\n",
    "bestModel.getBestModelMetrics().show()\n",
    "bestModel.getAllModelMetrics().show()"
   ],
   "outputs": [],
   "metadata": {}
  },
  {
   "cell_type": "markdown",
   "source": [
    "Get the accuracy from the validation dataset."
   ],
   "metadata": {}
  },
  {
   "cell_type": "code",
   "execution_count": null,
   "source": [
    "from synapse.ml.train import ComputeModelStatistics\n",
    "\n",
    "predictions = bestModel.transform(pvalidation)\n",
    "metrics = ComputeModelStatistics().transform(predictions)\n",
    "print(\n",
    "    \"Best model's accuracy on validation set = \"\n",
    "    + \"{0:.2f}%\".format(metrics.first()[\"accuracy\"] * 100)\n",
    ")\n",
    "print(\n",
    "    \"Best model's AUC on validation set = \"\n",
    "    + \"{0:.2f}%\".format(metrics.first()[\"AUC\"] * 100)\n",
    ")"
   ],
   "outputs": [],
   "metadata": {}
  }
 ],
 "metadata": {
  "anaconda-cloud": {},
  "kernelspec": {
   "display_name": "Python [default]",
   "language": "python",
   "name": "python3"
  },
  "language_info": {
   "codemirror_mode": {
    "name": "ipython",
    "version": 3
   },
   "file_extension": ".py",
   "mimetype": "text/x-python",
   "name": "python",
   "nbconvert_exporter": "python",
   "pygments_lexer": "ipython3",
   "version": "3.6.3"
  }
 },
 "nbformat": 4,
 "nbformat_minor": 2
}
