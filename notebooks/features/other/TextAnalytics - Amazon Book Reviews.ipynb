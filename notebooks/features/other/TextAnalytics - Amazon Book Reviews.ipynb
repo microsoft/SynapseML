{
 "cells": [
  {
   "cell_type": "markdown",
   "source": [
    "## TextAnalytics - Amazon Book Reviews\n",
    "\n",
    "Again, try to predict Amazon book ratings greater than 3 out of 5, this time using\n",
    "the `TextFeaturizer` module which is a composition of several text analytics APIs that\n",
    "are native to Spark."
   ],
   "metadata": {}
  },
  {
   "cell_type": "code",
   "execution_count": null,
   "source": [
    "import os\n",
    "\n",
    "if os.environ.get(\"AZURE_SERVICE\", None) == \"Microsoft.ProjectArcadia\":\n",
    "    from pyspark.sql import SparkSession\n",
    "\n",
    "    spark = SparkSession.builder.getOrCreate()"
   ],
   "outputs": [],
   "metadata": {}
  },
  {
   "cell_type": "code",
   "execution_count": null,
   "source": [
    "import pandas as pd"
   ],
   "outputs": [],
   "metadata": {}
  },
  {
   "cell_type": "code",
   "execution_count": null,
   "source": [
    "data = spark.read.parquet(\n",
    "    \"wasbs://publicwasb@mmlspark.blob.core.windows.net/BookReviewsFromAmazon10K.parquet\"\n",
    ")\n",
    "data.limit(10).toPandas()"
   ],
   "outputs": [],
   "metadata": {}
  },
  {
   "cell_type": "markdown",
   "source": [
    "Use `TextFeaturizer` to generate our features column.  We remove stop words, and use TF-IDF\n",
    "to generate 2²⁰ sparse features."
   ],
   "metadata": {}
  },
  {
   "cell_type": "code",
   "execution_count": null,
   "source": [
    "from synapse.ml.featurize.text import TextFeaturizer\n",
    "\n",
    "textFeaturizer = (\n",
    "    TextFeaturizer()\n",
    "    .setInputCol(\"text\")\n",
    "    .setOutputCol(\"features\")\n",
    "    .setUseStopWordsRemover(True)\n",
    "    .setUseIDF(True)\n",
    "    .setMinDocFreq(5)\n",
    "    .setNumFeatures(1 << 16)\n",
    "    .fit(data)\n",
    ")"
   ],
   "outputs": [],
   "metadata": {}
  },
  {
   "cell_type": "code",
   "execution_count": null,
   "source": [
    "processedData = textFeaturizer.transform(data)\n",
    "processedData.limit(5).toPandas()"
   ],
   "outputs": [],
   "metadata": {}
  },
  {
   "cell_type": "markdown",
   "source": [
    "Change the label so that we can predict whether the rating is greater than 3 using a binary\n",
    "classifier."
   ],
   "metadata": {}
  },
  {
   "cell_type": "code",
   "execution_count": null,
   "source": [
    "processedData = processedData.withColumn(\"label\", processedData[\"rating\"] > 3).select(\n",
    "    [\"features\", \"label\"]\n",
    ")\n",
    "processedData.limit(5).toPandas()"
   ],
   "outputs": [],
   "metadata": {}
  },
  {
   "cell_type": "markdown",
   "source": [
    "Train several Logistic Regression models with different regularizations."
   ],
   "metadata": {}
  },
  {
   "cell_type": "code",
   "execution_count": null,
   "source": [
    "train, test, validation = processedData.randomSplit([0.60, 0.20, 0.20])\n",
    "from pyspark.ml.classification import LogisticRegression\n",
    "\n",
    "lrHyperParams = [0.05, 0.1, 0.2, 0.4]\n",
    "logisticRegressions = [\n",
    "    LogisticRegression(regParam=hyperParam) for hyperParam in lrHyperParams\n",
    "]\n",
    "\n",
    "from synapse.ml.train import TrainClassifier\n",
    "\n",
    "lrmodels = [\n",
    "    TrainClassifier(model=lrm, labelCol=\"label\").fit(train)\n",
    "    for lrm in logisticRegressions\n",
    "]"
   ],
   "outputs": [],
   "metadata": {}
  },
  {
   "cell_type": "markdown",
   "source": [
    "Find the model with the best AUC on the test set."
   ],
   "metadata": {}
  },
  {
   "cell_type": "code",
   "execution_count": null,
   "source": [
    "from synapse.ml.automl import FindBestModel, BestModel\n",
    "\n",
    "bestModel = FindBestModel(evaluationMetric=\"AUC\", models=lrmodels).fit(test)\n",
    "bestModel.getRocCurve().show()\n",
    "bestModel.getBestModelMetrics().show()\n",
    "bestModel.getAllModelMetrics().show()"
   ],
   "outputs": [],
   "metadata": {}
  },
  {
   "cell_type": "markdown",
   "source": [
    "Use the optimized `ComputeModelStatistics` API to find the model accuracy."
   ],
   "metadata": {}
  },
  {
   "cell_type": "code",
   "execution_count": null,
   "source": [
    "from synapse.ml.train import ComputeModelStatistics\n",
    "\n",
    "predictions = bestModel.transform(validation)\n",
    "metrics = ComputeModelStatistics().transform(predictions)\n",
    "print(\n",
    "    \"Best model's accuracy on validation set = \"\n",
    "    + \"{0:.2f}%\".format(metrics.first()[\"accuracy\"] * 100)\n",
    ")"
   ],
   "outputs": [],
   "metadata": {}
  }
 ],
 "metadata": {
  "anaconda-cloud": {},
  "kernelspec": {
   "display_name": "Python [default]",
   "language": "python",
   "name": "python3"
  },
  "language_info": {
   "codemirror_mode": {
    "name": "ipython",
    "version": 3
   },
   "file_extension": ".py",
   "mimetype": "text/x-python",
   "name": "python",
   "nbconvert_exporter": "python",
   "pygments_lexer": "ipython3",
   "version": "3.6.3"
  }
 },
 "nbformat": 4,
 "nbformat_minor": 2
}