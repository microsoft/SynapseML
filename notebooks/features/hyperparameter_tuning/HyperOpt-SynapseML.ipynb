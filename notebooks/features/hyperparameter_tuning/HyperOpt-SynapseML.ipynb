{
 "cells": [
  {
   "cell_type": "markdown",
   "metadata": {
    "application/vnd.databricks.v1+cell": {
     "inputWidgets": {},
     "nuid": "6400056b-278f-43b7-970a-cf537c28372d",
     "showTitle": false,
     "title": ""
    }
   },
   "source": [
    "# Hyperparameter tuning: SynapseML with Hyperopt\n",
    "\n",
    "[SynapseML](https://github.com/microsoft/SynapseML) is an open-source library that simplifies the creation of massively scalable machine learning (ML) pipelines. SynapseML provides simple, composable, and distributed APIs for a wide variety of different machine learning tasks such as text analytics, vision, anomaly detection, and many others.\n",
    "\n",
    "[Hyperopt](https://github.com/hyperopt/hyperopt), on the other hand, is a Python library for serial and parallel optimization over complex search spaces, including real-valued, discrete, and conditional dimensions.\n",
    "\n",
    "This guide showcases the process of tuning a distributed algorithm in Spark with SynapseML and Hyperopt.\n",
    "\n",
    "The use case of this guide is for distributed machine learning in Python that requires hyperparameter tuning. It provides a demo on how to tune hyperparameters for a machine learning workflow in SynapseML and can be used as a reference to tune other distributed machine learning algorithms from Spark MLlib or other libraries.\n",
    "\n",
    "The guide includes two sections:\n",
    "* Running distributed training with SynapseML without hyperparameter tuning.\n",
    "* Using Hyperopt to tune hyperparameters in the distributed training workflow.\n",
    "\n",
    "## Requirements\n",
    " - Install HyperOpt"
   ]
  },
  {
   "cell_type": "code",
   "execution_count": null,
   "metadata": {
    "cellStatus": "{\"Serena Ruan\":{\"queued_time\":\"2023-02-06T07:06:41.004541Z\",\"session_start_time\":null,\"execution_start_time\":\"2023-02-06T07:07:04.1361296Z\",\"execution_finish_time\":\"2023-02-06T07:07:15.1796372Z\",\"state\":\"finished\",\"livy_statement_state\":\"available\"}}",
    "jupyter": {
     "outputs_hidden": false,
     "source_hidden": false
    },
    "nteract": {
     "transient": {
      "deleting": false
     }
    }
   },
   "outputs": [],
   "source": [
    "%pip install hyperopt"
   ]
  },
  {
   "cell_type": "markdown",
   "metadata": {
    "application/vnd.databricks.v1+cell": {
     "inputWidgets": {},
     "nuid": "e6898714-bd0b-4855-a208-619a610c5ae3",
     "showTitle": false,
     "title": ""
    }
   },
   "source": [
    "## MLflow autologging\n",
    "\n",
    "To track model training and tuning with MLflow, you could enable MLflow autologging by running `mlflow.pyspark.ml.autolog()`."
   ]
  },
  {
   "cell_type": "code",
   "execution_count": null,
   "metadata": {
    "cellStatus": "{\"Serena Ruan\":{\"queued_time\":\"2023-02-06T07:06:41.0061213Z\",\"session_start_time\":null,\"execution_start_time\":\"2023-02-06T07:07:20.4616288Z\",\"execution_finish_time\":\"2023-02-06T07:07:31.4180057Z\",\"state\":\"finished\",\"livy_statement_state\":\"available\"}}",
    "jupyter": {
     "outputs_hidden": false,
     "source_hidden": false
    },
    "nteract": {
     "transient": {
      "deleting": false
     }
    }
   },
   "outputs": [],
   "source": [
    "# version >= 1.28.0 supports reading logModelAllowlistFile from url\n",
    "%pip install mlflow==1.29.0"
   ]
  },
  {
   "cell_type": "code",
   "execution_count": null,
   "metadata": {
    "application/vnd.databricks.v1+cell": {
     "inputWidgets": {},
     "nuid": "d68c4902-4600-45cf-962c-f114f8febf02",
     "showTitle": false,
     "title": ""
    },
    "cellStatus": "{\"Serena Ruan\":{\"queued_time\":\"2023-02-06T07:06:44.977308Z\",\"session_start_time\":null,\"execution_start_time\":\"2023-02-06T07:07:33.7318559Z\",\"execution_finish_time\":\"2023-02-06T07:07:46.8626642Z\",\"state\":\"finished\",\"livy_statement_state\":\"available\"}}"
   },
   "outputs": [],
   "source": [
    "import mlflow\n",
    "\n",
    "mlflow.__version__"
   ]
  },
  {
   "cell_type": "code",
   "execution_count": null,
   "metadata": {
    "cellStatus": "{\"Serena Ruan\":{\"queued_time\":\"2023-02-06T07:06:47.5486017Z\",\"session_start_time\":null,\"execution_start_time\":\"2023-02-06T07:07:46.960377Z\",\"execution_finish_time\":\"2023-02-06T07:07:47.3702222Z\",\"state\":\"finished\",\"livy_statement_state\":\"available\"}}",
    "jupyter": {
     "outputs_hidden": false,
     "source_hidden": false
    },
    "nteract": {
     "transient": {
      "deleting": false
     }
    }
   },
   "outputs": [],
   "source": [
    "# Set pyspark autologging logModelAllowlist to include SynapseML models\n",
    "spark.sparkContext._conf.set(\n",
    "    \"spark.mlflow.pysparkml.autolog.logModelAllowlistFile\",\n",
    "    \"https://mmlspark.blob.core.windows.net/publicwasb/log_model_allowlist.txt\",\n",
    ")"
   ]
  },
  {
   "cell_type": "code",
   "execution_count": null,
   "metadata": {
    "cellStatus": "{\"Serena Ruan\":{\"queued_time\":\"2023-02-06T07:06:48.6025048Z\",\"session_start_time\":null,\"execution_start_time\":\"2023-02-06T07:07:47.4666182Z\",\"execution_finish_time\":\"2023-02-06T07:07:51.5223607Z\",\"state\":\"finished\",\"livy_statement_state\":\"available\"}}",
    "jupyter": {
     "outputs_hidden": false,
     "source_hidden": false
    },
    "nteract": {
     "transient": {
      "deleting": false
     }
    }
   },
   "outputs": [],
   "source": [
    "# enable autologging\n",
    "mlflow.pyspark.ml.autolog()"
   ]
  },
  {
   "cell_type": "markdown",
   "metadata": {
    "application/vnd.databricks.v1+cell": {
     "inputWidgets": {},
     "nuid": "8eae9173-2e33-4357-bc34-276637ad640b",
     "showTitle": false,
     "title": ""
    }
   },
   "source": [
    "## Part 1. Run distributed training using MLlib\n",
    "\n",
    "This section shows a simple example of distributed training using SynapseML. For more information and examples, visit the official [website](https://microsoft.github.io/SynapseML/)"
   ]
  },
  {
   "cell_type": "markdown",
   "metadata": {
    "application/vnd.databricks.v1+cell": {
     "inputWidgets": {},
     "nuid": "427cda15-44d4-4f54-9fa8-5037e3ddf82b",
     "showTitle": false,
     "title": ""
    }
   },
   "source": [
    "## Prepare Dataset\n",
    "We use [*Boston house price* dataset](https://scikit-learn.org/stable/modules/generated/sklearn.datasets.load_boston.html) \n",
    ". \n",
    "The data was collected in 1978 from Boston area and consists of 506 entries with 14 features including the value of homes. \n",
    "We use `sklearn.datasets` module to download it easily, then split the set into training and testing by 75/25."
   ]
  },
  {
   "cell_type": "code",
   "execution_count": null,
   "metadata": {
    "cellStatus": "{\"Serena Ruan\":{\"queued_time\":\"2023-02-06T07:06:51.6179426Z\",\"session_start_time\":null,\"execution_start_time\":\"2023-02-06T07:07:52.695954Z\",\"execution_finish_time\":\"2023-02-06T07:07:58.3119179Z\",\"state\":\"finished\",\"livy_statement_state\":\"available\"}}",
    "jupyter": {
     "outputs_hidden": false,
     "source_hidden": false
    },
    "nteract": {
     "transient": {
      "deleting": false
     }
    }
   },
   "outputs": [],
   "source": [
    "import numpy as np\n",
    "import pandas as pd\n",
    "from sklearn.datasets import load_boston"
   ]
  },
  {
   "cell_type": "code",
   "execution_count": null,
   "metadata": {
    "cellStatus": "{\"Serena Ruan\":{\"queued_time\":\"2023-02-06T07:06:52.7071513Z\",\"session_start_time\":null,\"execution_start_time\":\"2023-02-06T07:07:58.4134898Z\",\"execution_finish_time\":\"2023-02-06T07:08:01.3949419Z\",\"state\":\"finished\",\"livy_statement_state\":\"available\"}}",
    "collapsed": false,
    "jupyter": {
     "outputs_hidden": false,
     "source_hidden": false
    },
    "nteract": {
     "transient": {
      "deleting": false
     }
    }
   },
   "outputs": [],
   "source": [
    "boston = load_boston()\n",
    "\n",
    "feature_cols = [\"f\" + str(i) for i in range(boston.data.shape[1])]\n",
    "header = [\"target\"] + feature_cols\n",
    "df = spark.createDataFrame(\n",
    "    pd.DataFrame(data=np.column_stack((boston.target, boston.data)), columns=header)\n",
    ").repartition(1)\n",
    "\n",
    "print(\"Dataframe has {} rows\".format(df.count()))\n",
    "display(df)"
   ]
  },
  {
   "cell_type": "markdown",
   "metadata": {
    "nteract": {
     "transient": {
      "deleting": false
     }
    }
   },
   "source": [
    "Following is the summary of the data set."
   ]
  },
  {
   "cell_type": "code",
   "execution_count": null,
   "metadata": {
    "cellStatus": "{\"Serena Ruan\":{\"queued_time\":\"2023-02-06T07:06:54.5140547Z\",\"session_start_time\":null,\"execution_start_time\":\"2023-02-06T07:08:01.4930423Z\",\"execution_finish_time\":\"2023-02-06T07:08:04.3868173Z\",\"state\":\"finished\",\"livy_statement_state\":\"available\"}}",
    "collapsed": false,
    "jupyter": {
     "outputs_hidden": false,
     "source_hidden": false
    },
    "nteract": {
     "transient": {
      "deleting": false
     }
    }
   },
   "outputs": [],
   "source": [
    "display(df.summary().toPandas())"
   ]
  },
  {
   "cell_type": "markdown",
   "metadata": {
    "application/vnd.databricks.v1+cell": {
     "inputWidgets": {},
     "nuid": "753b1328-4dd2-4664-9940-d7dabf44ea1b",
     "showTitle": false,
     "title": ""
    }
   },
   "source": [
    "### Create a function to train a model\n",
    "\n",
    "In this section, you define a function to train a gradient boosting model with SynapseML LightgbmRegressor.  Wrapping the training code in a function is important for passing the function to Hyperopt for tuning later.\n",
    "\n",
    "We evaluate the prediction result by using `synapse.ml.train.ComputeModelStatistics` which returns four metrics:\n",
    "* [MSE (Mean Squared Error)](https://en.wikipedia.org/wiki/Mean_squared_error)\n",
    "* [RMSE (Root Mean Squared Error)](https://en.wikipedia.org/wiki/Root-mean-square_deviation) = sqrt(MSE)\n",
    "* [R Squared](https://en.wikipedia.org/wiki/Coefficient_of_determination)\n",
    "* [MAE (Mean Absolute Error)](https://en.wikipedia.org/wiki/Mean_absolute_error)"
   ]
  },
  {
   "cell_type": "code",
   "execution_count": null,
   "metadata": {
    "cellStatus": "{\"Serena Ruan\":{\"queued_time\":\"2023-02-06T07:06:56.1798275Z\",\"session_start_time\":null,\"execution_start_time\":\"2023-02-06T07:08:04.4786948Z\",\"execution_finish_time\":\"2023-02-06T07:08:06.3132972Z\",\"state\":\"finished\",\"livy_statement_state\":\"available\"}}",
    "collapsed": false,
    "jupyter": {
     "outputs_hidden": false,
     "source_hidden": false
    },
    "nteract": {
     "transient": {
      "deleting": false
     }
    }
   },
   "outputs": [],
   "source": [
    "from pyspark.ml.feature import VectorAssembler\n",
    "\n",
    "# Convert features into a single vector column\n",
    "featurizer = VectorAssembler(inputCols=feature_cols, outputCol=\"features\")\n",
    "data = featurizer.transform(df)[\"target\", \"features\"]\n",
    "\n",
    "train_data, test_data = data.randomSplit([0.75, 0.25], seed=42)\n",
    "train_data, validation_data = train_data.randomSplit([0.85, 0.15], seed=42)\n",
    "\n",
    "display(train_data)\n",
    "\n",
    "# Using one partition since the training dataset is very small\n",
    "repartitioned_data = train_data.repartition(1).cache()"
   ]
  },
  {
   "cell_type": "code",
   "execution_count": null,
   "metadata": {
    "cellStatus": "{\"Serena Ruan\":{\"queued_time\":\"2023-02-06T07:06:57.5619191Z\",\"session_start_time\":null,\"execution_start_time\":\"2023-02-06T07:08:06.4084611Z\",\"execution_finish_time\":\"2023-02-06T07:08:06.8296332Z\",\"state\":\"finished\",\"livy_statement_state\":\"available\"}}",
    "jupyter": {
     "outputs_hidden": false,
     "source_hidden": false
    },
    "nteract": {
     "transient": {
      "deleting": false
     }
    }
   },
   "outputs": [],
   "source": [
    "from synapse.ml.lightgbm import LightGBMRegressor\n",
    "from synapse.ml.train import ComputeModelStatistics\n",
    "\n",
    "\n",
    "def train_tree(alpha, learningRate, numLeaves, numIterations):\n",
    "    \"\"\"\n",
    "    This train() function:\n",
    "     - takes hyperparameters as inputs (for tuning later)\n",
    "     - returns the F1 score on the validation dataset\n",
    "\n",
    "    Wrapping code as a function makes it easier to reuse the code later with Hyperopt.\n",
    "    \"\"\"\n",
    "    # Use MLflow to track training.\n",
    "    # Specify \"nested=True\" since this single model will be logged as a child run of Hyperopt's run.\n",
    "    with mlflow.start_run(nested=True):\n",
    "\n",
    "        lgr = LightGBMRegressor(\n",
    "            objective=\"quantile\",\n",
    "            alpha=alpha,\n",
    "            learningRate=learningRate,\n",
    "            numLeaves=numLeaves,\n",
    "            labelCol=\"target\",\n",
    "            numIterations=numIterations,\n",
    "        )\n",
    "\n",
    "        model = lgr.fit(repartitioned_data)\n",
    "\n",
    "        cms = ComputeModelStatistics(\n",
    "            evaluationMetric=\"regression\", labelCol=\"target\", scoresCol=\"prediction\"\n",
    "        )\n",
    "\n",
    "        # Define an evaluation metric and evaluate the model on the test dataset.\n",
    "        predictions = model.transform(test_data)\n",
    "        metrics = cms.transform(predictions).collect()[0].asDict()\n",
    "\n",
    "        # log metrics with mlflow\n",
    "        mlflow.log_metric(\"MSE\", metrics[\"mean_squared_error\"])\n",
    "        mlflow.log_metric(\"RMSE\", metrics[\"root_mean_squared_error\"])\n",
    "        mlflow.log_metric(\"R^2\", metrics[\"R^2\"])\n",
    "        mlflow.log_metric(\"MAE\", metrics[\"mean_absolute_error\"])\n",
    "\n",
    "    return model, metrics[\"R^2\"]"
   ]
  },
  {
   "cell_type": "markdown",
   "metadata": {
    "application/vnd.databricks.v1+cell": {
     "inputWidgets": {},
     "nuid": "e1937940-dcc6-48c2-9326-10093f6f6699",
     "showTitle": false,
     "title": ""
    }
   },
   "source": [
    "Run the training function to make sure it works.\n",
    "It's a good idea to make sure training code runs before adding in tuning."
   ]
  },
  {
   "cell_type": "code",
   "execution_count": null,
   "metadata": {
    "application/vnd.databricks.v1+cell": {
     "inputWidgets": {},
     "nuid": "ef163a90-3ade-473f-a656-38915aae3b73",
     "showTitle": false,
     "title": ""
    },
    "cellStatus": "{\"Serena Ruan\":{\"queued_time\":\"2023-02-06T07:12:16.6015807Z\",\"session_start_time\":null,\"execution_start_time\":\"2023-02-06T07:12:16.7062603Z\",\"execution_finish_time\":\"2023-02-06T07:12:34.5518553Z\",\"state\":\"finished\",\"livy_statement_state\":\"available\"}}"
   },
   "outputs": [],
   "source": [
    "initial_model, val_metric = train_tree(\n",
    "    alpha=0.2, learningRate=0.3, numLeaves=31, numIterations=100\n",
    ")\n",
    "print(\n",
    "    f\"The trained decision tree achieved a R^2 of {val_metric} on the validation data\"\n",
    ")"
   ]
  },
  {
   "cell_type": "markdown",
   "metadata": {
    "application/vnd.databricks.v1+cell": {
     "inputWidgets": {},
     "nuid": "d7f782bc-42d7-4359-908c-45d32e5fd0c5",
     "showTitle": false,
     "title": ""
    }
   },
   "source": [
    "## Part 2. Use Hyperopt to tune hyperparameters\n",
    "\n",
    "In the second section, the Hyperopt workflow is created by:\n",
    "* Define a function to minimize\n",
    "* Define a search space over hyperparameters\n",
    "* Specifying the search algorithm and using `fmin()` for tuning the model.\n",
    "\n",
    "For more information about the Hyperopt APIs, see the [Hyperopt documentation](http://hyperopt.github.io/hyperopt/)."
   ]
  },
  {
   "cell_type": "markdown",
   "metadata": {
    "application/vnd.databricks.v1+cell": {
     "inputWidgets": {},
     "nuid": "7d0f905d-0435-4a47-8e3c-d6a30a3d406d",
     "showTitle": false,
     "title": ""
    }
   },
   "source": [
    "### Define a function to minimize\n",
    "\n",
    "* Input: hyperparameters\n",
    "* Internally: Reuse the training function defined above.\n",
    "* Output: loss"
   ]
  },
  {
   "cell_type": "code",
   "execution_count": null,
   "metadata": {
    "application/vnd.databricks.v1+cell": {
     "inputWidgets": {},
     "nuid": "3418abfc-c126-4384-a3e3-f3b046690003",
     "showTitle": false,
     "title": ""
    },
    "cellStatus": "{\"Serena Ruan\":{\"queued_time\":\"2023-02-06T07:15:43.8119712Z\",\"session_start_time\":null,\"execution_start_time\":\"2023-02-06T07:15:43.9041929Z\",\"execution_finish_time\":\"2023-02-06T07:15:46.707201Z\",\"state\":\"finished\",\"livy_statement_state\":\"available\"}}"
   },
   "outputs": [],
   "source": [
    "from hyperopt import fmin, tpe, hp, Trials, STATUS_OK\n",
    "\n",
    "\n",
    "def train_with_hyperopt(params):\n",
    "    \"\"\"\n",
    "    An example train method that calls into MLlib.\n",
    "    This method is passed to hyperopt.fmin().\n",
    "\n",
    "    :param params: hyperparameters as a dict. Its structure is consistent with how search space is defined. See below.\n",
    "    :return: dict with fields 'loss' (scalar loss) and 'status' (success/failure status of run)\n",
    "    \"\"\"\n",
    "    # For integer parameters, make sure to convert them to int type if Hyperopt is searching over a continuous range of values.\n",
    "    alpha = params[\"alpha\"]\n",
    "    learningRate = params[\"learningRate\"]\n",
    "    numLeaves = int(params[\"numLeaves\"])\n",
    "    numIterations = int(params[\"numIterations\"])\n",
    "\n",
    "    model, r_squared = train_tree(alpha, learningRate, numLeaves, numIterations)\n",
    "\n",
    "    # Hyperopt expects you to return a loss (for which lower is better), so take the negative of the R^2 (for which higher is better).\n",
    "    loss = -r_squared\n",
    "\n",
    "    return {\"loss\": loss, \"status\": STATUS_OK}"
   ]
  },
  {
   "cell_type": "markdown",
   "metadata": {
    "application/vnd.databricks.v1+cell": {
     "inputWidgets": {},
     "nuid": "b322e1fa-d8c6-491a-b225-837ef64544d6",
     "showTitle": false,
     "title": ""
    }
   },
   "source": [
    "### Define the search space over hyperparameters\n",
    "\n",
    "This example tunes four hyperparameters: `alpha`, `learningRate`, `numLeaves` and `numIterations`. See the [Hyperopt documentation](https://github.com/hyperopt/hyperopt/wiki/FMin#21-parameter-expressions) for details on defining a search space and parameter expressions."
   ]
  },
  {
   "cell_type": "code",
   "execution_count": null,
   "metadata": {
    "application/vnd.databricks.v1+cell": {
     "inputWidgets": {},
     "nuid": "08dc186e-5b7d-4235-b25d-8a4a072dfaa6",
     "showTitle": false,
     "title": ""
    },
    "cellStatus": "{\"Serena Ruan\":{\"queued_time\":\"2023-02-06T07:15:47.7533673Z\",\"session_start_time\":null,\"execution_start_time\":\"2023-02-06T07:15:47.85989Z\",\"execution_finish_time\":\"2023-02-06T07:15:48.2664583Z\",\"state\":\"finished\",\"livy_statement_state\":\"available\"}}"
   },
   "outputs": [],
   "source": [
    "space = {\n",
    "    \"alpha\": hp.uniform(\"alpha\", 0, 1),\n",
    "    \"learningRate\": hp.uniform(\"learningRate\", 0, 1),\n",
    "    \"numLeaves\": hp.uniformint(\"numLeaves\", 30, 50),\n",
    "    \"numIterations\": hp.uniformint(\"numIterations\", 100, 300),\n",
    "}"
   ]
  },
  {
   "cell_type": "markdown",
   "metadata": {
    "application/vnd.databricks.v1+cell": {
     "inputWidgets": {},
     "nuid": "055b6c8e-6c52-4530-8590-8681fdc3db0b",
     "showTitle": false,
     "title": ""
    }
   },
   "source": [
    "### Tune the model using Hyperopt `fmin()`\n",
    "\n",
    "For tuning the model with Hyperopt's `fmin()`, the following steps are taken:\n",
    "- Setting `max_evals` to the maximum number of points in the hyperparameter space to be tested.\n",
    "- Specifying the search algorithm, either `hyperopt.tpe.suggest` or `hyperopt.rand.suggest`.\n",
    "  - `hyperopt.tpe.suggest`: Tree of Parzen Estimators, a Bayesian approach which iteratively and adaptively selects new hyperparameter settings to explore based on previous results\n",
    "  - `hyperopt.rand.suggest`: Random search, a non-adaptive approach that randomly samples the search space"
   ]
  },
  {
   "cell_type": "markdown",
   "metadata": {
    "application/vnd.databricks.v1+cell": {
     "inputWidgets": {},
     "nuid": "db1bbd18-e7dc-4e2b-a712-3b7f9cf06fe0",
     "showTitle": false,
     "title": ""
    }
   },
   "source": [
    "**Important:**  \n",
    "When using Hyperopt with SynapseML and other distributed training algorithms, do not pass a `trials` argument to `fmin()`. When you do not include the `trials` argument, Hyperopt uses the default `Trials` class, which runs on the cluster driver. Hyperopt needs to evaluate each trial on the driver node so that each trial can initiate distributed training jobs.  \n",
    "\n",
    "Do not use the `SparkTrials` class with SynapseML. `SparkTrials` is designed to distribute trials for algorithms that are not themselves distributed. SynapseML uses distributed computing already and is not compatible with `SparkTrials`."
   ]
  },
  {
   "cell_type": "code",
   "execution_count": null,
   "metadata": {
    "application/vnd.databricks.v1+cell": {
     "inputWidgets": {},
     "nuid": "c27b3844-7f09-4064-8859-3245d50686d3",
     "showTitle": false,
     "title": ""
    },
    "cellStatus": "{\"Serena Ruan\":{\"queued_time\":\"2023-02-06T07:15:54.3946832Z\",\"session_start_time\":null,\"execution_start_time\":\"2023-02-06T07:15:54.4872074Z\",\"execution_finish_time\":\"2023-02-06T07:18:00.2180212Z\",\"state\":\"finished\",\"livy_statement_state\":\"available\"}}"
   },
   "outputs": [],
   "source": [
    "algo = tpe.suggest\n",
    "\n",
    "with mlflow.start_run():\n",
    "    best_params = fmin(fn=train_with_hyperopt, space=space, algo=algo, max_evals=8)"
   ]
  },
  {
   "cell_type": "code",
   "execution_count": null,
   "metadata": {
    "application/vnd.databricks.v1+cell": {
     "inputWidgets": {},
     "nuid": "28bac71d-5073-425e-96ee-c2be31b530a1",
     "showTitle": false,
     "title": ""
    },
    "cellStatus": "{\"Serena Ruan\":{\"queued_time\":\"2023-02-06T07:15:56.9344989Z\",\"session_start_time\":null,\"execution_start_time\":\"2023-02-06T07:18:00.312747Z\",\"execution_finish_time\":\"2023-02-06T07:18:00.7399866Z\",\"state\":\"finished\",\"livy_statement_state\":\"available\"}}"
   },
   "outputs": [],
   "source": [
    "# Print out the parameters that produced the best model\n",
    "best_params"
   ]
  },
  {
   "cell_type": "markdown",
   "metadata": {
    "application/vnd.databricks.v1+cell": {
     "inputWidgets": {},
     "nuid": "dfeadf58-f32a-436d-b808-5068b9970ab0",
     "showTitle": false,
     "title": ""
    }
   },
   "source": [
    "### Retrain the model on the full training dataset\n",
    "\n",
    "For tuning, this workflow split the training dataset into training and validation subsets. Now, retrain the model using the \"best\" hyperparameters on the full training dataset."
   ]
  },
  {
   "cell_type": "code",
   "execution_count": null,
   "metadata": {
    "application/vnd.databricks.v1+cell": {
     "inputWidgets": {},
     "nuid": "18affbe4-1b95-4bb8-835b-f4212f4735c9",
     "showTitle": false,
     "title": ""
    },
    "cellStatus": "{\"Serena Ruan\":{\"queued_time\":\"2023-02-06T07:17:48.4834555Z\",\"session_start_time\":null,\"execution_start_time\":\"2023-02-06T07:18:00.8290245Z\",\"execution_finish_time\":\"2023-02-06T07:18:16.5027887Z\",\"state\":\"finished\",\"livy_statement_state\":\"available\"}}"
   },
   "outputs": [],
   "source": [
    "best_alpha = best_params[\"alpha\"]\n",
    "best_learningRate = best_params[\"learningRate\"]\n",
    "best_numIterations = int(best_params[\"numIterations\"])\n",
    "best_numLeaves = int(best_params[\"numLeaves\"])\n",
    "\n",
    "final_model, val_r_squared = train_tree(\n",
    "    best_alpha, best_learningRate, best_numIterations, best_numLeaves\n",
    ")"
   ]
  },
  {
   "cell_type": "markdown",
   "metadata": {
    "application/vnd.databricks.v1+cell": {
     "inputWidgets": {},
     "nuid": "be379a9e-c968-41ed-90dc-28f3c135c24a",
     "showTitle": false,
     "title": ""
    }
   },
   "source": [
    "Use the test dataset to compare evaluation metrics for the initial and \"best\" models."
   ]
  },
  {
   "cell_type": "code",
   "execution_count": null,
   "metadata": {
    "application/vnd.databricks.v1+cell": {
     "inputWidgets": {},
     "nuid": "473b3eae-dbbb-445c-8353-52234960ea1f",
     "showTitle": false,
     "title": ""
    },
    "cellStatus": "{\"Serena Ruan\":{\"queued_time\":\"2023-02-06T07:17:51.3683642Z\",\"session_start_time\":null,\"execution_start_time\":\"2023-02-06T07:18:16.6033104Z\",\"execution_finish_time\":\"2023-02-06T07:18:17.7326073Z\",\"state\":\"finished\",\"livy_statement_state\":\"available\"}}"
   },
   "outputs": [],
   "source": [
    "# Define an evaluation metric and evaluate the model on the test dataset.\n",
    "cms = ComputeModelStatistics(\n",
    "    evaluationMetric=\"regression\", labelCol=\"target\", scoresCol=\"prediction\"\n",
    ")\n",
    "\n",
    "initial_model_predictions = initial_model.transform(test_data)\n",
    "initial_model_test_metric = (\n",
    "    cms.transform(initial_model_predictions).collect()[0].asDict()[\"R^2\"]\n",
    ")\n",
    "\n",
    "final_model_predictions = final_model.transform(test_data)\n",
    "final_model_test_metric = (\n",
    "    cms.transform(final_model_predictions).collect()[0].asDict()[\"R^2\"]\n",
    ")\n",
    "\n",
    "print(\n",
    "    f\"On the test data, the initial (untuned) model achieved R^2 {initial_model_test_metric}, and the final (tuned) model achieved {final_model_test_metric}.\"\n",
    ")"
   ]
  }
 ],
 "metadata": {
  "kernel_info": {
   "name": "synapse_pyspark"
  },
  "kernelspec": {
   "display_name": "Synapse PySpark",
   "language": "Python",
   "name": "synapse_pyspark"
  },
  "language_info": {
   "name": "python"
  },
  "notebook_environment": {},
  "save_output": true,
  "spark_compute": {
   "compute_id": "/trident/default",
   "session_options": {
    "conf": {
     "spark.livy.synapse.ipythonInterpreter.enabled": "true"
    },
    "enableDebugMode": false,
    "keepAliveTimeout": 30
   }
  },
  "synapse_widget": {
   "state": {
    "3f0024b7-c8f6-4211-ad61-79676488c106": {
     "persist_state": {
      "view": {
       "chartOptions": {
        "aggregationType": "count",
        "categoryFieldKeys": [
         "0"
        ],
        "chartType": "bar",
        "isStacked": false,
        "seriesFieldKeys": [
         "1"
        ]
       },
       "tableOptions": {},
       "type": "details"
      }
     },
     "sync_state": {
      "isSummary": false,
      "language": "scala",
      "table": {
       "rows": [
        {
         "0": "count",
         "1": "506",
         "2": "506",
         "3": "506",
         "4": "506",
         "5": "506",
         "6": "506",
         "7": "506",
         "8": "506",
         "9": "506",
         "10": "506",
         "11": "506",
         "12": "506",
         "13": "506",
         "14": "506"
        },
        {
         "0": "mean",
         "1": "22.532806324110656",
         "2": "3.6135235573122526",
         "3": "11.363636363636363",
         "4": "11.136778656126513",
         "5": "0.0691699604743083",
         "6": "0.5546950592885376",
         "7": "6.284634387351784",
         "8": "68.5749011857708",
         "9": "3.795042687747035",
         "10": "9.549407114624506",
         "11": "408.2371541501976",
         "12": "18.45553359683797",
         "13": "356.67403162055234",
         "14": "12.653063241106725"
        },
        {
         "0": "stddev",
         "1": "9.197104087379817",
         "2": "8.601545105332487",
         "3": "23.322452994515146",
         "4": "6.860352940897583",
         "5": "0.25399404134041026",
         "6": "0.11587767566755588",
         "7": "0.7026171434153236",
         "8": "28.148861406903617",
         "9": "2.1057101266276104",
         "10": "8.707259384239366",
         "11": "168.53711605495909",
         "12": "2.164945523714444",
         "13": "91.29486438415776",
         "14": "7.141061511348569"
        },
        {
         "0": "min",
         "1": "5.0",
         "2": "0.00632",
         "3": "0.0",
         "4": "0.46",
         "5": "0.0",
         "6": "0.385",
         "7": "3.561",
         "8": "2.9",
         "9": "1.1296",
         "10": "1.0",
         "11": "187.0",
         "12": "12.6",
         "13": "0.32",
         "14": "1.73"
        },
        {
         "0": "25%",
         "1": "17.0",
         "2": "0.08199",
         "3": "0.0",
         "4": "5.19",
         "5": "0.0",
         "6": "0.449",
         "7": "5.885",
         "8": "45.0",
         "9": "2.1",
         "10": "4.0",
         "11": "279.0",
         "12": "17.4",
         "13": "375.33",
         "14": "6.93"
        },
        {
         "0": "50%",
         "1": "21.2",
         "2": "0.25387",
         "3": "0.0",
         "4": "9.69",
         "5": "0.0",
         "6": "0.538",
         "7": "6.208",
         "8": "77.3",
         "9": "3.1992",
         "10": "5.0",
         "11": "330.0",
         "12": "19.0",
         "13": "391.43",
         "14": "11.34"
        },
        {
         "0": "75%",
         "1": "25.0",
         "2": "3.67822",
         "3": "12.5",
         "4": "18.1",
         "5": "0.0",
         "6": "0.624",
         "7": "6.625",
         "8": "94.1",
         "9": "5.2119",
         "10": "24.0",
         "11": "666.0",
         "12": "20.2",
         "13": "396.23",
         "14": "16.96"
        },
        {
         "0": "max",
         "1": "50.0",
         "2": "88.9762",
         "3": "100.0",
         "4": "27.74",
         "5": "1.0",
         "6": "0.871",
         "7": "8.78",
         "8": "100.0",
         "9": "12.1265",
         "10": "24.0",
         "11": "711.0",
         "12": "22.0",
         "13": "396.9",
         "14": "37.97"
        }
       ],
       "schema": [
        {
         "key": "0",
         "name": "summary",
         "type": "string"
        },
        {
         "key": "1",
         "name": "target",
         "type": "string"
        },
        {
         "key": "2",
         "name": "f0",
         "type": "string"
        },
        {
         "key": "3",
         "name": "f1",
         "type": "string"
        },
        {
         "key": "4",
         "name": "f2",
         "type": "string"
        },
        {
         "key": "5",
         "name": "f3",
         "type": "string"
        },
        {
         "key": "6",
         "name": "f4",
         "type": "string"
        },
        {
         "key": "7",
         "name": "f5",
         "type": "string"
        },
        {
         "key": "8",
         "name": "f6",
         "type": "string"
        },
        {
         "key": "9",
         "name": "f7",
         "type": "string"
        },
        {
         "key": "10",
         "name": "f8",
         "type": "string"
        },
        {
         "key": "11",
         "name": "f9",
         "type": "string"
        },
        {
         "key": "12",
         "name": "f10",
         "type": "string"
        },
        {
         "key": "13",
         "name": "f11",
         "type": "string"
        },
        {
         "key": "14",
         "name": "f12",
         "type": "string"
        }
       ],
       "truncated": false
      }
     },
     "type": "Synapse.DataFrame"
    },
    "4192031f-acb0-4174-9ffa-6f6eb896e25a": {
     "persist_state": {
      "view": {
       "chartOptions": {
        "aggregationType": "sum",
        "categoryFieldKeys": [
         "0"
        ],
        "chartType": "bar",
        "isStacked": false,
        "seriesFieldKeys": [
         "0"
        ]
       },
       "tableOptions": {},
       "type": "details"
      }
     },
     "sync_state": {
      "isSummary": false,
      "language": "scala",
      "table": {
       "rows": [
        {
         "0": "5.0",
         "1": {
          "type": 1,
          "values": [
           38.3518,
           0,
           18.1,
           0,
           0.693,
           5.453,
           100,
           1.4896,
           24,
           666,
           20.2,
           396.9,
           30.59
          ]
         }
        },
        {
         "0": "5.0",
         "1": {
          "type": 1,
          "values": [
           67.9208,
           0,
           18.1,
           0,
           0.693,
           5.683,
           100,
           1.4254,
           24,
           666,
           20.2,
           384.97,
           22.98
          ]
         }
        },
        {
         "0": "6.3",
         "1": {
          "type": 1,
          "values": [
           9.91655,
           0,
           18.1,
           0,
           0.693,
           5.852,
           77.8,
           1.5004,
           24,
           666,
           20.2,
           338.16,
           29.97
          ]
         }
        },
        {
         "0": "7.0",
         "1": {
          "type": 1,
          "values": [
           0.18337,
           0,
           27.74,
           0,
           0.609,
           5.414,
           98.3,
           1.7554,
           4,
           711,
           20.1,
           344.05,
           23.97
          ]
         }
        },
        {
         "0": "7.0",
         "1": {
          "type": 1,
          "values": [
           45.7461,
           0,
           18.1,
           0,
           0.693,
           4.519,
           100,
           1.6582,
           24,
           666,
           20.2,
           88.27,
           36.98
          ]
         }
        },
        {
         "0": "7.2",
         "1": {
          "type": 1,
          "values": [
           16.8118,
           0,
           18.1,
           0,
           0.7,
           5.277,
           98.1,
           1.4261,
           24,
           666,
           20.2,
           396.9,
           30.81
          ]
         }
        },
        {
         "0": "8.1",
         "1": {
          "type": 1,
          "values": [
           0.20746,
           0,
           27.74,
           0,
           0.609,
           5.093,
           98,
           1.8226,
           4,
           711,
           20.1,
           318.43,
           29.68
          ]
         }
        },
        {
         "0": "8.4",
         "1": {
          "type": 1,
          "values": [
           11.8123,
           0,
           18.1,
           0,
           0.718,
           6.824,
           76.5,
           1.794,
           24,
           666,
           20.2,
           48.45,
           22.74
          ]
         }
        },
        {
         "0": "8.4",
         "1": {
          "type": 1,
          "values": [
           13.6781,
           0,
           18.1,
           0,
           0.74,
           5.935,
           87.9,
           1.8206,
           24,
           666,
           20.2,
           68.95,
           34.02
          ]
         }
        },
        {
         "0": "8.5",
         "1": {
          "type": 1,
          "values": [
           7.67202,
           0,
           18.1,
           0,
           0.693,
           5.747,
           98.9,
           1.6334,
           24,
           666,
           20.2,
           393.1,
           19.92
          ]
         }
        },
        {
         "0": "8.5",
         "1": {
          "type": 1,
          "values": [
           41.5292,
           0,
           18.1,
           0,
           0.693,
           5.531,
           85.4,
           1.6074,
           24,
           666,
           20.2,
           329.46,
           27.38
          ]
         }
        },
        {
         "0": "8.7",
         "1": {
          "type": 1,
          "values": [
           15.1772,
           0,
           18.1,
           0,
           0.74,
           6.152,
           100,
           1.9142,
           24,
           666,
           20.2,
           9.32,
           26.45
          ]
         }
        },
        {
         "0": "8.8",
         "1": {
          "type": 1,
          "values": [
           73.5341,
           0,
           18.1,
           0,
           0.679,
           5.957,
           100,
           1.8026,
           24,
           666,
           20.2,
           16.45,
           20.62
          ]
         }
        },
        {
         "0": "9.5",
         "1": {
          "type": 1,
          "values": [
           9.33889,
           0,
           18.1,
           0,
           0.679,
           6.38,
           95.6,
           1.9682,
           24,
           666,
           20.2,
           60.72,
           24.08
          ]
         }
        },
        {
         "0": "9.6",
         "1": {
          "type": 1,
          "values": [
           14.4208,
           0,
           18.1,
           0,
           0.74,
           6.461,
           93.3,
           2.0026,
           24,
           666,
           20.2,
           27.49,
           18.05
          ]
         }
        },
        {
         "0": "10.2",
         "1": {
          "type": 1,
          "values": [
           12.2472,
           0,
           18.1,
           0,
           0.584,
           5.837,
           59.7,
           1.9976,
           24,
           666,
           20.2,
           24.65,
           15.69
          ]
         }
        },
        {
         "0": "10.2",
         "1": {
          "type": 1,
          "values": [
           14.3337,
           0,
           18.1,
           0,
           0.7,
           4.88,
           100,
           1.5895,
           24,
           666,
           20.2,
           372.92,
           30.62
          ]
         }
        },
        {
         "0": "10.2",
         "1": {
          "type": 1,
          "values": [
           17.8667,
           0,
           18.1,
           0,
           0.671,
           6.223,
           100,
           1.3861,
           24,
           666,
           20.2,
           393.74,
           21.78
          ]
         }
        },
        {
         "0": "10.4",
         "1": {
          "type": 1,
          "values": [
           25.9406,
           0,
           18.1,
           0,
           0.679,
           5.304,
           89.1,
           1.6475,
           24,
           666,
           20.2,
           127.36,
           26.64
          ]
         }
        },
        {
         "0": "10.4",
         "1": {
          "type": 1,
          "values": [
           88.9762,
           0,
           18.1,
           0,
           0.671,
           6.968,
           91.9,
           1.4165,
           24,
           666,
           20.2,
           396.9,
           17.21
          ]
         }
        },
        {
         "0": "10.8",
         "1": {
          "type": 1,
          "values": [
           12.8023,
           0,
           18.1,
           0,
           0.74,
           5.854,
           96.6,
           1.8956,
           24,
           666,
           20.2,
           240.52,
           23.79
          ]
         }
        },
        {
         "0": "11.5",
         "1": {
          "type": 1,
          "values": [
           8.15174,
           0,
           18.1,
           0,
           0.7,
           5.39,
           98.9,
           1.7281,
           24,
           666,
           20.2,
           396.9,
           20.85
          ]
         }
        },
        {
         "0": "11.7",
         "1": {
          "type": 1,
          "values": [
           8.79212,
           0,
           18.1,
           0,
           0.584,
           5.565,
           70.6,
           2.0635,
           24,
           666,
           20.2,
           3.65,
           17.16
          ]
         }
        },
        {
         "0": "11.7",
         "1": {
          "type": 1,
          "values": [
           13.9134,
           0,
           18.1,
           0,
           0.713,
           6.208,
           95,
           2.2222,
           24,
           666,
           20.2,
           100.63,
           15.17
          ]
         }
        },
        {
         "0": "11.8",
         "1": {
          "type": 1,
          "values": [
           2.77974,
           0,
           19.58,
           0,
           0.871,
           4.903,
           97.8,
           1.3459,
           5,
           403,
           14.7,
           396.9,
           29.29
          ]
         }
        },
        {
         "0": "11.8",
         "1": {
          "type": 1,
          "values": [
           10.6718,
           0,
           18.1,
           0,
           0.74,
           6.459,
           94.8,
           1.9879,
           24,
           666,
           20.2,
           43.06,
           23.98
          ]
         }
        },
        {
         "0": "11.9",
         "1": {
          "type": 1,
          "values": [
           0.04741,
           0,
           11.93,
           0,
           0.573,
           6.03,
           80.8,
           2.505,
           1,
           273,
           21,
           396.9,
           7.88
          ]
         }
        },
        {
         "0": "12.0",
         "1": {
          "type": 1,
          "values": [
           15.0234,
           0,
           18.1,
           0,
           0.614,
           5.304,
           97.3,
           2.1007,
           24,
           666,
           20.2,
           349.48,
           24.91
          ]
         }
        },
        {
         "0": "12.1",
         "1": {
          "type": 1,
          "values": [
           9.59571,
           0,
           18.1,
           0,
           0.693,
           6.404,
           100,
           1.639,
           24,
           666,
           20.2,
           376.11,
           20.31
          ]
         }
        },
        {
         "0": "12.7",
         "1": {
          "type": 1,
          "values": [
           1.13081,
           0,
           8.14,
           0,
           0.538,
           5.713,
           94.1,
           4.233,
           4,
           307,
           21,
           360.17,
           22.6
          ]
         }
        },
        {
         "0": "12.7",
         "1": {
          "type": 1,
          "values": [
           13.3598,
           0,
           18.1,
           0,
           0.693,
           5.887,
           94.7,
           1.7821,
           24,
           666,
           20.2,
           396.9,
           16.35
          ]
         }
        },
        {
         "0": "13.0",
         "1": {
          "type": 1,
          "values": [
           7.52601,
           0,
           18.1,
           0,
           0.713,
           6.417,
           98.3,
           2.185,
           24,
           666,
           20.2,
           304.21,
           19.31
          ]
         }
        },
        {
         "0": "13.1",
         "1": {
          "type": 1,
          "values": [
           2.44668,
           0,
           19.58,
           0,
           0.871,
           5.272,
           94,
           1.7364,
           5,
           403,
           14.7,
           88.63,
           16.14
          ]
         }
        },
        {
         "0": "13.1",
         "1": {
          "type": 1,
          "values": [
           23.6482,
           0,
           18.1,
           0,
           0.671,
           6.38,
           96.2,
           1.3861,
           24,
           666,
           20.2,
           396.9,
           23.69
          ]
         }
        },
        {
         "0": "13.2",
         "1": {
          "type": 1,
          "values": [
           1.38799,
           0,
           8.14,
           0,
           0.538,
           5.95,
           82,
           3.99,
           4,
           307,
           21,
           232.6,
           27.71
          ]
         }
        },
        {
         "0": "13.3",
         "1": {
          "type": 1,
          "values": [
           0.2498,
           0,
           21.89,
           0,
           0.624,
           5.857,
           98.2,
           1.6686,
           4,
           437,
           21.2,
           392.04,
           21.32
          ]
         }
        },
        {
         "0": "13.3",
         "1": {
          "type": 1,
          "values": [
           6.39312,
           0,
           18.1,
           0,
           0.584,
           6.162,
           97.4,
           2.206,
           24,
           666,
           20.2,
           302.76,
           24.1
          ]
         }
        },
        {
         "0": "13.3",
         "1": {
          "type": 1,
          "values": [
           9.82349,
           0,
           18.1,
           0,
           0.671,
           6.794,
           98.8,
           1.358,
           24,
           666,
           20.2,
           396.9,
           21.24
          ]
         }
        },
        {
         "0": "13.4",
         "1": {
          "type": 1,
          "values": [
           3.32105,
           0,
           19.58,
           1,
           0.871,
           5.403,
           100,
           1.3216,
           5,
           403,
           14.7,
           396.9,
           26.82
          ]
         }
        },
        {
         "0": "13.4",
         "1": {
          "type": 1,
          "values": [
           7.05042,
           0,
           18.1,
           0,
           0.614,
           6.103,
           85.1,
           2.0218,
           24,
           666,
           20.2,
           2.52,
           23.29
          ]
         }
        },
        {
         "0": "13.5",
         "1": {
          "type": 1,
          "values": [
           1.61282,
           0,
           8.14,
           0,
           0.538,
           6.096,
           96.9,
           3.7598,
           4,
           307,
           21,
           248.31,
           20.34
          ]
         }
        },
        {
         "0": "13.5",
         "1": {
          "type": 1,
          "values": [
           8.20058,
           0,
           18.1,
           0,
           0.713,
           5.936,
           80.3,
           2.7792,
           24,
           666,
           20.2,
           3.5,
           16.94
          ]
         }
        },
        {
         "0": "13.8",
         "1": {
          "type": 1,
          "values": [
           8.64476,
           0,
           18.1,
           0,
           0.693,
           6.193,
           92.6,
           1.7912,
           24,
           666,
           20.2,
           396.9,
           15.17
          ]
         }
        },
        {
         "0": "13.8",
         "1": {
          "type": 1,
          "values": [
           18.4982,
           0,
           18.1,
           0,
           0.668,
           4.138,
           100,
           1.137,
           24,
           666,
           20.2,
           396.9,
           37.97
          ]
         }
        },
        {
         "0": "13.9",
         "1": {
          "type": 1,
          "values": [
           15.288,
           0,
           18.1,
           0,
           0.671,
           6.649,
           93.3,
           1.3449,
           24,
           666,
           20.2,
           363.02,
           23.24
          ]
         }
        },
        {
         "0": "14.0",
         "1": {
          "type": 1,
          "values": [
           0.2909,
           0,
           21.89,
           0,
           0.624,
           6.174,
           93.6,
           1.6119,
           4,
           437,
           21.2,
           388.08,
           24.16
          ]
         }
        },
        {
         "0": "14.1",
         "1": {
          "type": 1,
          "values": [
           9.32909,
           0,
           18.1,
           0,
           0.713,
           6.185,
           98.7,
           2.2616,
           24,
           666,
           20.2,
           396.9,
           18.13
          ]
         }
        },
        {
         "0": "14.2",
         "1": {
          "type": 1,
          "values": [
           7.02259,
           0,
           18.1,
           0,
           0.718,
           6.006,
           95.3,
           1.8746,
           24,
           666,
           20.2,
           319.98,
           15.7
          ]
         }
        },
        {
         "0": "14.3",
         "1": {
          "type": 1,
          "values": [
           0.88125,
           0,
           21.89,
           0,
           0.624,
           5.637,
           94.7,
           1.9799,
           4,
           437,
           21.2,
           396.9,
           18.34
          ]
         }
        },
        {
         "0": "14.3",
         "1": {
          "type": 1,
          "values": [
           5.58107,
           0,
           18.1,
           0,
           0.713,
           6.436,
           87.9,
           2.3158,
           24,
           666,
           20.2,
           100.19,
           16.22
          ]
         }
        },
        {
         "0": "14.4",
         "1": {
          "type": 1,
          "values": [
           1.62864,
           0,
           21.89,
           0,
           0.624,
           5.019,
           100,
           1.4394,
           4,
           437,
           21.2,
           396.9,
           34.41
          ]
         }
        },
        {
         "0": "14.5",
         "1": {
          "type": 1,
          "values": [
           0.98843,
           0,
           8.14,
           0,
           0.538,
           5.813,
           100,
           4.0952,
           4,
           307,
           21,
           394.54,
           19.88
          ]
         }
        },
        {
         "0": "14.5",
         "1": {
          "type": 1,
          "values": [
           1.35472,
           0,
           8.14,
           0,
           0.538,
           6.072,
           100,
           4.175,
           4,
           307,
           21,
           376.73,
           13.04
          ]
         }
        },
        {
         "0": "14.6",
         "1": {
          "type": 1,
          "values": [
           2.36862,
           0,
           19.58,
           0,
           0.871,
           4.926,
           95.7,
           1.4608,
           5,
           403,
           14.7,
           391.71,
           29.53
          ]
         }
        },
        {
         "0": "14.6",
         "1": {
          "type": 1,
          "values": [
           10.233,
           0,
           18.1,
           0,
           0.614,
           6.185,
           96.7,
           2.1705,
           24,
           666,
           20.2,
           379.7,
           18.03
          ]
         }
        },
        {
         "0": "14.8",
         "1": {
          "type": 1,
          "values": [
           0.95577,
           0,
           8.14,
           0,
           0.538,
           6.047,
           88.8,
           4.4534,
           4,
           307,
           21,
           306.38,
           17.28
          ]
         }
        },
        {
         "0": "14.9",
         "1": {
          "type": 1,
          "values": [
           6.28807,
           0,
           18.1,
           0,
           0.74,
           6.341,
           96.4,
           2.072,
           24,
           666,
           20.2,
           318.01,
           17.79
          ]
         }
        },
        {
         "0": "14.9",
         "1": {
          "type": 1,
          "values": [
           7.75223,
           0,
           18.1,
           0,
           0.713,
           6.301,
           83.7,
           2.7831,
           24,
           666,
           20.2,
           272.21,
           16.23
          ]
         }
        },
        {
         "0": "14.9",
         "1": {
          "type": 1,
          "values": [
           9.51363,
           0,
           18.1,
           0,
           0.713,
           6.728,
           94.1,
           2.4961,
           24,
           666,
           20.2,
           6.68,
           18.71
          ]
         }
        },
        {
         "0": "15.0",
         "1": {
          "type": 1,
          "values": [
           19.6091,
           0,
           18.1,
           0,
           0.671,
           7.313,
           97.9,
           1.3163,
           24,
           666,
           20.2,
           396.9,
           13.44
          ]
         }
        },
        {
         "0": "15.0",
         "1": {
          "type": 1,
          "values": [
           51.1358,
           0,
           18.1,
           0,
           0.597,
           5.757,
           100,
           1.413,
           24,
           666,
           20.2,
           2.6,
           10.11
          ]
         }
        },
        {
         "0": "15.1",
         "1": {
          "type": 1,
          "values": [
           6.96215,
           0,
           18.1,
           0,
           0.7,
           5.713,
           97,
           1.9265,
           24,
           666,
           20.2,
           394.43,
           17.11
          ]
         }
        },
        {
         "0": "15.2",
         "1": {
          "type": 1,
          "values": [
           0.15086,
           0,
           27.74,
           0,
           0.609,
           5.454,
           92.7,
           1.8209,
           4,
           711,
           20.1,
           395.09,
           18.06
          ]
         }
        },
        {
         "0": "15.2",
         "1": {
          "type": 1,
          "values": [
           1.23247,
           0,
           8.14,
           0,
           0.538,
           6.142,
           91.7,
           3.9769,
           4,
           307,
           21,
           396.9,
           18.72
          ]
         }
        },
        {
         "0": "15.3",
         "1": {
          "type": 1,
          "values": [
           1.12658,
           0,
           19.58,
           1,
           0.871,
           5.012,
           88,
           1.6102,
           5,
           403,
           14.7,
           343.28,
           12.12
          ]
         }
        },
        {
         "0": "15.4",
         "1": {
          "type": 1,
          "values": [
           2.73397,
           0,
           19.58,
           0,
           0.871,
           5.597,
           94.9,
           1.5257,
           5,
           403,
           14.7,
           351.85,
           21.45
          ]
         }
        },
        {
         "0": "15.6",
         "1": {
          "type": 1,
          "values": [
           0.75026,
           0,
           8.14,
           0,
           0.538,
           5.924,
           94.1,
           4.3996,
           4,
           307,
           21,
           394.33,
           16.3
          ]
         }
        },
        {
         "0": "15.6",
         "1": {
          "type": 1,
          "values": [
           0.97617,
           0,
           21.89,
           0,
           0.624,
           5.757,
           98.4,
           2.346,
           4,
           437,
           21.2,
           262.76,
           17.31
          ]
         }
        },
        {
         "0": "15.6",
         "1": {
          "type": 1,
          "values": [
           2.15505,
           0,
           19.58,
           0,
           0.871,
           5.628,
           100,
           1.5166,
           5,
           403,
           14.7,
           169.27,
           16.65
          ]
         }
        },
        {
         "0": "15.6",
         "1": {
          "type": 1,
          "values": [
           3.53501,
           0,
           19.58,
           1,
           0.871,
           6.152,
           82.6,
           1.7455,
           5,
           403,
           14.7,
           88.01,
           15.02
          ]
         }
        },
        {
         "0": "15.6",
         "1": {
          "type": 1,
          "values": [
           4.0974,
           0,
           19.58,
           0,
           0.871,
           5.468,
           100,
           1.4118,
           5,
           403,
           14.7,
           396.9,
           26.42
          ]
         }
        },
        {
         "0": "15.7",
         "1": {
          "type": 1,
          "values": [
           0.38735,
           0,
           25.65,
           0,
           0.581,
           5.613,
           95.6,
           1.7572,
           2,
           188,
           19.1,
           359.29,
           27.26
          ]
         }
        },
        {
         "0": "16.0",
         "1": {
          "type": 1,
          "values": [
           0.17171,
           25,
           5.13,
           0,
           0.453,
           5.966,
           93.4,
           6.8185,
           8,
           284,
           19.7,
           378.08,
           14.44
          ]
         }
        },
        {
         "0": "16.1",
         "1": {
          "type": 1,
          "values": [
           2.63548,
           0,
           9.9,
           0,
           0.544,
           4.973,
           37.8,
           2.5194,
           4,
           304,
           18.4,
           350.45,
           12.64
          ]
         }
        },
        {
         "0": "16.1",
         "1": {
          "type": 1,
          "values": [
           6.44405,
           0,
           18.1,
           0,
           0.584,
           6.425,
           74.8,
           2.2004,
           24,
           666,
           20.2,
           97.95,
           12.03
          ]
         }
        },
        {
         "0": "16.2",
         "1": {
          "type": 1,
          "values": [
           0.25356,
           0,
           9.9,
           0,
           0.544,
           5.705,
           77.7,
           3.945,
           4,
           304,
           18.4,
           396.42,
           11.5
          ]
         }
        },
        {
         "0": "16.2",
         "1": {
          "type": 1,
          "values": [
           0.25915,
           0,
           21.89,
           0,
           0.624,
           5.693,
           96,
           1.7883,
           4,
           437,
           21.2,
           392.11,
           17.19
          ]
         }
        },
        {
         "0": "16.5",
         "1": {
          "type": 1,
          "values": [
           0.21124,
           12.5,
           7.87,
           0,
           0.524,
           5.631,
           100,
           6.0821,
           5,
           311,
           15.2,
           386.63,
           29.93
          ]
         }
        },
        {
         "0": "16.6",
         "1": {
          "type": 1,
          "values": [
           0.22927,
           0,
           6.91,
           0,
           0.448,
           6.03,
           85.5,
           5.6894,
           3,
           233,
           17.9,
           392.74,
           18.8
          ]
         }
        },
        {
         "0": "16.6",
         "1": {
          "type": 1,
          "values": [
           0.67191,
           0,
           8.14,
           0,
           0.538,
           5.813,
           90.3,
           4.682,
           4,
           307,
           21,
           376.88,
           14.81
          ]
         }
        },
        {
         "0": "16.7",
         "1": {
          "type": 1,
          "values": [
           4.87141,
           0,
           18.1,
           0,
           0.614,
           6.484,
           93.6,
           2.3053,
           24,
           666,
           20.2,
           396.21,
           18.68
          ]
         }
        },
        {
         "0": "16.7",
         "1": {
          "type": 1,
          "values": [
           11.0874,
           0,
           18.1,
           0,
           0.718,
           6.411,
           100,
           1.8589,
           24,
           666,
           20.2,
           318.75,
           15.02
          ]
         }
        },
        {
         "0": "16.8",
         "1": {
          "type": 1,
          "values": [
           0.22438,
           0,
           9.69,
           0,
           0.585,
           6.027,
           79.7,
           2.4982,
           6,
           391,
           19.2,
           396.9,
           14.33
          ]
         }
        },
        {
         "0": "17.0",
         "1": {
          "type": 1,
          "values": [
           1.41385,
           0,
           19.58,
           1,
           0.871,
           6.129,
           96,
           1.7494,
           5,
           403,
           14.7,
           321.02,
           15.12
          ]
         }
        },
        {
         "0": "17.1",
         "1": {
          "type": 1,
          "values": [
           0.05023,
           35,
           6.06,
           0,
           0.4379,
           5.706,
           28.4,
           6.6407,
           1,
           304,
           16.9,
           394.02,
           12.43
          ]
         }
        },
        {
         "0": "17.1",
         "1": {
          "type": 1,
          "values": [
           0.35233,
           0,
           21.89,
           0,
           0.624,
           6.454,
           98.4,
           1.8498,
           4,
           437,
           21.2,
           394.08,
           14.59
          ]
         }
        },
        {
         "0": "17.2",
         "1": {
          "type": 1,
          "values": [
           0.06162,
           0,
           4.39,
           0,
           0.442,
           5.898,
           52.3,
           8.0136,
           3,
           352,
           18.8,
           364.61,
           12.67
          ]
         }
        },
        {
         "0": "17.2",
         "1": {
          "type": 1,
          "values": [
           14.0507,
           0,
           18.1,
           0,
           0.597,
           6.657,
           100,
           1.5275,
           24,
           666,
           20.2,
           35.05,
           21.22
          ]
         }
        },
        {
         "0": "17.4",
         "1": {
          "type": 1,
          "values": [
           0.13554,
           12.5,
           6.07,
           0,
           0.409,
           5.594,
           36.8,
           6.498,
           4,
           345,
           18.9,
           396.9,
           13.09
          ]
         }
        },
        {
         "0": "17.4",
         "1": {
          "type": 1,
          "values": [
           0.32264,
           0,
           21.89,
           0,
           0.624,
           5.942,
           93.5,
           1.9669,
           4,
           437,
           21.2,
           378.25,
           16.9
          ]
         }
        },
        {
         "0": "17.4",
         "1": {
          "type": 1,
          "values": [
           1.20742,
           0,
           19.58,
           0,
           0.605,
           5.875,
           94.6,
           2.4259,
           5,
           403,
           14.7,
           292.29,
           14.43
          ]
         }
        },
        {
         "0": "17.5",
         "1": {
          "type": 1,
          "values": [
           0.03113,
           0,
           4.39,
           0,
           0.442,
           6.014,
           48.5,
           8.0136,
           3,
           352,
           18.8,
           385.64,
           10.53
          ]
         }
        },
        {
         "0": "17.5",
         "1": {
          "type": 1,
          "values": [
           0.17783,
           0,
           9.69,
           0,
           0.585,
           5.569,
           73.5,
           2.3999,
           6,
           391,
           19.2,
           395.77,
           15.1
          ]
         }
        },
        {
         "0": "17.5",
         "1": {
          "type": 1,
          "values": [
           0.7842,
           0,
           8.14,
           0,
           0.538,
           5.99,
           81.7,
           4.2579,
           4,
           307,
           21,
           386.75,
           14.67
          ]
         }
        },
        {
         "0": "17.6",
         "1": {
          "type": 1,
          "values": [
           0.20608,
           22,
           5.86,
           0,
           0.431,
           5.593,
           76.5,
           7.9549,
           7,
           330,
           19.1,
           372.49,
           12.5
          ]
         }
        },
        {
         "0": "17.7",
         "1": {
          "type": 1,
          "values": [
           3.69311,
           0,
           18.1,
           0,
           0.713,
           6.376,
           88.4,
           2.5671,
           24,
           666,
           20.2,
           391.43,
           14.65
          ]
         }
        },
        {
         "0": "17.8",
         "1": {
          "type": 1,
          "values": [
           0.31827,
           0,
           9.9,
           0,
           0.544,
           5.914,
           83.2,
           3.9986,
           4,
           304,
           18.4,
           390.7,
           18.33
          ]
         }
        },
        {
         "0": "17.8",
         "1": {
          "type": 1,
          "values": [
           2.33099,
           0,
           19.58,
           0,
           0.871,
           5.186,
           93.8,
           1.5296,
           5,
           403,
           14.7,
           356.99,
           28.32
          ]
         }
        },
        {
         "0": "17.8",
         "1": {
          "type": 1,
          "values": [
           8.24809,
           0,
           18.1,
           0,
           0.713,
           7.393,
           99.3,
           2.4527,
           24,
           666,
           20.2,
           375.87,
           16.74
          ]
         }
        },
        {
         "0": "17.8",
         "1": {
          "type": 1,
          "values": [
           8.98296,
           0,
           18.1,
           1,
           0.77,
           6.212,
           97.4,
           2.1222,
           24,
           666,
           20.2,
           377.73,
           17.6
          ]
         }
        },
        {
         "0": "17.9",
         "1": {
          "type": 1,
          "values": [
           18.811,
           0,
           18.1,
           0,
           0.597,
           4.628,
           100,
           1.5539,
           24,
           666,
           20.2,
           28.79,
           34.37
          ]
         }
        },
        {
         "0": "18.0",
         "1": {
          "type": 1,
          "values": [
           0.32543,
           0,
           21.89,
           0,
           0.624,
           6.431,
           98.8,
           1.8125,
           4,
           437,
           21.2,
           396.9,
           15.39
          ]
         }
        },
        {
         "0": "18.1",
         "1": {
          "type": 1,
          "values": [
           0.55778,
           0,
           21.89,
           0,
           0.624,
           6.335,
           98.2,
           2.1107,
           4,
           437,
           21.2,
           394.67,
           16.96
          ]
         }
        },
        {
         "0": "18.3",
         "1": {
          "type": 1,
          "values": [
           0.17134,
           0,
           10.01,
           0,
           0.547,
           5.928,
           88.2,
           2.4631,
           6,
           432,
           17.8,
           344.91,
           15.76
          ]
         }
        },
        {
         "0": "18.3",
         "1": {
          "type": 1,
          "values": [
           0.26838,
           0,
           9.69,
           0,
           0.585,
           5.794,
           70.6,
           2.8927,
           6,
           391,
           19.2,
           396.9,
           14.1
          ]
         }
        },
        {
         "0": "18.4",
         "1": {
          "type": 1,
          "values": [
           0.32982,
           0,
           21.89,
           0,
           0.624,
           5.822,
           95.4,
           2.4699,
           4,
           437,
           21.2,
           388.69,
           15.03
          ]
         }
        },
        {
         "0": "18.4",
         "1": {
          "type": 1,
          "values": [
           0.77299,
           0,
           8.14,
           0,
           0.538,
           6.495,
           94.4,
           4.4547,
           4,
           307,
           21,
           387.94,
           12.8
          ]
         }
        },
        {
         "0": "18.4",
         "1": {
          "type": 1,
          "values": [
           5.66637,
           0,
           18.1,
           0,
           0.74,
           6.219,
           100,
           2.0048,
           24,
           666,
           20.2,
           395.69,
           16.59
          ]
         }
        },
        {
         "0": "18.5",
         "1": {
          "type": 1,
          "values": [
           0.03041,
           0,
           5.19,
           0,
           0.515,
           5.895,
           59.6,
           5.615,
           5,
           224,
           20.2,
           394.81,
           10.56
          ]
         }
        },
        {
         "0": "18.5",
         "1": {
          "type": 1,
          "values": [
           0.14231,
           0,
           10.01,
           0,
           0.547,
           6.254,
           84.2,
           2.2565,
           6,
           432,
           17.8,
           388.74,
           10.45
          ]
         }
        },
        {
         "0": "18.5",
         "1": {
          "type": 1,
          "values": [
           0.28392,
           0,
           7.38,
           0,
           0.493,
           5.708,
           74.3,
           4.7211,
           5,
           287,
           19.6,
           391.13,
           11.74
          ]
         }
        },
        {
         "0": "18.6",
         "1": {
          "type": 1,
          "values": [
           0.07244,
           60,
           1.69,
           0,
           0.411,
           5.884,
           18.5,
           10.7103,
           4,
           411,
           18.3,
           392.33,
           7.79
          ]
         }
        },
        {
         "0": "18.6",
         "1": {
          "type": 1,
          "values": [
           0.22876,
           0,
           8.56,
           0,
           0.52,
           6.405,
           85.4,
           2.7147,
           5,
           384,
           20.9,
           70.8,
           10.63
          ]
         }
        },
        {
         "0": "18.7",
         "1": {
          "type": 1,
          "values": [
           0.14932,
           25,
           5.13,
           0,
           0.453,
           5.741,
           66.2,
           7.2254,
           8,
           284,
           19.7,
           395.11,
           13.15
          ]
         }
        },
        {
         "0": "18.8",
         "1": {
          "type": 1,
          "values": [
           0.09849,
           0,
           25.65,
           0,
           0.581,
           5.879,
           95.8,
           2.0063,
           2,
           188,
           19.1,
           379.38,
           17.58
          ]
         }
        },
        {
         "0": "18.9",
         "1": {
          "type": 1,
          "values": [
           0.0136,
           75,
           4,
           0,
           0.41,
           5.888,
           47.6,
           7.3197,
           3,
           469,
           21.1,
           396.9,
           14.8
          ]
         }
        },
        {
         "0": "18.9",
         "1": {
          "type": 1,
          "values": [
           0.06417,
           0,
           5.96,
           0,
           0.499,
           5.933,
           68.2,
           3.3603,
           5,
           279,
           19.2,
           396.9,
           9.68
          ]
         }
        },
        {
         "0": "18.9",
         "1": {
          "type": 1,
          "values": [
           0.17004,
           12.5,
           7.87,
           0,
           0.524,
           6.004,
           85.9,
           6.5921,
           5,
           311,
           15.2,
           386.71,
           17.1
          ]
         }
        },
        {
         "0": "19.0",
         "1": {
          "type": 1,
          "values": [
           0.05497,
           0,
           5.19,
           0,
           0.515,
           5.985,
           45.4,
           4.8122,
           5,
           224,
           20.2,
           396.9,
           9.74
          ]
         }
        },
        {
         "0": "19.0",
         "1": {
          "type": 1,
          "values": [
           3.77498,
           0,
           18.1,
           0,
           0.655,
           5.952,
           84.7,
           2.8715,
           24,
           666,
           20.2,
           22.01,
           17.15
          ]
         }
        },
        {
         "0": "19.1",
         "1": {
          "type": 1,
          "values": [
           2.3139,
           0,
           19.58,
           0,
           0.605,
           5.88,
           97.3,
           2.3887,
           5,
           403,
           14.7,
           348.13,
           12.03
          ]
         }
        },
        {
         "0": "19.1",
         "1": {
          "type": 1,
          "values": [
           4.42228,
           0,
           18.1,
           0,
           0.584,
           6.003,
           94.5,
           2.5403,
           24,
           666,
           20.2,
           331.29,
           21.32
          ]
         }
        },
        {
         "0": "19.1",
         "1": {
          "type": 1,
          "values": [
           5.69175,
           0,
           18.1,
           0,
           0.583,
           6.114,
           79.8,
           3.5459,
           24,
           666,
           20.2,
           392.68,
           14.98
          ]
         }
        },
        {
         "0": "19.1",
         "1": {
          "type": 1,
          "values": [
           15.5757,
           0,
           18.1,
           0,
           0.58,
           5.926,
           71,
           2.9084,
           24,
           666,
           20.2,
           368.74,
           18.13
          ]
         }
        },
        {
         "0": "19.2",
         "1": {
          "type": 1,
          "values": [
           0.15098,
           0,
           10.01,
           0,
           0.547,
           6.021,
           82.6,
           2.7474,
           6,
           432,
           17.8,
           394.51,
           10.3
          ]
         }
        },
        {
         "0": "19.2",
         "1": {
          "type": 1,
          "values": [
           0.34006,
           0,
           21.89,
           0,
           0.624,
           6.458,
           98.9,
           2.1185,
           4,
           437,
           21.2,
           395.04,
           12.6
          ]
         }
        },
        {
         "0": "19.3",
         "1": {
          "type": 1,
          "values": [
           0.06617,
           0,
           3.24,
           0,
           0.46,
           5.868,
           25.8,
           5.2146,
           4,
           430,
           16.9,
           382.44,
           9.97
          ]
         }
        },
        {
         "0": "19.3",
         "1": {
          "type": 1,
          "values": [
           0.14476,
           0,
           10.01,
           0,
           0.547,
           5.731,
           65.2,
           2.7592,
           6,
           432,
           17.8,
           391.5,
           13.61
          ]
         }
        },
        {
         "0": "19.3",
         "1": {
          "type": 1,
          "values": [
           0.21161,
           0,
           8.56,
           0,
           0.52,
           6.137,
           87.4,
           2.7147,
           5,
           384,
           20.9,
           394.47,
           13.44
          ]
         }
        },
        {
         "0": "19.3",
         "1": {
          "type": 1,
          "values": [
           0.37578,
           0,
           10.59,
           1,
           0.489,
           5.404,
           88.6,
           3.665,
           4,
           277,
           18.6,
           395.24,
           23.98
          ]
         }
        },
        {
         "0": "19.4",
         "1": {
          "type": 1,
          "values": [
           0.03466,
           35,
           6.06,
           0,
           0.4379,
           6.031,
           23.3,
           6.6407,
           1,
           304,
           16.9,
           362.25,
           7.83
          ]
         }
        },
        {
         "0": "19.4",
         "1": {
          "type": 1,
          "values": [
           0.04379,
           80,
           3.37,
           0,
           0.398,
           5.787,
           31.1,
           6.6115,
           4,
           337,
           16.1,
           396.9,
           10.24
          ]
         }
        },
        {
         "0": "19.4",
         "1": {
          "type": 1,
          "values": [
           0.21977,
           0,
           6.91,
           0,
           0.448,
           5.602,
           62,
           6.0877,
           3,
           233,
           17.9,
           396.9,
           16.2
          ]
         }
        },
        {
         "0": "19.4",
         "1": {
          "type": 1,
          "values": [
           0.26363,
           0,
           8.56,
           0,
           0.52,
           6.229,
           91.2,
           2.5451,
           5,
           384,
           20.9,
           391.23,
           15.55
          ]
         }
        },
        {
         "0": "19.4",
         "1": {
          "type": 1,
          "values": [
           2.14918,
           0,
           19.58,
           0,
           0.871,
           5.709,
           98.5,
           1.6232,
           5,
           403,
           14.7,
           261.95,
           15.79
          ]
         }
        },
        {
         "0": "19.5",
         "1": {
          "type": 1,
          "values": [
           0.13262,
           0,
           8.56,
           0,
           0.52,
           5.851,
           96.7,
           2.1069,
           5,
           384,
           20.9,
           394.05,
           16.47
          ]
         }
        },
        {
         "0": "19.5",
         "1": {
          "type": 1,
          "values": [
           6.65492,
           0,
           18.1,
           0,
           0.713,
           6.317,
           83,
           2.7344,
           24,
           666,
           20.2,
           396.9,
           13.99
          ]
         }
        },
        {
         "0": "19.6",
         "1": {
          "type": 1,
          "values": [
           0.10328,
           25,
           5.13,
           0,
           0.453,
           5.927,
           47.2,
           6.932,
           8,
           284,
           19.7,
           396.9,
           9.22
          ]
         }
        },
        {
         "0": "19.6",
         "1": {
          "type": 1,
          "values": [
           0.85204,
           0,
           8.14,
           0,
           0.538,
           5.965,
           89.2,
           4.0123,
           4,
           307,
           21,
           392.53,
           13.83
          ]
         }
        },
        {
         "0": "19.6",
         "1": {
          "type": 1,
          "values": [
           1.19294,
           0,
           21.89,
           0,
           0.624,
           6.326,
           97.7,
           2.271,
           4,
           437,
           21.2,
           396.9,
           12.26
          ]
         }
        },
        {
         "0": "19.6",
         "1": {
          "type": 1,
          "values": [
           1.49632,
           0,
           19.58,
           0,
           0.871,
           5.404,
           100,
           1.5916,
           5,
           403,
           14.7,
           341.6,
           13.28
          ]
         }
        },
        {
         "0": "19.6",
         "1": {
          "type": 1,
          "values": [
           4.03841,
           0,
           18.1,
           0,
           0.532,
           6.229,
           90.7,
           3.0993,
           24,
           666,
           20.2,
           395.33,
           12.87
          ]
         }
        },
        {
         "0": "19.7",
         "1": {
          "type": 1,
          "values": [
           0.08873,
           21,
           5.64,
           0,
           0.439,
           5.963,
           45.7,
           6.8147,
           4,
           243,
           16.8,
           395.56,
           13.45
          ]
         }
        },
        {
         "0": "19.8",
         "1": {
          "type": 1,
          "values": [
           0.24522,
           0,
           9.9,
           0,
           0.544,
           5.782,
           71.7,
           4.0317,
           4,
           304,
           18.4,
           396.9,
           15.94
          ]
         }
        },
        {
         "0": "19.9",
         "1": {
          "type": 1,
          "values": [
           0.62739,
           0,
           8.14,
           0,
           0.538,
           5.834,
           56.5,
           4.4986,
           4,
           307,
           21,
           395.62,
           8.47
          ]
         }
        },
        {
         "0": "19.9",
         "1": {
          "type": 1,
          "values": [
           3.1636,
           0,
           18.1,
           0,
           0.655,
           5.759,
           48.2,
           3.0665,
           24,
           666,
           20.2,
           334.4,
           14.13
          ]
         }
        },
        {
         "0": "19.9",
         "1": {
          "type": 1,
          "values": [
           4.34879,
           0,
           18.1,
           0,
           0.58,
           6.167,
           84,
           3.0334,
           24,
           666,
           20.2,
           396.9,
           16.29
          ]
         }
        },
        {
         "0": "20.0",
         "1": {
          "type": 1,
          "values": [
           0.09744,
           0,
           5.96,
           0,
           0.499,
           5.841,
           61.4,
           3.3779,
           5,
           279,
           19.2,
           377.56,
           11.41
          ]
         }
        },
        {
         "0": "20.0",
         "1": {
          "type": 1,
          "values": [
           0.18836,
           0,
           6.91,
           0,
           0.448,
           5.786,
           33.3,
           5.1004,
           3,
           233,
           17.9,
           396.9,
           14.15
          ]
         }
        },
        {
         "0": "20.0",
         "1": {
          "type": 1,
          "values": [
           6.80117,
           0,
           18.1,
           0,
           0.713,
           6.081,
           84.4,
           2.7175,
           24,
           666,
           20.2,
           396.9,
           14.7
          ]
         }
        },
        {
         "0": "20.1",
         "1": {
          "type": 1,
          "values": [
           0.01965,
           80,
           1.76,
           0,
           0.385,
           6.23,
           31.5,
           9.0892,
           1,
           241,
           18.2,
           341.6,
           12.93
          ]
         }
        },
        {
         "0": "20.1",
         "1": {
          "type": 1,
          "values": [
           0.10612,
           30,
           4.93,
           0,
           0.428,
           6.095,
           65.1,
           6.3361,
           6,
           300,
           16.6,
           394.62,
           12.4
          ]
         }
        },
        {
         "0": "20.1",
         "1": {
          "type": 1,
          "values": [
           0.11132,
           0,
           27.74,
           0,
           0.609,
           5.983,
           83.5,
           2.1099,
           4,
           711,
           20.1,
           396.9,
           13.35
          ]
         }
        },
        {
         "0": "20.1",
         "1": {
          "type": 1,
          "values": [
           0.1396,
           0,
           8.56,
           0,
           0.52,
           6.167,
           90,
           2.421,
           5,
           384,
           20.9,
           392.69,
           12.33
          ]
         }
        },
        {
         "0": "20.2",
         "1": {
          "type": 1,
          "values": [
           0.80271,
           0,
           8.14,
           0,
           0.538,
           5.456,
           36.6,
           3.7965,
           4,
           307,
           21,
           288.99,
           11.69
          ]
         }
        },
        {
         "0": "20.2",
         "1": {
          "type": 1,
          "values": [
           5.82115,
           0,
           18.1,
           0,
           0.713,
           6.513,
           89.9,
           2.8016,
           24,
           666,
           20.2,
           393.82,
           10.29
          ]
         }
        },
        {
         "0": "20.3",
         "1": {
          "type": 1,
          "values": [
           0.07165,
           0,
           25.65,
           0,
           0.581,
           6.004,
           84.1,
           2.1974,
           2,
           188,
           19.1,
           377.67,
           14.27
          ]
         }
        },
        {
         "0": "20.3",
         "1": {
          "type": 1,
          "values": [
           0.08387,
           0,
           12.83,
           0,
           0.437,
           5.874,
           36.6,
           4.5026,
           5,
           398,
           18.7,
           396.06,
           9.1
          ]
         }
        },
        {
         "0": "20.3",
         "1": {
          "type": 1,
          "values": [
           0.3494,
           0,
           9.9,
           0,
           0.544,
           5.972,
           76.7,
           3.1025,
           4,
           304,
           18.4,
           396.24,
           9.97
          ]
         }
        },
        {
         "0": "20.4",
         "1": {
          "type": 1,
          "values": [
           0.13058,
           0,
           10.01,
           0,
           0.547,
           5.872,
           73.1,
           2.4775,
           6,
           432,
           17.8,
           338.63,
           15.37
          ]
         }
        },
        {
         "0": "20.4",
         "1": {
          "type": 1,
          "values": [
           0.13117,
           0,
           8.56,
           0,
           0.52,
           6.127,
           85.2,
           2.1224,
           5,
           384,
           20.9,
           387.69,
           14.09
          ]
         }
        },
        {
         "0": "20.4",
         "1": {
          "type": 1,
          "values": [
           0.35114,
           0,
           7.38,
           0,
           0.493,
           6.041,
           49.9,
           4.7211,
           5,
           287,
           19.6,
           396.9,
           7.7
          ]
         }
        },
        {
         "0": "20.4",
         "1": {
          "type": 1,
          "values": [
           0.62976,
           0,
           8.14,
           0,
           0.538,
           5.949,
           61.8,
           4.7075,
           4,
           307,
           21,
           396.9,
           8.26
          ]
         }
        },
        {
         "0": "20.5",
         "1": {
          "type": 1,
          "values": [
           0.09299,
           0,
           25.65,
           0,
           0.581,
           5.961,
           92.9,
           2.0869,
           2,
           188,
           19.1,
           378.09,
           17.93
          ]
         }
        },
        {
         "0": "20.5",
         "1": {
          "type": 1,
          "values": [
           0.19657,
           22,
           5.86,
           0,
           0.431,
           6.226,
           79.2,
           8.0555,
           7,
           330,
           19.1,
           376.14,
           10.15
          ]
         }
        },
        {
         "0": "20.6",
         "1": {
          "type": 1,
          "values": [
           0.03306,
           0,
           5.19,
           0,
           0.515,
           6.059,
           37.3,
           4.8122,
           5,
           224,
           20.2,
           396.14,
           8.51
          ]
         }
        },
        {
         "0": "20.6",
         "1": {
          "type": 1,
          "values": [
           0.04527,
           0,
           11.93,
           0,
           0.573,
           6.12,
           76.7,
           2.2875,
           1,
           273,
           21,
           396.9,
           9.08
          ]
         }
        },
        {
         "0": "20.6",
         "1": {
          "type": 1,
          "values": [
           0.10659,
           80,
           1.91,
           0,
           0.413,
           5.936,
           19.5,
           10.5857,
           4,
           334,
           22,
           376.04,
           5.57
          ]
         }
        },
        {
         "0": "20.6",
         "1": {
          "type": 1,
          "values": [
           4.83567,
           0,
           18.1,
           0,
           0.583,
           5.905,
           53.2,
           3.1523,
           24,
           666,
           20.2,
           388.22,
           11.45
          ]
         }
        },
        {
         "0": "20.7",
         "1": {
          "type": 1,
          "values": [
           0.03738,
           0,
           5.19,
           0,
           0.515,
           6.31,
           38.5,
           6.4584,
           5,
           224,
           20.2,
           389.4,
           6.75
          ]
         }
        },
        {
         "0": "20.8",
         "1": {
          "type": 1,
          "values": [
           0.08707,
           0,
           12.83,
           0,
           0.437,
           6.14,
           45.8,
           4.0905,
           5,
           398,
           18.7,
           386.96,
           10.27
          ]
         }
        },
        {
         "0": "20.8",
         "1": {
          "type": 1,
          "values": [
           3.67822,
           0,
           18.1,
           0,
           0.77,
           5.362,
           96.2,
           2.1036,
           24,
           666,
           20.2,
           380.79,
           10.19
          ]
         }
        },
        {
         "0": "20.8",
         "1": {
          "type": 1,
          "values": [
           12.0482,
           0,
           18.1,
           0,
           0.614,
           5.648,
           87.6,
           1.9512,
           24,
           666,
           20.2,
           291.55,
           14.1
          ]
         }
        },
        {
         "0": "20.9",
         "1": {
          "type": 1,
          "values": [
           0.03548,
           80,
           3.64,
           0,
           0.392,
           5.876,
           19.1,
           9.2203,
           1,
           315,
           16.4,
           395.18,
           9.25
          ]
         }
        },
        {
         "0": "20.9",
         "1": {
          "type": 1,
          "values": [
           0.12816,
           12.5,
           6.07,
           0,
           0.409,
           5.885,
           33,
           6.498,
           4,
           345,
           18.9,
           396.9,
           8.79
          ]
         }
        },
        {
         "0": "21.0",
         "1": {
          "type": 1,
          "values": [
           0.08014,
           0,
           5.96,
           0,
           0.499,
           5.85,
           41.5,
           3.9342,
           5,
           279,
           19.2,
           396.9,
           8.77
          ]
         }
        },
        {
         "0": "21.0",
         "1": {
          "type": 1,
          "values": [
           0.47547,
           0,
           9.9,
           0,
           0.544,
           6.113,
           58.8,
           4.0019,
           4,
           304,
           18.4,
           396.23,
           12.73
          ]
         }
        },
        {
         "0": "21.0",
         "1": {
          "type": 1,
          "values": [
           1.00245,
           0,
           8.14,
           0,
           0.538,
           6.674,
           87.3,
           4.239,
           4,
           307,
           21,
           380.23,
           11.98
          ]
         }
        },
        {
         "0": "21.1",
         "1": {
          "type": 1,
          "values": [
           0.03961,
           0,
           5.19,
           0,
           0.515,
           6.037,
           34.5,
           5.9853,
           5,
           224,
           20.2,
           396.9,
           8.01
          ]
         }
        },
        {
         "0": "21.1",
         "1": {
          "type": 1,
          "values": [
           0.29916,
           20,
           6.96,
           0,
           0.464,
           5.856,
           42.1,
           4.429,
           3,
           223,
           18.6,
           388.65,
           13
          ]
         }
        },
        {
         "0": "21.2",
         "1": {
          "type": 1,
          "values": [
           0.05646,
           0,
           12.83,
           0,
           0.437,
           6.232,
           53.7,
           5.0141,
           5,
           398,
           18.7,
           386.4,
           12.34
          ]
         }
        },
        {
         "0": "21.2",
         "1": {
          "type": 1,
          "values": [
           0.12269,
           0,
           6.91,
           0,
           0.448,
           6.069,
           40,
           5.7209,
           3,
           233,
           17.9,
           389.39,
           9.55
          ]
         }
        },
        {
         "0": "21.2",
         "1": {
          "type": 1,
          "values": [
           3.67367,
           0,
           18.1,
           0,
           0.583,
           6.312,
           51.9,
           3.9917,
           24,
           666,
           20.2,
           388.62,
           10.58
          ]
         }
        },
        {
         "0": "21.4",
         "1": {
          "type": 1,
          "values": [
           0.09512,
           0,
           12.83,
           0,
           0.437,
           6.286,
           45,
           4.5026,
           5,
           398,
           18.7,
           383.23,
           8.94
          ]
         }
        },
        {
         "0": "21.4",
         "1": {
          "type": 1,
          "values": [
           0.11504,
           0,
           2.89,
           0,
           0.445,
           6.163,
           69.6,
           3.4952,
           2,
           276,
           18,
           391.83,
           11.34
          ]
         }
        },
        {
         "0": "21.4",
         "1": {
          "type": 1,
          "values": [
           7.83932,
           0,
           18.1,
           0,
           0.655,
           6.209,
           65.4,
           2.9634,
           24,
           666,
           20.2,
           396.9,
           13.22
          ]
         }
        },
        {
         "0": "21.4",
         "1": {
          "type": 1,
          "values": [
           14.3337,
           0,
           18.1,
           0,
           0.614,
           6.229,
           88,
           1.9512,
           24,
           666,
           20.2,
           383.32,
           13.11
          ]
         }
        },
        {
         "0": "21.5",
         "1": {
          "type": 1,
          "values": [
           1.6566,
           0,
           19.58,
           0,
           0.871,
           6.122,
           97.3,
           1.618,
           5,
           403,
           14.7,
           372.8,
           14.1
          ]
         }
        },
        {
         "0": "21.6",
         "1": {
          "type": 1,
          "values": [
           0.26938,
           0,
           9.9,
           0,
           0.544,
           6.266,
           82.8,
           3.2628,
           4,
           304,
           18.4,
           393.39,
           7.9
          ]
         }
        },
        {
         "0": "21.7",
         "1": {
          "type": 1,
          "values": [
           0.08199,
           0,
           13.92,
           0,
           0.437,
           6.009,
           42.3,
           5.5027,
           4,
           289,
           16,
           396.9,
           10.4
          ]
         }
        },
        {
         "0": "21.7",
         "1": {
          "type": 1,
          "values": [
           0.10793,
           0,
           8.56,
           0,
           0.52,
           6.195,
           54.4,
           2.7778,
           5,
           384,
           20.9,
           393.49,
           13
          ]
         }
        },
        {
         "0": "21.7",
         "1": {
          "type": 1,
          "values": [
           0.17446,
           0,
           10.59,
           1,
           0.489,
           5.96,
           92.1,
           3.8771,
           4,
           277,
           18.6,
           393.25,
           17.27
          ]
         }
        },
        {
         "0": "21.7",
         "1": {
          "type": 1,
          "values": [
           0.40771,
           0,
           6.2,
           1,
           0.507,
           6.164,
           91.3,
           3.048,
           8,
           307,
           17.4,
           395.24,
           21.46
          ]
         }
        },
        {
         "0": "21.7",
         "1": {
          "type": 1,
          "values": [
           3.8497,
           0,
           18.1,
           1,
           0.77,
           6.395,
           91,
           2.5052,
           24,
           666,
           20.2,
           391.34,
           13.27
          ]
         }
        },
        {
         "0": "21.8",
         "1": {
          "type": 1,
          "values": [
           0.17331,
           0,
           9.69,
           0,
           0.585,
           5.707,
           54,
           2.3817,
           6,
           391,
           19.2,
           396.9,
           12.01
          ]
         }
        },
        {
         "0": "21.8",
         "1": {
          "type": 1,
          "values": [
           2.81838,
           0,
           18.1,
           0,
           0.532,
           5.762,
           40.3,
           4.0983,
           24,
           666,
           20.2,
           392.92,
           10.42
          ]
         }
        },
        {
         "0": "21.9",
         "1": {
          "type": 1,
          "values": [
           3.47428,
           0,
           18.1,
           1,
           0.718,
           8.78,
           82.9,
           1.9047,
           24,
           666,
           20.2,
           354.55,
           5.29
          ]
         }
        },
        {
         "0": "21.9",
         "1": {
          "type": 1,
          "values": [
           3.69695,
           0,
           18.1,
           0,
           0.718,
           4.963,
           91.4,
           1.7523,
           24,
           666,
           20.2,
           316.03,
           14
          ]
         }
        },
        {
         "0": "22.0",
         "1": {
          "type": 1,
          "values": [
           0.01096,
           55,
           2.25,
           0,
           0.389,
           6.453,
           31.9,
           7.3073,
           1,
           300,
           15.3,
           394.72,
           8.23
          ]
         }
        },
        {
         "0": "22.0",
         "1": {
          "type": 1,
          "values": [
           0.03537,
           34,
           6.09,
           0,
           0.433,
           6.59,
           40.4,
           5.4917,
           7,
           329,
           16.1,
           395.75,
           9.5
          ]
         }
        },
        {
         "0": "22.0",
         "1": {
          "type": 1,
          "values": [
           0.05789,
           12.5,
           6.07,
           0,
           0.409,
           5.878,
           21.4,
           6.498,
           4,
           345,
           18.9,
           396.21,
           8.1
          ]
         }
        },
        {
         "0": "22.0",
         "1": {
          "type": 1,
          "values": [
           0.10959,
           0,
           11.93,
           0,
           0.573,
           6.794,
           89.3,
           2.3889,
           1,
           273,
           21,
           393.45,
           6.48
          ]
         }
        },
        {
         "0": "22.0",
         "1": {
          "type": 1,
          "values": [
           0.11329,
           30,
           4.93,
           0,
           0.428,
           6.897,
           54.3,
           6.3361,
           6,
           300,
           16.6,
           391.25,
           11.38
          ]
         }
        },
        {
         "0": "22.1",
         "1": {
          "type": 1,
          "values": [
           0.79041,
           0,
           9.9,
           0,
           0.544,
           6.122,
           52.8,
           2.6403,
           4,
           304,
           18.4,
           396.9,
           5.98
          ]
         }
        },
        {
         "0": "22.2",
         "1": {
          "type": 1,
          "values": [
           0.05083,
           0,
           5.19,
           0,
           0.515,
           6.316,
           38.1,
           6.4584,
           5,
           224,
           20.2,
           389.71,
           5.68
          ]
         }
        },
        {
         "0": "22.2",
         "1": {
          "type": 1,
          "values": [
           0.07151,
           0,
           4.49,
           0,
           0.449,
           6.121,
           56.8,
           3.7476,
           3,
           247,
           18.5,
           395.15,
           8.44
          ]
         }
        },
        {
         "0": "22.2",
         "1": {
          "type": 1,
          "values": [
           0.1029,
           30,
           4.93,
           0,
           0.428,
           6.358,
           52.9,
           7.0355,
           6,
           300,
           16.6,
           372.75,
           11.22
          ]
         }
        },
        {
         "0": "22.2",
         "1": {
          "type": 1,
          "values": [
           0.24103,
           0,
           7.38,
           0,
           0.493,
           6.083,
           43.7,
           5.4159,
           5,
           287,
           19.6,
           396.9,
           12.79
          ]
         }
        },
        {
         "0": "22.3",
         "1": {
          "type": 1,
          "values": [
           0.0459,
           52.5,
           5.32,
           0,
           0.405,
           6.315,
           45.6,
           7.3172,
           6,
           293,
           16.6,
           396.9,
           7.6
          ]
         }
        },
        {
         "0": "22.4",
         "1": {
          "type": 1,
          "values": [
           0.21719,
           0,
           10.59,
           1,
           0.489,
           5.807,
           53.8,
           3.6526,
           4,
           277,
           18.6,
           390.94,
           16.03
          ]
         }
        },
        {
         "0": "22.5",
         "1": {
          "type": 1,
          "values": [
           0.05188,
           0,
           4.49,
           0,
           0.449,
           6.015,
           45.1,
           4.4272,
           3,
           247,
           18.5,
           395.99,
           12.86
          ]
         }
        },
        {
         "0": "22.5",
         "1": {
          "type": 1,
          "values": [
           0.06466,
           70,
           2.24,
           0,
           0.4,
           6.345,
           20.1,
           7.8278,
           5,
           358,
           14.8,
           368.24,
           4.97
          ]
         }
        },
        {
         "0": "22.6",
         "1": {
          "type": 1,
          "values": [
           0.04684,
           0,
           3.41,
           0,
           0.489,
           6.417,
           66.1,
           3.0923,
           2,
           270,
           17.8,
           392.18,
           8.81
          ]
         }
        },
        {
         "0": "22.6",
         "1": {
          "type": 1,
          "values": [
           0.08447,
           0,
           4.05,
           0,
           0.51,
           5.859,
           68.7,
           2.7019,
           5,
           296,
           16.6,
           393.23,
           9.64
          ]
         }
        },
        {
         "0": "22.6",
         "1": {
          "type": 1,
          "values": [
           0.13642,
           0,
           10.59,
           0,
           0.489,
           5.891,
           22.3,
           3.9454,
           4,
           277,
           18.6,
           396.9,
           10.87
          ]
         }
        },
        {
         "0": "22.7",
         "1": {
          "type": 1,
          "values": [
           2.24236,
           0,
           19.58,
           0,
           0.605,
           5.854,
           91.8,
           2.422,
           5,
           403,
           14.7,
           395.11,
           11.64
          ]
         }
        },
        {
         "0": "22.7",
         "1": {
          "type": 1,
          "values": [
           5.20177,
           0,
           18.1,
           1,
           0.77,
           6.127,
           83.4,
           2.7227,
           24,
           666,
           20.2,
           395.43,
           11.48
          ]
         }
        },
        {
         "0": "22.8",
         "1": {
          "type": 1,
          "values": [
           0.09164,
           0,
           10.81,
           0,
           0.413,
           6.065,
           7.8,
           5.2873,
           4,
           305,
           19.2,
           390.91,
           5.52
          ]
         }
        },
        {
         "0": "22.8",
         "1": {
          "type": 1,
          "values": [
           0.10084,
           0,
           10.01,
           0,
           0.547,
           6.715,
           81.6,
           2.6775,
           6,
           432,
           17.8,
           395.59,
           10.16
          ]
         }
        },
        {
         "0": "22.8",
         "1": {
          "type": 1,
          "values": [
           0.49298,
           0,
           9.9,
           0,
           0.544,
           6.635,
           82.5,
           3.3175,
           4,
           304,
           18.4,
           396.9,
           4.54
          ]
         }
        },
        {
         "0": "22.8",
         "1": {
          "type": 1,
          "values": [
           0.76162,
           20,
           3.97,
           0,
           0.647,
           5.56,
           62.8,
           1.9865,
           5,
           264,
           13,
           392.4,
           10.45
          ]
         }
        },
        {
         "0": "22.9",
         "1": {
          "type": 1,
          "values": [
           0.03551,
           25,
           4.86,
           0,
           0.426,
           6.167,
           46.7,
           5.4007,
           4,
           281,
           19,
           390.64,
           7.51
          ]
         }
        },
        {
         "0": "22.9",
         "1": {
          "type": 1,
          "values": [
           0.04203,
           28,
           15.04,
           0,
           0.464,
           6.442,
           53.6,
           3.6659,
           4,
           270,
           18.2,
           395.01,
           8.16
          ]
         }
        },
        {
         "0": "22.9",
         "1": {
          "type": 1,
          "values": [
           0.08829,
           12.5,
           7.87,
           0,
           0.524,
           6.012,
           66.6,
           5.5605,
           5,
           311,
           15.2,
           395.6,
           12.43
          ]
         }
        },
        {
         "0": "23.0",
         "1": {
          "type": 1,
          "values": [
           0.30347,
           0,
           7.38,
           0,
           0.493,
           6.312,
           28.9,
           5.4159,
           5,
           287,
           19.6,
           396.9,
           6.15
          ]
         }
        },
        {
         "0": "23.0",
         "1": {
          "type": 1,
          "values": [
           0.59005,
           0,
           21.89,
           0,
           0.624,
           6.372,
           97.9,
           2.3274,
           4,
           437,
           21.2,
           385.76,
           11.12
          ]
         }
        },
        {
         "0": "23.0",
         "1": {
          "type": 1,
          "values": [
           5.82401,
           0,
           18.1,
           0,
           0.532,
           6.242,
           64.7,
           3.4242,
           24,
           666,
           20.2,
           396.9,
           10.74
          ]
         }
        },
        {
         "0": "23.1",
         "1": {
          "type": 1,
          "values": [
           0.0187,
           85,
           4.15,
           0,
           0.429,
           6.516,
           27.7,
           8.5353,
           4,
           351,
           17.9,
           392.43,
           6.36
          ]
         }
        },
        {
         "0": "23.1",
         "1": {
          "type": 1,
          "values": [
           0.13914,
           0,
           4.05,
           0,
           0.51,
           5.572,
           88.5,
           2.5961,
           5,
           296,
           16.6,
           396.9,
           14.69
          ]
         }
        },
        {
         "0": "23.1",
         "1": {
          "type": 1,
          "values": [
           0.17899,
           0,
           9.69,
           0,
           0.585,
           5.67,
           28.8,
           2.7986,
           6,
           391,
           19.2,
           393.29,
           17.6
          ]
         }
        },
        {
         "0": "23.1",
         "1": {
          "type": 1,
          "values": [
           0.18159,
           0,
           7.38,
           0,
           0.493,
           6.376,
           54.3,
           4.5404,
           5,
           287,
           19.6,
           396.9,
           6.87
          ]
         }
        },
        {
         "0": "23.1",
         "1": {
          "type": 1,
          "values": [
           0.40202,
           0,
           9.9,
           0,
           0.544,
           6.382,
           67.2,
           3.5325,
           4,
           304,
           18.4,
           395.21,
           10.36
          ]
         }
        },
        {
         "0": "23.1",
         "1": {
          "type": 1,
          "values": [
           13.5222,
           0,
           18.1,
           0,
           0.631,
           3.863,
           100,
           1.5106,
           24,
           666,
           20.2,
           131.42,
           13.33
          ]
         }
        },
        {
         "0": "23.2",
         "1": {
          "type": 1,
          "values": [
           0.07022,
           0,
           4.05,
           0,
           0.51,
           6.02,
           47.2,
           3.5549,
           5,
           296,
           16.6,
           393.23,
           10.11
          ]
         }
        },
        {
         "0": "23.2",
         "1": {
          "type": 1,
          "values": [
           5.29305,
           0,
           18.1,
           0,
           0.7,
           6.051,
           82.5,
           2.1678,
           24,
           666,
           20.2,
           378.38,
           18.76
          ]
         }
        },
        {
         "0": "23.3",
         "1": {
          "type": 1,
          "values": [
           0.0456,
           0,
           13.89,
           1,
           0.55,
           5.888,
           56,
           3.1121,
           5,
           276,
           16.4,
           392.8,
           13.51
          ]
         }
        },
        {
         "0": "23.3",
         "1": {
          "type": 1,
          "values": [
           0.15445,
           25,
           5.13,
           0,
           0.453,
           6.145,
           29.2,
           7.8148,
           8,
           284,
           19.7,
           390.68,
           6.86
          ]
         }
        },
        {
         "0": "23.3",
         "1": {
          "type": 1,
          "values": [
           1.42502,
           0,
           19.58,
           0,
           0.871,
           6.51,
           100,
           1.7659,
           5,
           403,
           14.7,
           364.31,
           7.39
          ]
         }
        },
        {
         "0": "23.4",
         "1": {
          "type": 1,
          "values": [
           0.19539,
           0,
           10.81,
           0,
           0.413,
           6.245,
           6.2,
           5.2873,
           4,
           305,
           19.2,
           377.17,
           7.54
          ]
         }
        },
        {
         "0": "23.6",
         "1": {
          "type": 1,
          "values": [
           0.0566,
           0,
           3.41,
           0,
           0.489,
           7.007,
           86.3,
           3.4217,
           2,
           270,
           17.8,
           396.9,
           5.5
          ]
         }
        },
        {
         "0": "23.7",
         "1": {
          "type": 1,
          "values": [
           0.08244,
           30,
           4.93,
           0,
           0.428,
           6.481,
           18.5,
           6.1899,
           6,
           300,
           16.6,
           379.41,
           6.36
          ]
         }
        },
        {
         "0": "23.7",
         "1": {
          "type": 1,
          "values": [
           0.28955,
           0,
           10.59,
           0,
           0.489,
           5.412,
           9.8,
           3.5875,
           4,
           277,
           18.6,
           348.93,
           29.55
          ]
         }
        },
        {
         "0": "23.7",
         "1": {
          "type": 1,
          "values": [
           5.70818,
           0,
           18.1,
           0,
           0.532,
           6.75,
           74.9,
           3.3317,
           24,
           666,
           20.2,
           393.07,
           7.74
          ]
         }
        },
        {
         "0": "23.8",
         "1": {
          "type": 1,
          "values": [
           0.1676,
           0,
           7.38,
           0,
           0.493,
           6.426,
           52.3,
           4.5404,
           5,
           287,
           19.6,
           396.9,
           7.2
          ]
         }
        },
        {
         "0": "23.8",
         "1": {
          "type": 1,
          "values": [
           1.80028,
           0,
           19.58,
           0,
           0.605,
           5.877,
           79.2,
           2.4259,
           5,
           403,
           14.7,
           227.61,
           12.14
          ]
         }
        },
        {
         "0": "23.9",
         "1": {
          "type": 1,
          "values": [
           0.02543,
           55,
           3.78,
           0,
           0.484,
           6.696,
           56.4,
           5.7321,
           5,
           370,
           17.6,
           396.9,
           7.18
          ]
         }
        },
        {
         "0": "23.9",
         "1": {
          "type": 1,
          "values": [
           0.04462,
           25,
           4.86,
           0,
           0.426,
           6.619,
           70.4,
           5.4007,
           4,
           281,
           19,
           395.63,
           7.22
          ]
         }
        },
        {
         "0": "23.9",
         "1": {
          "type": 1,
          "values": [
           0.05059,
           0,
           4.49,
           0,
           0.449,
           6.389,
           48,
           4.7794,
           3,
           247,
           18.5,
           396.9,
           9.62
          ]
         }
        },
        {
         "0": "23.9",
         "1": {
          "type": 1,
          "values": [
           0.06076,
           0,
           11.93,
           0,
           0.573,
           6.976,
           91,
           2.1675,
           1,
           273,
           21,
           396.9,
           5.64
          ]
         }
        },
        {
         "0": "24.0",
         "1": {
          "type": 1,
          "values": [
           0.00632,
           18,
           2.31,
           0,
           0.538,
           6.575,
           65.2,
           4.09,
           1,
           296,
           15.3,
           396.9,
           4.98
          ]
         }
        },
        {
         "0": "24.0",
         "1": {
          "type": 1,
          "values": [
           0.33045,
           0,
           6.2,
           0,
           0.507,
           6.086,
           61.5,
           3.6519,
           8,
           307,
           17.4,
           376.75,
           10.88
          ]
         }
        },
        {
         "0": "24.1",
         "1": {
          "type": 1,
          "values": [
           0.03445,
           82.5,
           2.03,
           0,
           0.415,
           6.162,
           38.4,
           6.27,
           2,
           348,
           14.7,
           393.77,
           7.43
          ]
         }
        },
        {
         "0": "24.1",
         "1": {
          "type": 1,
          "values": [
           0.07896,
           0,
           12.83,
           0,
           0.437,
           6.273,
           6,
           4.2515,
           5,
           398,
           18.7,
           394.92,
           6.78
          ]
         }
        },
        {
         "0": "24.1",
         "1": {
          "type": 1,
          "values": [
           0.0795,
           60,
           1.69,
           0,
           0.411,
           6.579,
           35.9,
           10.7103,
           4,
           411,
           18.3,
           370.78,
           5.49
          ]
         }
        },
        {
         "0": "24.2",
         "1": {
          "type": 1,
          "values": [
           0.08826,
           0,
           10.81,
           0,
           0.413,
           6.417,
           6.6,
           5.2873,
           4,
           305,
           19.2,
           383.73,
           6.72
          ]
         }
        },
        {
         "0": "24.3",
         "1": {
          "type": 1,
          "values": [
           0.33983,
           22,
           5.86,
           0,
           0.431,
           6.108,
           34.9,
           8.0555,
           7,
           330,
           19.1,
           390.18,
           9.16
          ]
         }
        },
        {
         "0": "24.3",
         "1": {
          "type": 1,
          "values": [
           0.537,
           0,
           6.2,
           0,
           0.504,
           5.981,
           68.1,
           3.6715,
           8,
           307,
           17.4,
           378.35,
           11.65
          ]
         }
        },
        {
         "0": "24.3",
         "1": {
          "type": 1,
          "values": [
           1.34284,
           0,
           19.58,
           0,
           0.605,
           6.066,
           100,
           1.7573,
           5,
           403,
           14.7,
           353.89,
           6.43
          ]
         }
        },
        {
         "0": "24.4",
         "1": {
          "type": 1,
          "values": [
           0.13587,
           0,
           10.59,
           1,
           0.489,
           6.064,
           59.1,
           4.2392,
           4,
           277,
           18.6,
           381.32,
           14.66
          ]
         }
        },
        {
         "0": "24.4",
         "1": {
          "type": 1,
          "values": [
           0.1403,
           22,
           5.86,
           0,
           0.431,
           6.487,
           13,
           7.3967,
           7,
           330,
           19.1,
           396.28,
           5.9
          ]
         }
        },
        {
         "0": "24.5",
         "1": {
          "type": 1,
          "values": [
           0.16439,
           22,
           5.86,
           0,
           0.431,
           6.433,
           49.1,
           7.8265,
           7,
           330,
           19.1,
           374.71,
           9.52
          ]
         }
        },
        {
         "0": "24.5",
         "1": {
          "type": 1,
          "values": [
           0.27957,
           0,
           9.69,
           0,
           0.585,
           5.926,
           42.6,
           2.3817,
           6,
           391,
           19.2,
           396.9,
           13.59
          ]
         }
        },
        {
         "0": "24.6",
         "1": {
          "type": 1,
          "values": [
           0.05425,
           0,
           4.05,
           0,
           0.51,
           6.315,
           73.4,
           3.3175,
           5,
           296,
           16.6,
           395.6,
           6.29
          ]
         }
        },
        {
         "0": "24.7",
         "1": {
          "type": 1,
          "values": [
           0.02055,
           85,
           0.74,
           0,
           0.41,
           6.383,
           35.7,
           9.1876,
           2,
           313,
           17.3,
           396.9,
           5.77
          ]
         }
        },
        {
         "0": "24.7",
         "1": {
          "type": 1,
          "values": [
           0.17505,
           0,
           5.96,
           0,
           0.499,
           5.966,
           30.2,
           3.8473,
           5,
           279,
           19.2,
           393.43,
           10.13
          ]
         }
        },
        {
         "0": "24.8",
         "1": {
          "type": 1,
          "values": [
           0.03659,
           25,
           4.86,
           0,
           0.426,
           6.302,
           32.2,
           5.4007,
           4,
           281,
           19,
           396.9,
           6.72
          ]
         }
        },
        {
         "0": "24.8",
         "1": {
          "type": 1,
          "values": [
           0.04297,
           52.5,
           5.32,
           0,
           0.405,
           6.565,
           22.9,
           7.3172,
           6,
           293,
           16.6,
           371.72,
           9.51
          ]
         }
        },
        {
         "0": "24.8",
         "1": {
          "type": 1,
          "values": [
           0.04417,
           70,
           2.24,
           0,
           0.4,
           6.871,
           47.4,
           7.8278,
           5,
           358,
           14.8,
           390.86,
           6.07
          ]
         }
        },
        {
         "0": "24.8",
         "1": {
          "type": 1,
          "values": [
           0.21409,
           22,
           5.86,
           0,
           0.431,
           6.438,
           8.9,
           7.3967,
           7,
           330,
           19.1,
           377.07,
           3.59
          ]
         }
        },
        {
         "0": "25.0",
         "1": {
          "type": 1,
          "values": [
           0.02875,
           28,
           15.04,
           0,
           0.464,
           6.211,
           28.9,
           3.6659,
           4,
           270,
           18.2,
           396.33,
           6.21
          ]
         }
        },
        {
         "0": "25.0",
         "1": {
          "type": 1,
          "values": [
           0.0536,
           21,
           5.64,
           0,
           0.439,
           6.511,
           21.1,
           6.8147,
           4,
           243,
           16.8,
           396.9,
           5.28
          ]
         }
        },
        {
         "0": "25.0",
         "1": {
          "type": 1,
          "values": [
           0.19802,
           0,
           10.59,
           0,
           0.489,
           6.182,
           42.4,
           3.9454,
           4,
           277,
           18.6,
           393.63,
           9.47
          ]
         }
        },
        {
         "0": "25.0",
         "1": {
          "type": 1,
          "values": [
           0.34109,
           0,
           7.38,
           0,
           0.493,
           6.415,
           40.1,
           4.7211,
           5,
           287,
           19.6,
           396.9,
           6.12
          ]
         }
        },
        {
         "0": "25.0",
         "1": {
          "type": 1,
          "values": [
           2.924,
           0,
           19.58,
           0,
           0.605,
           6.101,
           93,
           2.2834,
           5,
           403,
           14.7,
           240.16,
           9.81
          ]
         }
        },
        {
         "0": "25.0",
         "1": {
          "type": 1,
          "values": [
           4.54192,
           0,
           18.1,
           0,
           0.77,
           6.398,
           88,
           2.5182,
           24,
           666,
           20.2,
           374.56,
           7.79
          ]
         }
        },
        {
         "0": "25.0",
         "1": {
          "type": 1,
          "values": [
           5.73116,
           0,
           18.1,
           0,
           0.532,
           7.061,
           77,
           3.4106,
           24,
           666,
           20.2,
           395.28,
           7.01
          ]
         }
        },
        {
         "0": "25.3",
         "1": {
          "type": 1,
          "values": [
           0.1415,
           0,
           6.91,
           0,
           0.448,
           6.169,
           6.6,
           5.7209,
           3,
           233,
           17.9,
           383.37,
           5.81
          ]
         }
        },
        {
         "0": "26.2",
         "1": {
          "type": 1,
          "values": [
           0.19073,
           22,
           5.86,
           0,
           0.431,
           6.718,
           17.5,
           7.8265,
           7,
           330,
           19.1,
           393.74,
           6.56
          ]
         }
        },
        {
         "0": "26.4",
         "1": {
          "type": 1,
          "values": [
           0.08308,
           0,
           2.46,
           0,
           0.488,
           5.604,
           89.8,
           2.9879,
           3,
           193,
           17.8,
           391,
           13.98
          ]
         }
        },
        {
         "0": "26.4",
         "1": {
          "type": 1,
          "values": [
           0.09266,
           34,
           6.09,
           0,
           0.433,
           6.495,
           18.4,
           5.4917,
           7,
           329,
           16.1,
           383.61,
           8.67
          ]
         }
        },
        {
         "0": "26.6",
         "1": {
          "type": 1,
          "values": [
           0.02899,
           40,
           1.25,
           0,
           0.429,
           6.939,
           34.5,
           8.7921,
           1,
           335,
           19.7,
           389.85,
           5.89
          ]
         }
        },
        {
         "0": "26.6",
         "1": {
          "type": 1,
          "values": [
           0.05735,
           0,
           4.49,
           0,
           0.449,
           6.63,
           56.1,
           4.4377,
           3,
           247,
           18.5,
           392.3,
           6.53
          ]
         }
        },
        {
         "0": "26.6",
         "1": {
          "type": 1,
          "values": [
           0.12744,
           0,
           6.91,
           0,
           0.448,
           6.77,
           2.9,
           5.7209,
           3,
           233,
           17.9,
           385.41,
           4.84
          ]
         }
        },
        {
         "0": "27.0",
         "1": {
          "type": 1,
          "values": [
           1.27346,
           0,
           19.58,
           1,
           0.605,
           6.25,
           92.6,
           1.7984,
           5,
           403,
           14.7,
           338.92,
           5.5
          ]
         }
        },
        {
         "0": "27.1",
         "1": {
          "type": 1,
          "values": [
           0.05372,
           0,
           13.92,
           0,
           0.437,
           6.549,
           51,
           5.9604,
           4,
           289,
           16,
           392.85,
           7.39
          ]
         }
        },
        {
         "0": "27.1",
         "1": {
          "type": 1,
          "values": [
           0.14455,
           12.5,
           7.87,
           0,
           0.524,
           6.172,
           96.1,
           5.9505,
           5,
           311,
           15.2,
           396.9,
           19.15
          ]
         }
        },
        {
         "0": "27.5",
         "1": {
          "type": 1,
          "values": [
           14.4383,
           0,
           18.1,
           0,
           0.597,
           6.852,
           100,
           1.4655,
           24,
           666,
           20.2,
           179.36,
           19.78
          ]
         }
        },
        {
         "0": "27.9",
         "1": {
          "type": 1,
          "values": [
           0.03615,
           80,
           4.95,
           0,
           0.411,
           6.63,
           23.4,
           5.1167,
           4,
           245,
           19.2,
           396.9,
           4.7
          ]
         }
        },
        {
         "0": "28.1",
         "1": {
          "type": 1,
          "values": [
           0.14052,
           0,
           10.59,
           0,
           0.489,
           6.375,
           32.3,
           3.9454,
           4,
           277,
           18.6,
           385.81,
           9.38
          ]
         }
        },
        {
         "0": "28.2",
         "1": {
          "type": 1,
          "values": [
           0.04932,
           33,
           2.18,
           0,
           0.472,
           6.849,
           70.3,
           3.1827,
           7,
           222,
           18.4,
           396.9,
           7.53
          ]
         }
        },
        {
         "0": "28.4",
         "1": {
          "type": 1,
          "values": [
           0.05479,
           33,
           2.18,
           0,
           0.472,
           6.616,
           58.1,
           3.37,
           7,
           222,
           18.4,
           393.36,
           8.93
          ]
         }
        },
        {
         "0": "28.4",
         "1": {
          "type": 1,
          "values": [
           0.12204,
           0,
           2.89,
           0,
           0.445,
           6.625,
           57.8,
           3.4952,
           2,
           276,
           18,
           357.98,
           6.65
          ]
         }
        },
        {
         "0": "28.5",
         "1": {
          "type": 1,
          "values": [
           0.03502,
           80,
           4.95,
           0,
           0.411,
           6.861,
           27.9,
           5.1167,
           4,
           245,
           19.2,
           396.9,
           3.33
          ]
         }
        },
        {
         "0": "28.6",
         "1": {
          "type": 1,
          "values": [
           0.12932,
           0,
           13.92,
           0,
           0.437,
           6.678,
           31.1,
           5.9604,
           4,
           289,
           16,
           396.9,
           6.27
          ]
         }
        },
        {
         "0": "28.7",
         "1": {
          "type": 1,
          "values": [
           0.05302,
           0,
           3.41,
           0,
           0.489,
           7.079,
           63.1,
           3.4145,
           2,
           270,
           17.8,
           396.06,
           5.7
          ]
         }
        },
        {
         "0": "28.7",
         "1": {
          "type": 1,
          "values": [
           0.07013,
           0,
           13.89,
           0,
           0.55,
           6.642,
           85.1,
           3.4211,
           5,
           276,
           16.4,
           392.78,
           9.69
          ]
         }
        },
        {
         "0": "29.0",
         "1": {
          "type": 1,
          "values": [
           0.44791,
           0,
           6.2,
           1,
           0.507,
           6.726,
           66.5,
           3.6519,
           8,
           307,
           17.4,
           360.2,
           8.05
          ]
         }
        },
        {
         "0": "29.1",
         "1": {
          "type": 1,
          "values": [
           0.01439,
           60,
           2.93,
           0,
           0.401,
           6.604,
           18.8,
           6.2196,
           1,
           265,
           15.6,
           376.7,
           4.38
          ]
         }
        },
        {
         "0": "29.1",
         "1": {
          "type": 1,
          "values": [
           0.07978,
           40,
           6.41,
           0,
           0.447,
           6.482,
           32.1,
           4.1403,
           4,
           254,
           17.6,
           396.9,
           7.19
          ]
         }
        },
        {
         "0": "29.6",
         "1": {
          "type": 1,
          "values": [
           0.08221,
           22,
           5.86,
           0,
           0.431,
           6.957,
           6.8,
           8.9067,
           7,
           330,
           19.1,
           386.09,
           3.53
          ]
         }
        },
        {
         "0": "29.8",
         "1": {
          "type": 1,
          "values": [
           4.64689,
           0,
           18.1,
           0,
           0.614,
           6.98,
           67.6,
           2.5329,
           24,
           666,
           20.2,
           374.68,
           11.66
          ]
         }
        },
        {
         "0": "29.9",
         "1": {
          "type": 1,
          "values": [
           0.06642,
           0,
           4.05,
           0,
           0.51,
           6.86,
           74.4,
           2.9153,
           5,
           296,
           16.6,
           391.27,
           6.92
          ]
         }
        },
        {
         "0": "30.1",
         "1": {
          "type": 1,
          "values": [
           0.01709,
           90,
           2.02,
           0,
           0.41,
           6.728,
           36.1,
           12.1265,
           5,
           187,
           17,
           384.46,
           4.5
          ]
         }
        },
        {
         "0": "30.1",
         "1": {
          "type": 1,
          "values": [
           0.65665,
           20,
           3.97,
           0,
           0.647,
           6.842,
           100,
           2.0107,
           5,
           264,
           13,
           391.93,
           6.9
          ]
         }
        },
        {
         "0": "30.3",
         "1": {
          "type": 1,
          "values": [
           0.04666,
           80,
           1.52,
           0,
           0.404,
           7.107,
           36.6,
           7.309,
           2,
           329,
           12.6,
           354.31,
           8.61
          ]
         }
        },
        {
         "0": "30.8",
         "1": {
          "type": 1,
          "values": [
           0.02763,
           75,
           2.95,
           0,
           0.428,
           6.595,
           21.8,
           5.4011,
           3,
           252,
           18.3,
           395.63,
           4.32
          ]
         }
        },
        {
         "0": "31.0",
         "1": {
          "type": 1,
          "values": [
           0.82526,
           20,
           3.97,
           0,
           0.647,
           7.327,
           94.5,
           2.0788,
           5,
           264,
           13,
           393.42,
           11.25
          ]
         }
        },
        {
         "0": "31.1",
         "1": {
          "type": 1,
          "values": [
           0.02187,
           60,
           2.93,
           0,
           0.401,
           6.8,
           9.9,
           6.2196,
           1,
           265,
           15.6,
           393.37,
           5.03
          ]
         }
        },
        {
         "0": "31.2",
         "1": {
          "type": 1,
          "values": [
           0.03049,
           55,
           3.78,
           0,
           0.484,
           6.874,
           28.1,
           6.4654,
           5,
           370,
           17.6,
           387.97,
           4.61
          ]
         }
        },
        {
         "0": "31.5",
         "1": {
          "type": 1,
          "values": [
           0.51183,
           0,
           6.2,
           0,
           0.507,
           7.358,
           71.6,
           4.148,
           8,
           307,
           17.4,
           390.07,
           4.73
          ]
         }
        },
        {
         "0": "31.6",
         "1": {
          "type": 1,
          "values": [
           0.01432,
           100,
           1.32,
           0,
           0.411,
           6.816,
           40.5,
           8.3248,
           5,
           256,
           15.1,
           392.9,
           3.95
          ]
         }
        },
        {
         "0": "31.7",
         "1": {
          "type": 1,
          "values": [
           0.46296,
           0,
           6.2,
           0,
           0.504,
           7.412,
           76.9,
           3.6715,
           8,
           307,
           17.4,
           376.14,
           5.25
          ]
         }
        },
        {
         "0": "32.0",
         "1": {
          "type": 1,
          "values": [
           0.07875,
           45,
           3.44,
           0,
           0.437,
           6.782,
           41.1,
           3.7886,
           5,
           398,
           15.2,
           393.87,
           6.68
          ]
         }
        },
        {
         "0": "32.0",
         "1": {
          "type": 1,
          "values": [
           0.09604,
           40,
           6.41,
           0,
           0.447,
           6.854,
           42.8,
           4.2673,
           4,
           254,
           17.6,
           396.9,
           2.98
          ]
         }
        },
        {
         "0": "32.2",
         "1": {
          "type": 1,
          "values": [
           0.00906,
           90,
           2.97,
           0,
           0.4,
           7.088,
           20.8,
           7.3073,
           1,
           285,
           15.3,
           394.72,
           7.85
          ]
         }
        },
        {
         "0": "32.4",
         "1": {
          "type": 1,
          "values": [
           0.05644,
           40,
           6.41,
           1,
           0.447,
           6.758,
           32.9,
           4.0776,
           4,
           254,
           17.6,
           396.9,
           3.53
          ]
         }
        },
        {
         "0": "32.5",
         "1": {
          "type": 1,
          "values": [
           0.10008,
           0,
           2.46,
           0,
           0.488,
           6.563,
           95.6,
           2.847,
           3,
           193,
           17.8,
           396.9,
           5.68
          ]
         }
        },
        {
         "0": "32.7",
         "1": {
          "type": 1,
          "values": [
           0.01301,
           35,
           1.52,
           0,
           0.442,
           7.241,
           49.3,
           7.0379,
           1,
           284,
           15.5,
           394.74,
           5.49
          ]
         }
        },
        {
         "0": "33.0",
         "1": {
          "type": 1,
          "values": [
           0.01951,
           17.5,
           1.38,
           0,
           0.4161,
           7.104,
           59.5,
           9.2229,
           3,
           216,
           18.6,
           393.24,
           8.05
          ]
         }
        },
        {
         "0": "33.1",
         "1": {
          "type": 1,
          "values": [
           0.1,
           34,
           6.09,
           0,
           0.433,
           6.982,
           17.7,
           5.4917,
           7,
           329,
           16.1,
           390.43,
           4.86
          ]
         }
        },
        {
         "0": "33.2",
         "1": {
          "type": 1,
          "values": [
           0.10469,
           40,
           6.41,
           1,
           0.447,
           7.267,
           49,
           4.7872,
           4,
           254,
           17.6,
           389.25,
           6.05
          ]
         }
        },
        {
         "0": "33.3",
         "1": {
          "type": 1,
          "values": [
           0.04011,
           80,
           1.52,
           0,
           0.404,
           7.287,
           34.1,
           7.309,
           2,
           329,
           12.6,
           396.9,
           4.08
          ]
         }
        },
        {
         "0": "33.4",
         "1": {
          "type": 1,
          "values": [
           0.07503,
           33,
           2.18,
           0,
           0.472,
           7.42,
           71.9,
           3.0992,
           7,
           222,
           18.4,
           396.9,
           6.47
          ]
         }
        },
        {
         "0": "33.8",
         "1": {
          "type": 1,
          "values": [
           0.54011,
           20,
           3.97,
           0,
           0.647,
           7.203,
           81.8,
           2.1121,
           5,
           264,
           13,
           392.8,
           9.59
          ]
         }
        },
        {
         "0": "34.6",
         "1": {
          "type": 1,
          "values": [
           0.03768,
           80,
           1.52,
           0,
           0.404,
           7.274,
           38.3,
           7.309,
           2,
           329,
           12.6,
           392.2,
           6.62
          ]
         }
        },
        {
         "0": "34.9",
         "1": {
          "type": 1,
          "values": [
           0.0315,
           95,
           1.47,
           0,
           0.403,
           6.975,
           15.3,
           7.6534,
           3,
           402,
           17,
           396.9,
           4.56
          ]
         }
        },
        {
         "0": "34.9",
         "1": {
          "type": 1,
          "values": [
           0.03359,
           75,
           2.95,
           0,
           0.428,
           7.024,
           15.8,
           5.4011,
           3,
           252,
           18.3,
           395.62,
           1.98
          ]
         }
        },
        {
         "0": "34.9",
         "1": {
          "type": 1,
          "values": [
           0.0837,
           45,
           3.44,
           0,
           0.437,
           7.185,
           38.9,
           4.5667,
           5,
           398,
           15.2,
           396.9,
           5.39
          ]
         }
        },
        {
         "0": "35.4",
         "1": {
          "type": 1,
          "values": [
           0.03705,
           20,
           3.33,
           0,
           0.4429,
           6.968,
           37.2,
           5.2447,
           5,
           216,
           14.9,
           392.23,
           4.59
          ]
         }
        },
        {
         "0": "36.0",
         "1": {
          "type": 1,
          "values": [
           0.66351,
           20,
           3.97,
           0,
           0.647,
           7.333,
           100,
           1.8946,
           5,
           264,
           13,
           383.29,
           7.79
          ]
         }
        },
        {
         "0": "36.2",
         "1": {
          "type": 1,
          "values": [
           0.06888,
           0,
           2.46,
           0,
           0.488,
           6.144,
           62.2,
           2.5979,
           3,
           193,
           17.8,
           396.9,
           9.45
          ]
         }
        },
        {
         "0": "36.2",
         "1": {
          "type": 1,
          "values": [
           0.06905,
           0,
           2.18,
           0,
           0.458,
           7.147,
           54.2,
           6.0622,
           3,
           222,
           18.7,
           396.9,
           5.33
          ]
         }
        },
        {
         "0": "36.4",
         "1": {
          "type": 1,
          "values": [
           0.08664,
           45,
           3.44,
           0,
           0.437,
           7.178,
           26.3,
           6.4798,
           5,
           398,
           15.2,
           390.49,
           2.87
          ]
         }
        },
        {
         "0": "36.5",
         "1": {
          "type": 1,
          "values": [
           0.55007,
           20,
           3.97,
           0,
           0.647,
           7.206,
           91.6,
           1.9301,
           5,
           264,
           13,
           387.89,
           8.1
          ]
         }
        },
        {
         "0": "37.0",
         "1": {
          "type": 1,
          "values": [
           0.09068,
           45,
           3.44,
           0,
           0.437,
           6.951,
           21.5,
           6.4798,
           5,
           398,
           15.2,
           377.68,
           5.1
          ]
         }
        },
        {
         "0": "37.2",
         "1": {
          "type": 1,
          "values": [
           0.0578,
           0,
           2.46,
           0,
           0.488,
           6.98,
           58.4,
           2.829,
           3,
           193,
           17.8,
           396.9,
           5.04
          ]
         }
        },
        {
         "0": "37.3",
         "1": {
          "type": 1,
          "values": [
           0.07886,
           80,
           4.95,
           0,
           0.411,
           7.148,
           27.7,
           5.1167,
           4,
           245,
           19.2,
           396.9,
           3.56
          ]
         }
        },
        {
         "0": "37.9",
         "1": {
          "type": 1,
          "values": [
           0.09103,
           0,
           2.46,
           0,
           0.488,
           7.155,
           92.2,
           2.7006,
           3,
           193,
           17.8,
           394.12,
           4.82
          ]
         }
        },
        {
         "0": "39.8",
         "1": {
          "type": 1,
          "values": [
           0.06588,
           0,
           2.46,
           0,
           0.488,
           7.765,
           83.3,
           2.741,
           3,
           193,
           17.8,
           395.56,
           7.56
          ]
         }
        },
        {
         "0": "41.3",
         "1": {
          "type": 1,
          "values": [
           1.22358,
           0,
           19.58,
           0,
           0.605,
           6.943,
           97.4,
           1.8773,
           5,
           403,
           14.7,
           363.43,
           4.59
          ]
         }
        },
        {
         "0": "42.3",
         "1": {
          "type": 1,
          "values": [
           0.02177,
           82.5,
           2.03,
           0,
           0.415,
           7.61,
           15.7,
           6.27,
           2,
           348,
           14.7,
           395.38,
           3.11
          ]
         }
        },
        {
         "0": "42.8",
         "1": {
          "type": 1,
          "values": [
           0.36894,
           22,
           5.86,
           0,
           0.431,
           8.259,
           8.4,
           8.9067,
           7,
           330,
           19.1,
           396.9,
           3.54
          ]
         }
        },
        {
         "0": "43.5",
         "1": {
          "type": 1,
          "values": [
           0.5405,
           20,
           3.97,
           0,
           0.575,
           7.47,
           52.6,
           2.872,
           5,
           264,
           13,
           390.3,
           3.16
          ]
         }
        },
        {
         "0": "43.8",
         "1": {
          "type": 1,
          "values": [
           0.08187,
           0,
           2.89,
           0,
           0.445,
           7.82,
           36.9,
           3.4952,
           2,
           276,
           18,
           393.53,
           3.57
          ]
         }
        },
        {
         "0": "44.0",
         "1": {
          "type": 1,
          "values": [
           0.01538,
           90,
           3.75,
           0,
           0.394,
           7.454,
           34.2,
           6.3361,
           3,
           244,
           15.9,
           386.34,
           3.11
          ]
         }
        },
        {
         "0": "44.8",
         "1": {
          "type": 1,
          "values": [
           0.31533,
           0,
           6.2,
           0,
           0.504,
           8.266,
           78.3,
           2.8944,
           8,
           307,
           17.4,
           385.05,
           4.14
          ]
         }
        },
        {
         "0": "46.0",
         "1": {
          "type": 1,
          "values": [
           0.06129,
           20,
           3.33,
           1,
           0.4429,
           7.645,
           49.7,
           5.2119,
           5,
           216,
           14.9,
           377.07,
           3.01
          ]
         }
        },
        {
         "0": "46.7",
         "1": {
          "type": 1,
          "values": [
           0.29819,
           0,
           6.2,
           0,
           0.504,
           7.686,
           17,
           3.3751,
           8,
           307,
           17.4,
           377.51,
           3.92
          ]
         }
        },
        {
         "0": "48.3",
         "1": {
          "type": 1,
          "values": [
           0.33147,
           0,
           6.2,
           0,
           0.507,
           8.247,
           70.4,
           3.6519,
           8,
           307,
           17.4,
           378.95,
           3.95
          ]
         }
        },
        {
         "0": "48.5",
         "1": {
          "type": 1,
          "values": [
           0.0351,
           95,
           2.68,
           0,
           0.4161,
           7.853,
           33.2,
           5.118,
           4,
           224,
           14.7,
           392.78,
           3.81
          ]
         }
        },
        {
         "0": "50.0",
         "1": {
          "type": 1,
          "values": [
           0.01381,
           80,
           0.46,
           0,
           0.422,
           7.875,
           32,
           5.6484,
           4,
           255,
           14.4,
           394.23,
           2.97
          ]
         }
        },
        {
         "0": "50.0",
         "1": {
          "type": 1,
          "values": [
           0.01501,
           90,
           1.21,
           1,
           0.401,
           7.923,
           24.8,
           5.885,
           1,
           198,
           13.6,
           395.52,
           3.16
          ]
         }
        },
        {
         "0": "50.0",
         "1": {
          "type": 1,
          "values": [
           0.02009,
           95,
           2.68,
           0,
           0.4161,
           8.034,
           31.9,
           5.118,
           4,
           224,
           14.7,
           390.55,
           2.88
          ]
         }
        },
        {
         "0": "50.0",
         "1": {
          "type": 1,
          "values": [
           0.05602,
           0,
           2.46,
           0,
           0.488,
           7.831,
           53.6,
           3.1992,
           3,
           193,
           17.8,
           392.63,
           4.45
          ]
         }
        },
        {
         "0": "50.0",
         "1": {
          "type": 1,
          "values": [
           0.52693,
           0,
           6.2,
           0,
           0.504,
           8.725,
           83,
           2.8944,
           8,
           307,
           17.4,
           382,
           4.63
          ]
         }
        },
        {
         "0": "50.0",
         "1": {
          "type": 1,
          "values": [
           0.57834,
           20,
           3.97,
           0,
           0.575,
           8.297,
           67,
           2.4216,
           5,
           264,
           13,
           384.54,
           7.44
          ]
         }
        },
        {
         "0": "50.0",
         "1": {
          "type": 1,
          "values": [
           1.46336,
           0,
           19.58,
           0,
           0.605,
           7.489,
           90.8,
           1.9709,
           5,
           403,
           14.7,
           374.43,
           1.73
          ]
         }
        },
        {
         "0": "50.0",
         "1": {
          "type": 1,
          "values": [
           1.51902,
           0,
           19.58,
           1,
           0.605,
           8.375,
           93.9,
           2.162,
           5,
           403,
           14.7,
           388.45,
           3.32
          ]
         }
        },
        {
         "0": "50.0",
         "1": {
          "type": 1,
          "values": [
           1.83377,
           0,
           19.58,
           1,
           0.605,
           7.802,
           98.2,
           2.0407,
           5,
           403,
           14.7,
           389.61,
           1.92
          ]
         }
        },
        {
         "0": "50.0",
         "1": {
          "type": 1,
          "values": [
           2.01019,
           0,
           19.58,
           0,
           0.605,
           7.929,
           96.2,
           2.0459,
           5,
           403,
           14.7,
           369.3,
           3.7
          ]
         }
        },
        {
         "0": "50.0",
         "1": {
          "type": 1,
          "values": [
           4.89822,
           0,
           18.1,
           0,
           0.631,
           4.97,
           100,
           1.3325,
           24,
           666,
           20.2,
           375.52,
           3.26
          ]
         }
        },
        {
         "0": "50.0",
         "1": {
          "type": 1,
          "values": [
           5.66998,
           0,
           18.1,
           1,
           0.631,
           6.683,
           96.8,
           1.3567,
           24,
           666,
           20.2,
           375.33,
           3.73
          ]
         }
        },
        {
         "0": "50.0",
         "1": {
          "type": 1,
          "values": [
           9.2323,
           0,
           18.1,
           0,
           0.631,
           6.216,
           100,
           1.1691,
           24,
           666,
           20.2,
           366.15,
           9.53
          ]
         }
        }
       ],
       "schema": [
        {
         "key": "0",
         "name": "target",
         "type": "double"
        },
        {
         "key": "1",
         "name": "features",
         "type": "org.apache.spark.ml.linalg.VectorUDT@3bfc3ba7"
        }
       ],
       "truncated": false
      }
     },
     "type": "Synapse.DataFrame"
    },
    "d174f99e-a9a4-49c1-a6e8-cba1ee229a6f": {
     "persist_state": {
      "view": {
       "chartOptions": {
        "aggregationType": "sum",
        "categoryFieldKeys": [
         "4"
        ],
        "chartType": "bar",
        "isStacked": false,
        "seriesFieldKeys": [
         "0"
        ]
       },
       "tableOptions": {},
       "type": "details"
      }
     },
     "sync_state": {
      "isSummary": false,
      "language": "scala",
      "table": {
       "rows": [
        {
         "0": "13.2",
         "1": "1.38799",
         "2": "0.0",
         "3": "8.14",
         "4": "0.0",
         "5": "0.538",
         "6": "5.95",
         "7": "82.0",
         "8": "3.99",
         "9": "4.0",
         "10": "307.0",
         "11": "21.0",
         "12": "232.6",
         "13": "27.71"
        },
        {
         "0": "13.1",
         "1": "1.15172",
         "2": "0.0",
         "3": "8.14",
         "4": "0.0",
         "5": "0.538",
         "6": "5.701",
         "7": "95.0",
         "8": "3.7872",
         "9": "4.0",
         "10": "307.0",
         "11": "21.0",
         "12": "358.77",
         "13": "18.35"
        },
        {
         "0": "13.5",
         "1": "1.61282",
         "2": "0.0",
         "3": "8.14",
         "4": "0.0",
         "5": "0.538",
         "6": "6.096",
         "7": "96.9",
         "8": "3.7598",
         "9": "4.0",
         "10": "307.0",
         "11": "21.0",
         "12": "248.31",
         "13": "20.34"
        },
        {
         "0": "18.9",
         "1": "0.06417",
         "2": "0.0",
         "3": "5.96",
         "4": "0.0",
         "5": "0.499",
         "6": "5.933",
         "7": "68.2",
         "8": "3.3603",
         "9": "5.0",
         "10": "279.0",
         "11": "19.2",
         "12": "396.9",
         "13": "9.68"
        },
        {
         "0": "20.0",
         "1": "0.09744",
         "2": "0.0",
         "3": "5.96",
         "4": "0.0",
         "5": "0.499",
         "6": "5.841",
         "7": "61.4",
         "8": "3.3779",
         "9": "5.0",
         "10": "279.0",
         "11": "19.2",
         "12": "377.56",
         "13": "11.41"
        },
        {
         "0": "21.0",
         "1": "0.08014",
         "2": "0.0",
         "3": "5.96",
         "4": "0.0",
         "5": "0.499",
         "6": "5.85",
         "7": "41.5",
         "8": "3.9342",
         "9": "5.0",
         "10": "279.0",
         "11": "19.2",
         "12": "396.9",
         "13": "8.77"
        },
        {
         "0": "24.7",
         "1": "0.17505",
         "2": "0.0",
         "3": "5.96",
         "4": "0.0",
         "5": "0.499",
         "6": "5.966",
         "7": "30.2",
         "8": "3.8473",
         "9": "5.0",
         "10": "279.0",
         "11": "19.2",
         "12": "393.43",
         "13": "10.13"
        },
        {
         "0": "30.8",
         "1": "0.02763",
         "2": "75.0",
         "3": "2.95",
         "4": "0.0",
         "5": "0.428",
         "6": "6.595",
         "7": "21.8",
         "8": "5.4011",
         "9": "3.0",
         "10": "252.0",
         "11": "18.3",
         "12": "395.63",
         "13": "4.32"
        },
        {
         "0": "34.9",
         "1": "0.03359",
         "2": "75.0",
         "3": "2.95",
         "4": "0.0",
         "5": "0.428",
         "6": "7.024",
         "7": "15.8",
         "8": "5.4011",
         "9": "3.0",
         "10": "252.0",
         "11": "18.3",
         "12": "395.62",
         "13": "1.98"
        },
        {
         "0": "26.6",
         "1": "0.12744",
         "2": "0.0",
         "3": "6.91",
         "4": "0.0",
         "5": "0.448",
         "6": "6.77",
         "7": "2.9",
         "8": "5.7209",
         "9": "3.0",
         "10": "233.0",
         "11": "17.9",
         "12": "385.41",
         "13": "4.84"
        },
        {
         "0": "25.3",
         "1": "0.1415",
         "2": "0.0",
         "3": "6.91",
         "4": "0.0",
         "5": "0.448",
         "6": "6.169",
         "7": "6.6",
         "8": "5.7209",
         "9": "3.0",
         "10": "233.0",
         "11": "17.9",
         "12": "383.37",
         "13": "5.81"
        },
        {
         "0": "24.7",
         "1": "0.15936",
         "2": "0.0",
         "3": "6.91",
         "4": "0.0",
         "5": "0.448",
         "6": "6.211",
         "7": "6.5",
         "8": "5.7209",
         "9": "3.0",
         "10": "233.0",
         "11": "17.9",
         "12": "394.46",
         "13": "7.44"
        },
        {
         "0": "21.2",
         "1": "0.12269",
         "2": "0.0",
         "3": "6.91",
         "4": "0.0",
         "5": "0.448",
         "6": "6.069",
         "7": "40.0",
         "8": "5.7209",
         "9": "3.0",
         "10": "233.0",
         "11": "17.9",
         "12": "389.39",
         "13": "9.55"
        },
        {
         "0": "19.3",
         "1": "0.17142",
         "2": "0.0",
         "3": "6.91",
         "4": "0.0",
         "5": "0.448",
         "6": "5.682",
         "7": "33.8",
         "8": "5.1004",
         "9": "3.0",
         "10": "233.0",
         "11": "17.9",
         "12": "396.9",
         "13": "10.21"
        },
        {
         "0": "20.0",
         "1": "0.18836",
         "2": "0.0",
         "3": "6.91",
         "4": "0.0",
         "5": "0.448",
         "6": "5.786",
         "7": "33.3",
         "8": "5.1004",
         "9": "3.0",
         "10": "233.0",
         "11": "17.9",
         "12": "396.9",
         "13": "14.15"
        },
        {
         "0": "16.6",
         "1": "0.22927",
         "2": "0.0",
         "3": "6.91",
         "4": "0.0",
         "5": "0.448",
         "6": "6.03",
         "7": "85.5",
         "8": "5.6894",
         "9": "3.0",
         "10": "233.0",
         "11": "17.9",
         "12": "392.74",
         "13": "18.8"
        },
        {
         "0": "14.4",
         "1": "0.25387",
         "2": "0.0",
         "3": "6.91",
         "4": "0.0",
         "5": "0.448",
         "6": "5.399",
         "7": "95.3",
         "8": "5.87",
         "9": "3.0",
         "10": "233.0",
         "11": "17.9",
         "12": "396.9",
         "13": "30.81"
        },
        {
         "0": "19.4",
         "1": "0.21977",
         "2": "0.0",
         "3": "6.91",
         "4": "0.0",
         "5": "0.448",
         "6": "5.602",
         "7": "62.0",
         "8": "6.0877",
         "9": "3.0",
         "10": "233.0",
         "11": "17.9",
         "12": "396.9",
         "13": "16.2"
        },
        {
         "0": "19.7",
         "1": "0.08873",
         "2": "21.0",
         "3": "5.64",
         "4": "0.0",
         "5": "0.439",
         "6": "5.963",
         "7": "45.7",
         "8": "6.8147",
         "9": "4.0",
         "10": "243.0",
         "11": "16.8",
         "12": "395.56",
         "13": "13.45"
        },
        {
         "0": "20.5",
         "1": "0.04337",
         "2": "21.0",
         "3": "5.64",
         "4": "0.0",
         "5": "0.439",
         "6": "6.115",
         "7": "63.0",
         "8": "6.8147",
         "9": "4.0",
         "10": "243.0",
         "11": "16.8",
         "12": "393.97",
         "13": "9.43"
        },
        {
         "0": "25.0",
         "1": "0.0536",
         "2": "21.0",
         "3": "5.64",
         "4": "0.0",
         "5": "0.439",
         "6": "6.511",
         "7": "21.1",
         "8": "6.8147",
         "9": "4.0",
         "10": "243.0",
         "11": "16.8",
         "12": "396.9",
         "13": "5.28"
        },
        {
         "0": "23.4",
         "1": "0.04981",
         "2": "21.0",
         "3": "5.64",
         "4": "0.0",
         "5": "0.439",
         "6": "5.998",
         "7": "21.4",
         "8": "6.8147",
         "9": "4.0",
         "10": "243.0",
         "11": "16.8",
         "12": "396.9",
         "13": "8.43"
        },
        {
         "0": "18.9",
         "1": "0.0136",
         "2": "75.0",
         "3": "4.0",
         "4": "0.0",
         "5": "0.41",
         "6": "5.888",
         "7": "47.6",
         "8": "7.3197",
         "9": "3.0",
         "10": "469.0",
         "11": "21.1",
         "12": "396.9",
         "13": "14.8"
        },
        {
         "0": "35.4",
         "1": "0.01311",
         "2": "90.0",
         "3": "1.22",
         "4": "0.0",
         "5": "0.403",
         "6": "7.249",
         "7": "21.9",
         "8": "8.6966",
         "9": "5.0",
         "10": "226.0",
         "11": "17.9",
         "12": "395.93",
         "13": "4.81"
        },
        {
         "0": "24.7",
         "1": "0.02055",
         "2": "85.0",
         "3": "0.74",
         "4": "0.0",
         "5": "0.41",
         "6": "6.383",
         "7": "35.7",
         "8": "9.1876",
         "9": "2.0",
         "10": "313.0",
         "11": "17.3",
         "12": "396.9",
         "13": "5.77"
        },
        {
         "0": "31.6",
         "1": "0.01432",
         "2": "100.0",
         "3": "1.32",
         "4": "0.0",
         "5": "0.411",
         "6": "6.816",
         "7": "40.5",
         "8": "8.3248",
         "9": "5.0",
         "10": "256.0",
         "11": "15.1",
         "12": "392.9",
         "13": "3.95"
        },
        {
         "0": "23.3",
         "1": "0.15445",
         "2": "25.0",
         "3": "5.13",
         "4": "0.0",
         "5": "0.453",
         "6": "6.145",
         "7": "29.2",
         "8": "7.8148",
         "9": "8.0",
         "10": "284.0",
         "11": "19.7",
         "12": "390.68",
         "13": "6.86"
        },
        {
         "0": "19.6",
         "1": "0.10328",
         "2": "25.0",
         "3": "5.13",
         "4": "0.0",
         "5": "0.453",
         "6": "5.927",
         "7": "47.2",
         "8": "6.932",
         "9": "8.0",
         "10": "284.0",
         "11": "19.7",
         "12": "396.9",
         "13": "9.22"
        },
        {
         "0": "18.7",
         "1": "0.14932",
         "2": "25.0",
         "3": "5.13",
         "4": "0.0",
         "5": "0.453",
         "6": "5.741",
         "7": "66.2",
         "8": "7.2254",
         "9": "8.0",
         "10": "284.0",
         "11": "19.7",
         "12": "395.11",
         "13": "13.15"
        },
        {
         "0": "16.0",
         "1": "0.17171",
         "2": "25.0",
         "3": "5.13",
         "4": "0.0",
         "5": "0.453",
         "6": "5.966",
         "7": "93.4",
         "8": "6.8185",
         "9": "8.0",
         "10": "284.0",
         "11": "19.7",
         "12": "378.08",
         "13": "14.44"
        },
        {
         "0": "22.2",
         "1": "0.11027",
         "2": "25.0",
         "3": "5.13",
         "4": "0.0",
         "5": "0.453",
         "6": "6.456",
         "7": "67.8",
         "8": "7.2255",
         "9": "8.0",
         "10": "284.0",
         "11": "19.7",
         "12": "396.9",
         "13": "6.73"
        },
        {
         "0": "25.0",
         "1": "0.1265",
         "2": "25.0",
         "3": "5.13",
         "4": "0.0",
         "5": "0.453",
         "6": "6.762",
         "7": "43.4",
         "8": "7.9809",
         "9": "8.0",
         "10": "284.0",
         "11": "19.7",
         "12": "395.58",
         "13": "9.5"
        },
        {
         "0": "21.4",
         "1": "0.11504",
         "2": "0.0",
         "3": "2.89",
         "4": "0.0",
         "5": "0.445",
         "6": "6.163",
         "7": "69.6",
         "8": "3.4952",
         "9": "2.0",
         "10": "276.0",
         "11": "18.0",
         "12": "391.83",
         "13": "11.34"
        },
        {
         "0": "38.7",
         "1": "0.12083",
         "2": "0.0",
         "3": "2.89",
         "4": "0.0",
         "5": "0.445",
         "6": "8.069",
         "7": "76.0",
         "8": "3.4952",
         "9": "2.0",
         "10": "276.0",
         "11": "18.0",
         "12": "396.9",
         "13": "4.21"
        },
        {
         "0": "43.8",
         "1": "0.08187",
         "2": "0.0",
         "3": "2.89",
         "4": "0.0",
         "5": "0.445",
         "6": "7.82",
         "7": "36.9",
         "8": "3.4952",
         "9": "2.0",
         "10": "276.0",
         "11": "18.0",
         "12": "393.53",
         "13": "3.57"
        },
        {
         "0": "33.2",
         "1": "0.0686",
         "2": "0.0",
         "3": "2.89",
         "4": "0.0",
         "5": "0.445",
         "6": "7.416",
         "7": "62.5",
         "8": "3.4952",
         "9": "2.0",
         "10": "276.0",
         "11": "18.0",
         "12": "396.9",
         "13": "6.19"
        },
        {
         "0": "27.5",
         "1": "0.14866",
         "2": "0.0",
         "3": "8.56",
         "4": "0.0",
         "5": "0.52",
         "6": "6.727",
         "7": "79.9",
         "8": "2.7778",
         "9": "5.0",
         "10": "384.0",
         "11": "20.9",
         "12": "394.76",
         "13": "9.42"
        },
        {
         "0": "26.5",
         "1": "0.11432",
         "2": "0.0",
         "3": "8.56",
         "4": "0.0",
         "5": "0.52",
         "6": "6.781",
         "7": "71.3",
         "8": "2.8561",
         "9": "5.0",
         "10": "384.0",
         "11": "20.9",
         "12": "395.58",
         "13": "7.67"
        },
        {
         "0": "18.6",
         "1": "0.22876",
         "2": "0.0",
         "3": "8.56",
         "4": "0.0",
         "5": "0.52",
         "6": "6.405",
         "7": "85.4",
         "8": "2.7147",
         "9": "5.0",
         "10": "384.0",
         "11": "20.9",
         "12": "70.8",
         "13": "10.63"
        },
        {
         "0": "19.3",
         "1": "0.21161",
         "2": "0.0",
         "3": "8.56",
         "4": "0.0",
         "5": "0.52",
         "6": "6.137",
         "7": "87.4",
         "8": "2.7147",
         "9": "5.0",
         "10": "384.0",
         "11": "20.9",
         "12": "394.47",
         "13": "13.44"
        },
        {
         "0": "20.1",
         "1": "0.1396",
         "2": "0.0",
         "3": "8.56",
         "4": "0.0",
         "5": "0.52",
         "6": "6.167",
         "7": "90.0",
         "8": "2.421",
         "9": "5.0",
         "10": "384.0",
         "11": "20.9",
         "12": "392.69",
         "13": "12.33"
        },
        {
         "0": "19.5",
         "1": "0.13262",
         "2": "0.0",
         "3": "8.56",
         "4": "0.0",
         "5": "0.52",
         "6": "5.851",
         "7": "96.7",
         "8": "2.1069",
         "9": "5.0",
         "10": "384.0",
         "11": "20.9",
         "12": "394.05",
         "13": "16.47"
        },
        {
         "0": "19.5",
         "1": "0.1712",
         "2": "0.0",
         "3": "8.56",
         "4": "0.0",
         "5": "0.52",
         "6": "5.836",
         "7": "91.9",
         "8": "2.211",
         "9": "5.0",
         "10": "384.0",
         "11": "20.9",
         "12": "395.67",
         "13": "18.66"
        },
        {
         "0": "20.4",
         "1": "0.13117",
         "2": "0.0",
         "3": "8.56",
         "4": "0.0",
         "5": "0.52",
         "6": "6.127",
         "7": "85.2",
         "8": "2.1224",
         "9": "5.0",
         "10": "384.0",
         "11": "20.9",
         "12": "387.69",
         "13": "14.09"
        },
        {
         "0": "19.8",
         "1": "0.12802",
         "2": "0.0",
         "3": "8.56",
         "4": "0.0",
         "5": "0.52",
         "6": "6.474",
         "7": "97.1",
         "8": "2.4329",
         "9": "5.0",
         "10": "384.0",
         "11": "20.9",
         "12": "395.24",
         "13": "12.27"
        },
        {
         "0": "19.4",
         "1": "0.26363",
         "2": "0.0",
         "3": "8.56",
         "4": "0.0",
         "5": "0.52",
         "6": "6.229",
         "7": "91.2",
         "8": "2.5451",
         "9": "5.0",
         "10": "384.0",
         "11": "20.9",
         "12": "391.23",
         "13": "15.55"
        },
        {
         "0": "21.7",
         "1": "0.10793",
         "2": "0.0",
         "3": "8.56",
         "4": "0.0",
         "5": "0.52",
         "6": "6.195",
         "7": "54.4",
         "8": "2.7778",
         "9": "5.0",
         "10": "384.0",
         "11": "20.9",
         "12": "393.49",
         "13": "13.0"
        },
        {
         "0": "22.8",
         "1": "0.10084",
         "2": "0.0",
         "3": "10.01",
         "4": "0.0",
         "5": "0.547",
         "6": "6.715",
         "7": "81.6",
         "8": "2.6775",
         "9": "6.0",
         "10": "432.0",
         "11": "17.8",
         "12": "395.59",
         "13": "10.16"
        },
        {
         "0": "18.8",
         "1": "0.12329",
         "2": "0.0",
         "3": "10.01",
         "4": "0.0",
         "5": "0.547",
         "6": "5.913",
         "7": "92.9",
         "8": "2.3534",
         "9": "6.0",
         "10": "432.0",
         "11": "17.8",
         "12": "394.95",
         "13": "16.21"
        },
        {
         "0": "18.7",
         "1": "0.22212",
         "2": "0.0",
         "3": "10.01",
         "4": "0.0",
         "5": "0.547",
         "6": "6.092",
         "7": "95.4",
         "8": "2.548",
         "9": "6.0",
         "10": "432.0",
         "11": "17.8",
         "12": "396.9",
         "13": "17.09"
        },
        {
         "0": "18.5",
         "1": "0.14231",
         "2": "0.0",
         "3": "10.01",
         "4": "0.0",
         "5": "0.547",
         "6": "6.254",
         "7": "84.2",
         "8": "2.2565",
         "9": "6.0",
         "10": "432.0",
         "11": "17.8",
         "12": "388.74",
         "13": "10.45"
        },
        {
         "0": "18.3",
         "1": "0.17134",
         "2": "0.0",
         "3": "10.01",
         "4": "0.0",
         "5": "0.547",
         "6": "5.928",
         "7": "88.2",
         "8": "2.4631",
         "9": "6.0",
         "10": "432.0",
         "11": "17.8",
         "12": "344.91",
         "13": "15.76"
        },
        {
         "0": "21.2",
         "1": "0.13158",
         "2": "0.0",
         "3": "10.01",
         "4": "0.0",
         "5": "0.547",
         "6": "6.176",
         "7": "72.5",
         "8": "2.7301",
         "9": "6.0",
         "10": "432.0",
         "11": "17.8",
         "12": "393.3",
         "13": "12.04"
        },
        {
         "0": "19.2",
         "1": "0.15098",
         "2": "0.0",
         "3": "10.01",
         "4": "0.0",
         "5": "0.547",
         "6": "6.021",
         "7": "82.6",
         "8": "2.7474",
         "9": "6.0",
         "10": "432.0",
         "11": "17.8",
         "12": "394.51",
         "13": "10.3"
        },
        {
         "0": "20.4",
         "1": "0.13058",
         "2": "0.0",
         "3": "10.01",
         "4": "0.0",
         "5": "0.547",
         "6": "5.872",
         "7": "73.1",
         "8": "2.4775",
         "9": "6.0",
         "10": "432.0",
         "11": "17.8",
         "12": "338.63",
         "13": "15.37"
        },
        {
         "0": "19.3",
         "1": "0.14476",
         "2": "0.0",
         "3": "10.01",
         "4": "0.0",
         "5": "0.547",
         "6": "5.731",
         "7": "65.2",
         "8": "2.7592",
         "9": "6.0",
         "10": "432.0",
         "11": "17.8",
         "12": "391.5",
         "13": "13.61"
        },
        {
         "0": "22.0",
         "1": "0.06899",
         "2": "0.0",
         "3": "25.65",
         "4": "0.0",
         "5": "0.581",
         "6": "5.87",
         "7": "69.7",
         "8": "2.2577",
         "9": "2.0",
         "10": "188.0",
         "11": "19.1",
         "12": "389.15",
         "13": "14.37"
        },
        {
         "0": "20.3",
         "1": "0.07165",
         "2": "0.0",
         "3": "25.65",
         "4": "0.0",
         "5": "0.581",
         "6": "6.004",
         "7": "84.1",
         "8": "2.1974",
         "9": "2.0",
         "10": "188.0",
         "11": "19.1",
         "12": "377.67",
         "13": "14.27"
        },
        {
         "0": "20.5",
         "1": "0.09299",
         "2": "0.0",
         "3": "25.65",
         "4": "0.0",
         "5": "0.581",
         "6": "5.961",
         "7": "92.9",
         "8": "2.0869",
         "9": "2.0",
         "10": "188.0",
         "11": "19.1",
         "12": "378.09",
         "13": "17.93"
        },
        {
         "0": "17.3",
         "1": "0.15038",
         "2": "0.0",
         "3": "25.65",
         "4": "0.0",
         "5": "0.581",
         "6": "5.856",
         "7": "97.0",
         "8": "1.9444",
         "9": "2.0",
         "10": "188.0",
         "11": "19.1",
         "12": "370.31",
         "13": "25.41"
        },
        {
         "0": "18.8",
         "1": "0.09849",
         "2": "0.0",
         "3": "25.65",
         "4": "0.0",
         "5": "0.581",
         "6": "5.879",
         "7": "95.8",
         "8": "2.0063",
         "9": "2.0",
         "10": "188.0",
         "11": "19.1",
         "12": "379.38",
         "13": "17.58"
        },
        {
         "0": "21.4",
         "1": "0.16902",
         "2": "0.0",
         "3": "25.65",
         "4": "0.0",
         "5": "0.581",
         "6": "5.986",
         "7": "88.4",
         "8": "1.9929",
         "9": "2.0",
         "10": "188.0",
         "11": "19.1",
         "12": "385.02",
         "13": "14.81"
        },
        {
         "0": "15.7",
         "1": "0.38735",
         "2": "0.0",
         "3": "25.65",
         "4": "0.0",
         "5": "0.581",
         "6": "5.613",
         "7": "95.6",
         "8": "1.7572",
         "9": "2.0",
         "10": "188.0",
         "11": "19.1",
         "12": "359.29",
         "13": "27.26"
        },
        {
         "0": "16.2",
         "1": "0.25915",
         "2": "0.0",
         "3": "21.89",
         "4": "0.0",
         "5": "0.624",
         "6": "5.693",
         "7": "96.0",
         "8": "1.7883",
         "9": "4.0",
         "10": "437.0",
         "11": "21.2",
         "12": "392.11",
         "13": "17.19"
        },
        {
         "0": "27.0",
         "1": "1.27346",
         "2": "0.0",
         "3": "19.58",
         "4": "1.0",
         "5": "0.605",
         "6": "6.25",
         "7": "92.6",
         "8": "1.7984",
         "9": "5.0",
         "10": "403.0",
         "11": "14.7",
         "12": "338.92",
         "13": "5.5"
        },
        {
         "0": "50.0",
         "1": "1.46336",
         "2": "0.0",
         "3": "19.58",
         "4": "0.0",
         "5": "0.605",
         "6": "7.489",
         "7": "90.8",
         "8": "1.9709",
         "9": "5.0",
         "10": "403.0",
         "11": "14.7",
         "12": "374.43",
         "13": "1.73"
        },
        {
         "0": "50.0",
         "1": "1.83377",
         "2": "0.0",
         "3": "19.58",
         "4": "1.0",
         "5": "0.605",
         "6": "7.802",
         "7": "98.2",
         "8": "2.0407",
         "9": "5.0",
         "10": "403.0",
         "11": "14.7",
         "12": "389.61",
         "13": "1.92"
        },
        {
         "0": "50.0",
         "1": "1.51902",
         "2": "0.0",
         "3": "19.58",
         "4": "1.0",
         "5": "0.605",
         "6": "8.375",
         "7": "93.9",
         "8": "2.162",
         "9": "5.0",
         "10": "403.0",
         "11": "14.7",
         "12": "388.45",
         "13": "3.32"
        },
        {
         "0": "22.7",
         "1": "2.24236",
         "2": "0.0",
         "3": "19.58",
         "4": "0.0",
         "5": "0.605",
         "6": "5.854",
         "7": "91.8",
         "8": "2.422",
         "9": "5.0",
         "10": "403.0",
         "11": "14.7",
         "12": "395.11",
         "13": "11.64"
        },
        {
         "0": "25.0",
         "1": "2.924",
         "2": "0.0",
         "3": "19.58",
         "4": "0.0",
         "5": "0.605",
         "6": "6.101",
         "7": "93.0",
         "8": "2.2834",
         "9": "5.0",
         "10": "403.0",
         "11": "14.7",
         "12": "240.16",
         "13": "9.81"
        },
        {
         "0": "50.0",
         "1": "2.01019",
         "2": "0.0",
         "3": "19.58",
         "4": "0.0",
         "5": "0.605",
         "6": "7.929",
         "7": "96.2",
         "8": "2.0459",
         "9": "5.0",
         "10": "403.0",
         "11": "14.7",
         "12": "369.3",
         "13": "3.7"
        },
        {
         "0": "23.8",
         "1": "1.80028",
         "2": "0.0",
         "3": "19.58",
         "4": "0.0",
         "5": "0.605",
         "6": "5.877",
         "7": "79.2",
         "8": "2.4259",
         "9": "5.0",
         "10": "403.0",
         "11": "14.7",
         "12": "227.61",
         "13": "12.14"
        },
        {
         "0": "23.8",
         "1": "2.3004",
         "2": "0.0",
         "3": "19.58",
         "4": "0.0",
         "5": "0.605",
         "6": "6.319",
         "7": "96.1",
         "8": "2.1",
         "9": "5.0",
         "10": "403.0",
         "11": "14.7",
         "12": "297.09",
         "13": "11.1"
        },
        {
         "0": "22.3",
         "1": "2.44953",
         "2": "0.0",
         "3": "19.58",
         "4": "0.0",
         "5": "0.605",
         "6": "6.402",
         "7": "95.2",
         "8": "2.2625",
         "9": "5.0",
         "10": "403.0",
         "11": "14.7",
         "12": "330.04",
         "13": "11.32"
        },
        {
         "0": "17.4",
         "1": "1.20742",
         "2": "0.0",
         "3": "19.58",
         "4": "0.0",
         "5": "0.605",
         "6": "5.875",
         "7": "94.6",
         "8": "2.4259",
         "9": "5.0",
         "10": "403.0",
         "11": "14.7",
         "12": "292.29",
         "13": "14.43"
        },
        {
         "0": "19.1",
         "1": "2.3139",
         "2": "0.0",
         "3": "19.58",
         "4": "0.0",
         "5": "0.605",
         "6": "5.88",
         "7": "97.3",
         "8": "2.3887",
         "9": "5.0",
         "10": "403.0",
         "11": "14.7",
         "12": "348.13",
         "13": "12.03"
        },
        {
         "0": "23.1",
         "1": "0.13914",
         "2": "0.0",
         "3": "4.05",
         "4": "0.0",
         "5": "0.51",
         "6": "5.572",
         "7": "88.5",
         "8": "2.5961",
         "9": "5.0",
         "10": "296.0",
         "11": "16.6",
         "12": "396.9",
         "13": "14.69"
        },
        {
         "0": "23.6",
         "1": "0.09178",
         "2": "0.0",
         "3": "4.05",
         "4": "0.0",
         "5": "0.51",
         "6": "6.416",
         "7": "84.1",
         "8": "2.6463",
         "9": "5.0",
         "10": "296.0",
         "11": "16.6",
         "12": "395.5",
         "13": "9.04"
        },
        {
         "0": "22.6",
         "1": "0.08447",
         "2": "0.0",
         "3": "4.05",
         "4": "0.0",
         "5": "0.51",
         "6": "5.859",
         "7": "68.7",
         "8": "2.7019",
         "9": "5.0",
         "10": "296.0",
         "11": "16.6",
         "12": "393.23",
         "13": "9.64"
        },
        {
         "0": "29.4",
         "1": "0.06664",
         "2": "0.0",
         "3": "4.05",
         "4": "0.0",
         "5": "0.51",
         "6": "6.546",
         "7": "33.1",
         "8": "3.1323",
         "9": "5.0",
         "10": "296.0",
         "11": "16.6",
         "12": "390.96",
         "13": "5.33"
        },
        {
         "0": "23.2",
         "1": "0.07022",
         "2": "0.0",
         "3": "4.05",
         "4": "0.0",
         "5": "0.51",
         "6": "6.02",
         "7": "47.2",
         "8": "3.5549",
         "9": "5.0",
         "10": "296.0",
         "11": "16.6",
         "12": "393.23",
         "13": "10.11"
        },
        {
         "0": "24.6",
         "1": "0.05425",
         "2": "0.0",
         "3": "4.05",
         "4": "0.0",
         "5": "0.51",
         "6": "6.315",
         "7": "73.4",
         "8": "3.3175",
         "9": "5.0",
         "10": "296.0",
         "11": "16.6",
         "12": "395.6",
         "13": "6.29"
        },
        {
         "0": "29.9",
         "1": "0.06642",
         "2": "0.0",
         "3": "4.05",
         "4": "0.0",
         "5": "0.51",
         "6": "6.86",
         "7": "74.4",
         "8": "2.9153",
         "9": "5.0",
         "10": "296.0",
         "11": "16.6",
         "12": "391.27",
         "13": "6.92"
        },
        {
         "0": "37.2",
         "1": "0.0578",
         "2": "0.0",
         "3": "2.46",
         "4": "0.0",
         "5": "0.488",
         "6": "6.98",
         "7": "58.4",
         "8": "2.829",
         "9": "3.0",
         "10": "193.0",
         "11": "17.8",
         "12": "396.9",
         "13": "5.04"
        },
        {
         "0": "39.8",
         "1": "0.06588",
         "2": "0.0",
         "3": "2.46",
         "4": "0.0",
         "5": "0.488",
         "6": "7.765",
         "7": "83.3",
         "8": "2.741",
         "9": "3.0",
         "10": "193.0",
         "11": "17.8",
         "12": "395.56",
         "13": "7.56"
        },
        {
         "0": "36.2",
         "1": "0.06888",
         "2": "0.0",
         "3": "2.46",
         "4": "0.0",
         "5": "0.488",
         "6": "6.144",
         "7": "62.2",
         "8": "2.5979",
         "9": "3.0",
         "10": "193.0",
         "11": "17.8",
         "12": "396.9",
         "13": "9.45"
        },
        {
         "0": "37.9",
         "1": "0.09103",
         "2": "0.0",
         "3": "2.46",
         "4": "0.0",
         "5": "0.488",
         "6": "7.155",
         "7": "92.2",
         "8": "2.7006",
         "9": "3.0",
         "10": "193.0",
         "11": "17.8",
         "12": "394.12",
         "13": "4.82"
        },
        {
         "0": "32.5",
         "1": "0.10008",
         "2": "0.0",
         "3": "2.46",
         "4": "0.0",
         "5": "0.488",
         "6": "6.563",
         "7": "95.6",
         "8": "2.847",
         "9": "3.0",
         "10": "193.0",
         "11": "17.8",
         "12": "396.9",
         "13": "5.68"
        },
        {
         "0": "26.4",
         "1": "0.08308",
         "2": "0.0",
         "3": "2.46",
         "4": "0.0",
         "5": "0.488",
         "6": "5.604",
         "7": "89.8",
         "8": "2.9879",
         "9": "3.0",
         "10": "193.0",
         "11": "17.8",
         "12": "391.0",
         "13": "13.98"
        },
        {
         "0": "29.6",
         "1": "0.06047",
         "2": "0.0",
         "3": "2.46",
         "4": "0.0",
         "5": "0.488",
         "6": "6.153",
         "7": "68.8",
         "8": "3.2797",
         "9": "3.0",
         "10": "193.0",
         "11": "17.8",
         "12": "387.11",
         "13": "13.15"
        },
        {
         "0": "50.0",
         "1": "0.05602",
         "2": "0.0",
         "3": "2.46",
         "4": "0.0",
         "5": "0.488",
         "6": "7.831",
         "7": "53.6",
         "8": "3.1992",
         "9": "3.0",
         "10": "193.0",
         "11": "17.8",
         "12": "392.63",
         "13": "4.45"
        },
        {
         "0": "32.0",
         "1": "0.07875",
         "2": "45.0",
         "3": "3.44",
         "4": "0.0",
         "5": "0.437",
         "6": "6.782",
         "7": "41.1",
         "8": "3.7886",
         "9": "5.0",
         "10": "398.0",
         "11": "15.2",
         "12": "393.87",
         "13": "6.68"
        },
        {
         "0": "29.8",
         "1": "0.12579",
         "2": "45.0",
         "3": "3.44",
         "4": "0.0",
         "5": "0.437",
         "6": "6.556",
         "7": "29.1",
         "8": "4.5667",
         "9": "5.0",
         "10": "398.0",
         "11": "15.2",
         "12": "382.84",
         "13": "4.56"
        },
        {
         "0": "34.9",
         "1": "0.0837",
         "2": "45.0",
         "3": "3.44",
         "4": "0.0",
         "5": "0.437",
         "6": "7.185",
         "7": "38.9",
         "8": "4.5667",
         "9": "5.0",
         "10": "398.0",
         "11": "15.2",
         "12": "396.9",
         "13": "5.39"
        },
        {
         "0": "37.0",
         "1": "0.09068",
         "2": "45.0",
         "3": "3.44",
         "4": "0.0",
         "5": "0.437",
         "6": "6.951",
         "7": "21.5",
         "8": "6.4798",
         "9": "5.0",
         "10": "398.0",
         "11": "15.2",
         "12": "377.68",
         "13": "5.1"
        },
        {
         "0": "30.5",
         "1": "0.06911",
         "2": "45.0",
         "3": "3.44",
         "4": "0.0",
         "5": "0.437",
         "6": "6.739",
         "7": "30.8",
         "8": "6.4798",
         "9": "5.0",
         "10": "398.0",
         "11": "15.2",
         "12": "389.71",
         "13": "4.69"
        },
        {
         "0": "44.8",
         "1": "0.31533",
         "2": "0.0",
         "3": "6.2",
         "4": "0.0",
         "5": "0.504",
         "6": "8.266",
         "7": "78.3",
         "8": "2.8944",
         "9": "8.0",
         "10": "307.0",
         "11": "17.4",
         "12": "385.05",
         "13": "4.14"
        },
        {
         "0": "50.0",
         "1": "0.52693",
         "2": "0.0",
         "3": "6.2",
         "4": "0.0",
         "5": "0.504",
         "6": "8.725",
         "7": "83.0",
         "8": "2.8944",
         "9": "8.0",
         "10": "307.0",
         "11": "17.4",
         "12": "382.0",
         "13": "4.63"
        },
        {
         "0": "37.6",
         "1": "0.38214",
         "2": "0.0",
         "3": "6.2",
         "4": "0.0",
         "5": "0.504",
         "6": "8.04",
         "7": "86.5",
         "8": "3.2157",
         "9": "8.0",
         "10": "307.0",
         "11": "17.4",
         "12": "387.38",
         "13": "3.13"
        },
        {
         "0": "31.6",
         "1": "0.41238",
         "2": "0.0",
         "3": "6.2",
         "4": "0.0",
         "5": "0.504",
         "6": "7.163",
         "7": "79.9",
         "8": "3.2157",
         "9": "8.0",
         "10": "307.0",
         "11": "17.4",
         "12": "372.08",
         "13": "6.36"
        },
        {
         "0": "46.7",
         "1": "0.29819",
         "2": "0.0",
         "3": "6.2",
         "4": "0.0",
         "5": "0.504",
         "6": "7.686",
         "7": "17.0",
         "8": "3.3751",
         "9": "8.0",
         "10": "307.0",
         "11": "17.4",
         "12": "377.51",
         "13": "3.92"
        },
        {
         "0": "31.5",
         "1": "0.44178",
         "2": "0.0",
         "3": "6.2",
         "4": "0.0",
         "5": "0.504",
         "6": "6.552",
         "7": "21.4",
         "8": "3.3751",
         "9": "8.0",
         "10": "307.0",
         "11": "17.4",
         "12": "380.34",
         "13": "3.76"
        },
        {
         "0": "24.3",
         "1": "0.537",
         "2": "0.0",
         "3": "6.2",
         "4": "0.0",
         "5": "0.504",
         "6": "5.981",
         "7": "68.1",
         "8": "3.6715",
         "9": "8.0",
         "10": "307.0",
         "11": "17.4",
         "12": "378.35",
         "13": "11.65"
        },
        {
         "0": "31.7",
         "1": "0.46296",
         "2": "0.0",
         "3": "6.2",
         "4": "0.0",
         "5": "0.504",
         "6": "7.412",
         "7": "76.9",
         "8": "3.6715",
         "9": "8.0",
         "10": "307.0",
         "11": "17.4",
         "12": "376.14",
         "13": "5.25"
        },
        {
         "0": "41.7",
         "1": "0.57529",
         "2": "0.0",
         "3": "6.2",
         "4": "0.0",
         "5": "0.507",
         "6": "8.337",
         "7": "73.3",
         "8": "3.8384",
         "9": "8.0",
         "10": "307.0",
         "11": "17.4",
         "12": "385.91",
         "13": "2.47"
        },
        {
         "0": "48.3",
         "1": "0.33147",
         "2": "0.0",
         "3": "6.2",
         "4": "0.0",
         "5": "0.507",
         "6": "8.247",
         "7": "70.4",
         "8": "3.6519",
         "9": "8.0",
         "10": "307.0",
         "11": "17.4",
         "12": "378.95",
         "13": "3.95"
        },
        {
         "0": "29.0",
         "1": "0.44791",
         "2": "0.0",
         "3": "6.2",
         "4": "1.0",
         "5": "0.507",
         "6": "6.726",
         "7": "66.5",
         "8": "3.6519",
         "9": "8.0",
         "10": "307.0",
         "11": "17.4",
         "12": "360.2",
         "13": "8.05"
        },
        {
         "0": "24.0",
         "1": "0.33045",
         "2": "0.0",
         "3": "6.2",
         "4": "0.0",
         "5": "0.507",
         "6": "6.086",
         "7": "61.5",
         "8": "3.6519",
         "9": "8.0",
         "10": "307.0",
         "11": "17.4",
         "12": "376.75",
         "13": "10.88"
        },
        {
         "0": "25.1",
         "1": "0.52058",
         "2": "0.0",
         "3": "6.2",
         "4": "1.0",
         "5": "0.507",
         "6": "6.631",
         "7": "76.5",
         "8": "4.148",
         "9": "8.0",
         "10": "307.0",
         "11": "17.4",
         "12": "388.45",
         "13": "9.54"
        },
        {
         "0": "31.5",
         "1": "0.51183",
         "2": "0.0",
         "3": "6.2",
         "4": "0.0",
         "5": "0.507",
         "6": "7.358",
         "7": "71.6",
         "8": "4.148",
         "9": "8.0",
         "10": "307.0",
         "11": "17.4",
         "12": "390.07",
         "13": "4.73"
        },
        {
         "0": "23.7",
         "1": "0.08244",
         "2": "30.0",
         "3": "4.93",
         "4": "0.0",
         "5": "0.428",
         "6": "6.481",
         "7": "18.5",
         "8": "6.1899",
         "9": "6.0",
         "10": "300.0",
         "11": "16.6",
         "12": "379.41",
         "13": "6.36"
        },
        {
         "0": "23.3",
         "1": "0.09252",
         "2": "30.0",
         "3": "4.93",
         "4": "0.0",
         "5": "0.428",
         "6": "6.606",
         "7": "42.2",
         "8": "6.1899",
         "9": "6.0",
         "10": "300.0",
         "11": "16.6",
         "12": "383.78",
         "13": "7.37"
        },
        {
         "0": "22.0",
         "1": "0.11329",
         "2": "30.0",
         "3": "4.93",
         "4": "0.0",
         "5": "0.428",
         "6": "6.897",
         "7": "54.3",
         "8": "6.3361",
         "9": "6.0",
         "10": "300.0",
         "11": "16.6",
         "12": "391.25",
         "13": "11.38"
        },
        {
         "0": "20.1",
         "1": "0.10612",
         "2": "30.0",
         "3": "4.93",
         "4": "0.0",
         "5": "0.428",
         "6": "6.095",
         "7": "65.1",
         "8": "6.3361",
         "9": "6.0",
         "10": "300.0",
         "11": "16.6",
         "12": "394.62",
         "13": "12.4"
        },
        {
         "0": "22.2",
         "1": "0.1029",
         "2": "30.0",
         "3": "4.93",
         "4": "0.0",
         "5": "0.428",
         "6": "6.358",
         "7": "52.9",
         "8": "7.0355",
         "9": "6.0",
         "10": "300.0",
         "11": "16.6",
         "12": "372.75",
         "13": "11.22"
        },
        {
         "0": "23.7",
         "1": "0.12757",
         "2": "30.0",
         "3": "4.93",
         "4": "0.0",
         "5": "0.428",
         "6": "6.393",
         "7": "7.8",
         "8": "7.0355",
         "9": "6.0",
         "10": "300.0",
         "11": "16.6",
         "12": "374.71",
         "13": "5.19"
        },
        {
         "0": "17.6",
         "1": "0.20608",
         "2": "22.0",
         "3": "5.86",
         "4": "0.0",
         "5": "0.431",
         "6": "5.593",
         "7": "76.5",
         "8": "7.9549",
         "9": "7.0",
         "10": "330.0",
         "11": "19.1",
         "12": "372.49",
         "13": "12.5"
        },
        {
         "0": "18.5",
         "1": "0.19133",
         "2": "22.0",
         "3": "5.86",
         "4": "0.0",
         "5": "0.431",
         "6": "5.605",
         "7": "70.2",
         "8": "7.9549",
         "9": "7.0",
         "10": "330.0",
         "11": "19.1",
         "12": "389.13",
         "13": "18.46"
        },
        {
         "0": "24.3",
         "1": "0.33983",
         "2": "22.0",
         "3": "5.86",
         "4": "0.0",
         "5": "0.431",
         "6": "6.108",
         "7": "34.9",
         "8": "8.0555",
         "9": "7.0",
         "10": "330.0",
         "11": "19.1",
         "12": "390.18",
         "13": "9.16"
        },
        {
         "0": "20.5",
         "1": "0.19657",
         "2": "22.0",
         "3": "5.86",
         "4": "0.0",
         "5": "0.431",
         "6": "6.226",
         "7": "79.2",
         "8": "8.0555",
         "9": "7.0",
         "10": "330.0",
         "11": "19.1",
         "12": "376.14",
         "13": "10.15"
        },
        {
         "0": "24.5",
         "1": "0.16439",
         "2": "22.0",
         "3": "5.86",
         "4": "0.0",
         "5": "0.431",
         "6": "6.433",
         "7": "49.1",
         "8": "7.8265",
         "9": "7.0",
         "10": "330.0",
         "11": "19.1",
         "12": "374.71",
         "13": "9.52"
        },
        {
         "0": "26.2",
         "1": "0.19073",
         "2": "22.0",
         "3": "5.86",
         "4": "0.0",
         "5": "0.431",
         "6": "6.718",
         "7": "17.5",
         "8": "7.8265",
         "9": "7.0",
         "10": "330.0",
         "11": "19.1",
         "12": "393.74",
         "13": "6.56"
        },
        {
         "0": "24.4",
         "1": "0.1403",
         "2": "22.0",
         "3": "5.86",
         "4": "0.0",
         "5": "0.431",
         "6": "6.487",
         "7": "13.0",
         "8": "7.3967",
         "9": "7.0",
         "10": "330.0",
         "11": "19.1",
         "12": "396.28",
         "13": "5.9"
        },
        {
         "0": "24.8",
         "1": "0.21409",
         "2": "22.0",
         "3": "5.86",
         "4": "0.0",
         "5": "0.431",
         "6": "6.438",
         "7": "8.9",
         "8": "7.3967",
         "9": "7.0",
         "10": "330.0",
         "11": "19.1",
         "12": "377.07",
         "13": "3.59"
        },
        {
         "0": "29.6",
         "1": "0.08221",
         "2": "22.0",
         "3": "5.86",
         "4": "0.0",
         "5": "0.431",
         "6": "6.957",
         "7": "6.8",
         "8": "8.9067",
         "9": "7.0",
         "10": "330.0",
         "11": "19.1",
         "12": "386.09",
         "13": "3.53"
        },
        {
         "0": "42.8",
         "1": "0.36894",
         "2": "22.0",
         "3": "5.86",
         "4": "0.0",
         "5": "0.431",
         "6": "8.259",
         "7": "8.4",
         "8": "8.9067",
         "9": "7.0",
         "10": "330.0",
         "11": "19.1",
         "12": "396.9",
         "13": "3.54"
        },
        {
         "0": "21.9",
         "1": "0.04819",
         "2": "80.0",
         "3": "3.64",
         "4": "0.0",
         "5": "0.392",
         "6": "6.108",
         "7": "32.0",
         "8": "9.2203",
         "9": "1.0",
         "10": "315.0",
         "11": "16.4",
         "12": "392.89",
         "13": "6.57"
        },
        {
         "0": "20.9",
         "1": "0.03548",
         "2": "80.0",
         "3": "3.64",
         "4": "0.0",
         "5": "0.392",
         "6": "5.876",
         "7": "19.1",
         "8": "9.2203",
         "9": "1.0",
         "10": "315.0",
         "11": "16.4",
         "12": "395.18",
         "13": "9.25"
        },
        {
         "0": "22.3",
         "1": "0.0459",
         "2": "52.5",
         "3": "5.32",
         "4": "0.0",
         "5": "0.405",
         "6": "6.315",
         "7": "45.6",
         "8": "7.3172",
         "9": "6.0",
         "10": "293.0",
         "11": "16.6",
         "12": "396.9",
         "13": "7.6"
        },
        {
         "0": "24.8",
         "1": "0.04297",
         "2": "52.5",
         "3": "5.32",
         "4": "0.0",
         "5": "0.405",
         "6": "6.565",
         "7": "22.9",
         "8": "7.3172",
         "9": "6.0",
         "10": "293.0",
         "11": "16.6",
         "12": "371.72",
         "13": "9.51"
        },
        {
         "0": "28.5",
         "1": "0.03502",
         "2": "80.0",
         "3": "4.95",
         "4": "0.0",
         "5": "0.411",
         "6": "6.861",
         "7": "27.9",
         "8": "5.1167",
         "9": "4.0",
         "10": "245.0",
         "11": "19.2",
         "12": "396.9",
         "13": "3.33"
        },
        {
         "0": "37.3",
         "1": "0.07886",
         "2": "80.0",
         "3": "4.95",
         "4": "0.0",
         "5": "0.411",
         "6": "7.148",
         "7": "27.7",
         "8": "5.1167",
         "9": "4.0",
         "10": "245.0",
         "11": "19.2",
         "12": "396.9",
         "13": "3.56"
        },
        {
         "0": "27.9",
         "1": "0.03615",
         "2": "80.0",
         "3": "4.95",
         "4": "0.0",
         "5": "0.411",
         "6": "6.63",
         "7": "23.4",
         "8": "5.1167",
         "9": "4.0",
         "10": "245.0",
         "11": "19.2",
         "12": "396.9",
         "13": "4.7"
        },
        {
         "0": "23.9",
         "1": "0.08265",
         "2": "0.0",
         "3": "13.92",
         "4": "0.0",
         "5": "0.437",
         "6": "6.127",
         "7": "18.4",
         "8": "5.5027",
         "9": "4.0",
         "10": "289.0",
         "11": "16.0",
         "12": "396.9",
         "13": "8.58"
        },
        {
         "0": "21.7",
         "1": "0.08199",
         "2": "0.0",
         "3": "13.92",
         "4": "0.0",
         "5": "0.437",
         "6": "6.009",
         "7": "42.3",
         "8": "5.5027",
         "9": "4.0",
         "10": "289.0",
         "11": "16.0",
         "12": "396.9",
         "13": "10.4"
        },
        {
         "0": "28.6",
         "1": "0.12932",
         "2": "0.0",
         "3": "13.92",
         "4": "0.0",
         "5": "0.437",
         "6": "6.678",
         "7": "31.1",
         "8": "5.9604",
         "9": "4.0",
         "10": "289.0",
         "11": "16.0",
         "12": "396.9",
         "13": "6.27"
        },
        {
         "0": "27.1",
         "1": "0.05372",
         "2": "0.0",
         "3": "13.92",
         "4": "0.0",
         "5": "0.437",
         "6": "6.549",
         "7": "51.0",
         "8": "5.9604",
         "9": "4.0",
         "10": "289.0",
         "11": "16.0",
         "12": "392.85",
         "13": "7.39"
        },
        {
         "0": "20.3",
         "1": "0.14103",
         "2": "0.0",
         "3": "13.92",
         "4": "0.0",
         "5": "0.437",
         "6": "5.79",
         "7": "58.0",
         "8": "6.32",
         "9": "4.0",
         "10": "289.0",
         "11": "16.0",
         "12": "396.9",
         "13": "15.84"
        },
        {
         "0": "22.5",
         "1": "0.06466",
         "2": "70.0",
         "3": "2.24",
         "4": "0.0",
         "5": "0.4",
         "6": "6.345",
         "7": "20.1",
         "8": "7.8278",
         "9": "5.0",
         "10": "358.0",
         "11": "14.8",
         "12": "368.24",
         "13": "4.97"
        },
        {
         "0": "29.0",
         "1": "0.05561",
         "2": "70.0",
         "3": "2.24",
         "4": "0.0",
         "5": "0.4",
         "6": "7.041",
         "7": "10.0",
         "8": "7.8278",
         "9": "5.0",
         "10": "358.0",
         "11": "14.8",
         "12": "371.58",
         "13": "4.74"
        },
        {
         "0": "24.8",
         "1": "0.04417",
         "2": "70.0",
         "3": "2.24",
         "4": "0.0",
         "5": "0.4",
         "6": "6.871",
         "7": "47.4",
         "8": "7.8278",
         "9": "5.0",
         "10": "358.0",
         "11": "14.8",
         "12": "390.86",
         "13": "6.07"
        },
        {
         "0": "22.0",
         "1": "0.03537",
         "2": "34.0",
         "3": "6.09",
         "4": "0.0",
         "5": "0.433",
         "6": "6.59",
         "7": "40.4",
         "8": "5.4917",
         "9": "7.0",
         "10": "329.0",
         "11": "16.1",
         "12": "395.75",
         "13": "9.5"
        },
        {
         "0": "26.4",
         "1": "0.09266",
         "2": "34.0",
         "3": "6.09",
         "4": "0.0",
         "5": "0.433",
         "6": "6.495",
         "7": "18.4",
         "8": "5.4917",
         "9": "7.0",
         "10": "329.0",
         "11": "16.1",
         "12": "383.61",
         "13": "8.67"
        },
        {
         "0": "33.1",
         "1": "0.1",
         "2": "34.0",
         "3": "6.09",
         "4": "0.0",
         "5": "0.433",
         "6": "6.982",
         "7": "17.7",
         "8": "5.4917",
         "9": "7.0",
         "10": "329.0",
         "11": "16.1",
         "12": "390.43",
         "13": "4.86"
        },
        {
         "0": "36.1",
         "1": "0.05515",
         "2": "33.0",
         "3": "2.18",
         "4": "0.0",
         "5": "0.472",
         "6": "7.236",
         "7": "41.1",
         "8": "4.022",
         "9": "7.0",
         "10": "222.0",
         "11": "18.4",
         "12": "393.68",
         "13": "6.93"
        },
        {
         "0": "28.4",
         "1": "0.05479",
         "2": "33.0",
         "3": "2.18",
         "4": "0.0",
         "5": "0.472",
         "6": "6.616",
         "7": "58.1",
         "8": "3.37",
         "9": "7.0",
         "10": "222.0",
         "11": "18.4",
         "12": "393.36",
         "13": "8.93"
        },
        {
         "0": "33.4",
         "1": "0.07503",
         "2": "33.0",
         "3": "2.18",
         "4": "0.0",
         "5": "0.472",
         "6": "7.42",
         "7": "71.9",
         "8": "3.0992",
         "9": "7.0",
         "10": "222.0",
         "11": "18.4",
         "12": "396.9",
         "13": "6.47"
        },
        {
         "0": "28.2",
         "1": "0.04932",
         "2": "33.0",
         "3": "2.18",
         "4": "0.0",
         "5": "0.472",
         "6": "6.849",
         "7": "70.3",
         "8": "3.1827",
         "9": "7.0",
         "10": "222.0",
         "11": "18.4",
         "12": "396.9",
         "13": "7.53"
        },
        {
         "0": "22.8",
         "1": "0.49298",
         "2": "0.0",
         "3": "9.9",
         "4": "0.0",
         "5": "0.544",
         "6": "6.635",
         "7": "82.5",
         "8": "3.3175",
         "9": "4.0",
         "10": "304.0",
         "11": "18.4",
         "12": "396.9",
         "13": "4.54"
        },
        {
         "0": "20.3",
         "1": "0.3494",
         "2": "0.0",
         "3": "9.9",
         "4": "0.0",
         "5": "0.544",
         "6": "5.972",
         "7": "76.7",
         "8": "3.1025",
         "9": "4.0",
         "10": "304.0",
         "11": "18.4",
         "12": "396.24",
         "13": "9.97"
        },
        {
         "0": "16.1",
         "1": "2.63548",
         "2": "0.0",
         "3": "9.9",
         "4": "0.0",
         "5": "0.544",
         "6": "4.973",
         "7": "37.8",
         "8": "2.5194",
         "9": "4.0",
         "10": "304.0",
         "11": "18.4",
         "12": "350.45",
         "13": "12.64"
        },
        {
         "0": "22.1",
         "1": "0.79041",
         "2": "0.0",
         "3": "9.9",
         "4": "0.0",
         "5": "0.544",
         "6": "6.122",
         "7": "52.8",
         "8": "2.6403",
         "9": "4.0",
         "10": "304.0",
         "11": "18.4",
         "12": "396.9",
         "13": "5.98"
        },
        {
         "0": "19.4",
         "1": "0.26169",
         "2": "0.0",
         "3": "9.9",
         "4": "0.0",
         "5": "0.544",
         "6": "6.023",
         "7": "90.4",
         "8": "2.834",
         "9": "4.0",
         "10": "304.0",
         "11": "18.4",
         "12": "396.3",
         "13": "11.72"
        },
        {
         "0": "21.6",
         "1": "0.26938",
         "2": "0.0",
         "3": "9.9",
         "4": "0.0",
         "5": "0.544",
         "6": "6.266",
         "7": "82.8",
         "8": "3.2628",
         "9": "4.0",
         "10": "304.0",
         "11": "18.4",
         "12": "393.39",
         "13": "7.9"
        },
        {
         "0": "23.8",
         "1": "0.3692",
         "2": "0.0",
         "3": "9.9",
         "4": "0.0",
         "5": "0.544",
         "6": "6.567",
         "7": "87.3",
         "8": "3.6023",
         "9": "4.0",
         "10": "304.0",
         "11": "18.4",
         "12": "395.69",
         "13": "9.28"
        },
        {
         "0": "16.2",
         "1": "0.25356",
         "2": "0.0",
         "3": "9.9",
         "4": "0.0",
         "5": "0.544",
         "6": "5.705",
         "7": "77.7",
         "8": "3.945",
         "9": "4.0",
         "10": "304.0",
         "11": "18.4",
         "12": "396.42",
         "13": "11.5"
        },
        {
         "0": "17.8",
         "1": "0.31827",
         "2": "0.0",
         "3": "9.9",
         "4": "0.0",
         "5": "0.544",
         "6": "5.914",
         "7": "83.2",
         "8": "3.9986",
         "9": "4.0",
         "10": "304.0",
         "11": "18.4",
         "12": "390.7",
         "13": "18.33"
        },
        {
         "0": "19.8",
         "1": "0.24522",
         "2": "0.0",
         "3": "9.9",
         "4": "0.0",
         "5": "0.544",
         "6": "5.782",
         "7": "71.7",
         "8": "4.0317",
         "9": "4.0",
         "10": "304.0",
         "11": "18.4",
         "12": "396.9",
         "13": "15.94"
        },
        {
         "0": "23.1",
         "1": "0.40202",
         "2": "0.0",
         "3": "9.9",
         "4": "0.0",
         "5": "0.544",
         "6": "6.382",
         "7": "67.2",
         "8": "3.5325",
         "9": "4.0",
         "10": "304.0",
         "11": "18.4",
         "12": "395.21",
         "13": "10.36"
        },
        {
         "0": "21.0",
         "1": "0.47547",
         "2": "0.0",
         "3": "9.9",
         "4": "0.0",
         "5": "0.544",
         "6": "6.113",
         "7": "58.8",
         "8": "4.0019",
         "9": "4.0",
         "10": "304.0",
         "11": "18.4",
         "12": "396.23",
         "13": "12.73"
        },
        {
         "0": "18.6",
         "1": "0.07244",
         "2": "60.0",
         "3": "1.69",
         "4": "0.0",
         "5": "0.411",
         "6": "5.884",
         "7": "18.5",
         "8": "10.7103",
         "9": "4.0",
         "10": "411.0",
         "11": "18.3",
         "12": "392.33",
         "13": "7.79"
        },
        {
         "0": "30.1",
         "1": "0.01709",
         "2": "90.0",
         "3": "2.02",
         "4": "0.0",
         "5": "0.41",
         "6": "6.728",
         "7": "36.1",
         "8": "12.1265",
         "9": "5.0",
         "10": "187.0",
         "11": "17.0",
         "12": "384.46",
         "13": "4.5"
        },
        {
         "0": "18.2",
         "1": "0.04301",
         "2": "80.0",
         "3": "1.91",
         "4": "0.0",
         "5": "0.413",
         "6": "5.663",
         "7": "21.9",
         "8": "10.5857",
         "9": "4.0",
         "10": "334.0",
         "11": "22.0",
         "12": "382.8",
         "13": "8.05"
        },
        {
         "0": "20.6",
         "1": "0.10659",
         "2": "80.0",
         "3": "1.91",
         "4": "0.0",
         "5": "0.413",
         "6": "5.936",
         "7": "19.5",
         "8": "10.5857",
         "9": "4.0",
         "10": "334.0",
         "11": "22.0",
         "12": "376.04",
         "13": "5.57"
        },
        {
         "0": "17.8",
         "1": "8.98296",
         "2": "0.0",
         "3": "18.1",
         "4": "1.0",
         "5": "0.77",
         "6": "6.212",
         "7": "97.4",
         "8": "2.1222",
         "9": "24.0",
         "10": "666.0",
         "11": "20.2",
         "12": "377.73",
         "13": "17.6"
        },
        {
         "0": "21.7",
         "1": "3.8497",
         "2": "0.0",
         "3": "18.1",
         "4": "1.0",
         "5": "0.77",
         "6": "6.395",
         "7": "91.0",
         "8": "2.5052",
         "9": "24.0",
         "10": "666.0",
         "11": "20.2",
         "12": "391.34",
         "13": "13.27"
        },
        {
         "0": "22.7",
         "1": "5.20177",
         "2": "0.0",
         "3": "18.1",
         "4": "1.0",
         "5": "0.77",
         "6": "6.127",
         "7": "83.4",
         "8": "2.7227",
         "9": "24.0",
         "10": "666.0",
         "11": "20.2",
         "12": "395.43",
         "13": "11.48"
        },
        {
         "0": "22.6",
         "1": "4.26131",
         "2": "0.0",
         "3": "18.1",
         "4": "0.0",
         "5": "0.77",
         "6": "6.112",
         "7": "81.3",
         "8": "2.5091",
         "9": "24.0",
         "10": "666.0",
         "11": "20.2",
         "12": "390.74",
         "13": "12.67"
        },
        {
         "0": "25.0",
         "1": "4.54192",
         "2": "0.0",
         "3": "18.1",
         "4": "0.0",
         "5": "0.77",
         "6": "6.398",
         "7": "88.0",
         "8": "2.5182",
         "9": "24.0",
         "10": "666.0",
         "11": "20.2",
         "12": "374.56",
         "13": "7.79"
        },
        {
         "0": "19.9",
         "1": "3.83684",
         "2": "0.0",
         "3": "18.1",
         "4": "0.0",
         "5": "0.77",
         "6": "6.251",
         "7": "91.1",
         "8": "2.2955",
         "9": "24.0",
         "10": "666.0",
         "11": "20.2",
         "12": "350.65",
         "13": "14.19"
        },
        {
         "0": "20.8",
         "1": "3.67822",
         "2": "0.0",
         "3": "18.1",
         "4": "0.0",
         "5": "0.77",
         "6": "5.362",
         "7": "96.2",
         "8": "2.1036",
         "9": "24.0",
         "10": "666.0",
         "11": "20.2",
         "12": "380.79",
         "13": "10.19"
        },
        {
         "0": "16.8",
         "1": "4.22239",
         "2": "0.0",
         "3": "18.1",
         "4": "1.0",
         "5": "0.77",
         "6": "5.803",
         "7": "89.0",
         "8": "1.9047",
         "9": "24.0",
         "10": "666.0",
         "11": "20.2",
         "12": "353.04",
         "13": "14.64"
        },
        {
         "0": "21.9",
         "1": "3.47428",
         "2": "0.0",
         "3": "18.1",
         "4": "1.0",
         "5": "0.718",
         "6": "8.78",
         "7": "82.9",
         "8": "1.9047",
         "9": "24.0",
         "10": "666.0",
         "11": "20.2",
         "12": "354.55",
         "13": "5.29"
        },
        {
         "0": "27.5",
         "1": "4.55587",
         "2": "0.0",
         "3": "18.1",
         "4": "0.0",
         "5": "0.718",
         "6": "3.561",
         "7": "87.9",
         "8": "1.6132",
         "9": "24.0",
         "10": "666.0",
         "11": "20.2",
         "12": "354.7",
         "13": "7.12"
        },
        {
         "0": "21.9",
         "1": "3.69695",
         "2": "0.0",
         "3": "18.1",
         "4": "0.0",
         "5": "0.718",
         "6": "4.963",
         "7": "91.4",
         "8": "1.7523",
         "9": "24.0",
         "10": "666.0",
         "11": "20.2",
         "12": "316.03",
         "13": "14.0"
        },
        {
         "0": "23.1",
         "1": "13.5222",
         "2": "0.0",
         "3": "18.1",
         "4": "0.0",
         "5": "0.631",
         "6": "3.863",
         "7": "100.0",
         "8": "1.5106",
         "9": "24.0",
         "10": "666.0",
         "11": "20.2",
         "12": "131.42",
         "13": "13.33"
        },
        {
         "0": "50.0",
         "1": "4.89822",
         "2": "0.0",
         "3": "18.1",
         "4": "0.0",
         "5": "0.631",
         "6": "4.97",
         "7": "100.0",
         "8": "1.3325",
         "9": "24.0",
         "10": "666.0",
         "11": "20.2",
         "12": "375.52",
         "13": "3.26"
        },
        {
         "0": "50.0",
         "1": "5.66998",
         "2": "0.0",
         "3": "18.1",
         "4": "1.0",
         "5": "0.631",
         "6": "6.683",
         "7": "96.8",
         "8": "1.3567",
         "9": "24.0",
         "10": "666.0",
         "11": "20.2",
         "12": "375.33",
         "13": "3.73"
        },
        {
         "0": "50.0",
         "1": "6.53876",
         "2": "0.0",
         "3": "18.1",
         "4": "1.0",
         "5": "0.631",
         "6": "7.016",
         "7": "97.5",
         "8": "1.2024",
         "9": "24.0",
         "10": "666.0",
         "11": "20.2",
         "12": "392.05",
         "13": "2.96"
        },
        {
         "0": "50.0",
         "1": "9.2323",
         "2": "0.0",
         "3": "18.1",
         "4": "0.0",
         "5": "0.631",
         "6": "6.216",
         "7": "100.0",
         "8": "1.1691",
         "9": "24.0",
         "10": "666.0",
         "11": "20.2",
         "12": "366.15",
         "13": "9.53"
        },
        {
         "0": "50.0",
         "1": "8.26725",
         "2": "0.0",
         "3": "18.1",
         "4": "1.0",
         "5": "0.668",
         "6": "5.875",
         "7": "89.6",
         "8": "1.1296",
         "9": "24.0",
         "10": "666.0",
         "11": "20.2",
         "12": "347.88",
         "13": "8.88"
        },
        {
         "0": "13.8",
         "1": "11.1081",
         "2": "0.0",
         "3": "18.1",
         "4": "0.0",
         "5": "0.668",
         "6": "4.906",
         "7": "100.0",
         "8": "1.1742",
         "9": "24.0",
         "10": "666.0",
         "11": "20.2",
         "12": "396.9",
         "13": "34.77"
        },
        {
         "0": "13.8",
         "1": "18.4982",
         "2": "0.0",
         "3": "18.1",
         "4": "0.0",
         "5": "0.668",
         "6": "4.138",
         "7": "100.0",
         "8": "1.137",
         "9": "24.0",
         "10": "666.0",
         "11": "20.2",
         "12": "396.9",
         "13": "37.97"
        },
        {
         "0": "15.0",
         "1": "19.6091",
         "2": "0.0",
         "3": "18.1",
         "4": "0.0",
         "5": "0.671",
         "6": "7.313",
         "7": "97.9",
         "8": "1.3163",
         "9": "24.0",
         "10": "666.0",
         "11": "20.2",
         "12": "396.9",
         "13": "13.44"
        },
        {
         "0": "13.9",
         "1": "15.288",
         "2": "0.0",
         "3": "18.1",
         "4": "0.0",
         "5": "0.671",
         "6": "6.649",
         "7": "93.3",
         "8": "1.3449",
         "9": "24.0",
         "10": "666.0",
         "11": "20.2",
         "12": "363.02",
         "13": "23.24"
        },
        {
         "0": "13.3",
         "1": "9.82349",
         "2": "0.0",
         "3": "18.1",
         "4": "0.0",
         "5": "0.671",
         "6": "6.794",
         "7": "98.8",
         "8": "1.358",
         "9": "24.0",
         "10": "666.0",
         "11": "20.2",
         "12": "396.9",
         "13": "21.24"
        },
        {
         "0": "13.1",
         "1": "23.6482",
         "2": "0.0",
         "3": "18.1",
         "4": "0.0",
         "5": "0.671",
         "6": "6.38",
         "7": "96.2",
         "8": "1.3861",
         "9": "24.0",
         "10": "666.0",
         "11": "20.2",
         "12": "396.9",
         "13": "23.69"
        },
        {
         "0": "10.2",
         "1": "17.8667",
         "2": "0.0",
         "3": "18.1",
         "4": "0.0",
         "5": "0.671",
         "6": "6.223",
         "7": "100.0",
         "8": "1.3861",
         "9": "24.0",
         "10": "666.0",
         "11": "20.2",
         "12": "393.74",
         "13": "21.78"
        },
        {
         "0": "10.4",
         "1": "88.9762",
         "2": "0.0",
         "3": "18.1",
         "4": "0.0",
         "5": "0.671",
         "6": "6.968",
         "7": "91.9",
         "8": "1.4165",
         "9": "24.0",
         "10": "666.0",
         "11": "20.2",
         "12": "396.9",
         "13": "17.21"
        },
        {
         "0": "10.9",
         "1": "15.8744",
         "2": "0.0",
         "3": "18.1",
         "4": "0.0",
         "5": "0.671",
         "6": "6.545",
         "7": "99.1",
         "8": "1.5192",
         "9": "24.0",
         "10": "666.0",
         "11": "20.2",
         "12": "396.9",
         "13": "21.08"
        },
        {
         "0": "11.3",
         "1": "9.18702",
         "2": "0.0",
         "3": "18.1",
         "4": "0.0",
         "5": "0.7",
         "6": "5.536",
         "7": "100.0",
         "8": "1.5804",
         "9": "24.0",
         "10": "666.0",
         "11": "20.2",
         "12": "396.9",
         "13": "23.6"
        },
        {
         "0": "12.3",
         "1": "7.99248",
         "2": "0.0",
         "3": "18.1",
         "4": "0.0",
         "5": "0.7",
         "6": "5.52",
         "7": "100.0",
         "8": "1.5331",
         "9": "24.0",
         "10": "666.0",
         "11": "20.2",
         "12": "396.9",
         "13": "24.56"
        },
        {
         "0": "7.5",
         "1": "10.8342",
         "2": "0.0",
         "3": "18.1",
         "4": "0.0",
         "5": "0.679",
         "6": "6.782",
         "7": "90.8",
         "8": "1.8195",
         "9": "24.0",
         "10": "666.0",
         "11": "20.2",
         "12": "21.57",
         "13": "25.79"
        },
        {
         "0": "10.4",
         "1": "25.9406",
         "2": "0.0",
         "3": "18.1",
         "4": "0.0",
         "5": "0.679",
         "6": "5.304",
         "7": "89.1",
         "8": "1.6475",
         "9": "24.0",
         "10": "666.0",
         "11": "20.2",
         "12": "127.36",
         "13": "26.64"
        },
        {
         "0": "8.8",
         "1": "73.5341",
         "2": "0.0",
         "3": "18.1",
         "4": "0.0",
         "5": "0.679",
         "6": "5.957",
         "7": "100.0",
         "8": "1.8026",
         "9": "24.0",
         "10": "666.0",
         "11": "20.2",
         "12": "16.45",
         "13": "20.62"
        },
        {
         "0": "8.4",
         "1": "11.8123",
         "2": "0.0",
         "3": "18.1",
         "4": "0.0",
         "5": "0.718",
         "6": "6.824",
         "7": "76.5",
         "8": "1.794",
         "9": "24.0",
         "10": "666.0",
         "11": "20.2",
         "12": "48.45",
         "13": "22.74"
        },
        {
         "0": "16.7",
         "1": "11.0874",
         "2": "0.0",
         "3": "18.1",
         "4": "0.0",
         "5": "0.718",
         "6": "6.411",
         "7": "100.0",
         "8": "1.8589",
         "9": "24.0",
         "10": "666.0",
         "11": "20.2",
         "12": "318.75",
         "13": "15.02"
        },
        {
         "0": "14.2",
         "1": "7.02259",
         "2": "0.0",
         "3": "18.1",
         "4": "0.0",
         "5": "0.718",
         "6": "6.006",
         "7": "95.3",
         "8": "1.8746",
         "9": "24.0",
         "10": "666.0",
         "11": "20.2",
         "12": "319.98",
         "13": "15.7"
        },
        {
         "0": "20.8",
         "1": "12.0482",
         "2": "0.0",
         "3": "18.1",
         "4": "0.0",
         "5": "0.614",
         "6": "5.648",
         "7": "87.6",
         "8": "1.9512",
         "9": "24.0",
         "10": "666.0",
         "11": "20.2",
         "12": "291.55",
         "13": "14.1"
        },
        {
         "0": "13.4",
         "1": "7.05042",
         "2": "0.0",
         "3": "18.1",
         "4": "0.0",
         "5": "0.614",
         "6": "6.103",
         "7": "85.1",
         "8": "2.0218",
         "9": "24.0",
         "10": "666.0",
         "11": "20.2",
         "12": "2.52",
         "13": "23.29"
        },
        {
         "0": "11.7",
         "1": "8.79212",
         "2": "0.0",
         "3": "18.1",
         "4": "0.0",
         "5": "0.584",
         "6": "5.565",
         "7": "70.6",
         "8": "2.0635",
         "9": "24.0",
         "10": "666.0",
         "11": "20.2",
         "12": "3.65",
         "13": "17.16"
        },
        {
         "0": "8.3",
         "1": "15.8603",
         "2": "0.0",
         "3": "18.1",
         "4": "0.0",
         "5": "0.679",
         "6": "5.896",
         "7": "95.4",
         "8": "1.9096",
         "9": "24.0",
         "10": "666.0",
         "11": "20.2",
         "12": "7.68",
         "13": "24.39"
        },
        {
         "0": "10.2",
         "1": "12.2472",
         "2": "0.0",
         "3": "18.1",
         "4": "0.0",
         "5": "0.584",
         "6": "5.837",
         "7": "59.7",
         "8": "1.9976",
         "9": "24.0",
         "10": "666.0",
         "11": "20.2",
         "12": "24.65",
         "13": "15.69"
        },
        {
         "0": "10.9",
         "1": "37.6619",
         "2": "0.0",
         "3": "18.1",
         "4": "0.0",
         "5": "0.679",
         "6": "6.202",
         "7": "78.7",
         "8": "1.8629",
         "9": "24.0",
         "10": "666.0",
         "11": "20.2",
         "12": "18.82",
         "13": "14.52"
        },
        {
         "0": "11.0",
         "1": "7.36711",
         "2": "0.0",
         "3": "18.1",
         "4": "0.0",
         "5": "0.679",
         "6": "6.193",
         "7": "78.1",
         "8": "1.9356",
         "9": "24.0",
         "10": "666.0",
         "11": "20.2",
         "12": "96.73",
         "13": "21.52"
        },
        {
         "0": "9.5",
         "1": "9.33889",
         "2": "0.0",
         "3": "18.1",
         "4": "0.0",
         "5": "0.679",
         "6": "6.38",
         "7": "95.6",
         "8": "1.9682",
         "9": "24.0",
         "10": "666.0",
         "11": "20.2",
         "12": "60.72",
         "13": "24.08"
        },
        {
         "0": "14.5",
         "1": "8.49213",
         "2": "0.0",
         "3": "18.1",
         "4": "0.0",
         "5": "0.584",
         "6": "6.348",
         "7": "86.1",
         "8": "2.0527",
         "9": "24.0",
         "10": "666.0",
         "11": "20.2",
         "12": "83.45",
         "13": "17.64"
        },
        {
         "0": "14.1",
         "1": "10.0623",
         "2": "0.0",
         "3": "18.1",
         "4": "0.0",
         "5": "0.584",
         "6": "6.833",
         "7": "94.3",
         "8": "2.0882",
         "9": "24.0",
         "10": "666.0",
         "11": "20.2",
         "12": "81.33",
         "13": "19.69"
        },
        {
         "0": "16.1",
         "1": "6.44405",
         "2": "0.0",
         "3": "18.1",
         "4": "0.0",
         "5": "0.584",
         "6": "6.425",
         "7": "74.8",
         "8": "2.2004",
         "9": "24.0",
         "10": "666.0",
         "11": "20.2",
         "12": "97.95",
         "13": "12.03"
        },
        {
         "0": "14.3",
         "1": "5.58107",
         "2": "0.0",
         "3": "18.1",
         "4": "0.0",
         "5": "0.713",
         "6": "6.436",
         "7": "87.9",
         "8": "2.3158",
         "9": "24.0",
         "10": "666.0",
         "11": "20.2",
         "12": "100.19",
         "13": "16.22"
        },
        {
         "0": "11.7",
         "1": "13.9134",
         "2": "0.0",
         "3": "18.1",
         "4": "0.0",
         "5": "0.713",
         "6": "6.208",
         "7": "95.0",
         "8": "2.2222",
         "9": "24.0",
         "10": "666.0",
         "11": "20.2",
         "12": "100.63",
         "13": "15.17"
        },
        {
         "0": "13.4",
         "1": "11.1604",
         "2": "0.0",
         "3": "18.1",
         "4": "0.0",
         "5": "0.74",
         "6": "6.629",
         "7": "94.6",
         "8": "2.1247",
         "9": "24.0",
         "10": "666.0",
         "11": "20.2",
         "12": "109.85",
         "13": "23.27"
        },
        {
         "0": "9.6",
         "1": "14.4208",
         "2": "0.0",
         "3": "18.1",
         "4": "0.0",
         "5": "0.74",
         "6": "6.461",
         "7": "93.3",
         "8": "2.0026",
         "9": "24.0",
         "10": "666.0",
         "11": "20.2",
         "12": "27.49",
         "13": "18.05"
        },
        {
         "0": "8.7",
         "1": "15.1772",
         "2": "0.0",
         "3": "18.1",
         "4": "0.0",
         "5": "0.74",
         "6": "6.152",
         "7": "100.0",
         "8": "1.9142",
         "9": "24.0",
         "10": "666.0",
         "11": "20.2",
         "12": "9.32",
         "13": "26.45"
        },
        {
         "0": "8.4",
         "1": "13.6781",
         "2": "0.0",
         "3": "18.1",
         "4": "0.0",
         "5": "0.74",
         "6": "5.935",
         "7": "87.9",
         "8": "1.8206",
         "9": "24.0",
         "10": "666.0",
         "11": "20.2",
         "12": "68.95",
         "13": "34.02"
        },
        {
         "0": "12.8",
         "1": "9.39063",
         "2": "0.0",
         "3": "18.1",
         "4": "0.0",
         "5": "0.74",
         "6": "5.627",
         "7": "93.9",
         "8": "1.8172",
         "9": "24.0",
         "10": "666.0",
         "11": "20.2",
         "12": "396.9",
         "13": "22.88"
        },
        {
         "0": "10.5",
         "1": "22.0511",
         "2": "0.0",
         "3": "18.1",
         "4": "0.0",
         "5": "0.74",
         "6": "5.818",
         "7": "92.4",
         "8": "1.8662",
         "9": "24.0",
         "10": "666.0",
         "11": "20.2",
         "12": "391.45",
         "13": "22.11"
        },
        {
         "0": "17.1",
         "1": "9.72418",
         "2": "0.0",
         "3": "18.1",
         "4": "0.0",
         "5": "0.74",
         "6": "6.406",
         "7": "97.2",
         "8": "2.0651",
         "9": "24.0",
         "10": "666.0",
         "11": "20.2",
         "12": "385.96",
         "13": "19.52"
        },
        {
         "0": "18.4",
         "1": "5.66637",
         "2": "0.0",
         "3": "18.1",
         "4": "0.0",
         "5": "0.74",
         "6": "6.219",
         "7": "100.0",
         "8": "2.0048",
         "9": "24.0",
         "10": "666.0",
         "11": "20.2",
         "12": "395.69",
         "13": "16.59"
        },
        {
         "0": "15.4",
         "1": "9.96654",
         "2": "0.0",
         "3": "18.1",
         "4": "0.0",
         "5": "0.74",
         "6": "6.485",
         "7": "100.0",
         "8": "1.9784",
         "9": "24.0",
         "10": "666.0",
         "11": "20.2",
         "12": "386.73",
         "13": "18.85"
        },
        {
         "0": "10.8",
         "1": "12.8023",
         "2": "0.0",
         "3": "18.1",
         "4": "0.0",
         "5": "0.74",
         "6": "5.854",
         "7": "96.6",
         "8": "1.8956",
         "9": "24.0",
         "10": "666.0",
         "11": "20.2",
         "12": "240.52",
         "13": "23.79"
        },
        {
         "0": "11.8",
         "1": "10.6718",
         "2": "0.0",
         "3": "18.1",
         "4": "0.0",
         "5": "0.74",
         "6": "6.459",
         "7": "94.8",
         "8": "1.9879",
         "9": "24.0",
         "10": "666.0",
         "11": "20.2",
         "12": "43.06",
         "13": "23.98"
        },
        {
         "0": "14.9",
         "1": "6.28807",
         "2": "0.0",
         "3": "18.1",
         "4": "0.0",
         "5": "0.74",
         "6": "6.341",
         "7": "96.4",
         "8": "2.072",
         "9": "24.0",
         "10": "666.0",
         "11": "20.2",
         "12": "318.01",
         "13": "17.79"
        },
        {
         "0": "12.6",
         "1": "9.92485",
         "2": "0.0",
         "3": "18.1",
         "4": "0.0",
         "5": "0.74",
         "6": "6.251",
         "7": "96.6",
         "8": "2.198",
         "9": "24.0",
         "10": "666.0",
         "11": "20.2",
         "12": "388.52",
         "13": "16.44"
        },
        {
         "0": "23.0",
         "1": "5.82401",
         "2": "0.0",
         "3": "18.1",
         "4": "0.0",
         "5": "0.532",
         "6": "6.242",
         "7": "64.7",
         "8": "3.4242",
         "9": "24.0",
         "10": "666.0",
         "11": "20.2",
         "12": "396.9",
         "13": "10.74"
        },
        {
         "0": "23.7",
         "1": "5.70818",
         "2": "0.0",
         "3": "18.1",
         "4": "0.0",
         "5": "0.532",
         "6": "6.75",
         "7": "74.9",
         "8": "3.3317",
         "9": "24.0",
         "10": "666.0",
         "11": "20.2",
         "12": "393.07",
         "13": "7.74"
        },
        {
         "0": "25.0",
         "1": "5.73116",
         "2": "0.0",
         "3": "18.1",
         "4": "0.0",
         "5": "0.532",
         "6": "7.061",
         "7": "77.0",
         "8": "3.4106",
         "9": "24.0",
         "10": "666.0",
         "11": "20.2",
         "12": "395.28",
         "13": "7.01"
        },
        {
         "0": "21.8",
         "1": "2.81838",
         "2": "0.0",
         "3": "18.1",
         "4": "0.0",
         "5": "0.532",
         "6": "5.762",
         "7": "40.3",
         "8": "4.0983",
         "9": "24.0",
         "10": "666.0",
         "11": "20.2",
         "12": "392.92",
         "13": "10.42"
        },
        {
         "0": "20.6",
         "1": "2.37857",
         "2": "0.0",
         "3": "18.1",
         "4": "0.0",
         "5": "0.583",
         "6": "5.871",
         "7": "41.9",
         "8": "3.724",
         "9": "24.0",
         "10": "666.0",
         "11": "20.2",
         "12": "370.73",
         "13": "13.34"
        },
        {
         "0": "21.2",
         "1": "3.67367",
         "2": "0.0",
         "3": "18.1",
         "4": "0.0",
         "5": "0.583",
         "6": "6.312",
         "7": "51.9",
         "8": "3.9917",
         "9": "24.0",
         "10": "666.0",
         "11": "20.2",
         "12": "388.62",
         "13": "10.58"
        },
        {
         "0": "19.1",
         "1": "5.69175",
         "2": "0.0",
         "3": "18.1",
         "4": "0.0",
         "5": "0.583",
         "6": "6.114",
         "7": "79.8",
         "8": "3.5459",
         "9": "24.0",
         "10": "666.0",
         "11": "20.2",
         "12": "392.68",
         "13": "14.98"
        },
        {
         "0": "20.6",
         "1": "4.83567",
         "2": "0.0",
         "3": "18.1",
         "4": "0.0",
         "5": "0.583",
         "6": "5.905",
         "7": "53.2",
         "8": "3.1523",
         "9": "24.0",
         "10": "666.0",
         "11": "20.2",
         "12": "388.22",
         "13": "11.45"
        },
        {
         "0": "15.2",
         "1": "0.15086",
         "2": "0.0",
         "3": "27.74",
         "4": "0.0",
         "5": "0.609",
         "6": "5.454",
         "7": "92.7",
         "8": "1.8209",
         "9": "4.0",
         "10": "711.0",
         "11": "20.1",
         "12": "395.09",
         "13": "18.06"
        },
        {
         "0": "7.0",
         "1": "0.18337",
         "2": "0.0",
         "3": "27.74",
         "4": "0.0",
         "5": "0.609",
         "6": "5.414",
         "7": "98.3",
         "8": "1.7554",
         "9": "4.0",
         "10": "711.0",
         "11": "20.1",
         "12": "344.05",
         "13": "23.97"
        },
        {
         "0": "8.1",
         "1": "0.20746",
         "2": "0.0",
         "3": "27.74",
         "4": "0.0",
         "5": "0.609",
         "6": "5.093",
         "7": "98.0",
         "8": "1.8226",
         "9": "4.0",
         "10": "711.0",
         "11": "20.1",
         "12": "318.43",
         "13": "29.68"
        },
        {
         "0": "13.6",
         "1": "0.10574",
         "2": "0.0",
         "3": "27.74",
         "4": "0.0",
         "5": "0.609",
         "6": "5.983",
         "7": "98.8",
         "8": "1.8681",
         "9": "4.0",
         "10": "711.0",
         "11": "20.1",
         "12": "390.11",
         "13": "18.07"
        },
        {
         "0": "20.1",
         "1": "0.11132",
         "2": "0.0",
         "3": "27.74",
         "4": "0.0",
         "5": "0.609",
         "6": "5.983",
         "7": "83.5",
         "8": "2.1099",
         "9": "4.0",
         "10": "711.0",
         "11": "20.1",
         "12": "396.9",
         "13": "13.35"
        },
        {
         "0": "21.8",
         "1": "0.17331",
         "2": "0.0",
         "3": "9.69",
         "4": "0.0",
         "5": "0.585",
         "6": "5.707",
         "7": "54.0",
         "8": "2.3817",
         "9": "6.0",
         "10": "391.0",
         "11": "19.2",
         "12": "396.9",
         "13": "12.01"
        },
        {
         "0": "24.5",
         "1": "0.27957",
         "2": "0.0",
         "3": "9.69",
         "4": "0.0",
         "5": "0.585",
         "6": "5.926",
         "7": "42.6",
         "8": "2.3817",
         "9": "6.0",
         "10": "391.0",
         "11": "19.2",
         "12": "396.9",
         "13": "13.59"
        },
        {
         "0": "23.1",
         "1": "0.17899",
         "2": "0.0",
         "3": "9.69",
         "4": "0.0",
         "5": "0.585",
         "6": "5.67",
         "7": "28.8",
         "8": "2.7986",
         "9": "6.0",
         "10": "391.0",
         "11": "19.2",
         "12": "393.29",
         "13": "17.6"
        },
        {
         "0": "19.7",
         "1": "0.2896",
         "2": "0.0",
         "3": "9.69",
         "4": "0.0",
         "5": "0.585",
         "6": "5.39",
         "7": "72.9",
         "8": "2.7986",
         "9": "6.0",
         "10": "391.0",
         "11": "19.2",
         "12": "396.9",
         "13": "21.14"
        },
        {
         "0": "18.3",
         "1": "0.26838",
         "2": "0.0",
         "3": "9.69",
         "4": "0.0",
         "5": "0.585",
         "6": "5.794",
         "7": "70.6",
         "8": "2.8927",
         "9": "6.0",
         "10": "391.0",
         "11": "19.2",
         "12": "396.9",
         "13": "14.1"
        },
        {
         "0": "21.2",
         "1": "0.23912",
         "2": "0.0",
         "3": "9.69",
         "4": "0.0",
         "5": "0.585",
         "6": "6.019",
         "7": "65.3",
         "8": "2.4091",
         "9": "6.0",
         "10": "391.0",
         "11": "19.2",
         "12": "396.9",
         "13": "12.92"
        },
        {
         "0": "17.5",
         "1": "0.17783",
         "2": "0.0",
         "3": "9.69",
         "4": "0.0",
         "5": "0.585",
         "6": "5.569",
         "7": "73.5",
         "8": "2.3999",
         "9": "6.0",
         "10": "391.0",
         "11": "19.2",
         "12": "395.77",
         "13": "15.1"
        },
        {
         "0": "16.8",
         "1": "0.22438",
         "2": "0.0",
         "3": "9.69",
         "4": "0.0",
         "5": "0.585",
         "6": "6.027",
         "7": "79.7",
         "8": "2.4982",
         "9": "6.0",
         "10": "391.0",
         "11": "19.2",
         "12": "396.9",
         "13": "14.33"
        },
        {
         "0": "22.4",
         "1": "0.06263",
         "2": "0.0",
         "3": "11.93",
         "4": "0.0",
         "5": "0.573",
         "6": "6.593",
         "7": "69.1",
         "8": "2.4786",
         "9": "1.0",
         "10": "273.0",
         "11": "21.0",
         "12": "391.99",
         "13": "9.67"
        },
        {
         "0": "20.6",
         "1": "0.04527",
         "2": "0.0",
         "3": "11.93",
         "4": "0.0",
         "5": "0.573",
         "6": "6.12",
         "7": "76.7",
         "8": "2.2875",
         "9": "1.0",
         "10": "273.0",
         "11": "21.0",
         "12": "396.9",
         "13": "9.08"
        },
        {
         "0": "23.9",
         "1": "0.06076",
         "2": "0.0",
         "3": "11.93",
         "4": "0.0",
         "5": "0.573",
         "6": "6.976",
         "7": "91.0",
         "8": "2.1675",
         "9": "1.0",
         "10": "273.0",
         "11": "21.0",
         "12": "396.9",
         "13": "5.64"
        },
        {
         "0": "22.0",
         "1": "0.10959",
         "2": "0.0",
         "3": "11.93",
         "4": "0.0",
         "5": "0.573",
         "6": "6.794",
         "7": "89.3",
         "8": "2.3889",
         "9": "1.0",
         "10": "273.0",
         "11": "21.0",
         "12": "393.45",
         "13": "6.48"
        },
        {
         "0": "11.9",
         "1": "0.04741",
         "2": "0.0",
         "3": "11.93",
         "4": "0.0",
         "5": "0.573",
         "6": "6.03",
         "7": "80.8",
         "8": "2.505",
         "9": "1.0",
         "10": "273.0",
         "11": "21.0",
         "12": "396.9",
         "13": "7.88"
        },
        {
         "0": "24.0",
         "1": "0.00632",
         "2": "18.0",
         "3": "2.31",
         "4": "0.0",
         "5": "0.538",
         "6": "6.575",
         "7": "65.2",
         "8": "4.09",
         "9": "1.0",
         "10": "296.0",
         "11": "15.3",
         "12": "396.9",
         "13": "4.98"
        },
        {
         "0": "21.6",
         "1": "0.02731",
         "2": "0.0",
         "3": "7.07",
         "4": "0.0",
         "5": "0.469",
         "6": "6.421",
         "7": "78.9",
         "8": "4.9671",
         "9": "2.0",
         "10": "242.0",
         "11": "17.8",
         "12": "396.9",
         "13": "9.14"
        },
        {
         "0": "34.7",
         "1": "0.02729",
         "2": "0.0",
         "3": "7.07",
         "4": "0.0",
         "5": "0.469",
         "6": "7.185",
         "7": "61.1",
         "8": "4.9671",
         "9": "2.0",
         "10": "242.0",
         "11": "17.8",
         "12": "392.83",
         "13": "4.03"
        },
        {
         "0": "33.4",
         "1": "0.03237",
         "2": "0.0",
         "3": "2.18",
         "4": "0.0",
         "5": "0.458",
         "6": "6.998",
         "7": "45.8",
         "8": "6.0622",
         "9": "3.0",
         "10": "222.0",
         "11": "18.7",
         "12": "394.63",
         "13": "2.94"
        },
        {
         "0": "36.2",
         "1": "0.06905",
         "2": "0.0",
         "3": "2.18",
         "4": "0.0",
         "5": "0.458",
         "6": "7.147",
         "7": "54.2",
         "8": "6.0622",
         "9": "3.0",
         "10": "222.0",
         "11": "18.7",
         "12": "396.9",
         "13": "5.33"
        },
        {
         "0": "28.7",
         "1": "0.02985",
         "2": "0.0",
         "3": "2.18",
         "4": "0.0",
         "5": "0.458",
         "6": "6.43",
         "7": "58.7",
         "8": "6.0622",
         "9": "3.0",
         "10": "222.0",
         "11": "18.7",
         "12": "394.12",
         "13": "5.21"
        },
        {
         "0": "22.9",
         "1": "0.08829",
         "2": "12.5",
         "3": "7.87",
         "4": "0.0",
         "5": "0.524",
         "6": "6.012",
         "7": "66.6",
         "8": "5.5605",
         "9": "5.0",
         "10": "311.0",
         "11": "15.2",
         "12": "395.6",
         "13": "12.43"
        },
        {
         "0": "27.1",
         "1": "0.14455",
         "2": "12.5",
         "3": "7.87",
         "4": "0.0",
         "5": "0.524",
         "6": "6.172",
         "7": "96.1",
         "8": "5.9505",
         "9": "5.0",
         "10": "311.0",
         "11": "15.2",
         "12": "396.9",
         "13": "19.15"
        },
        {
         "0": "16.5",
         "1": "0.21124",
         "2": "12.5",
         "3": "7.87",
         "4": "0.0",
         "5": "0.524",
         "6": "5.631",
         "7": "100.0",
         "8": "6.0821",
         "9": "5.0",
         "10": "311.0",
         "11": "15.2",
         "12": "386.63",
         "13": "29.93"
        },
        {
         "0": "18.9",
         "1": "0.17004",
         "2": "12.5",
         "3": "7.87",
         "4": "0.0",
         "5": "0.524",
         "6": "6.004",
         "7": "85.9",
         "8": "6.5921",
         "9": "5.0",
         "10": "311.0",
         "11": "15.2",
         "12": "386.71",
         "13": "17.1"
        },
        {
         "0": "15.0",
         "1": "0.22489",
         "2": "12.5",
         "3": "7.87",
         "4": "0.0",
         "5": "0.524",
         "6": "6.377",
         "7": "94.3",
         "8": "6.3467",
         "9": "5.0",
         "10": "311.0",
         "11": "15.2",
         "12": "392.52",
         "13": "20.45"
        },
        {
         "0": "18.9",
         "1": "0.11747",
         "2": "12.5",
         "3": "7.87",
         "4": "0.0",
         "5": "0.524",
         "6": "6.009",
         "7": "82.9",
         "8": "6.2267",
         "9": "5.0",
         "10": "311.0",
         "11": "15.2",
         "12": "396.9",
         "13": "13.27"
        },
        {
         "0": "21.7",
         "1": "0.09378",
         "2": "12.5",
         "3": "7.87",
         "4": "0.0",
         "5": "0.524",
         "6": "5.889",
         "7": "39.0",
         "8": "5.4509",
         "9": "5.0",
         "10": "311.0",
         "11": "15.2",
         "12": "390.5",
         "13": "15.71"
        },
        {
         "0": "20.4",
         "1": "0.62976",
         "2": "0.0",
         "3": "8.14",
         "4": "0.0",
         "5": "0.538",
         "6": "5.949",
         "7": "61.8",
         "8": "4.7075",
         "9": "4.0",
         "10": "307.0",
         "11": "21.0",
         "12": "396.9",
         "13": "8.26"
        },
        {
         "0": "18.2",
         "1": "0.63796",
         "2": "0.0",
         "3": "8.14",
         "4": "0.0",
         "5": "0.538",
         "6": "6.096",
         "7": "84.5",
         "8": "4.4619",
         "9": "4.0",
         "10": "307.0",
         "11": "21.0",
         "12": "380.02",
         "13": "10.26"
        },
        {
         "0": "19.9",
         "1": "0.62739",
         "2": "0.0",
         "3": "8.14",
         "4": "0.0",
         "5": "0.538",
         "6": "5.834",
         "7": "56.5",
         "8": "4.4986",
         "9": "4.0",
         "10": "307.0",
         "11": "21.0",
         "12": "395.62",
         "13": "8.47"
        },
        {
         "0": "23.1",
         "1": "1.05393",
         "2": "0.0",
         "3": "8.14",
         "4": "0.0",
         "5": "0.538",
         "6": "5.935",
         "7": "29.3",
         "8": "4.4986",
         "9": "4.0",
         "10": "307.0",
         "11": "21.0",
         "12": "386.85",
         "13": "6.58"
        },
        {
         "0": "17.5",
         "1": "0.7842",
         "2": "0.0",
         "3": "8.14",
         "4": "0.0",
         "5": "0.538",
         "6": "5.99",
         "7": "81.7",
         "8": "4.2579",
         "9": "4.0",
         "10": "307.0",
         "11": "21.0",
         "12": "386.75",
         "13": "14.67"
        },
        {
         "0": "20.2",
         "1": "0.80271",
         "2": "0.0",
         "3": "8.14",
         "4": "0.0",
         "5": "0.538",
         "6": "5.456",
         "7": "36.6",
         "8": "3.7965",
         "9": "4.0",
         "10": "307.0",
         "11": "21.0",
         "12": "288.99",
         "13": "11.69"
        },
        {
         "0": "18.2",
         "1": "0.7258",
         "2": "0.0",
         "3": "8.14",
         "4": "0.0",
         "5": "0.538",
         "6": "5.727",
         "7": "69.5",
         "8": "3.7965",
         "9": "4.0",
         "10": "307.0",
         "11": "21.0",
         "12": "390.95",
         "13": "11.28"
        },
        {
         "0": "13.6",
         "1": "1.25179",
         "2": "0.0",
         "3": "8.14",
         "4": "0.0",
         "5": "0.538",
         "6": "5.57",
         "7": "98.1",
         "8": "3.7979",
         "9": "4.0",
         "10": "307.0",
         "11": "21.0",
         "12": "376.57",
         "13": "21.02"
        },
        {
         "0": "19.6",
         "1": "0.85204",
         "2": "0.0",
         "3": "8.14",
         "4": "0.0",
         "5": "0.538",
         "6": "5.965",
         "7": "89.2",
         "8": "4.0123",
         "9": "4.0",
         "10": "307.0",
         "11": "21.0",
         "12": "392.53",
         "13": "13.83"
        },
        {
         "0": "15.2",
         "1": "1.23247",
         "2": "0.0",
         "3": "8.14",
         "4": "0.0",
         "5": "0.538",
         "6": "6.142",
         "7": "91.7",
         "8": "3.9769",
         "9": "4.0",
         "10": "307.0",
         "11": "21.0",
         "12": "396.9",
         "13": "18.72"
        },
        {
         "0": "14.5",
         "1": "0.98843",
         "2": "0.0",
         "3": "8.14",
         "4": "0.0",
         "5": "0.538",
         "6": "5.813",
         "7": "100.0",
         "8": "4.0952",
         "9": "4.0",
         "10": "307.0",
         "11": "21.0",
         "12": "394.54",
         "13": "19.88"
        },
        {
         "0": "15.6",
         "1": "0.75026",
         "2": "0.0",
         "3": "8.14",
         "4": "0.0",
         "5": "0.538",
         "6": "5.924",
         "7": "94.1",
         "8": "4.3996",
         "9": "4.0",
         "10": "307.0",
         "11": "21.0",
         "12": "394.33",
         "13": "16.3"
        },
        {
         "0": "13.9",
         "1": "0.84054",
         "2": "0.0",
         "3": "8.14",
         "4": "0.0",
         "5": "0.538",
         "6": "5.599",
         "7": "85.7",
         "8": "4.4546",
         "9": "4.0",
         "10": "307.0",
         "11": "21.0",
         "12": "303.42",
         "13": "16.51"
        },
        {
         "0": "16.6",
         "1": "0.67191",
         "2": "0.0",
         "3": "8.14",
         "4": "0.0",
         "5": "0.538",
         "6": "5.813",
         "7": "90.3",
         "8": "4.682",
         "9": "4.0",
         "10": "307.0",
         "11": "21.0",
         "12": "376.88",
         "13": "14.81"
        },
        {
         "0": "14.8",
         "1": "0.95577",
         "2": "0.0",
         "3": "8.14",
         "4": "0.0",
         "5": "0.538",
         "6": "6.047",
         "7": "88.8",
         "8": "4.4534",
         "9": "4.0",
         "10": "307.0",
         "11": "21.0",
         "12": "306.38",
         "13": "17.28"
        },
        {
         "0": "18.4",
         "1": "0.77299",
         "2": "0.0",
         "3": "8.14",
         "4": "0.0",
         "5": "0.538",
         "6": "6.495",
         "7": "94.4",
         "8": "4.4547",
         "9": "4.0",
         "10": "307.0",
         "11": "21.0",
         "12": "387.94",
         "13": "12.8"
        },
        {
         "0": "21.0",
         "1": "1.00245",
         "2": "0.0",
         "3": "8.14",
         "4": "0.0",
         "5": "0.538",
         "6": "6.674",
         "7": "87.3",
         "8": "4.239",
         "9": "4.0",
         "10": "307.0",
         "11": "21.0",
         "12": "380.23",
         "13": "11.98"
        },
        {
         "0": "12.7",
         "1": "1.13081",
         "2": "0.0",
         "3": "8.14",
         "4": "0.0",
         "5": "0.538",
         "6": "5.713",
         "7": "94.1",
         "8": "4.233",
         "9": "4.0",
         "10": "307.0",
         "11": "21.0",
         "12": "360.17",
         "13": "22.6"
        },
        {
         "0": "14.5",
         "1": "1.35472",
         "2": "0.0",
         "3": "8.14",
         "4": "0.0",
         "5": "0.538",
         "6": "6.072",
         "7": "100.0",
         "8": "4.175",
         "9": "4.0",
         "10": "307.0",
         "11": "21.0",
         "12": "376.73",
         "13": "13.04"
        },
        {
         "0": "33.0",
         "1": "0.01951",
         "2": "17.5",
         "3": "1.38",
         "4": "0.0",
         "5": "0.4161",
         "6": "7.104",
         "7": "59.5",
         "8": "9.2229",
         "9": "3.0",
         "10": "216.0",
         "11": "18.6",
         "12": "393.24",
         "13": "8.05"
        },
        {
         "0": "23.5",
         "1": "0.03584",
         "2": "80.0",
         "3": "3.37",
         "4": "0.0",
         "5": "0.398",
         "6": "6.29",
         "7": "17.8",
         "8": "6.6115",
         "9": "4.0",
         "10": "337.0",
         "11": "16.1",
         "12": "396.9",
         "13": "4.67"
        },
        {
         "0": "19.4",
         "1": "0.04379",
         "2": "80.0",
         "3": "3.37",
         "4": "0.0",
         "5": "0.398",
         "6": "5.787",
         "7": "31.1",
         "8": "6.6115",
         "9": "4.0",
         "10": "337.0",
         "11": "16.1",
         "12": "396.9",
         "13": "10.24"
        },
        {
         "0": "22.0",
         "1": "0.05789",
         "2": "12.5",
         "3": "6.07",
         "4": "0.0",
         "5": "0.409",
         "6": "5.878",
         "7": "21.4",
         "8": "6.498",
         "9": "4.0",
         "10": "345.0",
         "11": "18.9",
         "12": "396.21",
         "13": "8.1"
        },
        {
         "0": "17.4",
         "1": "0.13554",
         "2": "12.5",
         "3": "6.07",
         "4": "0.0",
         "5": "0.409",
         "6": "5.594",
         "7": "36.8",
         "8": "6.498",
         "9": "4.0",
         "10": "345.0",
         "11": "18.9",
         "12": "396.9",
         "13": "13.09"
        },
        {
         "0": "20.9",
         "1": "0.12816",
         "2": "12.5",
         "3": "6.07",
         "4": "0.0",
         "5": "0.409",
         "6": "5.885",
         "7": "33.0",
         "8": "6.498",
         "9": "4.0",
         "10": "345.0",
         "11": "18.9",
         "12": "396.9",
         "13": "8.79"
        },
        {
         "0": "24.2",
         "1": "0.08826",
         "2": "0.0",
         "3": "10.81",
         "4": "0.0",
         "5": "0.413",
         "6": "6.417",
         "7": "6.6",
         "8": "5.2873",
         "9": "4.0",
         "10": "305.0",
         "11": "19.2",
         "12": "383.73",
         "13": "6.72"
        },
        {
         "0": "21.7",
         "1": "0.15876",
         "2": "0.0",
         "3": "10.81",
         "4": "0.0",
         "5": "0.413",
         "6": "5.961",
         "7": "17.5",
         "8": "5.2873",
         "9": "4.0",
         "10": "305.0",
         "11": "19.2",
         "12": "376.94",
         "13": "9.88"
        },
        {
         "0": "22.8",
         "1": "0.09164",
         "2": "0.0",
         "3": "10.81",
         "4": "0.0",
         "5": "0.413",
         "6": "6.065",
         "7": "7.8",
         "8": "5.2873",
         "9": "4.0",
         "10": "305.0",
         "11": "19.2",
         "12": "390.91",
         "13": "5.52"
        },
        {
         "0": "23.4",
         "1": "0.19539",
         "2": "0.0",
         "3": "10.81",
         "4": "0.0",
         "5": "0.413",
         "6": "6.245",
         "7": "6.2",
         "8": "5.2873",
         "9": "4.0",
         "10": "305.0",
         "11": "19.2",
         "12": "377.17",
         "13": "7.54"
        },
        {
         "0": "24.1",
         "1": "0.07896",
         "2": "0.0",
         "3": "12.83",
         "4": "0.0",
         "5": "0.437",
         "6": "6.273",
         "7": "6.0",
         "8": "4.2515",
         "9": "5.0",
         "10": "398.0",
         "11": "18.7",
         "12": "394.92",
         "13": "6.78"
        },
        {
         "0": "21.4",
         "1": "0.09512",
         "2": "0.0",
         "3": "12.83",
         "4": "0.0",
         "5": "0.437",
         "6": "6.286",
         "7": "45.0",
         "8": "4.5026",
         "9": "5.0",
         "10": "398.0",
         "11": "18.7",
         "12": "383.23",
         "13": "8.94"
        },
        {
         "0": "20.0",
         "1": "0.10153",
         "2": "0.0",
         "3": "12.83",
         "4": "0.0",
         "5": "0.437",
         "6": "6.279",
         "7": "74.5",
         "8": "4.0522",
         "9": "5.0",
         "10": "398.0",
         "11": "18.7",
         "12": "373.66",
         "13": "11.97"
        },
        {
         "0": "20.8",
         "1": "0.08707",
         "2": "0.0",
         "3": "12.83",
         "4": "0.0",
         "5": "0.437",
         "6": "6.14",
         "7": "45.8",
         "8": "4.0905",
         "9": "5.0",
         "10": "398.0",
         "11": "18.7",
         "12": "386.96",
         "13": "10.27"
        },
        {
         "0": "21.2",
         "1": "0.05646",
         "2": "0.0",
         "3": "12.83",
         "4": "0.0",
         "5": "0.437",
         "6": "6.232",
         "7": "53.7",
         "8": "5.0141",
         "9": "5.0",
         "10": "398.0",
         "11": "18.7",
         "12": "386.4",
         "13": "12.34"
        },
        {
         "0": "20.3",
         "1": "0.08387",
         "2": "0.0",
         "3": "12.83",
         "4": "0.0",
         "5": "0.437",
         "6": "5.874",
         "7": "36.6",
         "8": "4.5026",
         "9": "5.0",
         "10": "398.0",
         "11": "18.7",
         "12": "396.06",
         "13": "9.1"
        },
        {
         "0": "28.0",
         "1": "0.04113",
         "2": "25.0",
         "3": "4.86",
         "4": "0.0",
         "5": "0.426",
         "6": "6.727",
         "7": "33.5",
         "8": "5.4007",
         "9": "4.0",
         "10": "281.0",
         "11": "19.0",
         "12": "396.9",
         "13": "5.29"
        },
        {
         "0": "23.9",
         "1": "0.04462",
         "2": "25.0",
         "3": "4.86",
         "4": "0.0",
         "5": "0.426",
         "6": "6.619",
         "7": "70.4",
         "8": "5.4007",
         "9": "4.0",
         "10": "281.0",
         "11": "19.0",
         "12": "395.63",
         "13": "7.22"
        },
        {
         "0": "24.8",
         "1": "0.03659",
         "2": "25.0",
         "3": "4.86",
         "4": "0.0",
         "5": "0.426",
         "6": "6.302",
         "7": "32.2",
         "8": "5.4007",
         "9": "4.0",
         "10": "281.0",
         "11": "19.0",
         "12": "396.9",
         "13": "6.72"
        },
        {
         "0": "22.9",
         "1": "0.03551",
         "2": "25.0",
         "3": "4.86",
         "4": "0.0",
         "5": "0.426",
         "6": "6.167",
         "7": "46.7",
         "8": "5.4007",
         "9": "4.0",
         "10": "281.0",
         "11": "19.0",
         "12": "390.64",
         "13": "7.51"
        },
        {
         "0": "23.9",
         "1": "0.05059",
         "2": "0.0",
         "3": "4.49",
         "4": "0.0",
         "5": "0.449",
         "6": "6.389",
         "7": "48.0",
         "8": "4.7794",
         "9": "3.0",
         "10": "247.0",
         "11": "18.5",
         "12": "396.9",
         "13": "9.62"
        },
        {
         "0": "26.6",
         "1": "0.05735",
         "2": "0.0",
         "3": "4.49",
         "4": "0.0",
         "5": "0.449",
         "6": "6.63",
         "7": "56.1",
         "8": "4.4377",
         "9": "3.0",
         "10": "247.0",
         "11": "18.5",
         "12": "392.3",
         "13": "6.53"
        },
        {
         "0": "22.5",
         "1": "0.05188",
         "2": "0.0",
         "3": "4.49",
         "4": "0.0",
         "5": "0.449",
         "6": "6.015",
         "7": "45.1",
         "8": "4.4272",
         "9": "3.0",
         "10": "247.0",
         "11": "18.5",
         "12": "395.99",
         "13": "12.86"
        },
        {
         "0": "22.2",
         "1": "0.07151",
         "2": "0.0",
         "3": "4.49",
         "4": "0.0",
         "5": "0.449",
         "6": "6.121",
         "7": "56.8",
         "8": "3.7476",
         "9": "3.0",
         "10": "247.0",
         "11": "18.5",
         "12": "395.15",
         "13": "8.44"
        },
        {
         "0": "23.6",
         "1": "0.0566",
         "2": "0.0",
         "3": "3.41",
         "4": "0.0",
         "5": "0.489",
         "6": "7.007",
         "7": "86.3",
         "8": "3.4217",
         "9": "2.0",
         "10": "270.0",
         "11": "17.8",
         "12": "396.9",
         "13": "5.5"
        },
        {
         "0": "28.7",
         "1": "0.05302",
         "2": "0.0",
         "3": "3.41",
         "4": "0.0",
         "5": "0.489",
         "6": "7.079",
         "7": "63.1",
         "8": "3.4145",
         "9": "2.0",
         "10": "270.0",
         "11": "17.8",
         "12": "396.06",
         "13": "5.7"
        },
        {
         "0": "22.6",
         "1": "0.04684",
         "2": "0.0",
         "3": "3.41",
         "4": "0.0",
         "5": "0.489",
         "6": "6.417",
         "7": "66.1",
         "8": "3.0923",
         "9": "2.0",
         "10": "270.0",
         "11": "17.8",
         "12": "392.18",
         "13": "8.81"
        },
        {
         "0": "22.0",
         "1": "0.03932",
         "2": "0.0",
         "3": "3.41",
         "4": "0.0",
         "5": "0.489",
         "6": "6.405",
         "7": "73.9",
         "8": "3.0921",
         "9": "2.0",
         "10": "270.0",
         "11": "17.8",
         "12": "393.55",
         "13": "8.2"
        },
        {
         "0": "22.9",
         "1": "0.04203",
         "2": "28.0",
         "3": "15.04",
         "4": "0.0",
         "5": "0.464",
         "6": "6.442",
         "7": "53.6",
         "8": "3.6659",
         "9": "4.0",
         "10": "270.0",
         "11": "18.2",
         "12": "395.01",
         "13": "8.16"
        },
        {
         "0": "25.0",
         "1": "0.02875",
         "2": "28.0",
         "3": "15.04",
         "4": "0.0",
         "5": "0.464",
         "6": "6.211",
         "7": "28.9",
         "8": "3.6659",
         "9": "4.0",
         "10": "270.0",
         "11": "18.2",
         "12": "396.33",
         "13": "6.21"
        },
        {
         "0": "20.6",
         "1": "0.04294",
         "2": "28.0",
         "3": "15.04",
         "4": "0.0",
         "5": "0.464",
         "6": "6.249",
         "7": "77.3",
         "8": "3.615",
         "9": "4.0",
         "10": "270.0",
         "11": "18.2",
         "12": "396.9",
         "13": "10.59"
        },
        {
         "0": "28.4",
         "1": "0.12204",
         "2": "0.0",
         "3": "2.89",
         "4": "0.0",
         "5": "0.445",
         "6": "6.625",
         "7": "57.8",
         "8": "3.4952",
         "9": "2.0",
         "10": "276.0",
         "11": "18.0",
         "12": "357.98",
         "13": "6.65"
        },
        {
         "0": "18.0",
         "1": "0.32543",
         "2": "0.0",
         "3": "21.89",
         "4": "0.0",
         "5": "0.624",
         "6": "6.431",
         "7": "98.8",
         "8": "1.8125",
         "9": "4.0",
         "10": "437.0",
         "11": "21.2",
         "12": "396.9",
         "13": "15.39"
        },
        {
         "0": "14.3",
         "1": "0.88125",
         "2": "0.0",
         "3": "21.89",
         "4": "0.0",
         "5": "0.624",
         "6": "5.637",
         "7": "94.7",
         "8": "1.9799",
         "9": "4.0",
         "10": "437.0",
         "11": "21.2",
         "12": "396.9",
         "13": "18.34"
        },
        {
         "0": "19.2",
         "1": "0.34006",
         "2": "0.0",
         "3": "21.89",
         "4": "0.0",
         "5": "0.624",
         "6": "6.458",
         "7": "98.9",
         "8": "2.1185",
         "9": "4.0",
         "10": "437.0",
         "11": "21.2",
         "12": "395.04",
         "13": "12.6"
        },
        {
         "0": "19.6",
         "1": "1.19294",
         "2": "0.0",
         "3": "21.89",
         "4": "0.0",
         "5": "0.624",
         "6": "6.326",
         "7": "97.7",
         "8": "2.271",
         "9": "4.0",
         "10": "437.0",
         "11": "21.2",
         "12": "396.9",
         "13": "12.26"
        },
        {
         "0": "23.0",
         "1": "0.59005",
         "2": "0.0",
         "3": "21.89",
         "4": "0.0",
         "5": "0.624",
         "6": "6.372",
         "7": "97.9",
         "8": "2.3274",
         "9": "4.0",
         "10": "437.0",
         "11": "21.2",
         "12": "385.76",
         "13": "11.12"
        },
        {
         "0": "18.4",
         "1": "0.32982",
         "2": "0.0",
         "3": "21.89",
         "4": "0.0",
         "5": "0.624",
         "6": "5.822",
         "7": "95.4",
         "8": "2.4699",
         "9": "4.0",
         "10": "437.0",
         "11": "21.2",
         "12": "388.69",
         "13": "15.03"
        },
        {
         "0": "15.6",
         "1": "0.97617",
         "2": "0.0",
         "3": "21.89",
         "4": "0.0",
         "5": "0.624",
         "6": "5.757",
         "7": "98.4",
         "8": "2.346",
         "9": "4.0",
         "10": "437.0",
         "11": "21.2",
         "12": "262.76",
         "13": "17.31"
        },
        {
         "0": "18.1",
         "1": "0.55778",
         "2": "0.0",
         "3": "21.89",
         "4": "0.0",
         "5": "0.624",
         "6": "6.335",
         "7": "98.2",
         "8": "2.1107",
         "9": "4.0",
         "10": "437.0",
         "11": "21.2",
         "12": "394.67",
         "13": "16.96"
        },
        {
         "0": "17.4",
         "1": "0.32264",
         "2": "0.0",
         "3": "21.89",
         "4": "0.0",
         "5": "0.624",
         "6": "5.942",
         "7": "93.5",
         "8": "1.9669",
         "9": "4.0",
         "10": "437.0",
         "11": "21.2",
         "12": "378.25",
         "13": "16.9"
        },
        {
         "0": "17.1",
         "1": "0.35233",
         "2": "0.0",
         "3": "21.89",
         "4": "0.0",
         "5": "0.624",
         "6": "6.454",
         "7": "98.4",
         "8": "1.8498",
         "9": "4.0",
         "10": "437.0",
         "11": "21.2",
         "12": "394.08",
         "13": "14.59"
        },
        {
         "0": "13.3",
         "1": "0.2498",
         "2": "0.0",
         "3": "21.89",
         "4": "0.0",
         "5": "0.624",
         "6": "5.857",
         "7": "98.2",
         "8": "1.6686",
         "9": "4.0",
         "10": "437.0",
         "11": "21.2",
         "12": "392.04",
         "13": "21.32"
        },
        {
         "0": "17.8",
         "1": "0.54452",
         "2": "0.0",
         "3": "21.89",
         "4": "0.0",
         "5": "0.624",
         "6": "6.151",
         "7": "97.9",
         "8": "1.6687",
         "9": "4.0",
         "10": "437.0",
         "11": "21.2",
         "12": "396.9",
         "13": "18.46"
        },
        {
         "0": "14.0",
         "1": "0.2909",
         "2": "0.0",
         "3": "21.89",
         "4": "0.0",
         "5": "0.624",
         "6": "6.174",
         "7": "93.6",
         "8": "1.6119",
         "9": "4.0",
         "10": "437.0",
         "11": "21.2",
         "12": "388.08",
         "13": "24.16"
        },
        {
         "0": "14.4",
         "1": "1.62864",
         "2": "0.0",
         "3": "21.89",
         "4": "0.0",
         "5": "0.624",
         "6": "5.019",
         "7": "100.0",
         "8": "1.4394",
         "9": "4.0",
         "10": "437.0",
         "11": "21.2",
         "12": "396.9",
         "13": "34.41"
        },
        {
         "0": "13.4",
         "1": "3.32105",
         "2": "0.0",
         "3": "19.58",
         "4": "1.0",
         "5": "0.871",
         "6": "5.403",
         "7": "100.0",
         "8": "1.3216",
         "9": "5.0",
         "10": "403.0",
         "11": "14.7",
         "12": "396.9",
         "13": "26.82"
        },
        {
         "0": "15.6",
         "1": "4.0974",
         "2": "0.0",
         "3": "19.58",
         "4": "0.0",
         "5": "0.871",
         "6": "5.468",
         "7": "100.0",
         "8": "1.4118",
         "9": "5.0",
         "10": "403.0",
         "11": "14.7",
         "12": "396.9",
         "13": "26.42"
        },
        {
         "0": "11.8",
         "1": "2.77974",
         "2": "0.0",
         "3": "19.58",
         "4": "0.0",
         "5": "0.871",
         "6": "4.903",
         "7": "97.8",
         "8": "1.3459",
         "9": "5.0",
         "10": "403.0",
         "11": "14.7",
         "12": "396.9",
         "13": "29.29"
        },
        {
         "0": "13.8",
         "1": "2.37934",
         "2": "0.0",
         "3": "19.58",
         "4": "0.0",
         "5": "0.871",
         "6": "6.13",
         "7": "100.0",
         "8": "1.4191",
         "9": "5.0",
         "10": "403.0",
         "11": "14.7",
         "12": "172.91",
         "13": "27.8"
        },
        {
         "0": "15.6",
         "1": "2.15505",
         "2": "0.0",
         "3": "19.58",
         "4": "0.0",
         "5": "0.871",
         "6": "5.628",
         "7": "100.0",
         "8": "1.5166",
         "9": "5.0",
         "10": "403.0",
         "11": "14.7",
         "12": "169.27",
         "13": "16.65"
        },
        {
         "0": "14.6",
         "1": "2.36862",
         "2": "0.0",
         "3": "19.58",
         "4": "0.0",
         "5": "0.871",
         "6": "4.926",
         "7": "95.7",
         "8": "1.4608",
         "9": "5.0",
         "10": "403.0",
         "11": "14.7",
         "12": "391.71",
         "13": "29.53"
        },
        {
         "0": "17.8",
         "1": "2.33099",
         "2": "0.0",
         "3": "19.58",
         "4": "0.0",
         "5": "0.871",
         "6": "5.186",
         "7": "93.8",
         "8": "1.5296",
         "9": "5.0",
         "10": "403.0",
         "11": "14.7",
         "12": "356.99",
         "13": "28.32"
        },
        {
         "0": "15.4",
         "1": "2.73397",
         "2": "0.0",
         "3": "19.58",
         "4": "0.0",
         "5": "0.871",
         "6": "5.597",
         "7": "94.9",
         "8": "1.5257",
         "9": "5.0",
         "10": "403.0",
         "11": "14.7",
         "12": "351.85",
         "13": "21.45"
        },
        {
         "0": "21.5",
         "1": "1.6566",
         "2": "0.0",
         "3": "19.58",
         "4": "0.0",
         "5": "0.871",
         "6": "6.122",
         "7": "97.3",
         "8": "1.618",
         "9": "5.0",
         "10": "403.0",
         "11": "14.7",
         "12": "372.8",
         "13": "14.1"
        },
        {
         "0": "19.6",
         "1": "1.49632",
         "2": "0.0",
         "3": "19.58",
         "4": "0.0",
         "5": "0.871",
         "6": "5.404",
         "7": "100.0",
         "8": "1.5916",
         "9": "5.0",
         "10": "403.0",
         "11": "14.7",
         "12": "341.6",
         "13": "13.28"
        },
        {
         "0": "15.3",
         "1": "1.12658",
         "2": "0.0",
         "3": "19.58",
         "4": "1.0",
         "5": "0.871",
         "6": "5.012",
         "7": "88.0",
         "8": "1.6102",
         "9": "5.0",
         "10": "403.0",
         "11": "14.7",
         "12": "343.28",
         "13": "12.12"
        },
        {
         "0": "19.4",
         "1": "2.14918",
         "2": "0.0",
         "3": "19.58",
         "4": "0.0",
         "5": "0.871",
         "6": "5.709",
         "7": "98.5",
         "8": "1.6232",
         "9": "5.0",
         "10": "403.0",
         "11": "14.7",
         "12": "261.95",
         "13": "15.79"
        },
        {
         "0": "17.0",
         "1": "1.41385",
         "2": "0.0",
         "3": "19.58",
         "4": "1.0",
         "5": "0.871",
         "6": "6.129",
         "7": "96.0",
         "8": "1.7494",
         "9": "5.0",
         "10": "403.0",
         "11": "14.7",
         "12": "321.02",
         "13": "15.12"
        },
        {
         "0": "15.6",
         "1": "3.53501",
         "2": "0.0",
         "3": "19.58",
         "4": "1.0",
         "5": "0.871",
         "6": "6.152",
         "7": "82.6",
         "8": "1.7455",
         "9": "5.0",
         "10": "403.0",
         "11": "14.7",
         "12": "88.01",
         "13": "15.02"
        },
        {
         "0": "13.1",
         "1": "2.44668",
         "2": "0.0",
         "3": "19.58",
         "4": "0.0",
         "5": "0.871",
         "6": "5.272",
         "7": "94.0",
         "8": "1.7364",
         "9": "5.0",
         "10": "403.0",
         "11": "14.7",
         "12": "88.63",
         "13": "16.14"
        },
        {
         "0": "41.3",
         "1": "1.22358",
         "2": "0.0",
         "3": "19.58",
         "4": "0.0",
         "5": "0.605",
         "6": "6.943",
         "7": "97.4",
         "8": "1.8773",
         "9": "5.0",
         "10": "403.0",
         "11": "14.7",
         "12": "363.43",
         "13": "4.59"
        },
        {
         "0": "24.3",
         "1": "1.34284",
         "2": "0.0",
         "3": "19.58",
         "4": "0.0",
         "5": "0.605",
         "6": "6.066",
         "7": "100.0",
         "8": "1.7573",
         "9": "5.0",
         "10": "403.0",
         "11": "14.7",
         "12": "353.89",
         "13": "6.43"
        },
        {
         "0": "23.3",
         "1": "1.42502",
         "2": "0.0",
         "3": "19.58",
         "4": "0.0",
         "5": "0.871",
         "6": "6.51",
         "7": "100.0",
         "8": "1.7659",
         "9": "5.0",
         "10": "403.0",
         "11": "14.7",
         "12": "364.31",
         "13": "7.39"
        },
        {
         "0": "36.4",
         "1": "0.08664",
         "2": "45.0",
         "3": "3.44",
         "4": "0.0",
         "5": "0.437",
         "6": "7.178",
         "7": "26.3",
         "8": "6.4798",
         "9": "5.0",
         "10": "398.0",
         "11": "15.2",
         "12": "390.49",
         "13": "2.87"
        },
        {
         "0": "31.1",
         "1": "0.02187",
         "2": "60.0",
         "3": "2.93",
         "4": "0.0",
         "5": "0.401",
         "6": "6.8",
         "7": "9.9",
         "8": "6.2196",
         "9": "1.0",
         "10": "265.0",
         "11": "15.6",
         "12": "393.37",
         "13": "5.03"
        },
        {
         "0": "29.1",
         "1": "0.01439",
         "2": "60.0",
         "3": "2.93",
         "4": "0.0",
         "5": "0.401",
         "6": "6.604",
         "7": "18.8",
         "8": "6.2196",
         "9": "1.0",
         "10": "265.0",
         "11": "15.6",
         "12": "376.7",
         "13": "4.38"
        },
        {
         "0": "50.0",
         "1": "0.01381",
         "2": "80.0",
         "3": "0.46",
         "4": "0.0",
         "5": "0.422",
         "6": "7.875",
         "7": "32.0",
         "8": "5.6484",
         "9": "4.0",
         "10": "255.0",
         "11": "14.4",
         "12": "394.23",
         "13": "2.97"
        },
        {
         "0": "33.3",
         "1": "0.04011",
         "2": "80.0",
         "3": "1.52",
         "4": "0.0",
         "5": "0.404",
         "6": "7.287",
         "7": "34.1",
         "8": "7.309",
         "9": "2.0",
         "10": "329.0",
         "11": "12.6",
         "12": "396.9",
         "13": "4.08"
        },
        {
         "0": "30.3",
         "1": "0.04666",
         "2": "80.0",
         "3": "1.52",
         "4": "0.0",
         "5": "0.404",
         "6": "7.107",
         "7": "36.6",
         "8": "7.309",
         "9": "2.0",
         "10": "329.0",
         "11": "12.6",
         "12": "354.31",
         "13": "8.61"
        },
        {
         "0": "34.6",
         "1": "0.03768",
         "2": "80.0",
         "3": "1.52",
         "4": "0.0",
         "5": "0.404",
         "6": "7.274",
         "7": "38.3",
         "8": "7.309",
         "9": "2.0",
         "10": "329.0",
         "11": "12.6",
         "12": "392.2",
         "13": "6.62"
        },
        {
         "0": "34.9",
         "1": "0.0315",
         "2": "95.0",
         "3": "1.47",
         "4": "0.0",
         "5": "0.403",
         "6": "6.975",
         "7": "15.3",
         "8": "7.6534",
         "9": "3.0",
         "10": "402.0",
         "11": "17.0",
         "12": "396.9",
         "13": "4.56"
        },
        {
         "0": "32.9",
         "1": "0.01778",
         "2": "95.0",
         "3": "1.47",
         "4": "0.0",
         "5": "0.403",
         "6": "7.135",
         "7": "13.9",
         "8": "7.6534",
         "9": "3.0",
         "10": "402.0",
         "11": "17.0",
         "12": "384.3",
         "13": "4.45"
        },
        {
         "0": "24.1",
         "1": "0.03445",
         "2": "82.5",
         "3": "2.03",
         "4": "0.0",
         "5": "0.415",
         "6": "6.162",
         "7": "38.4",
         "8": "6.27",
         "9": "2.0",
         "10": "348.0",
         "11": "14.7",
         "12": "393.77",
         "13": "7.43"
        },
        {
         "0": "42.3",
         "1": "0.02177",
         "2": "82.5",
         "3": "2.03",
         "4": "0.0",
         "5": "0.415",
         "6": "7.61",
         "7": "15.7",
         "8": "6.27",
         "9": "2.0",
         "10": "348.0",
         "11": "14.7",
         "12": "395.38",
         "13": "3.11"
        },
        {
         "0": "48.5",
         "1": "0.0351",
         "2": "95.0",
         "3": "2.68",
         "4": "0.0",
         "5": "0.4161",
         "6": "7.853",
         "7": "33.2",
         "8": "5.118",
         "9": "4.0",
         "10": "224.0",
         "11": "14.7",
         "12": "392.78",
         "13": "3.81"
        },
        {
         "0": "50.0",
         "1": "0.02009",
         "2": "95.0",
         "3": "2.68",
         "4": "0.0",
         "5": "0.4161",
         "6": "8.034",
         "7": "31.9",
         "8": "5.118",
         "9": "4.0",
         "10": "224.0",
         "11": "14.7",
         "12": "390.55",
         "13": "2.88"
        },
        {
         "0": "22.6",
         "1": "0.13642",
         "2": "0.0",
         "3": "10.59",
         "4": "0.0",
         "5": "0.489",
         "6": "5.891",
         "7": "22.3",
         "8": "3.9454",
         "9": "4.0",
         "10": "277.0",
         "11": "18.6",
         "12": "396.9",
         "13": "10.87"
        },
        {
         "0": "24.4",
         "1": "0.22969",
         "2": "0.0",
         "3": "10.59",
         "4": "0.0",
         "5": "0.489",
         "6": "6.326",
         "7": "52.5",
         "8": "4.3549",
         "9": "4.0",
         "10": "277.0",
         "11": "18.6",
         "12": "394.87",
         "13": "10.97"
        },
        {
         "0": "22.5",
         "1": "0.25199",
         "2": "0.0",
         "3": "10.59",
         "4": "0.0",
         "5": "0.489",
         "6": "5.783",
         "7": "72.7",
         "8": "4.3549",
         "9": "4.0",
         "10": "277.0",
         "11": "18.6",
         "12": "389.43",
         "13": "18.06"
        },
        {
         "0": "24.4",
         "1": "0.13587",
         "2": "0.0",
         "3": "10.59",
         "4": "1.0",
         "5": "0.489",
         "6": "6.064",
         "7": "59.1",
         "8": "4.2392",
         "9": "4.0",
         "10": "277.0",
         "11": "18.6",
         "12": "381.32",
         "13": "14.66"
        },
        {
         "0": "20.0",
         "1": "0.43571",
         "2": "0.0",
         "3": "10.59",
         "4": "1.0",
         "5": "0.489",
         "6": "5.344",
         "7": "100.0",
         "8": "3.875",
         "9": "4.0",
         "10": "277.0",
         "11": "18.6",
         "12": "396.9",
         "13": "23.09"
        },
        {
         "0": "21.7",
         "1": "0.17446",
         "2": "0.0",
         "3": "10.59",
         "4": "1.0",
         "5": "0.489",
         "6": "5.96",
         "7": "92.1",
         "8": "3.8771",
         "9": "4.0",
         "10": "277.0",
         "11": "18.6",
         "12": "393.25",
         "13": "17.27"
        },
        {
         "0": "19.3",
         "1": "0.37578",
         "2": "0.0",
         "3": "10.59",
         "4": "1.0",
         "5": "0.489",
         "6": "5.404",
         "7": "88.6",
         "8": "3.665",
         "9": "4.0",
         "10": "277.0",
         "11": "18.6",
         "12": "395.24",
         "13": "23.98"
        },
        {
         "0": "22.4",
         "1": "0.21719",
         "2": "0.0",
         "3": "10.59",
         "4": "1.0",
         "5": "0.489",
         "6": "5.807",
         "7": "53.8",
         "8": "3.6526",
         "9": "4.0",
         "10": "277.0",
         "11": "18.6",
         "12": "390.94",
         "13": "16.03"
        },
        {
         "0": "28.1",
         "1": "0.14052",
         "2": "0.0",
         "3": "10.59",
         "4": "0.0",
         "5": "0.489",
         "6": "6.375",
         "7": "32.3",
         "8": "3.9454",
         "9": "4.0",
         "10": "277.0",
         "11": "18.6",
         "12": "385.81",
         "13": "9.38"
        },
        {
         "0": "23.7",
         "1": "0.28955",
         "2": "0.0",
         "3": "10.59",
         "4": "0.0",
         "5": "0.489",
         "6": "5.412",
         "7": "9.8",
         "8": "3.5875",
         "9": "4.0",
         "10": "277.0",
         "11": "18.6",
         "12": "348.93",
         "13": "29.55"
        },
        {
         "0": "25.0",
         "1": "0.19802",
         "2": "0.0",
         "3": "10.59",
         "4": "0.0",
         "5": "0.489",
         "6": "6.182",
         "7": "42.4",
         "8": "3.9454",
         "9": "4.0",
         "10": "277.0",
         "11": "18.6",
         "12": "393.63",
         "13": "9.47"
        },
        {
         "0": "23.3",
         "1": "0.0456",
         "2": "0.0",
         "3": "13.89",
         "4": "1.0",
         "5": "0.55",
         "6": "5.888",
         "7": "56.0",
         "8": "3.1121",
         "9": "5.0",
         "10": "276.0",
         "11": "16.4",
         "12": "392.8",
         "13": "13.51"
        },
        {
         "0": "28.7",
         "1": "0.07013",
         "2": "0.0",
         "3": "13.89",
         "4": "0.0",
         "5": "0.55",
         "6": "6.642",
         "7": "85.1",
         "8": "3.4211",
         "9": "5.0",
         "10": "276.0",
         "11": "16.4",
         "12": "392.78",
         "13": "9.69"
        },
        {
         "0": "21.5",
         "1": "0.11069",
         "2": "0.0",
         "3": "13.89",
         "4": "1.0",
         "5": "0.55",
         "6": "5.951",
         "7": "93.8",
         "8": "2.8893",
         "9": "5.0",
         "10": "276.0",
         "11": "16.4",
         "12": "396.9",
         "13": "17.92"
        },
        {
         "0": "23.0",
         "1": "0.11425",
         "2": "0.0",
         "3": "13.89",
         "4": "1.0",
         "5": "0.55",
         "6": "6.373",
         "7": "92.4",
         "8": "3.3633",
         "9": "5.0",
         "10": "276.0",
         "11": "16.4",
         "12": "393.74",
         "13": "10.5"
        },
        {
         "0": "26.7",
         "1": "0.35809",
         "2": "0.0",
         "3": "6.2",
         "4": "1.0",
         "5": "0.507",
         "6": "6.951",
         "7": "88.5",
         "8": "2.8617",
         "9": "8.0",
         "10": "307.0",
         "11": "17.4",
         "12": "391.7",
         "13": "9.71"
        },
        {
         "0": "21.7",
         "1": "0.40771",
         "2": "0.0",
         "3": "6.2",
         "4": "1.0",
         "5": "0.507",
         "6": "6.164",
         "7": "91.3",
         "8": "3.048",
         "9": "8.0",
         "10": "307.0",
         "11": "17.4",
         "12": "395.24",
         "13": "21.46"
        },
        {
         "0": "27.5",
         "1": "0.62356",
         "2": "0.0",
         "3": "6.2",
         "4": "1.0",
         "5": "0.507",
         "6": "6.879",
         "7": "77.7",
         "8": "3.2721",
         "9": "8.0",
         "10": "307.0",
         "11": "17.4",
         "12": "390.39",
         "13": "9.93"
        },
        {
         "0": "30.1",
         "1": "0.6147",
         "2": "0.0",
         "3": "6.2",
         "4": "0.0",
         "5": "0.507",
         "6": "6.618",
         "7": "80.8",
         "8": "3.2721",
         "9": "8.0",
         "10": "307.0",
         "11": "17.4",
         "12": "396.9",
         "13": "7.6"
        },
        {
         "0": "44.0",
         "1": "0.01538",
         "2": "90.0",
         "3": "3.75",
         "4": "0.0",
         "5": "0.394",
         "6": "7.454",
         "7": "34.2",
         "8": "6.3361",
         "9": "3.0",
         "10": "244.0",
         "11": "15.9",
         "12": "386.34",
         "13": "3.11"
        },
        {
         "0": "50.0",
         "1": "0.61154",
         "2": "20.0",
         "3": "3.97",
         "4": "0.0",
         "5": "0.647",
         "6": "8.704",
         "7": "86.9",
         "8": "1.801",
         "9": "5.0",
         "10": "264.0",
         "11": "13.0",
         "12": "389.7",
         "13": "5.12"
        },
        {
         "0": "36.0",
         "1": "0.66351",
         "2": "20.0",
         "3": "3.97",
         "4": "0.0",
         "5": "0.647",
         "6": "7.333",
         "7": "100.0",
         "8": "1.8946",
         "9": "5.0",
         "10": "264.0",
         "11": "13.0",
         "12": "383.29",
         "13": "7.79"
        },
        {
         "0": "30.1",
         "1": "0.65665",
         "2": "20.0",
         "3": "3.97",
         "4": "0.0",
         "5": "0.647",
         "6": "6.842",
         "7": "100.0",
         "8": "2.0107",
         "9": "5.0",
         "10": "264.0",
         "11": "13.0",
         "12": "391.93",
         "13": "6.9"
        },
        {
         "0": "33.8",
         "1": "0.54011",
         "2": "20.0",
         "3": "3.97",
         "4": "0.0",
         "5": "0.647",
         "6": "7.203",
         "7": "81.8",
         "8": "2.1121",
         "9": "5.0",
         "10": "264.0",
         "11": "13.0",
         "12": "392.8",
         "13": "9.59"
        },
        {
         "0": "43.1",
         "1": "0.53412",
         "2": "20.0",
         "3": "3.97",
         "4": "0.0",
         "5": "0.647",
         "6": "7.52",
         "7": "89.4",
         "8": "2.1398",
         "9": "5.0",
         "10": "264.0",
         "11": "13.0",
         "12": "388.37",
         "13": "7.26"
        },
        {
         "0": "48.8",
         "1": "0.52014",
         "2": "20.0",
         "3": "3.97",
         "4": "0.0",
         "5": "0.647",
         "6": "8.398",
         "7": "91.5",
         "8": "2.2885",
         "9": "5.0",
         "10": "264.0",
         "11": "13.0",
         "12": "386.86",
         "13": "5.91"
        },
        {
         "0": "31.0",
         "1": "0.82526",
         "2": "20.0",
         "3": "3.97",
         "4": "0.0",
         "5": "0.647",
         "6": "7.327",
         "7": "94.5",
         "8": "2.0788",
         "9": "5.0",
         "10": "264.0",
         "11": "13.0",
         "12": "393.42",
         "13": "11.25"
        },
        {
         "0": "36.5",
         "1": "0.55007",
         "2": "20.0",
         "3": "3.97",
         "4": "0.0",
         "5": "0.647",
         "6": "7.206",
         "7": "91.6",
         "8": "1.9301",
         "9": "5.0",
         "10": "264.0",
         "11": "13.0",
         "12": "387.89",
         "13": "8.1"
        },
        {
         "0": "22.8",
         "1": "0.76162",
         "2": "20.0",
         "3": "3.97",
         "4": "0.0",
         "5": "0.647",
         "6": "5.56",
         "7": "62.8",
         "8": "1.9865",
         "9": "5.0",
         "10": "264.0",
         "11": "13.0",
         "12": "392.4",
         "13": "10.45"
        },
        {
         "0": "30.7",
         "1": "0.7857",
         "2": "20.0",
         "3": "3.97",
         "4": "0.0",
         "5": "0.647",
         "6": "7.014",
         "7": "84.6",
         "8": "2.1329",
         "9": "5.0",
         "10": "264.0",
         "11": "13.0",
         "12": "384.07",
         "13": "14.79"
        },
        {
         "0": "50.0",
         "1": "0.57834",
         "2": "20.0",
         "3": "3.97",
         "4": "0.0",
         "5": "0.575",
         "6": "8.297",
         "7": "67.0",
         "8": "2.4216",
         "9": "5.0",
         "10": "264.0",
         "11": "13.0",
         "12": "384.54",
         "13": "7.44"
        },
        {
         "0": "43.5",
         "1": "0.5405",
         "2": "20.0",
         "3": "3.97",
         "4": "0.0",
         "5": "0.575",
         "6": "7.47",
         "7": "52.6",
         "8": "2.872",
         "9": "5.0",
         "10": "264.0",
         "11": "13.0",
         "12": "390.3",
         "13": "3.16"
        },
        {
         "0": "20.7",
         "1": "0.09065",
         "2": "20.0",
         "3": "6.96",
         "4": "1.0",
         "5": "0.464",
         "6": "5.92",
         "7": "61.5",
         "8": "3.9175",
         "9": "3.0",
         "10": "223.0",
         "11": "18.6",
         "12": "391.34",
         "13": "13.65"
        },
        {
         "0": "21.1",
         "1": "0.29916",
         "2": "20.0",
         "3": "6.96",
         "4": "0.0",
         "5": "0.464",
         "6": "5.856",
         "7": "42.1",
         "8": "4.429",
         "9": "3.0",
         "10": "223.0",
         "11": "18.6",
         "12": "388.65",
         "13": "13.0"
        },
        {
         "0": "25.2",
         "1": "0.16211",
         "2": "20.0",
         "3": "6.96",
         "4": "0.0",
         "5": "0.464",
         "6": "6.24",
         "7": "16.3",
         "8": "4.429",
         "9": "3.0",
         "10": "223.0",
         "11": "18.6",
         "12": "396.9",
         "13": "6.59"
        },
        {
         "0": "24.4",
         "1": "0.1146",
         "2": "20.0",
         "3": "6.96",
         "4": "0.0",
         "5": "0.464",
         "6": "6.538",
         "7": "58.7",
         "8": "3.9175",
         "9": "3.0",
         "10": "223.0",
         "11": "18.6",
         "12": "394.96",
         "13": "7.73"
        },
        {
         "0": "35.2",
         "1": "0.22188",
         "2": "20.0",
         "3": "6.96",
         "4": "1.0",
         "5": "0.464",
         "6": "7.691",
         "7": "51.8",
         "8": "4.3665",
         "9": "3.0",
         "10": "223.0",
         "11": "18.6",
         "12": "390.77",
         "13": "6.58"
        },
        {
         "0": "32.4",
         "1": "0.05644",
         "2": "40.0",
         "3": "6.41",
         "4": "1.0",
         "5": "0.447",
         "6": "6.758",
         "7": "32.9",
         "8": "4.0776",
         "9": "4.0",
         "10": "254.0",
         "11": "17.6",
         "12": "396.9",
         "13": "3.53"
        },
        {
         "0": "32.0",
         "1": "0.09604",
         "2": "40.0",
         "3": "6.41",
         "4": "0.0",
         "5": "0.447",
         "6": "6.854",
         "7": "42.8",
         "8": "4.2673",
         "9": "4.0",
         "10": "254.0",
         "11": "17.6",
         "12": "396.9",
         "13": "2.98"
        },
        {
         "0": "33.2",
         "1": "0.10469",
         "2": "40.0",
         "3": "6.41",
         "4": "1.0",
         "5": "0.447",
         "6": "7.267",
         "7": "49.0",
         "8": "4.7872",
         "9": "4.0",
         "10": "254.0",
         "11": "17.6",
         "12": "389.25",
         "13": "6.05"
        },
        {
         "0": "33.1",
         "1": "0.06127",
         "2": "40.0",
         "3": "6.41",
         "4": "1.0",
         "5": "0.447",
         "6": "6.826",
         "7": "27.6",
         "8": "4.8628",
         "9": "4.0",
         "10": "254.0",
         "11": "17.6",
         "12": "393.45",
         "13": "4.16"
        },
        {
         "0": "29.1",
         "1": "0.07978",
         "2": "40.0",
         "3": "6.41",
         "4": "0.0",
         "5": "0.447",
         "6": "6.482",
         "7": "32.1",
         "8": "4.1403",
         "9": "4.0",
         "10": "254.0",
         "11": "17.6",
         "12": "396.9",
         "13": "7.19"
        },
        {
         "0": "35.1",
         "1": "0.21038",
         "2": "20.0",
         "3": "3.33",
         "4": "0.0",
         "5": "0.4429",
         "6": "6.812",
         "7": "32.2",
         "8": "4.1007",
         "9": "5.0",
         "10": "216.0",
         "11": "14.9",
         "12": "396.9",
         "13": "4.85"
        },
        {
         "0": "45.4",
         "1": "0.03578",
         "2": "20.0",
         "3": "3.33",
         "4": "0.0",
         "5": "0.4429",
         "6": "7.82",
         "7": "64.5",
         "8": "4.6947",
         "9": "5.0",
         "10": "216.0",
         "11": "14.9",
         "12": "387.31",
         "13": "3.76"
        },
        {
         "0": "35.4",
         "1": "0.03705",
         "2": "20.0",
         "3": "3.33",
         "4": "0.0",
         "5": "0.4429",
         "6": "6.968",
         "7": "37.2",
         "8": "5.2447",
         "9": "5.0",
         "10": "216.0",
         "11": "14.9",
         "12": "392.23",
         "13": "4.59"
        },
        {
         "0": "46.0",
         "1": "0.06129",
         "2": "20.0",
         "3": "3.33",
         "4": "1.0",
         "5": "0.4429",
         "6": "7.645",
         "7": "49.7",
         "8": "5.2119",
         "9": "5.0",
         "10": "216.0",
         "11": "14.9",
         "12": "377.07",
         "13": "3.01"
        },
        {
         "0": "50.0",
         "1": "0.01501",
         "2": "90.0",
         "3": "1.21",
         "4": "1.0",
         "5": "0.401",
         "6": "7.923",
         "7": "24.8",
         "8": "5.885",
         "9": "1.0",
         "10": "198.0",
         "11": "13.6",
         "12": "395.52",
         "13": "3.16"
        },
        {
         "0": "32.2",
         "1": "0.00906",
         "2": "90.0",
         "3": "2.97",
         "4": "0.0",
         "5": "0.4",
         "6": "7.088",
         "7": "20.8",
         "8": "7.3073",
         "9": "1.0",
         "10": "285.0",
         "11": "15.3",
         "12": "394.72",
         "13": "7.85"
        },
        {
         "0": "22.0",
         "1": "0.01096",
         "2": "55.0",
         "3": "2.25",
         "4": "0.0",
         "5": "0.389",
         "6": "6.453",
         "7": "31.9",
         "8": "7.3073",
         "9": "1.0",
         "10": "300.0",
         "11": "15.3",
         "12": "394.72",
         "13": "8.23"
        },
        {
         "0": "20.1",
         "1": "0.01965",
         "2": "80.0",
         "3": "1.76",
         "4": "0.0",
         "5": "0.385",
         "6": "6.23",
         "7": "31.5",
         "8": "9.0892",
         "9": "1.0",
         "10": "241.0",
         "11": "18.2",
         "12": "341.6",
         "13": "12.93"
        },
        {
         "0": "23.2",
         "1": "0.03871",
         "2": "52.5",
         "3": "5.32",
         "4": "0.0",
         "5": "0.405",
         "6": "6.209",
         "7": "31.3",
         "8": "7.3172",
         "9": "6.0",
         "10": "293.0",
         "11": "16.6",
         "12": "396.9",
         "13": "7.14"
        },
        {
         "0": "23.8",
         "1": "0.1676",
         "2": "0.0",
         "3": "7.38",
         "4": "0.0",
         "5": "0.493",
         "6": "6.426",
         "7": "52.3",
         "8": "4.5404",
         "9": "5.0",
         "10": "287.0",
         "11": "19.6",
         "12": "396.9",
         "13": "7.2"
        },
        {
         "0": "23.1",
         "1": "0.18159",
         "2": "0.0",
         "3": "7.38",
         "4": "0.0",
         "5": "0.493",
         "6": "6.376",
         "7": "54.3",
         "8": "4.5404",
         "9": "5.0",
         "10": "287.0",
         "11": "19.6",
         "12": "396.9",
         "13": "6.87"
        },
        {
         "0": "20.4",
         "1": "0.35114",
         "2": "0.0",
         "3": "7.38",
         "4": "0.0",
         "5": "0.493",
         "6": "6.041",
         "7": "49.9",
         "8": "4.7211",
         "9": "5.0",
         "10": "287.0",
         "11": "19.6",
         "12": "396.9",
         "13": "7.7"
        },
        {
         "0": "18.5",
         "1": "0.28392",
         "2": "0.0",
         "3": "7.38",
         "4": "0.0",
         "5": "0.493",
         "6": "5.708",
         "7": "74.3",
         "8": "4.7211",
         "9": "5.0",
         "10": "287.0",
         "11": "19.6",
         "12": "391.13",
         "13": "11.74"
        },
        {
         "0": "25.0",
         "1": "0.34109",
         "2": "0.0",
         "3": "7.38",
         "4": "0.0",
         "5": "0.493",
         "6": "6.415",
         "7": "40.1",
         "8": "4.7211",
         "9": "5.0",
         "10": "287.0",
         "11": "19.6",
         "12": "396.9",
         "13": "6.12"
        },
        {
         "0": "24.6",
         "1": "0.19186",
         "2": "0.0",
         "3": "7.38",
         "4": "0.0",
         "5": "0.493",
         "6": "6.431",
         "7": "14.7",
         "8": "5.4159",
         "9": "5.0",
         "10": "287.0",
         "11": "19.6",
         "12": "393.68",
         "13": "5.08"
        },
        {
         "0": "23.0",
         "1": "0.30347",
         "2": "0.0",
         "3": "7.38",
         "4": "0.0",
         "5": "0.493",
         "6": "6.312",
         "7": "28.9",
         "8": "5.4159",
         "9": "5.0",
         "10": "287.0",
         "11": "19.6",
         "12": "396.9",
         "13": "6.15"
        },
        {
         "0": "22.2",
         "1": "0.24103",
         "2": "0.0",
         "3": "7.38",
         "4": "0.0",
         "5": "0.493",
         "6": "6.083",
         "7": "43.7",
         "8": "5.4159",
         "9": "5.0",
         "10": "287.0",
         "11": "19.6",
         "12": "396.9",
         "13": "12.79"
        },
        {
         "0": "19.3",
         "1": "0.06617",
         "2": "0.0",
         "3": "3.24",
         "4": "0.0",
         "5": "0.46",
         "6": "5.868",
         "7": "25.8",
         "8": "5.2146",
         "9": "4.0",
         "10": "430.0",
         "11": "16.9",
         "12": "382.44",
         "13": "9.97"
        },
        {
         "0": "22.6",
         "1": "0.06724",
         "2": "0.0",
         "3": "3.24",
         "4": "0.0",
         "5": "0.46",
         "6": "6.333",
         "7": "17.2",
         "8": "5.2146",
         "9": "4.0",
         "10": "430.0",
         "11": "16.9",
         "12": "375.21",
         "13": "7.34"
        },
        {
         "0": "19.8",
         "1": "0.04544",
         "2": "0.0",
         "3": "3.24",
         "4": "0.0",
         "5": "0.46",
         "6": "6.144",
         "7": "32.2",
         "8": "5.8736",
         "9": "4.0",
         "10": "430.0",
         "11": "16.9",
         "12": "368.57",
         "13": "9.09"
        },
        {
         "0": "17.1",
         "1": "0.05023",
         "2": "35.0",
         "3": "6.06",
         "4": "0.0",
         "5": "0.4379",
         "6": "5.706",
         "7": "28.4",
         "8": "6.6407",
         "9": "1.0",
         "10": "304.0",
         "11": "16.9",
         "12": "394.02",
         "13": "12.43"
        },
        {
         "0": "19.4",
         "1": "0.03466",
         "2": "35.0",
         "3": "6.06",
         "4": "0.0",
         "5": "0.4379",
         "6": "6.031",
         "7": "23.3",
         "8": "6.6407",
         "9": "1.0",
         "10": "304.0",
         "11": "16.9",
         "12": "362.25",
         "13": "7.83"
        },
        {
         "0": "22.2",
         "1": "0.05083",
         "2": "0.0",
         "3": "5.19",
         "4": "0.0",
         "5": "0.515",
         "6": "6.316",
         "7": "38.1",
         "8": "6.4584",
         "9": "5.0",
         "10": "224.0",
         "11": "20.2",
         "12": "389.71",
         "13": "5.68"
        },
        {
         "0": "20.7",
         "1": "0.03738",
         "2": "0.0",
         "3": "5.19",
         "4": "0.0",
         "5": "0.515",
         "6": "6.31",
         "7": "38.5",
         "8": "6.4584",
         "9": "5.0",
         "10": "224.0",
         "11": "20.2",
         "12": "389.4",
         "13": "6.75"
        },
        {
         "0": "21.1",
         "1": "0.03961",
         "2": "0.0",
         "3": "5.19",
         "4": "0.0",
         "5": "0.515",
         "6": "6.037",
         "7": "34.5",
         "8": "5.9853",
         "9": "5.0",
         "10": "224.0",
         "11": "20.2",
         "12": "396.9",
         "13": "8.01"
        },
        {
         "0": "19.5",
         "1": "0.03427",
         "2": "0.0",
         "3": "5.19",
         "4": "0.0",
         "5": "0.515",
         "6": "5.869",
         "7": "46.3",
         "8": "5.2311",
         "9": "5.0",
         "10": "224.0",
         "11": "20.2",
         "12": "396.9",
         "13": "9.8"
        },
        {
         "0": "18.5",
         "1": "0.03041",
         "2": "0.0",
         "3": "5.19",
         "4": "0.0",
         "5": "0.515",
         "6": "5.895",
         "7": "59.6",
         "8": "5.615",
         "9": "5.0",
         "10": "224.0",
         "11": "20.2",
         "12": "394.81",
         "13": "10.56"
        },
        {
         "0": "20.6",
         "1": "0.03306",
         "2": "0.0",
         "3": "5.19",
         "4": "0.0",
         "5": "0.515",
         "6": "6.059",
         "7": "37.3",
         "8": "4.8122",
         "9": "5.0",
         "10": "224.0",
         "11": "20.2",
         "12": "396.14",
         "13": "8.51"
        },
        {
         "0": "19.0",
         "1": "0.05497",
         "2": "0.0",
         "3": "5.19",
         "4": "0.0",
         "5": "0.515",
         "6": "5.985",
         "7": "45.4",
         "8": "4.8122",
         "9": "5.0",
         "10": "224.0",
         "11": "20.2",
         "12": "396.9",
         "13": "9.74"
        },
        {
         "0": "18.7",
         "1": "0.06151",
         "2": "0.0",
         "3": "5.19",
         "4": "0.0",
         "5": "0.515",
         "6": "5.968",
         "7": "58.5",
         "8": "4.8122",
         "9": "5.0",
         "10": "224.0",
         "11": "20.2",
         "12": "396.9",
         "13": "9.29"
        },
        {
         "0": "32.7",
         "1": "0.01301",
         "2": "35.0",
         "3": "1.52",
         "4": "0.0",
         "5": "0.442",
         "6": "7.241",
         "7": "49.3",
         "8": "7.0379",
         "9": "1.0",
         "10": "284.0",
         "11": "15.5",
         "12": "394.74",
         "13": "5.49"
        },
        {
         "0": "16.5",
         "1": "0.02498",
         "2": "0.0",
         "3": "1.89",
         "4": "0.0",
         "5": "0.518",
         "6": "6.54",
         "7": "59.7",
         "8": "6.2669",
         "9": "1.0",
         "10": "422.0",
         "11": "15.9",
         "12": "389.96",
         "13": "8.65"
        },
        {
         "0": "23.9",
         "1": "0.02543",
         "2": "55.0",
         "3": "3.78",
         "4": "0.0",
         "5": "0.484",
         "6": "6.696",
         "7": "56.4",
         "8": "5.7321",
         "9": "5.0",
         "10": "370.0",
         "11": "17.6",
         "12": "396.9",
         "13": "7.18"
        },
        {
         "0": "31.2",
         "1": "0.03049",
         "2": "55.0",
         "3": "3.78",
         "4": "0.0",
         "5": "0.484",
         "6": "6.874",
         "7": "28.1",
         "8": "6.4654",
         "9": "5.0",
         "10": "370.0",
         "11": "17.6",
         "12": "387.97",
         "13": "4.61"
        },
        {
         "0": "17.5",
         "1": "0.03113",
         "2": "0.0",
         "3": "4.39",
         "4": "0.0",
         "5": "0.442",
         "6": "6.014",
         "7": "48.5",
         "8": "8.0136",
         "9": "3.0",
         "10": "352.0",
         "11": "18.8",
         "12": "385.64",
         "13": "10.53"
        },
        {
         "0": "17.2",
         "1": "0.06162",
         "2": "0.0",
         "3": "4.39",
         "4": "0.0",
         "5": "0.442",
         "6": "5.898",
         "7": "52.3",
         "8": "8.0136",
         "9": "3.0",
         "10": "352.0",
         "11": "18.8",
         "12": "364.61",
         "13": "12.67"
        },
        {
         "0": "23.1",
         "1": "0.0187",
         "2": "85.0",
         "3": "4.15",
         "4": "0.0",
         "5": "0.429",
         "6": "6.516",
         "7": "27.7",
         "8": "8.5353",
         "9": "4.0",
         "10": "351.0",
         "11": "17.9",
         "12": "392.43",
         "13": "6.36"
        },
        {
         "0": "24.5",
         "1": "0.01501",
         "2": "80.0",
         "3": "2.01",
         "4": "0.0",
         "5": "0.435",
         "6": "6.635",
         "7": "29.7",
         "8": "8.344",
         "9": "4.0",
         "10": "280.0",
         "11": "17.0",
         "12": "390.94",
         "13": "5.99"
        },
        {
         "0": "26.6",
         "1": "0.02899",
         "2": "40.0",
         "3": "1.25",
         "4": "0.0",
         "5": "0.429",
         "6": "6.939",
         "7": "34.5",
         "8": "8.7921",
         "9": "1.0",
         "10": "335.0",
         "11": "19.7",
         "12": "389.85",
         "13": "5.89"
        },
        {
         "0": "22.9",
         "1": "0.06211",
         "2": "40.0",
         "3": "1.25",
         "4": "0.0",
         "5": "0.429",
         "6": "6.49",
         "7": "44.4",
         "8": "8.7921",
         "9": "1.0",
         "10": "335.0",
         "11": "19.7",
         "12": "396.9",
         "13": "5.98"
        },
        {
         "0": "24.1",
         "1": "0.0795",
         "2": "60.0",
         "3": "1.69",
         "4": "0.0",
         "5": "0.411",
         "6": "6.579",
         "7": "35.9",
         "8": "10.7103",
         "9": "4.0",
         "10": "411.0",
         "11": "18.3",
         "12": "370.78",
         "13": "5.49"
        },
        {
         "0": "8.8",
         "1": "20.0849",
         "2": "0.0",
         "3": "18.1",
         "4": "0.0",
         "5": "0.7",
         "6": "4.368",
         "7": "91.2",
         "8": "1.4395",
         "9": "24.0",
         "10": "666.0",
         "11": "20.2",
         "12": "285.83",
         "13": "30.63"
        },
        {
         "0": "7.2",
         "1": "16.8118",
         "2": "0.0",
         "3": "18.1",
         "4": "0.0",
         "5": "0.7",
         "6": "5.277",
         "7": "98.1",
         "8": "1.4261",
         "9": "24.0",
         "10": "666.0",
         "11": "20.2",
         "12": "396.9",
         "13": "30.81"
        },
        {
         "0": "10.5",
         "1": "24.3938",
         "2": "0.0",
         "3": "18.1",
         "4": "0.0",
         "5": "0.7",
         "6": "4.652",
         "7": "100.0",
         "8": "1.4672",
         "9": "24.0",
         "10": "666.0",
         "11": "20.2",
         "12": "396.9",
         "13": "28.28"
        },
        {
         "0": "7.4",
         "1": "22.5971",
         "2": "0.0",
         "3": "18.1",
         "4": "0.0",
         "5": "0.7",
         "6": "5.0",
         "7": "89.5",
         "8": "1.5184",
         "9": "24.0",
         "10": "666.0",
         "11": "20.2",
         "12": "396.9",
         "13": "31.99"
        },
        {
         "0": "10.2",
         "1": "14.3337",
         "2": "0.0",
         "3": "18.1",
         "4": "0.0",
         "5": "0.7",
         "6": "4.88",
         "7": "100.0",
         "8": "1.5895",
         "9": "24.0",
         "10": "666.0",
         "11": "20.2",
         "12": "372.92",
         "13": "30.62"
        },
        {
         "0": "11.5",
         "1": "8.15174",
         "2": "0.0",
         "3": "18.1",
         "4": "0.0",
         "5": "0.7",
         "6": "5.39",
         "7": "98.9",
         "8": "1.7281",
         "9": "24.0",
         "10": "666.0",
         "11": "20.2",
         "12": "396.9",
         "13": "20.85"
        },
        {
         "0": "15.1",
         "1": "6.96215",
         "2": "0.0",
         "3": "18.1",
         "4": "0.0",
         "5": "0.7",
         "6": "5.713",
         "7": "97.0",
         "8": "1.9265",
         "9": "24.0",
         "10": "666.0",
         "11": "20.2",
         "12": "394.43",
         "13": "17.11"
        },
        {
         "0": "23.2",
         "1": "5.29305",
         "2": "0.0",
         "3": "18.1",
         "4": "0.0",
         "5": "0.7",
         "6": "6.051",
         "7": "82.5",
         "8": "2.1678",
         "9": "24.0",
         "10": "666.0",
         "11": "20.2",
         "12": "378.38",
         "13": "18.76"
        },
        {
         "0": "9.7",
         "1": "11.5779",
         "2": "0.0",
         "3": "18.1",
         "4": "0.0",
         "5": "0.7",
         "6": "5.036",
         "7": "97.0",
         "8": "1.77",
         "9": "24.0",
         "10": "666.0",
         "11": "20.2",
         "12": "396.9",
         "13": "25.68"
        },
        {
         "0": "13.8",
         "1": "8.64476",
         "2": "0.0",
         "3": "18.1",
         "4": "0.0",
         "5": "0.693",
         "6": "6.193",
         "7": "92.6",
         "8": "1.7912",
         "9": "24.0",
         "10": "666.0",
         "11": "20.2",
         "12": "396.9",
         "13": "15.17"
        },
        {
         "0": "12.7",
         "1": "13.3598",
         "2": "0.0",
         "3": "18.1",
         "4": "0.0",
         "5": "0.693",
         "6": "5.887",
         "7": "94.7",
         "8": "1.7821",
         "9": "24.0",
         "10": "666.0",
         "11": "20.2",
         "12": "396.9",
         "13": "16.35"
        },
        {
         "0": "13.1",
         "1": "8.71675",
         "2": "0.0",
         "3": "18.1",
         "4": "0.0",
         "5": "0.693",
         "6": "6.471",
         "7": "98.8",
         "8": "1.7257",
         "9": "24.0",
         "10": "666.0",
         "11": "20.2",
         "12": "391.98",
         "13": "17.12"
        },
        {
         "0": "12.5",
         "1": "5.87205",
         "2": "0.0",
         "3": "18.1",
         "4": "0.0",
         "5": "0.693",
         "6": "6.405",
         "7": "96.0",
         "8": "1.6768",
         "9": "24.0",
         "10": "666.0",
         "11": "20.2",
         "12": "396.9",
         "13": "19.37"
        },
        {
         "0": "8.5",
         "1": "7.67202",
         "2": "0.0",
         "3": "18.1",
         "4": "0.0",
         "5": "0.693",
         "6": "5.747",
         "7": "98.9",
         "8": "1.6334",
         "9": "24.0",
         "10": "666.0",
         "11": "20.2",
         "12": "393.1",
         "13": "19.92"
        },
        {
         "0": "5.0",
         "1": "38.3518",
         "2": "0.0",
         "3": "18.1",
         "4": "0.0",
         "5": "0.693",
         "6": "5.453",
         "7": "100.0",
         "8": "1.4896",
         "9": "24.0",
         "10": "666.0",
         "11": "20.2",
         "12": "396.9",
         "13": "30.59"
        },
        {
         "0": "6.3",
         "1": "9.91655",
         "2": "0.0",
         "3": "18.1",
         "4": "0.0",
         "5": "0.693",
         "6": "5.852",
         "7": "77.8",
         "8": "1.5004",
         "9": "24.0",
         "10": "666.0",
         "11": "20.2",
         "12": "338.16",
         "13": "29.97"
        },
        {
         "0": "5.6",
         "1": "25.0461",
         "2": "0.0",
         "3": "18.1",
         "4": "0.0",
         "5": "0.693",
         "6": "5.987",
         "7": "100.0",
         "8": "1.5888",
         "9": "24.0",
         "10": "666.0",
         "11": "20.2",
         "12": "396.9",
         "13": "26.77"
        },
        {
         "0": "7.2",
         "1": "14.2362",
         "2": "0.0",
         "3": "18.1",
         "4": "0.0",
         "5": "0.693",
         "6": "6.343",
         "7": "100.0",
         "8": "1.5741",
         "9": "24.0",
         "10": "666.0",
         "11": "20.2",
         "12": "396.9",
         "13": "20.32"
        },
        {
         "0": "12.1",
         "1": "9.59571",
         "2": "0.0",
         "3": "18.1",
         "4": "0.0",
         "5": "0.693",
         "6": "6.404",
         "7": "100.0",
         "8": "1.639",
         "9": "24.0",
         "10": "666.0",
         "11": "20.2",
         "12": "376.11",
         "13": "20.31"
        },
        {
         "0": "8.3",
         "1": "24.8017",
         "2": "0.0",
         "3": "18.1",
         "4": "0.0",
         "5": "0.693",
         "6": "5.349",
         "7": "96.0",
         "8": "1.7028",
         "9": "24.0",
         "10": "666.0",
         "11": "20.2",
         "12": "396.9",
         "13": "19.77"
        },
        {
         "0": "8.5",
         "1": "41.5292",
         "2": "0.0",
         "3": "18.1",
         "4": "0.0",
         "5": "0.693",
         "6": "5.531",
         "7": "85.4",
         "8": "1.6074",
         "9": "24.0",
         "10": "666.0",
         "11": "20.2",
         "12": "329.46",
         "13": "27.38"
        },
        {
         "0": "5.0",
         "1": "67.9208",
         "2": "0.0",
         "3": "18.1",
         "4": "0.0",
         "5": "0.693",
         "6": "5.683",
         "7": "100.0",
         "8": "1.4254",
         "9": "24.0",
         "10": "666.0",
         "11": "20.2",
         "12": "384.97",
         "13": "22.98"
        },
        {
         "0": "11.9",
         "1": "20.7162",
         "2": "0.0",
         "3": "18.1",
         "4": "0.0",
         "5": "0.659",
         "6": "4.138",
         "7": "100.0",
         "8": "1.1781",
         "9": "24.0",
         "10": "666.0",
         "11": "20.2",
         "12": "370.22",
         "13": "23.34"
        },
        {
         "0": "27.9",
         "1": "11.9511",
         "2": "0.0",
         "3": "18.1",
         "4": "0.0",
         "5": "0.659",
         "6": "5.608",
         "7": "100.0",
         "8": "1.2852",
         "9": "24.0",
         "10": "666.0",
         "11": "20.2",
         "12": "332.09",
         "13": "12.13"
        },
        {
         "0": "17.2",
         "1": "7.40389",
         "2": "0.0",
         "3": "18.1",
         "4": "0.0",
         "5": "0.597",
         "6": "5.617",
         "7": "97.9",
         "8": "1.4547",
         "9": "24.0",
         "10": "666.0",
         "11": "20.2",
         "12": "314.64",
         "13": "26.4"
        },
        {
         "0": "27.5",
         "1": "14.4383",
         "2": "0.0",
         "3": "18.1",
         "4": "0.0",
         "5": "0.597",
         "6": "6.852",
         "7": "100.0",
         "8": "1.4655",
         "9": "24.0",
         "10": "666.0",
         "11": "20.2",
         "12": "179.36",
         "13": "19.78"
        },
        {
         "0": "15.0",
         "1": "51.1358",
         "2": "0.0",
         "3": "18.1",
         "4": "0.0",
         "5": "0.597",
         "6": "5.757",
         "7": "100.0",
         "8": "1.413",
         "9": "24.0",
         "10": "666.0",
         "11": "20.2",
         "12": "2.6",
         "13": "10.11"
        },
        {
         "0": "17.2",
         "1": "14.0507",
         "2": "0.0",
         "3": "18.1",
         "4": "0.0",
         "5": "0.597",
         "6": "6.657",
         "7": "100.0",
         "8": "1.5275",
         "9": "24.0",
         "10": "666.0",
         "11": "20.2",
         "12": "35.05",
         "13": "21.22"
        },
        {
         "0": "17.9",
         "1": "18.811",
         "2": "0.0",
         "3": "18.1",
         "4": "0.0",
         "5": "0.597",
         "6": "4.628",
         "7": "100.0",
         "8": "1.5539",
         "9": "24.0",
         "10": "666.0",
         "11": "20.2",
         "12": "28.79",
         "13": "34.37"
        },
        {
         "0": "16.3",
         "1": "28.6558",
         "2": "0.0",
         "3": "18.1",
         "4": "0.0",
         "5": "0.597",
         "6": "5.155",
         "7": "100.0",
         "8": "1.5894",
         "9": "24.0",
         "10": "666.0",
         "11": "20.2",
         "12": "210.97",
         "13": "20.08"
        },
        {
         "0": "7.0",
         "1": "45.7461",
         "2": "0.0",
         "3": "18.1",
         "4": "0.0",
         "5": "0.693",
         "6": "4.519",
         "7": "100.0",
         "8": "1.6582",
         "9": "24.0",
         "10": "666.0",
         "11": "20.2",
         "12": "88.27",
         "13": "36.98"
        },
        {
         "0": "7.2",
         "1": "18.0846",
         "2": "0.0",
         "3": "18.1",
         "4": "0.0",
         "5": "0.679",
         "6": "6.434",
         "7": "100.0",
         "8": "1.8347",
         "9": "24.0",
         "10": "666.0",
         "11": "20.2",
         "12": "27.25",
         "13": "29.05"
        },
        {
         "0": "14.1",
         "1": "9.32909",
         "2": "0.0",
         "3": "18.1",
         "4": "0.0",
         "5": "0.713",
         "6": "6.185",
         "7": "98.7",
         "8": "2.2616",
         "9": "24.0",
         "10": "666.0",
         "11": "20.2",
         "12": "396.9",
         "13": "18.13"
        },
        {
         "0": "13.0",
         "1": "7.52601",
         "2": "0.0",
         "3": "18.1",
         "4": "0.0",
         "5": "0.713",
         "6": "6.417",
         "7": "98.3",
         "8": "2.185",
         "9": "24.0",
         "10": "666.0",
         "11": "20.2",
         "12": "304.21",
         "13": "19.31"
        },
        {
         "0": "13.4",
         "1": "6.71772",
         "2": "0.0",
         "3": "18.1",
         "4": "0.0",
         "5": "0.713",
         "6": "6.749",
         "7": "92.6",
         "8": "2.3236",
         "9": "24.0",
         "10": "666.0",
         "11": "20.2",
         "12": "0.32",
         "13": "17.44"
        },
        {
         "0": "15.2",
         "1": "5.44114",
         "2": "0.0",
         "3": "18.1",
         "4": "0.0",
         "5": "0.713",
         "6": "6.655",
         "7": "98.2",
         "8": "2.3552",
         "9": "24.0",
         "10": "666.0",
         "11": "20.2",
         "12": "355.29",
         "13": "17.73"
        },
        {
         "0": "16.1",
         "1": "5.09017",
         "2": "0.0",
         "3": "18.1",
         "4": "0.0",
         "5": "0.713",
         "6": "6.297",
         "7": "91.8",
         "8": "2.3682",
         "9": "24.0",
         "10": "666.0",
         "11": "20.2",
         "12": "385.09",
         "13": "17.27"
        },
        {
         "0": "17.8",
         "1": "8.24809",
         "2": "0.0",
         "3": "18.1",
         "4": "0.0",
         "5": "0.713",
         "6": "7.393",
         "7": "99.3",
         "8": "2.4527",
         "9": "24.0",
         "10": "666.0",
         "11": "20.2",
         "12": "375.87",
         "13": "16.74"
        },
        {
         "0": "14.9",
         "1": "9.51363",
         "2": "0.0",
         "3": "18.1",
         "4": "0.0",
         "5": "0.713",
         "6": "6.728",
         "7": "94.1",
         "8": "2.4961",
         "9": "24.0",
         "10": "666.0",
         "11": "20.2",
         "12": "6.68",
         "13": "18.71"
        },
        {
         "0": "14.1",
         "1": "4.75237",
         "2": "0.0",
         "3": "18.1",
         "4": "0.0",
         "5": "0.713",
         "6": "6.525",
         "7": "86.5",
         "8": "2.4358",
         "9": "24.0",
         "10": "666.0",
         "11": "20.2",
         "12": "50.92",
         "13": "18.13"
        },
        {
         "0": "12.7",
         "1": "4.66883",
         "2": "0.0",
         "3": "18.1",
         "4": "0.0",
         "5": "0.713",
         "6": "5.976",
         "7": "87.9",
         "8": "2.5806",
         "9": "24.0",
         "10": "666.0",
         "11": "20.2",
         "12": "10.48",
         "13": "19.01"
        },
        {
         "0": "13.5",
         "1": "8.20058",
         "2": "0.0",
         "3": "18.1",
         "4": "0.0",
         "5": "0.713",
         "6": "5.936",
         "7": "80.3",
         "8": "2.7792",
         "9": "24.0",
         "10": "666.0",
         "11": "20.2",
         "12": "3.5",
         "13": "16.94"
        },
        {
         "0": "14.9",
         "1": "7.75223",
         "2": "0.0",
         "3": "18.1",
         "4": "0.0",
         "5": "0.713",
         "6": "6.301",
         "7": "83.7",
         "8": "2.7831",
         "9": "24.0",
         "10": "666.0",
         "11": "20.2",
         "12": "272.21",
         "13": "16.23"
        },
        {
         "0": "20.0",
         "1": "6.80117",
         "2": "0.0",
         "3": "18.1",
         "4": "0.0",
         "5": "0.713",
         "6": "6.081",
         "7": "84.4",
         "8": "2.7175",
         "9": "24.0",
         "10": "666.0",
         "11": "20.2",
         "12": "396.9",
         "13": "14.7"
        },
        {
         "0": "16.4",
         "1": "4.81213",
         "2": "0.0",
         "3": "18.1",
         "4": "0.0",
         "5": "0.713",
         "6": "6.701",
         "7": "90.0",
         "8": "2.5975",
         "9": "24.0",
         "10": "666.0",
         "11": "20.2",
         "12": "255.23",
         "13": "16.42"
        },
        {
         "0": "17.7",
         "1": "3.69311",
         "2": "0.0",
         "3": "18.1",
         "4": "0.0",
         "5": "0.713",
         "6": "6.376",
         "7": "88.4",
         "8": "2.5671",
         "9": "24.0",
         "10": "666.0",
         "11": "20.2",
         "12": "391.43",
         "13": "14.65"
        },
        {
         "0": "19.5",
         "1": "6.65492",
         "2": "0.0",
         "3": "18.1",
         "4": "0.0",
         "5": "0.713",
         "6": "6.317",
         "7": "83.0",
         "8": "2.7344",
         "9": "24.0",
         "10": "666.0",
         "11": "20.2",
         "12": "396.9",
         "13": "13.99"
        },
        {
         "0": "20.2",
         "1": "5.82115",
         "2": "0.0",
         "3": "18.1",
         "4": "0.0",
         "5": "0.713",
         "6": "6.513",
         "7": "89.9",
         "8": "2.8016",
         "9": "24.0",
         "10": "666.0",
         "11": "20.2",
         "12": "393.82",
         "13": "10.29"
        },
        {
         "0": "21.4",
         "1": "7.83932",
         "2": "0.0",
         "3": "18.1",
         "4": "0.0",
         "5": "0.655",
         "6": "6.209",
         "7": "65.4",
         "8": "2.9634",
         "9": "24.0",
         "10": "666.0",
         "11": "20.2",
         "12": "396.9",
         "13": "13.22"
        },
        {
         "0": "19.9",
         "1": "3.1636",
         "2": "0.0",
         "3": "18.1",
         "4": "0.0",
         "5": "0.655",
         "6": "5.759",
         "7": "48.2",
         "8": "3.0665",
         "9": "24.0",
         "10": "666.0",
         "11": "20.2",
         "12": "334.4",
         "13": "14.13"
        },
        {
         "0": "19.0",
         "1": "3.77498",
         "2": "0.0",
         "3": "18.1",
         "4": "0.0",
         "5": "0.655",
         "6": "5.952",
         "7": "84.7",
         "8": "2.8715",
         "9": "24.0",
         "10": "666.0",
         "11": "20.2",
         "12": "22.01",
         "13": "17.15"
        },
        {
         "0": "19.1",
         "1": "4.42228",
         "2": "0.0",
         "3": "18.1",
         "4": "0.0",
         "5": "0.584",
         "6": "6.003",
         "7": "94.5",
         "8": "2.5403",
         "9": "24.0",
         "10": "666.0",
         "11": "20.2",
         "12": "331.29",
         "13": "21.32"
        },
        {
         "0": "19.1",
         "1": "15.5757",
         "2": "0.0",
         "3": "18.1",
         "4": "0.0",
         "5": "0.58",
         "6": "5.926",
         "7": "71.0",
         "8": "2.9084",
         "9": "24.0",
         "10": "666.0",
         "11": "20.2",
         "12": "368.74",
         "13": "18.13"
        },
        {
         "0": "20.1",
         "1": "13.0751",
         "2": "0.0",
         "3": "18.1",
         "4": "0.0",
         "5": "0.58",
         "6": "5.713",
         "7": "56.7",
         "8": "2.8237",
         "9": "24.0",
         "10": "666.0",
         "11": "20.2",
         "12": "396.9",
         "13": "14.76"
        },
        {
         "0": "19.9",
         "1": "4.34879",
         "2": "0.0",
         "3": "18.1",
         "4": "0.0",
         "5": "0.58",
         "6": "6.167",
         "7": "84.0",
         "8": "3.0334",
         "9": "24.0",
         "10": "666.0",
         "11": "20.2",
         "12": "396.9",
         "13": "16.29"
        },
        {
         "0": "19.6",
         "1": "4.03841",
         "2": "0.0",
         "3": "18.1",
         "4": "0.0",
         "5": "0.532",
         "6": "6.229",
         "7": "90.7",
         "8": "3.0993",
         "9": "24.0",
         "10": "666.0",
         "11": "20.2",
         "12": "395.33",
         "13": "12.87"
        },
        {
         "0": "23.2",
         "1": "3.56868",
         "2": "0.0",
         "3": "18.1",
         "4": "0.0",
         "5": "0.58",
         "6": "6.437",
         "7": "75.0",
         "8": "2.8965",
         "9": "24.0",
         "10": "666.0",
         "11": "20.2",
         "12": "393.37",
         "13": "14.36"
        },
        {
         "0": "29.8",
         "1": "4.64689",
         "2": "0.0",
         "3": "18.1",
         "4": "0.0",
         "5": "0.614",
         "6": "6.98",
         "7": "67.6",
         "8": "2.5329",
         "9": "24.0",
         "10": "666.0",
         "11": "20.2",
         "12": "374.68",
         "13": "11.66"
        },
        {
         "0": "13.8",
         "1": "8.05579",
         "2": "0.0",
         "3": "18.1",
         "4": "0.0",
         "5": "0.584",
         "6": "5.427",
         "7": "95.4",
         "8": "2.4298",
         "9": "24.0",
         "10": "666.0",
         "11": "20.2",
         "12": "352.58",
         "13": "18.14"
        },
        {
         "0": "13.3",
         "1": "6.39312",
         "2": "0.0",
         "3": "18.1",
         "4": "0.0",
         "5": "0.584",
         "6": "6.162",
         "7": "97.4",
         "8": "2.206",
         "9": "24.0",
         "10": "666.0",
         "11": "20.2",
         "12": "302.76",
         "13": "24.1"
        },
        {
         "0": "16.7",
         "1": "4.87141",
         "2": "0.0",
         "3": "18.1",
         "4": "0.0",
         "5": "0.614",
         "6": "6.484",
         "7": "93.6",
         "8": "2.3053",
         "9": "24.0",
         "10": "666.0",
         "11": "20.2",
         "12": "396.21",
         "13": "18.68"
        },
        {
         "0": "12.0",
         "1": "15.0234",
         "2": "0.0",
         "3": "18.1",
         "4": "0.0",
         "5": "0.614",
         "6": "5.304",
         "7": "97.3",
         "8": "2.1007",
         "9": "24.0",
         "10": "666.0",
         "11": "20.2",
         "12": "349.48",
         "13": "24.91"
        },
        {
         "0": "14.6",
         "1": "10.233",
         "2": "0.0",
         "3": "18.1",
         "4": "0.0",
         "5": "0.614",
         "6": "6.185",
         "7": "96.7",
         "8": "2.1705",
         "9": "24.0",
         "10": "666.0",
         "11": "20.2",
         "12": "379.7",
         "13": "18.03"
        },
        {
         "0": "21.4",
         "1": "14.3337",
         "2": "0.0",
         "3": "18.1",
         "4": "0.0",
         "5": "0.614",
         "6": "6.229",
         "7": "88.0",
         "8": "1.9512",
         "9": "24.0",
         "10": "666.0",
         "11": "20.2",
         "12": "383.32",
         "13": "13.11"
        }
       ],
       "schema": [
        {
         "key": "0",
         "name": "target",
         "type": "double"
        },
        {
         "key": "1",
         "name": "f0",
         "type": "double"
        },
        {
         "key": "2",
         "name": "f1",
         "type": "double"
        },
        {
         "key": "3",
         "name": "f2",
         "type": "double"
        },
        {
         "key": "4",
         "name": "f3",
         "type": "double"
        },
        {
         "key": "5",
         "name": "f4",
         "type": "double"
        },
        {
         "key": "6",
         "name": "f5",
         "type": "double"
        },
        {
         "key": "7",
         "name": "f6",
         "type": "double"
        },
        {
         "key": "8",
         "name": "f7",
         "type": "double"
        },
        {
         "key": "9",
         "name": "f8",
         "type": "double"
        },
        {
         "key": "10",
         "name": "f9",
         "type": "double"
        },
        {
         "key": "11",
         "name": "f10",
         "type": "double"
        },
        {
         "key": "12",
         "name": "f11",
         "type": "double"
        },
        {
         "key": "13",
         "name": "f12",
         "type": "double"
        }
       ],
       "truncated": false
      }
     },
     "type": "Synapse.DataFrame"
    }
   },
   "version": "0.1"
  },
  "widgets": {}
 },
 "nbformat": 4,
 "nbformat_minor": 0
}
