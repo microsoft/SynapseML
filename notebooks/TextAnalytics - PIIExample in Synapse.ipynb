{
  "cells": [
  {
     "cell_type": "markdown",
     "metadata": {},
     "source": [
      "## TextAnalytics - PII Example in Azure Synapse\n",
      "\n",
      "Redacting PII from sample documents"
     ]
    },
    {
      "cell_type": "code",
      "source": [
        "sc._jsc.hadoopConfiguration().set(\r\n",
        "  \"fs.azure.account.key.mmlsparkdemo.blob.core.windows.net\",\r\n",
        "  \"JNyPiohtB8mDmV6j1iWYQcOmvdsURYLhB7O3jC18L6kJ4FrAqvw1uWgfh+opHg47cNZNtZ4RMDjgJnQ7+qLcAg==\")\r\n",
        "\r\n",
        "df = spark.createDataFrame([\r\n",
        "  (\"en\", \"The patient is a 70-year-old with a history of hypertensive borderline hypercholesterolemia, and hypercoagulability with multiple pulmonary emboli in the past who presented asymptomatically with a wide complex tachycardia that could not rule out ventricular tachycardia in the recovery phase of a full Bruce exercise tolerance test. The patient was admitted for Holter monitoring times 48 hours. He was ruled out for a myocardial infarction. He was started on a cholesterol lowering agent, his Coumadin was held, and Heparin was started in the case of an invasive procedure.\" ),\r\n",
        "  (\"en\", \"66-year-old male presents with lower back pain x2 days. Patient was shoveling snow when pain started in the low back on the right side. Pain started at an 8/10 and now is a 6/10 and constant. Activity makes pain worse; nothing makes it better. Patient is taking Tylenol, 500mg, twice a day for pain.\"),\r\n",
        "  (\"en\", \"Mrs. Jane Doe requests to be contacted at (222) 555-1212 regarding her traffic accident on Main Street last week.\"),\r\n",
        "], [\"language\", \"text\"])\r\n",
        "\r\n",      ],
      "outputs": [],
      "execution_count": null,
      "metadata": {
        "jupyter": {
          "source_hidden": false,
          "outputs_hidden": false
        },
        "nteract": {
          "transient": {
            "deleting": false
          }
        },
        "collapsed": false
      }
    },
    {
      "cell_type": "markdown",
      "source": [
        "Inputting example texts containing personally identifiable information"
      ],
      "metadata": {
        "nteract": {
          "transient": {
            "deleting": false
          }
        }
      }
    },
    {
      "cell_type": "code",
      "source": [
        "import mmlspark\r\n",
        "from mmlspark.cognitive import PIIV4\r\n",
        "\r\n",
        "extractor = (PIIV4()\r\n",
        "    .setSubscriptionKey(textKey)\r\n",
        "    .setLocation(\"eastus\")\r\n",
        "    .setTextCol(\"text\")\r\n",
        "    .setLanguageCol(\"language\")\r\n",
        "    .setOutputCol(\"output\"))"
      ],
      "outputs": [],
      "execution_count": null,
      "metadata": {
        "jupyter": {
          "source_hidden": false,
          "outputs_hidden": true
        },
        "nteract": {
          "transient": {
            "deleting": false
          }
        },
        "collapsed": true
      }
    },
    {
      "cell_type": "markdown",
      "source": [
        "Endpoint setup"
      ],
      "metadata": {
        "nteract": {
          "transient": {
            "deleting": false
          }
        }
      }
    },
    {
      "cell_type": "code",
      "source": [
        "results = extractor.transform(df).select(\"text\", \"output.result.redactedText\").collect()\r\n",
        "display(results)"
      ],
      "outputs": [],
      "execution_count": null,
      "metadata": {
        "collapsed": true,
        "jupyter": {
          "source_hidden": false,
          "outputs_hidden": false
        },
        "nteract": {
          "transient": {
            "deleting": false
          }
        }
      }
    },
    {
      "cell_type": "markdown",
      "source": [
        "Display redacted output after TA transformation"
      ],
      "metadata": {
        "nteract": {
          "transient": {
            "deleting": false
          }
        }
      }
    }
  ],
  "metadata": {
    "kernelspec": {
      "name": "synapse_pyspark",
      "language": "Python",
      "display_name": "Synapse PySpark"
    },
    "language_info": {
      "name": "python"
    },
    "kernel_info": {
      "name": "synapse_pyspark"
    },
    "save_output": true,
    "synapse_widget": {
      "version": "0.1",
      "state": {}
    }
  },
  "nbformat": 4,
  "nbformat_minor": 2
}