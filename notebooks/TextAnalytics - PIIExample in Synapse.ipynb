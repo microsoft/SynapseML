{
  "cells": [
  {
     "cell_type": "markdown",
     "metadata": {},
     "source": [
      "## TextAnalytics - PII Example in Azure Synapse\n",
      "\n",
      "Redacting PII from sample documents"
     ]
    },
    {
      "cell_type": "code",
      "source": [
        "sc._jsc.hadoopConfiguration().set(\r\n",
        "  \"fs.azure.account.key.mmlsparkdemo.blob.core.windows.net\",\r\n",
        "  \"JNyPiohtB8mDmV6j1iWYQcOmvdsURYLhB7O3jC18L6kJ4FrAqvw1uWgfh+opHg47cNZNtZ4RMDjgJnQ7+qLcAg==\")\r\n",
        "\r\n",
        "df = spark.read.csv(\"wasbs://publicwasb@mmlspark.blob.core.windows.net/PIIExample.csv\", header=True)"
      ],
      "outputs": [],
      "execution_count": null,
      "metadata": {
        "jupyter": {
          "source_hidden": false,
          "outputs_hidden": false
        },
        "nteract": {
          "transient": {
            "deleting": false
          }
        },
        "collapsed": false
      }
    },
    {
      "cell_type": "markdown",
      "source": [
        "Inputting documents containing personally identifiable information"
      ],
      "metadata": {
        "nteract": {
          "transient": {
            "deleting": false
          }
        }
      }
    },
    {
      "cell_type": "code",
      "source": [
        "import mmlspark\r\n",
        "from mmlspark.cognitive import PIIV4\r\n",
        "\r\n",
        "extractor = (PIIV4()\r\n",
        "    .setSubscriptionKey(textKey)\r\n",
        "    .setLocation(\"eastus\")\r\n",
        "    .setTextCol(\"text\")\r\n",
        "    .setLanguageCol(\"language\")\r\n",
        "    .setUrl(\"https://eastus.api.cognitive.microsoft.com/\")\r\n",
        "    .setOutputCol(\"output\"))"
      ],
      "outputs": [],
      "execution_count": null,
      "metadata": {
        "jupyter": {
          "source_hidden": false,
          "outputs_hidden": true
        },
        "nteract": {
          "transient": {
            "deleting": false
          }
        },
        "collapsed": true
      }
    },
    {
      "cell_type": "markdown",
      "source": [
        "Endpoint setup"
      ],
      "metadata": {
        "nteract": {
          "transient": {
            "deleting": false
          }
        }
      }
    },
    {
      "cell_type": "code",
      "source": [
        "results = extractor.transform(df).select(\"text\", \"output.result.redactedText\").collect()\r\n",
        "display(results)"
      ],
      "outputs": [],
      "execution_count": null,
      "metadata": {
        "collapsed": true,
        "jupyter": {
          "source_hidden": false,
          "outputs_hidden": false
        },
        "nteract": {
          "transient": {
            "deleting": false
          }
        }
      }
    },
    {
      "cell_type": "markdown",
      "source": [
        "Display redacted output after TA transformation"
      ],
      "metadata": {
        "nteract": {
          "transient": {
            "deleting": false
          }
        }
      }
    }
  ],
  "metadata": {
    "kernelspec": {
      "name": "synapse_pyspark",
      "language": "Python",
      "display_name": "Synapse PySpark"
    },
    "language_info": {
      "name": "python"
    },
    "kernel_info": {
      "name": "synapse_pyspark"
    },
    "save_output": true,
    "synapse_widget": {
      "version": "0.1",
      "state": {}
    }
  },
  "nbformat": 4,
  "nbformat_minor": 2
}