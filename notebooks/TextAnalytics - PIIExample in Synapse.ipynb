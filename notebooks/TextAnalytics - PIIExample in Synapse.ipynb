{
  "cells": [
    {
      "cell_type": "code",
      "source": [
        "%%configure -f\r\n",
        "{\r\n",
        "    \"conf\": {\r\n",
        "        \"spark.jars.packages\":\"com.microsoft.ml.spark:mmlspark:1.0.0-rc3-170-1fd750d3-SNAPSHOT\",\r\n",
        "        \"spark.jars.repositories\": \"https://mmlspark.azureedge.net/maven\",\r\n",
        "        \"spark.jars.excludes\": \"org.scalactic:scalactic_2.12,org.scalatest:scalatest_2.12,io.netty:netty-transport-native-epoll,io.netty:netty-transport-native-kqueue,io.netty:netty-resolver-dns-native-macos\",\r\n",
        "        \"spark.yarn.user.classpath.first\": \"true\"\r\n",
        "    }\r\n",
        "}\r\n"
      ],
      "outputs": [],
      "execution_count": null,
      "metadata": {
        "jupyter": {
          "outputs_hidden": true
        }
      }
    },
    {
      "cell_type": "code",
      "source": [
        "import shutil\r\n",
        "shutil.move('/home/trusted-service-user/cluster-env/env/lib/python3.6/site-packages/mmlspark/', '/home/trusted-service-user/cluster-env/env/lib/python3.6/site-packages/hidden_mmlspark/')"
      ],
      "outputs": [],
      "execution_count": null,
      "metadata": {
        "jupyter": {
          "source_hidden": false,
          "outputs_hidden": true
        },
        "nteract": {
          "transient": {
            "deleting": false
          }
        },
        "collapsed": true
      }
    },
    {
      "cell_type": "code",
      "source": [
        "sc._jsc.hadoopConfiguration().set(\r\n",
        "  \"fs.azure.account.key.mmlsparkdemo.blob.core.windows.net\",\r\n",
        "  \"JNyPiohtB8mDmV6j1iWYQcOmvdsURYLhB7O3jC18L6kJ4FrAqvw1uWgfh+opHg47cNZNtZ4RMDjgJnQ7+qLcAg==\")\r\n",
        "\r\n",
        "df = spark.read.csv(\"wasbs://publicwasb@mmlspark.blob.core.windows.net/PIIExample.csv\", header=True)"
      ],
      "outputs": [],
      "execution_count": null,
      "metadata": {
        "jupyter": {
          "source_hidden": false,
          "outputs_hidden": false
        },
        "nteract": {
          "transient": {
            "deleting": false
          }
        },
        "collapsed": false
      }
    },
    {
      "cell_type": "markdown",
      "source": [
        "Example inputs containing personally identifiable information"
      ],
      "metadata": {
        "nteract": {
          "transient": {
            "deleting": false
          }
        }
      }
    },
    {
      "cell_type": "code",
      "source": [
        "textKey = \"5ef617b743294dc699185a906c0ad964\""
      ],
      "outputs": [],
      "execution_count": null,
      "metadata": {
        "collapsed": true,
        "jupyter": {
          "source_hidden": true,
          "outputs_hidden": true
        },
        "nteract": {
          "transient": {
            "deleting": false
          }
        }
      }
    },
    {
      "cell_type": "code",
      "source": [
        "import mmlspark\r\n",
        "from mmlspark.cognitive import PIIV4\r\n",
        "\r\n",
        "extractor = (PIIV4()\r\n",
        "    .setSubscriptionKey(textKey)\r\n",
        "    .setLocation(\"eastus\")\r\n",
        "    .setTextCol(\"text\")\r\n",
        "    .setLanguageCol(\"language\")\r\n",
        "    .setUrl(\"https://eastus.api.cognitive.microsoft.com/\")\r\n",
        "    .setOutputCol(\"output\"))"
      ],
      "outputs": [],
      "execution_count": null,
      "metadata": {
        "jupyter": {
          "source_hidden": false,
          "outputs_hidden": true
        },
        "nteract": {
          "transient": {
            "deleting": false
          }
        },
        "collapsed": true
      }
    },
    {
      "cell_type": "markdown",
      "source": [
        "Endpoint setup"
      ],
      "metadata": {
        "nteract": {
          "transient": {
            "deleting": false
          }
        }
      }
    },
    {
      "cell_type": "code",
      "source": [
        "results = extractor.transform(df).select(\"text\", \"output.result.redactedText\").collect()\r\n",
        "display(results)"
      ],
      "outputs": [],
      "execution_count": null,
      "metadata": {
        "collapsed": true,
        "jupyter": {
          "source_hidden": false,
          "outputs_hidden": false
        },
        "nteract": {
          "transient": {
            "deleting": false
          }
        }
      }
    },
    {
      "cell_type": "markdown",
      "source": [
        "Display redacted output after TA transformation"
      ],
      "metadata": {
        "nteract": {
          "transient": {
            "deleting": false
          }
        }
      }
    }
  ],
  "metadata": {
    "kernelspec": {
      "name": "synapse_pyspark",
      "language": "Python",
      "display_name": "Synapse PySpark"
    },
    "language_info": {
      "name": "python"
    },
    "kernel_info": {
      "name": "synapse_pyspark"
    },
    "save_output": true,
    "synapse_widget": {
      "version": "0.1",
      "state": {}
    }
  },
  "nbformat": 4,
  "nbformat_minor": 2
}