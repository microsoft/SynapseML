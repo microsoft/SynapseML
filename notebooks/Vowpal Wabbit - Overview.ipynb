{
 "metadata": {
  "language_info": {
   "codemirror_mode": {
    "name": "ipython",
    "version": 3
   },
   "file_extension": ".py",
   "mimetype": "text/x-python",
   "name": "python",
   "nbconvert_exporter": "python",
   "pygments_lexer": "ipython3",
   "version": 3
  },
  "orig_nbformat": 2
 },
 "nbformat": 4,
 "nbformat_minor": 2,
 "cells": [
  {
   "source": [
    "<img width=\"200\" src=\"https://mmlspark.blob.core.windows.net/graphics/emails/vw-blue-dark-orange.svg\">\n",
    "\n",
    "# VowalWabbit \n",
    "\n",
    "[VowpalWabbit](https://github.com/VowpalWabbit/vowpal_wabbit) (VW) is a machine learning system which\n",
    "pushes the frontier of machine learning with techniques such as online, hashing, allreduce,\n",
    "reductions, learning2search, active, and interactive learning. \n",
    "VowpalWabbit is a popular choice in ad-tech due to it's speed and cost efficacy. \n",
    "Furthermore it includes many advances in the area of reinforcement learning (e.g. contextual bandits). \n",
    "\n",
    "### Advantages of VowpalWabbit\n",
    "\n",
    "-  **Composability**: VowpalWabbit models can be incorporated into existing\n",
    "    SparkML Pipelines, and used for batch, streaming, and serving workloads.\n",
    "-  **Small footprint**: VowpalWabbit memory consumption is rather small and can be controlled through '-b 18' or setNumBits method.   \n",
    "    This determines the size of the model (e.g. 2^18 * some_constant).\n",
    "-  **Feature Interactions**: Feature interactions (e.g. quadratic, cubic,... terms) are created on-the-fly within the most inner\n",
    "    learning loop in VW.\n",
    "    Interactions can be specified by using the -q parameter and passing the first character of the namespaces that should be _interacted_. \n",
    "    The VW namespace concept is mapped to Spark using columns. The column name is used as namespace name, thus one sparse or dense Spark ML vector corresponds to the features of a single namespace. \n",
    "    To allow passing of multiple namespaces the VW estimator (classifier or regression) expose an additional property called _additionalFeatures_. Users can pass an array of column names.\n",
    "-  **Simple deployment**: all native dependencies are packaged into a single jars (including boost and zlib).\n",
    "-  **VowpalWabbit command line arguments**: users can pass VW command line arguments to control the learning process.\n",
    "-  **VowpalWabbit binary models** Users can supply an inital VowpalWabbit model to start the training which can be produced outside of \n",
    "    VW on Spark by invoking _setInitialModel_ and pass the model as a byte array. Similarly users can access the binary model by invoking\n",
    "    _getModel_ on the trained model object.\n",
    "-  **Java-based hashing** VWs version of murmur-hash was re-implemented in Java (praise to [JackDoe](https://github.com/jackdoe)) \n",
    "    providing a major performance improvement compared to passing input strings through JNI and hashing in C++.\n",
    "-  **Cross language** VowpalWabbit on Spark is available on Spark, PySpark, and SparklyR.\n",
    "\n",
    "### Limitations of VowpalWabbit on Spark\n",
    "\n",
    "-  **Linux and CentOS only** The native binaries included with the published jar are built Linux and CentOS only.\n",
    "    We're working on creating a more portable version by statically linking Boost and lib C++.\n",
    "-  **Limited Parsing** Features implemented in the native VW parser (e.g. ngrams, skips, ...) are not yet implemented in\n",
    "    VowpalWabbitFeaturizer.\n",
    "\n",
    "### VowpalWabbit Usage:\n",
    "\n",
    "-  VowpalWabbitClassifier: used to build classification models.\n",
    "-  VowpalWabbitRegressor: used to build regression models.\n",
    "-  VowpalWabbitFeaturizer: used for feature hashing and extraction. For details please visit [here](https://github.com/VowpalWabbit/vowpal_wabbit/wiki/Feature-Hashing-and-Extraction).\n",
    "-  VowpalWabbitContextualBandit: used to solve contextual bandits problems. For algorithm details please visit [here](https://github.com/VowpalWabbit/vowpal_wabbit/wiki/Contextual-Bandit-algorithms)."
   ],
   "cell_type": "markdown",
   "metadata": {}
  },
  {
   "source": [
    "## Heart Disease Detection with VowalWabbit Classifier\n",
    "\n",
    "<img src=\"https://mmlspark.blob.core.windows.net/graphics/Documentation/heart disease.png\" width=\"800\" style=\"float: center;\"/>"
   ],
   "cell_type": "markdown",
   "metadata": {}
  },
  {
   "source": [
    "#### Read dataset"
   ],
   "cell_type": "markdown",
   "metadata": {}
  },
  {
   "cell_type": "code",
   "execution_count": null,
   "metadata": {},
   "outputs": [],
   "source": [
    "df = spark.read.format(\"csv\")\\\n",
    "  .option(\"header\", True)\\\n",
    "  .option(\"inferSchema\", True)\\\n",
    "  .load(\"wasbs://publicwasb@mmlspark.blob.core.windows.net/heart_disease_prediction_data.csv\")\n",
    "# print dataset basic info\n",
    "print(\"records read: \" + str(df.count()))\n",
    "print(\"Schema: \")\n",
    "df.printSchema()"
   ]
  },
  {
   "cell_type": "code",
   "execution_count": null,
   "metadata": {},
   "outputs": [],
   "source": [
    "display(df)"
   ]
  },
  {
   "source": [
    "#### Split the dataset into train and test"
   ],
   "cell_type": "markdown",
   "metadata": {}
  },
  {
   "cell_type": "code",
   "execution_count": null,
   "metadata": {},
   "outputs": [],
   "source": [
    "train, test = df.randomSplit([0.85, 0.15], seed=1)"
   ]
  },
  {
   "source": [
    "#### Use VowalWabbitFeaturizer to convert data features into vector"
   ],
   "cell_type": "markdown",
   "metadata": {}
  },
  {
   "cell_type": "code",
   "execution_count": null,
   "metadata": {},
   "outputs": [],
   "source": [
    "from mmlspark.vw import VowpalWabbitFeaturizer\n",
    "featurizer = VowpalWabbitFeaturizer(inputCols=df.columns[:-1], outputCol=\"features\")\n",
    "train_data = featurizer.transform(train)[\"target\", \"features\"]\n",
    "test_data = featurizer.transform(test)[\"target\", \"features\"]"
   ]
  },
  {
   "cell_type": "code",
   "execution_count": null,
   "metadata": {},
   "outputs": [],
   "source": [
    "display(train_data.groupBy(\"target\").count())"
   ]
  },
  {
   "source": [
    "#### Model Training"
   ],
   "cell_type": "markdown",
   "metadata": {}
  },
  {
   "cell_type": "code",
   "execution_count": null,
   "metadata": {},
   "outputs": [],
   "source": [
    "from mmlspark.vw import VowpalWabbitClassifier\n",
    "model = VowpalWabbitClassifier(numPasses=20, labelCol=\"target\", featuresCol=\"features\").fit(train_data)"
   ]
  },
  {
   "source": [
    "#### Model Prediction"
   ],
   "cell_type": "markdown",
   "metadata": {}
  },
  {
   "cell_type": "code",
   "execution_count": null,
   "metadata": {},
   "outputs": [],
   "source": [
    "predictions = model.transform(test_data)\n",
    "display(predictions)"
   ]
  },
  {
   "cell_type": "code",
   "execution_count": null,
   "metadata": {},
   "outputs": [],
   "source": [
    "from mmlspark.train import ComputeModelStatistics\n",
    "metrics = ComputeModelStatistics(evaluationMetric='classification', labelCol='target', scoredLabelsCol='prediction').transform(predictions)\n",
    "display(metrics)"
   ]
  },
  {
   "source": [
    "## Adult Census with VowpalWabbitClassifier\n",
    "\n",
    "In this example, we predict incomes from the Adult Census dataset using Vowpal Wabbit (VW) Classifier in MMLSpark."
   ],
   "cell_type": "markdown",
   "metadata": {}
  },
  {
   "source": [
    "#### Read dataset and split them into train & test"
   ],
   "cell_type": "markdown",
   "metadata": {}
  },
  {
   "cell_type": "code",
   "execution_count": null,
   "metadata": {},
   "outputs": [],
   "source": [
    "data = spark.read.parquet(\"wasbs://publicwasb@mmlspark.blob.core.windows.net/AdultCensusIncome.parquet\")\n",
    "data = data.select([\"education\", \"marital-status\", \"hours-per-week\", \"income\"])\n",
    "train, test = data.randomSplit([0.75, 0.25], seed=123)\n",
    "display(train)"
   ]
  },
  {
   "source": [
    "#### Model Training\n",
    "\n",
    "We define a pipeline that includes feature engineering and training of a VW classifier. We use a featurizer provided by VW that hashes the feature names. Note that VW expects classification labels being -1 or 1. Thus, the income category is mapped to this space before feeding training data into the pipeline.\n",
    "\n",
    "Note: VW supports distributed learning, and it's controlled by number of partitions of dataset."
   ],
   "cell_type": "markdown",
   "metadata": {}
  },
  {
   "cell_type": "code",
   "execution_count": null,
   "metadata": {},
   "outputs": [],
   "source": [
    "from pyspark.sql.functions import when, col\n",
    "from pyspark.ml import Pipeline\n",
    "from mmlspark.vw import VowpalWabbitFeaturizer, VowpalWabbitClassifier\n",
    "\n",
    "# Define classification label\n",
    "train = train.withColumn(\"label\", when(col(\"income\").contains(\"<\"), 0.0).otherwise(1.0)).repartition(1)\n",
    "print(train.count())\n",
    "\n",
    "# Specify featurizer\n",
    "vw_featurizer = VowpalWabbitFeaturizer(inputCols=[\"education\", \"marital-status\", \"hours-per-week\"],\n",
    "                                       outputCol=\"features\")"
   ]
  },
  {
   "source": [
    "Note: \"args\" parameter lets you pass in any params not exposed through our API. Full command line argument docs can be found [here](https://github.com/VowpalWabbit/vowpal_wabbit/wiki/Command-Line-Arguments)."
   ],
   "cell_type": "markdown",
   "metadata": {}
  },
  {
   "cell_type": "code",
   "execution_count": null,
   "metadata": {},
   "outputs": [],
   "source": [
    "# Define VW classification model\n",
    "args = \"--loss_function=logistic --quiet --holdout_off\"\n",
    "vw_model = VowpalWabbitClassifier(featuresCol=\"features\",\n",
    "                                  labelCol=\"label\",\n",
    "                                  args=args,\n",
    "                                  numPasses=10)\n",
    "\n",
    "# Create a pipeline\n",
    "vw_pipeline = Pipeline(stages=[vw_featurizer, vw_model])"
   ]
  },
  {
   "cell_type": "code",
   "execution_count": null,
   "metadata": {},
   "outputs": [],
   "source": [
    "vw_trained = vw_pipeline.fit(train)"
   ]
  },
  {
   "source": [
    "#### Model Prediction\n",
    "\n",
    "After the model is trained, we apply it to predict the income of each sample in the test set."
   ],
   "cell_type": "markdown",
   "metadata": {}
  },
  {
   "cell_type": "code",
   "execution_count": null,
   "metadata": {},
   "outputs": [],
   "source": [
    "# Making predictions\n",
    "test = test.withColumn(\"label\", when(col(\"income\").contains(\"<\"), 0.0).otherwise(1.0))\n",
    "prediction = vw_trained.transform(test)\n",
    "display(prediction)"
   ]
  },
  {
   "source": [
    "Finally, we evaluate the model performance using ComputeModelStatistics function which will compute confusion matrix, accuracy, precision, recall, and AUC by default for classificaiton models."
   ],
   "cell_type": "markdown",
   "metadata": {}
  },
  {
   "cell_type": "code",
   "execution_count": null,
   "metadata": {},
   "outputs": [],
   "source": [
    "from mmlspark.train import ComputeModelStatistics\n",
    "metrics = ComputeModelStatistics(evaluationMetric=\"classification\", \n",
    "                                 labelCol=\"label\", \n",
    "                                 scoredLabelsCol=\"prediction\").transform(prediction)\n",
    "display(metrics)"
   ]
  },
  {
   "source": [
    "## Boston house price prediction with VowpalWabbitRegressor - Quantile Regression\n",
    "\n",
    "In this example, we show how to build regression model with VW using Boston's house price."
   ],
   "cell_type": "markdown",
   "metadata": {}
  },
  {
   "source": [
    "#### Read dataset\n",
    "\n",
    "We use [*Boston house price* dataset](https://scikit-learn.org/stable/modules/generated/sklearn.datasets.load_boston.html) \n",
    ". \n",
    "The data was collected in 1978 from Boston area and consists of 506 entries with 14 features including the value of homes. \n",
    "We use `sklearn.datasets` module to download it easily, then split the set into training and testing by 75/25."
   ],
   "cell_type": "markdown",
   "metadata": {}
  },
  {
   "cell_type": "code",
   "execution_count": null,
   "metadata": {},
   "outputs": [],
   "source": [
    "import math\n",
    "from matplotlib.colors import ListedColormap, Normalize\n",
    "from matplotlib.cm import get_cmap\n",
    "import matplotlib.pyplot as plt\n",
    "from mmlspark.train import ComputeModelStatistics\n",
    "from mmlspark.vw import VowpalWabbitRegressor, VowpalWabbitFeaturizer\n",
    "import numpy as np\n",
    "import pandas as pd\n",
    "from sklearn.datasets import load_boston"
   ]
  },
  {
   "cell_type": "code",
   "execution_count": null,
   "metadata": {},
   "outputs": [],
   "source": [
    "boston = load_boston()\n",
    "\n",
    "feature_cols = ['f' + str(i) for i in range(boston.data.shape[1])]\n",
    "header = ['target'] + feature_cols\n",
    "df = spark.createDataFrame(\n",
    "    pd.DataFrame(data=np.column_stack((boston.target, boston.data)), columns=header)\n",
    ").repartition(1)\n",
    "print(\"Dataframe has {} rows\".format(df.count()))\n",
    "display(df.limit(10))"
   ]
  },
  {
   "cell_type": "code",
   "execution_count": null,
   "metadata": {},
   "outputs": [],
   "source": [
    "train_data, test_data = df.randomSplit([0.75, 0.25], seed=42)"
   ]
  },
  {
   "cell_type": "code",
   "execution_count": null,
   "metadata": {},
   "outputs": [],
   "source": [
    "display(train_data.summary().toPandas())"
   ]
  },
  {
   "cell_type": "code",
   "execution_count": null,
   "metadata": {},
   "outputs": [],
   "source": [
    "train_data.show(10)"
   ]
  },
  {
   "source": [
    "Exploratory analysis: plot feature distributions over different target values."
   ],
   "cell_type": "markdown",
   "metadata": {}
  },
  {
   "cell_type": "code",
   "execution_count": null,
   "metadata": {},
   "outputs": [],
   "source": [
    "features = train_data.columns[1:]\n",
    "values = train_data.drop('target').toPandas()\n",
    "ncols = 5\n",
    "nrows = math.ceil(len(features) / ncols)\n",
    "\n",
    "yy = [r['target'] for r in train_data.select('target').collect()]\n",
    "\n",
    "f, axes = plt.subplots(nrows, ncols, sharey=True, figsize=(30,10))\n",
    "f.tight_layout()\n",
    "\n",
    "for irow in range(nrows):\n",
    "    axes[irow][0].set_ylabel('target')\n",
    "    for icol in range(ncols):\n",
    "        try:\n",
    "            feat = features[irow*ncols + icol]\n",
    "            xx = values[feat]\n",
    "\n",
    "            axes[irow][icol].scatter(xx, yy, s=10, alpha=0.25)\n",
    "            axes[irow][icol].set_xlabel(feat)\n",
    "            axes[irow][icol].get_yaxis().set_ticks([])\n",
    "        except IndexError:\n",
    "            f.delaxes(axes[irow][icol])"
   ]
  },
  {
   "source": [
    "#### VW-style feature hashing"
   ],
   "cell_type": "markdown",
   "metadata": {}
  },
  {
   "cell_type": "code",
   "execution_count": null,
   "metadata": {},
   "outputs": [],
   "source": [
    "vw_featurizer = VowpalWabbitFeaturizer(\n",
    "    inputCols=feature_cols,\n",
    "    outputCol='features',\n",
    ")\n",
    "vw_train_data = vw_featurizer.transform(train_data)['target', 'features']\n",
    "vw_test_data = vw_featurizer.transform(test_data)['target', 'features']\n",
    "display(vw_train_data)"
   ]
  },
  {
   "source": [
    "#### Model training & Prediction\n",
    "\n",
    "See [VW wiki](https://github.com/vowpalWabbit/vowpal_wabbit/wiki/Command-Line-Arguments) for command line arguments."
   ],
   "cell_type": "markdown",
   "metadata": {}
  },
  {
   "cell_type": "code",
   "execution_count": null,
   "metadata": {},
   "outputs": [],
   "source": [
    "args = \"--holdout_off --loss_function quantile -l 7 -q :: --power_t 0.7\"\n",
    "vwr = VowpalWabbitRegressor(\n",
    "    labelCol='target',\n",
    "    featuresCol='features',\n",
    "    args=args,\n",
    "    numPasses=200,\n",
    ")\n",
    "\n",
    "# To reduce number of partitions (which will effect performance), use `vw_train_data.repartition(1)`\n",
    "vw_model = vwr.fit(vw_train_data.repartition(1))\n",
    "vw_predictions = vw_model.transform(vw_test_data)\n",
    "\n",
    "display(vw_predictions.limit(20).toPandas())"
   ]
  },
  {
   "source": [
    "#### Compute Statistics & Visualization"
   ],
   "cell_type": "markdown",
   "metadata": {}
  },
  {
   "cell_type": "code",
   "execution_count": null,
   "metadata": {},
   "outputs": [],
   "source": [
    "metrics = ComputeModelStatistics(\n",
    "    evaluationMetric='regression',\n",
    "    labelCol='target',\n",
    "    scoresCol='prediction'\n",
    ").transform(vw_predictions)\n",
    "\n",
    "vw_result = metrics.toPandas()\n",
    "vw_result.insert(0, 'model', ['Vowpal Wabbit'])\n",
    "display(vw_result)"
   ]
  },
  {
   "cell_type": "code",
   "execution_count": null,
   "metadata": {},
   "outputs": [],
   "source": [
    "cmap = get_cmap('YlOrRd')\n",
    "target = np.array(test_data.select('target').collect()).flatten()\n",
    "model_preds = [(\"Vowpal Wabbit\", vw_predictions)]\n",
    "\n",
    "f, axe = plt.subplots(figsize=(6, 6))\n",
    "f.tight_layout()\n",
    "\n",
    "preds = np.array(vw_predictions.select('prediction').collect()).flatten()\n",
    "err = np.absolute(preds - target)\n",
    "norm = Normalize()\n",
    "clrs = cmap(np.asarray(norm(err)))[:, :-1]\n",
    "plt.scatter(preds, target, s=60, c=clrs, edgecolors='#888888', alpha=0.75)\n",
    "plt.plot((0, 60), (0, 60), linestyle='--', color='#888888')\n",
    "axe.set_xlabel('Predicted values')\n",
    "axe.set_ylabel('Actual values')\n",
    "axe.set_title(\"Vowpal Wabbit\")"
   ]
  },
  {
   "source": [
    "## Quantile Regression for Drug Discovery with VowpalWabbitRegressor\r\n",
    "\r\n",
    "<img src=\"https://mmlspark.blob.core.windows.net/graphics/Documentation/drug.png\" width=\"800\" style=\"float: center;\"/>"
   ],
   "cell_type": "markdown",
   "metadata": {}
  },
  {
   "source": [
    "#### Read dataset"
   ],
   "cell_type": "markdown",
   "metadata": {}
  },
  {
   "cell_type": "code",
   "execution_count": null,
   "metadata": {},
   "outputs": [],
   "source": [
    "triazines = spark.read.format(\"libsvm\")\\\n",
    "    .load(\"wasbs://publicwasb@mmlspark.blob.core.windows.net/triazines.scale.svmlight\")"
   ]
  },
  {
   "cell_type": "code",
   "execution_count": null,
   "metadata": {},
   "outputs": [],
   "source": [
    "# print some basic info\n",
    "print(\"records read: \" + str(triazines.count()))\n",
    "print(\"Schema: \")\n",
    "triazines.printSchema()\n",
    "display(triazines.limit(10))"
   ]
  },
  {
   "source": [
    "#### Split dataset into train and test"
   ],
   "cell_type": "markdown",
   "metadata": {}
  },
  {
   "cell_type": "code",
   "execution_count": null,
   "metadata": {},
   "outputs": [],
   "source": [
    "train, test = triazines.randomSplit([0.85, 0.15], seed=1)"
   ]
  },
  {
   "source": [
    "#### Model Training"
   ],
   "cell_type": "markdown",
   "metadata": {}
  },
  {
   "cell_type": "code",
   "execution_count": null,
   "metadata": {},
   "outputs": [],
   "source": [
    "from mmlspark.vw import VowpalWabbitRegressor\n",
    "model = (VowpalWabbitRegressor(numPasses=20, args=\"--holdout_off --loss_function quantile -q :: -l 0.1\")\n",
    "            .fit(train))"
   ]
  },
  {
   "source": [
    "#### Model Prediction"
   ],
   "cell_type": "markdown",
   "metadata": {}
  },
  {
   "cell_type": "code",
   "execution_count": null,
   "metadata": {},
   "outputs": [],
   "source": [
    "scoredData = model.transform(test)\n",
    "display(scoredData.limit(10))"
   ]
  },
  {
   "cell_type": "code",
   "execution_count": null,
   "metadata": {},
   "outputs": [],
   "source": [
    "from mmlspark.train import ComputeModelStatistics\n",
    "metrics = ComputeModelStatistics(evaluationMetric='regression',\n",
    "                                 labelCol='label',\n",
    "                                 scoresCol='prediction') \\\n",
    "            .transform(scoredData)\n",
    "display(metrics)"
   ]
  },
  {
   "source": [
    "## VW Contextual Bandit"
   ],
   "cell_type": "markdown",
   "metadata": {}
  },
  {
   "source": [
    "#### Read dataset"
   ],
   "cell_type": "markdown",
   "metadata": {}
  },
  {
   "cell_type": "code",
   "execution_count": null,
   "metadata": {},
   "outputs": [],
   "source": [
    "data = spark.read.format(\"json\").load(\"wasbs://publicwasb@mmlspark.blob.core.windows.net/vwcb_input.dsjson\")"
   ]
  },
  {
   "source": [
    "Note: Actions are all five TAction_x_topic columns."
   ],
   "cell_type": "markdown",
   "metadata": {}
  },
  {
   "cell_type": "code",
   "execution_count": null,
   "metadata": {},
   "outputs": [],
   "source": [
    "from pyspark.sql.functions import col \n",
    "from pyspark.sql.types import IntegerType, DoubleType \n",
    "data = data.withColumn('GUser_id', col('c.GUser.id'))\\\n",
    "  .withColumn('GUser_major', col('c.GUser.major'))\\\n",
    "  .withColumn('GUser_hobby', col('c.GUser.hobby'))\\\n",
    "  .withColumn('GUser_favorite_character', col('c.GUser.favorite_character'))\\\n",
    "  .withColumn('TAction_0_topic', col('c._multi.TAction.topic')[0])\\\n",
    "  .withColumn('TAction_1_topic', col('c._multi.TAction.topic')[1])\\\n",
    "  .withColumn('TAction_2_topic', col('c._multi.TAction.topic')[2])\\\n",
    "  .withColumn('TAction_3_topic', col('c._multi.TAction.topic')[3])\\\n",
    "  .withColumn('TAction_4_topic', col('c._multi.TAction.topic')[4])\\\n",
    "  .withColumn('chosenAction', col('_label_Action').cast(IntegerType()))\\\n",
    "  .withColumn('label', col('_labelIndex').cast(DoubleType()))\\\n",
    "  .withColumn('probability', col('_label_probability'))\\\n",
    "  .select('GUser_id', 'GUser_major', 'GUser_hobby', 'GUser_favorite_character', 'TAction_0_topic', 'TAction_1_topic', 'TAction_2_topic', 'TAction_3_topic', 'TAction_4_topic', 'chosenAction', 'label', 'probability')\n",
    "\n",
    "print(\"Schema: \") \n",
    "data.printSchema()"
   ]
  },
  {
   "source": [
    "Add pipeline to add featurizer, convert all feature columns into vector."
   ],
   "cell_type": "markdown",
   "metadata": {}
  },
  {
   "cell_type": "code",
   "execution_count": null,
   "metadata": {},
   "outputs": [],
   "source": [
    "from mmlspark.vw import VowpalWabbitFeaturizer, VowpalWabbitContextualBandit, VectorZipper\n",
    "from pyspark.ml import Pipeline\n",
    "pipeline = Pipeline(stages=[\n",
    "  VowpalWabbitFeaturizer(inputCols=['GUser_id'], outputCol='GUser_id_feature'),\n",
    "  VowpalWabbitFeaturizer(inputCols=['GUser_major'], outputCol='GUser_major_feature'),\n",
    "  VowpalWabbitFeaturizer(inputCols=['GUser_hobby'], outputCol='GUser_hobby_feature'),\n",
    "  VowpalWabbitFeaturizer(inputCols=['GUser_favorite_character'], outputCol='GUser_favorite_character_feature'),\n",
    "  VowpalWabbitFeaturizer(inputCols=['TAction_0_topic'], outputCol='TAction_0_topic_feature'),\n",
    "  VowpalWabbitFeaturizer(inputCols=['TAction_1_topic'], outputCol='TAction_1_topic_feature'),\n",
    "  VowpalWabbitFeaturizer(inputCols=['TAction_2_topic'], outputCol='TAction_2_topic_feature'),\n",
    "  VowpalWabbitFeaturizer(inputCols=['TAction_3_topic'], outputCol='TAction_3_topic_feature'),\n",
    "  VowpalWabbitFeaturizer(inputCols=['TAction_4_topic'], outputCol='TAction_4_topic_feature'),\n",
    "  VectorZipper(inputCols=['TAction_0_topic_feature', 'TAction_1_topic_feature', 'TAction_2_topic_feature', 'TAction_3_topic_feature','TAction_4_topic_feature'], outputCol='features')\n",
    "])\n",
    "tranformation_pipeline = pipeline.fit(data)\n",
    "transformed_data = tranformation_pipeline.transform(data)\n",
    "\n",
    "display(transformed_data)"
   ]
  },
  {
   "source": [
    "Build VowpalWabbit Contextual Bandit model and compute performance statistics."
   ],
   "cell_type": "markdown",
   "metadata": {}
  },
  {
   "cell_type": "code",
   "execution_count": null,
   "metadata": {},
   "outputs": [],
   "source": [
    "estimator = VowpalWabbitContextualBandit() \\\n",
    "    .setArgs(\"--cb_explore_adf --epsilon 0.2 --quiet\") \\\n",
    "    .setSharedCol('GUser_id_feature') \\\n",
    "    .setAdditionalSharedFeatures([\"GUser_major_feature\", \"GUser_hobby_feature\", \"GUser_favorite_character_feature\"]) \\\n",
    "    .setFeaturesCol('features') \\\n",
    "    .setUseBarrierExecutionMode(False)\\\n",
    "    .setChosenActionCol('chosenAction')\\\n",
    "    .setLabelCol('label')\\\n",
    "    .setProbabilityCol('probability')\n",
    "model = estimator.fit(transformed_data)\n",
    "display(model.getPerformanceStatistics())"
   ]
  }
 ]
}