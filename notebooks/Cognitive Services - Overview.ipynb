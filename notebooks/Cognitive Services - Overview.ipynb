{
 "metadata": {
  "language_info": {
   "codemirror_mode": {
    "name": "ipython",
    "version": 3
   },
   "file_extension": ".py",
   "mimetype": "text/x-python",
   "name": "python",
   "nbconvert_exporter": "python",
   "pygments_lexer": "ipython3",
   "version": 3
  },
  "orig_nbformat": 2
 },
 "nbformat": 4,
 "nbformat_minor": 2,
 "cells": [
  {
   "cell_type": "markdown",
   "source": [
    "<img width=\"200\"  src=\"https://mmlspark.blob.core.windows.net/graphics/Readme/cog_services_on_spark_2.svg\">\n",
    "\n",
    "# Cognitive Services\n",
    "\n",
    "[Azure Cognitive Services](https://azure.microsoft.com/en-us/services/cognitive-services/) are a suite of APIs, SDKs, and services available to help developers build intelligent applications without having direct AI or data science skills or knowledge by enabling developers to easily add cognitive features into their applications. The goal of Azure Cognitive Services is to help developers create applications that can see, hear, speak, understand, and even begin to reason. The catalog of services within Azure Cognitive Services can be categorized into five main pillars - Vision, Speech, Language, Web Search, and Decision.\n",
    "\n",
    "## Usage\n",
    "\n",
    "### Vision\n",
    "[**Computer Vision**](https://azure.microsoft.com/en-us/services/cognitive-services/computer-vision/)\n",
    "- Describe: provides description of an image in human readable language ([Scala](https://mmlspark.blob.core.windows.net/docs/1.0.0-rc3-148-87ec5f74-SNAPSHOT/scala/com/microsoft/ml/spark/cognitive/DescribeImage.html), [Python](https://mmlspark.blob.core.windows.net/docs/1.0.0-rc3-148-87ec5f74-SNAPSHOT/pyspark/mmlspark.cognitive.html#module-mmlspark.cognitive.DescribeImage))\n",
    "- Analyze (color, image type, face, adult/racy content): analyzes visual features of an image ([Scala](https://mmlspark.blob.core.windows.net/docs/1.0.0-rc3-148-87ec5f74-SNAPSHOT/scala/com/microsoft/ml/spark/cognitive/AnalyzeImage.html), [Python](https://mmlspark.blob.core.windows.net/docs/1.0.0-rc3-148-87ec5f74-SNAPSHOT/pyspark/mmlspark.cognitive.html#module-mmlspark.cognitive.AnalyzeImage))\n",
    "- OCR: reads text from an image ([Scala](https://mmlspark.blob.core.windows.net/docs/1.0.0-rc3-148-87ec5f74-SNAPSHOT/scala/com/microsoft/ml/spark/cognitive/OCR.html), [Python](https://mmlspark.blob.core.windows.net/docs/1.0.0-rc3-148-87ec5f74-SNAPSHOT/pyspark/mmlspark.cognitive.html#module-mmlspark.cognitive.OCR))\n",
    "- Recognize Text: reads text from an image ([Scala](https://mmlspark.blob.core.windows.net/docs/1.0.0-rc3-148-87ec5f74-SNAPSHOT/scala/com/microsoft/ml/spark/cognitive/RecognizeText.html), [Python](https://mmlspark.blob.core.windows.net/docs/1.0.0-rc3-148-87ec5f74-SNAPSHOT/pyspark/mmlspark.cognitive.html#module-mmlspark.cognitive.RecognizeText))\n",
    "- Thumbnail: generates a thumbnail of user-specified size from the image ([Scala](https://mmlspark.blob.core.windows.net/docs/1.0.0-rc3-148-87ec5f74-SNAPSHOT/scala/com/microsoft/ml/spark/cognitive/GenerateThumbnails.html), [Python](https://mmlspark.blob.core.windows.net/docs/1.0.0-rc3-148-87ec5f74-SNAPSHOT/pyspark/mmlspark.cognitive.html#module-mmlspark.cognitive.GenerateThumbnails))\n",
    "- Recognize domain-specific content: recognizes domain-specific content (celebrity, landmark) ([Scala](https://mmlspark.blob.core.windows.net/docs/1.0.0-rc3-148-87ec5f74-SNAPSHOT/scala/com/microsoft/ml/spark/cognitive/RecognizeDomainSpecificContent.html), [Python](https://mmlspark.blob.core.windows.net/docs/1.0.0-rc3-148-87ec5f74-SNAPSHOT/pyspark/mmlspark.cognitive.html#module-mmlspark.cognitive.RecognizeDomainSpecificContent))\n",
    "- Tag: identifies list of words that are relevant to the in0put image ([Scala](https://mmlspark.blob.core.windows.net/docs/1.0.0-rc3-148-87ec5f74-SNAPSHOT/scala/com/microsoft/ml/spark/cognitive/TagImage.html), [Python](https://mmlspark.blob.core.windows.net/docs/1.0.0-rc3-148-87ec5f74-SNAPSHOT/pyspark/mmlspark.cognitive.html#module-mmlspark.cognitive.TagImage))\n",
    "\n",
    "[**Face**](https://azure.microsoft.com/en-us/services/cognitive-services/face/)\n",
    "- Detect: detects human faces in an image ([Scala](https://mmlspark.blob.core.windows.net/docs/1.0.0-rc3-148-87ec5f74-SNAPSHOT/scala/com/microsoft/ml/spark/cognitive/DetectFace.html), [Python](https://mmlspark.blob.core.windows.net/docs/1.0.0-rc3-148-87ec5f74-SNAPSHOT/pyspark/mmlspark.cognitive.html#module-mmlspark.cognitive.DetectFace))\n",
    "- Verify: verifies whether two faces belong to a same person, or a face belongs to a person ([Scala](https://mmlspark.blob.core.windows.net/docs/1.0.0-rc3-148-87ec5f74-SNAPSHOT/scala/com/microsoft/ml/spark/cognitive/VerifyFaces.html), [Python](https://mmlspark.blob.core.windows.net/docs/1.0.0-rc3-148-87ec5f74-SNAPSHOT/pyspark/mmlspark.cognitive.html#module-mmlspark.cognitive.VerifyFaces))\n",
    "- Identify: finds the closest matches of the specific query person face from a person group ([Scala](https://mmlspark.blob.core.windows.net/docs/1.0.0-rc3-148-87ec5f74-SNAPSHOT/scala/com/microsoft/ml/spark/cognitive/IdentifyFaces.html), [Python](https://mmlspark.blob.core.windows.net/docs/1.0.0-rc3-148-87ec5f74-SNAPSHOT/pyspark/mmlspark.cognitive.html#module-mmlspark.cognitive.IdentifyFaces))\n",
    "- Find similar: finds similar faces to the query face in a face list ([Scala](https://mmlspark.blob.core.windows.net/docs/1.0.0-rc3-148-87ec5f74-SNAPSHOT/scala/com/microsoft/ml/spark/cognitive/FindSimilarFace.html), [Python](https://mmlspark.blob.core.windows.net/docs/1.0.0-rc3-148-87ec5f74-SNAPSHOT/pyspark/mmlspark.cognitive.html#module-mmlspark.cognitive.FindSimilarFace))\n",
    "- Group: divides a group of faces into disjoint groups based on similarity ([Scala](https://mmlspark.blob.core.windows.net/docs/1.0.0-rc3-148-87ec5f74-SNAPSHOT/scala/com/microsoft/ml/spark/cognitive/GroupFaces.html), [Python](https://mmlspark.blob.core.windows.net/docs/1.0.0-rc3-148-87ec5f74-SNAPSHOT/pyspark/mmlspark.cognitive.html#module-mmlspark.cognitive.GroupFaces))\n",
    "\n",
    "### Speech\n",
    "[**Speech Services**](https://azure.microsoft.com/en-us/services/cognitive-services/speech-services/)\n",
    "- Speech-to-text: transcribes audio streams ([Scala](https://mmlspark.blob.core.windows.net/docs/1.0.0-rc3-148-87ec5f74-SNAPSHOT/scala/com/microsoft/ml/spark/cognitive/SpeechToText.html), [Python](https://mmlspark.blob.core.windows.net/docs/1.0.0-rc3-148-87ec5f74-SNAPSHOT/pyspark/mmlspark.cognitive.html#module-mmlspark.cognitive.SpeechToText))\n",
    "\n",
    "### Language\n",
    "[**Text Analytics**](https://azure.microsoft.com/en-us/services/cognitive-services/text-analytics/)\n",
    "- Language detection: detects language of the input text ([Scala](https://mmlspark.blob.core.windows.net/docs/1.0.0-rc3-148-87ec5f74-SNAPSHOT/scala/com/microsoft/ml/spark/cognitive/LanguageDetector.html), [Python](https://mmlspark.blob.core.windows.net/docs/1.0.0-rc3-148-87ec5f74-SNAPSHOT/pyspark/mmlspark.cognitive.html#module-mmlspark.cognitive.LanguageDetector))\n",
    "- Key phrase extraction: identifies the key talking points in the input text ([Scala](https://mmlspark.blob.core.windows.net/docs/1.0.0-rc3-148-87ec5f74-SNAPSHOT/scala/com/microsoft/ml/spark/cognitive/KeyPhraseExtractor.html), [Python](https://mmlspark.blob.core.windows.net/docs/1.0.0-rc3-148-87ec5f74-SNAPSHOT/pyspark/mmlspark.cognitive.html#module-mmlspark.cognitive.KeyPhraseExtractor))\n",
    "- Named entity recognition: identifies known entities and general named entities in the input text ([Scala](https://mmlspark.blob.core.windows.net/docs/1.0.0-rc3-148-87ec5f74-SNAPSHOT/scala/com/microsoft/ml/spark/cognitive/NER.html), [Python](https://mmlspark.blob.core.windows.net/docs/1.0.0-rc3-148-87ec5f74-SNAPSHOT/pyspark/mmlspark.cognitive.html#module-mmlspark.cognitive.NER))\n",
    "- Sentiment analysis: returns a score betwee 0 and 1 indicating the sentiment in the input text ([Scala](https://mmlspark.blob.core.windows.net/docs/1.0.0-rc3-148-87ec5f74-SNAPSHOT/scala/com/microsoft/ml/spark/cognitive/TextSentiment.html), [Python](https://mmlspark.blob.core.windows.net/docs/1.0.0-rc3-148-87ec5f74-SNAPSHOT/pyspark/mmlspark.cognitive.html#module-mmlspark.cognitive.TextSentiment))\n",
    "\n",
    "[**Translator**](https://azure.microsoft.com/en-us/services/cognitive-services/translator/)\n",
    "- Translate: Translates text. ([Scala](https://mmlspark.blob.core.windows.net/docs/1.0.0-rc3-148-87ec5f74-SNAPSHOT/scala/com/microsoft/ml/spark/cognitive/Translate.html), [Python](https://mmlspark.blob.core.windows.net/docs/1.0.0-rc3-148-87ec5f74-SNAPSHOT/pyspark/mmlspark.cognitive.html#module-mmlspark.cognitive.Translate))\n",
    "- Transliterate: Converts text in one language from one script to another script. ([Scala](https://mmlspark.blob.core.windows.net/docs/1.0.0-rc3-148-87ec5f74-SNAPSHOT/scala/com/microsoft/ml/spark/cognitive/Transliterate.html), [Python](https://mmlspark.blob.core.windows.net/docs/1.0.0-rc3-148-87ec5f74-SNAPSHOT/pyspark/mmlspark.cognitive.html#module-mmlspark.cognitive.Transliterate))\n",
    "- Detect: Identifies the language of a piece of text. ([Scala](https://mmlspark.blob.core.windows.net/docs/1.0.0-rc3-148-87ec5f74-SNAPSHOT/scala/com/microsoft/ml/spark/cognitive/Detect.html), [Python](https://mmlspark.blob.core.windows.net/docs/1.0.0-rc3-148-87ec5f74-SNAPSHOT/pyspark/mmlspark.cognitive.html#module-mmlspark.cognitive.Detect))\n",
    "- BreakSentence: Identifies the positioning of sentence boundaries in a piece of text. ([Scala](https://mmlspark.blob.core.windows.net/docs/1.0.0-rc3-148-87ec5f74-SNAPSHOT/scala/com/microsoft/ml/spark/cognitive/BreakSentence.html), [Python](https://mmlspark.blob.core.windows.net/docs/1.0.0-rc3-148-87ec5f74-SNAPSHOT/pyspark/mmlspark.cognitive.html#module-mmlspark.cognitive.BreakSentence))\n",
    "- Dictionary Lookup: Provides alternative translations for a word and a small number of idiomatic phrases. ([Scala](https://mmlspark.blob.core.windows.net/docs/1.0.0-rc3-148-87ec5f74-SNAPSHOT/scala/com/microsoft/ml/spark/cognitive/DictionaryLookup.html), [Python](https://mmlspark.blob.core.windows.net/docs/1.0.0-rc3-148-87ec5f74-SNAPSHOT/pyspark/mmlspark.cognitive.html#module-mmlspark.cognitive.DictionaryLookup))\n",
    "- Dictionary Examples: Provides examples that show how terms in the dictionary are used in context. ([Scala](https://mmlspark.blob.core.windows.net/docs/1.0.0-rc3-148-87ec5f74-SNAPSHOT/scala/com/microsoft/ml/spark/cognitive/DictionaryExamples.html), [Python](https://mmlspark.blob.core.windows.net/docs/1.0.0-rc3-148-87ec5f74-SNAPSHOT/pyspark/mmlspark.cognitive.html#module-mmlspark.cognitive.DictionaryExamples))\n",
    "- Document Translation: Translates documents across all supported languages and dialects while preserving document structure and data format. ([Scala](https://mmlspark.blob.core.windows.net/docs/1.0.0-rc3-148-87ec5f74-SNAPSHOT/scala/com/microsoft/ml/spark/cognitive/DocumentTranslator.html), [Python](https://mmlspark.blob.core.windows.net/docs/1.0.0-rc3-148-87ec5f74-SNAPSHOT/pyspark/mmlspark.cognitive.html#module-mmlspark.cognitive.DocumentTranslator))\n",
    "\n",
    "### Azure Form Recognizer\n",
    "[**Form Recognizer**](https://azure.microsoft.com/en-us/services/form-recognizer/)\n",
    "- Analyze Layout: Extract text and layout information from a given document. ([Scala](https://mmlspark.blob.core.windows.net/docs/1.0.0-rc3-148-87ec5f74-SNAPSHOT/scala/com/microsoft/ml/spark/cognitive/AnalyzeLayout.html), [Python](https://mmlspark.blob.core.windows.net/docs/1.0.0-rc3-148-87ec5f74-SNAPSHOT/pyspark/mmlspark.cognitive.html#module-mmlspark.cognitive.AnalyzeLayout))\n",
    "- Analyze Receipts: Detects and extracts data from receipts using optical character recognition (OCR) and our receipt model, enabling you to easily extract structured data from receipts such as merchant name, merchant phone number, transaction date, transaction total, and more. ([Scala](https://mmlspark.blob.core.windows.net/docs/1.0.0-rc3-148-87ec5f74-SNAPSHOT/scala/com/microsoft/ml/spark/cognitive/AnalyzeReceipts.html), [Python](https://mmlspark.blob.core.windows.net/docs/1.0.0-rc3-148-87ec5f74-SNAPSHOT/pyspark/mmlspark.cognitive.html#module-mmlspark.cognitive.AnalyzeReceipts))\n",
    "- Analyze Business Cards: Detects and extracts data from business cards using optical character recognition (OCR) and our business card model, enabling you to easily extract structured data from business cards such as contact names, company names, phone numbers, emails, and more. ([Scala](https://mmlspark.blob.core.windows.net/docs/1.0.0-rc3-148-87ec5f74-SNAPSHOT/scala/com/microsoft/ml/spark/cognitive/AnalyzeBusinessCards.html), [Python](https://mmlspark.blob.core.windows.net/docs/1.0.0-rc3-148-87ec5f74-SNAPSHOT/pyspark/mmlspark.cognitive.html#module-mmlspark.cognitive.AnalyzeBusinessCards))\n",
    "- Analyze Invoices: Detects and extracts data from invoices using optical character recognition (OCR) and our invoice understanding deep learning models, enabling you to easily extract structured data from invoices such as customer, vendor, invoice ID, invoice due date, total, invoice amount due, tax amount, ship to, bill to, line items and more. ([Scala](https://mmlspark.blob.core.windows.net/docs/1.0.0-rc3-148-87ec5f74-SNAPSHOT/scala/com/microsoft/ml/spark/cognitive/AnalyzeInvoices.html), [Python](https://mmlspark.blob.core.windows.net/docs/1.0.0-rc3-148-87ec5f74-SNAPSHOT/pyspark/mmlspark.cognitive.html#module-mmlspark.cognitive.AnalyzeInvoices))\n",
    "- Analyze ID Documents: Detects and extracts data from identification documents using optical character recognition (OCR) and our ID document model, enabling you to easily extract structured data from ID documents such as first name, last name, date of birth, document number, and more. ([Scala](https://mmlspark.blob.core.windows.net/docs/1.0.0-rc3-148-87ec5f74-SNAPSHOT/scala/com/microsoft/ml/spark/cognitive/AnalyzeIDDocuments.html), [Python](https://mmlspark.blob.core.windows.net/docs/1.0.0-rc3-148-87ec5f74-SNAPSHOT/pyspark/mmlspark.cognitive.html#module-mmlspark.cognitive.AnalyzeIDDocuments))\n",
    "- Analyze Custom Form: Extracts information from forms (PDFs and images) into structured data based on a model created from a set of representative training forms. ([Scala](https://mmlspark.blob.core.windows.net/docs/1.0.0-rc3-148-87ec5f74-SNAPSHOT/scala/com/microsoft/ml/spark/cognitive/AnalyzeCustomModel.html), [Python](https://mmlspark.blob.core.windows.net/docs/1.0.0-rc3-148-87ec5f74-SNAPSHOT/pyspark/mmlspark.cognitive.html#module-mmlspark.cognitive.AnalyzeCustomModel))\n",
    "- Get Custom Model: Get detailed information about a custom model. ([Scala](https://mmlspark.blob.core.windows.net/docs/1.0.0-rc3-148-87ec5f74-SNAPSHOT/scala/com/microsoft/ml/spark/cognitive/GetCustomModel.html), [Python](https://mmlspark.blob.core.windows.net/docs/1.0.0-rc3-148-87ec5f74-SNAPSHOT/scala/com/microsoft/ml/spark/cognitive/ListCustomModels.html))\n",
    "- List Custom Models: Get information about all custom models. ([Scala](https://mmlspark.blob.core.windows.net/docs/1.0.0-rc3-148-87ec5f74-SNAPSHOT/scala/com/microsoft/ml/spark/cognitive/ListCustomModels.html), [Python](https://mmlspark.blob.core.windows.net/docs/1.0.0-rc3-148-87ec5f74-SNAPSHOT/pyspark/mmlspark.cognitive.html#module-mmlspark.cognitive.ListCustomModels))\n",
    "\n",
    "### Decision\n",
    "[**Anomaly Detector**](https://azure.microsoft.com/en-us/services/cognitive-services/anomaly-detector/)\n",
    "- Anomaly status of latest point: generates a model using preceding points and determines whether the latest point is anomalous ([Scala](https://mmlspark.blob.core.windows.net/docs/1.0.0-rc3-148-87ec5f74-SNAPSHOT/scala/com/microsoft/ml/spark/cognitive/DetectLastAnomaly.html), [Python](https://mmlspark.blob.core.windows.net/docs/1.0.0-rc3-148-87ec5f74-SNAPSHOT/pyspark/mmlspark.cognitive.html#module-mmlspark.cognitive.DetectLastAnomaly))\n",
    "- Find anomalies: generates a model using an entire series and finds anomalies in the series ([Scala](https://mmlspark.blob.core.windows.net/docs/1.0.0-rc3-148-87ec5f74-SNAPSHOT/scala/com/microsoft/ml/spark/cognitive/DetectAnomalies.html), [Python](https://mmlspark.blob.core.windows.net/docs/1.0.0-rc3-148-87ec5f74-SNAPSHOT/pyspark/mmlspark.cognitive.html#module-mmlspark.cognitive.DetectAnomalies))\n",
    "\n",
    "### Search\n",
    "- [Bing Image search](https://azure.microsoft.com/en-us/services/cognitive-services/bing-image-search-api/) ([Scala](https://mmlspark.blob.core.windows.net/docs/1.0.0-rc3/scala/com/microsoft/ml/spark/cognitive/BingImageSearch.html), [Python](https://mmlspark.blob.core.windows.net/docs/1.0.0-rc3/pyspark/mmlspark.cognitive.html#module-mmlspark.cognitive.BingImageSearch))\n",
    "- [Azure Cognitive search](https://docs.microsoft.com/en-us/azure/search/search-what-is-azure-search) ([Scala](https://mmlspark.blob.core.windows.net/docs/1.0.0-rc3/scala/index.html#com.microsoft.ml.spark.cognitive.AzureSearchWriter$), [Python](https://mmlspark.blob.core.windows.net/docs/1.0.0-rc3/scala/index.html#com.microsoft.ml.spark.cognitive.AzureSearchWriter$))\n"
   ],
   "metadata": {}
  },
  {
   "cell_type": "markdown",
   "source": [
    "## Prerequisites\n",
    "\n",
    "1. Follow the steps in [Getting started](https://docs.microsoft.com/en-us/azure/cognitive-services/big-data/getting-started) to set up your Azure Databricks and Cognitive Services environment. This tutorial shows you how to install MMLSpark and how to create your Spark cluster in Databricks.\n",
    "1. After you create a new notebook in Azure Databricks, copy the **Shared code** below and paste into a new cell in your notebook.\n",
    "1. Choose a service sample, below, and copy paste it into a second new cell in your notebook.\n",
    "1. Replace any of the service subscription key placeholders with your own key.\n",
    "1. Choose the run button (triangle icon) in the upper right corner of the cell, then select **Run Cell**.\n",
    "1. View results in a table below the cell."
   ],
   "metadata": {}
  },
  {
   "cell_type": "markdown",
   "source": [
    "## Shared code\n",
    "\n",
    "To get started, we'll need to add this code to the project:"
   ],
   "metadata": {}
  },
  {
   "cell_type": "code",
   "execution_count": null,
   "source": [
    "from pyspark.sql.functions import udf, col\r\n",
    "from mmlspark.io.http import HTTPTransformer, http_udf\r\n",
    "from requests import Request\r\n",
    "from pyspark.sql.functions import lit\r\n",
    "from pyspark.ml import PipelineModel\r\n",
    "from pyspark.sql.functions import col\r\n",
    "import os\r\n"
   ],
   "outputs": [],
   "metadata": {}
  },
  {
   "cell_type": "code",
   "execution_count": null,
   "source": [
    "if os.environ.get(\"AZURE_SERVICE\", None) == \"Microsoft.ProjectArcadia\":\r\n",
    "    from pyspark.sql import SparkSession\r\n",
    "    spark = SparkSession.builder.getOrCreate()\r\n",
    "    from notebookutils.mssparkutils.credentials import getSecret\r\n",
    "    os.environ['ANOMALY_API_KEY'] = getSecret(\r\n",
    "        \"mmlspark-keys\", \"anomaly-api-key\")\r\n",
    "    os.environ['TEXT_API_KEY'] = getSecret(\"mmlspark-keys\", \"mmlspark-cs-key\")\r\n",
    "    os.environ['BING_IMAGE_SEARCH_KEY'] = getSecret(\r\n",
    "        \"mmlspark-keys\", \"mmlspark-bing-search-key\")\r\n",
    "    os.environ['VISION_API_KEY'] = getSecret(\r\n",
    "        \"mmlspark-keys\", \"mmlspark-cs-key\")\r\n",
    "    os.environ['AZURE_SEARCH_KEY'] = getSecret(\r\n",
    "        \"mmlspark-keys\", \"azure-search-key\")"
   ],
   "outputs": [],
   "metadata": {}
  },
  {
   "cell_type": "code",
   "execution_count": null,
   "source": [
    "from mmlspark.cognitive import *\r\n",
    "\r\n",
    "# A general Cognitive Services key for Text Analytics, Computer Vision and Form Recognizer (or use separate keys that belong to each service)\r\n",
    "service_key = os.environ[\"COGNITIVE_SERVICE_KEY\"]\r\n",
    "# A Bing Search v7 subscription key\r\n",
    "bing_search_key = os.environ[\"BING_IMAGE_SEARCH_KEY\"]\r\n",
    "# An Anomaly Dectector subscription key\r\n",
    "anomaly_key = os.environ[\"ANOMALY_API_KEY\"]\r\n",
    "# A Translator subscription key\r\n",
    "translator_key = os.environ[\"TRANSLATOR_KEY\"]"
   ],
   "outputs": [],
   "metadata": {}
  },
  {
   "cell_type": "markdown",
   "source": [
    "## Text Analytics sample\n",
    "\n",
    "The [Text Analytics](../text-analytics/index.yml) service provides several algorithms for extracting intelligent insights from text. For example, we can find the sentiment of given input text. The service will return a score between 0.0 and 1.0 where low scores indicate negative sentiment and high score indicates positive sentiment.  This sample uses three simple sentences and returns the sentiment for each."
   ],
   "metadata": {}
  },
  {
   "cell_type": "code",
   "execution_count": null,
   "source": [
    "# Create a dataframe that's tied to it's column names\r\n",
    "df = spark.createDataFrame([\r\n",
    "    (\"I am so happy today, its sunny!\", \"en-US\"),\r\n",
    "    (\"I am frustrated by this rush hour traffic\", \"en-US\"),\r\n",
    "    (\"The cognitive services on spark aint bad\", \"en-US\"),\r\n",
    "], [\"text\", \"language\"])\r\n",
    "\r\n",
    "# Run the Text Analytics service with options\r\n",
    "sentiment = (TextSentiment()\r\n",
    "             .setTextCol(\"text\")\r\n",
    "             .setLocation(\"eastus\")\r\n",
    "             .setSubscriptionKey(service_key)\r\n",
    "             .setOutputCol(\"sentiment\")\r\n",
    "             .setErrorCol(\"error\")\r\n",
    "             .setLanguageCol(\"language\"))\r\n",
    "\r\n",
    "# Show the results of your text query in a table format\r\n",
    "display(sentiment.transform(df).select(\"text\", col(\r\n",
    "    \"sentiment\")[0].getItem(\"sentiment\").alias(\"sentiment\")))"
   ],
   "outputs": [],
   "metadata": {}
  },
  {
   "cell_type": "markdown",
   "source": [
    "## Translator sample\n",
    "[Translator](../translator/index.yml) is a cloud-based machine translation service and is part of the Azure Cognitive Services family of cognitive APIs used to build intelligent apps. Translator is easy to integrate in your applications, websites, tools, and solutions. It allows you to add multi-language user experiences in 90 languages and dialects and can be used for text translation with any operating system. In this sample, we do a simple text translation by providing the sentences you want to translate and target languages you want to translate to."
   ],
   "metadata": {}
  },
  {
   "cell_type": "code",
   "execution_count": null,
   "source": [
    "from pyspark.sql.functions import col, flatten\r\n",
    "\r\n",
    "# Create a dataframe including sentences you want to translate\r\n",
    "df = spark.createDataFrame([\r\n",
    "  ([\"Hello, what is your name?\", \"Bye\"],)\r\n",
    "], [\"text\",])\r\n",
    "\r\n",
    "# Run the Translator service with options\r\n",
    "translate = (Translate()\r\n",
    "    .setSubscriptionKey(translator_key)\r\n",
    "    .setLocation(\"eastus\")\r\n",
    "    .setTextCol(\"text\")\r\n",
    "    .setToLanguage([\"zh-Hans\"])\r\n",
    "    .setOutputCol(\"translation\"))\r\n",
    "\r\n",
    "# Show the results of the translation.\r\n",
    "display(translate\r\n",
    "      .transform(df)\r\n",
    "      .withColumn(\"translation\", flatten(col(\"translation.translations\")))\r\n",
    "      .withColumn(\"translation\", col(\"translation.text\"))\r\n",
    "      .select(\"translation\"))"
   ],
   "outputs": [],
   "metadata": {}
  },
  {
   "cell_type": "markdown",
   "source": [
    "## Form Recognizer sample\n",
    "[Form Recognizer](../form-recognizer/index.yml) is a part of Azure Applied AI Services that lets you build automated data processing software using machine learning technology. Identify and extract text, key/value pairs, selection marks, tables, and structure from your documents—the service outputs structured data that includes the relationships in the original file, bounding boxes, confidence and more. In this sample, we analyze a business card image and extract its information into structured data."
   ],
   "metadata": {}
  },
  {
   "cell_type": "code",
   "execution_count": null,
   "source": [
    "from pyspark.sql.functions import col, explode\r\n",
    "\r\n",
    "# Create a dataframe containing the source files\r\n",
    "imageDf = spark.createDataFrame([\r\n",
    "  (\"https://mmlspark.blob.core.windows.net/datasets/FormRecognizer/business_card.jpg\",)\r\n",
    "], [\"source\",])\r\n",
    "\r\n",
    "# Run the Form Recognizer service\r\n",
    "analyzeBusinessCards = (AnalyzeBusinessCards()\r\n",
    "                 .setSubscriptionKey(service_key)\r\n",
    "                 .setLocation(\"eastus\")\r\n",
    "                 .setImageUrlCol(\"source\")\r\n",
    "                 .setOutputCol(\"businessCards\"))\r\n",
    "\r\n",
    "# Show the results of recognition.\r\n",
    "display(analyzeBusinessCards\r\n",
    "        .transform(imageDf)\r\n",
    "        .withColumn(\"documents\", explode(col(\"businessCards.analyzeResult.documentResults.fields\")))\r\n",
    "        .select(\"source\", \"documents\"))"
   ],
   "outputs": [],
   "metadata": {}
  },
  {
   "cell_type": "markdown",
   "source": [
    "## Computer Vision sample\n",
    "\n",
    "[Computer Vision](../computer-vision/index.yml) analyzes images to identify structure such as faces, objects, and natural-language descriptions. In this sample, we tag a list of images. Tags are one-word descriptions of things in the image like recognizable objects, people, scenery, and actions."
   ],
   "metadata": {}
  },
  {
   "cell_type": "code",
   "execution_count": null,
   "source": [
    "# Create a dataframe with the image URLs\r\n",
    "df = spark.createDataFrame([\r\n",
    "    (\"https://raw.githubusercontent.com/Azure-Samples/cognitive-services-sample-data-files/master/ComputerVision/Images/objects.jpg\", ),\r\n",
    "    (\"https://raw.githubusercontent.com/Azure-Samples/cognitive-services-sample-data-files/master/ComputerVision/Images/dog.jpg\", ),\r\n",
    "    (\"https://raw.githubusercontent.com/Azure-Samples/cognitive-services-sample-data-files/master/ComputerVision/Images/house.jpg\", )\r\n",
    "], [\"image\", ])\r\n",
    "\r\n",
    "# Run the Computer Vision service. Analyze Image extracts infortmation from/about the images.\r\n",
    "analysis = (AnalyzeImage()\r\n",
    "            .setLocation(\"eastus\")\r\n",
    "            .setSubscriptionKey(service_key)\r\n",
    "            .setVisualFeatures([\"Categories\", \"Color\", \"Description\", \"Faces\", \"Objects\", \"Tags\"])\r\n",
    "            .setOutputCol(\"analysis_results\")\r\n",
    "            .setImageUrlCol(\"image\")\r\n",
    "            .setErrorCol(\"error\"))\r\n",
    "\r\n",
    "# Show the results of what you wanted to pull out of the images.\r\n",
    "display(analysis.transform(df).select(\r\n",
    "    \"image\", \"analysis_results.description.tags\"))\r\n"
   ],
   "outputs": [],
   "metadata": {}
  },
  {
   "cell_type": "markdown",
   "source": [
    "## Bing Image Search sample\n",
    "\n",
    "[Bing Image Search](../bing-image-search/overview.md) searches the web to retrieve images related to a user's natural language query. In this sample, we use a text query that looks for images with quotes. It returns a list of image URLs that contain photos related to our query."
   ],
   "metadata": {}
  },
  {
   "cell_type": "code",
   "execution_count": null,
   "source": [
    "# Number of images Bing will return per query\r\n",
    "imgsPerBatch = 10\r\n",
    "# A list of offsets, used to page into the search results\r\n",
    "offsets = [(i*imgsPerBatch,) for i in range(100)]\r\n",
    "# Since web content is our data, we create a dataframe with options on that data: offsets\r\n",
    "bingParameters = spark.createDataFrame(offsets, [\"offset\"])\r\n",
    "\r\n",
    "# Run the Bing Image Search service with our text query\r\n",
    "bingSearch = (BingImageSearch()\r\n",
    "              .setSubscriptionKey(bing_search_key)\r\n",
    "              .setOffsetCol(\"offset\")\r\n",
    "              .setQuery(\"Martin Luther King Jr. quotes\")\r\n",
    "              .setCount(imgsPerBatch)\r\n",
    "              .setOutputCol(\"images\"))\r\n",
    "\r\n",
    "# Transformer that extracts and flattens the richly structured output of Bing Image Search into a simple URL column\r\n",
    "getUrls = BingImageSearch.getUrlTransformer(\"images\", \"url\")\r\n",
    "\r\n",
    "# This displays the full results returned, uncomment to use\r\n",
    "# display(bingSearch.transform(bingParameters))\r\n",
    "\r\n",
    "# Since we have two services, they are put into a pipeline\r\n",
    "pipeline = PipelineModel(stages=[bingSearch, getUrls])\r\n",
    "\r\n",
    "# Show the results of your search: image URLs\r\n",
    "display(pipeline.transform(bingParameters))\r\n"
   ],
   "outputs": [],
   "metadata": {}
  },
  {
   "cell_type": "markdown",
   "source": [
    "## Speech-to-Text sample\n",
    "The [Speech-to-text](../speech-service/index-speech-to-text.yml) service converts streams or files of spoken audio to text. In this sample, we transcribe one audio file."
   ],
   "metadata": {}
  },
  {
   "cell_type": "code",
   "execution_count": null,
   "source": [
    "# Create a dataframe with our audio URLs, tied to the column called \"url\"\r\n",
    "df = spark.createDataFrame([(\"https://mmlspark.blob.core.windows.net/datasets/Speech/audio2.wav\",)\r\n",
    "                            ], [\"url\"])\r\n",
    "\r\n",
    "# Run the Speech-to-text service to translate the audio into text\r\n",
    "speech_to_text = (SpeechToTextSDK()\r\n",
    "                  .setSubscriptionKey(service_key)\r\n",
    "                  .setLocation(\"eastus\")\r\n",
    "                  .setOutputCol(\"text\")\r\n",
    "                  .setAudioDataCol(\"url\")\r\n",
    "                  .setLanguage(\"en-US\")\r\n",
    "                  .setProfanity(\"Masked\"))\r\n",
    "\r\n",
    "# Show the results of the translation\r\n",
    "display(speech_to_text.transform(df).select(\"url\", \"text.DisplayText\"))\r\n"
   ],
   "outputs": [],
   "metadata": {}
  },
  {
   "cell_type": "markdown",
   "source": [
    "## Anomaly Detector sample\n",
    "\n",
    "[Anomaly Detector](../anomaly-detector/index.yml) is great for detecting irregularities in your time series data. In this sample, we use the service to find anomalies in the entire time series."
   ],
   "metadata": {}
  },
  {
   "cell_type": "code",
   "execution_count": null,
   "source": [
    "# Create a dataframe with the point data that Anomaly Detector requires\r\n",
    "df = spark.createDataFrame([\r\n",
    "    (\"1972-01-01T00:00:00Z\", 826.0),\r\n",
    "    (\"1972-02-01T00:00:00Z\", 799.0),\r\n",
    "    (\"1972-03-01T00:00:00Z\", 890.0),\r\n",
    "    (\"1972-04-01T00:00:00Z\", 900.0),\r\n",
    "    (\"1972-05-01T00:00:00Z\", 766.0),\r\n",
    "    (\"1972-06-01T00:00:00Z\", 805.0),\r\n",
    "    (\"1972-07-01T00:00:00Z\", 821.0),\r\n",
    "    (\"1972-08-01T00:00:00Z\", 20000.0),\r\n",
    "    (\"1972-09-01T00:00:00Z\", 883.0),\r\n",
    "    (\"1972-10-01T00:00:00Z\", 898.0),\r\n",
    "    (\"1972-11-01T00:00:00Z\", 957.0),\r\n",
    "    (\"1972-12-01T00:00:00Z\", 924.0),\r\n",
    "    (\"1973-01-01T00:00:00Z\", 881.0),\r\n",
    "    (\"1973-02-01T00:00:00Z\", 837.0),\r\n",
    "    (\"1973-03-01T00:00:00Z\", 9000.0)\r\n",
    "], [\"timestamp\", \"value\"]).withColumn(\"group\", lit(\"series1\"))\r\n",
    "\r\n",
    "# Run the Anomaly Detector service to look for irregular data\r\n",
    "anamoly_detector = (SimpleDetectAnomalies()\r\n",
    "                    .setSubscriptionKey(anomaly_key)\r\n",
    "                    .setLocation(\"eastus\")\r\n",
    "                    .setTimestampCol(\"timestamp\")\r\n",
    "                    .setValueCol(\"value\")\r\n",
    "                    .setOutputCol(\"anomalies\")\r\n",
    "                    .setGroupbyCol(\"group\")\r\n",
    "                    .setGranularity(\"monthly\"))\r\n",
    "\r\n",
    "# Show the full results of the analysis with the anomalies marked as \"True\"\r\n",
    "display(anamoly_detector.transform(df).select(\r\n",
    "    \"timestamp\", \"value\", \"anomalies.isAnomaly\"))"
   ],
   "outputs": [],
   "metadata": {}
  },
  {
   "cell_type": "markdown",
   "source": [
    "## Arbitrary web APIs\n",
    "\n",
    "With HTTP on Spark, any web service can be used in your big data pipeline. In this example, we use the [World Bank API](http://api.worldbank.org/v2/country/) to get information about various countries around the world."
   ],
   "metadata": {}
  },
  {
   "cell_type": "code",
   "execution_count": null,
   "source": [
    "# Use any requests from the python requests library\r\n",
    "\r\n",
    "def world_bank_request(country):\r\n",
    "    return Request(\"GET\", \"http://api.worldbank.org/v2/country/{}?format=json\".format(country))\r\n",
    "\r\n",
    "\r\n",
    "# Create a dataframe with spcificies which countries we want data on\r\n",
    "df = (spark.createDataFrame([(\"br\",), (\"usa\",)], [\"country\"])\r\n",
    "      .withColumn(\"request\", http_udf(world_bank_request)(col(\"country\"))))\r\n",
    "\r\n",
    "# Much faster for big data because of the concurrency :)\r\n",
    "client = (HTTPTransformer()\r\n",
    "          .setConcurrency(3)\r\n",
    "          .setInputCol(\"request\")\r\n",
    "          .setOutputCol(\"response\"))\r\n",
    "\r\n",
    "# Get the body of the response\r\n",
    "\r\n",
    "\r\n",
    "def get_response_body(resp):\r\n",
    "    return resp.entity.content.decode()\r\n",
    "\r\n",
    "\r\n",
    "# Show the details of the country data returned\r\n",
    "display(client.transform(df)\r\n",
    "        .select(\"country\", udf(get_response_body)(col(\"response\"))\r\n",
    "        .alias(\"response\")))\r\n"
   ],
   "outputs": [],
   "metadata": {}
  },
  {
   "cell_type": "markdown",
   "source": [
    "## Azure Cognitive search sample\n",
    "\n",
    "In this example, we show how you can enrich data using Cognitive Skills and write to an Azure Search Index using MMLSpark."
   ],
   "metadata": {}
  },
  {
   "cell_type": "code",
   "execution_count": null,
   "source": [
    "VISION_API_KEY = os.environ['VISION_API_KEY']\r\n",
    "AZURE_SEARCH_KEY = os.environ['AZURE_SEARCH_KEY']\r\n",
    "search_service = \"mmlspark-azure-search\"\r\n",
    "search_index = \"test-33467690\"\r\n",
    "\r\n",
    "df = spark.createDataFrame([(\"upload\", \"0\", \"https://mmlspark.blob.core.windows.net/datasets/DSIR/test1.jpg\"),\r\n",
    "                            (\"upload\", \"1\", \"https://mmlspark.blob.core.windows.net/datasets/DSIR/test2.jpg\")],\r\n",
    "                           [\"searchAction\", \"id\", \"url\"])\r\n",
    "\r\n",
    "tdf = AnalyzeImage()\\\r\n",
    "    .setSubscriptionKey(VISION_API_KEY)\\\r\n",
    "    .setLocation(\"eastus\")\\\r\n",
    "    .setImageUrlCol(\"url\")\\\r\n",
    "    .setOutputCol(\"analyzed\")\\\r\n",
    "    .setErrorCol(\"errors\")\\\r\n",
    "    .setVisualFeatures([\"Categories\", \"Tags\", \"Description\", \"Faces\", \"ImageType\", \"Color\", \"Adult\"])\\\r\n",
    "    .transform(df).select(\"*\", \"analyzed.*\")\\\r\n",
    "    .drop(\"errors\", \"analyzed\")\r\n",
    "\r\n",
    "tdf.writeToAzureSearch(subscriptionKey=AZURE_SEARCH_KEY,\r\n",
    "                       actionCol=\"searchAction\",\r\n",
    "                       serviceName=search_service,\r\n",
    "                       indexName=search_index,\r\n",
    "                       keyCol=\"id\")\r\n"
   ],
   "outputs": [],
   "metadata": {}
  },
  {
   "cell_type": "markdown",
   "source": [
    "## See also\n",
    "\n",
    "* [Recipe: Anomaly Detection](./recipes/anomaly-detection.md)\n",
    "* [Recipe: Art Explorer](./recipes/art-explorer.md)"
   ],
   "metadata": {}
  }
 ]
}