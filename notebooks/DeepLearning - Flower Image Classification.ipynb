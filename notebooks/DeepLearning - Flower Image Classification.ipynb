{
 "cells": [
  {
   "cell_type": "markdown",
   "source": [
    "## Deep Learning - Flower Image Classification"
   ],
   "metadata": {}
  },
  {
   "cell_type": "code",
   "execution_count": null,
   "source": [
    "from pyspark.ml import Transformer, Estimator, Pipeline\r\n",
    "from pyspark.ml.classification import LogisticRegression\r\n",
    "from mmlspark.downloader import ModelDownloader\r\n",
    "import os, sys, time"
   ],
   "outputs": [],
   "metadata": {}
  },
  {
   "cell_type": "code",
   "execution_count": null,
   "source": [
    "model = ModelDownloader(spark, \"dbfs:/models/\").downloadByName(\"ResNet50\")"
   ],
   "outputs": [],
   "metadata": {
    "mml-deploy": "local"
   }
  },
  {
   "cell_type": "code",
   "execution_count": null,
   "source": [
    "# Load the images\r\n",
    "# use flowers_and_labels.parquet on larger cluster in order to get better results\r\n",
    "imagesWithLabels = spark.read.parquet(\"wasbs://publicwasb@mmlspark.blob.core.windows.net/flowers_and_labels2.parquet\") \\\r\n",
    "    .withColumnRenamed(\"bytes\",\"image\").sample(.1)\r\n",
    "\r\n",
    "imagesWithLabels.printSchema()"
   ],
   "outputs": [],
   "metadata": {}
  },
  {
   "cell_type": "markdown",
   "source": [
    "![Smiley face](https://i.imgur.com/p2KgdYL.jpg)"
   ],
   "metadata": {}
  },
  {
   "cell_type": "code",
   "execution_count": null,
   "source": [
    "from mmlspark.opencv import ImageTransformer\r\n",
    "from mmlspark.image import UnrollImage\r\n",
    "from mmlspark.cntk import ImageFeaturizer\r\n",
    "from mmlspark.stages import *\r\n",
    "\r\n",
    "# Make some featurizers\r\n",
    "it = ImageTransformer()\\\r\n",
    "    .setOutputCol(\"scaled\")\\\r\n",
    "    .resize(size=(60, 60))\r\n",
    "\r\n",
    "ur = UnrollImage()\\\r\n",
    "    .setInputCol(\"scaled\")\\\r\n",
    "    .setOutputCol(\"features\")\r\n",
    "    \r\n",
    "dc1 = DropColumns().setCols([\"scaled\", \"image\"])\r\n",
    "\r\n",
    "lr1 = LogisticRegression().setMaxIter(8).setFeaturesCol(\"features\").setLabelCol(\"labels\")\r\n",
    "\r\n",
    "dc2 = DropColumns().setCols([\"features\"])\r\n",
    "\r\n",
    "basicModel = Pipeline(stages=[it, ur, dc1, lr1, dc2])"
   ],
   "outputs": [],
   "metadata": {}
  },
  {
   "cell_type": "code",
   "execution_count": null,
   "source": [
    "resnet = ImageFeaturizer()\\\n",
    "    .setInputCol(\"image\")\\\n",
    "    .setOutputCol(\"features\")\\\n",
    "    .setModelLocation(model.uri)\\\n",
    "    .setLayerNames(model.layerNames)\\\n",
    "    .setCutOutputLayers(1)\n",
    "    \n",
    "dc3 = DropColumns().setCols([\"image\"])\n",
    "    \n",
    "lr2 = LogisticRegression().setMaxIter(8).setFeaturesCol(\"features\").setLabelCol(\"labels\")\n",
    "\n",
    "dc4 = DropColumns().setCols([\"features\"])\n",
    "\n",
    "deepModel = Pipeline(stages=[resnet, dc3, lr2, dc4])    "
   ],
   "outputs": [],
   "metadata": {}
  },
  {
   "cell_type": "markdown",
   "source": [
    "![Resnet 18](https://i.imgur.com/Mb4Dyou.png)"
   ],
   "metadata": {}
  },
  {
   "cell_type": "markdown",
   "source": [
    "### How does it work?\n",
    "\n",
    "![Convolutional network weights](http://i.stack.imgur.com/Hl2H6.png)"
   ],
   "metadata": {}
  },
  {
   "cell_type": "markdown",
   "source": [
    "### Run the experiment"
   ],
   "metadata": {}
  },
  {
   "cell_type": "code",
   "execution_count": null,
   "source": [
    "def timedExperiment(model, train, test):\n",
    "  start = time.time()\n",
    "  result =  model.fit(train).transform(test).toPandas()\n",
    "  print(\"Experiment took {}s\".format(time.time() - start))\n",
    "  return result"
   ],
   "outputs": [],
   "metadata": {}
  },
  {
   "cell_type": "code",
   "execution_count": null,
   "source": [
    "train, test = imagesWithLabels.randomSplit([.8,.2])\n",
    "train.count(), test.count()"
   ],
   "outputs": [],
   "metadata": {}
  },
  {
   "cell_type": "code",
   "execution_count": null,
   "source": [
    "basicResults = timedExperiment(basicModel, train, test)"
   ],
   "outputs": [],
   "metadata": {}
  },
  {
   "cell_type": "code",
   "execution_count": null,
   "source": [
    "deepResults = timedExperiment(deepModel, train, test)"
   ],
   "outputs": [],
   "metadata": {}
  },
  {
   "cell_type": "markdown",
   "source": [
    "### Plot confusion matrix."
   ],
   "metadata": {}
  },
  {
   "cell_type": "code",
   "execution_count": null,
   "source": [
    "import matplotlib.pyplot as plt\n",
    "from sklearn.metrics import confusion_matrix\n",
    "import numpy as np\n",
    "\n",
    "def evaluate(results, name):\n",
    "    y, y_hat = results[\"labels\"],results[\"prediction\"]\n",
    "    y = [int(l) for l in y]\n",
    "\n",
    "    accuracy = np.mean([1. if pred==true else 0. for (pred,true) in zip(y_hat,y)])\n",
    "    cm = confusion_matrix(y, y_hat)\n",
    "    cm = cm.astype(\"float\") / cm.sum(axis=1)[:, np.newaxis]\n",
    "\n",
    "    plt.text(40, 10,\"$Accuracy$ $=$ ${}\\%$\".format(round(accuracy*100,1)),fontsize=14)\n",
    "    plt.imshow(cm, interpolation=\"nearest\", cmap=plt.cm.Blues)\n",
    "    plt.colorbar()\n",
    "    plt.xlabel(\"$Predicted$ $label$\", fontsize=18)\n",
    "    plt.ylabel(\"$True$ $Label$\", fontsize=18)\n",
    "    plt.title(\"$Normalized$ $CM$ $for$ ${}$\".format(name))\n",
    "\n",
    "plt.figure(figsize=(12,5))\n",
    "plt.subplot(1,2,1)\n",
    "evaluate(deepResults,\"CNTKModel + LR\")\n",
    "plt.subplot(1,2,2)\n",
    "evaluate(basicResults,\"LR\")\n",
    "# Note that on the larger dataset the accuracy will bump up from 44% to >90%\n",
    "display(plt.show())"
   ],
   "outputs": [],
   "metadata": {}
  }
 ],
 "metadata": {
  "anaconda-cloud": {},
  "kernelspec": {
   "display_name": "Python [default]",
   "language": "python",
   "name": "python3"
  },
  "language_info": {
   "codemirror_mode": {
    "name": "ipython",
    "version": 3
   },
   "file_extension": ".py",
   "mimetype": "text/x-python",
   "name": "python",
   "nbconvert_exporter": "python",
   "pygments_lexer": "ipython3",
   "version": "3.6.3"
  }
 },
 "nbformat": 4,
 "nbformat_minor": 2
}