{
  "cells": [
    {
      "cell_type": "markdown",
      "metadata": {},
      "source": [
        "# Scalable Synthetic Difference in Differences"
      ]
    },
    {
      "cell_type": "markdown",
      "metadata": {},
      "source": [
        "This sample notebook aims to show readers how to use SynapseML's `DiffInDiffEstimator`, `SyntheticControlEstimator` and `SyntheticDiffInDiffEstimator` to estimate the causal effect of a treatment on a particular outcome."
      ]
    },
    {
      "cell_type": "markdown",
      "metadata": {},
      "source": [
        "In this sample notebook, we will use the California smoking cessation program example to demonstrate usage of the SyntheticDiffInDiff Estimator. The goal of the analysis is to estimate the effect of increased cigarette taxes on smoking in California."
      ]
    },
    {
      "cell_type": "code",
      "execution_count": null,
      "metadata": {
        "jupyter": {
          "outputs_hidden": false,
          "source_hidden": false
        },
        "nteract": {
          "transient": {
            "deleting": false
          }
        }
      },
      "outputs": [],
      "source": [
        "from pyspark.sql.types import *\n",
        "from synapse.ml.causal import (\n",
        "    DiffInDiffEstimator,\n",
        "    SyntheticControlEstimator,\n",
        "    SyntheticDiffInDiffEstimator,\n",
        ")\n",
        "from matplotlib import pyplot as plt\n",
        "from matplotlib import style\n",
        "import pandas as pd\n",
        "import numpy as np\n",
        "\n",
        "spark.sparkContext.setLogLevel(\"INFO\")\n",
        "style.use(\"ggplot\")"
      ]
    },
    {
      "cell_type": "markdown",
      "metadata": {},
      "source": [
        "We will select 5 columns from the dataset: state, year, cigsale, california, after_treatment."
      ]
    },
    {
      "cell_type": "code",
      "execution_count": null,
      "metadata": {
        "collapsed": false,
        "jupyter": {
          "outputs_hidden": false,
          "source_hidden": false
        },
        "nteract": {
          "transient": {
            "deleting": false
          }
        }
      },
      "outputs": [],
      "source": [
        "df = (\n",
        "    spark.read.option(\"header\", True)\n",
        "    .option(\"inferSchema\", True)\n",
        "    .csv(\"wasbs://publicwasb@mmlspark.blob.core.windows.net/smoking.csv\")\n",
        "    .select(\"state\", \"year\", \"cigsale\", \"california\", \"after_treatment\")\n",
        ")\n",
        "display(df)"
      ]
    },
    {
      "cell_type": "markdown",
      "metadata": {},
      "source": [
        "First, we use the `DiffInDiffEstimator` to estimate the causal effect with regular difference in differences method. We set the treatment indicator column to \"california\", set post-treatment indicator column to \"after_treatment\", and set the outcome column to \"cigsale\"."
      ]
    },
    {
      "cell_type": "code",
      "execution_count": null,
      "metadata": {
        "jupyter": {
          "outputs_hidden": false,
          "source_hidden": false
        },
        "nteract": {
          "transient": {
            "deleting": false
          }
        }
      },
      "outputs": [],
      "source": [
        "estimator1 = DiffInDiffEstimator(\n",
        "    treatmentCol=\"california\", postTreatmentCol=\"after_treatment\", outcomeCol=\"cigsale\"\n",
        ")\n",
        "\n",
        "model1 = estimator1.fit(df)\n",
        "\n",
        "print(\"[Diff in Diff] treatment effect: {}\".format(model1.treatmentEffect))\n",
        "print(\"[Diff in Diff] standard error: {}\".format(model1.standardError))"
      ]
    },
    {
      "cell_type": "markdown",
      "metadata": {},
      "source": [
        "The treatment effect estimated by difference in differences should be -27.349."
      ]
    },
    {
      "cell_type": "markdown",
      "metadata": {},
      "source": [
        "Next, we use `SyntheticControlEstimator` to synthesize a control unit and use the synthetic control to estimate the causal effect. To create the synthetic control unit, we need to set the column which indicates the time when each outcome is measured, and the column which indicates the unit for which the outcome is measured."
      ]
    },
    {
      "cell_type": "code",
      "execution_count": null,
      "metadata": {
        "jupyter": {
          "outputs_hidden": false,
          "source_hidden": false
        },
        "nteract": {
          "transient": {
            "deleting": false
          }
        }
      },
      "outputs": [],
      "source": [
        "estimator2 = SyntheticControlEstimator(\n",
        "    timeCol=\"year\",\n",
        "    unitCol=\"state\",\n",
        "    treatmentCol=\"california\",\n",
        "    postTreatmentCol=\"after_treatment\",\n",
        "    outcomeCol=\"cigsale\",\n",
        "    maxIter=5000,\n",
        "    numIterNoChange=50,\n",
        "    tol=1e-4,\n",
        "    stepSize=1.0,\n",
        ")\n",
        "\n",
        "model2 = estimator2.fit(df)\n",
        "\n",
        "print(\"[Synthetic Control] treatment effect: {}\".format(model2.treatmentEffect))\n",
        "print(\"[Synthetic Control] standard error: {}\".format(model2.standardError))"
      ]
    },
    {
      "cell_type": "markdown",
      "metadata": {},
      "source": [
        "The treatment effect estimated by synthetic control should be about -19.354."
      ]
    },
    {
      "cell_type": "markdown",
      "metadata": {},
      "source": [
        "Internally, a constrained least square regression is used to solve the unit weights for the synthetic control, and we can plot the loss history."
      ]
    },
    {
      "cell_type": "code",
      "execution_count": null,
      "metadata": {
        "jupyter": {
          "outputs_hidden": false,
          "source_hidden": false
        },
        "nteract": {
          "transient": {
            "deleting": false
          }
        }
      },
      "outputs": [],
      "source": [
        "lossHistory = pd.Series(np.array(model2.lossHistoryUnitWeights))\n",
        "\n",
        "plt.plot(lossHistory[2000:])\n",
        "plt.title(\"loss history - unit weights\")\n",
        "plt.xlabel(\"Iteration\")\n",
        "plt.ylabel(\"Loss\")\n",
        "plt.show()\n",
        "\n",
        "print(\"Mimimal loss: {}\".format(lossHistory.min()))"
      ]
    },
    {
      "cell_type": "markdown",
      "metadata": {},
      "source": [
        "We can also visualize the synthetic control and compare it with the treated unit."
      ]
    },
    {
      "cell_type": "code",
      "execution_count": null,
      "metadata": {
        "jupyter": {
          "outputs_hidden": false,
          "source_hidden": false
        },
        "nteract": {
          "transient": {
            "deleting": false
          }
        }
      },
      "outputs": [],
      "source": [
        "sc_weights = model2.unitWeights.toPandas().set_index(\"state\")\n",
        "pdf = df.toPandas()\n",
        "sc = (\n",
        "    pdf.query(\"~california\")\n",
        "    .pivot(index=\"year\", columns=\"state\", values=\"cigsale\")\n",
        "    .dot(sc_weights)\n",
        ")\n",
        "plt.plot(sc, label=\"Synthetic Control\")\n",
        "plt.plot(sc.index, pdf.query(\"california\")[\"cigsale\"], label=\"California\", color=\"C1\")\n",
        "\n",
        "plt.title(\"Synthetic Control Estimation\")\n",
        "plt.ylabel(\"Cigarette Sales\")\n",
        "plt.vlines(\n",
        "    x=1988,\n",
        "    ymin=40,\n",
        "    ymax=140,\n",
        "    linestyle=\":\",\n",
        "    lw=2,\n",
        "    label=\"Proposition 99\",\n",
        "    color=\"black\",\n",
        ")\n",
        "plt.legend()"
      ]
    },
    {
      "cell_type": "markdown",
      "metadata": {},
      "source": [
        "Lastly, we use `SyntheticDiffInDiffEstimator` to estimate the causal effect."
      ]
    },
    {
      "cell_type": "code",
      "execution_count": null,
      "metadata": {
        "jupyter": {
          "outputs_hidden": false,
          "source_hidden": false
        },
        "nteract": {
          "transient": {
            "deleting": false
          }
        }
      },
      "outputs": [],
      "source": [
        "estimator3 = SyntheticDiffInDiffEstimator(\n",
        "    timeCol=\"year\",\n",
        "    unitCol=\"state\",\n",
        "    treatmentCol=\"california\",\n",
        "    postTreatmentCol=\"after_treatment\",\n",
        "    outcomeCol=\"cigsale\",\n",
        "    maxIter=5000,\n",
        "    numIterNoChange=50,\n",
        "    tol=1e-4,\n",
        "    stepSize=1.0,\n",
        ")\n",
        "\n",
        "model3 = estimator3.fit(df)\n",
        "\n",
        "print(\"[Synthetic Diff in Diff] treatment effect: {}\".format(model3.treatmentEffect))\n",
        "print(\"[Synthetic Diff in Diff] standard error: {}\".format(model3.standardError))"
      ]
    },
    {
      "cell_type": "markdown",
      "metadata": {},
      "source": [
        "The treatment effect estimated by synthetic control should be about -15.554."
      ]
    },
    {
      "cell_type": "markdown",
      "metadata": {},
      "source": [
        "Again, we can plot the loss history from the optimizer used to solve the unit weights and the time weights."
      ]
    },
    {
      "cell_type": "code",
      "execution_count": null,
      "metadata": {
        "jupyter": {
          "outputs_hidden": false,
          "source_hidden": false
        },
        "nteract": {
          "transient": {
            "deleting": false
          }
        }
      },
      "outputs": [],
      "source": [
        "lossHistory = pd.Series(np.array(model3.lossHistoryUnitWeights))\n",
        "\n",
        "plt.plot(lossHistory[1000:])\n",
        "plt.title(\"loss history - unit weights\")\n",
        "plt.xlabel(\"Iteration\")\n",
        "plt.ylabel(\"Loss\")\n",
        "plt.show()\n",
        "\n",
        "print(\"Mimimal loss: {}\".format(lossHistory.min()))"
      ]
    },
    {
      "cell_type": "code",
      "execution_count": null,
      "metadata": {
        "jupyter": {
          "outputs_hidden": false,
          "source_hidden": false
        },
        "nteract": {
          "transient": {
            "deleting": false
          }
        }
      },
      "outputs": [],
      "source": [
        "lossHistory = pd.Series(np.array(model3.lossHistoryTimeWeights))\n",
        "\n",
        "plt.plot(lossHistory[1000:])\n",
        "plt.title(\"loss history - time weights\")\n",
        "plt.xlabel(\"Iteration\")\n",
        "plt.ylabel(\"Loss\")\n",
        "plt.show()\n",
        "\n",
        "print(\"Mimimal loss: {}\".format(lossHistory.min()))"
      ]
    },
    {
      "cell_type": "markdown",
      "metadata": {},
      "source": [
        "Here we plot the synthetic diff in diff estimate together with the time weights."
      ]
    },
    {
      "cell_type": "code",
      "execution_count": null,
      "metadata": {
        "jupyter": {
          "outputs_hidden": false,
          "source_hidden": false
        },
        "nteract": {
          "transient": {
            "deleting": false
          }
        }
      },
      "outputs": [],
      "source": [
        "unit_weights = model3.unitWeights.toPandas().set_index(\"state\")\n",
        "unit_intercept = model3.unitIntercept\n",
        "\n",
        "time_weights = model3.timeWeights.toPandas().set_index(\"year\")\n",
        "time_intercept = model3.timeIntercept\n",
        "\n",
        "pdf = df.toPandas()\n",
        "pivot_df_control = pdf.query(\"~california\").pivot(\n",
        "    index=\"year\", columns=\"state\", values=\"cigsale\"\n",
        ")\n",
        "pivot_df_treat = pdf.query(\"california\").pivot(\n",
        "    index=\"year\", columns=\"state\", values=\"cigsale\"\n",
        ")\n",
        "sc_did = pivot_df_control.values @ unit_weights.values\n",
        "treated_mean = pivot_df_treat.mean(axis=1)"
      ]
    },
    {
      "cell_type": "code",
      "execution_count": null,
      "metadata": {
        "jupyter": {
          "outputs_hidden": false,
          "source_hidden": false
        },
        "nteract": {
          "transient": {
            "deleting": false
          }
        }
      },
      "outputs": [],
      "source": [
        "fig, (ax1, ax2) = plt.subplots(\n",
        "    2, 1, figsize=(15, 8), sharex=True, gridspec_kw={\"height_ratios\": [3, 1]}\n",
        ")\n",
        "fig.suptitle(\"Synthetic Diff in Diff Estimation\")\n",
        "\n",
        "ax1.plot(\n",
        "    pivot_df_control.mean(axis=1), lw=3, color=\"C1\", ls=\"dashed\", label=\"Control Avg.\"\n",
        ")\n",
        "ax1.plot(treated_mean, lw=3, color=\"C0\", label=\"California\")\n",
        "ax1.plot(\n",
        "    pivot_df_control.index,\n",
        "    sc_did,\n",
        "    label=\"Synthetic Control (SDID)\",\n",
        "    color=\"C1\",\n",
        "    alpha=0.8,\n",
        ")\n",
        "ax1.set_ylabel(\"Cigarette Sales\")\n",
        "ax1.vlines(\n",
        "    1989,\n",
        "    treated_mean.min(),\n",
        "    treated_mean.max(),\n",
        "    color=\"black\",\n",
        "    ls=\"dotted\",\n",
        "    label=\"Prop. 99\",\n",
        ")\n",
        "ax1.legend()\n",
        "\n",
        "ax2.bar(time_weights.index, time_weights[\"value\"], color=\"skyblue\")\n",
        "ax2.set_ylabel(\"Time Weights\")\n",
        "ax2.set_xlabel(\"Time\")\n",
        "ax2.vlines(1989, 0, 1, color=\"black\", ls=\"dotted\")"
      ]
    }
  ],
  "metadata": {
    "kernel_info": {
      "name": "synapse_pyspark"
    },
    "kernelspec": {
      "display_name": "Synapse PySpark",
      "language": "Python",
      "name": "synapse_pyspark"
    },
    "language_info": {
      "name": "python"
    },
    "save_output": true,
    "synapse_widget": {
      "state": {
        "7cfbe0f7-9f3c-44c3-828d-922a7bff621e": {
          "persist_state": {
            "view": {
              "chartOptions": {
                "aggregationType": "sum",
                "categoryFieldKeys": [
                  "1"
                ],
                "chartType": "bar",
                "isStacked": false,
                "seriesFieldKeys": [
                  "0"
                ]
              },
              "tableOptions": {},
              "type": "details"
            }
          },
          "sync_state": {
            "isSummary": false,
            "language": "scala",
            "table": {
              "rows": [
                {
                  "0": "1",
                  "1": "1970",
                  "2": "89.8000030517578",
                  "3": "false",
                  "4": "false"
                },
                {
                  "0": "1",
                  "1": "1971",
                  "2": "95.4000015258789",
                  "3": "false",
                  "4": "false"
                },
                {
                  "0": "1",
                  "1": "1972",
                  "2": "101.099998474121",
                  "3": "false",
                  "4": "false"
                },
                {
                  "0": "1",
                  "1": "1973",
                  "2": "102.900001525879",
                  "3": "false",
                  "4": "false"
                },
                {
                  "0": "1",
                  "1": "1974",
                  "2": "108.199996948242",
                  "3": "false",
                  "4": "false"
                },
                {
                  "0": "1",
                  "1": "1975",
                  "2": "111.699996948242",
                  "3": "false",
                  "4": "false"
                },
                {
                  "0": "1",
                  "1": "1976",
                  "2": "116.199996948242",
                  "3": "false",
                  "4": "false"
                },
                {
                  "0": "1",
                  "1": "1977",
                  "2": "117.099998474121",
                  "3": "false",
                  "4": "false"
                },
                {
                  "0": "1",
                  "1": "1978",
                  "2": "123.0",
                  "3": "false",
                  "4": "false"
                },
                {
                  "0": "1",
                  "1": "1979",
                  "2": "121.400001525879",
                  "3": "false",
                  "4": "false"
                },
                {
                  "0": "1",
                  "1": "1980",
                  "2": "123.199996948242",
                  "3": "false",
                  "4": "false"
                },
                {
                  "0": "1",
                  "1": "1981",
                  "2": "119.599998474121",
                  "3": "false",
                  "4": "false"
                },
                {
                  "0": "1",
                  "1": "1982",
                  "2": "119.099998474121",
                  "3": "false",
                  "4": "false"
                },
                {
                  "0": "1",
                  "1": "1983",
                  "2": "116.300003051758",
                  "3": "false",
                  "4": "false"
                },
                {
                  "0": "1",
                  "1": "1984",
                  "2": "113.0",
                  "3": "false",
                  "4": "false"
                },
                {
                  "0": "1",
                  "1": "1985",
                  "2": "114.5",
                  "3": "false",
                  "4": "false"
                },
                {
                  "0": "1",
                  "1": "1986",
                  "2": "116.300003051758",
                  "3": "false",
                  "4": "false"
                },
                {
                  "0": "1",
                  "1": "1987",
                  "2": "114.0",
                  "3": "false",
                  "4": "false"
                },
                {
                  "0": "1",
                  "1": "1988",
                  "2": "112.099998474121",
                  "3": "false",
                  "4": "false"
                },
                {
                  "0": "1",
                  "1": "1989",
                  "2": "105.599998474121",
                  "3": "false",
                  "4": "true"
                },
                {
                  "0": "1",
                  "1": "1990",
                  "2": "108.599998474121",
                  "3": "false",
                  "4": "true"
                },
                {
                  "0": "1",
                  "1": "1991",
                  "2": "107.900001525879",
                  "3": "false",
                  "4": "true"
                },
                {
                  "0": "1",
                  "1": "1992",
                  "2": "109.099998474121",
                  "3": "false",
                  "4": "true"
                },
                {
                  "0": "1",
                  "1": "1993",
                  "2": "108.5",
                  "3": "false",
                  "4": "true"
                },
                {
                  "0": "1",
                  "1": "1994",
                  "2": "107.099998474121",
                  "3": "false",
                  "4": "true"
                },
                {
                  "0": "1",
                  "1": "1995",
                  "2": "102.599998474121",
                  "3": "false",
                  "4": "true"
                },
                {
                  "0": "1",
                  "1": "1996",
                  "2": "101.400001525879",
                  "3": "false",
                  "4": "true"
                },
                {
                  "0": "1",
                  "1": "1997",
                  "2": "104.900001525879",
                  "3": "false",
                  "4": "true"
                },
                {
                  "0": "1",
                  "1": "1998",
                  "2": "106.199996948242",
                  "3": "false",
                  "4": "true"
                },
                {
                  "0": "1",
                  "1": "1999",
                  "2": "100.699996948242",
                  "3": "false",
                  "4": "true"
                },
                {
                  "0": "1",
                  "1": "2000",
                  "2": "96.1999969482422",
                  "3": "false",
                  "4": "true"
                },
                {
                  "0": "2",
                  "1": "1970",
                  "2": "100.300003051758",
                  "3": "false",
                  "4": "false"
                },
                {
                  "0": "2",
                  "1": "1971",
                  "2": "104.099998474121",
                  "3": "false",
                  "4": "false"
                },
                {
                  "0": "2",
                  "1": "1972",
                  "2": "103.900001525879",
                  "3": "false",
                  "4": "false"
                },
                {
                  "0": "2",
                  "1": "1973",
                  "2": "108.0",
                  "3": "false",
                  "4": "false"
                },
                {
                  "0": "2",
                  "1": "1974",
                  "2": "109.699996948242",
                  "3": "false",
                  "4": "false"
                },
                {
                  "0": "2",
                  "1": "1975",
                  "2": "114.800003051758",
                  "3": "false",
                  "4": "false"
                },
                {
                  "0": "2",
                  "1": "1976",
                  "2": "119.099998474121",
                  "3": "false",
                  "4": "false"
                },
                {
                  "0": "2",
                  "1": "1977",
                  "2": "122.599998474121",
                  "3": "false",
                  "4": "false"
                },
                {
                  "0": "2",
                  "1": "1978",
                  "2": "127.300003051758",
                  "3": "false",
                  "4": "false"
                },
                {
                  "0": "2",
                  "1": "1979",
                  "2": "126.5",
                  "3": "false",
                  "4": "false"
                },
                {
                  "0": "2",
                  "1": "1980",
                  "2": "131.800003051758",
                  "3": "false",
                  "4": "false"
                },
                {
                  "0": "2",
                  "1": "1981",
                  "2": "128.699996948242",
                  "3": "false",
                  "4": "false"
                },
                {
                  "0": "2",
                  "1": "1982",
                  "2": "127.400001525879",
                  "3": "false",
                  "4": "false"
                },
                {
                  "0": "2",
                  "1": "1983",
                  "2": "128.0",
                  "3": "false",
                  "4": "false"
                },
                {
                  "0": "2",
                  "1": "1984",
                  "2": "123.099998474121",
                  "3": "false",
                  "4": "false"
                },
                {
                  "0": "2",
                  "1": "1985",
                  "2": "125.800003051758",
                  "3": "false",
                  "4": "false"
                },
                {
                  "0": "2",
                  "1": "1986",
                  "2": "126.0",
                  "3": "false",
                  "4": "false"
                },
                {
                  "0": "2",
                  "1": "1987",
                  "2": "122.300003051758",
                  "3": "false",
                  "4": "false"
                },
                {
                  "0": "2",
                  "1": "1988",
                  "2": "121.5",
                  "3": "false",
                  "4": "false"
                },
                {
                  "0": "2",
                  "1": "1989",
                  "2": "118.300003051758",
                  "3": "false",
                  "4": "true"
                },
                {
                  "0": "2",
                  "1": "1990",
                  "2": "113.099998474121",
                  "3": "false",
                  "4": "true"
                },
                {
                  "0": "2",
                  "1": "1991",
                  "2": "116.800003051758",
                  "3": "false",
                  "4": "true"
                },
                {
                  "0": "2",
                  "1": "1992",
                  "2": "126.0",
                  "3": "false",
                  "4": "true"
                },
                {
                  "0": "2",
                  "1": "1993",
                  "2": "113.800003051758",
                  "3": "false",
                  "4": "true"
                },
                {
                  "0": "2",
                  "1": "1994",
                  "2": "108.800003051758",
                  "3": "false",
                  "4": "true"
                },
                {
                  "0": "2",
                  "1": "1995",
                  "2": "113.0",
                  "3": "false",
                  "4": "true"
                },
                {
                  "0": "2",
                  "1": "1996",
                  "2": "110.699996948242",
                  "3": "false",
                  "4": "true"
                },
                {
                  "0": "2",
                  "1": "1997",
                  "2": "108.699996948242",
                  "3": "false",
                  "4": "true"
                },
                {
                  "0": "2",
                  "1": "1998",
                  "2": "109.5",
                  "3": "false",
                  "4": "true"
                },
                {
                  "0": "2",
                  "1": "1999",
                  "2": "104.800003051758",
                  "3": "false",
                  "4": "true"
                },
                {
                  "0": "2",
                  "1": "2000",
                  "2": "99.4000015258789",
                  "3": "false",
                  "4": "true"
                },
                {
                  "0": "3",
                  "1": "1970",
                  "2": "123.0",
                  "3": "true",
                  "4": "false"
                },
                {
                  "0": "3",
                  "1": "1971",
                  "2": "121.0",
                  "3": "true",
                  "4": "false"
                },
                {
                  "0": "3",
                  "1": "1972",
                  "2": "123.5",
                  "3": "true",
                  "4": "false"
                },
                {
                  "0": "3",
                  "1": "1973",
                  "2": "124.400001525879",
                  "3": "true",
                  "4": "false"
                },
                {
                  "0": "3",
                  "1": "1974",
                  "2": "126.699996948242",
                  "3": "true",
                  "4": "false"
                },
                {
                  "0": "3",
                  "1": "1975",
                  "2": "127.099998474121",
                  "3": "true",
                  "4": "false"
                },
                {
                  "0": "3",
                  "1": "1976",
                  "2": "128.0",
                  "3": "true",
                  "4": "false"
                },
                {
                  "0": "3",
                  "1": "1977",
                  "2": "126.400001525879",
                  "3": "true",
                  "4": "false"
                },
                {
                  "0": "3",
                  "1": "1978",
                  "2": "126.099998474121",
                  "3": "true",
                  "4": "false"
                },
                {
                  "0": "3",
                  "1": "1979",
                  "2": "121.900001525879",
                  "3": "true",
                  "4": "false"
                },
                {
                  "0": "3",
                  "1": "1980",
                  "2": "120.199996948242",
                  "3": "true",
                  "4": "false"
                },
                {
                  "0": "3",
                  "1": "1981",
                  "2": "118.599998474121",
                  "3": "true",
                  "4": "false"
                },
                {
                  "0": "3",
                  "1": "1982",
                  "2": "115.400001525879",
                  "3": "true",
                  "4": "false"
                },
                {
                  "0": "3",
                  "1": "1983",
                  "2": "110.800003051758",
                  "3": "true",
                  "4": "false"
                },
                {
                  "0": "3",
                  "1": "1984",
                  "2": "104.800003051758",
                  "3": "true",
                  "4": "false"
                },
                {
                  "0": "3",
                  "1": "1985",
                  "2": "102.800003051758",
                  "3": "true",
                  "4": "false"
                },
                {
                  "0": "3",
                  "1": "1986",
                  "2": "99.6999969482422",
                  "3": "true",
                  "4": "false"
                },
                {
                  "0": "3",
                  "1": "1987",
                  "2": "97.5",
                  "3": "true",
                  "4": "false"
                },
                {
                  "0": "3",
                  "1": "1988",
                  "2": "90.0999984741211",
                  "3": "true",
                  "4": "false"
                },
                {
                  "0": "3",
                  "1": "1989",
                  "2": "82.4000015258789",
                  "3": "true",
                  "4": "true"
                },
                {
                  "0": "3",
                  "1": "1990",
                  "2": "77.8000030517578",
                  "3": "true",
                  "4": "true"
                },
                {
                  "0": "3",
                  "1": "1991",
                  "2": "68.6999969482422",
                  "3": "true",
                  "4": "true"
                },
                {
                  "0": "3",
                  "1": "1992",
                  "2": "67.5",
                  "3": "true",
                  "4": "true"
                },
                {
                  "0": "3",
                  "1": "1993",
                  "2": "63.4000015258789",
                  "3": "true",
                  "4": "true"
                },
                {
                  "0": "3",
                  "1": "1994",
                  "2": "58.5999984741211",
                  "3": "true",
                  "4": "true"
                },
                {
                  "0": "3",
                  "1": "1995",
                  "2": "56.4000015258789",
                  "3": "true",
                  "4": "true"
                },
                {
                  "0": "3",
                  "1": "1996",
                  "2": "54.5",
                  "3": "true",
                  "4": "true"
                },
                {
                  "0": "3",
                  "1": "1997",
                  "2": "53.7999992370605",
                  "3": "true",
                  "4": "true"
                },
                {
                  "0": "3",
                  "1": "1998",
                  "2": "52.2999992370605",
                  "3": "true",
                  "4": "true"
                },
                {
                  "0": "3",
                  "1": "1999",
                  "2": "47.2000007629395",
                  "3": "true",
                  "4": "true"
                },
                {
                  "0": "3",
                  "1": "2000",
                  "2": "41.5999984741211",
                  "3": "true",
                  "4": "true"
                },
                {
                  "0": "4",
                  "1": "1970",
                  "2": "124.800003051758",
                  "3": "false",
                  "4": "false"
                },
                {
                  "0": "4",
                  "1": "1971",
                  "2": "125.5",
                  "3": "false",
                  "4": "false"
                },
                {
                  "0": "4",
                  "1": "1972",
                  "2": "134.300003051758",
                  "3": "false",
                  "4": "false"
                },
                {
                  "0": "4",
                  "1": "1973",
                  "2": "137.899993896484",
                  "3": "false",
                  "4": "false"
                },
                {
                  "0": "4",
                  "1": "1974",
                  "2": "132.800003051758",
                  "3": "false",
                  "4": "false"
                },
                {
                  "0": "4",
                  "1": "1975",
                  "2": "131.0",
                  "3": "false",
                  "4": "false"
                },
                {
                  "0": "4",
                  "1": "1976",
                  "2": "134.199996948242",
                  "3": "false",
                  "4": "false"
                },
                {
                  "0": "4",
                  "1": "1977",
                  "2": "132.0",
                  "3": "false",
                  "4": "false"
                },
                {
                  "0": "4",
                  "1": "1978",
                  "2": "129.199996948242",
                  "3": "false",
                  "4": "false"
                },
                {
                  "0": "4",
                  "1": "1979",
                  "2": "131.5",
                  "3": "false",
                  "4": "false"
                },
                {
                  "0": "4",
                  "1": "1980",
                  "2": "131.0",
                  "3": "false",
                  "4": "false"
                },
                {
                  "0": "4",
                  "1": "1981",
                  "2": "133.800003051758",
                  "3": "false",
                  "4": "false"
                },
                {
                  "0": "4",
                  "1": "1982",
                  "2": "130.5",
                  "3": "false",
                  "4": "false"
                },
                {
                  "0": "4",
                  "1": "1983",
                  "2": "125.300003051758",
                  "3": "false",
                  "4": "false"
                },
                {
                  "0": "4",
                  "1": "1984",
                  "2": "119.699996948242",
                  "3": "false",
                  "4": "false"
                },
                {
                  "0": "4",
                  "1": "1985",
                  "2": "112.400001525879",
                  "3": "false",
                  "4": "false"
                },
                {
                  "0": "4",
                  "1": "1986",
                  "2": "109.900001525879",
                  "3": "false",
                  "4": "false"
                },
                {
                  "0": "4",
                  "1": "1987",
                  "2": "102.400001525879",
                  "3": "false",
                  "4": "false"
                },
                {
                  "0": "4",
                  "1": "1988",
                  "2": "94.5999984741211",
                  "3": "false",
                  "4": "false"
                },
                {
                  "0": "4",
                  "1": "1989",
                  "2": "88.8000030517578",
                  "3": "false",
                  "4": "true"
                },
                {
                  "0": "4",
                  "1": "1990",
                  "2": "87.4000015258789",
                  "3": "false",
                  "4": "true"
                },
                {
                  "0": "4",
                  "1": "1991",
                  "2": "90.1999969482422",
                  "3": "false",
                  "4": "true"
                },
                {
                  "0": "4",
                  "1": "1992",
                  "2": "88.3000030517578",
                  "3": "false",
                  "4": "true"
                },
                {
                  "0": "4",
                  "1": "1993",
                  "2": "88.5999984741211",
                  "3": "false",
                  "4": "true"
                },
                {
                  "0": "4",
                  "1": "1994",
                  "2": "89.0999984741211",
                  "3": "false",
                  "4": "true"
                },
                {
                  "0": "4",
                  "1": "1995",
                  "2": "85.4000015258789",
                  "3": "false",
                  "4": "true"
                },
                {
                  "0": "4",
                  "1": "1996",
                  "2": "83.0999984741211",
                  "3": "false",
                  "4": "true"
                },
                {
                  "0": "4",
                  "1": "1997",
                  "2": "81.3000030517578",
                  "3": "false",
                  "4": "true"
                },
                {
                  "0": "4",
                  "1": "1998",
                  "2": "81.1999969482422",
                  "3": "false",
                  "4": "true"
                },
                {
                  "0": "4",
                  "1": "1999",
                  "2": "79.5999984741211",
                  "3": "false",
                  "4": "true"
                },
                {
                  "0": "4",
                  "1": "2000",
                  "2": "73.0",
                  "3": "false",
                  "4": "true"
                },
                {
                  "0": "5",
                  "1": "1970",
                  "2": "120.0",
                  "3": "false",
                  "4": "false"
                },
                {
                  "0": "5",
                  "1": "1971",
                  "2": "117.599998474121",
                  "3": "false",
                  "4": "false"
                },
                {
                  "0": "5",
                  "1": "1972",
                  "2": "110.800003051758",
                  "3": "false",
                  "4": "false"
                },
                {
                  "0": "5",
                  "1": "1973",
                  "2": "109.300003051758",
                  "3": "false",
                  "4": "false"
                },
                {
                  "0": "5",
                  "1": "1974",
                  "2": "112.400001525879",
                  "3": "false",
                  "4": "false"
                },
                {
                  "0": "5",
                  "1": "1975",
                  "2": "110.199996948242",
                  "3": "false",
                  "4": "false"
                },
                {
                  "0": "5",
                  "1": "1976",
                  "2": "113.400001525879",
                  "3": "false",
                  "4": "false"
                },
                {
                  "0": "5",
                  "1": "1977",
                  "2": "117.300003051758",
                  "3": "false",
                  "4": "false"
                },
                {
                  "0": "5",
                  "1": "1978",
                  "2": "117.5",
                  "3": "false",
                  "4": "false"
                },
                {
                  "0": "5",
                  "1": "1979",
                  "2": "117.400001525879",
                  "3": "false",
                  "4": "false"
                },
                {
                  "0": "5",
                  "1": "1980",
                  "2": "118.0",
                  "3": "false",
                  "4": "false"
                },
                {
                  "0": "5",
                  "1": "1981",
                  "2": "116.400001525879",
                  "3": "false",
                  "4": "false"
                },
                {
                  "0": "5",
                  "1": "1982",
                  "2": "114.699996948242",
                  "3": "false",
                  "4": "false"
                },
                {
                  "0": "5",
                  "1": "1983",
                  "2": "114.099998474121",
                  "3": "false",
                  "4": "false"
                },
                {
                  "0": "5",
                  "1": "1984",
                  "2": "112.5",
                  "3": "false",
                  "4": "false"
                },
                {
                  "0": "5",
                  "1": "1985",
                  "2": "111.0",
                  "3": "false",
                  "4": "false"
                },
                {
                  "0": "5",
                  "1": "1986",
                  "2": "108.5",
                  "3": "false",
                  "4": "false"
                },
                {
                  "0": "5",
                  "1": "1987",
                  "2": "109.0",
                  "3": "false",
                  "4": "false"
                },
                {
                  "0": "5",
                  "1": "1988",
                  "2": "104.800003051758",
                  "3": "false",
                  "4": "false"
                },
                {
                  "0": "5",
                  "1": "1989",
                  "2": "100.599998474121",
                  "3": "false",
                  "4": "true"
                },
                {
                  "0": "5",
                  "1": "1990",
                  "2": "91.5",
                  "3": "false",
                  "4": "true"
                },
                {
                  "0": "5",
                  "1": "1991",
                  "2": "86.6999969482422",
                  "3": "false",
                  "4": "true"
                },
                {
                  "0": "5",
                  "1": "1992",
                  "2": "83.5",
                  "3": "false",
                  "4": "true"
                },
                {
                  "0": "5",
                  "1": "1993",
                  "2": "79.0999984741211",
                  "3": "false",
                  "4": "true"
                },
                {
                  "0": "5",
                  "1": "1994",
                  "2": "76.5999984741211",
                  "3": "false",
                  "4": "true"
                },
                {
                  "0": "5",
                  "1": "1995",
                  "2": "79.3000030517578",
                  "3": "false",
                  "4": "true"
                },
                {
                  "0": "5",
                  "1": "1996",
                  "2": "76.0",
                  "3": "false",
                  "4": "true"
                },
                {
                  "0": "5",
                  "1": "1997",
                  "2": "75.9000015258789",
                  "3": "false",
                  "4": "true"
                },
                {
                  "0": "5",
                  "1": "1998",
                  "2": "75.5",
                  "3": "false",
                  "4": "true"
                },
                {
                  "0": "5",
                  "1": "1999",
                  "2": "73.4000015258789",
                  "3": "false",
                  "4": "true"
                },
                {
                  "0": "5",
                  "1": "2000",
                  "2": "71.4000015258789",
                  "3": "false",
                  "4": "true"
                },
                {
                  "0": "6",
                  "1": "1970",
                  "2": "155.0",
                  "3": "false",
                  "4": "false"
                },
                {
                  "0": "6",
                  "1": "1971",
                  "2": "161.100006103516",
                  "3": "false",
                  "4": "false"
                },
                {
                  "0": "6",
                  "1": "1972",
                  "2": "156.300003051758",
                  "3": "false",
                  "4": "false"
                },
                {
                  "0": "6",
                  "1": "1973",
                  "2": "154.699996948242",
                  "3": "false",
                  "4": "false"
                },
                {
                  "0": "6",
                  "1": "1974",
                  "2": "151.300003051758",
                  "3": "false",
                  "4": "false"
                },
                {
                  "0": "6",
                  "1": "1975",
                  "2": "147.600006103516",
                  "3": "false",
                  "4": "false"
                },
                {
                  "0": "6",
                  "1": "1976",
                  "2": "153.0",
                  "3": "false",
                  "4": "false"
                },
                {
                  "0": "6",
                  "1": "1977",
                  "2": "153.300003051758",
                  "3": "false",
                  "4": "false"
                },
                {
                  "0": "6",
                  "1": "1978",
                  "2": "155.5",
                  "3": "false",
                  "4": "false"
                },
                {
                  "0": "6",
                  "1": "1979",
                  "2": "150.199996948242",
                  "3": "false",
                  "4": "false"
                },
                {
                  "0": "6",
                  "1": "1980",
                  "2": "150.5",
                  "3": "false",
                  "4": "false"
                },
                {
                  "0": "6",
                  "1": "1981",
                  "2": "152.600006103516",
                  "3": "false",
                  "4": "false"
                },
                {
                  "0": "6",
                  "1": "1982",
                  "2": "154.100006103516",
                  "3": "false",
                  "4": "false"
                },
                {
                  "0": "6",
                  "1": "1983",
                  "2": "149.600006103516",
                  "3": "false",
                  "4": "false"
                },
                {
                  "0": "6",
                  "1": "1984",
                  "2": "144.0",
                  "3": "false",
                  "4": "false"
                },
                {
                  "0": "6",
                  "1": "1985",
                  "2": "144.5",
                  "3": "false",
                  "4": "false"
                },
                {
                  "0": "6",
                  "1": "1986",
                  "2": "142.399993896484",
                  "3": "false",
                  "4": "false"
                },
                {
                  "0": "6",
                  "1": "1987",
                  "2": "141.0",
                  "3": "false",
                  "4": "false"
                },
                {
                  "0": "6",
                  "1": "1988",
                  "2": "137.100006103516",
                  "3": "false",
                  "4": "false"
                },
                {
                  "0": "6",
                  "1": "1989",
                  "2": "131.699996948242",
                  "3": "false",
                  "4": "true"
                },
                {
                  "0": "6",
                  "1": "1990",
                  "2": "127.199996948242",
                  "3": "false",
                  "4": "true"
                },
                {
                  "0": "6",
                  "1": "1991",
                  "2": "118.800003051758",
                  "3": "false",
                  "4": "true"
                },
                {
                  "0": "6",
                  "1": "1992",
                  "2": "120.0",
                  "3": "false",
                  "4": "true"
                },
                {
                  "0": "6",
                  "1": "1993",
                  "2": "123.800003051758",
                  "3": "false",
                  "4": "true"
                },
                {
                  "0": "6",
                  "1": "1994",
                  "2": "126.099998474121",
                  "3": "false",
                  "4": "true"
                },
                {
                  "0": "6",
                  "1": "1995",
                  "2": "127.199996948242",
                  "3": "false",
                  "4": "true"
                },
                {
                  "0": "6",
                  "1": "1996",
                  "2": "128.300003051758",
                  "3": "false",
                  "4": "true"
                },
                {
                  "0": "6",
                  "1": "1997",
                  "2": "124.099998474121",
                  "3": "false",
                  "4": "true"
                },
                {
                  "0": "6",
                  "1": "1998",
                  "2": "132.800003051758",
                  "3": "false",
                  "4": "true"
                },
                {
                  "0": "6",
                  "1": "1999",
                  "2": "139.5",
                  "3": "false",
                  "4": "true"
                },
                {
                  "0": "6",
                  "1": "2000",
                  "2": "140.699996948242",
                  "3": "false",
                  "4": "true"
                },
                {
                  "0": "7",
                  "1": "1970",
                  "2": "109.900001525879",
                  "3": "false",
                  "4": "false"
                },
                {
                  "0": "7",
                  "1": "1971",
                  "2": "115.699996948242",
                  "3": "false",
                  "4": "false"
                },
                {
                  "0": "7",
                  "1": "1972",
                  "2": "117.0",
                  "3": "false",
                  "4": "false"
                },
                {
                  "0": "7",
                  "1": "1973",
                  "2": "119.800003051758",
                  "3": "false",
                  "4": "false"
                },
                {
                  "0": "7",
                  "1": "1974",
                  "2": "123.699996948242",
                  "3": "false",
                  "4": "false"
                },
                {
                  "0": "7",
                  "1": "1975",
                  "2": "122.900001525879",
                  "3": "false",
                  "4": "false"
                },
                {
                  "0": "7",
                  "1": "1976",
                  "2": "125.900001525879",
                  "3": "false",
                  "4": "false"
                },
                {
                  "0": "7",
                  "1": "1977",
                  "2": "127.900001525879",
                  "3": "false",
                  "4": "false"
                },
                {
                  "0": "7",
                  "1": "1978",
                  "2": "130.600006103516",
                  "3": "false",
                  "4": "false"
                },
                {
                  "0": "7",
                  "1": "1979",
                  "2": "131.0",
                  "3": "false",
                  "4": "false"
                },
                {
                  "0": "7",
                  "1": "1980",
                  "2": "134.0",
                  "3": "false",
                  "4": "false"
                },
                {
                  "0": "7",
                  "1": "1981",
                  "2": "131.699996948242",
                  "3": "false",
                  "4": "false"
                },
                {
                  "0": "7",
                  "1": "1982",
                  "2": "131.199996948242",
                  "3": "false",
                  "4": "false"
                },
                {
                  "0": "7",
                  "1": "1983",
                  "2": "128.600006103516",
                  "3": "false",
                  "4": "false"
                },
                {
                  "0": "7",
                  "1": "1984",
                  "2": "126.300003051758",
                  "3": "false",
                  "4": "false"
                },
                {
                  "0": "7",
                  "1": "1985",
                  "2": "128.800003051758",
                  "3": "false",
                  "4": "false"
                },
                {
                  "0": "7",
                  "1": "1986",
                  "2": "129.0",
                  "3": "false",
                  "4": "false"
                },
                {
                  "0": "7",
                  "1": "1987",
                  "2": "129.300003051758",
                  "3": "false",
                  "4": "false"
                },
                {
                  "0": "7",
                  "1": "1988",
                  "2": "124.099998474121",
                  "3": "false",
                  "4": "false"
                },
                {
                  "0": "7",
                  "1": "1989",
                  "2": "117.099998474121",
                  "3": "false",
                  "4": "true"
                },
                {
                  "0": "7",
                  "1": "1990",
                  "2": "113.800003051758",
                  "3": "false",
                  "4": "true"
                },
                {
                  "0": "7",
                  "1": "1991",
                  "2": "109.599998474121",
                  "3": "false",
                  "4": "true"
                },
                {
                  "0": "7",
                  "1": "1992",
                  "2": "109.199996948242",
                  "3": "false",
                  "4": "true"
                },
                {
                  "0": "7",
                  "1": "1993",
                  "2": "109.199996948242",
                  "3": "false",
                  "4": "true"
                },
                {
                  "0": "7",
                  "1": "1994",
                  "2": "107.800003051758",
                  "3": "false",
                  "4": "true"
                },
                {
                  "0": "7",
                  "1": "1995",
                  "2": "100.300003051758",
                  "3": "false",
                  "4": "true"
                },
                {
                  "0": "7",
                  "1": "1996",
                  "2": "102.699996948242",
                  "3": "false",
                  "4": "true"
                },
                {
                  "0": "7",
                  "1": "1997",
                  "2": "100.599998474121",
                  "3": "false",
                  "4": "true"
                },
                {
                  "0": "7",
                  "1": "1998",
                  "2": "100.5",
                  "3": "false",
                  "4": "true"
                },
                {
                  "0": "7",
                  "1": "1999",
                  "2": "97.0999984741211",
                  "3": "false",
                  "4": "true"
                },
                {
                  "0": "7",
                  "1": "2000",
                  "2": "88.4000015258789",
                  "3": "false",
                  "4": "true"
                },
                {
                  "0": "8",
                  "1": "1970",
                  "2": "102.400001525879",
                  "3": "false",
                  "4": "false"
                },
                {
                  "0": "8",
                  "1": "1971",
                  "2": "108.5",
                  "3": "false",
                  "4": "false"
                },
                {
                  "0": "8",
                  "1": "1972",
                  "2": "126.099998474121",
                  "3": "false",
                  "4": "false"
                },
                {
                  "0": "8",
                  "1": "1973",
                  "2": "121.800003051758",
                  "3": "false",
                  "4": "false"
                },
                {
                  "0": "8",
                  "1": "1974",
                  "2": "125.599998474121",
                  "3": "false",
                  "4": "false"
                },
                {
                  "0": "8",
                  "1": "1975",
                  "2": "123.300003051758",
                  "3": "false",
                  "4": "false"
                },
                {
                  "0": "8",
                  "1": "1976",
                  "2": "125.099998474121",
                  "3": "false",
                  "4": "false"
                },
                {
                  "0": "8",
                  "1": "1977",
                  "2": "125.0",
                  "3": "false",
                  "4": "false"
                },
                {
                  "0": "8",
                  "1": "1978",
                  "2": "122.800003051758",
                  "3": "false",
                  "4": "false"
                },
                {
                  "0": "8",
                  "1": "1979",
                  "2": "117.5",
                  "3": "false",
                  "4": "false"
                },
                {
                  "0": "8",
                  "1": "1980",
                  "2": "115.199996948242",
                  "3": "false",
                  "4": "false"
                },
                {
                  "0": "8",
                  "1": "1981",
                  "2": "114.099998474121",
                  "3": "false",
                  "4": "false"
                },
                {
                  "0": "8",
                  "1": "1982",
                  "2": "111.5",
                  "3": "false",
                  "4": "false"
                },
                {
                  "0": "8",
                  "1": "1983",
                  "2": "111.300003051758",
                  "3": "false",
                  "4": "false"
                },
                {
                  "0": "8",
                  "1": "1984",
                  "2": "103.599998474121",
                  "3": "false",
                  "4": "false"
                },
                {
                  "0": "8",
                  "1": "1985",
                  "2": "100.699996948242",
                  "3": "false",
                  "4": "false"
                },
                {
                  "0": "8",
                  "1": "1986",
                  "2": "96.6999969482422",
                  "3": "false",
                  "4": "false"
                },
                {
                  "0": "8",
                  "1": "1987",
                  "2": "95.0",
                  "3": "false",
                  "4": "false"
                },
                {
                  "0": "8",
                  "1": "1988",
                  "2": "84.5",
                  "3": "false",
                  "4": "false"
                },
                {
                  "0": "8",
                  "1": "1989",
                  "2": "78.4000015258789",
                  "3": "false",
                  "4": "true"
                },
                {
                  "0": "8",
                  "1": "1990",
                  "2": "90.0999984741211",
                  "3": "false",
                  "4": "true"
                },
                {
                  "0": "8",
                  "1": "1991",
                  "2": "85.4000015258789",
                  "3": "false",
                  "4": "true"
                },
                {
                  "0": "8",
                  "1": "1992",
                  "2": "85.0999984741211",
                  "3": "false",
                  "4": "true"
                },
                {
                  "0": "8",
                  "1": "1993",
                  "2": "86.6999969482422",
                  "3": "false",
                  "4": "true"
                },
                {
                  "0": "8",
                  "1": "1994",
                  "2": "93.0",
                  "3": "false",
                  "4": "true"
                },
                {
                  "0": "8",
                  "1": "1995",
                  "2": "78.1999969482422",
                  "3": "false",
                  "4": "true"
                },
                {
                  "0": "8",
                  "1": "1996",
                  "2": "73.5999984741211",
                  "3": "false",
                  "4": "true"
                },
                {
                  "0": "8",
                  "1": "1997",
                  "2": "75.0",
                  "3": "false",
                  "4": "true"
                },
                {
                  "0": "8",
                  "1": "1998",
                  "2": "78.9000015258789",
                  "3": "false",
                  "4": "true"
                },
                {
                  "0": "8",
                  "1": "1999",
                  "2": "75.0999984741211",
                  "3": "false",
                  "4": "true"
                },
                {
                  "0": "8",
                  "1": "2000",
                  "2": "66.90000152587889",
                  "3": "false",
                  "4": "true"
                },
                {
                  "0": "9",
                  "1": "1970",
                  "2": "124.800003051758",
                  "3": "false",
                  "4": "false"
                },
                {
                  "0": "9",
                  "1": "1971",
                  "2": "125.599998474121",
                  "3": "false",
                  "4": "false"
                },
                {
                  "0": "9",
                  "1": "1972",
                  "2": "126.599998474121",
                  "3": "false",
                  "4": "false"
                },
                {
                  "0": "9",
                  "1": "1973",
                  "2": "124.400001525879",
                  "3": "false",
                  "4": "false"
                },
                {
                  "0": "9",
                  "1": "1974",
                  "2": "131.899993896484",
                  "3": "false",
                  "4": "false"
                },
                {
                  "0": "9",
                  "1": "1975",
                  "2": "131.800003051758",
                  "3": "false",
                  "4": "false"
                },
                {
                  "0": "9",
                  "1": "1976",
                  "2": "134.399993896484",
                  "3": "false",
                  "4": "false"
                },
                {
                  "0": "9",
                  "1": "1977",
                  "2": "134.0",
                  "3": "false",
                  "4": "false"
                },
                {
                  "0": "9",
                  "1": "1978",
                  "2": "136.699996948242",
                  "3": "false",
                  "4": "false"
                },
                {
                  "0": "9",
                  "1": "1979",
                  "2": "135.300003051758",
                  "3": "false",
                  "4": "false"
                },
                {
                  "0": "9",
                  "1": "1980",
                  "2": "135.199996948242",
                  "3": "false",
                  "4": "false"
                },
                {
                  "0": "9",
                  "1": "1981",
                  "2": "133.0",
                  "3": "false",
                  "4": "false"
                },
                {
                  "0": "9",
                  "1": "1982",
                  "2": "130.699996948242",
                  "3": "false",
                  "4": "false"
                },
                {
                  "0": "9",
                  "1": "1983",
                  "2": "127.900001525879",
                  "3": "false",
                  "4": "false"
                },
                {
                  "0": "9",
                  "1": "1984",
                  "2": "124.0",
                  "3": "false",
                  "4": "false"
                },
                {
                  "0": "9",
                  "1": "1985",
                  "2": "121.599998474121",
                  "3": "false",
                  "4": "false"
                },
                {
                  "0": "9",
                  "1": "1986",
                  "2": "118.199996948242",
                  "3": "false",
                  "4": "false"
                },
                {
                  "0": "9",
                  "1": "1987",
                  "2": "109.5",
                  "3": "false",
                  "4": "false"
                },
                {
                  "0": "9",
                  "1": "1988",
                  "2": "107.599998474121",
                  "3": "false",
                  "4": "false"
                },
                {
                  "0": "9",
                  "1": "1989",
                  "2": "104.599998474121",
                  "3": "false",
                  "4": "true"
                },
                {
                  "0": "9",
                  "1": "1990",
                  "2": "94.0999984741211",
                  "3": "false",
                  "4": "true"
                },
                {
                  "0": "9",
                  "1": "1991",
                  "2": "96.0999984741211",
                  "3": "false",
                  "4": "true"
                },
                {
                  "0": "9",
                  "1": "1992",
                  "2": "94.8000030517578",
                  "3": "false",
                  "4": "true"
                },
                {
                  "0": "9",
                  "1": "1993",
                  "2": "94.5999984741211",
                  "3": "false",
                  "4": "true"
                },
                {
                  "0": "9",
                  "1": "1994",
                  "2": "85.6999969482422",
                  "3": "false",
                  "4": "true"
                },
                {
                  "0": "9",
                  "1": "1995",
                  "2": "84.3000030517578",
                  "3": "false",
                  "4": "true"
                },
                {
                  "0": "9",
                  "1": "1996",
                  "2": "81.8000030517578",
                  "3": "false",
                  "4": "true"
                },
                {
                  "0": "9",
                  "1": "1997",
                  "2": "79.5999984741211",
                  "3": "false",
                  "4": "true"
                },
                {
                  "0": "9",
                  "1": "1998",
                  "2": "80.3000030517578",
                  "3": "false",
                  "4": "true"
                },
                {
                  "0": "9",
                  "1": "1999",
                  "2": "72.1999969482422",
                  "3": "false",
                  "4": "true"
                },
                {
                  "0": "9",
                  "1": "2000",
                  "2": "70.0",
                  "3": "false",
                  "4": "true"
                },
                {
                  "0": "10",
                  "1": "1970",
                  "2": "134.600006103516",
                  "3": "false",
                  "4": "false"
                },
                {
                  "0": "10",
                  "1": "1971",
                  "2": "139.300003051758",
                  "3": "false",
                  "4": "false"
                },
                {
                  "0": "10",
                  "1": "1972",
                  "2": "149.199996948242",
                  "3": "false",
                  "4": "false"
                },
                {
                  "0": "10",
                  "1": "1973",
                  "2": "156.0",
                  "3": "false",
                  "4": "false"
                },
                {
                  "0": "10",
                  "1": "1974",
                  "2": "159.600006103516",
                  "3": "false",
                  "4": "false"
                },
                {
                  "0": "10",
                  "1": "1975",
                  "2": "162.399993896484",
                  "3": "false",
                  "4": "false"
                },
                {
                  "0": "10",
                  "1": "1976",
                  "2": "166.600006103516",
                  "3": "false",
                  "4": "false"
                },
                {
                  "0": "10",
                  "1": "1977",
                  "2": "173.0",
                  "3": "false",
                  "4": "false"
                },
                {
                  "0": "10",
                  "1": "1978",
                  "2": "150.899993896484",
                  "3": "false",
                  "4": "false"
                },
                {
                  "0": "10",
                  "1": "1979",
                  "2": "148.899993896484",
                  "3": "false",
                  "4": "false"
                },
                {
                  "0": "10",
                  "1": "1980",
                  "2": "146.899993896484",
                  "3": "false",
                  "4": "false"
                },
                {
                  "0": "10",
                  "1": "1981",
                  "2": "148.5",
                  "3": "false",
                  "4": "false"
                },
                {
                  "0": "10",
                  "1": "1982",
                  "2": "147.699996948242",
                  "3": "false",
                  "4": "false"
                },
                {
                  "0": "10",
                  "1": "1983",
                  "2": "143.0",
                  "3": "false",
                  "4": "false"
                },
                {
                  "0": "10",
                  "1": "1984",
                  "2": "137.800003051758",
                  "3": "false",
                  "4": "false"
                },
                {
                  "0": "10",
                  "1": "1985",
                  "2": "135.300003051758",
                  "3": "false",
                  "4": "false"
                },
                {
                  "0": "10",
                  "1": "1986",
                  "2": "137.600006103516",
                  "3": "false",
                  "4": "false"
                },
                {
                  "0": "10",
                  "1": "1987",
                  "2": "134.0",
                  "3": "false",
                  "4": "false"
                },
                {
                  "0": "10",
                  "1": "1988",
                  "2": "134.0",
                  "3": "false",
                  "4": "false"
                },
                {
                  "0": "10",
                  "1": "1989",
                  "2": "132.5",
                  "3": "false",
                  "4": "true"
                },
                {
                  "0": "10",
                  "1": "1990",
                  "2": "128.300003051758",
                  "3": "false",
                  "4": "true"
                },
                {
                  "0": "10",
                  "1": "1991",
                  "2": "127.199996948242",
                  "3": "false",
                  "4": "true"
                },
                {
                  "0": "10",
                  "1": "1992",
                  "2": "128.199996948242",
                  "3": "false",
                  "4": "true"
                },
                {
                  "0": "10",
                  "1": "1993",
                  "2": "126.800003051758",
                  "3": "false",
                  "4": "true"
                },
                {
                  "0": "10",
                  "1": "1994",
                  "2": "128.199996948242",
                  "3": "false",
                  "4": "true"
                },
                {
                  "0": "10",
                  "1": "1995",
                  "2": "135.399993896484",
                  "3": "false",
                  "4": "true"
                },
                {
                  "0": "10",
                  "1": "1996",
                  "2": "135.100006103516",
                  "3": "false",
                  "4": "true"
                },
                {
                  "0": "10",
                  "1": "1997",
                  "2": "135.300003051758",
                  "3": "false",
                  "4": "true"
                },
                {
                  "0": "10",
                  "1": "1998",
                  "2": "135.899993896484",
                  "3": "false",
                  "4": "true"
                },
                {
                  "0": "10",
                  "1": "1999",
                  "2": "133.300003051758",
                  "3": "false",
                  "4": "true"
                },
                {
                  "0": "10",
                  "1": "2000",
                  "2": "125.5",
                  "3": "false",
                  "4": "true"
                },
                {
                  "0": "11",
                  "1": "1970",
                  "2": "108.5",
                  "3": "false",
                  "4": "false"
                },
                {
                  "0": "11",
                  "1": "1971",
                  "2": "108.400001525879",
                  "3": "false",
                  "4": "false"
                },
                {
                  "0": "11",
                  "1": "1972",
                  "2": "109.400001525879",
                  "3": "false",
                  "4": "false"
                },
                {
                  "0": "11",
                  "1": "1973",
                  "2": "110.599998474121",
                  "3": "false",
                  "4": "false"
                },
                {
                  "0": "11",
                  "1": "1974",
                  "2": "116.099998474121",
                  "3": "false",
                  "4": "false"
                },
                {
                  "0": "11",
                  "1": "1975",
                  "2": "120.5",
                  "3": "false",
                  "4": "false"
                },
                {
                  "0": "11",
                  "1": "1976",
                  "2": "124.400001525879",
                  "3": "false",
                  "4": "false"
                },
                {
                  "0": "11",
                  "1": "1977",
                  "2": "125.5",
                  "3": "false",
                  "4": "false"
                },
                {
                  "0": "11",
                  "1": "1978",
                  "2": "127.099998474121",
                  "3": "false",
                  "4": "false"
                },
                {
                  "0": "11",
                  "1": "1979",
                  "2": "124.199996948242",
                  "3": "false",
                  "4": "false"
                },
                {
                  "0": "11",
                  "1": "1980",
                  "2": "124.599998474121",
                  "3": "false",
                  "4": "false"
                },
                {
                  "0": "11",
                  "1": "1981",
                  "2": "132.899993896484",
                  "3": "false",
                  "4": "false"
                },
                {
                  "0": "11",
                  "1": "1982",
                  "2": "116.199996948242",
                  "3": "false",
                  "4": "false"
                },
                {
                  "0": "11",
                  "1": "1983",
                  "2": "115.599998474121",
                  "3": "false",
                  "4": "false"
                },
                {
                  "0": "11",
                  "1": "1984",
                  "2": "111.199996948242",
                  "3": "false",
                  "4": "false"
                },
                {
                  "0": "11",
                  "1": "1985",
                  "2": "109.400001525879",
                  "3": "false",
                  "4": "false"
                },
                {
                  "0": "11",
                  "1": "1986",
                  "2": "104.099998474121",
                  "3": "false",
                  "4": "false"
                },
                {
                  "0": "11",
                  "1": "1987",
                  "2": "101.099998474121",
                  "3": "false",
                  "4": "false"
                },
                {
                  "0": "11",
                  "1": "1988",
                  "2": "100.199996948242",
                  "3": "false",
                  "4": "false"
                },
                {
                  "0": "11",
                  "1": "1989",
                  "2": "94.4000015258789",
                  "3": "false",
                  "4": "true"
                },
                {
                  "0": "11",
                  "1": "1990",
                  "2": "95.4000015258789",
                  "3": "false",
                  "4": "true"
                },
                {
                  "0": "11",
                  "1": "1991",
                  "2": "97.0999984741211",
                  "3": "false",
                  "4": "true"
                },
                {
                  "0": "11",
                  "1": "1992",
                  "2": "95.1999969482422",
                  "3": "false",
                  "4": "true"
                },
                {
                  "0": "11",
                  "1": "1993",
                  "2": "92.5",
                  "3": "false",
                  "4": "true"
                },
                {
                  "0": "11",
                  "1": "1994",
                  "2": "93.4000015258789",
                  "3": "false",
                  "4": "true"
                },
                {
                  "0": "11",
                  "1": "1995",
                  "2": "93.0",
                  "3": "false",
                  "4": "true"
                },
                {
                  "0": "11",
                  "1": "1996",
                  "2": "94.0",
                  "3": "false",
                  "4": "true"
                },
                {
                  "0": "11",
                  "1": "1997",
                  "2": "93.9000015258789",
                  "3": "false",
                  "4": "true"
                },
                {
                  "0": "11",
                  "1": "1998",
                  "2": "94.0",
                  "3": "false",
                  "4": "true"
                },
                {
                  "0": "11",
                  "1": "1999",
                  "2": "91.6999969482422",
                  "3": "false",
                  "4": "true"
                },
                {
                  "0": "11",
                  "1": "2000",
                  "2": "88.9000015258789",
                  "3": "false",
                  "4": "true"
                },
                {
                  "0": "12",
                  "1": "1970",
                  "2": "114.0",
                  "3": "false",
                  "4": "false"
                },
                {
                  "0": "12",
                  "1": "1971",
                  "2": "102.800003051758",
                  "3": "false",
                  "4": "false"
                },
                {
                  "0": "12",
                  "1": "1972",
                  "2": "111.0",
                  "3": "false",
                  "4": "false"
                },
                {
                  "0": "12",
                  "1": "1973",
                  "2": "115.199996948242",
                  "3": "false",
                  "4": "false"
                },
                {
                  "0": "12",
                  "1": "1974",
                  "2": "118.599998474121",
                  "3": "false",
                  "4": "false"
                },
                {
                  "0": "12",
                  "1": "1975",
                  "2": "123.400001525879",
                  "3": "false",
                  "4": "false"
                },
                {
                  "0": "12",
                  "1": "1976",
                  "2": "127.699996948242",
                  "3": "false",
                  "4": "false"
                },
                {
                  "0": "12",
                  "1": "1977",
                  "2": "127.900001525879",
                  "3": "false",
                  "4": "false"
                },
                {
                  "0": "12",
                  "1": "1978",
                  "2": "127.099998474121",
                  "3": "false",
                  "4": "false"
                },
                {
                  "0": "12",
                  "1": "1979",
                  "2": "126.400001525879",
                  "3": "false",
                  "4": "false"
                },
                {
                  "0": "12",
                  "1": "1980",
                  "2": "127.099998474121",
                  "3": "false",
                  "4": "false"
                },
                {
                  "0": "12",
                  "1": "1981",
                  "2": "132.0",
                  "3": "false",
                  "4": "false"
                },
                {
                  "0": "12",
                  "1": "1982",
                  "2": "130.899993896484",
                  "3": "false",
                  "4": "false"
                },
                {
                  "0": "12",
                  "1": "1983",
                  "2": "127.599998474121",
                  "3": "false",
                  "4": "false"
                },
                {
                  "0": "12",
                  "1": "1984",
                  "2": "121.699996948242",
                  "3": "false",
                  "4": "false"
                },
                {
                  "0": "12",
                  "1": "1985",
                  "2": "115.699996948242",
                  "3": "false",
                  "4": "false"
                },
                {
                  "0": "12",
                  "1": "1986",
                  "2": "109.400001525879",
                  "3": "false",
                  "4": "false"
                },
                {
                  "0": "12",
                  "1": "1987",
                  "2": "105.199996948242",
                  "3": "false",
                  "4": "false"
                },
                {
                  "0": "12",
                  "1": "1988",
                  "2": "103.199996948242",
                  "3": "false",
                  "4": "false"
                },
                {
                  "0": "12",
                  "1": "1989",
                  "2": "96.5",
                  "3": "false",
                  "4": "true"
                },
                {
                  "0": "12",
                  "1": "1990",
                  "2": "94.3000030517578",
                  "3": "false",
                  "4": "true"
                },
                {
                  "0": "12",
                  "1": "1991",
                  "2": "91.8000030517578",
                  "3": "false",
                  "4": "true"
                },
                {
                  "0": "12",
                  "1": "1992",
                  "2": "90.0",
                  "3": "false",
                  "4": "true"
                },
                {
                  "0": "12",
                  "1": "1993",
                  "2": "89.9000015258789",
                  "3": "false",
                  "4": "true"
                },
                {
                  "0": "12",
                  "1": "1994",
                  "2": "89.0999984741211",
                  "3": "false",
                  "4": "true"
                },
                {
                  "0": "12",
                  "1": "1995",
                  "2": "90.0999984741211",
                  "3": "false",
                  "4": "true"
                },
                {
                  "0": "12",
                  "1": "1996",
                  "2": "88.6999969482422",
                  "3": "false",
                  "4": "true"
                },
                {
                  "0": "12",
                  "1": "1997",
                  "2": "89.1999969482422",
                  "3": "false",
                  "4": "true"
                },
                {
                  "0": "12",
                  "1": "1998",
                  "2": "87.5999984741211",
                  "3": "false",
                  "4": "true"
                },
                {
                  "0": "12",
                  "1": "1999",
                  "2": "83.3000030517578",
                  "3": "false",
                  "4": "true"
                },
                {
                  "0": "12",
                  "1": "2000",
                  "2": "79.8000030517578",
                  "3": "false",
                  "4": "true"
                },
                {
                  "0": "13",
                  "1": "1970",
                  "2": "155.800003051758",
                  "3": "false",
                  "4": "false"
                },
                {
                  "0": "13",
                  "1": "1971",
                  "2": "163.5",
                  "3": "false",
                  "4": "false"
                },
                {
                  "0": "13",
                  "1": "1972",
                  "2": "179.399993896484",
                  "3": "false",
                  "4": "false"
                },
                {
                  "0": "13",
                  "1": "1973",
                  "2": "201.899993896484",
                  "3": "false",
                  "4": "false"
                },
                {
                  "0": "13",
                  "1": "1974",
                  "2": "212.399993896484",
                  "3": "false",
                  "4": "false"
                },
                {
                  "0": "13",
                  "1": "1975",
                  "2": "223.0",
                  "3": "false",
                  "4": "false"
                },
                {
                  "0": "13",
                  "1": "1976",
                  "2": "230.899993896484",
                  "3": "false",
                  "4": "false"
                },
                {
                  "0": "13",
                  "1": "1977",
                  "2": "229.399993896484",
                  "3": "false",
                  "4": "false"
                },
                {
                  "0": "13",
                  "1": "1978",
                  "2": "224.699996948242",
                  "3": "false",
                  "4": "false"
                },
                {
                  "0": "13",
                  "1": "1979",
                  "2": "214.899993896484",
                  "3": "false",
                  "4": "false"
                },
                {
                  "0": "13",
                  "1": "1980",
                  "2": "215.300003051758",
                  "3": "false",
                  "4": "false"
                },
                {
                  "0": "13",
                  "1": "1981",
                  "2": "209.699996948242",
                  "3": "false",
                  "4": "false"
                },
                {
                  "0": "13",
                  "1": "1982",
                  "2": "210.600006103516",
                  "3": "false",
                  "4": "false"
                },
                {
                  "0": "13",
                  "1": "1983",
                  "2": "201.100006103516",
                  "3": "false",
                  "4": "false"
                },
                {
                  "0": "13",
                  "1": "1984",
                  "2": "183.199996948242",
                  "3": "false",
                  "4": "false"
                },
                {
                  "0": "13",
                  "1": "1985",
                  "2": "182.399993896484",
                  "3": "false",
                  "4": "false"
                },
                {
                  "0": "13",
                  "1": "1986",
                  "2": "179.800003051758",
                  "3": "false",
                  "4": "false"
                },
                {
                  "0": "13",
                  "1": "1987",
                  "2": "171.199996948242",
                  "3": "false",
                  "4": "false"
                },
                {
                  "0": "13",
                  "1": "1988",
                  "2": "173.199996948242",
                  "3": "false",
                  "4": "false"
                },
                {
                  "0": "13",
                  "1": "1989",
                  "2": "171.600006103516",
                  "3": "false",
                  "4": "true"
                },
                {
                  "0": "13",
                  "1": "1990",
                  "2": "182.5",
                  "3": "false",
                  "4": "true"
                },
                {
                  "0": "13",
                  "1": "1991",
                  "2": "170.399993896484",
                  "3": "false",
                  "4": "true"
                },
                {
                  "0": "13",
                  "1": "1992",
                  "2": "167.600006103516",
                  "3": "false",
                  "4": "true"
                },
                {
                  "0": "13",
                  "1": "1993",
                  "2": "167.600006103516",
                  "3": "false",
                  "4": "true"
                },
                {
                  "0": "13",
                  "1": "1994",
                  "2": "170.100006103516",
                  "3": "false",
                  "4": "true"
                },
                {
                  "0": "13",
                  "1": "1995",
                  "2": "175.300003051758",
                  "3": "false",
                  "4": "true"
                },
                {
                  "0": "13",
                  "1": "1996",
                  "2": "179.0",
                  "3": "false",
                  "4": "true"
                },
                {
                  "0": "13",
                  "1": "1997",
                  "2": "186.800003051758",
                  "3": "false",
                  "4": "true"
                },
                {
                  "0": "13",
                  "1": "1998",
                  "2": "171.300003051758",
                  "3": "false",
                  "4": "true"
                },
                {
                  "0": "13",
                  "1": "1999",
                  "2": "165.300003051758",
                  "3": "false",
                  "4": "true"
                },
                {
                  "0": "13",
                  "1": "2000",
                  "2": "156.199996948242",
                  "3": "false",
                  "4": "true"
                },
                {
                  "0": "14",
                  "1": "1970",
                  "2": "115.900001525879",
                  "3": "false",
                  "4": "false"
                },
                {
                  "0": "14",
                  "1": "1971",
                  "2": "119.800003051758",
                  "3": "false",
                  "4": "false"
                },
                {
                  "0": "14",
                  "1": "1972",
                  "2": "125.300003051758",
                  "3": "false",
                  "4": "false"
                },
                {
                  "0": "14",
                  "1": "1973",
                  "2": "126.699996948242",
                  "3": "false",
                  "4": "false"
                },
                {
                  "0": "14",
                  "1": "1974",
                  "2": "129.899993896484",
                  "3": "false",
                  "4": "false"
                },
                {
                  "0": "14",
                  "1": "1975",
                  "2": "133.600006103516",
                  "3": "false",
                  "4": "false"
                },
                {
                  "0": "14",
                  "1": "1976",
                  "2": "139.600006103516",
                  "3": "false",
                  "4": "false"
                },
                {
                  "0": "14",
                  "1": "1977",
                  "2": "140.0",
                  "3": "false",
                  "4": "false"
                },
                {
                  "0": "14",
                  "1": "1978",
                  "2": "142.699996948242",
                  "3": "false",
                  "4": "false"
                },
                {
                  "0": "14",
                  "1": "1979",
                  "2": "140.100006103516",
                  "3": "false",
                  "4": "false"
                },
                {
                  "0": "14",
                  "1": "1980",
                  "2": "143.800003051758",
                  "3": "false",
                  "4": "false"
                },
                {
                  "0": "14",
                  "1": "1981",
                  "2": "144.0",
                  "3": "false",
                  "4": "false"
                },
                {
                  "0": "14",
                  "1": "1982",
                  "2": "143.899993896484",
                  "3": "false",
                  "4": "false"
                },
                {
                  "0": "14",
                  "1": "1983",
                  "2": "133.699996948242",
                  "3": "false",
                  "4": "false"
                },
                {
                  "0": "14",
                  "1": "1984",
                  "2": "128.899993896484",
                  "3": "false",
                  "4": "false"
                },
                {
                  "0": "14",
                  "1": "1985",
                  "2": "125.0",
                  "3": "false",
                  "4": "false"
                },
                {
                  "0": "14",
                  "1": "1986",
                  "2": "121.199996948242",
                  "3": "false",
                  "4": "false"
                },
                {
                  "0": "14",
                  "1": "1987",
                  "2": "116.5",
                  "3": "false",
                  "4": "false"
                },
                {
                  "0": "14",
                  "1": "1988",
                  "2": "110.900001525879",
                  "3": "false",
                  "4": "false"
                },
                {
                  "0": "14",
                  "1": "1989",
                  "2": "103.599998474121",
                  "3": "false",
                  "4": "true"
                },
                {
                  "0": "14",
                  "1": "1990",
                  "2": "101.5",
                  "3": "false",
                  "4": "true"
                },
                {
                  "0": "14",
                  "1": "1991",
                  "2": "107.199996948242",
                  "3": "false",
                  "4": "true"
                },
                {
                  "0": "14",
                  "1": "1992",
                  "2": "108.5",
                  "3": "false",
                  "4": "true"
                },
                {
                  "0": "14",
                  "1": "1993",
                  "2": "106.199996948242",
                  "3": "false",
                  "4": "true"
                },
                {
                  "0": "14",
                  "1": "1994",
                  "2": "105.300003051758",
                  "3": "false",
                  "4": "true"
                },
                {
                  "0": "14",
                  "1": "1995",
                  "2": "105.699996948242",
                  "3": "false",
                  "4": "true"
                },
                {
                  "0": "14",
                  "1": "1996",
                  "2": "106.800003051758",
                  "3": "false",
                  "4": "true"
                },
                {
                  "0": "14",
                  "1": "1997",
                  "2": "105.300003051758",
                  "3": "false",
                  "4": "true"
                },
                {
                  "0": "14",
                  "1": "1998",
                  "2": "103.199996948242",
                  "3": "false",
                  "4": "true"
                },
                {
                  "0": "14",
                  "1": "1999",
                  "2": "101.0",
                  "3": "false",
                  "4": "true"
                },
                {
                  "0": "14",
                  "1": "2000",
                  "2": "104.300003051758",
                  "3": "false",
                  "4": "true"
                },
                {
                  "0": "15",
                  "1": "1970",
                  "2": "128.5",
                  "3": "false",
                  "4": "false"
                },
                {
                  "0": "15",
                  "1": "1971",
                  "2": "133.199996948242",
                  "3": "false",
                  "4": "false"
                },
                {
                  "0": "15",
                  "1": "1972",
                  "2": "136.5",
                  "3": "false",
                  "4": "false"
                },
                {
                  "0": "15",
                  "1": "1973",
                  "2": "138.0",
                  "3": "false",
                  "4": "false"
                },
                {
                  "0": "15",
                  "1": "1974",
                  "2": "142.100006103516",
                  "3": "false",
                  "4": "false"
                },
                {
                  "0": "15",
                  "1": "1975",
                  "2": "140.699996948242",
                  "3": "false",
                  "4": "false"
                },
                {
                  "0": "15",
                  "1": "1976",
                  "2": "144.899993896484",
                  "3": "false",
                  "4": "false"
                },
                {
                  "0": "15",
                  "1": "1977",
                  "2": "145.600006103516",
                  "3": "false",
                  "4": "false"
                },
                {
                  "0": "15",
                  "1": "1978",
                  "2": "143.899993896484",
                  "3": "false",
                  "4": "false"
                },
                {
                  "0": "15",
                  "1": "1979",
                  "2": "138.5",
                  "3": "false",
                  "4": "false"
                },
                {
                  "0": "15",
                  "1": "1980",
                  "2": "141.199996948242",
                  "3": "false",
                  "4": "false"
                },
                {
                  "0": "15",
                  "1": "1981",
                  "2": "138.899993896484",
                  "3": "false",
                  "4": "false"
                },
                {
                  "0": "15",
                  "1": "1982",
                  "2": "139.5",
                  "3": "false",
                  "4": "false"
                },
                {
                  "0": "15",
                  "1": "1983",
                  "2": "135.399993896484",
                  "3": "false",
                  "4": "false"
                },
                {
                  "0": "15",
                  "1": "1984",
                  "2": "135.5",
                  "3": "false",
                  "4": "false"
                },
                {
                  "0": "15",
                  "1": "1985",
                  "2": "127.900001525879",
                  "3": "false",
                  "4": "false"
                },
                {
                  "0": "15",
                  "1": "1986",
                  "2": "119.0",
                  "3": "false",
                  "4": "false"
                },
                {
                  "0": "15",
                  "1": "1987",
                  "2": "125.0",
                  "3": "false",
                  "4": "false"
                },
                {
                  "0": "15",
                  "1": "1988",
                  "2": "125.0",
                  "3": "false",
                  "4": "false"
                },
                {
                  "0": "15",
                  "1": "1989",
                  "2": "122.400001525879",
                  "3": "false",
                  "4": "true"
                },
                {
                  "0": "15",
                  "1": "1990",
                  "2": "117.5",
                  "3": "false",
                  "4": "true"
                },
                {
                  "0": "15",
                  "1": "1991",
                  "2": "116.099998474121",
                  "3": "false",
                  "4": "true"
                },
                {
                  "0": "15",
                  "1": "1992",
                  "2": "114.5",
                  "3": "false",
                  "4": "true"
                },
                {
                  "0": "15",
                  "1": "1993",
                  "2": "108.5",
                  "3": "false",
                  "4": "true"
                },
                {
                  "0": "15",
                  "1": "1994",
                  "2": "101.599998474121",
                  "3": "false",
                  "4": "true"
                },
                {
                  "0": "15",
                  "1": "1995",
                  "2": "102.300003051758",
                  "3": "false",
                  "4": "true"
                },
                {
                  "0": "15",
                  "1": "1996",
                  "2": "100.0",
                  "3": "false",
                  "4": "true"
                },
                {
                  "0": "15",
                  "1": "1997",
                  "2": "101.099998474121",
                  "3": "false",
                  "4": "true"
                },
                {
                  "0": "15",
                  "1": "1998",
                  "2": "94.5",
                  "3": "false",
                  "4": "true"
                },
                {
                  "0": "15",
                  "1": "1999",
                  "2": "85.5",
                  "3": "false",
                  "4": "true"
                },
                {
                  "0": "15",
                  "1": "2000",
                  "2": "82.9000015258789",
                  "3": "false",
                  "4": "true"
                },
                {
                  "0": "16",
                  "1": "1970",
                  "2": "104.300003051758",
                  "3": "false",
                  "4": "false"
                },
                {
                  "0": "16",
                  "1": "1971",
                  "2": "116.400001525879",
                  "3": "false",
                  "4": "false"
                },
                {
                  "0": "16",
                  "1": "1972",
                  "2": "96.8000030517578",
                  "3": "false",
                  "4": "false"
                },
                {
                  "0": "16",
                  "1": "1973",
                  "2": "106.800003051758",
                  "3": "false",
                  "4": "false"
                },
                {
                  "0": "16",
                  "1": "1974",
                  "2": "110.599998474121",
                  "3": "false",
                  "4": "false"
                },
                {
                  "0": "16",
                  "1": "1975",
                  "2": "111.5",
                  "3": "false",
                  "4": "false"
                },
                {
                  "0": "16",
                  "1": "1976",
                  "2": "116.699996948242",
                  "3": "false",
                  "4": "false"
                },
                {
                  "0": "16",
                  "1": "1977",
                  "2": "117.199996948242",
                  "3": "false",
                  "4": "false"
                },
                {
                  "0": "16",
                  "1": "1978",
                  "2": "118.900001525879",
                  "3": "false",
                  "4": "false"
                },
                {
                  "0": "16",
                  "1": "1979",
                  "2": "118.300003051758",
                  "3": "false",
                  "4": "false"
                },
                {
                  "0": "16",
                  "1": "1980",
                  "2": "117.699996948242",
                  "3": "false",
                  "4": "false"
                },
                {
                  "0": "16",
                  "1": "1981",
                  "2": "120.800003051758",
                  "3": "false",
                  "4": "false"
                },
                {
                  "0": "16",
                  "1": "1982",
                  "2": "119.400001525879",
                  "3": "false",
                  "4": "false"
                },
                {
                  "0": "16",
                  "1": "1983",
                  "2": "113.199996948242",
                  "3": "false",
                  "4": "false"
                },
                {
                  "0": "16",
                  "1": "1984",
                  "2": "110.800003051758",
                  "3": "false",
                  "4": "false"
                },
                {
                  "0": "16",
                  "1": "1985",
                  "2": "113.0",
                  "3": "false",
                  "4": "false"
                },
                {
                  "0": "16",
                  "1": "1986",
                  "2": "104.300003051758",
                  "3": "false",
                  "4": "false"
                },
                {
                  "0": "16",
                  "1": "1987",
                  "2": "108.800003051758",
                  "3": "false",
                  "4": "false"
                },
                {
                  "0": "16",
                  "1": "1988",
                  "2": "94.0999984741211",
                  "3": "false",
                  "4": "false"
                },
                {
                  "0": "16",
                  "1": "1989",
                  "2": "92.3000030517578",
                  "3": "false",
                  "4": "true"
                },
                {
                  "0": "16",
                  "1": "1990",
                  "2": "90.6999969482422",
                  "3": "false",
                  "4": "true"
                },
                {
                  "0": "16",
                  "1": "1991",
                  "2": "86.1999969482422",
                  "3": "false",
                  "4": "true"
                },
                {
                  "0": "16",
                  "1": "1992",
                  "2": "83.8000030517578",
                  "3": "false",
                  "4": "true"
                },
                {
                  "0": "16",
                  "1": "1993",
                  "2": "81.5999984741211",
                  "3": "false",
                  "4": "true"
                },
                {
                  "0": "16",
                  "1": "1994",
                  "2": "83.4000015258789",
                  "3": "false",
                  "4": "true"
                },
                {
                  "0": "16",
                  "1": "1995",
                  "2": "84.0999984741211",
                  "3": "false",
                  "4": "true"
                },
                {
                  "0": "16",
                  "1": "1996",
                  "2": "81.6999969482422",
                  "3": "false",
                  "4": "true"
                },
                {
                  "0": "16",
                  "1": "1997",
                  "2": "84.0999984741211",
                  "3": "false",
                  "4": "true"
                },
                {
                  "0": "16",
                  "1": "1998",
                  "2": "83.1999969482422",
                  "3": "false",
                  "4": "true"
                },
                {
                  "0": "16",
                  "1": "1999",
                  "2": "80.6999969482422",
                  "3": "false",
                  "4": "true"
                },
                {
                  "0": "16",
                  "1": "2000",
                  "2": "76.0",
                  "3": "false",
                  "4": "true"
                },
                {
                  "0": "17",
                  "1": "1970",
                  "2": "93.4000015258789",
                  "3": "false",
                  "4": "false"
                },
                {
                  "0": "17",
                  "1": "1971",
                  "2": "105.400001525879",
                  "3": "false",
                  "4": "false"
                },
                {
                  "0": "17",
                  "1": "1972",
                  "2": "112.099998474121",
                  "3": "false",
                  "4": "false"
                },
                {
                  "0": "17",
                  "1": "1973",
                  "2": "115.0",
                  "3": "false",
                  "4": "false"
                },
                {
                  "0": "17",
                  "1": "1974",
                  "2": "117.099998474121",
                  "3": "false",
                  "4": "false"
                },
                {
                  "0": "17",
                  "1": "1975",
                  "2": "116.800003051758",
                  "3": "false",
                  "4": "false"
                },
                {
                  "0": "17",
                  "1": "1976",
                  "2": "120.900001525879",
                  "3": "false",
                  "4": "false"
                },
                {
                  "0": "17",
                  "1": "1977",
                  "2": "122.099998474121",
                  "3": "false",
                  "4": "false"
                },
                {
                  "0": "17",
                  "1": "1978",
                  "2": "124.900001525879",
                  "3": "false",
                  "4": "false"
                },
                {
                  "0": "17",
                  "1": "1979",
                  "2": "123.900001525879",
                  "3": "false",
                  "4": "false"
                },
                {
                  "0": "17",
                  "1": "1980",
                  "2": "127.0",
                  "3": "false",
                  "4": "false"
                },
                {
                  "0": "17",
                  "1": "1981",
                  "2": "125.300003051758",
                  "3": "false",
                  "4": "false"
                },
                {
                  "0": "17",
                  "1": "1982",
                  "2": "125.800003051758",
                  "3": "false",
                  "4": "false"
                },
                {
                  "0": "17",
                  "1": "1983",
                  "2": "122.300003051758",
                  "3": "false",
                  "4": "false"
                },
                {
                  "0": "17",
                  "1": "1984",
                  "2": "116.400001525879",
                  "3": "false",
                  "4": "false"
                },
                {
                  "0": "17",
                  "1": "1985",
                  "2": "115.300003051758",
                  "3": "false",
                  "4": "false"
                },
                {
                  "0": "17",
                  "1": "1986",
                  "2": "113.199996948242",
                  "3": "false",
                  "4": "false"
                },
                {
                  "0": "17",
                  "1": "1987",
                  "2": "110.0",
                  "3": "false",
                  "4": "false"
                },
                {
                  "0": "17",
                  "1": "1988",
                  "2": "109.0",
                  "3": "false",
                  "4": "false"
                },
                {
                  "0": "17",
                  "1": "1989",
                  "2": "108.300003051758",
                  "3": "false",
                  "4": "true"
                },
                {
                  "0": "17",
                  "1": "1990",
                  "2": "101.800003051758",
                  "3": "false",
                  "4": "true"
                },
                {
                  "0": "17",
                  "1": "1991",
                  "2": "105.599998474121",
                  "3": "false",
                  "4": "true"
                },
                {
                  "0": "17",
                  "1": "1992",
                  "2": "103.900001525879",
                  "3": "false",
                  "4": "true"
                },
                {
                  "0": "17",
                  "1": "1993",
                  "2": "105.400001525879",
                  "3": "false",
                  "4": "true"
                },
                {
                  "0": "17",
                  "1": "1994",
                  "2": "106.0",
                  "3": "false",
                  "4": "true"
                },
                {
                  "0": "17",
                  "1": "1995",
                  "2": "107.5",
                  "3": "false",
                  "4": "true"
                },
                {
                  "0": "17",
                  "1": "1996",
                  "2": "106.900001525879",
                  "3": "false",
                  "4": "true"
                },
                {
                  "0": "17",
                  "1": "1997",
                  "2": "106.300003051758",
                  "3": "false",
                  "4": "true"
                },
                {
                  "0": "17",
                  "1": "1998",
                  "2": "107.0",
                  "3": "false",
                  "4": "true"
                },
                {
                  "0": "17",
                  "1": "1999",
                  "2": "103.900001525879",
                  "3": "false",
                  "4": "true"
                },
                {
                  "0": "17",
                  "1": "2000",
                  "2": "97.1999969482422",
                  "3": "false",
                  "4": "true"
                },
                {
                  "0": "18",
                  "1": "1970",
                  "2": "121.300003051758",
                  "3": "false",
                  "4": "false"
                },
                {
                  "0": "18",
                  "1": "1971",
                  "2": "127.599998474121",
                  "3": "false",
                  "4": "false"
                },
                {
                  "0": "18",
                  "1": "1972",
                  "2": "130.0",
                  "3": "false",
                  "4": "false"
                },
                {
                  "0": "18",
                  "1": "1973",
                  "2": "132.100006103516",
                  "3": "false",
                  "4": "false"
                },
                {
                  "0": "18",
                  "1": "1974",
                  "2": "135.399993896484",
                  "3": "false",
                  "4": "false"
                },
                {
                  "0": "18",
                  "1": "1975",
                  "2": "135.600006103516",
                  "3": "false",
                  "4": "false"
                },
                {
                  "0": "18",
                  "1": "1976",
                  "2": "139.5",
                  "3": "false",
                  "4": "false"
                },
                {
                  "0": "18",
                  "1": "1977",
                  "2": "140.800003051758",
                  "3": "false",
                  "4": "false"
                },
                {
                  "0": "18",
                  "1": "1978",
                  "2": "141.800003051758",
                  "3": "false",
                  "4": "false"
                },
                {
                  "0": "18",
                  "1": "1979",
                  "2": "140.199996948242",
                  "3": "false",
                  "4": "false"
                },
                {
                  "0": "18",
                  "1": "1980",
                  "2": "142.100006103516",
                  "3": "false",
                  "4": "false"
                },
                {
                  "0": "18",
                  "1": "1981",
                  "2": "140.5",
                  "3": "false",
                  "4": "false"
                },
                {
                  "0": "18",
                  "1": "1982",
                  "2": "139.699996948242",
                  "3": "false",
                  "4": "false"
                },
                {
                  "0": "18",
                  "1": "1983",
                  "2": "134.100006103516",
                  "3": "false",
                  "4": "false"
                },
                {
                  "0": "18",
                  "1": "1984",
                  "2": "130.0",
                  "3": "false",
                  "4": "false"
                },
                {
                  "0": "18",
                  "1": "1985",
                  "2": "129.199996948242",
                  "3": "false",
                  "4": "false"
                },
                {
                  "0": "18",
                  "1": "1986",
                  "2": "128.800003051758",
                  "3": "false",
                  "4": "false"
                },
                {
                  "0": "18",
                  "1": "1987",
                  "2": "128.699996948242",
                  "3": "false",
                  "4": "false"
                },
                {
                  "0": "18",
                  "1": "1988",
                  "2": "127.400001525879",
                  "3": "false",
                  "4": "false"
                },
                {
                  "0": "18",
                  "1": "1989",
                  "2": "122.800003051758",
                  "3": "false",
                  "4": "true"
                },
                {
                  "0": "18",
                  "1": "1990",
                  "2": "119.099998474121",
                  "3": "false",
                  "4": "true"
                },
                {
                  "0": "18",
                  "1": "1991",
                  "2": "119.900001525879",
                  "3": "false",
                  "4": "true"
                },
                {
                  "0": "18",
                  "1": "1992",
                  "2": "122.300003051758",
                  "3": "false",
                  "4": "true"
                },
                {
                  "0": "18",
                  "1": "1993",
                  "2": "121.599998474121",
                  "3": "false",
                  "4": "true"
                },
                {
                  "0": "18",
                  "1": "1994",
                  "2": "119.400001525879",
                  "3": "false",
                  "4": "true"
                },
                {
                  "0": "18",
                  "1": "1995",
                  "2": "124.0",
                  "3": "false",
                  "4": "true"
                },
                {
                  "0": "18",
                  "1": "1996",
                  "2": "124.099998474121",
                  "3": "false",
                  "4": "true"
                },
                {
                  "0": "18",
                  "1": "1997",
                  "2": "120.599998474121",
                  "3": "false",
                  "4": "true"
                },
                {
                  "0": "18",
                  "1": "1998",
                  "2": "120.099998474121",
                  "3": "false",
                  "4": "true"
                },
                {
                  "0": "18",
                  "1": "1999",
                  "2": "118.0",
                  "3": "false",
                  "4": "true"
                },
                {
                  "0": "18",
                  "1": "2000",
                  "2": "113.800003051758",
                  "3": "false",
                  "4": "true"
                },
                {
                  "0": "19",
                  "1": "1970",
                  "2": "111.199996948242",
                  "3": "false",
                  "4": "false"
                },
                {
                  "0": "19",
                  "1": "1971",
                  "2": "115.599998474121",
                  "3": "false",
                  "4": "false"
                },
                {
                  "0": "19",
                  "1": "1972",
                  "2": "122.199996948242",
                  "3": "false",
                  "4": "false"
                },
                {
                  "0": "19",
                  "1": "1973",
                  "2": "119.900001525879",
                  "3": "false",
                  "4": "false"
                },
                {
                  "0": "19",
                  "1": "1974",
                  "2": "121.900001525879",
                  "3": "false",
                  "4": "false"
                },
                {
                  "0": "19",
                  "1": "1975",
                  "2": "123.699996948242",
                  "3": "false",
                  "4": "false"
                },
                {
                  "0": "19",
                  "1": "1976",
                  "2": "124.900001525879",
                  "3": "false",
                  "4": "false"
                },
                {
                  "0": "19",
                  "1": "1977",
                  "2": "127.0",
                  "3": "false",
                  "4": "false"
                },
                {
                  "0": "19",
                  "1": "1978",
                  "2": "127.199996948242",
                  "3": "false",
                  "4": "false"
                },
                {
                  "0": "19",
                  "1": "1979",
                  "2": "120.300003051758",
                  "3": "false",
                  "4": "false"
                },
                {
                  "0": "19",
                  "1": "1980",
                  "2": "122.0",
                  "3": "false",
                  "4": "false"
                },
                {
                  "0": "19",
                  "1": "1981",
                  "2": "121.099998474121",
                  "3": "false",
                  "4": "false"
                },
                {
                  "0": "19",
                  "1": "1982",
                  "2": "122.400001525879",
                  "3": "false",
                  "4": "false"
                },
                {
                  "0": "19",
                  "1": "1983",
                  "2": "113.699996948242",
                  "3": "false",
                  "4": "false"
                },
                {
                  "0": "19",
                  "1": "1984",
                  "2": "110.099998474121",
                  "3": "false",
                  "4": "false"
                },
                {
                  "0": "19",
                  "1": "1985",
                  "2": "103.599998474121",
                  "3": "false",
                  "4": "false"
                },
                {
                  "0": "19",
                  "1": "1986",
                  "2": "97.8000030517578",
                  "3": "false",
                  "4": "false"
                },
                {
                  "0": "19",
                  "1": "1987",
                  "2": "91.6999969482422",
                  "3": "false",
                  "4": "false"
                },
                {
                  "0": "19",
                  "1": "1988",
                  "2": "87.0999984741211",
                  "3": "false",
                  "4": "false"
                },
                {
                  "0": "19",
                  "1": "1989",
                  "2": "86.1999969482422",
                  "3": "false",
                  "4": "true"
                },
                {
                  "0": "19",
                  "1": "1990",
                  "2": "84.6999969482422",
                  "3": "false",
                  "4": "true"
                },
                {
                  "0": "19",
                  "1": "1991",
                  "2": "82.9000015258789",
                  "3": "false",
                  "4": "true"
                },
                {
                  "0": "19",
                  "1": "1992",
                  "2": "86.5999984741211",
                  "3": "false",
                  "4": "true"
                },
                {
                  "0": "19",
                  "1": "1993",
                  "2": "86.0",
                  "3": "false",
                  "4": "true"
                },
                {
                  "0": "19",
                  "1": "1994",
                  "2": "88.1999969482422",
                  "3": "false",
                  "4": "true"
                },
                {
                  "0": "19",
                  "1": "1995",
                  "2": "90.5",
                  "3": "false",
                  "4": "true"
                },
                {
                  "0": "19",
                  "1": "1996",
                  "2": "87.3000030517578",
                  "3": "false",
                  "4": "true"
                },
                {
                  "0": "19",
                  "1": "1997",
                  "2": "88.9000015258789",
                  "3": "false",
                  "4": "true"
                },
                {
                  "0": "19",
                  "1": "1998",
                  "2": "89.0999984741211",
                  "3": "false",
                  "4": "true"
                },
                {
                  "0": "19",
                  "1": "1999",
                  "2": "82.5999984741211",
                  "3": "false",
                  "4": "true"
                },
                {
                  "0": "19",
                  "1": "2000",
                  "2": "75.5",
                  "3": "false",
                  "4": "true"
                },
                {
                  "0": "20",
                  "1": "1970",
                  "2": "108.099998474121",
                  "3": "false",
                  "4": "false"
                },
                {
                  "0": "20",
                  "1": "1971",
                  "2": "108.599998474121",
                  "3": "false",
                  "4": "false"
                },
                {
                  "0": "20",
                  "1": "1972",
                  "2": "104.900001525879",
                  "3": "false",
                  "4": "false"
                },
                {
                  "0": "20",
                  "1": "1973",
                  "2": "106.599998474121",
                  "3": "false",
                  "4": "false"
                },
                {
                  "0": "20",
                  "1": "1974",
                  "2": "110.5",
                  "3": "false",
                  "4": "false"
                },
                {
                  "0": "20",
                  "1": "1975",
                  "2": "114.099998474121",
                  "3": "false",
                  "4": "false"
                },
                {
                  "0": "20",
                  "1": "1976",
                  "2": "118.099998474121",
                  "3": "false",
                  "4": "false"
                },
                {
                  "0": "20",
                  "1": "1977",
                  "2": "117.699996948242",
                  "3": "false",
                  "4": "false"
                },
                {
                  "0": "20",
                  "1": "1978",
                  "2": "117.400001525879",
                  "3": "false",
                  "4": "false"
                },
                {
                  "0": "20",
                  "1": "1979",
                  "2": "116.099998474121",
                  "3": "false",
                  "4": "false"
                },
                {
                  "0": "20",
                  "1": "1980",
                  "2": "116.300003051758",
                  "3": "false",
                  "4": "false"
                },
                {
                  "0": "20",
                  "1": "1981",
                  "2": "117.0",
                  "3": "false",
                  "4": "false"
                },
                {
                  "0": "20",
                  "1": "1982",
                  "2": "117.099998474121",
                  "3": "false",
                  "4": "false"
                },
                {
                  "0": "20",
                  "1": "1983",
                  "2": "110.800003051758",
                  "3": "false",
                  "4": "false"
                },
                {
                  "0": "20",
                  "1": "1984",
                  "2": "107.699996948242",
                  "3": "false",
                  "4": "false"
                },
                {
                  "0": "20",
                  "1": "1985",
                  "2": "105.099998474121",
                  "3": "false",
                  "4": "false"
                },
                {
                  "0": "20",
                  "1": "1986",
                  "2": "103.099998474121",
                  "3": "false",
                  "4": "false"
                },
                {
                  "0": "20",
                  "1": "1987",
                  "2": "101.300003051758",
                  "3": "false",
                  "4": "false"
                },
                {
                  "0": "20",
                  "1": "1988",
                  "2": "92.9000015258789",
                  "3": "false",
                  "4": "false"
                },
                {
                  "0": "20",
                  "1": "1989",
                  "2": "93.8000030517578",
                  "3": "false",
                  "4": "true"
                },
                {
                  "0": "20",
                  "1": "1990",
                  "2": "89.9000015258789",
                  "3": "false",
                  "4": "true"
                },
                {
                  "0": "20",
                  "1": "1991",
                  "2": "92.4000015258789",
                  "3": "false",
                  "4": "true"
                },
                {
                  "0": "20",
                  "1": "1992",
                  "2": "90.5999984741211",
                  "3": "false",
                  "4": "true"
                },
                {
                  "0": "20",
                  "1": "1993",
                  "2": "91.0999984741211",
                  "3": "false",
                  "4": "true"
                },
                {
                  "0": "20",
                  "1": "1994",
                  "2": "85.9000015258789",
                  "3": "false",
                  "4": "true"
                },
                {
                  "0": "20",
                  "1": "1995",
                  "2": "88.5",
                  "3": "false",
                  "4": "true"
                },
                {
                  "0": "20",
                  "1": "1996",
                  "2": "86.1999969482422",
                  "3": "false",
                  "4": "true"
                },
                {
                  "0": "20",
                  "1": "1997",
                  "2": "85.5",
                  "3": "false",
                  "4": "true"
                },
                {
                  "0": "20",
                  "1": "1998",
                  "2": "83.0999984741211",
                  "3": "false",
                  "4": "true"
                },
                {
                  "0": "20",
                  "1": "1999",
                  "2": "86.5999984741211",
                  "3": "false",
                  "4": "true"
                },
                {
                  "0": "20",
                  "1": "2000",
                  "2": "77.5999984741211",
                  "3": "false",
                  "4": "true"
                },
                {
                  "0": "21",
                  "1": "1970",
                  "2": "189.5",
                  "3": "false",
                  "4": "false"
                },
                {
                  "0": "21",
                  "1": "1971",
                  "2": "190.5",
                  "3": "false",
                  "4": "false"
                },
                {
                  "0": "21",
                  "1": "1972",
                  "2": "198.600006103516",
                  "3": "false",
                  "4": "false"
                },
                {
                  "0": "21",
                  "1": "1973",
                  "2": "201.5",
                  "3": "false",
                  "4": "false"
                },
                {
                  "0": "21",
                  "1": "1974",
                  "2": "204.699996948242",
                  "3": "false",
                  "4": "false"
                },
                {
                  "0": "21",
                  "1": "1975",
                  "2": "205.199996948242",
                  "3": "false",
                  "4": "false"
                },
                {
                  "0": "21",
                  "1": "1976",
                  "2": "201.399993896484",
                  "3": "false",
                  "4": "false"
                },
                {
                  "0": "21",
                  "1": "1977",
                  "2": "190.800003051758",
                  "3": "false",
                  "4": "false"
                },
                {
                  "0": "21",
                  "1": "1978",
                  "2": "187.0",
                  "3": "false",
                  "4": "false"
                },
                {
                  "0": "21",
                  "1": "1979",
                  "2": "183.300003051758",
                  "3": "false",
                  "4": "false"
                },
                {
                  "0": "21",
                  "1": "1980",
                  "2": "177.699996948242",
                  "3": "false",
                  "4": "false"
                },
                {
                  "0": "21",
                  "1": "1981",
                  "2": "171.899993896484",
                  "3": "false",
                  "4": "false"
                },
                {
                  "0": "21",
                  "1": "1982",
                  "2": "165.100006103516",
                  "3": "false",
                  "4": "false"
                },
                {
                  "0": "21",
                  "1": "1983",
                  "2": "159.199996948242",
                  "3": "false",
                  "4": "false"
                },
                {
                  "0": "21",
                  "1": "1984",
                  "2": "136.600006103516",
                  "3": "false",
                  "4": "false"
                },
                {
                  "0": "21",
                  "1": "1985",
                  "2": "146.699996948242",
                  "3": "false",
                  "4": "false"
                },
                {
                  "0": "21",
                  "1": "1986",
                  "2": "142.600006103516",
                  "3": "false",
                  "4": "false"
                },
                {
                  "0": "21",
                  "1": "1987",
                  "2": "147.699996948242",
                  "3": "false",
                  "4": "false"
                },
                {
                  "0": "21",
                  "1": "1988",
                  "2": "141.899993896484",
                  "3": "false",
                  "4": "false"
                },
                {
                  "0": "21",
                  "1": "1989",
                  "2": "137.899993896484",
                  "3": "false",
                  "4": "true"
                },
                {
                  "0": "21",
                  "1": "1990",
                  "2": "137.300003051758",
                  "3": "false",
                  "4": "true"
                },
                {
                  "0": "21",
                  "1": "1991",
                  "2": "115.5",
                  "3": "false",
                  "4": "true"
                },
                {
                  "0": "21",
                  "1": "1992",
                  "2": "110.0",
                  "3": "false",
                  "4": "true"
                },
                {
                  "0": "21",
                  "1": "1993",
                  "2": "108.099998474121",
                  "3": "false",
                  "4": "true"
                },
                {
                  "0": "21",
                  "1": "1994",
                  "2": "105.199996948242",
                  "3": "false",
                  "4": "true"
                },
                {
                  "0": "21",
                  "1": "1995",
                  "2": "100.900001525879",
                  "3": "false",
                  "4": "true"
                },
                {
                  "0": "21",
                  "1": "1996",
                  "2": "99.0",
                  "3": "false",
                  "4": "true"
                },
                {
                  "0": "21",
                  "1": "1997",
                  "2": "95.5999984741211",
                  "3": "false",
                  "4": "true"
                },
                {
                  "0": "21",
                  "1": "1998",
                  "2": "102.400001525879",
                  "3": "false",
                  "4": "true"
                },
                {
                  "0": "21",
                  "1": "1999",
                  "2": "103.900001525879",
                  "3": "false",
                  "4": "true"
                },
                {
                  "0": "21",
                  "1": "2000",
                  "2": "93.1999969482422",
                  "3": "false",
                  "4": "true"
                },
                {
                  "0": "22",
                  "1": "1970",
                  "2": "265.70001220703097",
                  "3": "false",
                  "4": "false"
                },
                {
                  "0": "22",
                  "1": "1971",
                  "2": "278.0",
                  "3": "false",
                  "4": "false"
                },
                {
                  "0": "22",
                  "1": "1972",
                  "2": "296.20001220703097",
                  "3": "false",
                  "4": "false"
                },
                {
                  "0": "22",
                  "1": "1973",
                  "2": "279.0",
                  "3": "false",
                  "4": "false"
                },
                {
                  "0": "22",
                  "1": "1974",
                  "2": "269.79998779296903",
                  "3": "false",
                  "4": "false"
                },
                {
                  "0": "22",
                  "1": "1975",
                  "2": "269.100006103516",
                  "3": "false",
                  "4": "false"
                },
                {
                  "0": "22",
                  "1": "1976",
                  "2": "290.5",
                  "3": "false",
                  "4": "false"
                },
                {
                  "0": "22",
                  "1": "1977",
                  "2": "278.79998779296903",
                  "3": "false",
                  "4": "false"
                },
                {
                  "0": "22",
                  "1": "1978",
                  "2": "269.600006103516",
                  "3": "false",
                  "4": "false"
                },
                {
                  "0": "22",
                  "1": "1979",
                  "2": "254.600006103516",
                  "3": "false",
                  "4": "false"
                },
                {
                  "0": "22",
                  "1": "1980",
                  "2": "247.800003051758",
                  "3": "false",
                  "4": "false"
                },
                {
                  "0": "22",
                  "1": "1981",
                  "2": "245.399993896484",
                  "3": "false",
                  "4": "false"
                },
                {
                  "0": "22",
                  "1": "1982",
                  "2": "239.800003051758",
                  "3": "false",
                  "4": "false"
                },
                {
                  "0": "22",
                  "1": "1983",
                  "2": "232.899993896484",
                  "3": "false",
                  "4": "false"
                },
                {
                  "0": "22",
                  "1": "1984",
                  "2": "215.100006103516",
                  "3": "false",
                  "4": "false"
                },
                {
                  "0": "22",
                  "1": "1985",
                  "2": "201.100006103516",
                  "3": "false",
                  "4": "false"
                },
                {
                  "0": "22",
                  "1": "1986",
                  "2": "195.899993896484",
                  "3": "false",
                  "4": "false"
                },
                {
                  "0": "22",
                  "1": "1987",
                  "2": "195.100006103516",
                  "3": "false",
                  "4": "false"
                },
                {
                  "0": "22",
                  "1": "1988",
                  "2": "180.399993896484",
                  "3": "false",
                  "4": "false"
                },
                {
                  "0": "22",
                  "1": "1989",
                  "2": "172.899993896484",
                  "3": "false",
                  "4": "true"
                },
                {
                  "0": "22",
                  "1": "1990",
                  "2": "152.399993896484",
                  "3": "false",
                  "4": "true"
                },
                {
                  "0": "22",
                  "1": "1991",
                  "2": "144.800003051758",
                  "3": "false",
                  "4": "true"
                },
                {
                  "0": "22",
                  "1": "1992",
                  "2": "143.699996948242",
                  "3": "false",
                  "4": "true"
                },
                {
                  "0": "22",
                  "1": "1993",
                  "2": "148.899993896484",
                  "3": "false",
                  "4": "true"
                },
                {
                  "0": "22",
                  "1": "1994",
                  "2": "153.800003051758",
                  "3": "false",
                  "4": "true"
                },
                {
                  "0": "22",
                  "1": "1995",
                  "2": "158.5",
                  "3": "false",
                  "4": "true"
                },
                {
                  "0": "22",
                  "1": "1996",
                  "2": "158.0",
                  "3": "false",
                  "4": "true"
                },
                {
                  "0": "22",
                  "1": "1997",
                  "2": "174.399993896484",
                  "3": "false",
                  "4": "true"
                },
                {
                  "0": "22",
                  "1": "1998",
                  "2": "173.800003051758",
                  "3": "false",
                  "4": "true"
                },
                {
                  "0": "22",
                  "1": "1999",
                  "2": "171.699996948242",
                  "3": "false",
                  "4": "true"
                },
                {
                  "0": "22",
                  "1": "2000",
                  "2": "147.300003051758",
                  "3": "false",
                  "4": "true"
                },
                {
                  "0": "23",
                  "1": "1970",
                  "2": "90.0",
                  "3": "false",
                  "4": "false"
                },
                {
                  "0": "23",
                  "1": "1971",
                  "2": "92.5999984741211",
                  "3": "false",
                  "4": "false"
                },
                {
                  "0": "23",
                  "1": "1972",
                  "2": "99.3000030517578",
                  "3": "false",
                  "4": "false"
                },
                {
                  "0": "23",
                  "1": "1973",
                  "2": "98.9000015258789",
                  "3": "false",
                  "4": "false"
                },
                {
                  "0": "23",
                  "1": "1974",
                  "2": "100.300003051758",
                  "3": "false",
                  "4": "false"
                },
                {
                  "0": "23",
                  "1": "1975",
                  "2": "103.099998474121",
                  "3": "false",
                  "4": "false"
                },
                {
                  "0": "23",
                  "1": "1976",
                  "2": "102.400001525879",
                  "3": "false",
                  "4": "false"
                },
                {
                  "0": "23",
                  "1": "1977",
                  "2": "102.400001525879",
                  "3": "false",
                  "4": "false"
                },
                {
                  "0": "23",
                  "1": "1978",
                  "2": "103.099998474121",
                  "3": "false",
                  "4": "false"
                },
                {
                  "0": "23",
                  "1": "1979",
                  "2": "101.0",
                  "3": "false",
                  "4": "false"
                },
                {
                  "0": "23",
                  "1": "1980",
                  "2": "102.699996948242",
                  "3": "false",
                  "4": "false"
                },
                {
                  "0": "23",
                  "1": "1981",
                  "2": "103.0",
                  "3": "false",
                  "4": "false"
                },
                {
                  "0": "23",
                  "1": "1982",
                  "2": "97.5",
                  "3": "false",
                  "4": "false"
                },
                {
                  "0": "23",
                  "1": "1983",
                  "2": "96.3000030517578",
                  "3": "false",
                  "4": "false"
                },
                {
                  "0": "23",
                  "1": "1984",
                  "2": "88.9000015258789",
                  "3": "false",
                  "4": "false"
                },
                {
                  "0": "23",
                  "1": "1985",
                  "2": "88.0",
                  "3": "false",
                  "4": "false"
                },
                {
                  "0": "23",
                  "1": "1986",
                  "2": "88.1999969482422",
                  "3": "false",
                  "4": "false"
                },
                {
                  "0": "23",
                  "1": "1987",
                  "2": "82.3000030517578",
                  "3": "false",
                  "4": "false"
                },
                {
                  "0": "23",
                  "1": "1988",
                  "2": "77.6999969482422",
                  "3": "false",
                  "4": "false"
                },
                {
                  "0": "23",
                  "1": "1989",
                  "2": "74.4000015258789",
                  "3": "false",
                  "4": "true"
                },
                {
                  "0": "23",
                  "1": "1990",
                  "2": "70.8000030517578",
                  "3": "false",
                  "4": "true"
                },
                {
                  "0": "23",
                  "1": "1991",
                  "2": "69.90000152587889",
                  "3": "false",
                  "4": "true"
                },
                {
                  "0": "23",
                  "1": "1992",
                  "2": "71.4000015258789",
                  "3": "false",
                  "4": "true"
                },
                {
                  "0": "23",
                  "1": "1993",
                  "2": "69.0",
                  "3": "false",
                  "4": "true"
                },
                {
                  "0": "23",
                  "1": "1994",
                  "2": "68.1999969482422",
                  "3": "false",
                  "4": "true"
                },
                {
                  "0": "23",
                  "1": "1995",
                  "2": "67.0",
                  "3": "false",
                  "4": "true"
                },
                {
                  "0": "23",
                  "1": "1996",
                  "2": "65.6999969482422",
                  "3": "false",
                  "4": "true"
                },
                {
                  "0": "23",
                  "1": "1997",
                  "2": "61.7999992370605",
                  "3": "false",
                  "4": "true"
                },
                {
                  "0": "23",
                  "1": "1998",
                  "2": "62.5999984741211",
                  "3": "false",
                  "4": "true"
                },
                {
                  "0": "23",
                  "1": "1999",
                  "2": "59.7000007629395",
                  "3": "false",
                  "4": "true"
                },
                {
                  "0": "23",
                  "1": "2000",
                  "2": "53.7999992370605",
                  "3": "false",
                  "4": "true"
                },
                {
                  "0": "24",
                  "1": "1970",
                  "2": "172.399993896484",
                  "3": "false",
                  "4": "false"
                },
                {
                  "0": "24",
                  "1": "1971",
                  "2": "187.600006103516",
                  "3": "false",
                  "4": "false"
                },
                {
                  "0": "24",
                  "1": "1972",
                  "2": "214.100006103516",
                  "3": "false",
                  "4": "false"
                },
                {
                  "0": "24",
                  "1": "1973",
                  "2": "226.5",
                  "3": "false",
                  "4": "false"
                },
                {
                  "0": "24",
                  "1": "1974",
                  "2": "227.300003051758",
                  "3": "false",
                  "4": "false"
                },
                {
                  "0": "24",
                  "1": "1975",
                  "2": "226.0",
                  "3": "false",
                  "4": "false"
                },
                {
                  "0": "24",
                  "1": "1976",
                  "2": "230.199996948242",
                  "3": "false",
                  "4": "false"
                },
                {
                  "0": "24",
                  "1": "1977",
                  "2": "217.0",
                  "3": "false",
                  "4": "false"
                },
                {
                  "0": "24",
                  "1": "1978",
                  "2": "205.5",
                  "3": "false",
                  "4": "false"
                },
                {
                  "0": "24",
                  "1": "1979",
                  "2": "197.300003051758",
                  "3": "false",
                  "4": "false"
                },
                {
                  "0": "24",
                  "1": "1980",
                  "2": "187.800003051758",
                  "3": "false",
                  "4": "false"
                },
                {
                  "0": "24",
                  "1": "1981",
                  "2": "179.300003051758",
                  "3": "false",
                  "4": "false"
                },
                {
                  "0": "24",
                  "1": "1982",
                  "2": "179.0",
                  "3": "false",
                  "4": "false"
                },
                {
                  "0": "24",
                  "1": "1983",
                  "2": "169.800003051758",
                  "3": "false",
                  "4": "false"
                },
                {
                  "0": "24",
                  "1": "1984",
                  "2": "160.600006103516",
                  "3": "false",
                  "4": "false"
                },
                {
                  "0": "24",
                  "1": "1985",
                  "2": "156.300003051758",
                  "3": "false",
                  "4": "false"
                },
                {
                  "0": "24",
                  "1": "1986",
                  "2": "154.399993896484",
                  "3": "false",
                  "4": "false"
                },
                {
                  "0": "24",
                  "1": "1987",
                  "2": "150.5",
                  "3": "false",
                  "4": "false"
                },
                {
                  "0": "24",
                  "1": "1988",
                  "2": "146.0",
                  "3": "false",
                  "4": "false"
                },
                {
                  "0": "24",
                  "1": "1989",
                  "2": "139.300003051758",
                  "3": "false",
                  "4": "true"
                },
                {
                  "0": "24",
                  "1": "1990",
                  "2": "133.699996948242",
                  "3": "false",
                  "4": "true"
                },
                {
                  "0": "24",
                  "1": "1991",
                  "2": "132.699996948242",
                  "3": "false",
                  "4": "true"
                },
                {
                  "0": "24",
                  "1": "1992",
                  "2": "128.899993896484",
                  "3": "false",
                  "4": "true"
                },
                {
                  "0": "24",
                  "1": "1993",
                  "2": "129.699996948242",
                  "3": "false",
                  "4": "true"
                },
                {
                  "0": "24",
                  "1": "1994",
                  "2": "112.699996948242",
                  "3": "false",
                  "4": "true"
                },
                {
                  "0": "24",
                  "1": "1995",
                  "2": "124.900001525879",
                  "3": "false",
                  "4": "true"
                },
                {
                  "0": "24",
                  "1": "1996",
                  "2": "129.699996948242",
                  "3": "false",
                  "4": "true"
                },
                {
                  "0": "24",
                  "1": "1997",
                  "2": "125.599998474121",
                  "3": "false",
                  "4": "true"
                },
                {
                  "0": "24",
                  "1": "1998",
                  "2": "126.0",
                  "3": "false",
                  "4": "true"
                },
                {
                  "0": "24",
                  "1": "1999",
                  "2": "113.099998474121",
                  "3": "false",
                  "4": "true"
                },
                {
                  "0": "24",
                  "1": "2000",
                  "2": "109.0",
                  "3": "false",
                  "4": "true"
                },
                {
                  "0": "25",
                  "1": "1970",
                  "2": "93.8000030517578",
                  "3": "false",
                  "4": "false"
                },
                {
                  "0": "25",
                  "1": "1971",
                  "2": "98.5",
                  "3": "false",
                  "4": "false"
                },
                {
                  "0": "25",
                  "1": "1972",
                  "2": "103.800003051758",
                  "3": "false",
                  "4": "false"
                },
                {
                  "0": "25",
                  "1": "1973",
                  "2": "108.699996948242",
                  "3": "false",
                  "4": "false"
                },
                {
                  "0": "25",
                  "1": "1974",
                  "2": "110.5",
                  "3": "false",
                  "4": "false"
                },
                {
                  "0": "25",
                  "1": "1975",
                  "2": "117.900001525879",
                  "3": "false",
                  "4": "false"
                },
                {
                  "0": "25",
                  "1": "1976",
                  "2": "125.400001525879",
                  "3": "false",
                  "4": "false"
                },
                {
                  "0": "25",
                  "1": "1977",
                  "2": "122.199996948242",
                  "3": "false",
                  "4": "false"
                },
                {
                  "0": "25",
                  "1": "1978",
                  "2": "121.900001525879",
                  "3": "false",
                  "4": "false"
                },
                {
                  "0": "25",
                  "1": "1979",
                  "2": "121.300003051758",
                  "3": "false",
                  "4": "false"
                },
                {
                  "0": "25",
                  "1": "1980",
                  "2": "123.699996948242",
                  "3": "false",
                  "4": "false"
                },
                {
                  "0": "25",
                  "1": "1981",
                  "2": "125.699996948242",
                  "3": "false",
                  "4": "false"
                },
                {
                  "0": "25",
                  "1": "1982",
                  "2": "126.800003051758",
                  "3": "false",
                  "4": "false"
                },
                {
                  "0": "25",
                  "1": "1983",
                  "2": "119.599998474121",
                  "3": "false",
                  "4": "false"
                },
                {
                  "0": "25",
                  "1": "1984",
                  "2": "109.400001525879",
                  "3": "false",
                  "4": "false"
                },
                {
                  "0": "25",
                  "1": "1985",
                  "2": "103.199996948242",
                  "3": "false",
                  "4": "false"
                },
                {
                  "0": "25",
                  "1": "1986",
                  "2": "99.8000030517578",
                  "3": "false",
                  "4": "false"
                },
                {
                  "0": "25",
                  "1": "1987",
                  "2": "92.3000030517578",
                  "3": "false",
                  "4": "false"
                },
                {
                  "0": "25",
                  "1": "1988",
                  "2": "87.0999984741211",
                  "3": "false",
                  "4": "false"
                },
                {
                  "0": "25",
                  "1": "1989",
                  "2": "84.0999984741211",
                  "3": "false",
                  "4": "true"
                },
                {
                  "0": "25",
                  "1": "1990",
                  "2": "77.0999984741211",
                  "3": "false",
                  "4": "true"
                },
                {
                  "0": "25",
                  "1": "1991",
                  "2": "85.1999969482422",
                  "3": "false",
                  "4": "true"
                },
                {
                  "0": "25",
                  "1": "1992",
                  "2": "74.3000030517578",
                  "3": "false",
                  "4": "true"
                },
                {
                  "0": "25",
                  "1": "1993",
                  "2": "83.0",
                  "3": "false",
                  "4": "true"
                },
                {
                  "0": "25",
                  "1": "1994",
                  "2": "81.0",
                  "3": "false",
                  "4": "true"
                },
                {
                  "0": "25",
                  "1": "1995",
                  "2": "80.5999984741211",
                  "3": "false",
                  "4": "true"
                },
                {
                  "0": "25",
                  "1": "1996",
                  "2": "80.8000030517578",
                  "3": "false",
                  "4": "true"
                },
                {
                  "0": "25",
                  "1": "1997",
                  "2": "77.5",
                  "3": "false",
                  "4": "true"
                },
                {
                  "0": "25",
                  "1": "1998",
                  "2": "79.0999984741211",
                  "3": "false",
                  "4": "true"
                },
                {
                  "0": "25",
                  "1": "1999",
                  "2": "74.6999969482422",
                  "3": "false",
                  "4": "true"
                },
                {
                  "0": "25",
                  "1": "2000",
                  "2": "72.5",
                  "3": "false",
                  "4": "true"
                },
                {
                  "0": "26",
                  "1": "1970",
                  "2": "121.599998474121",
                  "3": "false",
                  "4": "false"
                },
                {
                  "0": "26",
                  "1": "1971",
                  "2": "124.599998474121",
                  "3": "false",
                  "4": "false"
                },
                {
                  "0": "26",
                  "1": "1972",
                  "2": "124.400001525879",
                  "3": "false",
                  "4": "false"
                },
                {
                  "0": "26",
                  "1": "1973",
                  "2": "120.5",
                  "3": "false",
                  "4": "false"
                },
                {
                  "0": "26",
                  "1": "1974",
                  "2": "122.099998474121",
                  "3": "false",
                  "4": "false"
                },
                {
                  "0": "26",
                  "1": "1975",
                  "2": "122.5",
                  "3": "false",
                  "4": "false"
                },
                {
                  "0": "26",
                  "1": "1976",
                  "2": "124.599998474121",
                  "3": "false",
                  "4": "false"
                },
                {
                  "0": "26",
                  "1": "1977",
                  "2": "127.300003051758",
                  "3": "false",
                  "4": "false"
                },
                {
                  "0": "26",
                  "1": "1978",
                  "2": "131.300003051758",
                  "3": "false",
                  "4": "false"
                },
                {
                  "0": "26",
                  "1": "1979",
                  "2": "130.899993896484",
                  "3": "false",
                  "4": "false"
                },
                {
                  "0": "26",
                  "1": "1980",
                  "2": "133.5",
                  "3": "false",
                  "4": "false"
                },
                {
                  "0": "26",
                  "1": "1981",
                  "2": "132.800003051758",
                  "3": "false",
                  "4": "false"
                },
                {
                  "0": "26",
                  "1": "1982",
                  "2": "134.0",
                  "3": "false",
                  "4": "false"
                },
                {
                  "0": "26",
                  "1": "1983",
                  "2": "130.0",
                  "3": "false",
                  "4": "false"
                },
                {
                  "0": "26",
                  "1": "1984",
                  "2": "127.099998474121",
                  "3": "false",
                  "4": "false"
                },
                {
                  "0": "26",
                  "1": "1985",
                  "2": "126.699996948242",
                  "3": "false",
                  "4": "false"
                },
                {
                  "0": "26",
                  "1": "1986",
                  "2": "126.300003051758",
                  "3": "false",
                  "4": "false"
                },
                {
                  "0": "26",
                  "1": "1987",
                  "2": "124.599998474121",
                  "3": "false",
                  "4": "false"
                },
                {
                  "0": "26",
                  "1": "1988",
                  "2": "122.400001525879",
                  "3": "false",
                  "4": "false"
                },
                {
                  "0": "26",
                  "1": "1989",
                  "2": "118.599998474121",
                  "3": "false",
                  "4": "true"
                },
                {
                  "0": "26",
                  "1": "1990",
                  "2": "115.5",
                  "3": "false",
                  "4": "true"
                },
                {
                  "0": "26",
                  "1": "1991",
                  "2": "113.199996948242",
                  "3": "false",
                  "4": "true"
                },
                {
                  "0": "26",
                  "1": "1992",
                  "2": "112.300003051758",
                  "3": "false",
                  "4": "true"
                },
                {
                  "0": "26",
                  "1": "1993",
                  "2": "108.900001525879",
                  "3": "false",
                  "4": "true"
                },
                {
                  "0": "26",
                  "1": "1994",
                  "2": "108.599998474121",
                  "3": "false",
                  "4": "true"
                },
                {
                  "0": "26",
                  "1": "1995",
                  "2": "111.699996948242",
                  "3": "false",
                  "4": "true"
                },
                {
                  "0": "26",
                  "1": "1996",
                  "2": "107.599998474121",
                  "3": "false",
                  "4": "true"
                },
                {
                  "0": "26",
                  "1": "1997",
                  "2": "108.599998474121",
                  "3": "false",
                  "4": "true"
                },
                {
                  "0": "26",
                  "1": "1998",
                  "2": "106.400001525879",
                  "3": "false",
                  "4": "true"
                },
                {
                  "0": "26",
                  "1": "1999",
                  "2": "104.0",
                  "3": "false",
                  "4": "true"
                },
                {
                  "0": "26",
                  "1": "2000",
                  "2": "99.9000015258789",
                  "3": "false",
                  "4": "true"
                },
                {
                  "0": "27",
                  "1": "1970",
                  "2": "108.400001525879",
                  "3": "false",
                  "4": "false"
                },
                {
                  "0": "27",
                  "1": "1971",
                  "2": "115.400001525879",
                  "3": "false",
                  "4": "false"
                },
                {
                  "0": "27",
                  "1": "1972",
                  "2": "121.699996948242",
                  "3": "false",
                  "4": "false"
                },
                {
                  "0": "27",
                  "1": "1973",
                  "2": "124.099998474121",
                  "3": "false",
                  "4": "false"
                },
                {
                  "0": "27",
                  "1": "1974",
                  "2": "130.5",
                  "3": "false",
                  "4": "false"
                },
                {
                  "0": "27",
                  "1": "1975",
                  "2": "132.899993896484",
                  "3": "false",
                  "4": "false"
                },
                {
                  "0": "27",
                  "1": "1976",
                  "2": "138.600006103516",
                  "3": "false",
                  "4": "false"
                },
                {
                  "0": "27",
                  "1": "1977",
                  "2": "140.399993896484",
                  "3": "false",
                  "4": "false"
                },
                {
                  "0": "27",
                  "1": "1978",
                  "2": "143.600006103516",
                  "3": "false",
                  "4": "false"
                },
                {
                  "0": "27",
                  "1": "1979",
                  "2": "141.600006103516",
                  "3": "false",
                  "4": "false"
                },
                {
                  "0": "27",
                  "1": "1980",
                  "2": "141.600006103516",
                  "3": "false",
                  "4": "false"
                },
                {
                  "0": "27",
                  "1": "1981",
                  "2": "143.699996948242",
                  "3": "false",
                  "4": "false"
                },
                {
                  "0": "27",
                  "1": "1982",
                  "2": "147.0",
                  "3": "false",
                  "4": "false"
                },
                {
                  "0": "27",
                  "1": "1983",
                  "2": "140.0",
                  "3": "false",
                  "4": "false"
                },
                {
                  "0": "27",
                  "1": "1984",
                  "2": "128.100006103516",
                  "3": "false",
                  "4": "false"
                },
                {
                  "0": "27",
                  "1": "1985",
                  "2": "124.199996948242",
                  "3": "false",
                  "4": "false"
                },
                {
                  "0": "27",
                  "1": "1986",
                  "2": "119.900001525879",
                  "3": "false",
                  "4": "false"
                },
                {
                  "0": "27",
                  "1": "1987",
                  "2": "113.099998474121",
                  "3": "false",
                  "4": "false"
                },
                {
                  "0": "27",
                  "1": "1988",
                  "2": "103.599998474121",
                  "3": "false",
                  "4": "false"
                },
                {
                  "0": "27",
                  "1": "1989",
                  "2": "97.5",
                  "3": "false",
                  "4": "true"
                },
                {
                  "0": "27",
                  "1": "1990",
                  "2": "88.4000015258789",
                  "3": "false",
                  "4": "true"
                },
                {
                  "0": "27",
                  "1": "1991",
                  "2": "87.8000030517578",
                  "3": "false",
                  "4": "true"
                },
                {
                  "0": "27",
                  "1": "1992",
                  "2": "86.3000030517578",
                  "3": "false",
                  "4": "true"
                },
                {
                  "0": "27",
                  "1": "1993",
                  "2": "86.1999969482422",
                  "3": "false",
                  "4": "true"
                },
                {
                  "0": "27",
                  "1": "1994",
                  "2": "104.800003051758",
                  "3": "false",
                  "4": "true"
                },
                {
                  "0": "27",
                  "1": "1995",
                  "2": "109.5",
                  "3": "false",
                  "4": "true"
                },
                {
                  "0": "27",
                  "1": "1996",
                  "2": "110.800003051758",
                  "3": "false",
                  "4": "true"
                },
                {
                  "0": "27",
                  "1": "1997",
                  "2": "111.800003051758",
                  "3": "false",
                  "4": "true"
                },
                {
                  "0": "27",
                  "1": "1998",
                  "2": "112.199996948242",
                  "3": "false",
                  "4": "true"
                },
                {
                  "0": "27",
                  "1": "1999",
                  "2": "111.400001525879",
                  "3": "false",
                  "4": "true"
                },
                {
                  "0": "27",
                  "1": "2000",
                  "2": "108.900001525879",
                  "3": "false",
                  "4": "true"
                },
                {
                  "0": "28",
                  "1": "1970",
                  "2": "107.300003051758",
                  "3": "false",
                  "4": "false"
                },
                {
                  "0": "28",
                  "1": "1971",
                  "2": "106.300003051758",
                  "3": "false",
                  "4": "false"
                },
                {
                  "0": "28",
                  "1": "1972",
                  "2": "109.0",
                  "3": "false",
                  "4": "false"
                },
                {
                  "0": "28",
                  "1": "1973",
                  "2": "110.699996948242",
                  "3": "false",
                  "4": "false"
                },
                {
                  "0": "28",
                  "1": "1974",
                  "2": "114.199996948242",
                  "3": "false",
                  "4": "false"
                },
                {
                  "0": "28",
                  "1": "1975",
                  "2": "114.599998474121",
                  "3": "false",
                  "4": "false"
                },
                {
                  "0": "28",
                  "1": "1976",
                  "2": "118.800003051758",
                  "3": "false",
                  "4": "false"
                },
                {
                  "0": "28",
                  "1": "1977",
                  "2": "120.099998474121",
                  "3": "false",
                  "4": "false"
                },
                {
                  "0": "28",
                  "1": "1978",
                  "2": "122.300003051758",
                  "3": "false",
                  "4": "false"
                },
                {
                  "0": "28",
                  "1": "1979",
                  "2": "122.599998474121",
                  "3": "false",
                  "4": "false"
                },
                {
                  "0": "28",
                  "1": "1980",
                  "2": "124.0",
                  "3": "false",
                  "4": "false"
                },
                {
                  "0": "28",
                  "1": "1981",
                  "2": "125.199996948242",
                  "3": "false",
                  "4": "false"
                },
                {
                  "0": "28",
                  "1": "1982",
                  "2": "123.300003051758",
                  "3": "false",
                  "4": "false"
                },
                {
                  "0": "28",
                  "1": "1983",
                  "2": "125.300003051758",
                  "3": "false",
                  "4": "false"
                },
                {
                  "0": "28",
                  "1": "1984",
                  "2": "115.300003051758",
                  "3": "false",
                  "4": "false"
                },
                {
                  "0": "28",
                  "1": "1985",
                  "2": "115.800003051758",
                  "3": "false",
                  "4": "false"
                },
                {
                  "0": "28",
                  "1": "1986",
                  "2": "113.900001525879",
                  "3": "false",
                  "4": "false"
                },
                {
                  "0": "28",
                  "1": "1987",
                  "2": "110.599998474121",
                  "3": "false",
                  "4": "false"
                },
                {
                  "0": "28",
                  "1": "1988",
                  "2": "107.599998474121",
                  "3": "false",
                  "4": "false"
                },
                {
                  "0": "28",
                  "1": "1989",
                  "2": "107.099998474121",
                  "3": "false",
                  "4": "true"
                },
                {
                  "0": "28",
                  "1": "1990",
                  "2": "101.300003051758",
                  "3": "false",
                  "4": "true"
                },
                {
                  "0": "28",
                  "1": "1991",
                  "2": "102.5",
                  "3": "false",
                  "4": "true"
                },
                {
                  "0": "28",
                  "1": "1992",
                  "2": "96.1999969482422",
                  "3": "false",
                  "4": "true"
                },
                {
                  "0": "28",
                  "1": "1993",
                  "2": "94.6999969482422",
                  "3": "false",
                  "4": "true"
                },
                {
                  "0": "28",
                  "1": "1994",
                  "2": "95.4000015258789",
                  "3": "false",
                  "4": "true"
                },
                {
                  "0": "28",
                  "1": "1995",
                  "2": "95.4000015258789",
                  "3": "false",
                  "4": "true"
                },
                {
                  "0": "28",
                  "1": "1996",
                  "2": "93.3000030517578",
                  "3": "false",
                  "4": "true"
                },
                {
                  "0": "28",
                  "1": "1997",
                  "2": "92.9000015258789",
                  "3": "false",
                  "4": "true"
                },
                {
                  "0": "28",
                  "1": "1998",
                  "2": "92.0999984741211",
                  "3": "false",
                  "4": "true"
                },
                {
                  "0": "28",
                  "1": "1999",
                  "2": "91.0999984741211",
                  "3": "false",
                  "4": "true"
                },
                {
                  "0": "28",
                  "1": "2000",
                  "2": "87.9000015258789",
                  "3": "false",
                  "4": "true"
                },
                {
                  "0": "29",
                  "1": "1970",
                  "2": "123.900001525879",
                  "3": "false",
                  "4": "false"
                },
                {
                  "0": "29",
                  "1": "1971",
                  "2": "123.199996948242",
                  "3": "false",
                  "4": "false"
                },
                {
                  "0": "29",
                  "1": "1972",
                  "2": "134.399993896484",
                  "3": "false",
                  "4": "false"
                },
                {
                  "0": "29",
                  "1": "1973",
                  "2": "142.0",
                  "3": "false",
                  "4": "false"
                },
                {
                  "0": "29",
                  "1": "1974",
                  "2": "146.100006103516",
                  "3": "false",
                  "4": "false"
                },
                {
                  "0": "29",
                  "1": "1975",
                  "2": "154.699996948242",
                  "3": "false",
                  "4": "false"
                },
                {
                  "0": "29",
                  "1": "1976",
                  "2": "150.199996948242",
                  "3": "false",
                  "4": "false"
                },
                {
                  "0": "29",
                  "1": "1977",
                  "2": "148.800003051758",
                  "3": "false",
                  "4": "false"
                },
                {
                  "0": "29",
                  "1": "1978",
                  "2": "146.800003051758",
                  "3": "false",
                  "4": "false"
                },
                {
                  "0": "29",
                  "1": "1979",
                  "2": "145.800003051758",
                  "3": "false",
                  "4": "false"
                },
                {
                  "0": "29",
                  "1": "1980",
                  "2": "149.300003051758",
                  "3": "false",
                  "4": "false"
                },
                {
                  "0": "29",
                  "1": "1981",
                  "2": "151.199996948242",
                  "3": "false",
                  "4": "false"
                },
                {
                  "0": "29",
                  "1": "1982",
                  "2": "146.300003051758",
                  "3": "false",
                  "4": "false"
                },
                {
                  "0": "29",
                  "1": "1983",
                  "2": "135.800003051758",
                  "3": "false",
                  "4": "false"
                },
                {
                  "0": "29",
                  "1": "1984",
                  "2": "136.899993896484",
                  "3": "false",
                  "4": "false"
                },
                {
                  "0": "29",
                  "1": "1985",
                  "2": "133.399993896484",
                  "3": "false",
                  "4": "false"
                },
                {
                  "0": "29",
                  "1": "1986",
                  "2": "136.300003051758",
                  "3": "false",
                  "4": "false"
                },
                {
                  "0": "29",
                  "1": "1987",
                  "2": "124.400001525879",
                  "3": "false",
                  "4": "false"
                },
                {
                  "0": "29",
                  "1": "1988",
                  "2": "138.0",
                  "3": "false",
                  "4": "false"
                },
                {
                  "0": "29",
                  "1": "1989",
                  "2": "120.800003051758",
                  "3": "false",
                  "4": "true"
                },
                {
                  "0": "29",
                  "1": "1990",
                  "2": "101.400001525879",
                  "3": "false",
                  "4": "true"
                },
                {
                  "0": "29",
                  "1": "1991",
                  "2": "103.599998474121",
                  "3": "false",
                  "4": "true"
                },
                {
                  "0": "29",
                  "1": "1992",
                  "2": "100.099998474121",
                  "3": "false",
                  "4": "true"
                },
                {
                  "0": "29",
                  "1": "1993",
                  "2": "94.0999984741211",
                  "3": "false",
                  "4": "true"
                },
                {
                  "0": "29",
                  "1": "1994",
                  "2": "91.9000015258789",
                  "3": "false",
                  "4": "true"
                },
                {
                  "0": "29",
                  "1": "1995",
                  "2": "90.8000030517578",
                  "3": "false",
                  "4": "true"
                },
                {
                  "0": "29",
                  "1": "1996",
                  "2": "87.5",
                  "3": "false",
                  "4": "true"
                },
                {
                  "0": "29",
                  "1": "1997",
                  "2": "90.0",
                  "3": "false",
                  "4": "true"
                },
                {
                  "0": "29",
                  "1": "1998",
                  "2": "88.6999969482422",
                  "3": "false",
                  "4": "true"
                },
                {
                  "0": "29",
                  "1": "1999",
                  "2": "86.9000015258789",
                  "3": "false",
                  "4": "true"
                },
                {
                  "0": "29",
                  "1": "2000",
                  "2": "83.0999984741211",
                  "3": "false",
                  "4": "true"
                },
                {
                  "0": "30",
                  "1": "1970",
                  "2": "103.599998474121",
                  "3": "false",
                  "4": "false"
                },
                {
                  "0": "30",
                  "1": "1971",
                  "2": "115.0",
                  "3": "false",
                  "4": "false"
                },
                {
                  "0": "30",
                  "1": "1972",
                  "2": "118.699996948242",
                  "3": "false",
                  "4": "false"
                },
                {
                  "0": "30",
                  "1": "1973",
                  "2": "125.5",
                  "3": "false",
                  "4": "false"
                },
                {
                  "0": "30",
                  "1": "1974",
                  "2": "129.699996948242",
                  "3": "false",
                  "4": "false"
                },
                {
                  "0": "30",
                  "1": "1975",
                  "2": "130.5",
                  "3": "false",
                  "4": "false"
                },
                {
                  "0": "30",
                  "1": "1976",
                  "2": "136.800003051758",
                  "3": "false",
                  "4": "false"
                },
                {
                  "0": "30",
                  "1": "1977",
                  "2": "137.199996948242",
                  "3": "false",
                  "4": "false"
                },
                {
                  "0": "30",
                  "1": "1978",
                  "2": "140.399993896484",
                  "3": "false",
                  "4": "false"
                },
                {
                  "0": "30",
                  "1": "1979",
                  "2": "135.699996948242",
                  "3": "false",
                  "4": "false"
                },
                {
                  "0": "30",
                  "1": "1980",
                  "2": "138.300003051758",
                  "3": "false",
                  "4": "false"
                },
                {
                  "0": "30",
                  "1": "1981",
                  "2": "136.100006103516",
                  "3": "false",
                  "4": "false"
                },
                {
                  "0": "30",
                  "1": "1982",
                  "2": "136.0",
                  "3": "false",
                  "4": "false"
                },
                {
                  "0": "30",
                  "1": "1983",
                  "2": "131.100006103516",
                  "3": "false",
                  "4": "false"
                },
                {
                  "0": "30",
                  "1": "1984",
                  "2": "127.0",
                  "3": "false",
                  "4": "false"
                },
                {
                  "0": "30",
                  "1": "1985",
                  "2": "125.400001525879",
                  "3": "false",
                  "4": "false"
                },
                {
                  "0": "30",
                  "1": "1986",
                  "2": "126.599998474121",
                  "3": "false",
                  "4": "false"
                },
                {
                  "0": "30",
                  "1": "1987",
                  "2": "126.599998474121",
                  "3": "false",
                  "4": "false"
                },
                {
                  "0": "30",
                  "1": "1988",
                  "2": "124.400001525879",
                  "3": "false",
                  "4": "false"
                },
                {
                  "0": "30",
                  "1": "1989",
                  "2": "122.400001525879",
                  "3": "false",
                  "4": "true"
                },
                {
                  "0": "30",
                  "1": "1990",
                  "2": "118.599998474121",
                  "3": "false",
                  "4": "true"
                },
                {
                  "0": "30",
                  "1": "1991",
                  "2": "121.5",
                  "3": "false",
                  "4": "true"
                },
                {
                  "0": "30",
                  "1": "1992",
                  "2": "112.800003051758",
                  "3": "false",
                  "4": "true"
                },
                {
                  "0": "30",
                  "1": "1993",
                  "2": "115.199996948242",
                  "3": "false",
                  "4": "true"
                },
                {
                  "0": "30",
                  "1": "1994",
                  "2": "112.199996948242",
                  "3": "false",
                  "4": "true"
                },
                {
                  "0": "30",
                  "1": "1995",
                  "2": "109.199996948242",
                  "3": "false",
                  "4": "true"
                },
                {
                  "0": "30",
                  "1": "1996",
                  "2": "102.900001525879",
                  "3": "false",
                  "4": "true"
                },
                {
                  "0": "30",
                  "1": "1997",
                  "2": "124.5",
                  "3": "false",
                  "4": "true"
                },
                {
                  "0": "30",
                  "1": "1998",
                  "2": "126.900001525879",
                  "3": "false",
                  "4": "true"
                },
                {
                  "0": "30",
                  "1": "1999",
                  "2": "109.400001525879",
                  "3": "false",
                  "4": "true"
                },
                {
                  "0": "30",
                  "1": "2000",
                  "2": "103.900001525879",
                  "3": "false",
                  "4": "true"
                },
                {
                  "0": "31",
                  "1": "1970",
                  "2": "92.6999969482422",
                  "3": "false",
                  "4": "false"
                },
                {
                  "0": "31",
                  "1": "1971",
                  "2": "96.6999969482422",
                  "3": "false",
                  "4": "false"
                },
                {
                  "0": "31",
                  "1": "1972",
                  "2": "103.0",
                  "3": "false",
                  "4": "false"
                },
                {
                  "0": "31",
                  "1": "1973",
                  "2": "103.5",
                  "3": "false",
                  "4": "false"
                },
                {
                  "0": "31",
                  "1": "1974",
                  "2": "108.400001525879",
                  "3": "false",
                  "4": "false"
                },
                {
                  "0": "31",
                  "1": "1975",
                  "2": "113.5",
                  "3": "false",
                  "4": "false"
                },
                {
                  "0": "31",
                  "1": "1976",
                  "2": "116.699996948242",
                  "3": "false",
                  "4": "false"
                },
                {
                  "0": "31",
                  "1": "1977",
                  "2": "115.599998474121",
                  "3": "false",
                  "4": "false"
                },
                {
                  "0": "31",
                  "1": "1978",
                  "2": "116.900001525879",
                  "3": "false",
                  "4": "false"
                },
                {
                  "0": "31",
                  "1": "1979",
                  "2": "117.400001525879",
                  "3": "false",
                  "4": "false"
                },
                {
                  "0": "31",
                  "1": "1980",
                  "2": "114.699996948242",
                  "3": "false",
                  "4": "false"
                },
                {
                  "0": "31",
                  "1": "1981",
                  "2": "115.699996948242",
                  "3": "false",
                  "4": "false"
                },
                {
                  "0": "31",
                  "1": "1982",
                  "2": "113.0",
                  "3": "false",
                  "4": "false"
                },
                {
                  "0": "31",
                  "1": "1983",
                  "2": "109.800003051758",
                  "3": "false",
                  "4": "false"
                },
                {
                  "0": "31",
                  "1": "1984",
                  "2": "105.699996948242",
                  "3": "false",
                  "4": "false"
                },
                {
                  "0": "31",
                  "1": "1985",
                  "2": "104.400001525879",
                  "3": "false",
                  "4": "false"
                },
                {
                  "0": "31",
                  "1": "1986",
                  "2": "97.0",
                  "3": "false",
                  "4": "false"
                },
                {
                  "0": "31",
                  "1": "1987",
                  "2": "95.8000030517578",
                  "3": "false",
                  "4": "false"
                },
                {
                  "0": "31",
                  "1": "1988",
                  "2": "91.9000015258789",
                  "3": "false",
                  "4": "false"
                },
                {
                  "0": "31",
                  "1": "1989",
                  "2": "87.4000015258789",
                  "3": "false",
                  "4": "true"
                },
                {
                  "0": "31",
                  "1": "1990",
                  "2": "88.3000030517578",
                  "3": "false",
                  "4": "true"
                },
                {
                  "0": "31",
                  "1": "1991",
                  "2": "91.8000030517578",
                  "3": "false",
                  "4": "true"
                },
                {
                  "0": "31",
                  "1": "1992",
                  "2": "93.0",
                  "3": "false",
                  "4": "true"
                },
                {
                  "0": "31",
                  "1": "1993",
                  "2": "91.5999984741211",
                  "3": "false",
                  "4": "true"
                },
                {
                  "0": "31",
                  "1": "1994",
                  "2": "94.8000030517578",
                  "3": "false",
                  "4": "true"
                },
                {
                  "0": "31",
                  "1": "1995",
                  "2": "98.5999984741211",
                  "3": "false",
                  "4": "true"
                },
                {
                  "0": "31",
                  "1": "1996",
                  "2": "92.3000030517578",
                  "3": "false",
                  "4": "true"
                },
                {
                  "0": "31",
                  "1": "1997",
                  "2": "88.8000030517578",
                  "3": "false",
                  "4": "true"
                },
                {
                  "0": "31",
                  "1": "1998",
                  "2": "88.3000030517578",
                  "3": "false",
                  "4": "true"
                },
                {
                  "0": "31",
                  "1": "1999",
                  "2": "83.5",
                  "3": "false",
                  "4": "true"
                },
                {
                  "0": "31",
                  "1": "2000",
                  "2": "75.0999984741211",
                  "3": "false",
                  "4": "true"
                },
                {
                  "0": "32",
                  "1": "1970",
                  "2": "99.8000030517578",
                  "3": "false",
                  "4": "false"
                },
                {
                  "0": "32",
                  "1": "1971",
                  "2": "106.300003051758",
                  "3": "false",
                  "4": "false"
                },
                {
                  "0": "32",
                  "1": "1972",
                  "2": "111.5",
                  "3": "false",
                  "4": "false"
                },
                {
                  "0": "32",
                  "1": "1973",
                  "2": "109.699996948242",
                  "3": "false",
                  "4": "false"
                },
                {
                  "0": "32",
                  "1": "1974",
                  "2": "114.800003051758",
                  "3": "false",
                  "4": "false"
                },
                {
                  "0": "32",
                  "1": "1975",
                  "2": "117.400001525879",
                  "3": "false",
                  "4": "false"
                },
                {
                  "0": "32",
                  "1": "1976",
                  "2": "121.699996948242",
                  "3": "false",
                  "4": "false"
                },
                {
                  "0": "32",
                  "1": "1977",
                  "2": "124.599998474121",
                  "3": "false",
                  "4": "false"
                },
                {
                  "0": "32",
                  "1": "1978",
                  "2": "127.300003051758",
                  "3": "false",
                  "4": "false"
                },
                {
                  "0": "32",
                  "1": "1979",
                  "2": "127.199996948242",
                  "3": "false",
                  "4": "false"
                },
                {
                  "0": "32",
                  "1": "1980",
                  "2": "130.399993896484",
                  "3": "false",
                  "4": "false"
                },
                {
                  "0": "32",
                  "1": "1981",
                  "2": "129.100006103516",
                  "3": "false",
                  "4": "false"
                },
                {
                  "0": "32",
                  "1": "1982",
                  "2": "131.399993896484",
                  "3": "false",
                  "4": "false"
                },
                {
                  "0": "32",
                  "1": "1983",
                  "2": "129.0",
                  "3": "false",
                  "4": "false"
                },
                {
                  "0": "32",
                  "1": "1984",
                  "2": "125.099998474121",
                  "3": "false",
                  "4": "false"
                },
                {
                  "0": "32",
                  "1": "1985",
                  "2": "128.699996948242",
                  "3": "false",
                  "4": "false"
                },
                {
                  "0": "32",
                  "1": "1986",
                  "2": "129.0",
                  "3": "false",
                  "4": "false"
                },
                {
                  "0": "32",
                  "1": "1987",
                  "2": "130.600006103516",
                  "3": "false",
                  "4": "false"
                },
                {
                  "0": "32",
                  "1": "1988",
                  "2": "125.300003051758",
                  "3": "false",
                  "4": "false"
                },
                {
                  "0": "32",
                  "1": "1989",
                  "2": "124.699996948242",
                  "3": "false",
                  "4": "true"
                },
                {
                  "0": "32",
                  "1": "1990",
                  "2": "121.800003051758",
                  "3": "false",
                  "4": "true"
                },
                {
                  "0": "32",
                  "1": "1991",
                  "2": "120.599998474121",
                  "3": "false",
                  "4": "true"
                },
                {
                  "0": "32",
                  "1": "1992",
                  "2": "121.0",
                  "3": "false",
                  "4": "true"
                },
                {
                  "0": "32",
                  "1": "1993",
                  "2": "120.800003051758",
                  "3": "false",
                  "4": "true"
                },
                {
                  "0": "32",
                  "1": "1994",
                  "2": "118.800003051758",
                  "3": "false",
                  "4": "true"
                },
                {
                  "0": "32",
                  "1": "1995",
                  "2": "125.400001525879",
                  "3": "false",
                  "4": "true"
                },
                {
                  "0": "32",
                  "1": "1996",
                  "2": "119.199996948242",
                  "3": "false",
                  "4": "true"
                },
                {
                  "0": "32",
                  "1": "1997",
                  "2": "118.900001525879",
                  "3": "false",
                  "4": "true"
                },
                {
                  "0": "32",
                  "1": "1998",
                  "2": "119.699996948242",
                  "3": "false",
                  "4": "true"
                },
                {
                  "0": "32",
                  "1": "1999",
                  "2": "115.599998474121",
                  "3": "false",
                  "4": "true"
                },
                {
                  "0": "32",
                  "1": "2000",
                  "2": "108.699996948242",
                  "3": "false",
                  "4": "true"
                },
                {
                  "0": "33",
                  "1": "1970",
                  "2": "106.400001525879",
                  "3": "false",
                  "4": "false"
                },
                {
                  "0": "33",
                  "1": "1971",
                  "2": "108.900001525879",
                  "3": "false",
                  "4": "false"
                },
                {
                  "0": "33",
                  "1": "1972",
                  "2": "108.599998474121",
                  "3": "false",
                  "4": "false"
                },
                {
                  "0": "33",
                  "1": "1973",
                  "2": "110.400001525879",
                  "3": "false",
                  "4": "false"
                },
                {
                  "0": "33",
                  "1": "1974",
                  "2": "114.699996948242",
                  "3": "false",
                  "4": "false"
                },
                {
                  "0": "33",
                  "1": "1975",
                  "2": "116.0",
                  "3": "false",
                  "4": "false"
                },
                {
                  "0": "33",
                  "1": "1976",
                  "2": "121.400001525879",
                  "3": "false",
                  "4": "false"
                },
                {
                  "0": "33",
                  "1": "1977",
                  "2": "124.199996948242",
                  "3": "false",
                  "4": "false"
                }
              ],
              "schema": [
                {
                  "key": "0",
                  "name": "state",
                  "type": "int"
                },
                {
                  "key": "1",
                  "name": "year",
                  "type": "int"
                },
                {
                  "key": "2",
                  "name": "cigsale",
                  "type": "double"
                },
                {
                  "key": "3",
                  "name": "california",
                  "type": "boolean"
                },
                {
                  "key": "4",
                  "name": "after_treatment",
                  "type": "boolean"
                }
              ],
              "truncated": false
            }
          },
          "type": "Synapse.DataFrame"
        }
      },
      "version": "0.1"
    }
  },
  "nbformat": 4,
  "nbformat_minor": 2
}
