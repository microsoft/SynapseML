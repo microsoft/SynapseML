{
 "cells": [
  {
   "cell_type": "markdown",
   "metadata": {
    "nteract": {
     "transient": {
      "deleting": false
     }
    }
   },
   "source": [
    "# Startup Investment Attribution - Understand Outreach Effort's Effect\""
   ]
  },
  {
   "attachments": {},
   "cell_type": "markdown",
   "metadata": {},
   "source": [
    "**This sample notebook aims to show the application of using SynapseML's DoubleMLEstimator for inferring causality using observational data.**"
   ]
  },
  {
   "cell_type": "markdown",
   "metadata": {
    "nteract": {
     "transient": {
      "deleting": false
     }
    }
   },
   "source": [
    "A startup that sells software would like to know whether its outreach efforts were successful in attracting new customers or boosting consumption among existing customers. In other words, they would like to learn the treatment effect of each investment on customers' software usage.\n",
    "\n",
    "In an ideal world, the startup would run several randomized experiments where each customer would receive a random assortment of investments. However, this can be logistically prohibitive or strategically unsound: the startup might not have the resources to design such experiments or they might not want to risk losing out on big opportunities due to lack of incentives.\n",
    "\n",
    "In this customer scenario walkthrough, we show how SynapseML causal package can use historical investment data to learn the investment effect."
   ]
  },
  {
   "cell_type": "markdown",
   "metadata": {
    "nteract": {
     "transient": {
      "deleting": false
     }
    }
   },
   "source": [
    "## Background\n",
    "In this scenario, a startup that sells software provides discounts incentives to its customer. A customer might be given or not.\n",
    "\n",
    "The startup has historical data on these investments for 2,000 customers, as well as how much revenue these customers generated in the year after the investments were made. They would like to use this data to learn the optimal incentive policy for each existing or new customer in order to maximize the return on investment (ROI).\n",
    "\n",
    "The startup faces a challenge:  the dataset is biased because historically the larger customers received the most incentives. Thus, they need a causal model that can remove the bias."
   ]
  },
  {
   "cell_type": "markdown",
   "metadata": {
    "nteract": {
     "transient": {
      "deleting": false
     }
    }
   },
   "source": [
    "## Data\n",
    "The data* contains ~2,000 customers and is comprised of:\n",
    "\n",
    "* Customer features: details about the industry, size, revenue, and technology profile of each customer.\n",
    "* Interventions: information about which incentive was given to a customer.\n",
    "* Outcome: the amount of product the customer bought in the year after the incentives were given.\n",
    "\n",
    "\n",
    "| Feature Name    | Type | Details                                                                                                                                     |\n",
    "|-----------------|------|---------------------------------------------------------------------------------------------------------------------------------------------|\n",
    "| Global Flag     | W    | whether the customer has global offices                                                                                                     | \n",
    "| Major Flag      | W    | whether the customer is a large consumer in their industry (as opposed to SMC - Small Medium Corporation - or SMB - Small Medium Business)  |\n",
    "| SMC Flag        | W    | whether the customer is a Small Medium Corporation (SMC, as opposed to major and SMB)                                                       |\n",
    "| Commercial Flag | W    | whether the customer's business is commercial (as opposed to public secor)                                                                  |\n",
    "| IT Spend        | W    | $ spent on IT-related purchases                                                                                                             |\n",
    "| Employee Count  | W    | number of employees                                                                                                                         |\n",
    "| PC Count        | W    | number of PCs used by the customer                                                                                                          |                                                                                      |\n",
    "| Discount        | T    | whether the customer was given a discount (binary)                                                                                          |\n",
    "| Revenue         | Y    | $ Revenue from customer given by the amount of software purchased                                                                           |\n"
   ]
  },
  {
   "cell_type": "code",
   "execution_count": 2,
   "metadata": {
    "nteract": {
     "transient": {
      "deleting": false
     }
    }
   },
   "outputs": [],
   "source": [
    "# Import the sample multi-attribution data\n",
    "data = (\n",
    "    spark.read.format(\"csv\")\n",
    "    .option(\"inferSchema\", True)\n",
    "    .option(\"header\", True)\n",
    "    .load(\n",
    "        \"wasbs://publicwasb@mmlspark.blob.core.windows.net/multi_attribution_sample.csv\"\n",
    "    )\n",
    ")"
   ]
  },
  {
   "cell_type": "markdown",
   "metadata": {
    "nteract": {
     "transient": {
      "deleting": false
     }
    }
   },
   "source": [
    "# Get Causal Effects with SynapseML DoubleMLEstimator"
   ]
  },
  {
   "cell_type": "code",
   "execution_count": null,
   "metadata": {
    "nteract": {
     "transient": {
      "deleting": false
     }
    }
   },
   "outputs": [],
   "source": [
    "from synapse.ml.causal import *\n",
    "from pyspark.ml.classification import LogisticRegression\n",
    "from pyspark.ml.regression import LinearRegression\n",
    "\n",
    "treatmentColumn = \"Discount\"\n",
    "outcomeColumn = \"Revenue\"\n",
    "\n",
    "dml = (\n",
    "    DoubleMLEstimator()\n",
    "    .setTreatmentModel(LogisticRegression())\n",
    "    .setTreatmentCol(treatmentColumn)\n",
    "    .setOutcomeModel(LinearRegression())\n",
    "    .setOutcomeCol(outcomeColumn)\n",
    "    .setMaxIter(20)\n",
    ")\n",
    "\n",
    "model = dml.fit(data)"
   ]
  },
  {
   "cell_type": "code",
   "execution_count": 7,
   "metadata": {
    "nteract": {
     "transient": {
      "deleting": false
     }
    }
   },
   "outputs": [],
   "source": [
    "# Get average treatment effect, it returns a numeric value, e.g. 5166.78324\n",
    "# It means, on average, customers who received a discount spent $5,166 more on software\n",
    "model.getAvgTreatmentEffect()"
   ]
  },
  {
   "cell_type": "code",
   "execution_count": 8,
   "metadata": {
    "collapsed": false,
    "nteract": {
     "transient": {
      "deleting": false
     }
    }
   },
   "outputs": [],
   "source": [
    "# Get treatment effect's confidence interval, e.g.  [4765.826181160708, 5371.2817538168965]\n",
    "model.getConfidenceInterval()"
   ]
  }
 ],
 "metadata": {
  "kernelspec": {
   "display_name": "Synapse PySpark",
   "name": "synapse_pyspark"
  },
  "language_info": {
   "name": "python"
  },
  "save_output": true,
  "synapse_widget": {
   "state": {},
   "version": "0.1"
  }
 },
 "nbformat": 4,
 "nbformat_minor": 2
}
