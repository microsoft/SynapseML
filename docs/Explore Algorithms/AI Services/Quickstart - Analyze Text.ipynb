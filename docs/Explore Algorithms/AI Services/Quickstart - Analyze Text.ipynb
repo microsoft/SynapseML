{
 "cells": [
  {
   "cell_type": "markdown",
   "metadata": {
    "application/vnd.databricks.v1+cell": {
     "cellMetadata": {},
     "inputWidgets": {},
     "nuid": "89c4a597-d46c-4736-87eb-059ead14d5ed",
     "showTitle": false,
     "title": ""
    }
   },
   "source": [
    "# Analyze Text with SynapseML and Azure AI Language\n",
    "[Azure AI Language](https://learn.microsoft.com/azure/ai-services/language-service/overview) is a cloud-based service that provides Natural Language Processing (NLP) features for understanding and analyzing text. Use this service to help build intelligent applications using the web-based Language Studio, REST APIs, and client libraries.\n",
    "You can use SynapseML with Azure AI Language for **named entity recognition**, **language detection**, **entity linking**, **key phrase extraction**, **Pii entity recognition** and **sentiment analysis**."
   ]
  },
  {
   "cell_type": "code",
   "execution_count": null,
   "metadata": {
    "application/vnd.databricks.v1+cell": {
     "cellMetadata": {
      "byteLimit": 2048000,
      "rowLimit": 10000
     },
     "inputWidgets": {},
     "nuid": "cc693d0e-19a5-4121-84f2-7e41874bc77e",
     "showTitle": false,
     "title": ""
    }
   },
   "outputs": [],
   "source": [
    "from synapse.ml.services.language import AnalyzeText\n",
    "from synapse.ml.core.platform import find_secret\n",
    "\n",
    "ai_service_key = find_secret(\n",
    "    secret_name=\"ai-services-api-key\", keyvault=\"mmlspark-build-keys\"\n",
    ")\n",
    "ai_service_location = \"eastus\""
   ]
  },
  {
   "cell_type": "markdown",
   "metadata": {
    "application/vnd.databricks.v1+cell": {
     "cellMetadata": {},
     "inputWidgets": {},
     "nuid": "25fba439-7069-4959-9398-92b836af9b16",
     "showTitle": false,
     "title": ""
    }
   },
   "source": [
    "## Named Entity Recognition \n",
    "[Named Entity Recognition](https://learn.microsoft.com/azure/ai-services/language-service/named-entity-recognition/overview) is one of the features offered by Azure AI Language, a collection of machine learning and AI algorithms in the cloud for developing intelligent applications that involve written language. The NER feature can identify and categorize entities in unstructured text. For example: people, places, organizations, and quantities. Refer to [this article](https://learn.microsoft.com/azure/ai-services/language-service/named-entity-recognition/language-support?tabs=ga-api) for the full list of supported languages."
   ]
  },
  {
   "cell_type": "code",
   "execution_count": null,
   "metadata": {
    "application/vnd.databricks.v1+cell": {
     "cellMetadata": {
      "byteLimit": 2048000,
      "rowLimit": 10000
     },
     "inputWidgets": {},
     "nuid": "2f5dc501-a11d-4c28-b61f-d846ed3179cd",
     "showTitle": false,
     "title": ""
    }
   },
   "outputs": [],
   "source": [
    "df = spark.createDataFrame(\n",
    "    data=[\n",
    "        [\"en\", \"Dr. Smith has a very modern medical office, and she has great staff.\"],\n",
    "        [\"en\", \"I had a wonderful trip to Seattle last week.\"],\n",
    "    ],\n",
    "    schema=[\"language\", \"text\"],\n",
    ")\n",
    "\n",
    "entity_recognition = (\n",
    "    AnalyzeText()\n",
    "    .setKind(\"EntityRecognition\")\n",
    "    .setLocation(ai_service_location)\n",
    "    .setSubscriptionKey(ai_service_key)\n",
    "    .setTextCol(\"text\")\n",
    "    .setOutputCol(\"entities\")\n",
    "    .setErrorCol(\"error\")\n",
    "    .setLanguageCol(\"language\")\n",
    ")\n",
    "\n",
    "df_results = entity_recognition.transform(df)\n",
    "display(df_results.select(\"language\", \"text\", \"entities.documents.entities\"))"
   ]
  },
  {
   "cell_type": "markdown",
   "metadata": {},
   "source": [
    "This cell should yield a result that looks like:\n",
    "\n",
    "\n",
    "| language         | text     | entities |\n",
    "|:--------------|:-----------|:------------|\n",
    "| en           | Dr. Smith has a very modern medical office, and she has great staff.      | [{\"category\": \"Person\", \"confidenceScore\": 0.98, \"length\": 5, \"offset\": 4, \"subcategory\": null, \"text\": \"Smith\"}, {\"category\": \"Location\", \"confidenceScore\": 0.79, \"length\": 14, \"offset\": 28, \"subcategory\": \"Structural\", \"text\": \"medical office\"}, {\"category\": \"PersonType\", \"confidenceScore\": 0.85, \"length\": 5, \"offset\": 62, \"subcategory\": null, \"text\": \"staff\"}]        |\n",
    "| en           | I had a wonderful trip to Seattle last week.  | [{\"category\": \"Event\", \"confidenceScore\": 0.74, \"length\": 4, \"offset\": 18, \"subcategory\": null, \"text\": \"trip\"}, {\"category\": \"Location\", \"confidenceScore\": 1, \"length\": 7, \"offset\": 26, \"subcategory\": \"GPE\", \"text\": \"Seattle\"}, {\"category\": \"DateTime\", \"confidenceScore\": 0.8, \"length\": 9, \"offset\": 34, \"subcategory\": \"DateRange\", \"text\": \"last week\"}]       |"
   ]
  },
  {
   "cell_type": "markdown",
   "metadata": {
    "application/vnd.databricks.v1+cell": {
     "cellMetadata": {},
     "inputWidgets": {},
     "nuid": "5ff2c1c4-72dd-40cd-ada2-124df4000716",
     "showTitle": false,
     "title": ""
    }
   },
   "source": [
    "## LanguageDetection\n",
    "[Language detection](https://learn.microsoft.com/azure/ai-services/language-service/language-detection/overview) can detect the language a document is written in. It returns a language code for a wide range of languages, variants, dialects, and some regional/cultural languages. Refer to [this article](https://learn.microsoft.com/azure/ai-services/language-service/language-detection/language-support) for the full list of supported languages."
   ]
  },
  {
   "cell_type": "code",
   "execution_count": null,
   "metadata": {
    "application/vnd.databricks.v1+cell": {
     "cellMetadata": {
      "byteLimit": 2048000,
      "rowLimit": 10000
     },
     "inputWidgets": {},
     "nuid": "a648137e-be9c-4c14-a843-78e4d7832e4f",
     "showTitle": false,
     "title": ""
    }
   },
   "outputs": [],
   "source": [
    "df = spark.createDataFrame(\n",
    "    data=[\n",
    "        [\"This is a document written in English.\"],\n",
    "        [\"这是一份用中文写的文件\"],\n",
    "    ],\n",
    "    schema=[\"text\"],\n",
    ")\n",
    "\n",
    "language_detection = (\n",
    "    AnalyzeText()\n",
    "    .setKind(\"LanguageDetection\")\n",
    "    .setLocation(ai_service_location)\n",
    "    .setSubscriptionKey(ai_service_key)\n",
    "    .setTextCol(\"text\")\n",
    "    .setOutputCol(\"detected_language\")\n",
    "    .setErrorCol(\"error\")\n",
    ")\n",
    "\n",
    "df_results = language_detection.transform(df)\n",
    "display(df_results.select(\"text\", \"detected_language.documents.detectedLanguage\"))"
   ]
  },
  {
   "cell_type": "markdown",
   "metadata": {},
   "source": [
    "This cell should yield a result that looks like:\n",
    "\n",
    "\n",
    "| text     | detectedLanguage |\n",
    "|:-----------|:------------|\n",
    "| This is a document written in English.      | {\"name\": \"English\", \"iso6391Name\": \"en\", \"confidenceScore\": 0.99}        |\n",
    "| 这是一份用中文写的文件  | {\"name\": \"Chinese_Simplified\", \"iso6391Name\": \"zh_chs\", \"confidenceScore\": 1}       |"
   ]
  },
  {
   "cell_type": "markdown",
   "metadata": {
    "application/vnd.databricks.v1+cell": {
     "cellMetadata": {},
     "inputWidgets": {},
     "nuid": "cb5ce07f-043f-4f46-a7c1-ca693a53ef13",
     "showTitle": false,
     "title": ""
    }
   },
   "source": [
    "## EntityLinking\n",
    "[Entity linking](https://learn.microsoft.com/azure/ai-services/language-service/entity-linking/overview) identifies and disambiguates the identity of entities found in text. For example, in the sentence \"We went to Seattle last week.\", the word \"Seattle\" would be identified, with a link to more information on Wikipedia. [English and Spanish are supported](https://learn.microsoft.com/azure/ai-services/language-service/entity-linking/language-support)."
   ]
  },
  {
   "cell_type": "code",
   "execution_count": null,
   "metadata": {
    "application/vnd.databricks.v1+cell": {
     "cellMetadata": {
      "byteLimit": 2048000,
      "rowLimit": 10000
     },
     "inputWidgets": {},
     "nuid": "5b80339b-ed83-4dd7-9911-516391659212",
     "showTitle": false,
     "title": ""
    }
   },
   "outputs": [],
   "source": [
    "df = spark.createDataFrame(\n",
    "    data=[\n",
    "        [\"Microsoft was founded by Bill Gates and Paul Allen on April 4, 1975.\"],\n",
    "        [\"We went to Seattle last week.\"],\n",
    "    ],\n",
    "    schema=[\"text\"],\n",
    ")\n",
    "\n",
    "entity_linking = (\n",
    "    AnalyzeText()\n",
    "    .setKind(\"EntityLinking\")\n",
    "    .setLocation(ai_service_location)\n",
    "    .setSubscriptionKey(ai_service_key)\n",
    "    .setTextCol(\"text\")\n",
    "    .setOutputCol(\"entity_linking\")\n",
    "    .setErrorCol(\"error\")\n",
    ")\n",
    "\n",
    "df_results = entity_linking.transform(df)\n",
    "display(df_results.select(\"text\", \"entity_linking.documents.entities\"))"
   ]
  },
  {
   "cell_type": "markdown",
   "metadata": {},
   "source": [
    "This cell should yield a result that looks like:\n",
    "\n",
    "\n",
    "| text     | entities |\n",
    "|:-----------|:------------|\n",
    "| Microsoft was founded by Bill Gates and Paul Allen on April 4, 1975.      | [{\"bingId\": \"a093e9b9-90f5-a3d5-c4b8-5855e1b01f85\", \"dataSource\": \"Wikipedia\", \"id\": \"Microsoft\", \"language\": \"en\", \"matches\": [{\"confidenceScore\": 0.48, \"length\": 9, \"offset\": 0, \"text\": \"Microsoft\"}], \"name\": \"Microsoft\", \"url\": \"https://en.wikipedia.org/wiki/Microsoft\"}, {\"bingId\": \"0d47c987-0042-5576-15e8-97af601614fa\", \"dataSource\": \"Wikipedia\", \"id\": \"Bill Gates\", \"language\": \"en\", \"matches\": [{\"confidenceScore\": 0.52, \"length\": 10, \"offset\": 25, \"text\": \"Bill Gates\"}], \"name\": \"Bill Gates\", \"url\": \"https://en.wikipedia.org/wiki/Bill_Gates\"}, {\"bingId\": \"df2c4376-9923-6a54-893f-2ee5a5badbc7\", \"dataSource\": \"Wikipedia\", \"id\": \"Paul Allen\", \"language\": \"en\", \"matches\": [{\"confidenceScore\": 0.54, \"length\": 10, \"offset\": 40, \"text\": \"Paul Allen\"}], \"name\": \"Paul Allen\", \"url\": \"https://en.wikipedia.org/wiki/Paul_Allen\"}, {\"bingId\": \"52535f87-235e-b513-54fe-c03e4233ac6e\", \"dataSource\": \"Wikipedia\", \"id\": \"April 4\", \"language\": \"en\", \"matches\": [{\"confidenceScore\": 0.38, \"length\": 7, \"offset\": 54, \"text\": \"April 4\"}], \"name\": \"April 4\", \"url\": \"https://en.wikipedia.org/wiki/April_4\"}]        |\n",
    "| We went to Seattle last week.  | [{\"bingId\": \"5fbba6b8-85e1-4d41-9444-d9055436e473\", \"dataSource\": \"Wikipedia\", \"id\": \"Seattle\", \"language\": \"en\", \"matches\": [{\"confidenceScore\": 0.17, \"length\": 7, \"offset\": 11, \"text\": \"Seattle\"}], \"name\": \"Seattle\", \"url\": \"https://en.wikipedia.org/wiki/Seattle\"}]       |"
   ]
  },
  {
   "cell_type": "markdown",
   "metadata": {
    "application/vnd.databricks.v1+cell": {
     "cellMetadata": {},
     "inputWidgets": {},
     "nuid": "2c6ff821-a061-4598-819a-d6287f5c7a4c",
     "showTitle": false,
     "title": ""
    }
   },
   "source": [
    "## KeyPhraseExtraction\n",
    "[Key phrase extraction](https://learn.microsoft.com/en-us/azure/ai-services/language-service/key-phrase-extraction/overview) is one of the features offered by Azure AI Language, a collection of machine learning and AI algorithms in the cloud for developing intelligent applications that involve written language. Use key phrase extraction to quickly identify the main concepts in text. For example, in the text \"The food was delicious and the staff were wonderful.\", key phrase extraction will return the main topics: \"food\" and \"wonderful staff\". Refer to [this article](https://learn.microsoft.com/azure/ai-services/language-service/key-phrase-extraction/language-support) for the full list of supported languages."
   ]
  },
  {
   "cell_type": "code",
   "execution_count": null,
   "metadata": {
    "application/vnd.databricks.v1+cell": {
     "cellMetadata": {
      "byteLimit": 2048000,
      "rowLimit": 10000
     },
     "inputWidgets": {},
     "nuid": "fe1d089e-8d03-479c-ac38-ebc920bb7689",
     "showTitle": false,
     "title": ""
    }
   },
   "outputs": [],
   "source": [
    "df = spark.createDataFrame(\n",
    "    data=[\n",
    "        [\"Microsoft was founded by Bill Gates and Paul Allen on April 4, 1975.\"],\n",
    "        [\"Dr. Smith has a very modern medical office, and she has great staff.\"],\n",
    "    ],\n",
    "    schema=[\"text\"],\n",
    ")\n",
    "\n",
    "key_phrase_extraction = (\n",
    "    AnalyzeText()\n",
    "    .setKind(\"KeyPhraseExtraction\")\n",
    "    .setLocation(ai_service_location)\n",
    "    .setSubscriptionKey(ai_service_key)\n",
    "    .setTextCol(\"text\")\n",
    "    .setOutputCol(\"key_phrase_extraction\")\n",
    "    .setErrorCol(\"error\")\n",
    ")\n",
    "\n",
    "df_results = key_phrase_extraction.transform(df)\n",
    "display(df_results.select(\"text\", \"key_phrase_extraction.documents.keyPhrases\"))"
   ]
  },
  {
   "cell_type": "markdown",
   "metadata": {},
   "source": [
    "This cell should yield a result that looks like:\n",
    "\n",
    "\n",
    "| text     | keyPhrases |\n",
    "|:-----------|:------------|\n",
    "| Microsoft was founded by Bill Gates and Paul Allen on April 4, 1975.      | [\"Bill Gates\", \"Paul Allen\", \"Microsoft\", \"April\"]        |\n",
    "| Dr. Smith has a very modern medical office, and she has great staff.  | [\"modern medical office\", \"Dr. Smith\", \"great staff\"]       |"
   ]
  },
  {
   "cell_type": "markdown",
   "metadata": {
    "application/vnd.databricks.v1+cell": {
     "cellMetadata": {},
     "inputWidgets": {},
     "nuid": "1cee500b-39f0-4812-8784-7dd60cbb1d33",
     "showTitle": false,
     "title": ""
    }
   },
   "source": [
    "## PiiEntityRecognition\n",
    "The PII detection feature can identify, categorize, and redact sensitive information in unstructured text. For example: phone numbers, email addresses, and forms of identification. The method for utilizing PII in conversations is different than other use cases, and articles for this use have been separated. Refer to [this article](https://learn.microsoft.com/azure/ai-services/language-service/personally-identifiable-information/language-support?tabs=documents) for the full list of supported languages."
   ]
  },
  {
   "cell_type": "code",
   "execution_count": null,
   "metadata": {
    "application/vnd.databricks.v1+cell": {
     "cellMetadata": {
      "byteLimit": 2048000,
      "rowLimit": 10000
     },
     "inputWidgets": {},
     "nuid": "5eaf13fe-2fcb-4e47-a10d-d2f4ae757673",
     "showTitle": false,
     "title": ""
    }
   },
   "outputs": [],
   "source": [
    "df = spark.createDataFrame(\n",
    "    data=[\n",
    "        [\"Call our office at 312-555-1234, or send an email to support@contoso.com\"],\n",
    "        [\"Dr. Smith has a very modern medical office, and she has great staff.\"],\n",
    "    ],\n",
    "    schema=[\"text\"],\n",
    ")\n",
    "\n",
    "pii_entity_recognition = (\n",
    "    AnalyzeText()\n",
    "    .setKind(\"PiiEntityRecognition\")\n",
    "    .setLocation(ai_service_location)\n",
    "    .setSubscriptionKey(ai_service_key)\n",
    "    .setTextCol(\"text\")\n",
    "    .setOutputCol(\"pii_entity_recognition\")\n",
    "    .setErrorCol(\"error\")\n",
    ")\n",
    "\n",
    "df_results = pii_entity_recognition.transform(df)\n",
    "display(df_results.select(\"text\", \"pii_entity_recognition.documents.entities\"))"
   ]
  },
  {
   "cell_type": "markdown",
   "metadata": {},
   "source": [
    "This cell should yield a result that looks like:\n",
    "\n",
    "\n",
    "| text     | entities |\n",
    "|:-----------|:------------|\n",
    "| Call our office at 312-555-1234, or send an email to support@contoso.com      | [{\"category\": \"PhoneNumber\", \"confidenceScore\": 0.8, \"length\": 12, \"offset\": 19, \"subcategory\": null, \"text\": \"312-555-1234\"}, {\"category\": \"Email\", \"confidenceScore\": 0.8, \"length\": 19, \"offset\": 53, \"subcategory\": null, \"text\": \"support@contoso.com\"}]        |\n",
    "| Dr. Smith has a very modern medical office, and she has great staff.  | [{\"category\": \"Person\", \"confidenceScore\": 0.93, \"length\": 5, \"offset\": 4, \"subcategory\": null, \"text\": \"Smith\"}]       |"
   ]
  },
  {
   "cell_type": "markdown",
   "metadata": {
    "application/vnd.databricks.v1+cell": {
     "cellMetadata": {},
     "inputWidgets": {},
     "nuid": "d8931cf0-f26e-4824-9967-4975e684f7f1",
     "showTitle": false,
     "title": ""
    }
   },
   "source": [
    "## SentimentAnalysis\n",
    "[Sentiment analysis](https://learn.microsoft.com/en-us/azure/ai-services/language-service/sentiment-opinion-mining/overview) and opinion mining are features offered by the Language service, a collection of machine learning and AI algorithms in the cloud for developing intelligent applications that involve written language. These features help you find out what people think of your brand or topic by mining text for clues about positive or negative sentiment, and can associate them with specific aspects of the text. Refer to [this article](https://learn.microsoft.com/azure/ai-services/language-service/sentiment-opinion-mining/language-support) for the full list of supported languages."
   ]
  },
  {
   "cell_type": "code",
   "execution_count": null,
   "metadata": {
    "application/vnd.databricks.v1+cell": {
     "cellMetadata": {
      "byteLimit": 2048000,
      "rowLimit": 10000
     },
     "inputWidgets": {},
     "nuid": "8c9764b4-67db-41ee-a0b3-8a28210791d9",
     "showTitle": false,
     "title": ""
    }
   },
   "outputs": [],
   "source": [
    "df = spark.createDataFrame(\n",
    "    data=[\n",
    "        [\"The food and service were unacceptable. The concierge was nice, however.\"],\n",
    "        [\"It taste great.\"],\n",
    "    ],\n",
    "    schema=[\"text\"],\n",
    ")\n",
    "\n",
    "sentiment_analysis = (\n",
    "    AnalyzeText()\n",
    "    .setKind(\"SentimentAnalysis\")\n",
    "    .setLocation(ai_service_location)\n",
    "    .setSubscriptionKey(ai_service_key)\n",
    "    .setTextCol(\"text\")\n",
    "    .setOutputCol(\"sentiment_analysis\")\n",
    "    .setErrorCol(\"error\")\n",
    ")\n",
    "\n",
    "df_results = sentiment_analysis.transform(df)\n",
    "display(df_results.select(\"text\", \"sentiment_analysis.documents.sentiment\"))"
   ]
  },
  {
   "cell_type": "markdown",
   "metadata": {},
   "source": [
    "This cell should yield a result that looks like:\n",
    "\n",
    "\n",
    "| text     | sentiment |\n",
    "|:-----------|:------------|\n",
    "| The food and service were unacceptable. The concierge was nice, however.      | mixed        |\n",
    "| It tastes great.  | positive       |"
   ]
  },
  {
   "cell_type": "markdown",
   "metadata": {},
   "source": [
    "## Analyze Text with TextAnalyze\n",
    "\n",
    "Text Analyze is Deprecated, please use AnalyzeText instead"
   ]
  },
  {
   "cell_type": "code",
   "execution_count": null,
   "metadata": {},
   "outputs": [],
   "source": [
    "df = spark.createDataFrame(\n",
    "    data=[\n",
    "        [\"en\", \"Hello Seattle\"],\n",
    "        [\"en\", \"There once was a dog who lived in London and thought she was a human\"],\n",
    "    ],\n",
    "    schema=[\"language\", \"text\"],\n",
    ")"
   ]
  },
  {
   "cell_type": "code",
   "execution_count": null,
   "metadata": {},
   "outputs": [],
   "source": [
    "from synapse.ml.services import *\n",
    "\n",
    "text_analyze = (\n",
    "    TextAnalyze()\n",
    "    .setLocation(ai_service_location)\n",
    "    .setSubscriptionKey(ai_service_key)\n",
    "    .setTextCol(\"text\")\n",
    "    .setOutputCol(\"textAnalysis\")\n",
    "    .setErrorCol(\"error\")\n",
    "    .setLanguageCol(\"language\")\n",
    "    .setEntityRecognitionParams(\n",
    "        {\"model-version\": \"latest\"}\n",
    "    )  # Can pass parameters to each model individually\n",
    "    .setIncludePii(False)  # Users can manually exclude tasks to speed up analysis\n",
    "    .setIncludeEntityLinking(False)\n",
    "    .setIncludeSentimentAnalysis(False)\n",
    ")\n",
    "\n",
    "df_results = text_analyze.transform(df)"
   ]
  },
  {
   "cell_type": "code",
   "execution_count": null,
   "metadata": {},
   "outputs": [],
   "source": [
    "display(df_results)"
   ]
  }
 ],
 "metadata": {
  "application/vnd.databricks.v1+notebook": {
   "dashboards": [],
   "language": "python",
   "notebookMetadata": {
    "pythonIndentUnit": 2
   },
   "notebookName": "QuickStart -AnalyzeText",
   "widgets": {}
  },
  "language_info": {
   "name": "python"
  }
 },
 "nbformat": 4,
 "nbformat_minor": 0
}
