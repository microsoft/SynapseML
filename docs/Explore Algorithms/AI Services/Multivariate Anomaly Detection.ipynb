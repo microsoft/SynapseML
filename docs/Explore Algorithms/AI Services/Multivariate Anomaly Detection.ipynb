{
 "cells": [
  {
   "attachments": {},
   "cell_type": "markdown",
   "metadata": {},
   "source": [
    "# Recipe: Azure AI Services - Multivariate Anomaly Detection \n",
    "This recipe shows how you can use SynapseML and Azure AI services on Apache Spark for multivariate anomaly detection. Multivariate anomaly detection allows for the detection of anomalies among many variables or time series, taking into account all the inter-correlations and dependencies between the different variables. In this scenario, we use SynapseML to train a model for multivariate anomaly detection using the Azure AI services, and we then use to the model to infer multivariate anomalies within a dataset containing synthetic measurements from three IoT sensors.\n",
    "\n",
    "To learn more about the Azure AI Anomaly Detector, refer to [this documentation page](https://docs.microsoft.com/azure/ai-services/anomaly-detector/). "
   ]
  },
  {
   "cell_type": "markdown",
   "metadata": {
    "tags": [
     "alert",
     "important"
    ]
   },
   "source": [
    "## Important\n",
    "Starting on the 20th of September, 2023 you won’t be able to create new Anomaly Detector resources. The Anomaly Detector service is being retired on the 1st of October, 2026."
   ]
  },
  {
   "attachments": {},
   "cell_type": "markdown",
   "metadata": {},
   "source": [
    "\n",
    "## Setup\n",
    "### Create an Anomaly Detector resource\n",
    "Follow the instructions to create an `Anomaly Detector` resource using the Azure portal or alternatively, you can also use the Azure CLI to create this resource.\n",
    "\n",
    "- In the Azure portal, select **Create** in your resource group, and then type **Anomaly Detector**. Select the Anomaly Detector resource.\n",
    "- Give the resource a name, and ideally use the same region as the rest of your resource group. Use the default options for the rest, and then select **Review + Create** and then **Create**.\n",
    "- Once the Anomaly Detector resource is created, open it and select the `Keys and Endpoints` panel in the left nav. Copy the key for the Anomaly Detector resource into the `ANOMALY_API_KEY` environment variable, or store it in the `anomalyKey` variable.\n",
    "\n",
    "### Create a Storage Account resource\n",
    "In order to save intermediate data, you need to create an Azure Blob Storage Account. Within that storage account, create a container for storing the intermediate data. Make note of the container name, and copy the connection string to that container. You need it later to populate the `containerName` variable and the `BLOB_CONNECTION_STRING` environment variable."
   ]
  },
  {
   "attachments": {},
   "cell_type": "markdown",
   "metadata": {},
   "source": [
    "### Enter your service keys\n",
    "Let's start by setting up the environment variables for our service keys. The next cell sets the `ANOMALY_API_KEY` and the `BLOB_CONNECTION_STRING` environment variables based on the values stored in our Azure Key Vault. If you're running this tutorial in your own environment, make sure you set these environment variables before you proceed."
   ]
  },
  {
   "cell_type": "markdown",
   "metadata": {},
   "source": [
    "Now, lets read the `ANOMALY_API_KEY` and `BLOB_CONNECTION_STRING` environment variables and set the `containerName` and `location` variables."
   ]
  },
  {
   "cell_type": "code",
   "execution_count": null,
   "metadata": {},
   "outputs": [],
   "source": [
    "from synapse.ml.core.platform import find_secret\n",
    "\n",
    "# An Anomaly Dectector subscription key\n",
    "anomalyKey = find_secret(\n",
    "    secret_name=\"anomaly-api-key\", keyvault=\"mmlspark-build-keys\"\n",
    ")  # use your own anomaly api key\n",
    "# Your storage account name\n",
    "storageName = \"anomalydetectiontest\"  # use your own storage account name\n",
    "# A connection string to your blob storage account\n",
    "storageKey = find_secret(\n",
    "    secret_name=\"madtest-storage-key\", keyvault=\"mmlspark-build-keys\"\n",
    ")  # use your own storage key\n",
    "# A place to save intermediate MVAD results\n",
    "intermediateSaveDir = (\n",
    "    \"wasbs://madtest@anomalydetectiontest.blob.core.windows.net/intermediateData\"\n",
    ")\n",
    "# The location of the anomaly detector resource that you created\n",
    "location = \"westus2\""
   ]
  },
  {
   "attachments": {},
   "cell_type": "markdown",
   "metadata": {},
   "source": [
    "First we connect to our storage account so that anomaly detector can save intermediate results there:"
   ]
  },
  {
   "cell_type": "code",
   "execution_count": null,
   "metadata": {
    "collapsed": false,
    "pycharm": {
     "name": "#%%\n"
    }
   },
   "outputs": [],
   "source": [
    "spark.sparkContext._jsc.hadoopConfiguration().set(\n",
    "    f\"fs.azure.account.key.{storageName}.blob.core.windows.net\", storageKey\n",
    ")"
   ]
  },
  {
   "cell_type": "markdown",
   "metadata": {
    "collapsed": false
   },
   "source": [
    "Let's import all the necessary modules."
   ]
  },
  {
   "cell_type": "code",
   "execution_count": null,
   "metadata": {},
   "outputs": [],
   "source": [
    "import numpy as np\n",
    "import pandas as pd\n",
    "\n",
    "import pyspark\n",
    "from pyspark.sql.functions import col\n",
    "from pyspark.sql.functions import lit\n",
    "from pyspark.sql.types import DoubleType\n",
    "import matplotlib.pyplot as plt\n",
    "\n",
    "import synapse.ml\n",
    "from synapse.ml.services.anomaly import *"
   ]
  },
  {
   "attachments": {},
   "cell_type": "markdown",
   "metadata": {},
   "source": [
    "Now, let's read our sample data into a Spark DataFrame."
   ]
  },
  {
   "cell_type": "code",
   "execution_count": null,
   "metadata": {
    "application/vnd.databricks.v1+cell": {
     "inputWidgets": {},
     "nuid": "58080b22-fff1-463b-ad80-0639d475ec89",
     "showTitle": false,
     "title": ""
    }
   },
   "outputs": [],
   "source": [
    "df = (\n",
    "    spark.read.format(\"csv\")\n",
    "    .option(\"header\", \"true\")\n",
    "    .load(\"wasbs://publicwasb@mmlspark.blob.core.windows.net/MVAD/sample.csv\")\n",
    ")\n",
    "\n",
    "df = (\n",
    "    df.withColumn(\"sensor_1\", col(\"sensor_1\").cast(DoubleType()))\n",
    "    .withColumn(\"sensor_2\", col(\"sensor_2\").cast(DoubleType()))\n",
    "    .withColumn(\"sensor_3\", col(\"sensor_3\").cast(DoubleType()))\n",
    ")\n",
    "\n",
    "# Let's inspect the dataframe:\n",
    "df.show(5)"
   ]
  },
  {
   "attachments": {},
   "cell_type": "markdown",
   "metadata": {
    "application/vnd.databricks.v1+cell": {
     "inputWidgets": {},
     "nuid": "e9bd6780-dcd1-4ee6-8116-eb2b4c6950c9",
     "showTitle": false,
     "title": ""
    }
   },
   "source": [
    "We can now create an `estimator` object, which is used to train our model. We specify the start and end times for the training data. We also specify the input columns to use, and the name of the column that contains the timestamps. Finally, we specify the number of data points to use in the anomaly detection sliding window, and we set the connection string to the Azure Blob Storage Account. "
   ]
  },
  {
   "cell_type": "code",
   "execution_count": null,
   "metadata": {},
   "outputs": [],
   "source": [
    "trainingStartTime = \"2020-06-01T12:00:00Z\"\n",
    "trainingEndTime = \"2020-07-02T17:55:00Z\"\n",
    "timestampColumn = \"timestamp\"\n",
    "inputColumns = [\"sensor_1\", \"sensor_2\", \"sensor_3\"]\n",
    "\n",
    "estimator = (\n",
    "    SimpleFitMultivariateAnomaly()\n",
    "    .setSubscriptionKey(anomalyKey)\n",
    "    .setLocation(location)\n",
    "    .setStartTime(trainingStartTime)\n",
    "    .setEndTime(trainingEndTime)\n",
    "    .setIntermediateSaveDir(intermediateSaveDir)\n",
    "    .setTimestampCol(timestampColumn)\n",
    "    .setInputCols(inputColumns)\n",
    "    .setSlidingWindow(200)\n",
    ")"
   ]
  },
  {
   "attachments": {},
   "cell_type": "markdown",
   "metadata": {},
   "source": [
    "Now that we created the `estimator`, let's fit it to the data:"
   ]
  },
  {
   "cell_type": "code",
   "execution_count": null,
   "metadata": {},
   "outputs": [],
   "source": [
    "model = estimator.fit(df)"
   ]
  },
  {
   "attachments": {},
   "cell_type": "markdown",
   "metadata": {},
   "source": [
    "Once the training is done, we can now use the model for inference. The code in the next cell specifies the start and end times for the data we would like to detect the anomalies in. "
   ]
  },
  {
   "cell_type": "code",
   "execution_count": null,
   "metadata": {
    "application/vnd.databricks.v1+cell": {
     "inputWidgets": {},
     "nuid": "89b54ad2-3474-4e1e-a9c7-829e703831d0",
     "showTitle": false,
     "title": ""
    }
   },
   "outputs": [],
   "source": [
    "inferenceStartTime = \"2020-07-02T18:00:00Z\"\n",
    "inferenceEndTime = \"2020-07-06T05:15:00Z\"\n",
    "\n",
    "result = (\n",
    "    model.setStartTime(inferenceStartTime)\n",
    "    .setEndTime(inferenceEndTime)\n",
    "    .setOutputCol(\"results\")\n",
    "    .setErrorCol(\"errors\")\n",
    "    .setInputCols(inputColumns)\n",
    "    .setTimestampCol(timestampColumn)\n",
    "    .transform(df)\n",
    ")\n",
    "\n",
    "result.show(5)"
   ]
  },
  {
   "attachments": {},
   "cell_type": "markdown",
   "metadata": {},
   "source": [
    "When we called `.show(5)` in the previous cell, it showed us the first five rows in the dataframe. The results were all `null` because they weren't inside the inference window.\n",
    "\n",
    "To show the results only for the inferred data, lets select the columns we need. We can then order the rows in the dataframe by ascending order, and filter the result to only show the rows that are in the range of the inference window. In our case `inferenceEndTime` is the same as the last row in the dataframe, so can ignore that. \n",
    "\n",
    "Finally, to be able to better plot the results, lets convert the Spark dataframe to a Pandas dataframe.\n"
   ]
  },
  {
   "cell_type": "code",
   "execution_count": null,
   "metadata": {
    "application/vnd.databricks.v1+cell": {
     "inputWidgets": {},
     "nuid": "18c9be87-c4e7-4221-9135-b80b3788c43e",
     "showTitle": false,
     "title": ""
    }
   },
   "outputs": [],
   "source": [
    "rdf = (\n",
    "    result.select(\n",
    "        \"timestamp\",\n",
    "        *inputColumns,\n",
    "        \"results.interpretation\",\n",
    "        \"isAnomaly\",\n",
    "        \"results.severity\"\n",
    "    )\n",
    "    .orderBy(\"timestamp\", ascending=True)\n",
    "    .filter(col(\"timestamp\") >= lit(inferenceStartTime))\n",
    "    .toPandas()\n",
    ")\n",
    "\n",
    "rdf"
   ]
  },
  {
   "attachments": {},
   "cell_type": "markdown",
   "metadata": {},
   "source": [
    "Format the `contributors` column that stores the contribution score from each sensor to the detected anomalies. The next cell formats this data, and splits the contribution score of each sensor into its own column."
   ]
  },
  {
   "cell_type": "markdown",
   "metadata": {},
   "source": [
    "For Spark3.3 and below versions, the output of select statements will be in the format of `List<Rows>`, so to format the data into dictionary and generate the values when interpretation is empty, please use the below parse method:\n",
    "\n",
    "```\n",
    "def parse(x):\n",
    "    if len(x) > 0:\n",
    "        return dict([item[:2] for item in x])\n",
    "    else:\n",
    "        return {\"sensor_1\": 0, \"sensor_2\": 0, \"sensor_3\": 0}\n",
    "```\n",
    "\n",
    "Staring with Spark3.4, the output of the select statement is already formatted as a `numpy.ndarry<dictionary>` and no need to format the data again, so please use below parse method to generate the values when interpretation is empty:\n"
   ]
  },
  {
   "cell_type": "code",
   "execution_count": null,
   "metadata": {
    "application/vnd.databricks.v1+cell": {
     "inputWidgets": {},
     "nuid": "5b4e072f-e0e6-4362-a321-bbfae41dea0c",
     "showTitle": false,
     "title": ""
    }
   },
   "outputs": [],
   "source": [
    "def parse(x):\n",
    "    if len(x) == 0:\n",
    "        return {\"sensor_1\": 0, \"sensor_2\": 0, \"sensor_3\": 0}\n",
    "\n",
    "\n",
    "rdf[\"contributors\"] = rdf[\"interpretation\"].apply(parse)\n",
    "rdf = pd.concat(\n",
    "    [\n",
    "        rdf.drop([\"contributors\"], axis=1),\n",
    "        pd.json_normalize(rdf[\"contributors\"]).rename(\n",
    "            columns={\n",
    "                \"sensor_1\": \"series_1\",\n",
    "                \"sensor_2\": \"series_2\",\n",
    "                \"sensor_3\": \"series_3\",\n",
    "            }\n",
    "        ),\n",
    "    ],\n",
    "    axis=1,\n",
    ")\n",
    "rdf"
   ]
  },
  {
   "cell_type": "markdown",
   "metadata": {
    "application/vnd.databricks.v1+cell": {
     "inputWidgets": {},
     "nuid": "67943277-ef55-4a84-a478-0e89dbf33d6a",
     "showTitle": false,
     "title": ""
    }
   },
   "source": [
    "Great! We now have the contribution scores of sensors 1, 2, and 3 in the `series_0`, `series_1`, and `series_2` columns respectively. \n",
    "\n",
    "Run the next cell to plot the results. The `minSeverity` parameter specifies the minimum severity of the anomalies to be plotted."
   ]
  },
  {
   "cell_type": "code",
   "execution_count": null,
   "metadata": {
    "application/vnd.databricks.v1+cell": {
     "inputWidgets": {},
     "nuid": "5b259f82-9e91-4034-b5f9-4a2bc49a59ef",
     "showTitle": false,
     "title": ""
    }
   },
   "outputs": [],
   "source": [
    "minSeverity = 0.1\n",
    "\n",
    "\n",
    "####### Main Figure #######\n",
    "plt.figure(figsize=(23, 8))\n",
    "plt.plot(\n",
    "    rdf[\"timestamp\"],\n",
    "    rdf[\"sensor_1\"],\n",
    "    color=\"tab:orange\",\n",
    "    linestyle=\"solid\",\n",
    "    linewidth=2,\n",
    "    label=\"sensor_1\",\n",
    ")\n",
    "plt.plot(\n",
    "    rdf[\"timestamp\"],\n",
    "    rdf[\"sensor_2\"],\n",
    "    color=\"tab:green\",\n",
    "    linestyle=\"solid\",\n",
    "    linewidth=2,\n",
    "    label=\"sensor_2\",\n",
    ")\n",
    "plt.plot(\n",
    "    rdf[\"timestamp\"],\n",
    "    rdf[\"sensor_3\"],\n",
    "    color=\"tab:blue\",\n",
    "    linestyle=\"solid\",\n",
    "    linewidth=2,\n",
    "    label=\"sensor_3\",\n",
    ")\n",
    "plt.grid(axis=\"y\")\n",
    "plt.tick_params(axis=\"x\", which=\"both\", bottom=False, labelbottom=False)\n",
    "plt.legend()\n",
    "\n",
    "anoms = list(rdf[\"severity\"] >= minSeverity)\n",
    "_, _, ymin, ymax = plt.axis()\n",
    "plt.vlines(np.where(anoms), ymin=ymin, ymax=ymax, color=\"r\", alpha=0.8)\n",
    "\n",
    "plt.legend()\n",
    "plt.title(\n",
    "    \"A plot of the values from the three sensors with the detected anomalies highlighted in red.\"\n",
    ")\n",
    "plt.show()\n",
    "\n",
    "####### Severity Figure #######\n",
    "plt.figure(figsize=(23, 1))\n",
    "plt.tick_params(axis=\"x\", which=\"both\", bottom=False, labelbottom=False)\n",
    "plt.plot(\n",
    "    rdf[\"timestamp\"],\n",
    "    rdf[\"severity\"],\n",
    "    color=\"black\",\n",
    "    linestyle=\"solid\",\n",
    "    linewidth=2,\n",
    "    label=\"Severity score\",\n",
    ")\n",
    "plt.plot(\n",
    "    rdf[\"timestamp\"],\n",
    "    [minSeverity] * len(rdf[\"severity\"]),\n",
    "    color=\"red\",\n",
    "    linestyle=\"dotted\",\n",
    "    linewidth=1,\n",
    "    label=\"minSeverity\",\n",
    ")\n",
    "plt.grid(axis=\"y\")\n",
    "plt.legend()\n",
    "plt.ylim([0, 1])\n",
    "plt.title(\"Severity of the detected anomalies\")\n",
    "plt.show()\n",
    "\n",
    "####### Contributors Figure #######\n",
    "plt.figure(figsize=(23, 1))\n",
    "plt.tick_params(axis=\"x\", which=\"both\", bottom=False, labelbottom=False)\n",
    "plt.bar(\n",
    "    rdf[\"timestamp\"], rdf[\"series_1\"], width=2, color=\"tab:orange\", label=\"sensor_1\"\n",
    ")\n",
    "plt.bar(\n",
    "    rdf[\"timestamp\"],\n",
    "    rdf[\"series_2\"],\n",
    "    width=2,\n",
    "    color=\"tab:green\",\n",
    "    label=\"sensor_2\",\n",
    "    bottom=rdf[\"series_1\"],\n",
    ")\n",
    "plt.bar(\n",
    "    rdf[\"timestamp\"],\n",
    "    rdf[\"series_3\"],\n",
    "    width=2,\n",
    "    color=\"tab:blue\",\n",
    "    label=\"sensor_3\",\n",
    "    bottom=rdf[\"series_1\"] + rdf[\"series_2\"],\n",
    ")\n",
    "plt.grid(axis=\"y\")\n",
    "plt.legend()\n",
    "plt.ylim([0, 1])\n",
    "plt.title(\"The contribution of each sensor to the detected anomaly\")\n",
    "plt.show()"
   ]
  },
  {
   "attachments": {},
   "cell_type": "markdown",
   "metadata": {},
   "source": [
    "<img width=\"1300\" src=\"https://mmlspark.blob.core.windows.net/graphics/multivariate-anomaly-detection-plot.png\"/>"
   ]
  },
  {
   "attachments": {},
   "cell_type": "markdown",
   "metadata": {
    "application/vnd.databricks.v1+cell": {
     "inputWidgets": {},
     "nuid": "d999ebc4-320b-45ab-9196-f3067e06ccd5",
     "showTitle": false,
     "title": ""
    }
   },
   "source": [
    "The plots show the raw data from the sensors (inside the inference window) in orange, green, and blue. The red vertical lines in the first figure show the detected anomalies that have a severity greater than or equal to `minSeverity`. \n",
    "\n",
    "The second plot shows the severity score of all the detected anomalies, with the `minSeverity` threshold shown in the dotted red line.\n",
    "\n",
    "Finally, the last plot shows the contribution of the data from each sensor to the detected anomalies. It helps us diagnose and understand the most likely cause of each anomaly."
   ]
  }
 ],
 "metadata": {
  "application/vnd.databricks.v1+notebook": {
   "dashboards": [],
   "language": "python",
   "notebookMetadata": {
    "pythonIndentUnit": 4
   },
   "notebookName": "sample_mvad_notebook",
   "notebookOrigID": 595270988434496,
   "widgets": {}
  },
  "kernelspec": {
   "display_name": "dev",
   "language": "python",
   "name": "dev"
  },
  "language_info": {
   "codemirror_mode": {
    "name": "ipython",
    "version": 3
   },
   "file_extension": ".py",
   "mimetype": "text/x-python",
   "name": "python",
   "nbconvert_exporter": "python",
   "pygments_lexer": "ipython3",
   "version": "3.7.12"
  }
 },
 "nbformat": 4,
 "nbformat_minor": 4
}
