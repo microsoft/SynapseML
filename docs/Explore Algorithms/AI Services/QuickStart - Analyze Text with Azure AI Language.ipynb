{
 "cells": [
  {
   "cell_type": "markdown",
   "metadata": {
    "application/vnd.databricks.v1+cell": {
     "cellMetadata": {},
     "inputWidgets": {},
     "nuid": "89c4a597-d46c-4736-87eb-059ead14d5ed",
     "showTitle": false,
     "title": ""
    }
   },
   "source": [
    "# AnalyzeText with SynapseML and Azure AI Language\n",
    "[Azure AI Language](https://learn.microsoft.com/azure/ai-services/language-service/overview) is a cloud-based service that provides Natural Language Processing (NLP) features for understanding and analyzing text. Use this service to help build intelligent applications using the web-based Language Studio, REST APIs, and client libraries.\n",
    "You can use SynapseML with Azure AI Language for **named entity recognition**, **language detection**, **entity linking**, **key phrase extraction**, **Pii entity recognition** and **sentiment analysis**."
   ]
  },
  {
   "cell_type": "code",
   "execution_count": 0,
   "metadata": {
    "application/vnd.databricks.v1+cell": {
     "cellMetadata": {
      "byteLimit": 2048000,
      "rowLimit": 10000
     },
     "inputWidgets": {},
     "nuid": "cc693d0e-19a5-4121-84f2-7e41874bc77e",
     "showTitle": false,
     "title": ""
    }
   },
   "outputs": [],
   "source": [
    "from synapse.ml.services.language import AnalyzeText\n",
    "from synapse.ml.core.platform import find_secret\n",
    "\n",
    "ai_service_key = find_secret(\n",
    "    secret_name=\"ai-services-api-key\", keyvault=\"mmlspark-build-keys\"\n",
    ")\n",
    "ai_service_location = \"eastus\""
   ]
  },
  {
   "cell_type": "markdown",
   "metadata": {
    "application/vnd.databricks.v1+cell": {
     "cellMetadata": {},
     "inputWidgets": {},
     "nuid": "25fba439-7069-4959-9398-92b836af9b16",
     "showTitle": false,
     "title": ""
    }
   },
   "source": [
    "## Named Entity Recognition \n",
    "[Named Entity Recognition](https://learn.microsoft.com/azure/ai-services/language-service/named-entity-recognition/overview) is one of the features offered by Azure AI Language, a collection of machine learning and AI algorithms in the cloud for developing intelligent applications that involve written language. The NER feature can identify and categorize entities in unstructured text. For example: people, places, organizations, and quantities. Use this article to learn which [natural languages are supported](https://learn.microsoft.com/azure/ai-services/language-service/named-entity-recognition/language-support?tabs=ga-api) by the NER feature of Azure AI Language."
   ]
  },
  {
   "cell_type": "code",
   "execution_count": 0,
   "metadata": {
    "application/vnd.databricks.v1+cell": {
     "cellMetadata": {
      "byteLimit": 2048000,
      "rowLimit": 10000
     },
     "inputWidgets": {},
     "nuid": "2f5dc501-a11d-4c28-b61f-d846ed3179cd",
     "showTitle": false,
     "title": ""
    }
   },
   "outputs": [
    {
     "output_type": "display_data",
     "data": {
      "text/html": [
       "<style scoped>\n",
       "  .table-result-container {\n",
       "    max-height: 300px;\n",
       "    overflow: auto;\n",
       "  }\n",
       "  table, th, td {\n",
       "    border: 1px solid black;\n",
       "    border-collapse: collapse;\n",
       "  }\n",
       "  th, td {\n",
       "    padding: 5px;\n",
       "  }\n",
       "  th {\n",
       "    text-align: left;\n",
       "  }\n",
       "</style><div class='table-result-container'><table class='table-result'><thead style='background-color: white'><tr><th>language</th><th>text</th><th>entities</th></tr></thead><tbody><tr><td>en</td><td>Dr. Smith has a very modern medical office, and she has great staff.</td><td>List(List(Person, 0.98, 5, 4, null, Smith), List(Location, 0.79, 14, 28, Structural, medical office), List(PersonType, 0.85, 5, 62, null, staff))</td></tr><tr><td>en</td><td>I had a wonderful trip to Seattle last week.</td><td>List(List(Event, 0.74, 4, 18, null, trip), List(Location, 1.0, 7, 26, GPE, Seattle), List(DateTime, 0.8, 9, 34, DateRange, last week))</td></tr></tbody></table></div>"
      ]
     },
     "metadata": {
      "application/vnd.databricks.v1+output": {
       "addedWidgets": {},
       "aggData": [],
       "aggError": "",
       "aggOverflow": false,
       "aggSchema": [],
       "aggSeriesLimitReached": false,
       "aggType": "",
       "arguments": {},
       "columnCustomDisplayInfos": {},
       "data": [
        [
         "en",
         "Dr. Smith has a very modern medical office, and she has great staff.",
         [
          [
           "Person",
           0.98,
           5,
           4,
           null,
           "Smith"
          ],
          [
           "Location",
           0.79,
           14,
           28,
           "Structural",
           "medical office"
          ],
          [
           "PersonType",
           0.85,
           5,
           62,
           null,
           "staff"
          ]
         ]
        ],
        [
         "en",
         "I had a wonderful trip to Seattle last week.",
         [
          [
           "Event",
           0.74,
           4,
           18,
           null,
           "trip"
          ],
          [
           "Location",
           1.0,
           7,
           26,
           "GPE",
           "Seattle"
          ],
          [
           "DateTime",
           0.8,
           9,
           34,
           "DateRange",
           "last week"
          ]
         ]
        ]
       ],
       "datasetInfos": [],
       "dbfsResultPath": null,
       "isJsonSchema": true,
       "metadata": {},
       "overflow": false,
       "plotOptions": {
        "customPlotOptions": {},
        "displayType": "table",
        "pivotAggregation": null,
        "pivotColumns": null,
        "xColumns": null,
        "yColumns": null
       },
       "removedWidgets": [],
       "schema": [
        {
         "metadata": "{}",
         "name": "language",
         "type": "\"string\""
        },
        {
         "metadata": "{}",
         "name": "text",
         "type": "\"string\""
        },
        {
         "metadata": "{}",
         "name": "entities",
         "type": "{\"type\":\"array\",\"elementType\":{\"type\":\"struct\",\"fields\":[{\"name\":\"category\",\"type\":\"string\",\"nullable\":true,\"metadata\":{}},{\"name\":\"confidenceScore\",\"type\":\"double\",\"nullable\":false,\"metadata\":{}},{\"name\":\"length\",\"type\":\"integer\",\"nullable\":false,\"metadata\":{}},{\"name\":\"offset\",\"type\":\"integer\",\"nullable\":false,\"metadata\":{}},{\"name\":\"subcategory\",\"type\":\"string\",\"nullable\":true,\"metadata\":{}},{\"name\":\"text\",\"type\":\"string\",\"nullable\":true,\"metadata\":{}}]},\"containsNull\":true}"
        }
       ],
       "type": "table"
      }
     },
     "output_type": "display_data"
    }
   ],
   "source": [
    "df = spark.createDataFrame(\n",
    "    data=[\n",
    "        [\"en\", \"Dr. Smith has a very modern medical office, and she has great staff.\"],\n",
    "        [\"en\", \"I had a wonderful trip to Seattle last week.\"],\n",
    "    ],\n",
    "    schema=[\"language\", \"text\"],\n",
    ")\n",
    "\n",
    "entity_recognition = (\n",
    "    AnalyzeText()\n",
    "    .setKind(\"EntityRecognition\")\n",
    "    .setLocation(ai_service_location)\n",
    "    .setSubscriptionKey(ai_service_key)\n",
    "    .setTextCol(\"text\")\n",
    "    .setOutputCol(\"entities\")\n",
    "    .setErrorCol(\"error\")\n",
    "    .setLanguageCol(\"language\")\n",
    ")\n",
    "\n",
    "df_results = entity_recognition.transform(df)\n",
    "display(df_results.select(\"language\", \"text\", \"entities.documents.entities\"))"
   ]
  },
  {
   "cell_type": "markdown",
   "metadata": {
    "application/vnd.databricks.v1+cell": {
     "cellMetadata": {},
     "inputWidgets": {},
     "nuid": "5ff2c1c4-72dd-40cd-ada2-124df4000716",
     "showTitle": false,
     "title": ""
    }
   },
   "source": [
    "## LanguageDetection\n",
    "[Language detection](https://learn.microsoft.com/azure/ai-services/language-service/language-detection/overview) can detect the language a document is written in, and returns a language code for a wide range of languages, variants, dialects, and some regional/cultural languages. Use this article to learn which [natural languages that language detection supports](https://learn.microsoft.com/en-us/azure/ai-services/language-service/language-detection/language-support)."
   ]
  },
  {
   "cell_type": "code",
   "execution_count": 0,
   "metadata": {
    "application/vnd.databricks.v1+cell": {
     "cellMetadata": {
      "byteLimit": 2048000,
      "rowLimit": 10000
     },
     "inputWidgets": {},
     "nuid": "a648137e-be9c-4c14-a843-78e4d7832e4f",
     "showTitle": false,
     "title": ""
    }
   },
   "outputs": [
    {
     "output_type": "display_data",
     "data": {
      "text/html": [
       "<style scoped>\n",
       "  .table-result-container {\n",
       "    max-height: 300px;\n",
       "    overflow: auto;\n",
       "  }\n",
       "  table, th, td {\n",
       "    border: 1px solid black;\n",
       "    border-collapse: collapse;\n",
       "  }\n",
       "  th, td {\n",
       "    padding: 5px;\n",
       "  }\n",
       "  th {\n",
       "    text-align: left;\n",
       "  }\n",
       "</style><div class='table-result-container'><table class='table-result'><thead style='background-color: white'><tr><th>text</th><th>detectedLanguage</th></tr></thead><tbody><tr><td>This is a document written in English.</td><td>List(English, en, 0.99)</td></tr><tr><td>这是一份用中文写的文件</td><td>List(Chinese_Simplified, zh_chs, 1.0)</td></tr></tbody></table></div>"
      ]
     },
     "metadata": {
      "application/vnd.databricks.v1+output": {
       "addedWidgets": {},
       "aggData": [],
       "aggError": "",
       "aggOverflow": false,
       "aggSchema": [],
       "aggSeriesLimitReached": false,
       "aggType": "",
       "arguments": {},
       "columnCustomDisplayInfos": {},
       "data": [
        [
         "This is a document written in English.",
         [
          "English",
          "en",
          0.99
         ]
        ],
        [
         "这是一份用中文写的文件",
         [
          "Chinese_Simplified",
          "zh_chs",
          1.0
         ]
        ]
       ],
       "datasetInfos": [],
       "dbfsResultPath": null,
       "isJsonSchema": true,
       "metadata": {},
       "overflow": false,
       "plotOptions": {
        "customPlotOptions": {},
        "displayType": "table",
        "pivotAggregation": null,
        "pivotColumns": null,
        "xColumns": null,
        "yColumns": null
       },
       "removedWidgets": [],
       "schema": [
        {
         "metadata": "{}",
         "name": "text",
         "type": "\"string\""
        },
        {
         "metadata": "{}",
         "name": "detectedLanguage",
         "type": "{\"type\":\"struct\",\"fields\":[{\"name\":\"name\",\"type\":\"string\",\"nullable\":true,\"metadata\":{}},{\"name\":\"iso6391Name\",\"type\":\"string\",\"nullable\":true,\"metadata\":{}},{\"name\":\"confidenceScore\",\"type\":\"double\",\"nullable\":false,\"metadata\":{}}]}"
        }
       ],
       "type": "table"
      }
     },
     "output_type": "display_data"
    }
   ],
   "source": [
    "df = spark.createDataFrame(\n",
    "    data=[\n",
    "        [\"This is a document written in English.\"],\n",
    "        [\"这是一份用中文写的文件\"],\n",
    "    ],\n",
    "    schema=[\"text\"],\n",
    ")\n",
    "\n",
    "language_detection = (\n",
    "    AnalyzeText()\n",
    "    .setKind(\"LanguageDetection\")\n",
    "    .setLocation(ai_service_location)\n",
    "    .setSubscriptionKey(ai_service_key)\n",
    "    .setTextCol(\"text\")\n",
    "    .setOutputCol(\"detected_language\")\n",
    "    .setErrorCol(\"error\")\n",
    ")\n",
    "\n",
    "df_results = language_detection.transform(df)\n",
    "display(df_results.select(\"text\",\"detected_language.documents.detectedLanguage\"))"
   ]
  },
  {
   "cell_type": "markdown",
   "metadata": {
    "application/vnd.databricks.v1+cell": {
     "cellMetadata": {},
     "inputWidgets": {},
     "nuid": "cb5ce07f-043f-4f46-a7c1-ca693a53ef13",
     "showTitle": false,
     "title": ""
    }
   },
   "source": [
    "## EntityLinking\n",
    "[Entity linking](https://learn.microsoft.com/azure/ai-services/language-service/entity-linking/overview) identifies and disambiguates the identity of entities found in text. For example, in the sentence \"We went to Seattle last week.\", the word \"Seattle\" would be identified, with a link to more information on Wikipedia. [English and Spanish are supported](https://learn.microsoft.com/azure/ai-services/language-service/entity-linking/language-support)."
   ]
  },
  {
   "cell_type": "code",
   "execution_count": 0,
   "metadata": {
    "application/vnd.databricks.v1+cell": {
     "cellMetadata": {
      "byteLimit": 2048000,
      "rowLimit": 10000
     },
     "inputWidgets": {},
     "nuid": "5b80339b-ed83-4dd7-9911-516391659212",
     "showTitle": false,
     "title": ""
    }
   },
   "outputs": [
    {
     "output_type": "display_data",
     "data": {
      "text/html": [
       "<style scoped>\n",
       "  .table-result-container {\n",
       "    max-height: 300px;\n",
       "    overflow: auto;\n",
       "  }\n",
       "  table, th, td {\n",
       "    border: 1px solid black;\n",
       "    border-collapse: collapse;\n",
       "  }\n",
       "  th, td {\n",
       "    padding: 5px;\n",
       "  }\n",
       "  th {\n",
       "    text-align: left;\n",
       "  }\n",
       "</style><div class='table-result-container'><table class='table-result'><thead style='background-color: white'><tr><th>text</th><th>entities</th></tr></thead><tbody><tr><td>Microsoft was founded by Bill Gates and Paul Allen on April 4, 1975.</td><td>List(List(a093e9b9-90f5-a3d5-c4b8-5855e1b01f85, Wikipedia, Microsoft, en, List(List(0.48, 9, 0, Microsoft)), Microsoft, https://en.wikipedia.org/wiki/Microsoft), List(0d47c987-0042-5576-15e8-97af601614fa, Wikipedia, Bill Gates, en, List(List(0.52, 10, 25, Bill Gates)), Bill Gates, https://en.wikipedia.org/wiki/Bill_Gates), List(df2c4376-9923-6a54-893f-2ee5a5badbc7, Wikipedia, Paul Allen, en, List(List(0.54, 10, 40, Paul Allen)), Paul Allen, https://en.wikipedia.org/wiki/Paul_Allen), List(52535f87-235e-b513-54fe-c03e4233ac6e, Wikipedia, April 4, en, List(List(0.38, 7, 54, April 4)), April 4, https://en.wikipedia.org/wiki/April_4))</td></tr><tr><td>We went to Seattle last week.</td><td>List(List(5fbba6b8-85e1-4d41-9444-d9055436e473, Wikipedia, Seattle, en, List(List(0.17, 7, 11, Seattle)), Seattle, https://en.wikipedia.org/wiki/Seattle))</td></tr></tbody></table></div>"
      ]
     },
     "metadata": {
      "application/vnd.databricks.v1+output": {
       "addedWidgets": {},
       "aggData": [],
       "aggError": "",
       "aggOverflow": false,
       "aggSchema": [],
       "aggSeriesLimitReached": false,
       "aggType": "",
       "arguments": {},
       "columnCustomDisplayInfos": {},
       "data": [
        [
         "Microsoft was founded by Bill Gates and Paul Allen on April 4, 1975.",
         [
          [
           "a093e9b9-90f5-a3d5-c4b8-5855e1b01f85",
           "Wikipedia",
           "Microsoft",
           "en",
           [
            [
             0.48,
             9,
             0,
             "Microsoft"
            ]
           ],
           "Microsoft",
           "https://en.wikipedia.org/wiki/Microsoft"
          ],
          [
           "0d47c987-0042-5576-15e8-97af601614fa",
           "Wikipedia",
           "Bill Gates",
           "en",
           [
            [
             0.52,
             10,
             25,
             "Bill Gates"
            ]
           ],
           "Bill Gates",
           "https://en.wikipedia.org/wiki/Bill_Gates"
          ],
          [
           "df2c4376-9923-6a54-893f-2ee5a5badbc7",
           "Wikipedia",
           "Paul Allen",
           "en",
           [
            [
             0.54,
             10,
             40,
             "Paul Allen"
            ]
           ],
           "Paul Allen",
           "https://en.wikipedia.org/wiki/Paul_Allen"
          ],
          [
           "52535f87-235e-b513-54fe-c03e4233ac6e",
           "Wikipedia",
           "April 4",
           "en",
           [
            [
             0.38,
             7,
             54,
             "April 4"
            ]
           ],
           "April 4",
           "https://en.wikipedia.org/wiki/April_4"
          ]
         ]
        ],
        [
         "We went to Seattle last week.",
         [
          [
           "5fbba6b8-85e1-4d41-9444-d9055436e473",
           "Wikipedia",
           "Seattle",
           "en",
           [
            [
             0.17,
             7,
             11,
             "Seattle"
            ]
           ],
           "Seattle",
           "https://en.wikipedia.org/wiki/Seattle"
          ]
         ]
        ]
       ],
       "datasetInfos": [],
       "dbfsResultPath": null,
       "isJsonSchema": true,
       "metadata": {},
       "overflow": false,
       "plotOptions": {
        "customPlotOptions": {},
        "displayType": "table",
        "pivotAggregation": null,
        "pivotColumns": null,
        "xColumns": null,
        "yColumns": null
       },
       "removedWidgets": [],
       "schema": [
        {
         "metadata": "{}",
         "name": "text",
         "type": "\"string\""
        },
        {
         "metadata": "{}",
         "name": "entities",
         "type": "{\"type\":\"array\",\"elementType\":{\"type\":\"struct\",\"fields\":[{\"name\":\"bingId\",\"type\":\"string\",\"nullable\":true,\"metadata\":{}},{\"name\":\"dataSource\",\"type\":\"string\",\"nullable\":true,\"metadata\":{}},{\"name\":\"id\",\"type\":\"string\",\"nullable\":true,\"metadata\":{}},{\"name\":\"language\",\"type\":\"string\",\"nullable\":true,\"metadata\":{}},{\"name\":\"matches\",\"type\":{\"type\":\"array\",\"elementType\":{\"type\":\"struct\",\"fields\":[{\"name\":\"confidenceScore\",\"type\":\"double\",\"nullable\":false,\"metadata\":{}},{\"name\":\"length\",\"type\":\"integer\",\"nullable\":false,\"metadata\":{}},{\"name\":\"offset\",\"type\":\"integer\",\"nullable\":false,\"metadata\":{}},{\"name\":\"text\",\"type\":\"string\",\"nullable\":true,\"metadata\":{}}]},\"containsNull\":true},\"nullable\":true,\"metadata\":{}},{\"name\":\"name\",\"type\":\"string\",\"nullable\":true,\"metadata\":{}},{\"name\":\"url\",\"type\":\"string\",\"nullable\":true,\"metadata\":{}}]},\"containsNull\":true}"
        }
       ],
       "type": "table"
      }
     },
     "output_type": "display_data"
    }
   ],
   "source": [
    "df = spark.createDataFrame(\n",
    "    data=[\n",
    "        [\"Microsoft was founded by Bill Gates and Paul Allen on April 4, 1975.\"],\n",
    "        [\"We went to Seattle last week.\"],\n",
    "    ],\n",
    "    schema=[\"text\"],\n",
    ")\n",
    "\n",
    "entity_linking = (\n",
    "    AnalyzeText()\n",
    "    .setKind(\"EntityLinking\")\n",
    "    .setLocation(ai_service_location)\n",
    "    .setSubscriptionKey(ai_service_key)\n",
    "    .setTextCol(\"text\")\n",
    "    .setOutputCol(\"entity_linking\")\n",
    "    .setErrorCol(\"error\")\n",
    ")\n",
    "\n",
    "df_results = entity_linking.transform(df)\n",
    "display(df_results.select(\"text\",\"entity_linking.documents.entities\"))"
   ]
  },
  {
   "cell_type": "markdown",
   "metadata": {
    "application/vnd.databricks.v1+cell": {
     "cellMetadata": {},
     "inputWidgets": {},
     "nuid": "2c6ff821-a061-4598-819a-d6287f5c7a4c",
     "showTitle": false,
     "title": ""
    }
   },
   "source": [
    "## KeyPhraseExtraction\n",
    "[Key phrase extraction](https://learn.microsoft.com/en-us/azure/ai-services/language-service/key-phrase-extraction/overview) is one of the features offered by Azure AI Language, a collection of machine learning and AI algorithms in the cloud for developing intelligent applications that involve written language. Use key phrase extraction to quickly identify the main concepts in text. For example, in the text \"The food was delicious and the staff were wonderful.\", key phrase extraction will return the main topics: \"food\" and \"wonderful staff\". Use this article to find the [natural languages supported by Key Phrase Extraction](https://learn.microsoft.com/azure/ai-services/language-service/key-phrase-extraction/language-support). \n"
   ]
  },
  {
   "cell_type": "code",
   "execution_count": 0,
   "metadata": {
    "application/vnd.databricks.v1+cell": {
     "cellMetadata": {
      "byteLimit": 2048000,
      "rowLimit": 10000
     },
     "inputWidgets": {},
     "nuid": "fe1d089e-8d03-479c-ac38-ebc920bb7689",
     "showTitle": false,
     "title": ""
    }
   },
   "outputs": [
    {
     "output_type": "display_data",
     "data": {
      "text/html": [
       "<style scoped>\n",
       "  .table-result-container {\n",
       "    max-height: 300px;\n",
       "    overflow: auto;\n",
       "  }\n",
       "  table, th, td {\n",
       "    border: 1px solid black;\n",
       "    border-collapse: collapse;\n",
       "  }\n",
       "  th, td {\n",
       "    padding: 5px;\n",
       "  }\n",
       "  th {\n",
       "    text-align: left;\n",
       "  }\n",
       "</style><div class='table-result-container'><table class='table-result'><thead style='background-color: white'><tr><th>text</th><th>keyPhrases</th></tr></thead><tbody><tr><td>Microsoft was founded by Bill Gates and Paul Allen on April 4, 1975.</td><td>List(Bill Gates, Paul Allen, Microsoft, April)</td></tr><tr><td>Dr. Smith has a very modern medical office, and she has great staff.</td><td>List(modern medical office, Dr. Smith, great staff)</td></tr></tbody></table></div>"
      ]
     },
     "metadata": {
      "application/vnd.databricks.v1+output": {
       "addedWidgets": {},
       "aggData": [],
       "aggError": "",
       "aggOverflow": false,
       "aggSchema": [],
       "aggSeriesLimitReached": false,
       "aggType": "",
       "arguments": {},
       "columnCustomDisplayInfos": {},
       "data": [
        [
         "Microsoft was founded by Bill Gates and Paul Allen on April 4, 1975.",
         [
          "Bill Gates",
          "Paul Allen",
          "Microsoft",
          "April"
         ]
        ],
        [
         "Dr. Smith has a very modern medical office, and she has great staff.",
         [
          "modern medical office",
          "Dr. Smith",
          "great staff"
         ]
        ]
       ],
       "datasetInfos": [],
       "dbfsResultPath": null,
       "isJsonSchema": true,
       "metadata": {},
       "overflow": false,
       "plotOptions": {
        "customPlotOptions": {},
        "displayType": "table",
        "pivotAggregation": null,
        "pivotColumns": null,
        "xColumns": null,
        "yColumns": null
       },
       "removedWidgets": [],
       "schema": [
        {
         "metadata": "{}",
         "name": "text",
         "type": "\"string\""
        },
        {
         "metadata": "{}",
         "name": "keyPhrases",
         "type": "{\"type\":\"array\",\"elementType\":\"string\",\"containsNull\":true}"
        }
       ],
       "type": "table"
      }
     },
     "output_type": "display_data"
    }
   ],
   "source": [
    "df = spark.createDataFrame(\n",
    "    data=[\n",
    "        [\"Microsoft was founded by Bill Gates and Paul Allen on April 4, 1975.\"],\n",
    "        [\"Dr. Smith has a very modern medical office, and she has great staff.\"],\n",
    "    ],\n",
    "    schema=[\"text\"],\n",
    ")\n",
    "\n",
    "key_phrase_extraction = (\n",
    "    AnalyzeText()\n",
    "    .setKind(\"KeyPhraseExtraction\")\n",
    "    .setLocation(ai_service_location)\n",
    "    .setSubscriptionKey(ai_service_key)\n",
    "    .setTextCol(\"text\")\n",
    "    .setOutputCol(\"key_phrase_extraction\")\n",
    "    .setErrorCol(\"error\")\n",
    ")\n",
    "\n",
    "df_results = key_phrase_extraction.transform(df)\n",
    "display(df_results.select(\"text\",\"key_phrase_extraction.documents.keyPhrases\"))"
   ]
  },
  {
   "cell_type": "markdown",
   "metadata": {
    "application/vnd.databricks.v1+cell": {
     "cellMetadata": {},
     "inputWidgets": {},
     "nuid": "1cee500b-39f0-4812-8784-7dd60cbb1d33",
     "showTitle": false,
     "title": ""
    }
   },
   "source": [
    "## PiiEntityRecognition\n",
    "The PII detection feature can identify, categorize, and redact sensitive information in unstructured text. For example: phone numbers, email addresses, and forms of identification. The method for utilizing PII in conversations is different than other use cases, and articles for this use have been separated. [Use this article to learn which natural languages are supported](https://learn.microsoft.com/azure/ai-services/language-service/personally-identifiable-information/language-support?tabs=documents)."
   ]
  },
  {
   "cell_type": "code",
   "execution_count": 0,
   "metadata": {
    "application/vnd.databricks.v1+cell": {
     "cellMetadata": {
      "byteLimit": 2048000,
      "rowLimit": 10000
     },
     "inputWidgets": {},
     "nuid": "5eaf13fe-2fcb-4e47-a10d-d2f4ae757673",
     "showTitle": false,
     "title": ""
    }
   },
   "outputs": [
    {
     "output_type": "display_data",
     "data": {
      "text/html": [
       "<style scoped>\n",
       "  .table-result-container {\n",
       "    max-height: 300px;\n",
       "    overflow: auto;\n",
       "  }\n",
       "  table, th, td {\n",
       "    border: 1px solid black;\n",
       "    border-collapse: collapse;\n",
       "  }\n",
       "  th, td {\n",
       "    padding: 5px;\n",
       "  }\n",
       "  th {\n",
       "    text-align: left;\n",
       "  }\n",
       "</style><div class='table-result-container'><table class='table-result'><thead style='background-color: white'><tr><th>text</th><th>entities</th></tr></thead><tbody><tr><td>Call our office at 312-555-1234, or send an email to support@contoso.com</td><td>List(List(PhoneNumber, 0.8, 12, 19, null, 312-555-1234), List(Email, 0.8, 19, 53, null, support@contoso.com))</td></tr><tr><td>Dr. Smith has a very modern medical office, and she has great staff.</td><td>List(List(Person, 0.93, 5, 4, null, Smith))</td></tr></tbody></table></div>"
      ]
     },
     "metadata": {
      "application/vnd.databricks.v1+output": {
       "addedWidgets": {},
       "aggData": [],
       "aggError": "",
       "aggOverflow": false,
       "aggSchema": [],
       "aggSeriesLimitReached": false,
       "aggType": "",
       "arguments": {},
       "columnCustomDisplayInfos": {},
       "data": [
        [
         "Call our office at 312-555-1234, or send an email to support@contoso.com",
         [
          [
           "PhoneNumber",
           0.8,
           12,
           19,
           null,
           "312-555-1234"
          ],
          [
           "Email",
           0.8,
           19,
           53,
           null,
           "support@contoso.com"
          ]
         ]
        ],
        [
         "Dr. Smith has a very modern medical office, and she has great staff.",
         [
          [
           "Person",
           0.93,
           5,
           4,
           null,
           "Smith"
          ]
         ]
        ]
       ],
       "datasetInfos": [],
       "dbfsResultPath": null,
       "isJsonSchema": true,
       "metadata": {},
       "overflow": false,
       "plotOptions": {
        "customPlotOptions": {},
        "displayType": "table",
        "pivotAggregation": null,
        "pivotColumns": null,
        "xColumns": null,
        "yColumns": null
       },
       "removedWidgets": [],
       "schema": [
        {
         "metadata": "{}",
         "name": "text",
         "type": "\"string\""
        },
        {
         "metadata": "{}",
         "name": "entities",
         "type": "{\"type\":\"array\",\"elementType\":{\"type\":\"struct\",\"fields\":[{\"name\":\"category\",\"type\":\"string\",\"nullable\":true,\"metadata\":{}},{\"name\":\"confidenceScore\",\"type\":\"double\",\"nullable\":false,\"metadata\":{}},{\"name\":\"length\",\"type\":\"integer\",\"nullable\":false,\"metadata\":{}},{\"name\":\"offset\",\"type\":\"integer\",\"nullable\":false,\"metadata\":{}},{\"name\":\"subcategory\",\"type\":\"string\",\"nullable\":true,\"metadata\":{}},{\"name\":\"text\",\"type\":\"string\",\"nullable\":true,\"metadata\":{}}]},\"containsNull\":true}"
        }
       ],
       "type": "table"
      }
     },
     "output_type": "display_data"
    }
   ],
   "source": [
    "df = spark.createDataFrame(\n",
    "    data=[\n",
    "        [\"Call our office at 312-555-1234, or send an email to support@contoso.com\"],\n",
    "        [\"Dr. Smith has a very modern medical office, and she has great staff.\"],\n",
    "    ],\n",
    "    schema=[\"text\"],\n",
    ")\n",
    "\n",
    "pii_entity_recognition = (\n",
    "    AnalyzeText()\n",
    "    .setKind(\"PiiEntityRecognition\")\n",
    "    .setLocation(ai_service_location)\n",
    "    .setSubscriptionKey(ai_service_key)\n",
    "    .setTextCol(\"text\")\n",
    "    .setOutputCol(\"pii_entity_recognition\")\n",
    "    .setErrorCol(\"error\")\n",
    ")\n",
    "\n",
    "df_results = pii_entity_recognition.transform(df)\n",
    "display(df_results.select(\"text\",\"pii_entity_recognition.documents.entities\"))"
   ]
  },
  {
   "cell_type": "markdown",
   "metadata": {
    "application/vnd.databricks.v1+cell": {
     "cellMetadata": {},
     "inputWidgets": {},
     "nuid": "d8931cf0-f26e-4824-9967-4975e684f7f1",
     "showTitle": false,
     "title": ""
    }
   },
   "source": [
    "## SentimentAnalysis\n",
    "[Sentiment analysis](https://learn.microsoft.com/en-us/azure/ai-services/language-service/sentiment-opinion-mining/overview) and opinion mining are features offered by the Language service, a collection of machine learning and AI algorithms in the cloud for developing intelligent applications that involve written language. These features help you find out what people think of your brand or topic by mining text for clues about positive or negative sentiment, and can associate them with specific aspects of the text.\n",
    "\n",
    "[Use this article to learn which natural languages are supported](https://learn.microsoft.com/en-us/azure/ai-services/language-service/sentiment-opinion-mining/language-support)"
   ]
  },
  {
   "cell_type": "code",
   "execution_count": 0,
   "metadata": {
    "application/vnd.databricks.v1+cell": {
     "cellMetadata": {
      "byteLimit": 2048000,
      "rowLimit": 10000
     },
     "inputWidgets": {},
     "nuid": "8c9764b4-67db-41ee-a0b3-8a28210791d9",
     "showTitle": false,
     "title": ""
    }
   },
   "outputs": [
    {
     "output_type": "display_data",
     "data": {
      "text/html": [
       "<style scoped>\n",
       "  .table-result-container {\n",
       "    max-height: 300px;\n",
       "    overflow: auto;\n",
       "  }\n",
       "  table, th, td {\n",
       "    border: 1px solid black;\n",
       "    border-collapse: collapse;\n",
       "  }\n",
       "  th, td {\n",
       "    padding: 5px;\n",
       "  }\n",
       "  th {\n",
       "    text-align: left;\n",
       "  }\n",
       "</style><div class='table-result-container'><table class='table-result'><thead style='background-color: white'><tr><th>text</th><th>sentiment</th></tr></thead><tbody><tr><td>The food and service were unacceptable. The concierge was nice, however.</td><td>mixed</td></tr><tr><td>It taste great.</td><td>positive</td></tr></tbody></table></div>"
      ]
     },
     "metadata": {
      "application/vnd.databricks.v1+output": {
       "addedWidgets": {},
       "aggData": [],
       "aggError": "",
       "aggOverflow": false,
       "aggSchema": [],
       "aggSeriesLimitReached": false,
       "aggType": "",
       "arguments": {},
       "columnCustomDisplayInfos": {},
       "data": [
        [
         "The food and service were unacceptable. The concierge was nice, however.",
         "mixed"
        ],
        [
         "It taste great.",
         "positive"
        ]
       ],
       "datasetInfos": [],
       "dbfsResultPath": null,
       "isJsonSchema": true,
       "metadata": {},
       "overflow": false,
       "plotOptions": {
        "customPlotOptions": {},
        "displayType": "table",
        "pivotAggregation": null,
        "pivotColumns": null,
        "xColumns": null,
        "yColumns": null
       },
       "removedWidgets": [],
       "schema": [
        {
         "metadata": "{}",
         "name": "text",
         "type": "\"string\""
        },
        {
         "metadata": "{}",
         "name": "sentiment",
         "type": "\"string\""
        }
       ],
       "type": "table"
      }
     },
     "output_type": "display_data"
    }
   ],
   "source": [
    "df = spark.createDataFrame(\n",
    "    data=[\n",
    "        [\"The food and service were unacceptable. The concierge was nice, however.\"],\n",
    "        [\"It taste great.\"]\n",
    "    ],\n",
    "    schema=[\"text\"],\n",
    ")\n",
    "\n",
    "sentiment_analysis = (\n",
    "    AnalyzeText()\n",
    "    .setKind(\"SentimentAnalysis\")\n",
    "    .setLocation(ai_service_location)\n",
    "    .setSubscriptionKey(ai_service_key)\n",
    "    .setTextCol(\"text\")\n",
    "    .setOutputCol(\"sentiment_analysis\")\n",
    "    .setErrorCol(\"error\")\n",
    ")\n",
    "\n",
    "df_results = sentiment_analysis.transform(df)\n",
    "display(df_results.select(\"text\",\"sentiment_analysis.documents.sentiment\"))"
   ]
  }
 ],
 "metadata": {
  "application/vnd.databricks.v1+notebook": {
   "dashboards": [],
   "language": "python",
   "notebookMetadata": {
    "pythonIndentUnit": 2
   },
   "notebookName": "QuickStart -AnalyzeText",
   "widgets": {}
  }
 },
 "nbformat": 4,
 "nbformat_minor": 0
}
