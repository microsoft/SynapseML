{
 "cells": [
  {
   "cell_type": "markdown",
   "id": "6b268f55-cda1-49c1-ae84-0d6f38d0946a",
   "metadata": {
    "nteract": {
     "transient": {
      "deleting": false
     }
    }
   },
   "source": [
    "# Chat Completion with Azure AI Foundry model\n",
    "\n",
    "[Azure AI Foundry](https://learn.microsoft.com/en-us/azure/ai-foundry/what-is-azure-ai-foundry) enables the execution of a wide range of natural language tasks using the Completion API. Its integration with SynapseML simplifies leveraging the Apache Spark distributed computing framework to handle large volumes of prompts across various models, including those from Deepseek, Meta, Microsoft, xAI, and others. For a full list of [supported models](https://learn.microsoft.com/en-us/azure/ai-foundry/foundry-models/concepts/models), refer to Azure AI Foundry documentation.\n",
    "Note: To use OpenAI models, integration is available through the OpenAIChatCompletion class. Refer to the relevant documentation for details on [using OpenAI models](https://microsoft.github.io/SynapseML/docs/Explore%20Algorithms/OpenAI/).\n"
   ]
  },
  {
   "cell_type": "markdown",
   "id": "3f705336-0fd0-4b08-930a-1c5f7aa684de",
   "metadata": {
    "nteract": {
     "transient": {
      "deleting": false
     }
    }
   },
   "source": [
    "## Prerequisites\n",
    "The key prerequisites for this quickstart include \n",
    "\n",
    "- An [Azure subscription](https://azure.microsoft.com/en-us/pricing/purchase-options/azure-account)\n",
    "\n",
    "- A working Azure AI Foundry project resource and a model deployed\n",
    "    * Sign in to the [Azure AI foundry portal](https://ai.azure.com/)\n",
    "    * Select a chat completion model. We use Phi-4-mini-instruct model as an example. \n",
    "\n",
    "        <img src=\"https://mmlspark.blob.core.windows.net/graphics/phi_4.png\" width=\"500\" />\n",
    "    \n",
    "    * On the model details page, select Use this model.\n",
    "    * Fill in a name to use for your project and select Create.\n",
    "\n",
    "- An Apache Spark cluster with SynapseML installed."
   ]
  },
  {
   "cell_type": "markdown",
   "id": "75ad6753-02ee-4190-b993-4825a76d5f07",
   "metadata": {
    "nteract": {
     "transient": {
      "deleting": false
     }
    }
   },
   "source": [
    "# Fill in service information\n",
    "Next, edit the cell in the notebook to point to your service. \n",
    "\n",
    "In particular set the service_name, api_version to match them to your AI Foundry model.\n",
    "To get your service_name, api_version and api_key, Select My Asset, Find Target URI. API version is also in target URI.\n",
    "\n",
    "<img src=\"https://mmlspark.blob.core.windows.net/graphics/phi_4_2.png\" width=\"500\" />\n",
    "\n"
   ]
  },
  {
   "cell_type": "code",
   "execution_count": null,
   "id": "d65e5ef6-dc64-44e4-ae59-10ed8d8c1811",
   "metadata": {
    "microsoft": {
     "language": "python",
     "language_group": "synapse_pyspark"
    }
   },
   "outputs": [],
   "source": [
    "from synapse.ml.core.platform import find_secret\n",
    "\n",
    "# Fill in the following lines with your service information\n",
    "service_name = \"synapseml-ai-foundry-resource\"\n",
    "api_verion = \"2024-05-01-preview\"\n",
    "model = \"Phi-4-mini-instruct\"\n",
    "api_key = find_secret(\n",
    "    secret_name=\"synapseml-ai-foundry-resource-key\", keyvault=\"mmlspark-build-keys\"\n",
    ")  # please replace this line with your key as a string\n",
    "\n",
    "assert api_key is not None and service_name is not None"
   ]
  },
  {
   "cell_type": "markdown",
   "id": "886323f0-22c9-49c9-9c26-ca164c273c04",
   "metadata": {
    "microsoft": {
     "language": "python",
     "language_group": "synapse_pyspark"
    },
    "nteract": {
     "transient": {
      "deleting": false
     }
    }
   },
   "source": [
    "## Chat Completion\n",
    "\n",
    "Models such as Phi-4 and llama are capable of understanding chats instead of single prompts. The `AIFoundryChatCompletion` transformer exposes this functionality at scale."
   ]
  },
  {
   "cell_type": "code",
   "execution_count": null,
   "id": "d4491222-78c6-4136-8711-8f837915b2a9",
   "metadata": {
    "collapsed": false,
    "microsoft": {
     "language": "python",
     "language_group": "synapse_pyspark"
    }
   },
   "outputs": [],
   "source": [
    "from synapse.ml.services.aifoundry import AIFoundryChatCompletion\n",
    "from pyspark.sql import Row\n",
    "from pyspark.sql.types import *\n",
    "\n",
    "\n",
    "def make_message(role, content):\n",
    "    return Row(role=role, content=content, name=role)\n",
    "\n",
    "\n",
    "chat_df = spark.createDataFrame(\n",
    "    [\n",
    "        (\n",
    "            [\n",
    "                make_message(\n",
    "                    \"system\", \"You are an AI chatbot with red as your favorite color\"\n",
    "                ),\n",
    "                make_message(\"user\", \"Whats your favorite color\"),\n",
    "            ],\n",
    "        ),\n",
    "        (\n",
    "            [\n",
    "                make_message(\"system\", \"You are very excited\"),\n",
    "                make_message(\"user\", \"How are you today\"),\n",
    "            ],\n",
    "        ),\n",
    "    ]\n",
    ").toDF(\"messages\")\n",
    "\n",
    "\n",
    "chat_completion = (\n",
    "    AIFoundryChatCompletion()\n",
    "    .setSubscriptionKey(api_key)\n",
    "    .setCustomServiceName(service_name)\n",
    "    .setModel(model)\n",
    "    .setApiVersion(\"2024-05-01-preview\")\n",
    "    .setMessagesCol(\"messages\")\n",
    "    .setErrorCol(\"error\")\n",
    "    .setOutputCol(\"chat_completions\")\n",
    ")\n",
    "\n",
    "display(\n",
    "    chat_completion.transform(chat_df).select(\n",
    "        \"messages\", \"chat_completions.choices.message.content\"\n",
    "    )\n",
    ")"
   ]
  }
 ],
 "metadata": {
  "a365ComputeOptions": null,
  "dependencies": {
   "lakehouse": null
  },
  "kernel_info": {
   "name": "synapse_pyspark"
  },
  "kernelspec": {
   "display_name": "synapse_pyspark",
   "language": null,
   "name": "synapse_pyspark"
  },
  "language_info": {
   "name": "python"
  },
  "microsoft": {
   "language": "python",
   "language_group": "synapse_pyspark",
   "ms_spell_check": {
    "ms_spell_check_language": "en"
   }
  },
  "nteract": {
   "version": "nteract-front-end@1.0.0"
  },
  "sessionKeepAliveTimeout": 0,
  "spark_compute": {
   "compute_id": "/trident/default",
   "session_options": {
    "conf": {
     "spark.synapse.nbs.session.timeout": "1200000"
    }
   }
  },
  "synapse_widget": {
   "state": {},
   "version": "0.1"
  }
 },
 "nbformat": 4,
 "nbformat_minor": 5
}
