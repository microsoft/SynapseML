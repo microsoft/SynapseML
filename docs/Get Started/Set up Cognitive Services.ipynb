{
 "cells": [
  {
   "cell_type": "markdown",
   "metadata": {},
   "source": [
    "# Setting up Cognitive Services and Azure OpenAI resources for SynapseML \n",
    "\n",
    "In order to use SynapseML's OpenAI or Cognitive Services features, specific Azure resources are required. This documentation walks you through the process of setting up these resources and acquiring the necessary credentials."
   ]
  },
  {
   "cell_type": "markdown",
   "metadata": {
    "tags": [
     "azure-prerequisites"
    ]
   },
   "source": [
    "First, create an Azure subscription to create resources.\n",
    "* A valid Azure subscription - [Create one for free](https://azure.microsoft.com/free/cognitive-services/)."
   ]
  },
  {
   "cell_type": "markdown",
   "metadata": {},
   "source": [
    "## Azure OpenAI\n",
    "\n",
    "The [Azure OpenAI service](https://azure.microsoft.com/products/cognitive-services/openai-service/) can be used to solve a large number of natural language tasks through prompting the completion API. To make it easier to scale your prompting workflows from a few examples to large datasets of examples, we have integrated the Azure OpenAI service with the distributed machine learning library SynapseML. This integration makes it easy to use the Apache Spark distributed computing framework to process millions of prompts with the OpenAI service."
   ]
  },
  {
   "cell_type": "markdown",
   "metadata": {
    "tags": [
     "openai-prerequisites"
    ]
   },
   "source": [
    "To set up your Azure OpenAI Resource for SynapseML usage you need to: \n",
    "* [Apply for access to Azure OpenAI](https://aka.ms/oai/access) if you do not already have access. \n",
    "* [Create an Azure OpenAI resource](https://docs.microsoft.com/azure/cognitive-services/openai/how-to/create-resource?pivots=web-portal#create-a-resource) \n",
    "* Get your Azure OpenAI resource's key. After your resource is successfully deployed, select **Next Steps** > **Go to resource**. Once at the resource, you can get the key from **Resource Management** > **Keys and Endpoint**. Copy the key and paste it into the notebook. Store keys securely and do not share them. "
   ]
  },
  {
   "cell_type": "markdown",
   "metadata": {},
   "source": [
    "## Cognitive Services"
   ]
  },
  {
   "cell_type": "markdown",
   "metadata": {
    "tags": [
     "cognitive-services-prerequisites"
    ]
   },
   "source": [
    "To set up [Cognitive Services](https://azure.microsoft.com/products/cognitive-services/) for use with SynapseML you first need to:\n",
    "* [Assign yourself the Cognitive Services Contributor role](https://learn.microsoft.com/azure/role-based-access-control/role-assignments-steps) to agree to the responsible AI terms and create a resource. \n",
    "* [Create an Azure Cognitive multi-service (Decision, Language, Speech, Vision) resource](https://portal.azure.com/#create/Microsoft.CognitiveServicesAllInOne). Alternatively, you can follow the steps to [create Single-service resource](https://learn.microsoft.com/en-us/azure/cognitive-services/cognitive-services-apis-create-account?tabs=decision%2Canomaly-detector%2Clanguage-service%2Ccomputer-vision%2Cwindows#create-a-new-azure-cognitive-services-resource). \n",
    "* Get your Cognitive Service resource's key. After your resource is successfully deployed, select **Next Steps** > **Go to resource**. Once at the resource, you can get the key from **Resource Management** > **Keys and Endpoint**. Copy the key and paste it into the notebook. Store keys securely and do not share them. "
   ]
  },
  {
   "cell_type": "markdown",
   "metadata": {},
   "source": [
    "## Manage secrets with Azure Key Vault and access the secrets with find_secret"
   ]
  },
  {
   "cell_type": "markdown",
   "metadata": {},
   "source": [
    "After you create an Azure AI resource, you will obtain a resource key. You can use the resource key string to validate your subscription for a service, but it is highly recommended to manage it with Azure Key Vault. Azure Key Vault is a cloud-based service that allows you to store and manage cryptographic keys, certificates, and secrets used by cloud applications and services.\n",
    "\n",
    "You can skip the following content if you want to use a secret string instead of Azure Key Vault. (Do not recommend.)"
   ]
  },
  {
   "cell_type": "markdown",
   "metadata": {},
   "source": [
    "### Create Azure Key Vault\n",
    "\n",
    "Refer to [this article](https://learn.microsoft.com/azure/key-vault/general/quick-create-portal) to create a key vault using Azure Portal"
   ]
  },
  {
   "cell_type": "markdown",
   "metadata": {},
   "source": [
    "### Save secret to Azure Key Vault\n",
    "\n",
    "- Go to Access control (IAM) and assign **Key Vault Administrator Role** to yourself.\n",
    "- Go to Secrets and choose **+ Generate/Import**, create a key with the secret value obtained from Azure AI service.\n",
    "- Choose **Create**."
   ]
  },
  {
   "cell_type": "markdown",
   "metadata": {},
   "source": [
    "### Use find_secret on Azure Databricks\n",
    "\n",
    "- On Azure Portal, find and select the Azure Key Vault Instance. Select the **Access configuration** tab under Settings. Set Permission model to Vault access policy.\n",
    "- On Databricks, go to `https://<databricks-instance>#secrets/createScope`. This URL is case sensitive.\n",
    " \n",
    "\n",
    "<img src=\"https://mmlspark.blob.core.windows.net/graphics/adb_create_secret_scope.png\" width=\"600\" style=\"float: center;\"/>\n",
    "\n",
    "\n",
    "\n",
    "- Enter the name of the secret scope and choose desired Manage Principal.\n",
    "- Go to your Azure Key Vault -> Properties and find the **DNS Name** (Vault URI on Azure Key Vault) and **Resource ID**. Enter the DNS Name and Resource ID on Databricks createScope page.\n",
    "\n",
    "\n",
    "<img src=\"https://mmlspark.blob.core.windows.net/graphics/adb_find_resource_id.png\" width=\"600\" style=\"float: center;\"/>\n",
    "\n",
    "\n",
    "- Click the **Create** Button.\n",
    " \n",
    "\n",
    "Refer to [this article](https://learn.microsoft.com/azure/databricks/security/secrets/secret-scopes#--create-an-azure-key-vault-backed-secret-scope) for more details.\n"
   ]
  },
  {
   "cell_type": "markdown",
   "metadata": {},
   "source": [
    "### Use find_secret on Synapse\n",
    "\n",
    "- Open the Synapse Studio and go to the Manage tab.\n",
    "- Under External connections, select Linked services.\n",
    "- To add a linked service, select New.\n",
    "- Select the Azure Key Vault tile from the list and select Continue.\n",
    "- Enter a linked service name and choose the key vault you want to connect to.\n",
    "- Select Create\n",
    "- Click Publish\n",
    "\n",
    "\n",
    "- Go to Azure Key Vault, Select Access control (IAM), Select **+ Add**, Add role assignment.\n",
    "- Choose **Key Vault Administrator** in Role blade, select Next.\n",
    "- In Members blade, choose Assign access to **Managed identity**. Select members, choose the subscription your Synapse Workspace in. For Managed identity, select Synapse workspace, choose your workspace.\n",
    "- Select **Review + assign**."
   ]
  },
  {
   "cell_type": "markdown",
   "metadata": {},
   "source": [
    "### Quick Test"
   ]
  },
  {
   "cell_type": "code",
   "execution_count": null,
   "metadata": {
    "vscode": {
     "languageId": "plaintext"
    }
   },
   "outputs": [],
   "source": [
    "from synapse.ml.services.language import AnalyzeText\n",
    "from synapse.ml.core.platform import find_secret\n",
    "\n",
    "ai_service_key = find_secret(\n",
    "    secret_name=\"your_secret_name_from_azure_key_vault\", keyvault=\"your_azure_key_vault_name\"\n",
    ")\n",
    "ai_service_location = \"eastus\" // use your own AI service location\n",
    "\n",
    "df = spark.createDataFrame(\n",
    "    data=[\n",
    "        [\"en\", \"Dr. Smith has a very modern medical office, and she has great staff.\"],\n",
    "        [\"en\", \"I had a wonderful trip to Seattle last week.\"],\n",
    "    ],\n",
    "    schema=[\"language\", \"text\"],\n",
    ")\n",
    "\n",
    "entity_recognition = (\n",
    "    AnalyzeText()\n",
    "    .setKind(\"EntityRecognition\")\n",
    "    .setLocation(ai_service_location)\n",
    "    .setSubscriptionKey(ai_service_key)\n",
    "    .setTextCol(\"text\")\n",
    "    .setOutputCol(\"entities\")\n",
    "    .setErrorCol(\"error\")\n",
    "    .setLanguageCol(\"language\")\n",
    ")\n",
    "\n",
    "df_results = entity_recognition.transform(df)\n",
    "display(df_results.select(\"language\", \"text\", \"entities.documents.entities\"))"
   ]
  },
  {
   "cell_type": "markdown",
   "metadata": {},
   "source": [
    "Your result should looks like\n",
    "| language         | text     | entities |\n",
    "|--------------|-----------|------------|\n",
    "| en           | Dr. Smith has a very modern medical office, and she has great staff.      | [{\"category\": \"Person\", \"confidenceScore\": 0.98, \"length\": 5, \"offset\": 4, \"subcategory\": null, \"text\": \"Smith\"}, {\"category\": \"Location\", \"confidenceScore\": 0.79, \"length\": 14, \"offset\": 28, \"subcategory\": \"Structural\", \"text\": \"medical office\"}, {\"category\": \"PersonType\", \"confidenceScore\": 0.85, \"length\": 5, \"offset\": 62, \"subcategory\": null, \"text\": \"staff\"}]        |\n",
    "| en           | I had a wonderful trip to Seattle last week.  | [{\"category\": \"Event\", \"confidenceScore\": 0.74, \"length\": 4, \"offset\": 18, \"subcategory\": null, \"text\": \"trip\"}, {\"category\": \"Location\", \"confidenceScore\": 1, \"length\": 7, \"offset\": 26, \"subcategory\": \"GPE\", \"text\": \"Seattle\"}, {\"category\": \"DateTime\", \"confidenceScore\": 0.8, \"length\": 9, \"offset\": 34, \"subcategory\": \"DateRange\", \"text\": \"last week\"}]       |"
   ]
  }
 ],
 "metadata": {
  "language_info": {
   "name": "python"
  },
  "orig_nbformat": 4
 },
 "nbformat": 4,
 "nbformat_minor": 2
}
